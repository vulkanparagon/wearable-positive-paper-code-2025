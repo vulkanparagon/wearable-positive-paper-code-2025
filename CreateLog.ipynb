{
 "cells": [
  {
   "cell_type": "code",
   "execution_count": 1,
   "id": "5674dbfe-cfa3-4825-84f7-9be9fc3cbbe5",
   "metadata": {
    "tags": []
   },
   "outputs": [
    {
     "name": "stdout",
     "output_type": "stream",
     "text": [
      "Log file 'processed_files.log' created with previously processed AVRO file paths.\n"
     ]
    }
   ],
   "source": [
    "import os\n",
    "\n",
    "# Base directory for output files\n",
    "output_dir_base = \"Processed_Output\"\n",
    "log_file = \"processed_files.log\"\n",
    "\n",
    "# Base directory for participant data (replace with your actual base directory)\n",
    "base_dir = \"Participant data (participant id,time)\"\n",
    "\n",
    "# Create or overwrite the log file\n",
    "with open(log_file, 'w') as log:\n",
    "    for root, dirs, files in os.walk(output_dir_base):\n",
    "        for file in files:\n",
    "            if file.endswith(\".csv\"):\n",
    "                # Extract participant ID and date from the output path\n",
    "                path_parts = root.split(os.sep)\n",
    "                if len(path_parts) >= 3:\n",
    "                    participant_id = path_parts[-2]\n",
    "                    date_folder = path_parts[-1]\n",
    "                    \n",
    "                    # Construct the corresponding AVRO file path\n",
    "                    avro_dir = os.path.join(base_dir, participant_id, date_folder, \"raw_data\", \"v6\")\n",
    "                    if os.path.exists(avro_dir):\n",
    "                        for avro_file in os.listdir(avro_dir):\n",
    "                            if avro_file.endswith(\".avro\"):\n",
    "                                avro_file_path = os.path.join(avro_dir, avro_file)\n",
    "                                avro_file_path = os.path.normpath(avro_file_path)\n",
    "                                log.write(avro_file_path + '\\n')\n",
    "\n",
    "print(f\"Log file '{log_file}' created with previously processed AVRO file paths.\")\n"
   ]
  },
  {
   "cell_type": "code",
   "execution_count": null,
   "id": "9afa5fe1-a61c-4392-bda5-d87ed0c9aca1",
   "metadata": {},
   "outputs": [],
   "source": []
  }
 ],
 "metadata": {
  "kernelspec": {
   "display_name": "Python",
   "language": "python",
   "name": "python3"
  },
  "language_info": {
   "codemirror_mode": {
    "name": "ipython",
    "version": 3
   },
   "file_extension": ".py",
   "mimetype": "text/x-python",
   "name": "python",
   "nbconvert_exporter": "python",
   "pygments_lexer": "ipython3",
   "version": "3.8.10"
  }
 },
 "nbformat": 4,
 "nbformat_minor": 5
}
