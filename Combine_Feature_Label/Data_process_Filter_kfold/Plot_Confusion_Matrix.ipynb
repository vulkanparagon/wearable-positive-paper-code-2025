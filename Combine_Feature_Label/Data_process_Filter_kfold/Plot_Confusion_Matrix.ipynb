{
 "cells": [
  {
   "cell_type": "code",
   "execution_count": 15,
   "id": "f7faa5d3-261f-4150-aeb7-488d79738f52",
   "metadata": {
    "tags": []
   },
   "outputs": [],
   "source": [
    "import pandas as pd\n",
    "\n",
    "# Replace with your actual test file path\n",
    "fold = \"1\"  # Change as needed\n",
    "test_file = f\"folds/fold_{fold}_test.csv\"\n",
    "test_data = pd.read_csv(test_file)\n",
    "\n",
    "# Identify label columns (slider-based labels)\n",
    "label_columns = [col for col in test_data.columns if \"slider\" in col]\n",
    "feature_columns = [col for col in test_data.columns if col not in label_columns + [\"Timestamp\", \"participant_id\"]]\n",
    "\n",
    "# Extract features and true labels\n",
    "X_test = test_data[feature_columns]\n"
   ]
  },
  {
   "cell_type": "code",
   "execution_count": 16,
   "id": "acffb655-c4f9-4513-84ee-ae898c14ba66",
   "metadata": {
    "tags": []
   },
   "outputs": [],
   "source": [
    "import pickle\n",
    "\n",
    "# Load the Random Forest model for a specific label\n",
    "label_name = label_columns[0]  # Change if using multiple labels\n",
    "rf_model_path = f\"folds_original_models/fold_{fold}/models/{label_name}/random_forest/random_forest_{label_name}.pkl\"\n",
    "\n",
    "with open(rf_model_path, \"rb\") as f:\n",
    "    rf_model = pickle.load(f)\n",
    "\n",
    "# Generate Predictions\n",
    "y_test = test_data[label_name]  # Ground truth labels\n",
    "y_pred = rf_model.predict(X_test)\n"
   ]
  },
  {
   "cell_type": "code",
   "execution_count": 24,
   "id": "4d807738-254a-412c-b5b2-47b2dea2d10a",
   "metadata": {
    "tags": []
   },
   "outputs": [
    {
     "name": "stdout",
     "output_type": "stream",
     "text": [
      "34/34 [==============================] - 2s 35ms/step\n"
     ]
    }
   ],
   "source": [
    "import pickle\n",
    "\n",
    "lstm_model_path = f\"folds_original_models/fold_{fold}/models/{label_name}/lstm/lstm_model_{label_name}.h5\"\n",
    "lstm_model = load_model(lstm_model_path)\n",
    "\n",
    "# Reshape data for LSTM (assuming 1D input)\n",
    "X_test_lstm = np.expand_dims(X_test, axis=2)\n",
    "\n",
    "# Generate Predictions\n",
    "y_probs_lstm = lstm_model.predict(X_test_lstm)\n",
    "y_pred_lstm = y_probs_lstm.argmax(axis=1)\n"
   ]
  },
  {
   "cell_type": "code",
   "execution_count": 17,
   "id": "40346554-df4e-49ba-bd4e-d107da5b940d",
   "metadata": {
    "tags": []
   },
   "outputs": [
    {
     "name": "stderr",
     "output_type": "stream",
     "text": [
      "2025-02-26 21:26:46.049768: I tensorflow/core/util/port.cc:111] oneDNN custom operations are on. You may see slightly different numerical results due to floating-point round-off errors from different computation orders. To turn them off, set the environment variable `TF_ENABLE_ONEDNN_OPTS=0`.\n",
      "2025-02-26 21:26:46.077314: E tensorflow/compiler/xla/stream_executor/cuda/cuda_dnn.cc:9342] Unable to register cuDNN factory: Attempting to register factory for plugin cuDNN when one has already been registered\n",
      "2025-02-26 21:26:46.077335: E tensorflow/compiler/xla/stream_executor/cuda/cuda_fft.cc:609] Unable to register cuFFT factory: Attempting to register factory for plugin cuFFT when one has already been registered\n",
      "2025-02-26 21:26:46.077375: E tensorflow/compiler/xla/stream_executor/cuda/cuda_blas.cc:1518] Unable to register cuBLAS factory: Attempting to register factory for plugin cuBLAS when one has already been registered\n",
      "2025-02-26 21:26:46.084907: I tensorflow/core/platform/cpu_feature_guard.cc:182] This TensorFlow binary is optimized to use available CPU instructions in performance-critical operations.\n",
      "To enable the following instructions: AVX2 AVX512F AVX512_VNNI AVX512_BF16 FMA, in other operations, rebuild TensorFlow with the appropriate compiler flags.\n",
      "2025-02-26 21:26:46.877777: W tensorflow/compiler/tf2tensorrt/utils/py_utils.cc:38] TF-TRT Warning: Could not find TensorRT\n"
     ]
    },
    {
     "name": "stdout",
     "output_type": "stream",
     "text": [
      "34/34 [==============================] - 0s 3ms/step\n"
     ]
    }
   ],
   "source": [
    "from tensorflow.keras.models import load_model\n",
    "import numpy as np\n",
    "\n",
    "# Load CNN model\n",
    "cnn_model_path = f\"folds_original_models/fold_{fold}/models/{label_name}/cnn/cnn_model_{label_name}.h5\"\n",
    "cnn_model = load_model(cnn_model_path)\n",
    "\n",
    "# Reshape data for CNN (assuming 1D input)\n",
    "X_test_cnn = np.expand_dims(X_test, axis=2)\n",
    "\n",
    "# Generate Predictions\n",
    "y_probs_cnn = cnn_model.predict(X_test_cnn)\n",
    "y_pred_cnn = y_probs_cnn.argmax(axis=1)\n"
   ]
  },
  {
   "cell_type": "code",
   "execution_count": 22,
   "id": "b9410915-af8f-4e3c-8a6a-b35024ccf5ba",
   "metadata": {
    "tags": []
   },
   "outputs": [
    {
     "ename": "ModuleNotFoundError",
     "evalue": "No module named 'seaborn'",
     "output_type": "error",
     "traceback": [
      "\u001b[0;31m---------------------------------------------------------------------------\u001b[0m",
      "\u001b[0;31mModuleNotFoundError\u001b[0m                       Traceback (most recent call last)",
      "Cell \u001b[0;32mIn[22], line 1\u001b[0m\n\u001b[0;32m----> 1\u001b[0m \u001b[38;5;28;01mimport\u001b[39;00m\u001b[38;5;250m \u001b[39m\u001b[38;5;21;01mseaborn\u001b[39;00m\u001b[38;5;250m \u001b[39m\u001b[38;5;28;01mas\u001b[39;00m\u001b[38;5;250m \u001b[39m\u001b[38;5;21;01msns\u001b[39;00m\n\u001b[1;32m      2\u001b[0m \u001b[38;5;28;01mimport\u001b[39;00m\u001b[38;5;250m \u001b[39m\u001b[38;5;21;01mmatplotlib\u001b[39;00m\u001b[38;5;21;01m.\u001b[39;00m\u001b[38;5;21;01mpyplot\u001b[39;00m\u001b[38;5;250m \u001b[39m\u001b[38;5;28;01mas\u001b[39;00m\u001b[38;5;250m \u001b[39m\u001b[38;5;21;01mplt\u001b[39;00m\n\u001b[1;32m      3\u001b[0m \u001b[38;5;28;01mfrom\u001b[39;00m\u001b[38;5;250m \u001b[39m\u001b[38;5;21;01msklearn\u001b[39;00m\u001b[38;5;21;01m.\u001b[39;00m\u001b[38;5;21;01mmetrics\u001b[39;00m\u001b[38;5;250m \u001b[39m\u001b[38;5;28;01mimport\u001b[39;00m confusion_matrix\n",
      "\u001b[0;31mModuleNotFoundError\u001b[0m: No module named 'seaborn'"
     ]
    }
   ],
   "source": [
    "import seaborn as sns\n",
    "import matplotlib.pyplot as plt\n",
    "from sklearn.metrics import confusion_matrix\n",
    "\n",
    "def plot_confusion_matrix(y_true, y_pred, model_name, label_name):\n",
    "    cm = confusion_matrix(y_true, y_pred)\n",
    "\n",
    "    plt.figure(figsize=(8, 6))\n",
    "    sns.heatmap(cm, annot=True, fmt=\"d\", cmap=\"Blues\", xticklabels=set(y_true), yticklabels=set(y_true))\n",
    "    plt.xlabel(\"Predicted Labels\")\n",
    "    plt.ylabel(\"True Labels\")\n",
    "    plt.title(f\"Confusion Matrix for {model_name} ({label_name})\")\n",
    "    plt.show()\n",
    "\n",
    "# Example: Plot for Random Forest\n",
    "plot_confusion_matrix(y_test, y_pred, \"Random Forest\", label_name)\n",
    "\n",
    "# Example: Plot for CNN\n",
    "plot_confusion_matrix(y_test, y_pred_cnn, \"CNN\", label_name)\n"
   ]
  },
  {
   "cell_type": "code",
   "execution_count": 25,
   "id": "c9ec1974-a997-4091-aa01-8970c0dc6850",
   "metadata": {
    "tags": []
   },
   "outputs": [
    {
     "name": "stdout",
     "output_type": "stream",
     "text": [
      "Saved predictions as CSV files.\n"
     ]
    }
   ],
   "source": [
    "import pandas as pd\n",
    "\n",
    "# Save Random Forest predictions\n",
    "rf_predictions_df = pd.DataFrame({\"y_true\": y_test, \"y_pred\": y_pred})\n",
    "rf_predictions_df.to_csv(\"rf_predictions.csv\", index=False)\n",
    "\n",
    "# Save CNN predictions (if applicable)\n",
    "cnn_predictions_df = pd.DataFrame({\"y_true\": y_test, \"y_pred\": y_pred_cnn})\n",
    "cnn_predictions_df.to_csv(\"cnn_predictions.csv\", index=False)\n",
    "\n",
    "# Save LSTM predictions (if applicable)\n",
    "lstm_predictions_df = pd.DataFrame({\"y_true\": y_test, \"y_pred\": y_pred_lstm})\n",
    "lstm_predictions_df.to_csv(\"lstm_predictions.csv\", index=False)\n",
    "\n",
    "print(\"Saved predictions as CSV files.\")\n"
   ]
  },
  {
   "cell_type": "code",
   "execution_count": null,
   "id": "df895116-ca7b-4793-8753-96afd625540e",
   "metadata": {},
   "outputs": [],
   "source": []
  }
 ],
 "metadata": {
  "kernelspec": {
   "display_name": "Python",
   "language": "python",
   "name": "python3"
  },
  "language_info": {
   "codemirror_mode": {
    "name": "ipython",
    "version": 3
   },
   "file_extension": ".py",
   "mimetype": "text/x-python",
   "name": "python",
   "nbconvert_exporter": "python",
   "pygments_lexer": "ipython3",
   "version": "3.10.12"
  }
 },
 "nbformat": 4,
 "nbformat_minor": 5
}
