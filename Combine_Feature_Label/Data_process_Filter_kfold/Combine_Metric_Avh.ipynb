{
 "cells": [
  {
   "cell_type": "code",
   "execution_count": 3,
   "id": "39190b8d-1293-4a70-b1e8-b691dd61927d",
   "metadata": {
    "tags": []
   },
   "outputs": [
    {
     "name": "stdout",
     "output_type": "stream",
     "text": [
      "Results saved to Combined_model_performance_results.csv\n"
     ]
    }
   ],
   "source": [
    "import pandas as pd\n",
    "\n",
    "\n",
    "# File paths\n",
    "file_paths = {\n",
    "    \"fold_transformed_LGBM_XGB\": \"fold_transformed_LGBM_XGB_model_performance_results.csv\",\n",
    "    \"fold_model_transformed\": \"fold_model_transformed_performance_results.csv\",\n",
    "    \"fold_LGBM_XGB\": \"fold__LGBM_XGB_model_performance_results.csv\",\n",
    "    \"fold_model\": \"fold_model_performance_results.csv\"\n",
    "}\n",
    "\n",
    "# Load data\n",
    "dataframes = {name: pd.read_csv(path) for name, path in file_paths.items()}\n",
    "\n",
    "# Standardize dataset column names and assign default values for missing datasets\n",
    "for key, df in dataframes.items():\n",
    "    if \"Data Type\" in df.columns:\n",
    "        df.rename(columns={\"Data Type\": \"Dataset\"}, inplace=True)\n",
    "    elif \"DataType\" in df.columns:\n",
    "        df.rename(columns={\"DataType\": \"Dataset\"}, inplace=True)\n",
    "    else:\n",
    "        df[\"Dataset\"] = \"original\"  # Assign \"original\" to missing dataset types\n",
    "    \n",
    "    # Rename \"RF\" to \"Random Forest\"\n",
    "    df[\"Model\"] = df[\"Model\"].replace(\"RF\", \"Random Forest\")\n",
    "\n",
    "# Define relevant metric columns\n",
    "metric_columns = [\"accuracy\", \"precision\", \"recall\", \"f1_score\", \"threshold_accuracy\", \"top_3_accuracy\"]\n",
    "\n",
    "# Function to process each dataframe\n",
    "def process_dataframe(df):\n",
    "    # Calculate the mean of metrics across the 18 labels, grouped by Fold, Model, and Dataset type\n",
    "    avg_metrics = df.groupby([\"Fold\", \"Model\", \"Dataset\"])[metric_columns].mean().reset_index()\n",
    "    return avg_metrics\n",
    "\n",
    "# Process all files\n",
    "processed_dfs = {key: process_dataframe(df) for key, df in dataframes.items()}\n",
    "\n",
    "# Concatenate all processed dataframes\n",
    "all_data = pd.concat(processed_dfs.values(), ignore_index=True)\n",
    "\n",
    "# Compute the mean and standard deviation across 5 folds for each Model-Dataset combination\n",
    "final_results = all_data.groupby([\"Model\", \"Dataset\"])[metric_columns].agg([\"mean\", \"std\"]).reset_index()\n",
    "\n",
    "# Reformat the results to show mean ± std directly in the same column\n",
    "final_results_formatted = final_results.copy()\n",
    "for metric in metric_columns:\n",
    "    final_results_formatted[(metric, \"mean±std\")] = final_results_formatted.apply(\n",
    "        lambda row: f\"{row[(metric, 'mean')]:.4f} ± {row[(metric, 'std')]:.4f}\", axis=1\n",
    "    )\n",
    "\n",
    "# Keep only the formatted columns\n",
    "formatted_columns = [(\"Model\", \"\"), (\"Dataset\", \"\")] + [(metric, \"mean±std\") for metric in metric_columns]\n",
    "final_results_formatted = final_results_formatted[formatted_columns]\n",
    "\n",
    "# Rename columns for clarity\n",
    "final_results_formatted.columns = [\"Model\", \"Dataset\"] + metric_columns\n",
    "\n",
    "# Save the results to a CSV file\n",
    "output_file = \"Combined_model_performance_results.csv\"\n",
    "final_results_formatted.to_csv(output_file, index=False)\n",
    "print(f\"Results saved to {output_file}\")"
   ]
  },
  {
   "cell_type": "code",
   "execution_count": null,
   "id": "d5746bf3-8c17-4d35-bde8-2de09b0e08cf",
   "metadata": {},
   "outputs": [],
   "source": []
  }
 ],
 "metadata": {
  "kernelspec": {
   "display_name": "Python",
   "language": "python",
   "name": "python3"
  },
  "language_info": {
   "codemirror_mode": {
    "name": "ipython",
    "version": 3
   },
   "file_extension": ".py",
   "mimetype": "text/x-python",
   "name": "python",
   "nbconvert_exporter": "python",
   "pygments_lexer": "ipython3",
   "version": "3.10.12"
  }
 },
 "nbformat": 4,
 "nbformat_minor": 5
}
