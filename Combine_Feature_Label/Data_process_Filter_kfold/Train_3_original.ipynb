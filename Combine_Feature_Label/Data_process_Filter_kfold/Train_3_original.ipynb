{
 "cells": [
  {
   "cell_type": "code",
   "execution_count": null,
   "id": "ad6e8435-f6cc-493a-bf68-64a704e9437a",
   "metadata": {
    "tags": []
   },
   "outputs": [],
   "source": [
    "# import os\n",
    "# import pickle\n",
    "# import pandas as pd\n",
    "# import numpy as np\n",
    "# from sklearn.ensemble import RandomForestClassifier\n",
    "# from sklearn.metrics import accuracy_score, classification_report, f1_score, precision_score, recall_score\n",
    "# from tensorflow.keras.models import Sequential\n",
    "# from tensorflow.keras.layers import Dense, Conv1D, Flatten, LSTM, Dropout\n",
    "# from tensorflow.keras.optimizers import Adam\n",
    "# from tqdm import tqdm  # For progress bars\n",
    "\n",
    "# # Helper function to calculate top-3 accuracy\n",
    "# def calculate_top3_accuracy(y_true, y_probs):\n",
    "#     top_3_preds = np.argsort(y_probs, axis=1)[:, -3:]\n",
    "#     matches = [y_true[i] in top_3_preds[i] for i in range(len(y_true))]\n",
    "#     return np.mean(matches)\n",
    "\n",
    "# # Helper function to calculate threshold accuracy\n",
    "# def calculate_threshold_accuracy(y_true, y_pred):\n",
    "#     return np.mean(np.abs(y_true - y_pred) <= 1)\n",
    "\n",
    "# # Helper function to evaluate metrics\n",
    "# def evaluate_metrics(y_true, y_pred, y_probs=None):\n",
    "#     metrics = {\n",
    "#         'accuracy': accuracy_score(y_true, y_pred),\n",
    "#         'precision': precision_score(y_true, y_pred, average='weighted', zero_division=0),\n",
    "#         'recall': recall_score(y_true, y_pred, average='weighted', zero_division=0),\n",
    "#         'f1_score': f1_score(y_true, y_pred, average='weighted'),\n",
    "#         'classification_report': classification_report(y_true, y_pred, zero_division=0),\n",
    "#         'threshold_accuracy': calculate_threshold_accuracy(y_true, y_pred)\n",
    "#     }\n",
    "#     if y_probs is not None:\n",
    "#         metrics['top_3_accuracy'] = calculate_top3_accuracy(y_true, y_probs)\n",
    "#     return metrics\n",
    "\n",
    "# # Helper function to load dataset\n",
    "# def load_data(file_path):\n",
    "#     print(f\"Loading data from: {file_path}\")\n",
    "#     data = pd.read_csv(file_path)\n",
    "#     label_columns = [col for col in data.columns if \"slider\" in col]\n",
    "#     feature_columns = [col for col in data.columns if col not in label_columns + [\"Timestamp\", \"participant_id\"]]\n",
    "#     X = data[feature_columns]\n",
    "#     return X, label_columns, data\n",
    "\n",
    "# # Function to train models per label\n",
    "# def train_model_per_label(X_train, y_train, X_test, y_test, model_save_path, label_name, model_type=\"rf\"):\n",
    "#     os.makedirs(model_save_path, exist_ok=True)\n",
    "    \n",
    "#     if model_type == \"rf\":\n",
    "#         model = RandomForestClassifier(random_state=42, n_jobs=-1)\n",
    "#         model.fit(X_train, y_train)\n",
    "#         y_pred = model.predict(X_test)\n",
    "#         y_probs = model.predict_proba(X_test) if hasattr(model, 'predict_proba') else None\n",
    "#         with open(os.path.join(model_save_path, f\"random_forest_{label_name}.pkl\"), \"wb\") as f:\n",
    "#             pickle.dump(model, f)\n",
    "#     else:\n",
    "#         input_shape = (X_train.shape[1], 1)\n",
    "#         X_train, X_test = np.expand_dims(X_train, axis=2), np.expand_dims(X_test, axis=2)\n",
    "#         model = Sequential([\n",
    "#             Conv1D(64, kernel_size=3, activation=\"relu\", input_shape=input_shape),\n",
    "#             Conv1D(32, kernel_size=3, activation=\"relu\"),\n",
    "#             Flatten(),\n",
    "#             Dense(128, activation=\"relu\"),\n",
    "#             Dropout(0.3),\n",
    "#             Dense(11, activation=\"softmax\")\n",
    "#         ])\n",
    "#         model.compile(optimizer=Adam(0.001), loss=\"sparse_categorical_crossentropy\", metrics=[\"accuracy\"])\n",
    "#         model.fit(X_train, y_train, epochs=10, batch_size=32, verbose=1)\n",
    "#         model.save(os.path.join(model_save_path, f\"cnn_model_{label_name}.h5\"))\n",
    "#         y_probs = model.predict(X_test)\n",
    "#         y_pred = y_probs.argmax(axis=1)\n",
    "    \n",
    "#     return evaluate_metrics(y_test, y_pred, y_probs)\n",
    "\n",
    "# # Main training loop\n",
    "# def train_all_models(data_dir, root_dir):\n",
    "#     results = []\n",
    "#     folds = sorted(set(f.split(\"_\")[1] for f in os.listdir(data_dir) if f.endswith(\".csv\")))\n",
    "\n",
    "#     for fold in tqdm(folds, desc=\"Processing Folds\"):\n",
    "#         train_file = os.path.join(data_dir, f\"fold_{fold}_train.csv\")\n",
    "#         test_file = os.path.join(data_dir, f\"fold_{fold}_test.csv\")\n",
    "        \n",
    "#         if not os.path.exists(train_file) or not os.path.exists(test_file):\n",
    "#             print(f\"Skipping fold {fold}: Missing train or test data\")\n",
    "#             continue\n",
    "        \n",
    "#         X_train, label_columns, train_data = load_data(train_file)\n",
    "#         X_test, _, test_data = load_data(test_file)\n",
    "        \n",
    "#         for label_column in label_columns:\n",
    "#             y_train, y_test = train_data[label_column], test_data[label_column]\n",
    "#             fold_save_dir = os.path.join(root_dir, f\"fold_{fold}\", \"models\", label_column)\n",
    "#             os.makedirs(fold_save_dir, exist_ok=True)\n",
    "            \n",
    "#             rf_results = train_model_per_label(X_train, y_train, X_test, y_test, os.path.join(fold_save_dir, \"random_forest\"), label_column, \"rf\")\n",
    "#             results.append({\"Fold\": fold, \"Label\": label_column, \"Model\": \"Random Forest\", **rf_results})\n",
    "\n",
    "#             cnn_results = train_model_per_label(X_train, y_train, X_test, y_test, os.path.join(fold_save_dir, \"cnn\"), label_column, \"cnn\")\n",
    "#             results.append({\"Fold\": fold, \"Label\": label_column, \"Model\": \"CNN\", **cnn_results})\n",
    "\n",
    "#     results_df = pd.DataFrame(results)\n",
    "#     results_df.to_csv(\"fold_model_performance_results.csv\", index=False)\n",
    "#     print(\"Model training results saved to fold_model_performance_results.csv\")\n",
    "\n",
    "# if __name__ == \"__main__\":\n",
    "#     data_dir = \"folds\"  # Adjust as needed\n",
    "#     root_dir = \"folds_original_models\"\n",
    "#     train_all_models(data_dir, root_dir)\n"
   ]
  },
  {
   "cell_type": "code",
   "execution_count": 3,
   "id": "61fe1870-1805-4b52-a343-332c7fac63f1",
   "metadata": {
    "tags": []
   },
   "outputs": [
    {
     "name": "stderr",
     "output_type": "stream",
     "text": [
      "Processing Folds:   0%|          | 0/5 [00:00<?, ?it/s]"
     ]
    },
    {
     "name": "stdout",
     "output_type": "stream",
     "text": [
      "Loading data from: folds/fold_1_train.csv\n",
      "Loading data from: folds/fold_1_test.csv\n",
      "Epoch 1/10\n",
      "134/134 [==============================] - 1s 6ms/step - loss: 2036706.7500 - accuracy: 0.1834\n",
      "Epoch 2/10\n",
      "134/134 [==============================] - 1s 6ms/step - loss: 2.3143 - accuracy: 0.2495\n",
      "Epoch 3/10\n",
      "134/134 [==============================] - 1s 6ms/step - loss: 2.2604 - accuracy: 0.2551\n",
      "Epoch 4/10\n",
      "134/134 [==============================] - 1s 6ms/step - loss: 2.2162 - accuracy: 0.2551\n",
      "Epoch 5/10\n",
      "134/134 [==============================] - 1s 6ms/step - loss: 2.1812 - accuracy: 0.2549\n",
      "Epoch 6/10\n",
      "134/134 [==============================] - 1s 6ms/step - loss: 2.1527 - accuracy: 0.2551\n",
      "Epoch 7/10\n",
      "134/134 [==============================] - 1s 6ms/step - loss: 2.1304 - accuracy: 0.2551\n",
      "Epoch 8/10\n",
      "134/134 [==============================] - 1s 6ms/step - loss: 2.1128 - accuracy: 0.2551\n",
      "Epoch 9/10\n",
      "134/134 [==============================] - 1s 6ms/step - loss: 2.0989 - accuracy: 0.2551\n",
      "Epoch 10/10\n",
      "134/134 [==============================] - 1s 6ms/step - loss: 2.0883 - accuracy: 0.2549\n",
      "34/34 [==============================] - 0s 2ms/step\n"
     ]
    },
    {
     "name": "stderr",
     "output_type": "stream",
     "text": [
      "/usr/local/lib/python3.10/dist-packages/keras/src/engine/training.py:3079: UserWarning: You are saving your model as an HDF5 file via `model.save()`. This file format is considered legacy. We recommend using instead the native Keras format, e.g. `model.save('my_model.keras')`.\n",
      "  saving_api.save_model(\n"
     ]
    },
    {
     "name": "stdout",
     "output_type": "stream",
     "text": [
      "Epoch 1/10\n",
      "134/134 [==============================] - 19s 127ms/step - loss: 2.0958 - accuracy: 0.2422\n",
      "Epoch 2/10\n",
      "134/134 [==============================] - 17s 127ms/step - loss: 2.0286 - accuracy: 0.2434\n",
      "Epoch 3/10\n",
      "134/134 [==============================] - 15s 109ms/step - loss: 2.0051 - accuracy: 0.2504\n",
      "Epoch 4/10\n",
      "134/134 [==============================] - 15s 109ms/step - loss: 1.9997 - accuracy: 0.2457\n",
      "Epoch 5/10\n",
      "134/134 [==============================] - 16s 116ms/step - loss: 1.9839 - accuracy: 0.2530\n",
      "Epoch 6/10\n",
      "134/134 [==============================] - 13s 95ms/step - loss: 1.9752 - accuracy: 0.2434\n",
      "Epoch 7/10\n",
      "134/134 [==============================] - 13s 96ms/step - loss: 1.9684 - accuracy: 0.2422\n",
      "Epoch 8/10\n",
      "134/134 [==============================] - 14s 101ms/step - loss: 1.9481 - accuracy: 0.2607\n",
      "Epoch 9/10\n",
      "134/134 [==============================] - 16s 120ms/step - loss: 1.9341 - accuracy: 0.2645\n",
      "Epoch 10/10\n",
      "134/134 [==============================] - 16s 118ms/step - loss: 1.9214 - accuracy: 0.2792\n"
     ]
    },
    {
     "name": "stderr",
     "output_type": "stream",
     "text": [
      "/usr/local/lib/python3.10/dist-packages/keras/src/engine/training.py:3079: UserWarning: You are saving your model as an HDF5 file via `model.save()`. This file format is considered legacy. We recommend using instead the native Keras format, e.g. `model.save('my_model.keras')`.\n",
      "  saving_api.save_model(\n"
     ]
    },
    {
     "name": "stdout",
     "output_type": "stream",
     "text": [
      "34/34 [==============================] - 2s 35ms/step\n",
      "Epoch 1/10\n",
      "134/134 [==============================] - 1s 6ms/step - loss: 2694114.0000 - accuracy: 0.1927\n",
      "Epoch 2/10\n",
      "134/134 [==============================] - 1s 6ms/step - loss: 7.2243 - accuracy: 0.2101\n",
      "Epoch 3/10\n",
      "134/134 [==============================] - 1s 6ms/step - loss: 5.1173 - accuracy: 0.2122\n",
      "Epoch 4/10\n",
      "134/134 [==============================] - 1s 6ms/step - loss: 2.2273 - accuracy: 0.2202\n",
      "Epoch 5/10\n",
      "134/134 [==============================] - 1s 6ms/step - loss: 2.1960 - accuracy: 0.2356\n",
      "Epoch 6/10\n",
      "134/134 [==============================] - 1s 6ms/step - loss: 2.1714 - accuracy: 0.2356\n",
      "Epoch 7/10\n",
      "134/134 [==============================] - 1s 6ms/step - loss: 2.1523 - accuracy: 0.2356\n",
      "Epoch 8/10\n",
      "134/134 [==============================] - 1s 6ms/step - loss: 2.1373 - accuracy: 0.2356\n",
      "Epoch 9/10\n",
      "134/134 [==============================] - 1s 6ms/step - loss: 2.1258 - accuracy: 0.2356\n",
      "Epoch 10/10\n",
      "134/134 [==============================] - 1s 6ms/step - loss: 2.1170 - accuracy: 0.2356\n",
      "23/34 [===================>..........] - ETA: 0s"
     ]
    },
    {
     "name": "stderr",
     "output_type": "stream",
     "text": [
      "/usr/local/lib/python3.10/dist-packages/keras/src/engine/training.py:3079: UserWarning: You are saving your model as an HDF5 file via `model.save()`. This file format is considered legacy. We recommend using instead the native Keras format, e.g. `model.save('my_model.keras')`.\n",
      "  saving_api.save_model(\n"
     ]
    },
    {
     "name": "stdout",
     "output_type": "stream",
     "text": [
      "34/34 [==============================] - 0s 3ms/step\n",
      "Epoch 1/10\n",
      "134/134 [==============================] - 20s 127ms/step - loss: 2.1065 - accuracy: 0.2279\n",
      "Epoch 2/10\n",
      "134/134 [==============================] - 17s 125ms/step - loss: 2.0500 - accuracy: 0.2445\n",
      "Epoch 3/10\n",
      "134/134 [==============================] - 17s 126ms/step - loss: 2.0281 - accuracy: 0.2624\n",
      "Epoch 4/10\n",
      "134/134 [==============================] - 16s 122ms/step - loss: 2.0025 - accuracy: 0.2774\n",
      "Epoch 5/10\n",
      "134/134 [==============================] - 17s 125ms/step - loss: 1.9827 - accuracy: 0.2903\n",
      "Epoch 6/10\n",
      "134/134 [==============================] - 17s 126ms/step - loss: 1.9663 - accuracy: 0.2884\n",
      "Epoch 7/10\n",
      "134/134 [==============================] - 17s 127ms/step - loss: 1.9436 - accuracy: 0.3022\n",
      "Epoch 8/10\n",
      "134/134 [==============================] - 17s 126ms/step - loss: 1.9309 - accuracy: 0.3067\n",
      "Epoch 9/10\n",
      "134/134 [==============================] - 17s 127ms/step - loss: 1.9172 - accuracy: 0.3083\n",
      "Epoch 10/10\n",
      "134/134 [==============================] - 16s 122ms/step - loss: 1.9095 - accuracy: 0.3163\n"
     ]
    },
    {
     "name": "stderr",
     "output_type": "stream",
     "text": [
      "/usr/local/lib/python3.10/dist-packages/keras/src/engine/training.py:3079: UserWarning: You are saving your model as an HDF5 file via `model.save()`. This file format is considered legacy. We recommend using instead the native Keras format, e.g. `model.save('my_model.keras')`.\n",
      "  saving_api.save_model(\n"
     ]
    },
    {
     "name": "stdout",
     "output_type": "stream",
     "text": [
      "34/34 [==============================] - 2s 35ms/step\n",
      "Epoch 1/10\n",
      "134/134 [==============================] - 1s 6ms/step - loss: 2603332.2500 - accuracy: 0.1822\n",
      "Epoch 2/10\n",
      "134/134 [==============================] - 1s 6ms/step - loss: 89.8613 - accuracy: 0.2103\n",
      "Epoch 3/10\n",
      "134/134 [==============================] - 1s 6ms/step - loss: 2.2572 - accuracy: 0.2106\n",
      "Epoch 4/10\n",
      "134/134 [==============================] - 1s 6ms/step - loss: 2.2136 - accuracy: 0.2106\n",
      "Epoch 5/10\n",
      "134/134 [==============================] - 1s 6ms/step - loss: 2.1784 - accuracy: 0.2106\n",
      "Epoch 6/10\n",
      "134/134 [==============================] - 1s 6ms/step - loss: 2.1502 - accuracy: 0.2106\n",
      "Epoch 7/10\n",
      "134/134 [==============================] - 1s 6ms/step - loss: 2.1279 - accuracy: 0.2106\n",
      "Epoch 8/10\n",
      "134/134 [==============================] - 1s 6ms/step - loss: 2.1102 - accuracy: 0.2106\n",
      "Epoch 9/10\n",
      "134/134 [==============================] - 1s 6ms/step - loss: 2.0959 - accuracy: 0.2106\n",
      "Epoch 10/10\n",
      "134/134 [==============================] - 1s 6ms/step - loss: 2.0844 - accuracy: 0.2106\n",
      "24/34 [====================>.........] - ETA: 0s"
     ]
    },
    {
     "name": "stderr",
     "output_type": "stream",
     "text": [
      "/usr/local/lib/python3.10/dist-packages/keras/src/engine/training.py:3079: UserWarning: You are saving your model as an HDF5 file via `model.save()`. This file format is considered legacy. We recommend using instead the native Keras format, e.g. `model.save('my_model.keras')`.\n",
      "  saving_api.save_model(\n"
     ]
    },
    {
     "name": "stdout",
     "output_type": "stream",
     "text": [
      "34/34 [==============================] - 0s 2ms/step\n",
      "Epoch 1/10\n",
      "134/134 [==============================] - 19s 128ms/step - loss: 2.0794 - accuracy: 0.2000\n",
      "Epoch 2/10\n",
      "134/134 [==============================] - 17s 126ms/step - loss: 2.0249 - accuracy: 0.1984\n",
      "Epoch 3/10\n",
      "134/134 [==============================] - 17s 125ms/step - loss: 1.9991 - accuracy: 0.2249\n",
      "Epoch 4/10\n",
      "134/134 [==============================] - 17s 124ms/step - loss: 1.9776 - accuracy: 0.2443\n",
      "Epoch 5/10\n",
      "134/134 [==============================] - 16s 116ms/step - loss: 1.9615 - accuracy: 0.2460\n",
      "Epoch 6/10\n",
      "134/134 [==============================] - 15s 114ms/step - loss: 1.9492 - accuracy: 0.2544\n",
      "Epoch 7/10\n",
      "134/134 [==============================] - 16s 122ms/step - loss: 1.9362 - accuracy: 0.2689\n",
      "Epoch 8/10\n",
      "134/134 [==============================] - 16s 122ms/step - loss: 1.9182 - accuracy: 0.2720\n",
      "Epoch 9/10\n",
      "134/134 [==============================] - 17s 124ms/step - loss: 1.8980 - accuracy: 0.2830\n",
      "Epoch 10/10\n",
      "134/134 [==============================] - 17s 124ms/step - loss: 1.8848 - accuracy: 0.2849\n"
     ]
    },
    {
     "name": "stderr",
     "output_type": "stream",
     "text": [
      "/usr/local/lib/python3.10/dist-packages/keras/src/engine/training.py:3079: UserWarning: You are saving your model as an HDF5 file via `model.save()`. This file format is considered legacy. We recommend using instead the native Keras format, e.g. `model.save('my_model.keras')`.\n",
      "  saving_api.save_model(\n"
     ]
    },
    {
     "name": "stdout",
     "output_type": "stream",
     "text": [
      "34/34 [==============================] - 2s 35ms/step\n",
      "Epoch 1/10\n",
      "134/134 [==============================] - 1s 6ms/step - loss: 2421249.0000 - accuracy: 0.2842\n",
      "Epoch 2/10\n",
      "134/134 [==============================] - 1s 6ms/step - loss: 126.3437 - accuracy: 0.3404\n",
      "Epoch 3/10\n",
      "134/134 [==============================] - 1s 6ms/step - loss: 2.2183 - accuracy: 0.3407\n",
      "Epoch 4/10\n",
      "134/134 [==============================] - 1s 6ms/step - loss: 2.1594 - accuracy: 0.3407\n",
      "Epoch 5/10\n",
      "134/134 [==============================] - 1s 6ms/step - loss: 2.1106 - accuracy: 0.3407\n",
      "Epoch 6/10\n",
      "134/134 [==============================] - 1s 6ms/step - loss: 2.0709 - accuracy: 0.3407\n",
      "Epoch 7/10\n",
      "134/134 [==============================] - 1s 6ms/step - loss: 2.0382 - accuracy: 0.3407\n",
      "Epoch 8/10\n",
      "134/134 [==============================] - 1s 6ms/step - loss: 2.0117 - accuracy: 0.3407\n",
      "Epoch 9/10\n",
      "134/134 [==============================] - 1s 6ms/step - loss: 1.9903 - accuracy: 0.3407\n",
      "Epoch 10/10\n",
      "134/134 [==============================] - 1s 6ms/step - loss: 1.9731 - accuracy: 0.3407\n",
      "34/34 [==============================] - 0s 2ms/step\n"
     ]
    },
    {
     "name": "stderr",
     "output_type": "stream",
     "text": [
      "/usr/local/lib/python3.10/dist-packages/keras/src/engine/training.py:3079: UserWarning: You are saving your model as an HDF5 file via `model.save()`. This file format is considered legacy. We recommend using instead the native Keras format, e.g. `model.save('my_model.keras')`.\n",
      "  saving_api.save_model(\n"
     ]
    },
    {
     "name": "stdout",
     "output_type": "stream",
     "text": [
      "Epoch 1/10\n",
      "134/134 [==============================] - 19s 126ms/step - loss: 1.9476 - accuracy: 0.3233\n",
      "Epoch 2/10\n",
      "134/134 [==============================] - 17s 127ms/step - loss: 1.8562 - accuracy: 0.3381\n",
      "Epoch 3/10\n",
      "134/134 [==============================] - 17s 125ms/step - loss: 1.8432 - accuracy: 0.3402\n",
      "Epoch 4/10\n",
      "134/134 [==============================] - 17s 124ms/step - loss: 1.8238 - accuracy: 0.3456\n",
      "Epoch 5/10\n",
      "134/134 [==============================] - 17s 123ms/step - loss: 1.8087 - accuracy: 0.3468\n",
      "Epoch 6/10\n",
      "134/134 [==============================] - 16s 120ms/step - loss: 1.7949 - accuracy: 0.3463\n",
      "Epoch 7/10\n",
      "134/134 [==============================] - 17s 125ms/step - loss: 1.7827 - accuracy: 0.3545\n",
      "Epoch 8/10\n",
      "134/134 [==============================] - 17s 125ms/step - loss: 1.7668 - accuracy: 0.3545\n",
      "Epoch 9/10\n",
      "134/134 [==============================] - 16s 122ms/step - loss: 1.7662 - accuracy: 0.3625\n",
      "Epoch 10/10\n",
      "134/134 [==============================] - 17s 125ms/step - loss: 1.7510 - accuracy: 0.3620\n"
     ]
    },
    {
     "name": "stderr",
     "output_type": "stream",
     "text": [
      "/usr/local/lib/python3.10/dist-packages/keras/src/engine/training.py:3079: UserWarning: You are saving your model as an HDF5 file via `model.save()`. This file format is considered legacy. We recommend using instead the native Keras format, e.g. `model.save('my_model.keras')`.\n",
      "  saving_api.save_model(\n"
     ]
    },
    {
     "name": "stdout",
     "output_type": "stream",
     "text": [
      "34/34 [==============================] - 2s 36ms/step\n",
      "Epoch 1/10\n",
      "134/134 [==============================] - 1s 6ms/step - loss: 2783295.0000 - accuracy: 0.2532\n",
      "Epoch 2/10\n",
      "134/134 [==============================] - 1s 6ms/step - loss: 2.3081 - accuracy: 0.2748\n",
      "Epoch 3/10\n",
      "134/134 [==============================] - 1s 6ms/step - loss: 2.2528 - accuracy: 0.2746\n",
      "Epoch 4/10\n",
      "134/134 [==============================] - 1s 6ms/step - loss: 2.2072 - accuracy: 0.2746\n",
      "Epoch 5/10\n",
      "134/134 [==============================] - 1s 6ms/step - loss: 2.1705 - accuracy: 0.2746\n",
      "Epoch 6/10\n",
      "134/134 [==============================] - 1s 6ms/step - loss: 2.1413 - accuracy: 0.2746\n",
      "Epoch 7/10\n",
      "134/134 [==============================] - 1s 6ms/step - loss: 2.1180 - accuracy: 0.2746\n",
      "Epoch 8/10\n",
      "134/134 [==============================] - 1s 6ms/step - loss: 2.0995 - accuracy: 0.2746\n",
      "Epoch 9/10\n",
      "134/134 [==============================] - 1s 6ms/step - loss: 2.0848 - accuracy: 0.2746\n",
      "Epoch 10/10\n",
      "134/134 [==============================] - 1s 6ms/step - loss: 2.0732 - accuracy: 0.2746\n",
      "34/34 [==============================] - 0s 2ms/step\n"
     ]
    },
    {
     "name": "stderr",
     "output_type": "stream",
     "text": [
      "/usr/local/lib/python3.10/dist-packages/keras/src/engine/training.py:3079: UserWarning: You are saving your model as an HDF5 file via `model.save()`. This file format is considered legacy. We recommend using instead the native Keras format, e.g. `model.save('my_model.keras')`.\n",
      "  saving_api.save_model(\n"
     ]
    },
    {
     "name": "stdout",
     "output_type": "stream",
     "text": [
      "Epoch 1/10\n",
      "134/134 [==============================] - 18s 121ms/step - loss: 2.0719 - accuracy: 0.2617\n",
      "Epoch 2/10\n",
      "134/134 [==============================] - 16s 116ms/step - loss: 2.0050 - accuracy: 0.2858\n",
      "Epoch 3/10\n",
      "134/134 [==============================] - 15s 114ms/step - loss: 1.9752 - accuracy: 0.2943\n",
      "Epoch 4/10\n",
      "134/134 [==============================] - 17s 126ms/step - loss: 1.9515 - accuracy: 0.2992\n",
      "Epoch 5/10\n",
      "134/134 [==============================] - 17s 125ms/step - loss: 1.9310 - accuracy: 0.3006\n",
      "Epoch 6/10\n",
      "134/134 [==============================] - 17s 124ms/step - loss: 1.8948 - accuracy: 0.3215\n",
      "Epoch 7/10\n",
      "134/134 [==============================] - 16s 119ms/step - loss: 1.8702 - accuracy: 0.3313\n",
      "Epoch 8/10\n",
      "134/134 [==============================] - 16s 120ms/step - loss: 1.8496 - accuracy: 0.3257\n",
      "Epoch 9/10\n",
      "134/134 [==============================] - 16s 117ms/step - loss: 1.8256 - accuracy: 0.3444\n",
      "Epoch 10/10\n",
      "134/134 [==============================] - 15s 111ms/step - loss: 1.8046 - accuracy: 0.3489\n"
     ]
    },
    {
     "name": "stderr",
     "output_type": "stream",
     "text": [
      "/usr/local/lib/python3.10/dist-packages/keras/src/engine/training.py:3079: UserWarning: You are saving your model as an HDF5 file via `model.save()`. This file format is considered legacy. We recommend using instead the native Keras format, e.g. `model.save('my_model.keras')`.\n",
      "  saving_api.save_model(\n"
     ]
    },
    {
     "name": "stdout",
     "output_type": "stream",
     "text": [
      "34/34 [==============================] - 2s 39ms/step\n",
      "Epoch 1/10\n",
      "134/134 [==============================] - 1s 6ms/step - loss: 2835719.0000 - accuracy: 0.1695\n",
      "Epoch 2/10\n",
      "134/134 [==============================] - 1s 6ms/step - loss: 714.3391 - accuracy: 0.1941\n",
      "Epoch 3/10\n",
      "134/134 [==============================] - 1s 6ms/step - loss: 438.8451 - accuracy: 0.1930\n",
      "Epoch 4/10\n",
      "134/134 [==============================] - 1s 6ms/step - loss: 2.2393 - accuracy: 0.1927\n",
      "Epoch 5/10\n",
      "134/134 [==============================] - 1s 6ms/step - loss: 2.2102 - accuracy: 0.1927\n",
      "Epoch 6/10\n",
      "134/134 [==============================] - 1s 5ms/step - loss: 2.1875 - accuracy: 0.1927\n",
      "Epoch 7/10\n",
      "134/134 [==============================] - 1s 6ms/step - loss: 2.1698 - accuracy: 0.1927\n",
      "Epoch 8/10\n",
      "134/134 [==============================] - 1s 6ms/step - loss: 2.1560 - accuracy: 0.1927\n",
      "Epoch 9/10\n",
      "134/134 [==============================] - 1s 6ms/step - loss: 2.1452 - accuracy: 0.1927\n",
      "Epoch 10/10\n",
      "134/134 [==============================] - 1s 6ms/step - loss: 2.1366 - accuracy: 0.1927\n",
      "24/34 [====================>.........] - ETA: 0s"
     ]
    },
    {
     "name": "stderr",
     "output_type": "stream",
     "text": [
      "/usr/local/lib/python3.10/dist-packages/keras/src/engine/training.py:3079: UserWarning: You are saving your model as an HDF5 file via `model.save()`. This file format is considered legacy. We recommend using instead the native Keras format, e.g. `model.save('my_model.keras')`.\n",
      "  saving_api.save_model(\n"
     ]
    },
    {
     "name": "stdout",
     "output_type": "stream",
     "text": [
      "34/34 [==============================] - 0s 2ms/step\n",
      "Epoch 1/10\n",
      "134/134 [==============================] - 20s 127ms/step - loss: 2.1556 - accuracy: 0.1789\n",
      "Epoch 2/10\n",
      "134/134 [==============================] - 17s 124ms/step - loss: 2.1006 - accuracy: 0.1871\n",
      "Epoch 3/10\n",
      "134/134 [==============================] - 16s 120ms/step - loss: 2.0831 - accuracy: 0.1923\n",
      "Epoch 4/10\n",
      "134/134 [==============================] - 17s 124ms/step - loss: 2.0563 - accuracy: 0.2103\n",
      "Epoch 5/10\n",
      "134/134 [==============================] - 17s 127ms/step - loss: 2.0419 - accuracy: 0.2141\n",
      "Epoch 6/10\n",
      "134/134 [==============================] - 16s 122ms/step - loss: 2.0357 - accuracy: 0.2197\n",
      "Epoch 7/10\n",
      "134/134 [==============================] - 15s 115ms/step - loss: 2.0050 - accuracy: 0.2284\n",
      "Epoch 8/10\n",
      "134/134 [==============================] - 15s 111ms/step - loss: 1.9802 - accuracy: 0.2422\n",
      "Epoch 9/10\n",
      "134/134 [==============================] - 16s 122ms/step - loss: 1.9777 - accuracy: 0.2490\n",
      "Epoch 10/10\n",
      "134/134 [==============================] - 16s 123ms/step - loss: 1.9588 - accuracy: 0.2584\n"
     ]
    },
    {
     "name": "stderr",
     "output_type": "stream",
     "text": [
      "/usr/local/lib/python3.10/dist-packages/keras/src/engine/training.py:3079: UserWarning: You are saving your model as an HDF5 file via `model.save()`. This file format is considered legacy. We recommend using instead the native Keras format, e.g. `model.save('my_model.keras')`.\n",
      "  saving_api.save_model(\n"
     ]
    },
    {
     "name": "stdout",
     "output_type": "stream",
     "text": [
      "34/34 [==============================] - 2s 34ms/step\n",
      "Epoch 1/10\n",
      "134/134 [==============================] - 1s 6ms/step - loss: 2830893.2500 - accuracy: 0.4284\n",
      "Epoch 2/10\n",
      "134/134 [==============================] - 1s 6ms/step - loss: 150.6256 - accuracy: 0.5240\n",
      "Epoch 3/10\n",
      "134/134 [==============================] - 1s 6ms/step - loss: 82.4728 - accuracy: 0.5264\n",
      "Epoch 4/10\n",
      "134/134 [==============================] - 1s 6ms/step - loss: 5.2911 - accuracy: 0.5257\n",
      "Epoch 5/10\n",
      "134/134 [==============================] - 1s 6ms/step - loss: 7.7732 - accuracy: 0.5257\n",
      "Epoch 6/10\n",
      "134/134 [==============================] - 1s 6ms/step - loss: 1.6689 - accuracy: 0.5259\n",
      "Epoch 7/10\n",
      "134/134 [==============================] - 1s 6ms/step - loss: 1.5878 - accuracy: 0.5259\n",
      "Epoch 8/10\n",
      "134/134 [==============================] - 1s 6ms/step - loss: 1.5201 - accuracy: 0.5259\n",
      "Epoch 9/10\n",
      "134/134 [==============================] - 1s 6ms/step - loss: 1.4624 - accuracy: 0.5259\n",
      "Epoch 10/10\n",
      "134/134 [==============================] - 1s 6ms/step - loss: 1.4128 - accuracy: 0.5259\n",
      "24/34 [====================>.........] - ETA: 0s"
     ]
    },
    {
     "name": "stderr",
     "output_type": "stream",
     "text": [
      "/usr/local/lib/python3.10/dist-packages/keras/src/engine/training.py:3079: UserWarning: You are saving your model as an HDF5 file via `model.save()`. This file format is considered legacy. We recommend using instead the native Keras format, e.g. `model.save('my_model.keras')`.\n",
      "  saving_api.save_model(\n"
     ]
    },
    {
     "name": "stdout",
     "output_type": "stream",
     "text": [
      "34/34 [==============================] - 0s 2ms/step\n",
      "Epoch 1/10\n",
      "134/134 [==============================] - 19s 127ms/step - loss: 1.2906 - accuracy: 0.4750\n",
      "Epoch 2/10\n",
      "134/134 [==============================] - 17s 125ms/step - loss: 1.1363 - accuracy: 0.5161\n",
      "Epoch 3/10\n",
      "134/134 [==============================] - 17s 124ms/step - loss: 1.1099 - accuracy: 0.5240\n",
      "Epoch 4/10\n",
      "134/134 [==============================] - 17s 127ms/step - loss: 1.1006 - accuracy: 0.5233\n",
      "Epoch 5/10\n",
      "134/134 [==============================] - 17s 129ms/step - loss: 1.0882 - accuracy: 0.5254\n",
      "Epoch 6/10\n",
      "134/134 [==============================] - 17s 124ms/step - loss: 1.0806 - accuracy: 0.5261\n",
      "Epoch 7/10\n",
      "134/134 [==============================] - 17s 126ms/step - loss: 1.0729 - accuracy: 0.5257\n",
      "Epoch 8/10\n",
      "134/134 [==============================] - 17s 125ms/step - loss: 1.0726 - accuracy: 0.5247\n",
      "Epoch 9/10\n",
      "134/134 [==============================] - 17s 125ms/step - loss: 1.0696 - accuracy: 0.5231\n",
      "Epoch 10/10\n",
      "134/134 [==============================] - 17s 126ms/step - loss: 1.0632 - accuracy: 0.5243\n"
     ]
    },
    {
     "name": "stderr",
     "output_type": "stream",
     "text": [
      "/usr/local/lib/python3.10/dist-packages/keras/src/engine/training.py:3079: UserWarning: You are saving your model as an HDF5 file via `model.save()`. This file format is considered legacy. We recommend using instead the native Keras format, e.g. `model.save('my_model.keras')`.\n",
      "  saving_api.save_model(\n"
     ]
    },
    {
     "name": "stdout",
     "output_type": "stream",
     "text": [
      "34/34 [==============================] - 2s 36ms/step\n",
      "Epoch 1/10\n",
      "134/134 [==============================] - 1s 6ms/step - loss: 2953210.0000 - accuracy: 0.3906\n",
      "Epoch 2/10\n",
      "134/134 [==============================] - 1s 6ms/step - loss: 5.0192 - accuracy: 0.4314\n",
      "Epoch 3/10\n",
      "134/134 [==============================] - 1s 6ms/step - loss: 2.0084 - accuracy: 0.4314\n",
      "Epoch 4/10\n",
      "134/134 [==============================] - 1s 6ms/step - loss: 1.8742 - accuracy: 0.4314\n",
      "Epoch 5/10\n",
      "134/134 [==============================] - 1s 6ms/step - loss: 1.7597 - accuracy: 0.4314\n",
      "Epoch 6/10\n",
      "134/134 [==============================] - 1s 6ms/step - loss: 1.6627 - accuracy: 0.4314\n",
      "Epoch 7/10\n",
      "134/134 [==============================] - 1s 6ms/step - loss: 1.5808 - accuracy: 0.4314\n",
      "Epoch 8/10\n",
      "134/134 [==============================] - 1s 6ms/step - loss: 1.5119 - accuracy: 0.4314\n",
      "Epoch 9/10\n",
      "134/134 [==============================] - 1s 6ms/step - loss: 1.4541 - accuracy: 0.4314\n",
      "Epoch 10/10\n",
      "134/134 [==============================] - 1s 6ms/step - loss: 1.4057 - accuracy: 0.4314\n",
      "24/34 [====================>.........] - ETA: 0s"
     ]
    },
    {
     "name": "stderr",
     "output_type": "stream",
     "text": [
      "/usr/local/lib/python3.10/dist-packages/keras/src/engine/training.py:3079: UserWarning: You are saving your model as an HDF5 file via `model.save()`. This file format is considered legacy. We recommend using instead the native Keras format, e.g. `model.save('my_model.keras')`.\n",
      "  saving_api.save_model(\n"
     ]
    },
    {
     "name": "stdout",
     "output_type": "stream",
     "text": [
      "34/34 [==============================] - 0s 2ms/step\n",
      "Epoch 1/10\n",
      "134/134 [==============================] - 19s 125ms/step - loss: 1.2586 - accuracy: 0.4195\n",
      "Epoch 2/10\n",
      "134/134 [==============================] - 17s 127ms/step - loss: 1.1253 - accuracy: 0.4249\n",
      "Epoch 3/10\n",
      "134/134 [==============================] - 17s 123ms/step - loss: 1.0975 - accuracy: 0.4457\n",
      "Epoch 4/10\n",
      "134/134 [==============================] - 17s 126ms/step - loss: 1.0874 - accuracy: 0.4532\n",
      "Epoch 5/10\n",
      "134/134 [==============================] - 16s 123ms/step - loss: 1.0832 - accuracy: 0.4572\n",
      "Epoch 6/10\n",
      "134/134 [==============================] - 16s 122ms/step - loss: 1.0792 - accuracy: 0.4652\n",
      "Epoch 7/10\n",
      "134/134 [==============================] - 16s 123ms/step - loss: 1.0692 - accuracy: 0.4657\n",
      "Epoch 8/10\n",
      "134/134 [==============================] - 17s 124ms/step - loss: 1.0674 - accuracy: 0.4715\n",
      "Epoch 9/10\n",
      "134/134 [==============================] - 17s 125ms/step - loss: 1.0568 - accuracy: 0.4842\n",
      "Epoch 10/10\n",
      "134/134 [==============================] - 17s 125ms/step - loss: 1.0534 - accuracy: 0.4746\n"
     ]
    },
    {
     "name": "stderr",
     "output_type": "stream",
     "text": [
      "/usr/local/lib/python3.10/dist-packages/keras/src/engine/training.py:3079: UserWarning: You are saving your model as an HDF5 file via `model.save()`. This file format is considered legacy. We recommend using instead the native Keras format, e.g. `model.save('my_model.keras')`.\n",
      "  saving_api.save_model(\n"
     ]
    },
    {
     "name": "stdout",
     "output_type": "stream",
     "text": [
      "34/34 [==============================] - 2s 37ms/step\n",
      "Epoch 1/10\n",
      "134/134 [==============================] - 1s 6ms/step - loss: 4237070.0000 - accuracy: 0.3503\n",
      "Epoch 2/10\n",
      "134/134 [==============================] - 1s 6ms/step - loss: 118.3501 - accuracy: 0.4272\n",
      "Epoch 3/10\n",
      "134/134 [==============================] - 1s 6ms/step - loss: 2.0278 - accuracy: 0.4324\n",
      "Epoch 4/10\n",
      "134/134 [==============================] - 1s 6ms/step - loss: 14.7664 - accuracy: 0.4324\n",
      "Epoch 5/10\n",
      "134/134 [==============================] - 1s 6ms/step - loss: 1.7896 - accuracy: 0.4324\n",
      "Epoch 6/10\n",
      "134/134 [==============================] - 1s 6ms/step - loss: 1.6966 - accuracy: 0.4324\n",
      "Epoch 7/10\n",
      "134/134 [==============================] - 1s 6ms/step - loss: 1.6182 - accuracy: 0.4324\n",
      "Epoch 8/10\n",
      "134/134 [==============================] - 1s 6ms/step - loss: 1.5523 - accuracy: 0.4324\n",
      "Epoch 9/10\n",
      "134/134 [==============================] - 1s 6ms/step - loss: 1.4970 - accuracy: 0.4324\n",
      "Epoch 10/10\n",
      "134/134 [==============================] - 1s 6ms/step - loss: 1.4505 - accuracy: 0.4324\n",
      "24/34 [====================>.........] - ETA: 0s"
     ]
    },
    {
     "name": "stderr",
     "output_type": "stream",
     "text": [
      "/usr/local/lib/python3.10/dist-packages/keras/src/engine/training.py:3079: UserWarning: You are saving your model as an HDF5 file via `model.save()`. This file format is considered legacy. We recommend using instead the native Keras format, e.g. `model.save('my_model.keras')`.\n",
      "  saving_api.save_model(\n"
     ]
    },
    {
     "name": "stdout",
     "output_type": "stream",
     "text": [
      "34/34 [==============================] - 0s 2ms/step\n",
      "Epoch 1/10\n",
      "134/134 [==============================] - 19s 125ms/step - loss: 1.3033 - accuracy: 0.4059\n",
      "Epoch 2/10\n",
      "134/134 [==============================] - 16s 122ms/step - loss: 1.1535 - accuracy: 0.4546\n",
      "Epoch 3/10\n",
      "134/134 [==============================] - 17s 127ms/step - loss: 1.1330 - accuracy: 0.4671\n",
      "Epoch 4/10\n",
      "134/134 [==============================] - 15s 112ms/step - loss: 1.1240 - accuracy: 0.4645\n",
      "Epoch 5/10\n",
      "134/134 [==============================] - 15s 114ms/step - loss: 1.1216 - accuracy: 0.4706\n",
      "Epoch 6/10\n",
      "134/134 [==============================] - 17s 125ms/step - loss: 1.1157 - accuracy: 0.4687\n",
      "Epoch 7/10\n",
      "134/134 [==============================] - 16s 123ms/step - loss: 1.1164 - accuracy: 0.4785\n",
      "Epoch 8/10\n",
      "134/134 [==============================] - 15s 112ms/step - loss: 1.1051 - accuracy: 0.4903\n",
      "Epoch 9/10\n",
      "134/134 [==============================] - 14s 103ms/step - loss: 1.1080 - accuracy: 0.4844\n",
      "Epoch 10/10\n",
      "134/134 [==============================] - 16s 116ms/step - loss: 1.1029 - accuracy: 0.4821\n"
     ]
    },
    {
     "name": "stderr",
     "output_type": "stream",
     "text": [
      "/usr/local/lib/python3.10/dist-packages/keras/src/engine/training.py:3079: UserWarning: You are saving your model as an HDF5 file via `model.save()`. This file format is considered legacy. We recommend using instead the native Keras format, e.g. `model.save('my_model.keras')`.\n",
      "  saving_api.save_model(\n"
     ]
    },
    {
     "name": "stdout",
     "output_type": "stream",
     "text": [
      "34/34 [==============================] - 1s 30ms/step\n",
      "Epoch 1/10\n",
      "134/134 [==============================] - 1s 6ms/step - loss: 3404569.7500 - accuracy: 0.4753\n",
      "Epoch 2/10\n",
      "134/134 [==============================] - 1s 6ms/step - loss: 146.3770 - accuracy: 0.5960\n",
      "Epoch 3/10\n",
      "134/134 [==============================] - 1s 6ms/step - loss: 24.9547 - accuracy: 0.5958\n",
      "Epoch 4/10\n",
      "134/134 [==============================] - 1s 6ms/step - loss: 11.4066 - accuracy: 0.5958\n",
      "Epoch 5/10\n",
      "134/134 [==============================] - 1s 6ms/step - loss: 2.9228 - accuracy: 0.5960\n",
      "Epoch 6/10\n",
      "134/134 [==============================] - 1s 6ms/step - loss: 1.7823 - accuracy: 0.5958\n",
      "Epoch 7/10\n",
      "134/134 [==============================] - 1s 6ms/step - loss: 1.5616 - accuracy: 0.5960\n",
      "Epoch 8/10\n",
      "134/134 [==============================] - 1s 6ms/step - loss: 1.4849 - accuracy: 0.5960\n",
      "Epoch 9/10\n",
      "134/134 [==============================] - 1s 6ms/step - loss: 1.4196 - accuracy: 0.5960\n",
      "Epoch 10/10\n",
      "134/134 [==============================] - 1s 6ms/step - loss: 1.3640 - accuracy: 0.5960\n",
      "34/34 [==============================] - 0s 2ms/step\n"
     ]
    },
    {
     "name": "stderr",
     "output_type": "stream",
     "text": [
      "/usr/local/lib/python3.10/dist-packages/keras/src/engine/training.py:3079: UserWarning: You are saving your model as an HDF5 file via `model.save()`. This file format is considered legacy. We recommend using instead the native Keras format, e.g. `model.save('my_model.keras')`.\n",
      "  saving_api.save_model(\n"
     ]
    },
    {
     "name": "stdout",
     "output_type": "stream",
     "text": [
      "Epoch 1/10\n",
      "134/134 [==============================] - 19s 126ms/step - loss: 1.2085 - accuracy: 0.5744\n",
      "Epoch 2/10\n",
      "134/134 [==============================] - 17s 126ms/step - loss: 1.0367 - accuracy: 0.5852\n",
      "Epoch 3/10\n",
      "134/134 [==============================] - 16s 118ms/step - loss: 1.0250 - accuracy: 0.5958\n",
      "Epoch 4/10\n",
      "134/134 [==============================] - 16s 123ms/step - loss: 0.9959 - accuracy: 0.5960\n",
      "Epoch 5/10\n",
      "134/134 [==============================] - 17s 127ms/step - loss: 0.9888 - accuracy: 0.5951\n",
      "Epoch 6/10\n",
      "134/134 [==============================] - 17s 125ms/step - loss: 0.9746 - accuracy: 0.5955\n",
      "Epoch 7/10\n",
      "134/134 [==============================] - 17s 128ms/step - loss: 0.9700 - accuracy: 0.5958\n",
      "Epoch 8/10\n",
      "134/134 [==============================] - 17s 127ms/step - loss: 0.9594 - accuracy: 0.5965\n",
      "Epoch 9/10\n",
      "134/134 [==============================] - 17s 124ms/step - loss: 0.9450 - accuracy: 0.5967\n",
      "Epoch 10/10\n",
      "134/134 [==============================] - 17s 127ms/step - loss: 0.9466 - accuracy: 0.5958\n"
     ]
    },
    {
     "name": "stderr",
     "output_type": "stream",
     "text": [
      "/usr/local/lib/python3.10/dist-packages/keras/src/engine/training.py:3079: UserWarning: You are saving your model as an HDF5 file via `model.save()`. This file format is considered legacy. We recommend using instead the native Keras format, e.g. `model.save('my_model.keras')`.\n",
      "  saving_api.save_model(\n"
     ]
    },
    {
     "name": "stdout",
     "output_type": "stream",
     "text": [
      "34/34 [==============================] - 2s 36ms/step\n",
      "Epoch 1/10\n",
      "134/134 [==============================] - 1s 6ms/step - loss: 2185541.2500 - accuracy: 0.1747\n",
      "Epoch 2/10\n",
      "134/134 [==============================] - 1s 6ms/step - loss: 24.2268 - accuracy: 0.1937\n",
      "Epoch 3/10\n",
      "134/134 [==============================] - 1s 6ms/step - loss: 26.4982 - accuracy: 0.1979\n",
      "Epoch 4/10\n",
      "134/134 [==============================] - 1s 6ms/step - loss: 2.1605 - accuracy: 0.1939\n",
      "Epoch 5/10\n",
      "134/134 [==============================] - 1s 6ms/step - loss: 2.1143 - accuracy: 0.1944\n",
      "Epoch 6/10\n",
      "134/134 [==============================] - 1s 6ms/step - loss: 2.0767 - accuracy: 0.2063\n",
      "Epoch 7/10\n",
      "134/134 [==============================] - 1s 6ms/step - loss: 2.0460 - accuracy: 0.2063\n",
      "Epoch 8/10\n",
      "134/134 [==============================] - 1s 6ms/step - loss: 2.0209 - accuracy: 0.2063\n",
      "Epoch 9/10\n",
      "134/134 [==============================] - 1s 6ms/step - loss: 2.0000 - accuracy: 0.2063\n",
      "Epoch 10/10\n",
      "134/134 [==============================] - 1s 6ms/step - loss: 1.9827 - accuracy: 0.2063\n",
      "34/34 [==============================] - 0s 2ms/step\n"
     ]
    },
    {
     "name": "stderr",
     "output_type": "stream",
     "text": [
      "/usr/local/lib/python3.10/dist-packages/keras/src/engine/training.py:3079: UserWarning: You are saving your model as an HDF5 file via `model.save()`. This file format is considered legacy. We recommend using instead the native Keras format, e.g. `model.save('my_model.keras')`.\n",
      "  saving_api.save_model(\n"
     ]
    },
    {
     "name": "stdout",
     "output_type": "stream",
     "text": [
      "Epoch 1/10\n",
      "134/134 [==============================] - 19s 124ms/step - loss: 1.9641 - accuracy: 0.1894\n",
      "Epoch 2/10\n",
      "134/134 [==============================] - 16s 118ms/step - loss: 1.8858 - accuracy: 0.1977\n",
      "Epoch 3/10\n",
      "134/134 [==============================] - 16s 123ms/step - loss: 1.8588 - accuracy: 0.2150\n",
      "Epoch 4/10\n",
      "134/134 [==============================] - 16s 123ms/step - loss: 1.8340 - accuracy: 0.2239\n",
      "Epoch 5/10\n",
      "134/134 [==============================] - 17s 125ms/step - loss: 1.8172 - accuracy: 0.2394\n",
      "Epoch 6/10\n",
      "134/134 [==============================] - 16s 122ms/step - loss: 1.8095 - accuracy: 0.2464\n",
      "Epoch 7/10\n",
      "134/134 [==============================] - 16s 121ms/step - loss: 1.7942 - accuracy: 0.2596\n",
      "Epoch 8/10\n",
      "134/134 [==============================] - 17s 127ms/step - loss: 1.7773 - accuracy: 0.2767\n",
      "Epoch 9/10\n",
      "134/134 [==============================] - 17s 126ms/step - loss: 1.7672 - accuracy: 0.2755\n",
      "Epoch 10/10\n",
      "134/134 [==============================] - 15s 115ms/step - loss: 1.7494 - accuracy: 0.2879\n"
     ]
    },
    {
     "name": "stderr",
     "output_type": "stream",
     "text": [
      "/usr/local/lib/python3.10/dist-packages/keras/src/engine/training.py:3079: UserWarning: You are saving your model as an HDF5 file via `model.save()`. This file format is considered legacy. We recommend using instead the native Keras format, e.g. `model.save('my_model.keras')`.\n",
      "  saving_api.save_model(\n"
     ]
    },
    {
     "name": "stdout",
     "output_type": "stream",
     "text": [
      "34/34 [==============================] - 2s 33ms/step\n",
      "Epoch 1/10\n",
      "134/134 [==============================] - 1s 6ms/step - loss: 2741900.5000 - accuracy: 0.2270\n",
      "Epoch 2/10\n",
      "134/134 [==============================] - 1s 6ms/step - loss: 10.2176 - accuracy: 0.2790\n",
      "Epoch 3/10\n",
      "134/134 [==============================] - 1s 6ms/step - loss: 2.1651 - accuracy: 0.2898\n",
      "Epoch 4/10\n",
      "134/134 [==============================] - 1s 6ms/step - loss: 19.7440 - accuracy: 0.2898\n",
      "Epoch 5/10\n",
      "134/134 [==============================] - 1s 6ms/step - loss: 2.0224 - accuracy: 0.2898\n",
      "Epoch 6/10\n",
      "134/134 [==============================] - 1s 6ms/step - loss: 1.9684 - accuracy: 0.2898\n",
      "Epoch 7/10\n",
      "134/134 [==============================] - 1s 6ms/step - loss: 1.9237 - accuracy: 0.2898\n",
      "Epoch 8/10\n",
      "134/134 [==============================] - 1s 6ms/step - loss: 1.8866 - accuracy: 0.2898\n",
      "Epoch 9/10\n",
      "134/134 [==============================] - 1s 6ms/step - loss: 1.8558 - accuracy: 0.2898\n",
      "Epoch 10/10\n",
      "134/134 [==============================] - 1s 6ms/step - loss: 1.8300 - accuracy: 0.2898\n",
      "34/34 [==============================] - 0s 2ms/step\n"
     ]
    },
    {
     "name": "stderr",
     "output_type": "stream",
     "text": [
      "/usr/local/lib/python3.10/dist-packages/keras/src/engine/training.py:3079: UserWarning: You are saving your model as an HDF5 file via `model.save()`. This file format is considered legacy. We recommend using instead the native Keras format, e.g. `model.save('my_model.keras')`.\n",
      "  saving_api.save_model(\n"
     ]
    },
    {
     "name": "stdout",
     "output_type": "stream",
     "text": [
      "Epoch 1/10\n",
      "134/134 [==============================] - 19s 124ms/step - loss: 1.7847 - accuracy: 0.2757\n",
      "Epoch 2/10\n",
      "134/134 [==============================] - 16s 120ms/step - loss: 1.6883 - accuracy: 0.2811\n",
      "Epoch 3/10\n",
      "134/134 [==============================] - 17s 123ms/step - loss: 1.6670 - accuracy: 0.2954\n",
      "Epoch 4/10\n",
      "134/134 [==============================] - 16s 123ms/step - loss: 1.6633 - accuracy: 0.2900\n",
      "Epoch 5/10\n",
      "134/134 [==============================] - 17s 126ms/step - loss: 1.6518 - accuracy: 0.2987\n",
      "Epoch 6/10\n",
      "134/134 [==============================] - 17s 123ms/step - loss: 1.6365 - accuracy: 0.3236\n",
      "Epoch 7/10\n",
      "134/134 [==============================] - 17s 124ms/step - loss: 1.6305 - accuracy: 0.3175\n",
      "Epoch 8/10\n",
      "134/134 [==============================] - 17s 123ms/step - loss: 1.6076 - accuracy: 0.3376\n",
      "Epoch 9/10\n",
      "134/134 [==============================] - 17s 124ms/step - loss: 1.5872 - accuracy: 0.3475\n",
      "Epoch 10/10\n",
      "134/134 [==============================] - 17s 125ms/step - loss: 1.5784 - accuracy: 0.3625\n"
     ]
    },
    {
     "name": "stderr",
     "output_type": "stream",
     "text": [
      "/usr/local/lib/python3.10/dist-packages/keras/src/engine/training.py:3079: UserWarning: You are saving your model as an HDF5 file via `model.save()`. This file format is considered legacy. We recommend using instead the native Keras format, e.g. `model.save('my_model.keras')`.\n",
      "  saving_api.save_model(\n"
     ]
    },
    {
     "name": "stdout",
     "output_type": "stream",
     "text": [
      "34/34 [==============================] - 2s 36ms/step\n",
      "Epoch 1/10\n",
      "134/134 [==============================] - 1s 6ms/step - loss: 3588070.7500 - accuracy: 0.2685\n",
      "Epoch 2/10\n",
      "134/134 [==============================] - 1s 6ms/step - loss: 7.8843 - accuracy: 0.3006\n",
      "Epoch 3/10\n",
      "134/134 [==============================] - 1s 6ms/step - loss: 2.1756 - accuracy: 0.3011\n",
      "Epoch 4/10\n",
      "134/134 [==============================] - 1s 6ms/step - loss: 37.3069 - accuracy: 0.3011\n",
      "Epoch 5/10\n",
      "134/134 [==============================] - 1s 6ms/step - loss: 8.8467 - accuracy: 0.3008\n",
      "Epoch 6/10\n",
      "134/134 [==============================] - 1s 6ms/step - loss: 1.9957 - accuracy: 0.3011\n",
      "Epoch 7/10\n",
      "134/134 [==============================] - 1s 6ms/step - loss: 1.9554 - accuracy: 0.3011\n",
      "Epoch 8/10\n",
      "134/134 [==============================] - 1s 6ms/step - loss: 1.9220 - accuracy: 0.3011\n",
      "Epoch 9/10\n",
      "134/134 [==============================] - 1s 6ms/step - loss: 1.8946 - accuracy: 0.3011\n",
      "Epoch 10/10\n",
      "134/134 [==============================] - 1s 6ms/step - loss: 1.8717 - accuracy: 0.3011\n",
      "24/34 [====================>.........] - ETA: 0s"
     ]
    },
    {
     "name": "stderr",
     "output_type": "stream",
     "text": [
      "/usr/local/lib/python3.10/dist-packages/keras/src/engine/training.py:3079: UserWarning: You are saving your model as an HDF5 file via `model.save()`. This file format is considered legacy. We recommend using instead the native Keras format, e.g. `model.save('my_model.keras')`.\n",
      "  saving_api.save_model(\n"
     ]
    },
    {
     "name": "stdout",
     "output_type": "stream",
     "text": [
      "34/34 [==============================] - 0s 2ms/step\n",
      "Epoch 1/10\n",
      "134/134 [==============================] - 19s 123ms/step - loss: 1.8735 - accuracy: 0.2696\n",
      "Epoch 2/10\n",
      "134/134 [==============================] - 16s 119ms/step - loss: 1.7478 - accuracy: 0.2853\n",
      "Epoch 3/10\n",
      "134/134 [==============================] - 17s 124ms/step - loss: 1.6891 - accuracy: 0.2954\n",
      "Epoch 4/10\n",
      "134/134 [==============================] - 17s 126ms/step - loss: 1.6811 - accuracy: 0.3079\n",
      "Epoch 5/10\n",
      "134/134 [==============================] - 16s 123ms/step - loss: 1.6640 - accuracy: 0.3140\n",
      "Epoch 6/10\n",
      "134/134 [==============================] - 17s 126ms/step - loss: 1.6490 - accuracy: 0.3097\n",
      "Epoch 7/10\n",
      "134/134 [==============================] - 16s 120ms/step - loss: 1.6348 - accuracy: 0.3224\n",
      "Epoch 8/10\n",
      "134/134 [==============================] - 17s 123ms/step - loss: 1.6185 - accuracy: 0.3311\n",
      "Epoch 9/10\n",
      "134/134 [==============================] - 17s 126ms/step - loss: 1.6010 - accuracy: 0.3393\n",
      "Epoch 10/10\n",
      "134/134 [==============================] - 17s 125ms/step - loss: 1.5784 - accuracy: 0.3519\n"
     ]
    },
    {
     "name": "stderr",
     "output_type": "stream",
     "text": [
      "/usr/local/lib/python3.10/dist-packages/keras/src/engine/training.py:3079: UserWarning: You are saving your model as an HDF5 file via `model.save()`. This file format is considered legacy. We recommend using instead the native Keras format, e.g. `model.save('my_model.keras')`.\n",
      "  saving_api.save_model(\n"
     ]
    },
    {
     "name": "stdout",
     "output_type": "stream",
     "text": [
      "34/34 [==============================] - 2s 35ms/step\n",
      "Epoch 1/10\n",
      "134/134 [==============================] - 1s 6ms/step - loss: 2060913.2500 - accuracy: 0.2049\n",
      "Epoch 2/10\n",
      "134/134 [==============================] - 1s 6ms/step - loss: 552.4821 - accuracy: 0.2657\n",
      "Epoch 3/10\n",
      "134/134 [==============================] - 1s 6ms/step - loss: 34.4334 - accuracy: 0.2661\n",
      "Epoch 4/10\n",
      "134/134 [==============================] - 1s 6ms/step - loss: 27.0407 - accuracy: 0.2659\n",
      "Epoch 5/10\n",
      "134/134 [==============================] - 1s 6ms/step - loss: 9.2194 - accuracy: 0.2659\n",
      "Epoch 6/10\n",
      "134/134 [==============================] - 1s 6ms/step - loss: 2.9675 - accuracy: 0.2659\n",
      "Epoch 7/10\n",
      "134/134 [==============================] - 1s 6ms/step - loss: 2.0005 - accuracy: 0.2659\n",
      "Epoch 8/10\n",
      "134/134 [==============================] - 1s 6ms/step - loss: 2.0543 - accuracy: 0.2659\n",
      "Epoch 9/10\n",
      "134/134 [==============================] - 1s 6ms/step - loss: 1.9462 - accuracy: 0.2661\n",
      "Epoch 10/10\n",
      "134/134 [==============================] - 1s 6ms/step - loss: 1.9261 - accuracy: 0.2661\n",
      "34/34 [==============================] - 0s 2ms/step\n"
     ]
    },
    {
     "name": "stderr",
     "output_type": "stream",
     "text": [
      "/usr/local/lib/python3.10/dist-packages/keras/src/engine/training.py:3079: UserWarning: You are saving your model as an HDF5 file via `model.save()`. This file format is considered legacy. We recommend using instead the native Keras format, e.g. `model.save('my_model.keras')`.\n",
      "  saving_api.save_model(\n"
     ]
    },
    {
     "name": "stdout",
     "output_type": "stream",
     "text": [
      "Epoch 1/10\n",
      "134/134 [==============================] - 19s 125ms/step - loss: 1.8872 - accuracy: 0.2263\n",
      "Epoch 2/10\n",
      "134/134 [==============================] - 17s 125ms/step - loss: 1.7972 - accuracy: 0.2513\n",
      "Epoch 3/10\n",
      "134/134 [==============================] - 17s 125ms/step - loss: 1.7859 - accuracy: 0.2572\n",
      "Epoch 4/10\n",
      "134/134 [==============================] - 17s 127ms/step - loss: 1.7526 - accuracy: 0.2694\n",
      "Epoch 5/10\n",
      "134/134 [==============================] - 17s 126ms/step - loss: 1.7375 - accuracy: 0.2800\n",
      "Epoch 6/10\n",
      "134/134 [==============================] - 17s 126ms/step - loss: 1.7247 - accuracy: 0.2978\n",
      "Epoch 7/10\n",
      "134/134 [==============================] - 17s 125ms/step - loss: 1.7056 - accuracy: 0.2989\n",
      "Epoch 8/10\n",
      "134/134 [==============================] - 17s 124ms/step - loss: 1.6957 - accuracy: 0.3158\n",
      "Epoch 9/10\n",
      "134/134 [==============================] - 17s 125ms/step - loss: 1.6757 - accuracy: 0.3140\n",
      "Epoch 10/10\n",
      "134/134 [==============================] - 16s 119ms/step - loss: 1.6718 - accuracy: 0.3186\n"
     ]
    },
    {
     "name": "stderr",
     "output_type": "stream",
     "text": [
      "/usr/local/lib/python3.10/dist-packages/keras/src/engine/training.py:3079: UserWarning: You are saving your model as an HDF5 file via `model.save()`. This file format is considered legacy. We recommend using instead the native Keras format, e.g. `model.save('my_model.keras')`.\n",
      "  saving_api.save_model(\n"
     ]
    },
    {
     "name": "stdout",
     "output_type": "stream",
     "text": [
      "34/34 [==============================] - 2s 35ms/step\n",
      "Epoch 1/10\n",
      "134/134 [==============================] - 1s 6ms/step - loss: 2893170.0000 - accuracy: 0.2174\n",
      "Epoch 2/10\n",
      "134/134 [==============================] - 1s 6ms/step - loss: 2.2672 - accuracy: 0.2403\n",
      "Epoch 3/10\n",
      "134/134 [==============================] - 1s 6ms/step - loss: 2.1864 - accuracy: 0.2429\n",
      "Epoch 4/10\n",
      "134/134 [==============================] - 1s 6ms/step - loss: 2.1201 - accuracy: 0.2443\n",
      "Epoch 5/10\n",
      "134/134 [==============================] - 1s 6ms/step - loss: 2.0648 - accuracy: 0.2542\n",
      "Epoch 6/10\n",
      "134/134 [==============================] - 1s 6ms/step - loss: 2.0189 - accuracy: 0.2542\n",
      "Epoch 7/10\n",
      "134/134 [==============================] - 1s 6ms/step - loss: 1.9809 - accuracy: 0.2474\n",
      "Epoch 8/10\n",
      "134/134 [==============================] - 1s 6ms/step - loss: 1.9490 - accuracy: 0.2542\n",
      "Epoch 9/10\n",
      "134/134 [==============================] - 1s 6ms/step - loss: 1.9228 - accuracy: 0.2542\n",
      "Epoch 10/10\n",
      "134/134 [==============================] - 1s 6ms/step - loss: 1.9010 - accuracy: 0.2542\n",
      "34/34 [==============================] - 0s 2ms/step\n"
     ]
    },
    {
     "name": "stderr",
     "output_type": "stream",
     "text": [
      "/usr/local/lib/python3.10/dist-packages/keras/src/engine/training.py:3079: UserWarning: You are saving your model as an HDF5 file via `model.save()`. This file format is considered legacy. We recommend using instead the native Keras format, e.g. `model.save('my_model.keras')`.\n",
      "  saving_api.save_model(\n"
     ]
    },
    {
     "name": "stdout",
     "output_type": "stream",
     "text": [
      "Epoch 1/10\n",
      "134/134 [==============================] - 19s 126ms/step - loss: 1.8910 - accuracy: 0.2387\n",
      "Epoch 2/10\n",
      "134/134 [==============================] - 17s 125ms/step - loss: 1.7815 - accuracy: 0.2490\n",
      "Epoch 3/10\n",
      "134/134 [==============================] - 15s 112ms/step - loss: 1.7545 - accuracy: 0.2771\n",
      "Epoch 4/10\n",
      "134/134 [==============================] - 15s 115ms/step - loss: 1.7310 - accuracy: 0.2753\n",
      "Epoch 5/10\n",
      "134/134 [==============================] - 16s 122ms/step - loss: 1.7160 - accuracy: 0.2943\n",
      "Epoch 6/10\n",
      "134/134 [==============================] - 16s 121ms/step - loss: 1.7151 - accuracy: 0.3006\n",
      "Epoch 7/10\n",
      "134/134 [==============================] - 17s 127ms/step - loss: 1.6829 - accuracy: 0.3170\n",
      "Epoch 8/10\n",
      "134/134 [==============================] - 17s 125ms/step - loss: 1.6646 - accuracy: 0.3208\n",
      "Epoch 9/10\n",
      "134/134 [==============================] - 17s 125ms/step - loss: 1.6541 - accuracy: 0.3224\n",
      "Epoch 10/10\n",
      "134/134 [==============================] - 17s 125ms/step - loss: 1.6464 - accuracy: 0.3311\n"
     ]
    },
    {
     "name": "stderr",
     "output_type": "stream",
     "text": [
      "/usr/local/lib/python3.10/dist-packages/keras/src/engine/training.py:3079: UserWarning: You are saving your model as an HDF5 file via `model.save()`. This file format is considered legacy. We recommend using instead the native Keras format, e.g. `model.save('my_model.keras')`.\n",
      "  saving_api.save_model(\n"
     ]
    },
    {
     "name": "stdout",
     "output_type": "stream",
     "text": [
      "34/34 [==============================] - 2s 35ms/step\n",
      "Epoch 1/10\n",
      "134/134 [==============================] - 1s 6ms/step - loss: 2558736.5000 - accuracy: 0.1834\n",
      "Epoch 2/10\n",
      "134/134 [==============================] - 1s 6ms/step - loss: 18.2288 - accuracy: 0.2033\n",
      "Epoch 3/10\n",
      "134/134 [==============================] - 1s 6ms/step - loss: 346.6136 - accuracy: 0.2052\n",
      "Epoch 4/10\n",
      "134/134 [==============================] - 1s 6ms/step - loss: 2.2453 - accuracy: 0.2234\n",
      "Epoch 5/10\n",
      "134/134 [==============================] - 1s 6ms/step - loss: 2.2181 - accuracy: 0.2232\n",
      "Epoch 6/10\n",
      "134/134 [==============================] - 1s 6ms/step - loss: 2.1961 - accuracy: 0.2232\n",
      "Epoch 7/10\n",
      "134/134 [==============================] - 1s 6ms/step - loss: 2.1786 - accuracy: 0.2234\n",
      "Epoch 8/10\n",
      "134/134 [==============================] - 1s 6ms/step - loss: 2.1654 - accuracy: 0.2234\n",
      "Epoch 9/10\n",
      "134/134 [==============================] - 1s 6ms/step - loss: 2.1555 - accuracy: 0.2232\n",
      "Epoch 10/10\n",
      "134/134 [==============================] - 1s 6ms/step - loss: 2.1480 - accuracy: 0.2230\n",
      "34/34 [==============================] - 0s 2ms/step\n"
     ]
    },
    {
     "name": "stderr",
     "output_type": "stream",
     "text": [
      "/usr/local/lib/python3.10/dist-packages/keras/src/engine/training.py:3079: UserWarning: You are saving your model as an HDF5 file via `model.save()`. This file format is considered legacy. We recommend using instead the native Keras format, e.g. `model.save('my_model.keras')`.\n",
      "  saving_api.save_model(\n"
     ]
    },
    {
     "name": "stdout",
     "output_type": "stream",
     "text": [
      "Epoch 1/10\n",
      "134/134 [==============================] - 19s 127ms/step - loss: 2.1599 - accuracy: 0.2127\n",
      "Epoch 2/10\n",
      "134/134 [==============================] - 17s 126ms/step - loss: 2.1367 - accuracy: 0.2063\n",
      "Epoch 3/10\n",
      "134/134 [==============================] - 17s 124ms/step - loss: 2.1249 - accuracy: 0.2258\n",
      "Epoch 4/10\n",
      "134/134 [==============================] - 16s 119ms/step - loss: 2.1138 - accuracy: 0.2188\n",
      "Epoch 5/10\n",
      "134/134 [==============================] - 17s 126ms/step - loss: 2.1032 - accuracy: 0.2148\n",
      "Epoch 6/10\n",
      "134/134 [==============================] - 16s 123ms/step - loss: 2.0934 - accuracy: 0.2230\n",
      "Epoch 7/10\n",
      "134/134 [==============================] - 16s 116ms/step - loss: 2.0873 - accuracy: 0.2244\n",
      "Epoch 8/10\n",
      "134/134 [==============================] - 15s 113ms/step - loss: 2.0779 - accuracy: 0.2263\n",
      "Epoch 9/10\n",
      "134/134 [==============================] - 15s 115ms/step - loss: 2.0633 - accuracy: 0.2366\n",
      "Epoch 10/10\n",
      "134/134 [==============================] - 16s 123ms/step - loss: 2.0519 - accuracy: 0.2455\n"
     ]
    },
    {
     "name": "stderr",
     "output_type": "stream",
     "text": [
      "/usr/local/lib/python3.10/dist-packages/keras/src/engine/training.py:3079: UserWarning: You are saving your model as an HDF5 file via `model.save()`. This file format is considered legacy. We recommend using instead the native Keras format, e.g. `model.save('my_model.keras')`.\n",
      "  saving_api.save_model(\n"
     ]
    },
    {
     "name": "stdout",
     "output_type": "stream",
     "text": [
      "34/34 [==============================] - 2s 36ms/step\n",
      "Epoch 1/10\n",
      "134/134 [==============================] - 1s 6ms/step - loss: 2792957.0000 - accuracy: 0.1672\n",
      "Epoch 2/10\n",
      "134/134 [==============================] - 1s 6ms/step - loss: 2.3241 - accuracy: 0.2007\n",
      "Epoch 3/10\n",
      "134/134 [==============================] - 1s 6ms/step - loss: 2.2755 - accuracy: 0.2253\n",
      "Epoch 4/10\n",
      "134/134 [==============================] - 1s 6ms/step - loss: 2.2360 - accuracy: 0.2253\n",
      "Epoch 5/10\n",
      "134/134 [==============================] - 1s 6ms/step - loss: 2.2045 - accuracy: 0.2253\n",
      "Epoch 6/10\n",
      "134/134 [==============================] - 1s 6ms/step - loss: 2.1793 - accuracy: 0.2253\n",
      "Epoch 7/10\n",
      "134/134 [==============================] - 1s 6ms/step - loss: 2.1591 - accuracy: 0.2253\n",
      "Epoch 8/10\n",
      "134/134 [==============================] - 1s 6ms/step - loss: 2.1433 - accuracy: 0.2253\n",
      "Epoch 9/10\n",
      "134/134 [==============================] - 1s 6ms/step - loss: 2.1306 - accuracy: 0.2253\n",
      "Epoch 10/10\n",
      "134/134 [==============================] - 1s 6ms/step - loss: 2.1205 - accuracy: 0.2253\n",
      "34/34 [==============================] - 0s 2ms/step\n"
     ]
    },
    {
     "name": "stderr",
     "output_type": "stream",
     "text": [
      "/usr/local/lib/python3.10/dist-packages/keras/src/engine/training.py:3079: UserWarning: You are saving your model as an HDF5 file via `model.save()`. This file format is considered legacy. We recommend using instead the native Keras format, e.g. `model.save('my_model.keras')`.\n",
      "  saving_api.save_model(\n"
     ]
    },
    {
     "name": "stdout",
     "output_type": "stream",
     "text": [
      "Epoch 1/10\n",
      "134/134 [==============================] - 19s 126ms/step - loss: 2.1234 - accuracy: 0.2070\n",
      "Epoch 2/10\n",
      "134/134 [==============================] - 16s 118ms/step - loss: 2.0675 - accuracy: 0.2155\n",
      "Epoch 3/10\n",
      "134/134 [==============================] - 14s 107ms/step - loss: 2.0558 - accuracy: 0.2216\n",
      "Epoch 4/10\n",
      "134/134 [==============================] - 15s 110ms/step - loss: 2.0470 - accuracy: 0.2258\n",
      "Epoch 5/10\n",
      "134/134 [==============================] - 16s 119ms/step - loss: 2.0280 - accuracy: 0.2506\n",
      "Epoch 6/10\n",
      "134/134 [==============================] - 16s 122ms/step - loss: 1.9952 - accuracy: 0.2556\n",
      "Epoch 7/10\n",
      "134/134 [==============================] - 16s 121ms/step - loss: 1.9836 - accuracy: 0.2589\n",
      "Epoch 8/10\n",
      "134/134 [==============================] - 17s 125ms/step - loss: 1.9673 - accuracy: 0.2579\n",
      "Epoch 9/10\n",
      "134/134 [==============================] - 17s 127ms/step - loss: 1.9416 - accuracy: 0.2694\n",
      "Epoch 10/10\n",
      "134/134 [==============================] - 16s 116ms/step - loss: 1.9236 - accuracy: 0.2678\n"
     ]
    },
    {
     "name": "stderr",
     "output_type": "stream",
     "text": [
      "/usr/local/lib/python3.10/dist-packages/keras/src/engine/training.py:3079: UserWarning: You are saving your model as an HDF5 file via `model.save()`. This file format is considered legacy. We recommend using instead the native Keras format, e.g. `model.save('my_model.keras')`.\n",
      "  saving_api.save_model(\n"
     ]
    },
    {
     "name": "stdout",
     "output_type": "stream",
     "text": [
      "34/34 [==============================] - 2s 35ms/step\n",
      "Epoch 1/10\n",
      "134/134 [==============================] - 1s 6ms/step - loss: 1761404.1250 - accuracy: 0.2042\n",
      "Epoch 2/10\n",
      "134/134 [==============================] - 1s 6ms/step - loss: 2.3039 - accuracy: 0.2234\n",
      "Epoch 3/10\n",
      "134/134 [==============================] - 1s 6ms/step - loss: 2.2477 - accuracy: 0.2234\n",
      "Epoch 4/10\n",
      "134/134 [==============================] - 1s 6ms/step - loss: 2.2023 - accuracy: 0.2234\n",
      "Epoch 5/10\n",
      "134/134 [==============================] - 1s 6ms/step - loss: 18.6033 - accuracy: 0.2232\n",
      "Epoch 6/10\n",
      "134/134 [==============================] - 1s 6ms/step - loss: 2.1371 - accuracy: 0.2234\n",
      "Epoch 7/10\n",
      "134/134 [==============================] - 1s 6ms/step - loss: 2.1144 - accuracy: 0.2234\n",
      "Epoch 8/10\n",
      "134/134 [==============================] - 1s 6ms/step - loss: 2.0958 - accuracy: 0.2234\n",
      "Epoch 9/10\n",
      "134/134 [==============================] - 1s 6ms/step - loss: 2.0817 - accuracy: 0.2234\n",
      "Epoch 10/10\n",
      "134/134 [==============================] - 1s 6ms/step - loss: 2.0705 - accuracy: 0.2234\n",
      "34/34 [==============================] - 0s 2ms/step\n"
     ]
    },
    {
     "name": "stderr",
     "output_type": "stream",
     "text": [
      "/usr/local/lib/python3.10/dist-packages/keras/src/engine/training.py:3079: UserWarning: You are saving your model as an HDF5 file via `model.save()`. This file format is considered legacy. We recommend using instead the native Keras format, e.g. `model.save('my_model.keras')`.\n",
      "  saving_api.save_model(\n"
     ]
    },
    {
     "name": "stdout",
     "output_type": "stream",
     "text": [
      "Epoch 1/10\n",
      "134/134 [==============================] - 19s 126ms/step - loss: 2.0716 - accuracy: 0.2204\n",
      "Epoch 2/10\n",
      "134/134 [==============================] - 17s 125ms/step - loss: 1.9973 - accuracy: 0.2410\n",
      "Epoch 3/10\n",
      "134/134 [==============================] - 17s 125ms/step - loss: 1.9784 - accuracy: 0.2516\n",
      "Epoch 4/10\n",
      "134/134 [==============================] - 17s 126ms/step - loss: 1.9663 - accuracy: 0.2563\n",
      "Epoch 5/10\n",
      "134/134 [==============================] - 17s 124ms/step - loss: 1.9519 - accuracy: 0.2619\n",
      "Epoch 6/10\n",
      "134/134 [==============================] - 16s 119ms/step - loss: 1.9323 - accuracy: 0.2678\n",
      "Epoch 7/10\n",
      "134/134 [==============================] - 17s 126ms/step - loss: 1.9280 - accuracy: 0.2682\n",
      "Epoch 8/10\n",
      "134/134 [==============================] - 16s 122ms/step - loss: 1.9041 - accuracy: 0.2851\n",
      "Epoch 9/10\n",
      "134/134 [==============================] - 16s 120ms/step - loss: 1.8878 - accuracy: 0.2762\n",
      "Epoch 10/10\n",
      "134/134 [==============================] - 17s 125ms/step - loss: 1.8807 - accuracy: 0.2807\n"
     ]
    },
    {
     "name": "stderr",
     "output_type": "stream",
     "text": [
      "/usr/local/lib/python3.10/dist-packages/keras/src/engine/training.py:3079: UserWarning: You are saving your model as an HDF5 file via `model.save()`. This file format is considered legacy. We recommend using instead the native Keras format, e.g. `model.save('my_model.keras')`.\n",
      "  saving_api.save_model(\n"
     ]
    },
    {
     "name": "stdout",
     "output_type": "stream",
     "text": [
      "34/34 [==============================] - 2s 34ms/step\n"
     ]
    },
    {
     "name": "stderr",
     "output_type": "stream",
     "text": [
      "Processing Folds:  20%|██        | 1/5 [53:21<3:33:26, 3201.62s/it]"
     ]
    },
    {
     "name": "stdout",
     "output_type": "stream",
     "text": [
      "Loading data from: folds/fold_2_train.csv\n",
      "Loading data from: folds/fold_2_test.csv\n",
      "Epoch 1/10\n",
      "136/136 [==============================] - 1s 6ms/step - loss: 3468976.7500 - accuracy: 0.2117\n",
      "Epoch 2/10\n",
      "136/136 [==============================] - 1s 6ms/step - loss: 70.1603 - accuracy: 0.2506\n",
      "Epoch 3/10\n",
      "136/136 [==============================] - 1s 6ms/step - loss: 2.2646 - accuracy: 0.2509\n",
      "Epoch 4/10\n",
      "136/136 [==============================] - 1s 6ms/step - loss: 2.2226 - accuracy: 0.2509\n",
      "Epoch 5/10\n",
      "136/136 [==============================] - 1s 6ms/step - loss: 2.1889 - accuracy: 0.2509\n",
      "Epoch 6/10\n",
      "136/136 [==============================] - 1s 6ms/step - loss: 2.1621 - accuracy: 0.2509\n",
      "Epoch 7/10\n",
      "136/136 [==============================] - 1s 6ms/step - loss: 2.1411 - accuracy: 0.2509\n",
      "Epoch 8/10\n",
      "136/136 [==============================] - 1s 6ms/step - loss: 2.1245 - accuracy: 0.2509\n",
      "Epoch 9/10\n",
      "136/136 [==============================] - 1s 6ms/step - loss: 2.1116 - accuracy: 0.2509\n",
      "Epoch 10/10\n",
      "136/136 [==============================] - 1s 6ms/step - loss: 2.1013 - accuracy: 0.2509\n",
      "32/32 [==============================] - 0s 2ms/step\n"
     ]
    },
    {
     "name": "stderr",
     "output_type": "stream",
     "text": [
      "/usr/local/lib/python3.10/dist-packages/keras/src/engine/training.py:3079: UserWarning: You are saving your model as an HDF5 file via `model.save()`. This file format is considered legacy. We recommend using instead the native Keras format, e.g. `model.save('my_model.keras')`.\n",
      "  saving_api.save_model(\n"
     ]
    },
    {
     "name": "stdout",
     "output_type": "stream",
     "text": [
      "Epoch 1/10\n",
      "136/136 [==============================] - 20s 128ms/step - loss: 2.1166 - accuracy: 0.2260\n",
      "Epoch 2/10\n",
      "136/136 [==============================] - 17s 129ms/step - loss: 2.0286 - accuracy: 0.2391\n",
      "Epoch 3/10\n",
      "136/136 [==============================] - 18s 129ms/step - loss: 2.0168 - accuracy: 0.2396\n",
      "Epoch 4/10\n",
      "136/136 [==============================] - 17s 126ms/step - loss: 1.9961 - accuracy: 0.2458\n",
      "Epoch 5/10\n",
      "136/136 [==============================] - 17s 125ms/step - loss: 1.9781 - accuracy: 0.2470\n",
      "Epoch 6/10\n",
      "136/136 [==============================] - 17s 125ms/step - loss: 1.9675 - accuracy: 0.2527\n",
      "Epoch 7/10\n",
      "136/136 [==============================] - 17s 125ms/step - loss: 1.9578 - accuracy: 0.2559\n",
      "Epoch 8/10\n",
      "136/136 [==============================] - 16s 120ms/step - loss: 1.9391 - accuracy: 0.2573\n",
      "Epoch 9/10\n",
      "136/136 [==============================] - 16s 115ms/step - loss: 1.9238 - accuracy: 0.2679\n",
      "Epoch 10/10\n",
      "136/136 [==============================] - 17s 123ms/step - loss: 1.9108 - accuracy: 0.2789\n"
     ]
    },
    {
     "name": "stderr",
     "output_type": "stream",
     "text": [
      "/usr/local/lib/python3.10/dist-packages/keras/src/engine/training.py:3079: UserWarning: You are saving your model as an HDF5 file via `model.save()`. This file format is considered legacy. We recommend using instead the native Keras format, e.g. `model.save('my_model.keras')`.\n",
      "  saving_api.save_model(\n"
     ]
    },
    {
     "name": "stdout",
     "output_type": "stream",
     "text": [
      "32/32 [==============================] - 2s 35ms/step\n",
      "Epoch 1/10\n",
      "136/136 [==============================] - 1s 6ms/step - loss: 3259868.2500 - accuracy: 0.1443\n",
      "Epoch 2/10\n",
      "136/136 [==============================] - 1s 4ms/step - loss: 32.8395 - accuracy: 0.2175\n",
      "Epoch 3/10\n",
      "136/136 [==============================] - 1s 6ms/step - loss: 15.7182 - accuracy: 0.2173\n",
      "Epoch 4/10\n",
      "136/136 [==============================] - 1s 6ms/step - loss: 2.2869 - accuracy: 0.2175\n",
      "Epoch 5/10\n",
      "136/136 [==============================] - 1s 6ms/step - loss: 2.2667 - accuracy: 0.2175\n",
      "Epoch 6/10\n",
      "136/136 [==============================] - 1s 6ms/step - loss: 2.2514 - accuracy: 0.2175\n",
      "Epoch 7/10\n",
      "136/136 [==============================] - 1s 6ms/step - loss: 3.1219 - accuracy: 0.2173\n",
      "Epoch 8/10\n",
      "136/136 [==============================] - 1s 6ms/step - loss: 2.3536 - accuracy: 0.2173\n",
      "Epoch 9/10\n",
      "136/136 [==============================] - 1s 6ms/step - loss: 2.2255 - accuracy: 0.2175\n",
      "Epoch 10/10\n",
      "136/136 [==============================] - 1s 6ms/step - loss: 2.2214 - accuracy: 0.2175\n",
      "32/32 [==============================] - 0s 2ms/step\n"
     ]
    },
    {
     "name": "stderr",
     "output_type": "stream",
     "text": [
      "/usr/local/lib/python3.10/dist-packages/keras/src/engine/training.py:3079: UserWarning: You are saving your model as an HDF5 file via `model.save()`. This file format is considered legacy. We recommend using instead the native Keras format, e.g. `model.save('my_model.keras')`.\n",
      "  saving_api.save_model(\n"
     ]
    },
    {
     "name": "stdout",
     "output_type": "stream",
     "text": [
      "Epoch 1/10\n",
      "136/136 [==============================] - 19s 127ms/step - loss: 2.2393 - accuracy: 0.1979\n",
      "Epoch 2/10\n",
      "136/136 [==============================] - 17s 124ms/step - loss: 2.1871 - accuracy: 0.2189\n",
      "Epoch 3/10\n",
      "136/136 [==============================] - 15s 114ms/step - loss: 2.1539 - accuracy: 0.2239\n",
      "Epoch 4/10\n",
      "136/136 [==============================] - 15s 107ms/step - loss: 2.1461 - accuracy: 0.2189\n",
      "Epoch 5/10\n",
      "136/136 [==============================] - 16s 114ms/step - loss: 2.1292 - accuracy: 0.2269\n",
      "Epoch 6/10\n",
      "136/136 [==============================] - 16s 121ms/step - loss: 2.1167 - accuracy: 0.2290\n",
      "Epoch 7/10\n",
      "136/136 [==============================] - 16s 115ms/step - loss: 2.1124 - accuracy: 0.2299\n",
      "Epoch 8/10\n",
      "136/136 [==============================] - 16s 115ms/step - loss: 2.1029 - accuracy: 0.2350\n",
      "Epoch 9/10\n",
      "136/136 [==============================] - 17s 125ms/step - loss: 2.0942 - accuracy: 0.2442\n",
      "Epoch 10/10\n",
      "136/136 [==============================] - 17s 125ms/step - loss: 2.0642 - accuracy: 0.2539\n"
     ]
    },
    {
     "name": "stderr",
     "output_type": "stream",
     "text": [
      "/usr/local/lib/python3.10/dist-packages/keras/src/engine/training.py:3079: UserWarning: You are saving your model as an HDF5 file via `model.save()`. This file format is considered legacy. We recommend using instead the native Keras format, e.g. `model.save('my_model.keras')`.\n",
      "  saving_api.save_model(\n"
     ]
    },
    {
     "name": "stdout",
     "output_type": "stream",
     "text": [
      "32/32 [==============================] - 2s 37ms/step\n",
      "Epoch 1/10\n",
      "136/136 [==============================] - 1s 6ms/step - loss: 2199005.0000 - accuracy: 0.1837\n",
      "Epoch 2/10\n",
      "136/136 [==============================] - 1s 6ms/step - loss: 8.0947 - accuracy: 0.2000\n",
      "Epoch 3/10\n",
      "136/136 [==============================] - 1s 6ms/step - loss: 2.2683 - accuracy: 0.2005\n",
      "Epoch 4/10\n",
      "136/136 [==============================] - 1s 6ms/step - loss: 2.2293 - accuracy: 0.2005\n",
      "Epoch 5/10\n",
      "136/136 [==============================] - 1s 6ms/step - loss: 2.1983 - accuracy: 0.2005\n",
      "Epoch 6/10\n",
      "136/136 [==============================] - 1s 6ms/step - loss: 2.1737 - accuracy: 0.1940\n",
      "Epoch 7/10\n",
      "136/136 [==============================] - 1s 6ms/step - loss: 2.1541 - accuracy: 0.2048\n",
      "Epoch 8/10\n",
      "136/136 [==============================] - 1s 6ms/step - loss: 2.1389 - accuracy: 0.2090\n",
      "Epoch 9/10\n",
      "136/136 [==============================] - 1s 6ms/step - loss: 2.1260 - accuracy: 0.2092\n",
      "Epoch 10/10\n",
      "136/136 [==============================] - 1s 6ms/step - loss: 2.1160 - accuracy: 0.2092\n",
      " 1/32 [..............................] - ETA: 1s"
     ]
    },
    {
     "name": "stderr",
     "output_type": "stream",
     "text": [
      "/usr/local/lib/python3.10/dist-packages/keras/src/engine/training.py:3079: UserWarning: You are saving your model as an HDF5 file via `model.save()`. This file format is considered legacy. We recommend using instead the native Keras format, e.g. `model.save('my_model.keras')`.\n",
      "  saving_api.save_model(\n"
     ]
    },
    {
     "name": "stdout",
     "output_type": "stream",
     "text": [
      "32/32 [==============================] - 0s 2ms/step\n",
      "Epoch 1/10\n",
      "136/136 [==============================] - 20s 128ms/step - loss: 2.1203 - accuracy: 0.1993\n",
      "Epoch 2/10\n",
      "136/136 [==============================] - 17s 124ms/step - loss: 2.0718 - accuracy: 0.2007\n",
      "Epoch 3/10\n",
      "136/136 [==============================] - 17s 123ms/step - loss: 2.0405 - accuracy: 0.2009\n",
      "Epoch 4/10\n",
      "136/136 [==============================] - 17s 122ms/step - loss: 2.0272 - accuracy: 0.2127\n",
      "Epoch 5/10\n",
      "136/136 [==============================] - 17s 123ms/step - loss: 2.0169 - accuracy: 0.2209\n",
      "Epoch 6/10\n",
      "136/136 [==============================] - 16s 120ms/step - loss: 1.9940 - accuracy: 0.2281\n",
      "Epoch 7/10\n",
      "136/136 [==============================] - 11s 82ms/step - loss: 1.9769 - accuracy: 0.2380\n",
      "Epoch 8/10\n",
      "136/136 [==============================] - 15s 112ms/step - loss: 1.9638 - accuracy: 0.2400\n",
      "Epoch 9/10\n",
      "136/136 [==============================] - 16s 121ms/step - loss: 1.9427 - accuracy: 0.2539\n",
      "Epoch 10/10\n",
      "136/136 [==============================] - 17s 124ms/step - loss: 1.9258 - accuracy: 0.2598\n"
     ]
    },
    {
     "name": "stderr",
     "output_type": "stream",
     "text": [
      "/usr/local/lib/python3.10/dist-packages/keras/src/engine/training.py:3079: UserWarning: You are saving your model as an HDF5 file via `model.save()`. This file format is considered legacy. We recommend using instead the native Keras format, e.g. `model.save('my_model.keras')`.\n",
      "  saving_api.save_model(\n"
     ]
    },
    {
     "name": "stdout",
     "output_type": "stream",
     "text": [
      "32/32 [==============================] - 2s 35ms/step\n",
      "Epoch 1/10\n",
      "136/136 [==============================] - 1s 6ms/step - loss: 2511671.5000 - accuracy: 0.2759\n",
      "Epoch 2/10\n",
      "136/136 [==============================] - 1s 6ms/step - loss: 127.1809 - accuracy: 0.3296\n",
      "Epoch 3/10\n",
      "136/136 [==============================] - 1s 6ms/step - loss: 2.2036 - accuracy: 0.3296\n",
      "Epoch 4/10\n",
      "136/136 [==============================] - 1s 6ms/step - loss: 2.1407 - accuracy: 0.3296\n",
      "Epoch 5/10\n",
      "136/136 [==============================] - 1s 6ms/step - loss: 2.0893 - accuracy: 0.3296\n",
      "Epoch 6/10\n",
      "136/136 [==============================] - 1s 6ms/step - loss: 2.0474 - accuracy: 0.3296\n",
      "Epoch 7/10\n",
      "136/136 [==============================] - 1s 6ms/step - loss: 2.0135 - accuracy: 0.3296\n",
      "Epoch 8/10\n",
      "136/136 [==============================] - 1s 6ms/step - loss: 1.9863 - accuracy: 0.3296\n",
      "Epoch 9/10\n",
      "136/136 [==============================] - 1s 6ms/step - loss: 1.9645 - accuracy: 0.3296\n",
      "Epoch 10/10\n",
      "136/136 [==============================] - 1s 6ms/step - loss: 1.9471 - accuracy: 0.3296\n",
      "32/32 [==============================] - 0s 2ms/step\n"
     ]
    },
    {
     "name": "stderr",
     "output_type": "stream",
     "text": [
      "/usr/local/lib/python3.10/dist-packages/keras/src/engine/training.py:3079: UserWarning: You are saving your model as an HDF5 file via `model.save()`. This file format is considered legacy. We recommend using instead the native Keras format, e.g. `model.save('my_model.keras')`.\n",
      "  saving_api.save_model(\n"
     ]
    },
    {
     "name": "stdout",
     "output_type": "stream",
     "text": [
      "Epoch 1/10\n",
      "136/136 [==============================] - 21s 126ms/step - loss: 1.9443 - accuracy: 0.3128\n",
      "Epoch 2/10\n",
      "136/136 [==============================] - 17s 127ms/step - loss: 1.8537 - accuracy: 0.3158\n",
      "Epoch 3/10\n",
      "136/136 [==============================] - 17s 126ms/step - loss: 1.8206 - accuracy: 0.3245\n",
      "Epoch 4/10\n",
      "136/136 [==============================] - 17s 126ms/step - loss: 1.7945 - accuracy: 0.3335\n",
      "Epoch 5/10\n",
      "136/136 [==============================] - 16s 118ms/step - loss: 1.7656 - accuracy: 0.3636\n",
      "Epoch 6/10\n",
      "136/136 [==============================] - 17s 125ms/step - loss: 1.7545 - accuracy: 0.3616\n",
      "Epoch 7/10\n",
      "136/136 [==============================] - 17s 126ms/step - loss: 1.7303 - accuracy: 0.3726\n",
      "Epoch 8/10\n",
      "136/136 [==============================] - 17s 123ms/step - loss: 1.7335 - accuracy: 0.3763\n",
      "Epoch 9/10\n",
      "136/136 [==============================] - 17s 126ms/step - loss: 1.7141 - accuracy: 0.3855\n",
      "Epoch 10/10\n",
      "136/136 [==============================] - 17s 125ms/step - loss: 1.7062 - accuracy: 0.3800\n"
     ]
    },
    {
     "name": "stderr",
     "output_type": "stream",
     "text": [
      "/usr/local/lib/python3.10/dist-packages/keras/src/engine/training.py:3079: UserWarning: You are saving your model as an HDF5 file via `model.save()`. This file format is considered legacy. We recommend using instead the native Keras format, e.g. `model.save('my_model.keras')`.\n",
      "  saving_api.save_model(\n"
     ]
    },
    {
     "name": "stdout",
     "output_type": "stream",
     "text": [
      "32/32 [==============================] - 2s 35ms/step\n",
      "Epoch 1/10\n",
      "136/136 [==============================] - 1s 6ms/step - loss: 1987188.2500 - accuracy: 0.1634\n",
      "Epoch 2/10\n",
      "136/136 [==============================] - 1s 6ms/step - loss: 2.3257 - accuracy: 0.2272\n",
      "Epoch 3/10\n",
      "136/136 [==============================] - 1s 6ms/step - loss: 2.2797 - accuracy: 0.2272\n",
      "Epoch 4/10\n",
      "136/136 [==============================] - 1s 6ms/step - loss: 2.2425 - accuracy: 0.2272\n",
      "Epoch 5/10\n",
      "136/136 [==============================] - 1s 6ms/step - loss: 2.2127 - accuracy: 0.2272\n",
      "Epoch 6/10\n",
      "136/136 [==============================] - 1s 6ms/step - loss: 2.1892 - accuracy: 0.2272\n",
      "Epoch 7/10\n",
      "136/136 [==============================] - 1s 6ms/step - loss: 2.1708 - accuracy: 0.2272\n",
      "Epoch 8/10\n",
      "136/136 [==============================] - 1s 6ms/step - loss: 2.1565 - accuracy: 0.2272\n",
      "Epoch 9/10\n",
      "136/136 [==============================] - 1s 6ms/step - loss: 2.1453 - accuracy: 0.2272\n",
      "Epoch 10/10\n",
      "136/136 [==============================] - 1s 6ms/step - loss: 2.1367 - accuracy: 0.2272\n",
      "32/32 [==============================] - 0s 2ms/step\n"
     ]
    },
    {
     "name": "stderr",
     "output_type": "stream",
     "text": [
      "/usr/local/lib/python3.10/dist-packages/keras/src/engine/training.py:3079: UserWarning: You are saving your model as an HDF5 file via `model.save()`. This file format is considered legacy. We recommend using instead the native Keras format, e.g. `model.save('my_model.keras')`.\n",
      "  saving_api.save_model(\n"
     ]
    },
    {
     "name": "stdout",
     "output_type": "stream",
     "text": [
      "Epoch 1/10\n",
      "136/136 [==============================] - 19s 124ms/step - loss: 2.1470 - accuracy: 0.2053\n",
      "Epoch 2/10\n",
      "136/136 [==============================] - 16s 116ms/step - loss: 2.1048 - accuracy: 0.2278\n",
      "Epoch 3/10\n",
      "136/136 [==============================] - 14s 105ms/step - loss: 2.0917 - accuracy: 0.2221\n",
      "Epoch 4/10\n",
      "136/136 [==============================] - 15s 108ms/step - loss: 2.0786 - accuracy: 0.2299\n",
      "Epoch 5/10\n",
      "136/136 [==============================] - 17s 123ms/step - loss: 2.0651 - accuracy: 0.2331\n",
      "Epoch 6/10\n",
      "136/136 [==============================] - 15s 109ms/step - loss: 2.0581 - accuracy: 0.2301\n",
      "Epoch 7/10\n",
      "136/136 [==============================] - 16s 116ms/step - loss: 2.0421 - accuracy: 0.2368\n",
      "Epoch 8/10\n",
      "136/136 [==============================] - 16s 118ms/step - loss: 2.0247 - accuracy: 0.2456\n",
      "Epoch 9/10\n",
      "136/136 [==============================] - 14s 106ms/step - loss: 2.0164 - accuracy: 0.2499\n",
      "Epoch 10/10\n",
      "136/136 [==============================] - 16s 118ms/step - loss: 1.9848 - accuracy: 0.2709\n"
     ]
    },
    {
     "name": "stderr",
     "output_type": "stream",
     "text": [
      "/usr/local/lib/python3.10/dist-packages/keras/src/engine/training.py:3079: UserWarning: You are saving your model as an HDF5 file via `model.save()`. This file format is considered legacy. We recommend using instead the native Keras format, e.g. `model.save('my_model.keras')`.\n",
      "  saving_api.save_model(\n"
     ]
    },
    {
     "name": "stdout",
     "output_type": "stream",
     "text": [
      "32/32 [==============================] - 2s 36ms/step\n",
      "Epoch 1/10\n",
      "136/136 [==============================] - 1s 6ms/step - loss: 2418855.5000 - accuracy: 0.1588\n",
      "Epoch 2/10\n",
      "136/136 [==============================] - 1s 6ms/step - loss: 2.3386 - accuracy: 0.1678\n",
      "Epoch 3/10\n",
      "136/136 [==============================] - 1s 6ms/step - loss: 2.3018 - accuracy: 0.1869\n",
      "Epoch 4/10\n",
      "136/136 [==============================] - 1s 6ms/step - loss: 2.2725 - accuracy: 0.2028\n",
      "Epoch 5/10\n",
      "136/136 [==============================] - 1s 6ms/step - loss: 2.2491 - accuracy: 0.2028\n",
      "Epoch 6/10\n",
      "136/136 [==============================] - 1s 6ms/step - loss: 2.2306 - accuracy: 0.2028\n",
      "Epoch 7/10\n",
      "136/136 [==============================] - 1s 6ms/step - loss: 2.2160 - accuracy: 0.2028\n",
      "Epoch 8/10\n",
      "136/136 [==============================] - 1s 6ms/step - loss: 2.2047 - accuracy: 0.2028\n",
      "Epoch 9/10\n",
      "136/136 [==============================] - 1s 6ms/step - loss: 2.1957 - accuracy: 0.2028\n",
      "Epoch 10/10\n",
      "136/136 [==============================] - 1s 6ms/step - loss: 2.1885 - accuracy: 0.2028\n",
      "24/32 [=====================>........] - ETA: 0s"
     ]
    },
    {
     "name": "stderr",
     "output_type": "stream",
     "text": [
      "/usr/local/lib/python3.10/dist-packages/keras/src/engine/training.py:3079: UserWarning: You are saving your model as an HDF5 file via `model.save()`. This file format is considered legacy. We recommend using instead the native Keras format, e.g. `model.save('my_model.keras')`.\n",
      "  saving_api.save_model(\n"
     ]
    },
    {
     "name": "stdout",
     "output_type": "stream",
     "text": [
      "32/32 [==============================] - 0s 2ms/step\n",
      "Epoch 1/10\n",
      "136/136 [==============================] - 20s 128ms/step - loss: 2.2041 - accuracy: 0.1768\n",
      "Epoch 2/10\n",
      "136/136 [==============================] - 17s 126ms/step - loss: 2.1646 - accuracy: 0.1965\n",
      "Epoch 3/10\n",
      "136/136 [==============================] - 17s 127ms/step - loss: 2.1405 - accuracy: 0.2030\n",
      "Epoch 4/10\n",
      "136/136 [==============================] - 17s 127ms/step - loss: 2.1256 - accuracy: 0.2127\n",
      "Epoch 5/10\n",
      "136/136 [==============================] - 17s 126ms/step - loss: 2.1234 - accuracy: 0.2122\n",
      "Epoch 6/10\n",
      "136/136 [==============================] - 17s 125ms/step - loss: 2.1070 - accuracy: 0.2124\n",
      "Epoch 7/10\n",
      "136/136 [==============================] - 17s 125ms/step - loss: 2.0960 - accuracy: 0.2203\n",
      "Epoch 8/10\n",
      "136/136 [==============================] - 17s 124ms/step - loss: 2.0923 - accuracy: 0.2186\n",
      "Epoch 9/10\n",
      "136/136 [==============================] - 17s 124ms/step - loss: 2.0836 - accuracy: 0.2212\n",
      "Epoch 10/10\n",
      "136/136 [==============================] - 17s 126ms/step - loss: 2.0671 - accuracy: 0.2198\n"
     ]
    },
    {
     "name": "stderr",
     "output_type": "stream",
     "text": [
      "/usr/local/lib/python3.10/dist-packages/keras/src/engine/training.py:3079: UserWarning: You are saving your model as an HDF5 file via `model.save()`. This file format is considered legacy. We recommend using instead the native Keras format, e.g. `model.save('my_model.keras')`.\n",
      "  saving_api.save_model(\n"
     ]
    },
    {
     "name": "stdout",
     "output_type": "stream",
     "text": [
      "32/32 [==============================] - 2s 36ms/step\n",
      "Epoch 1/10\n",
      "136/136 [==============================] - 1s 6ms/step - loss: 2256930.2500 - accuracy: 0.3991\n",
      "Epoch 2/10\n",
      "136/136 [==============================] - 1s 6ms/step - loss: 53.3545 - accuracy: 0.5139\n",
      "Epoch 3/10\n",
      "136/136 [==============================] - 1s 6ms/step - loss: 2.0150 - accuracy: 0.5142\n",
      "Epoch 4/10\n",
      "136/136 [==============================] - 1s 7ms/step - loss: 1.8863 - accuracy: 0.5142\n",
      "Epoch 5/10\n",
      "136/136 [==============================] - 1s 6ms/step - loss: 1.7770 - accuracy: 0.5142\n",
      "Epoch 6/10\n",
      "136/136 [==============================] - 1s 6ms/step - loss: 1.6844 - accuracy: 0.5142\n",
      "Epoch 7/10\n",
      "136/136 [==============================] - 1s 6ms/step - loss: 1.6061 - accuracy: 0.5142\n",
      "Epoch 8/10\n",
      "136/136 [==============================] - 1s 6ms/step - loss: 1.5399 - accuracy: 0.5142\n",
      "Epoch 9/10\n",
      "136/136 [==============================] - 1s 6ms/step - loss: 1.4841 - accuracy: 0.5142\n",
      "Epoch 10/10\n",
      "136/136 [==============================] - 1s 6ms/step - loss: 1.4369 - accuracy: 0.5142\n",
      "32/32 [==============================] - 0s 2ms/step\n"
     ]
    },
    {
     "name": "stderr",
     "output_type": "stream",
     "text": [
      "/usr/local/lib/python3.10/dist-packages/keras/src/engine/training.py:3079: UserWarning: You are saving your model as an HDF5 file via `model.save()`. This file format is considered legacy. We recommend using instead the native Keras format, e.g. `model.save('my_model.keras')`.\n",
      "  saving_api.save_model(\n"
     ]
    },
    {
     "name": "stdout",
     "output_type": "stream",
     "text": [
      "Epoch 1/10\n",
      "136/136 [==============================] - 19s 123ms/step - loss: 1.2981 - accuracy: 0.4552\n",
      "Epoch 2/10\n",
      "136/136 [==============================] - 16s 121ms/step - loss: 1.1600 - accuracy: 0.5015\n",
      "Epoch 3/10\n",
      "136/136 [==============================] - 16s 120ms/step - loss: 1.1464 - accuracy: 0.5112\n",
      "Epoch 4/10\n",
      "136/136 [==============================] - 17s 122ms/step - loss: 1.1233 - accuracy: 0.5139\n",
      "Epoch 5/10\n",
      "136/136 [==============================] - 16s 118ms/step - loss: 1.1192 - accuracy: 0.5086\n",
      "Epoch 6/10\n",
      "136/136 [==============================] - 16s 117ms/step - loss: 1.1202 - accuracy: 0.5135\n",
      "Epoch 7/10\n",
      "136/136 [==============================] - 16s 119ms/step - loss: 1.1085 - accuracy: 0.5146\n",
      "Epoch 8/10\n",
      "136/136 [==============================] - 16s 121ms/step - loss: 1.1030 - accuracy: 0.5142\n",
      "Epoch 9/10\n",
      "136/136 [==============================] - 17s 126ms/step - loss: 1.1014 - accuracy: 0.5112\n",
      "Epoch 10/10\n",
      "136/136 [==============================] - 17s 126ms/step - loss: 1.0943 - accuracy: 0.5121\n"
     ]
    },
    {
     "name": "stderr",
     "output_type": "stream",
     "text": [
      "/usr/local/lib/python3.10/dist-packages/keras/src/engine/training.py:3079: UserWarning: You are saving your model as an HDF5 file via `model.save()`. This file format is considered legacy. We recommend using instead the native Keras format, e.g. `model.save('my_model.keras')`.\n",
      "  saving_api.save_model(\n"
     ]
    },
    {
     "name": "stdout",
     "output_type": "stream",
     "text": [
      "32/32 [==============================] - 2s 35ms/step\n",
      "Epoch 1/10\n",
      "136/136 [==============================] - 1s 6ms/step - loss: 1730900.5000 - accuracy: 0.3745\n",
      "Epoch 2/10\n",
      "136/136 [==============================] - 1s 6ms/step - loss: 1976.5862 - accuracy: 0.3809\n",
      "Epoch 3/10\n",
      "136/136 [==============================] - 1s 6ms/step - loss: 2.0068 - accuracy: 0.3843\n",
      "Epoch 4/10\n",
      "136/136 [==============================] - 1s 6ms/step - loss: 76.5585 - accuracy: 0.3984\n",
      "Epoch 5/10\n",
      "136/136 [==============================] - 1s 6ms/step - loss: 1.7722 - accuracy: 0.3986\n",
      "Epoch 6/10\n",
      "136/136 [==============================] - 1s 6ms/step - loss: 1.6818 - accuracy: 0.3986\n",
      "Epoch 7/10\n",
      "136/136 [==============================] - 1s 6ms/step - loss: 1.6062 - accuracy: 0.3986\n",
      "Epoch 8/10\n",
      "136/136 [==============================] - 1s 6ms/step - loss: 1.5431 - accuracy: 0.3986\n",
      "Epoch 9/10\n",
      "136/136 [==============================] - 1s 6ms/step - loss: 1.4904 - accuracy: 0.3986\n",
      "Epoch 10/10\n",
      "136/136 [==============================] - 1s 6ms/step - loss: 1.4465 - accuracy: 0.3986\n",
      "32/32 [==============================] - 0s 2ms/step\n"
     ]
    },
    {
     "name": "stderr",
     "output_type": "stream",
     "text": [
      "/usr/local/lib/python3.10/dist-packages/keras/src/engine/training.py:3079: UserWarning: You are saving your model as an HDF5 file via `model.save()`. This file format is considered legacy. We recommend using instead the native Keras format, e.g. `model.save('my_model.keras')`.\n",
      "  saving_api.save_model(\n"
     ]
    },
    {
     "name": "stdout",
     "output_type": "stream",
     "text": [
      "Epoch 1/10\n",
      "136/136 [==============================] - 19s 126ms/step - loss: 1.3094 - accuracy: 0.3795\n",
      "Epoch 2/10\n",
      "136/136 [==============================] - 17s 125ms/step - loss: 1.1845 - accuracy: 0.4002\n",
      "Epoch 3/10\n",
      "136/136 [==============================] - 17s 122ms/step - loss: 1.1735 - accuracy: 0.4122\n",
      "Epoch 4/10\n",
      "136/136 [==============================] - 17s 123ms/step - loss: 1.1604 - accuracy: 0.4343\n",
      "Epoch 5/10\n",
      "136/136 [==============================] - 17s 124ms/step - loss: 1.1584 - accuracy: 0.4223\n",
      "Epoch 6/10\n",
      "136/136 [==============================] - 17s 122ms/step - loss: 1.1481 - accuracy: 0.4384\n",
      "Epoch 7/10\n",
      "136/136 [==============================] - 17s 123ms/step - loss: 1.1447 - accuracy: 0.4327\n",
      "Epoch 8/10\n",
      "136/136 [==============================] - 17s 123ms/step - loss: 1.1418 - accuracy: 0.4304\n",
      "Epoch 9/10\n",
      "136/136 [==============================] - 17s 125ms/step - loss: 1.1359 - accuracy: 0.4412\n",
      "Epoch 10/10\n",
      "136/136 [==============================] - 17s 124ms/step - loss: 1.1379 - accuracy: 0.4352\n"
     ]
    },
    {
     "name": "stderr",
     "output_type": "stream",
     "text": [
      "/usr/local/lib/python3.10/dist-packages/keras/src/engine/training.py:3079: UserWarning: You are saving your model as an HDF5 file via `model.save()`. This file format is considered legacy. We recommend using instead the native Keras format, e.g. `model.save('my_model.keras')`.\n",
      "  saving_api.save_model(\n"
     ]
    },
    {
     "name": "stdout",
     "output_type": "stream",
     "text": [
      "32/32 [==============================] - 2s 36ms/step\n",
      "Epoch 1/10\n",
      "136/136 [==============================] - 1s 6ms/step - loss: 3306919.0000 - accuracy: 0.3696\n",
      "Epoch 2/10\n",
      "136/136 [==============================] - 1s 6ms/step - loss: 103.2898 - accuracy: 0.4189\n",
      "Epoch 3/10\n",
      "136/136 [==============================] - 1s 6ms/step - loss: 2.2255 - accuracy: 0.4203\n",
      "Epoch 4/10\n",
      "136/136 [==============================] - 1s 6ms/step - loss: 3.7782 - accuracy: 0.4203\n",
      "Epoch 5/10\n",
      "136/136 [==============================] - 1s 6ms/step - loss: 1.7754 - accuracy: 0.4205\n",
      "Epoch 6/10\n",
      "136/136 [==============================] - 1s 6ms/step - loss: 4.6855 - accuracy: 0.4203\n",
      "Epoch 7/10\n",
      "136/136 [==============================] - 1s 6ms/step - loss: 6.3371 - accuracy: 0.4203\n",
      "Epoch 8/10\n",
      "136/136 [==============================] - 1s 6ms/step - loss: 3.1271 - accuracy: 0.4203\n",
      "Epoch 9/10\n",
      "136/136 [==============================] - 1s 6ms/step - loss: 3.3772 - accuracy: 0.4205\n",
      "Epoch 10/10\n",
      "136/136 [==============================] - 1s 6ms/step - loss: 1.8127 - accuracy: 0.4205\n",
      "32/32 [==============================] - 0s 2ms/step\n"
     ]
    },
    {
     "name": "stderr",
     "output_type": "stream",
     "text": [
      "/usr/local/lib/python3.10/dist-packages/keras/src/engine/training.py:3079: UserWarning: You are saving your model as an HDF5 file via `model.save()`. This file format is considered legacy. We recommend using instead the native Keras format, e.g. `model.save('my_model.keras')`.\n",
      "  saving_api.save_model(\n"
     ]
    },
    {
     "name": "stdout",
     "output_type": "stream",
     "text": [
      "Epoch 1/10\n",
      "136/136 [==============================] - 19s 125ms/step - loss: 1.3386 - accuracy: 0.3735\n",
      "Epoch 2/10\n",
      "136/136 [==============================] - 17s 124ms/step - loss: 1.1731 - accuracy: 0.4255\n",
      "Epoch 3/10\n",
      "136/136 [==============================] - 17s 126ms/step - loss: 1.1588 - accuracy: 0.4295\n",
      "Epoch 4/10\n",
      "136/136 [==============================] - 17s 123ms/step - loss: 1.1453 - accuracy: 0.4389\n",
      "Epoch 5/10\n",
      "136/136 [==============================] - 17s 126ms/step - loss: 1.1470 - accuracy: 0.4345\n",
      "Epoch 6/10\n",
      "136/136 [==============================] - 17s 126ms/step - loss: 1.1423 - accuracy: 0.4327\n",
      "Epoch 7/10\n",
      "136/136 [==============================] - 17s 124ms/step - loss: 1.1412 - accuracy: 0.4260\n",
      "Epoch 8/10\n",
      "136/136 [==============================] - 17s 124ms/step - loss: 1.1365 - accuracy: 0.4301\n",
      "Epoch 9/10\n",
      "136/136 [==============================] - 17s 121ms/step - loss: 1.1333 - accuracy: 0.4430\n",
      "Epoch 10/10\n",
      "136/136 [==============================] - 17s 123ms/step - loss: 1.1298 - accuracy: 0.4479\n"
     ]
    },
    {
     "name": "stderr",
     "output_type": "stream",
     "text": [
      "/usr/local/lib/python3.10/dist-packages/keras/src/engine/training.py:3079: UserWarning: You are saving your model as an HDF5 file via `model.save()`. This file format is considered legacy. We recommend using instead the native Keras format, e.g. `model.save('my_model.keras')`.\n",
      "  saving_api.save_model(\n"
     ]
    },
    {
     "name": "stdout",
     "output_type": "stream",
     "text": [
      "32/32 [==============================] - 2s 35ms/step\n",
      "Epoch 1/10\n",
      "136/136 [==============================] - 1s 6ms/step - loss: 2548825.7500 - accuracy: 0.4688\n",
      "Epoch 2/10\n",
      "136/136 [==============================] - 1s 6ms/step - loss: 533.8464 - accuracy: 0.5567\n",
      "Epoch 3/10\n",
      "136/136 [==============================] - 1s 6ms/step - loss: 1.9979 - accuracy: 0.5574\n",
      "Epoch 4/10\n",
      "136/136 [==============================] - 1s 6ms/step - loss: 1.8579 - accuracy: 0.5574\n",
      "Epoch 5/10\n",
      "136/136 [==============================] - 1s 6ms/step - loss: 1.7387 - accuracy: 0.5574\n",
      "Epoch 6/10\n",
      "136/136 [==============================] - 1s 6ms/step - loss: 1.6371 - accuracy: 0.5574\n",
      "Epoch 7/10\n",
      "136/136 [==============================] - 1s 6ms/step - loss: 1.5509 - accuracy: 0.5574\n",
      "Epoch 8/10\n",
      "136/136 [==============================] - 1s 6ms/step - loss: 1.4779 - accuracy: 0.5574\n",
      "Epoch 9/10\n",
      "136/136 [==============================] - 1s 6ms/step - loss: 1.4161 - accuracy: 0.5574\n",
      "Epoch 10/10\n",
      "136/136 [==============================] - 1s 6ms/step - loss: 1.3641 - accuracy: 0.5574\n",
      "32/32 [==============================] - 0s 2ms/step\n"
     ]
    },
    {
     "name": "stderr",
     "output_type": "stream",
     "text": [
      "/usr/local/lib/python3.10/dist-packages/keras/src/engine/training.py:3079: UserWarning: You are saving your model as an HDF5 file via `model.save()`. This file format is considered legacy. We recommend using instead the native Keras format, e.g. `model.save('my_model.keras')`.\n",
      "  saving_api.save_model(\n"
     ]
    },
    {
     "name": "stdout",
     "output_type": "stream",
     "text": [
      "Epoch 1/10\n",
      "136/136 [==============================] - 19s 123ms/step - loss: 1.1828 - accuracy: 0.5238\n",
      "Epoch 2/10\n",
      "136/136 [==============================] - 17s 124ms/step - loss: 1.0533 - accuracy: 0.5507\n",
      "Epoch 3/10\n",
      "136/136 [==============================] - 16s 117ms/step - loss: 1.0411 - accuracy: 0.5565\n",
      "Epoch 4/10\n",
      "136/136 [==============================] - 16s 121ms/step - loss: 1.0271 - accuracy: 0.5565\n",
      "Epoch 5/10\n",
      "136/136 [==============================] - 17s 127ms/step - loss: 1.0179 - accuracy: 0.5567\n",
      "Epoch 6/10\n",
      "136/136 [==============================] - 17s 122ms/step - loss: 1.0071 - accuracy: 0.5574\n",
      "Epoch 7/10\n",
      "136/136 [==============================] - 17s 123ms/step - loss: 0.9983 - accuracy: 0.5572\n",
      "Epoch 8/10\n",
      "136/136 [==============================] - 17s 125ms/step - loss: 0.9899 - accuracy: 0.5549\n",
      "Epoch 9/10\n",
      "136/136 [==============================] - 16s 121ms/step - loss: 0.9817 - accuracy: 0.5560\n",
      "Epoch 10/10\n",
      "136/136 [==============================] - 16s 120ms/step - loss: 0.9794 - accuracy: 0.5579\n"
     ]
    },
    {
     "name": "stderr",
     "output_type": "stream",
     "text": [
      "/usr/local/lib/python3.10/dist-packages/keras/src/engine/training.py:3079: UserWarning: You are saving your model as an HDF5 file via `model.save()`. This file format is considered legacy. We recommend using instead the native Keras format, e.g. `model.save('my_model.keras')`.\n",
      "  saving_api.save_model(\n"
     ]
    },
    {
     "name": "stdout",
     "output_type": "stream",
     "text": [
      "32/32 [==============================] - 2s 33ms/step\n",
      "Epoch 1/10\n",
      "136/136 [==============================] - 1s 6ms/step - loss: 2219946.2500 - accuracy: 0.2122\n",
      "Epoch 2/10\n",
      "136/136 [==============================] - 1s 6ms/step - loss: 9.9158 - accuracy: 0.2226\n",
      "Epoch 3/10\n",
      "136/136 [==============================] - 1s 6ms/step - loss: 2.2244 - accuracy: 0.2226\n",
      "Epoch 4/10\n",
      "136/136 [==============================] - 1s 6ms/step - loss: 2.1712 - accuracy: 0.2226\n",
      "Epoch 5/10\n",
      "136/136 [==============================] - 1s 6ms/step - loss: 2.1279 - accuracy: 0.2226\n",
      "Epoch 6/10\n",
      "136/136 [==============================] - 1s 6ms/step - loss: 2.0926 - accuracy: 0.2226\n",
      "Epoch 7/10\n",
      "136/136 [==============================] - 1s 6ms/step - loss: 2.0636 - accuracy: 0.2226\n",
      "Epoch 8/10\n",
      "136/136 [==============================] - 1s 6ms/step - loss: 2.0397 - accuracy: 0.2226\n",
      "Epoch 9/10\n",
      "136/136 [==============================] - 1s 6ms/step - loss: 2.0200 - accuracy: 0.2226\n",
      "Epoch 10/10\n",
      "136/136 [==============================] - 1s 6ms/step - loss: 2.0034 - accuracy: 0.2226\n",
      "32/32 [==============================] - 0s 2ms/step\n"
     ]
    },
    {
     "name": "stderr",
     "output_type": "stream",
     "text": [
      "/usr/local/lib/python3.10/dist-packages/keras/src/engine/training.py:3079: UserWarning: You are saving your model as an HDF5 file via `model.save()`. This file format is considered legacy. We recommend using instead the native Keras format, e.g. `model.save('my_model.keras')`.\n",
      "  saving_api.save_model(\n"
     ]
    },
    {
     "name": "stdout",
     "output_type": "stream",
     "text": [
      "Epoch 1/10\n",
      "136/136 [==============================] - 19s 126ms/step - loss: 1.9661 - accuracy: 0.1991\n",
      "Epoch 2/10\n",
      "136/136 [==============================] - 17s 125ms/step - loss: 1.9141 - accuracy: 0.1972\n",
      "Epoch 3/10\n",
      "136/136 [==============================] - 17s 124ms/step - loss: 1.8843 - accuracy: 0.2106\n",
      "Epoch 4/10\n",
      "136/136 [==============================] - 17s 124ms/step - loss: 1.8632 - accuracy: 0.2129\n",
      "Epoch 5/10\n",
      "136/136 [==============================] - 16s 121ms/step - loss: 1.8486 - accuracy: 0.2104\n",
      "Epoch 6/10\n",
      "136/136 [==============================] - 17s 125ms/step - loss: 1.8192 - accuracy: 0.2433\n",
      "Epoch 7/10\n",
      "136/136 [==============================] - 17s 126ms/step - loss: 1.8037 - accuracy: 0.2564\n",
      "Epoch 8/10\n",
      "136/136 [==============================] - 17s 123ms/step - loss: 1.7795 - accuracy: 0.2566\n",
      "Epoch 9/10\n",
      "136/136 [==============================] - 16s 120ms/step - loss: 1.7601 - accuracy: 0.2771\n",
      "Epoch 10/10\n",
      "136/136 [==============================] - 16s 121ms/step - loss: 1.7470 - accuracy: 0.2868\n"
     ]
    },
    {
     "name": "stderr",
     "output_type": "stream",
     "text": [
      "/usr/local/lib/python3.10/dist-packages/keras/src/engine/training.py:3079: UserWarning: You are saving your model as an HDF5 file via `model.save()`. This file format is considered legacy. We recommend using instead the native Keras format, e.g. `model.save('my_model.keras')`.\n",
      "  saving_api.save_model(\n"
     ]
    },
    {
     "name": "stdout",
     "output_type": "stream",
     "text": [
      "32/32 [==============================] - 2s 36ms/step\n",
      "Epoch 1/10\n",
      "136/136 [==============================] - 1s 6ms/step - loss: 1224092.2500 - accuracy: 0.2875\n",
      "Epoch 2/10\n",
      "136/136 [==============================] - 1s 6ms/step - loss: 2.2448 - accuracy: 0.3201\n",
      "Epoch 3/10\n",
      "136/136 [==============================] - 1s 6ms/step - loss: 2.1537 - accuracy: 0.3199\n",
      "Epoch 4/10\n",
      "136/136 [==============================] - 1s 6ms/step - loss: 2.0769 - accuracy: 0.3201\n",
      "Epoch 5/10\n",
      "136/136 [==============================] - 1s 6ms/step - loss: 2.0137 - accuracy: 0.3201\n",
      "Epoch 6/10\n",
      "136/136 [==============================] - 1s 6ms/step - loss: 1.9613 - accuracy: 0.3201\n",
      "Epoch 7/10\n",
      "136/136 [==============================] - 1s 6ms/step - loss: 1.9181 - accuracy: 0.3201\n",
      "Epoch 8/10\n",
      "136/136 [==============================] - 1s 4ms/step - loss: 1.8823 - accuracy: 0.3201\n",
      "Epoch 9/10\n",
      "136/136 [==============================] - 1s 6ms/step - loss: 1.8526 - accuracy: 0.3201\n",
      "Epoch 10/10\n",
      "136/136 [==============================] - 1s 6ms/step - loss: 1.8279 - accuracy: 0.3201\n",
      "32/32 [==============================] - 0s 2ms/step\n"
     ]
    },
    {
     "name": "stderr",
     "output_type": "stream",
     "text": [
      "/usr/local/lib/python3.10/dist-packages/keras/src/engine/training.py:3079: UserWarning: You are saving your model as an HDF5 file via `model.save()`. This file format is considered legacy. We recommend using instead the native Keras format, e.g. `model.save('my_model.keras')`.\n",
      "  saving_api.save_model(\n"
     ]
    },
    {
     "name": "stdout",
     "output_type": "stream",
     "text": [
      "Epoch 1/10\n",
      "136/136 [==============================] - 19s 126ms/step - loss: 1.7824 - accuracy: 0.2838\n",
      "Epoch 2/10\n",
      "136/136 [==============================] - 17s 123ms/step - loss: 1.6894 - accuracy: 0.2990\n",
      "Epoch 3/10\n",
      "136/136 [==============================] - 15s 112ms/step - loss: 1.6769 - accuracy: 0.3091\n",
      "Epoch 4/10\n",
      "136/136 [==============================] - 16s 116ms/step - loss: 1.6712 - accuracy: 0.3091\n",
      "Epoch 5/10\n",
      "136/136 [==============================] - 16s 121ms/step - loss: 1.6650 - accuracy: 0.3123\n",
      "Epoch 6/10\n",
      "136/136 [==============================] - 16s 120ms/step - loss: 1.6499 - accuracy: 0.3252\n",
      "Epoch 7/10\n",
      "136/136 [==============================] - 16s 120ms/step - loss: 1.6281 - accuracy: 0.3491\n",
      "Epoch 8/10\n",
      "136/136 [==============================] - 17s 125ms/step - loss: 1.6170 - accuracy: 0.3583\n",
      "Epoch 9/10\n",
      "136/136 [==============================] - 16s 120ms/step - loss: 1.6079 - accuracy: 0.3623\n",
      "Epoch 10/10\n",
      "136/136 [==============================] - 16s 121ms/step - loss: 1.5877 - accuracy: 0.3671\n"
     ]
    },
    {
     "name": "stderr",
     "output_type": "stream",
     "text": [
      "/usr/local/lib/python3.10/dist-packages/keras/src/engine/training.py:3079: UserWarning: You are saving your model as an HDF5 file via `model.save()`. This file format is considered legacy. We recommend using instead the native Keras format, e.g. `model.save('my_model.keras')`.\n",
      "  saving_api.save_model(\n"
     ]
    },
    {
     "name": "stdout",
     "output_type": "stream",
     "text": [
      "32/32 [==============================] - 2s 34ms/step\n",
      "Epoch 1/10\n",
      "136/136 [==============================] - 1s 6ms/step - loss: 2493973.5000 - accuracy: 0.2329\n",
      "Epoch 2/10\n",
      "136/136 [==============================] - 1s 6ms/step - loss: 2.2654 - accuracy: 0.2529\n",
      "Epoch 3/10\n",
      "136/136 [==============================] - 1s 6ms/step - loss: 2.1871 - accuracy: 0.2529\n",
      "Epoch 4/10\n",
      "136/136 [==============================] - 1s 6ms/step - loss: 2.1232 - accuracy: 0.2529\n",
      "Epoch 5/10\n",
      "136/136 [==============================] - 1s 6ms/step - loss: 2.0707 - accuracy: 0.2529\n",
      "Epoch 6/10\n",
      "136/136 [==============================] - 1s 6ms/step - loss: 2.0284 - accuracy: 0.2529\n",
      "Epoch 7/10\n",
      "136/136 [==============================] - 1s 6ms/step - loss: 1.9935 - accuracy: 0.2529\n",
      "Epoch 8/10\n",
      "136/136 [==============================] - 1s 6ms/step - loss: 1.9644 - accuracy: 0.2529\n",
      "Epoch 9/10\n",
      "136/136 [==============================] - 1s 6ms/step - loss: 1.9415 - accuracy: 0.2529\n",
      "Epoch 10/10\n",
      "136/136 [==============================] - 1s 6ms/step - loss: 1.9215 - accuracy: 0.2529\n",
      "32/32 [==============================] - 0s 2ms/step\n"
     ]
    },
    {
     "name": "stderr",
     "output_type": "stream",
     "text": [
      "/usr/local/lib/python3.10/dist-packages/keras/src/engine/training.py:3079: UserWarning: You are saving your model as an HDF5 file via `model.save()`. This file format is considered legacy. We recommend using instead the native Keras format, e.g. `model.save('my_model.keras')`.\n",
      "  saving_api.save_model(\n"
     ]
    },
    {
     "name": "stdout",
     "output_type": "stream",
     "text": [
      "Epoch 1/10\n",
      "136/136 [==============================] - 19s 126ms/step - loss: 1.8838 - accuracy: 0.2226\n",
      "Epoch 2/10\n",
      "136/136 [==============================] - 17s 125ms/step - loss: 1.7945 - accuracy: 0.2499\n",
      "Epoch 3/10\n",
      "136/136 [==============================] - 17s 126ms/step - loss: 1.7572 - accuracy: 0.2684\n",
      "Epoch 4/10\n",
      "136/136 [==============================] - 17s 125ms/step - loss: 1.7449 - accuracy: 0.2697\n",
      "Epoch 5/10\n",
      "136/136 [==============================] - 17s 125ms/step - loss: 1.7255 - accuracy: 0.2773\n",
      "Epoch 6/10\n",
      "136/136 [==============================] - 17s 126ms/step - loss: 1.7073 - accuracy: 0.2911\n",
      "Epoch 7/10\n",
      "136/136 [==============================] - 17s 125ms/step - loss: 1.6871 - accuracy: 0.3013\n",
      "Epoch 8/10\n",
      "136/136 [==============================] - 16s 121ms/step - loss: 1.6655 - accuracy: 0.3222\n",
      "Epoch 9/10\n",
      "136/136 [==============================] - 17s 121ms/step - loss: 1.6346 - accuracy: 0.3323\n",
      "Epoch 10/10\n",
      "136/136 [==============================] - 17s 122ms/step - loss: 1.6246 - accuracy: 0.3376\n"
     ]
    },
    {
     "name": "stderr",
     "output_type": "stream",
     "text": [
      "/usr/local/lib/python3.10/dist-packages/keras/src/engine/training.py:3079: UserWarning: You are saving your model as an HDF5 file via `model.save()`. This file format is considered legacy. We recommend using instead the native Keras format, e.g. `model.save('my_model.keras')`.\n",
      "  saving_api.save_model(\n"
     ]
    },
    {
     "name": "stdout",
     "output_type": "stream",
     "text": [
      "32/32 [==============================] - 2s 36ms/step\n",
      "Epoch 1/10\n",
      "136/136 [==============================] - 1s 6ms/step - loss: 2719344.5000 - accuracy: 0.1703\n",
      "Epoch 2/10\n",
      "136/136 [==============================] - 1s 6ms/step - loss: 2.2768 - accuracy: 0.2909\n",
      "Epoch 3/10\n",
      "136/136 [==============================] - 1s 6ms/step - loss: 2.1987 - accuracy: 0.2909\n",
      "Epoch 4/10\n",
      "136/136 [==============================] - 1s 6ms/step - loss: 2.1343 - accuracy: 0.2909\n",
      "Epoch 5/10\n",
      "136/136 [==============================] - 1s 6ms/step - loss: 2.0814 - accuracy: 0.2909\n",
      "Epoch 6/10\n",
      "136/136 [==============================] - 1s 6ms/step - loss: 2.0380 - accuracy: 0.2909\n",
      "Epoch 7/10\n",
      "136/136 [==============================] - 1s 6ms/step - loss: 2.0023 - accuracy: 0.2909\n",
      "Epoch 8/10\n",
      "136/136 [==============================] - 1s 6ms/step - loss: 1.9730 - accuracy: 0.2909\n",
      "Epoch 9/10\n",
      "136/136 [==============================] - 1s 6ms/step - loss: 1.9489 - accuracy: 0.2909\n",
      "Epoch 10/10\n",
      "136/136 [==============================] - 1s 6ms/step - loss: 1.9290 - accuracy: 0.2909\n",
      "32/32 [==============================] - 0s 2ms/step\n"
     ]
    },
    {
     "name": "stderr",
     "output_type": "stream",
     "text": [
      "/usr/local/lib/python3.10/dist-packages/keras/src/engine/training.py:3079: UserWarning: You are saving your model as an HDF5 file via `model.save()`. This file format is considered legacy. We recommend using instead the native Keras format, e.g. `model.save('my_model.keras')`.\n",
      "  saving_api.save_model(\n"
     ]
    },
    {
     "name": "stdout",
     "output_type": "stream",
     "text": [
      "Epoch 1/10\n",
      "136/136 [==============================] - 19s 124ms/step - loss: 1.9098 - accuracy: 0.2605\n",
      "Epoch 2/10\n",
      "136/136 [==============================] - 17s 123ms/step - loss: 1.8223 - accuracy: 0.2608\n",
      "Epoch 3/10\n",
      "136/136 [==============================] - 17s 124ms/step - loss: 1.8012 - accuracy: 0.2812\n",
      "Epoch 4/10\n",
      "136/136 [==============================] - 17s 124ms/step - loss: 1.7806 - accuracy: 0.2766\n",
      "Epoch 5/10\n",
      "136/136 [==============================] - 16s 120ms/step - loss: 1.7645 - accuracy: 0.2847\n",
      "Epoch 6/10\n",
      "136/136 [==============================] - 16s 119ms/step - loss: 1.7422 - accuracy: 0.2900\n",
      "Epoch 7/10\n",
      "136/136 [==============================] - 17s 126ms/step - loss: 1.7269 - accuracy: 0.3015\n",
      "Epoch 8/10\n",
      "136/136 [==============================] - 17s 126ms/step - loss: 1.7025 - accuracy: 0.3280\n",
      "Epoch 9/10\n",
      "136/136 [==============================] - 17s 125ms/step - loss: 1.6865 - accuracy: 0.3349\n",
      "Epoch 10/10\n",
      "136/136 [==============================] - 17s 124ms/step - loss: 1.6708 - accuracy: 0.3475\n"
     ]
    },
    {
     "name": "stderr",
     "output_type": "stream",
     "text": [
      "/usr/local/lib/python3.10/dist-packages/keras/src/engine/training.py:3079: UserWarning: You are saving your model as an HDF5 file via `model.save()`. This file format is considered legacy. We recommend using instead the native Keras format, e.g. `model.save('my_model.keras')`.\n",
      "  saving_api.save_model(\n"
     ]
    },
    {
     "name": "stdout",
     "output_type": "stream",
     "text": [
      "32/32 [==============================] - 2s 34ms/step\n",
      "Epoch 1/10\n",
      "136/136 [==============================] - 1s 6ms/step - loss: 2546057.0000 - accuracy: 0.2532\n",
      "Epoch 2/10\n",
      "136/136 [==============================] - 1s 6ms/step - loss: 2.2641 - accuracy: 0.2780\n",
      "Epoch 3/10\n",
      "136/136 [==============================] - 1s 6ms/step - loss: 2.1833 - accuracy: 0.2780\n",
      "Epoch 4/10\n",
      "136/136 [==============================] - 1s 6ms/step - loss: 2.1161 - accuracy: 0.2780\n",
      "Epoch 5/10\n",
      "136/136 [==============================] - 1s 6ms/step - loss: 2.0614 - accuracy: 0.2780\n",
      "Epoch 6/10\n",
      "136/136 [==============================] - 1s 6ms/step - loss: 2.0165 - accuracy: 0.2780\n",
      "Epoch 7/10\n",
      "136/136 [==============================] - 1s 6ms/step - loss: 1.9799 - accuracy: 0.2780\n",
      "Epoch 8/10\n",
      "136/136 [==============================] - 1s 6ms/step - loss: 1.9500 - accuracy: 0.2780\n",
      "Epoch 9/10\n",
      "136/136 [==============================] - 1s 6ms/step - loss: 1.9255 - accuracy: 0.2780\n",
      "Epoch 10/10\n",
      "136/136 [==============================] - 1s 6ms/step - loss: 1.9054 - accuracy: 0.2780\n",
      "32/32 [==============================] - 0s 2ms/step\n"
     ]
    },
    {
     "name": "stderr",
     "output_type": "stream",
     "text": [
      "/usr/local/lib/python3.10/dist-packages/keras/src/engine/training.py:3079: UserWarning: You are saving your model as an HDF5 file via `model.save()`. This file format is considered legacy. We recommend using instead the native Keras format, e.g. `model.save('my_model.keras')`.\n",
      "  saving_api.save_model(\n"
     ]
    },
    {
     "name": "stdout",
     "output_type": "stream",
     "text": [
      "Epoch 1/10\n",
      "136/136 [==============================] - 19s 125ms/step - loss: 1.8829 - accuracy: 0.2460\n",
      "Epoch 2/10\n",
      "136/136 [==============================] - 17s 123ms/step - loss: 1.7946 - accuracy: 0.2617\n",
      "Epoch 3/10\n",
      "136/136 [==============================] - 17s 126ms/step - loss: 1.7617 - accuracy: 0.2778\n",
      "Epoch 4/10\n",
      "136/136 [==============================] - 17s 122ms/step - loss: 1.7405 - accuracy: 0.3026\n",
      "Epoch 5/10\n",
      "136/136 [==============================] - 17s 125ms/step - loss: 1.7233 - accuracy: 0.3199\n",
      "Epoch 6/10\n",
      "136/136 [==============================] - 17s 124ms/step - loss: 1.7139 - accuracy: 0.3123\n",
      "Epoch 7/10\n",
      "136/136 [==============================] - 17s 124ms/step - loss: 1.7075 - accuracy: 0.3197\n",
      "Epoch 8/10\n",
      "136/136 [==============================] - 17s 123ms/step - loss: 1.6910 - accuracy: 0.3252\n",
      "Epoch 9/10\n",
      "136/136 [==============================] - 17s 122ms/step - loss: 1.6819 - accuracy: 0.3220\n",
      "Epoch 10/10\n",
      "136/136 [==============================] - 15s 112ms/step - loss: 1.6732 - accuracy: 0.3224\n"
     ]
    },
    {
     "name": "stderr",
     "output_type": "stream",
     "text": [
      "/usr/local/lib/python3.10/dist-packages/keras/src/engine/training.py:3079: UserWarning: You are saving your model as an HDF5 file via `model.save()`. This file format is considered legacy. We recommend using instead the native Keras format, e.g. `model.save('my_model.keras')`.\n",
      "  saving_api.save_model(\n"
     ]
    },
    {
     "name": "stdout",
     "output_type": "stream",
     "text": [
      "32/32 [==============================] - 1s 33ms/step\n",
      "Epoch 1/10\n",
      "136/136 [==============================] - 1s 6ms/step - loss: 2534684.0000 - accuracy: 0.1956\n",
      "Epoch 2/10\n",
      "136/136 [==============================] - 1s 6ms/step - loss: 171.1507 - accuracy: 0.2219\n",
      "Epoch 3/10\n",
      "136/136 [==============================] - 1s 6ms/step - loss: 7.3022 - accuracy: 0.2216\n",
      "Epoch 4/10\n",
      "136/136 [==============================] - 1s 6ms/step - loss: 2.2568 - accuracy: 0.2216\n",
      "Epoch 5/10\n",
      "136/136 [==============================] - 1s 6ms/step - loss: 2.2314 - accuracy: 0.2216\n",
      "Epoch 6/10\n",
      "136/136 [==============================] - 1s 6ms/step - loss: 2.2116 - accuracy: 0.2216\n",
      "Epoch 7/10\n",
      "136/136 [==============================] - 1s 6ms/step - loss: 2.1963 - accuracy: 0.2216\n",
      "Epoch 8/10\n",
      "136/136 [==============================] - 1s 6ms/step - loss: 2.1844 - accuracy: 0.2216\n",
      "Epoch 9/10\n",
      "136/136 [==============================] - 1s 6ms/step - loss: 2.1752 - accuracy: 0.2216\n",
      "Epoch 10/10\n",
      "136/136 [==============================] - 1s 6ms/step - loss: 2.1681 - accuracy: 0.2216\n",
      "32/32 [==============================] - 0s 2ms/step\n"
     ]
    },
    {
     "name": "stderr",
     "output_type": "stream",
     "text": [
      "/usr/local/lib/python3.10/dist-packages/keras/src/engine/training.py:3079: UserWarning: You are saving your model as an HDF5 file via `model.save()`. This file format is considered legacy. We recommend using instead the native Keras format, e.g. `model.save('my_model.keras')`.\n",
      "  saving_api.save_model(\n"
     ]
    },
    {
     "name": "stdout",
     "output_type": "stream",
     "text": [
      "Epoch 1/10\n",
      " 61/136 [============>.................] - ETA: 9s - loss: 2.2231 - accuracy: 0.1865"
     ]
    },
    {
     "name": "stderr",
     "output_type": "stream",
     "text": [
      "IOPub message rate exceeded.\n",
      "The Jupyter server will temporarily stop sending output\n",
      "to the client in order to avoid crashing it.\n",
      "To change this limit, set the config variable\n",
      "`--ServerApp.iopub_msg_rate_limit`.\n",
      "\n",
      "Current values:\n",
      "ServerApp.iopub_msg_rate_limit=1000.0 (msgs/sec)\n",
      "ServerApp.rate_limit_window=3.0 (secs)\n",
      "\n"
     ]
    },
    {
     "name": "stdout",
     "output_type": "stream",
     "text": [
      "136/136 [==============================] - 17s 125ms/step - loss: 2.0131 - accuracy: 0.2840\n"
     ]
    },
    {
     "name": "stderr",
     "output_type": "stream",
     "text": [
      "/usr/local/lib/python3.10/dist-packages/keras/src/engine/training.py:3079: UserWarning: You are saving your model as an HDF5 file via `model.save()`. This file format is considered legacy. We recommend using instead the native Keras format, e.g. `model.save('my_model.keras')`.\n",
      "  saving_api.save_model(\n"
     ]
    },
    {
     "name": "stdout",
     "output_type": "stream",
     "text": [
      "32/32 [==============================] - 2s 36ms/step\n",
      "Epoch 1/10\n",
      "136/136 [==============================] - 1s 6ms/step - loss: 2131701.0000 - accuracy: 0.1636\n",
      "Epoch 2/10\n",
      "136/136 [==============================] - 1s 6ms/step - loss: 99.1814 - accuracy: 0.2101\n",
      "Epoch 3/10\n",
      "136/136 [==============================] - 1s 6ms/step - loss: 2.2684 - accuracy: 0.2104\n",
      "Epoch 4/10\n",
      "136/136 [==============================] - 1s 6ms/step - loss: 2.2291 - accuracy: 0.2104\n",
      "Epoch 5/10\n",
      "136/136 [==============================] - 1s 6ms/step - loss: 2.1984 - accuracy: 0.2104\n",
      "Epoch 6/10\n",
      "136/136 [==============================] - 1s 6ms/step - loss: 2.1743 - accuracy: 0.2104\n",
      "Epoch 7/10\n",
      "136/136 [==============================] - 1s 6ms/step - loss: 2.1556 - accuracy: 0.2104\n",
      "Epoch 8/10\n",
      "136/136 [==============================] - 1s 6ms/step - loss: 2.1408 - accuracy: 0.2104\n",
      "Epoch 9/10\n",
      "136/136 [==============================] - 1s 6ms/step - loss: 2.1294 - accuracy: 0.2104\n",
      "Epoch 10/10\n",
      "136/136 [==============================] - 1s 6ms/step - loss: 2.1202 - accuracy: 0.2104\n",
      "32/32 [==============================] - 0s 2ms/step\n"
     ]
    },
    {
     "name": "stderr",
     "output_type": "stream",
     "text": [
      "/usr/local/lib/python3.10/dist-packages/keras/src/engine/training.py:3079: UserWarning: You are saving your model as an HDF5 file via `model.save()`. This file format is considered legacy. We recommend using instead the native Keras format, e.g. `model.save('my_model.keras')`.\n",
      "  saving_api.save_model(\n"
     ]
    },
    {
     "name": "stdout",
     "output_type": "stream",
     "text": [
      "Epoch 1/10\n",
      "136/136 [==============================] - 19s 126ms/step - loss: 2.1371 - accuracy: 0.1800\n",
      "Epoch 2/10\n",
      "136/136 [==============================] - 17s 121ms/step - loss: 2.0896 - accuracy: 0.1924\n",
      "Epoch 3/10\n",
      "136/136 [==============================] - 17s 125ms/step - loss: 2.0706 - accuracy: 0.1979\n",
      "Epoch 4/10\n",
      "136/136 [==============================] - 17s 128ms/step - loss: 2.0552 - accuracy: 0.2129\n",
      "Epoch 5/10\n",
      "136/136 [==============================] - 17s 122ms/step - loss: 2.0491 - accuracy: 0.2189\n",
      "Epoch 6/10\n",
      "136/136 [==============================] - 17s 125ms/step - loss: 2.0289 - accuracy: 0.2278\n",
      "Epoch 7/10\n",
      "136/136 [==============================] - 17s 124ms/step - loss: 2.0298 - accuracy: 0.2460\n",
      "Epoch 8/10\n",
      "136/136 [==============================] - 16s 116ms/step - loss: 2.0200 - accuracy: 0.2437\n",
      "Epoch 9/10\n",
      "136/136 [==============================] - 16s 120ms/step - loss: 2.0072 - accuracy: 0.2509\n",
      "Epoch 10/10\n",
      "136/136 [==============================] - 17s 124ms/step - loss: 1.9910 - accuracy: 0.2642\n"
     ]
    },
    {
     "name": "stderr",
     "output_type": "stream",
     "text": [
      "/usr/local/lib/python3.10/dist-packages/keras/src/engine/training.py:3079: UserWarning: You are saving your model as an HDF5 file via `model.save()`. This file format is considered legacy. We recommend using instead the native Keras format, e.g. `model.save('my_model.keras')`.\n",
      "  saving_api.save_model(\n"
     ]
    },
    {
     "name": "stdout",
     "output_type": "stream",
     "text": [
      "32/32 [==============================] - 2s 35ms/step\n",
      "Epoch 1/10\n",
      "136/136 [==============================] - 1s 6ms/step - loss: 2749034.2500 - accuracy: 0.1922\n",
      "Epoch 2/10\n",
      "136/136 [==============================] - 1s 6ms/step - loss: 10.0432 - accuracy: 0.2221\n",
      "Epoch 3/10\n",
      "136/136 [==============================] - 1s 7ms/step - loss: 22.0583 - accuracy: 0.2221\n",
      "Epoch 4/10\n",
      "136/136 [==============================] - 1s 6ms/step - loss: 2.4558 - accuracy: 0.2223\n",
      "Epoch 5/10\n",
      "136/136 [==============================] - 1s 6ms/step - loss: 2.1857 - accuracy: 0.2226\n",
      "Epoch 6/10\n",
      "136/136 [==============================] - 1s 6ms/step - loss: 2.1587 - accuracy: 0.2226\n",
      "Epoch 7/10\n",
      "136/136 [==============================] - 1s 6ms/step - loss: 2.1378 - accuracy: 0.2226\n",
      "Epoch 8/10\n",
      "136/136 [==============================] - 1s 6ms/step - loss: 2.1206 - accuracy: 0.2226\n",
      "Epoch 9/10\n",
      "136/136 [==============================] - 1s 6ms/step - loss: 2.1079 - accuracy: 0.2226\n",
      "Epoch 10/10\n",
      "136/136 [==============================] - 1s 6ms/step - loss: 2.0974 - accuracy: 0.2226\n",
      "24/32 [=====================>........] - ETA: 0s"
     ]
    },
    {
     "name": "stderr",
     "output_type": "stream",
     "text": [
      "/usr/local/lib/python3.10/dist-packages/keras/src/engine/training.py:3079: UserWarning: You are saving your model as an HDF5 file via `model.save()`. This file format is considered legacy. We recommend using instead the native Keras format, e.g. `model.save('my_model.keras')`.\n",
      "  saving_api.save_model(\n"
     ]
    },
    {
     "name": "stdout",
     "output_type": "stream",
     "text": [
      "32/32 [==============================] - 0s 2ms/step\n",
      "Epoch 1/10\n",
      "136/136 [==============================] - 19s 127ms/step - loss: 2.1110 - accuracy: 0.2110\n",
      "Epoch 2/10\n",
      "136/136 [==============================] - 17s 124ms/step - loss: 2.0508 - accuracy: 0.2311\n",
      "Epoch 3/10\n",
      "136/136 [==============================] - 17s 123ms/step - loss: 2.0379 - accuracy: 0.2320\n",
      "Epoch 4/10\n",
      "136/136 [==============================] - 17s 122ms/step - loss: 2.0198 - accuracy: 0.2283\n",
      "Epoch 5/10\n",
      "136/136 [==============================] - 16s 121ms/step - loss: 2.0037 - accuracy: 0.2442\n",
      "Epoch 6/10\n",
      "136/136 [==============================] - 17s 125ms/step - loss: 1.9876 - accuracy: 0.2520\n",
      "Epoch 7/10\n",
      "136/136 [==============================] - 17s 121ms/step - loss: 1.9697 - accuracy: 0.2644\n",
      "Epoch 8/10\n",
      "136/136 [==============================] - 17s 124ms/step - loss: 1.9448 - accuracy: 0.2663\n",
      "Epoch 9/10\n",
      "136/136 [==============================] - 17s 126ms/step - loss: 1.9192 - accuracy: 0.2803\n",
      "Epoch 10/10\n",
      "136/136 [==============================] - 17s 126ms/step - loss: 1.8993 - accuracy: 0.2911\n"
     ]
    },
    {
     "name": "stderr",
     "output_type": "stream",
     "text": [
      "/usr/local/lib/python3.10/dist-packages/keras/src/engine/training.py:3079: UserWarning: You are saving your model as an HDF5 file via `model.save()`. This file format is considered legacy. We recommend using instead the native Keras format, e.g. `model.save('my_model.keras')`.\n",
      "  saving_api.save_model(\n"
     ]
    },
    {
     "name": "stdout",
     "output_type": "stream",
     "text": [
      "32/32 [==============================] - 2s 33ms/step\n"
     ]
    },
    {
     "name": "stderr",
     "output_type": "stream",
     "text": [
      "Processing Folds:  40%|████      | 2/5 [1:47:31<2:41:30, 3230.18s/it]"
     ]
    },
    {
     "name": "stdout",
     "output_type": "stream",
     "text": [
      "Loading data from: folds/fold_3_train.csv\n",
      "Loading data from: folds/fold_3_test.csv\n",
      "Epoch 1/10\n",
      "134/134 [==============================] - 1s 6ms/step - loss: 2962237.0000 - accuracy: 0.2181\n",
      "Epoch 2/10\n",
      "134/134 [==============================] - 1s 6ms/step - loss: 140.1132 - accuracy: 0.2479\n",
      "Epoch 3/10\n",
      "134/134 [==============================] - 1s 6ms/step - loss: 95.0752 - accuracy: 0.2479\n",
      "Epoch 4/10\n",
      "134/134 [==============================] - 1s 6ms/step - loss: 2.2031 - accuracy: 0.2479\n",
      "Epoch 5/10\n",
      "134/134 [==============================] - 1s 6ms/step - loss: 2.1662 - accuracy: 0.2479\n",
      "Epoch 6/10\n",
      "134/134 [==============================] - 1s 6ms/step - loss: 2.1373 - accuracy: 0.2479\n",
      "Epoch 7/10\n",
      "134/134 [==============================] - 1s 6ms/step - loss: 2.1147 - accuracy: 0.2479\n",
      "Epoch 8/10\n",
      "134/134 [==============================] - 1s 6ms/step - loss: 2.0971 - accuracy: 0.2479\n",
      "Epoch 9/10\n",
      "134/134 [==============================] - 1s 6ms/step - loss: 2.0832 - accuracy: 0.2479\n",
      "Epoch 10/10\n",
      "134/134 [==============================] - 1s 6ms/step - loss: 2.0725 - accuracy: 0.2479\n",
      "23/34 [===================>..........] - ETA: 0s"
     ]
    },
    {
     "name": "stderr",
     "output_type": "stream",
     "text": [
      "/usr/local/lib/python3.10/dist-packages/keras/src/engine/training.py:3079: UserWarning: You are saving your model as an HDF5 file via `model.save()`. This file format is considered legacy. We recommend using instead the native Keras format, e.g. `model.save('my_model.keras')`.\n",
      "  saving_api.save_model(\n"
     ]
    },
    {
     "name": "stdout",
     "output_type": "stream",
     "text": [
      "34/34 [==============================] - 0s 2ms/step\n",
      "Epoch 1/10\n",
      "134/134 [==============================] - 19s 125ms/step - loss: 2.0727 - accuracy: 0.2317\n",
      "Epoch 2/10\n",
      "134/134 [==============================] - 17s 128ms/step - loss: 2.0242 - accuracy: 0.2512\n",
      "Epoch 3/10\n",
      "134/134 [==============================] - 17s 128ms/step - loss: 2.0102 - accuracy: 0.2458\n",
      "Epoch 4/10\n",
      "134/134 [==============================] - 17s 125ms/step - loss: 2.0018 - accuracy: 0.2477\n",
      "Epoch 5/10\n",
      "134/134 [==============================] - 17s 124ms/step - loss: 1.9924 - accuracy: 0.2566\n",
      "Epoch 6/10\n",
      "134/134 [==============================] - 16s 118ms/step - loss: 1.9806 - accuracy: 0.2612\n",
      "Epoch 7/10\n",
      "134/134 [==============================] - 16s 122ms/step - loss: 1.9757 - accuracy: 0.2622\n",
      "Epoch 8/10\n",
      "134/134 [==============================] - 17s 125ms/step - loss: 1.9590 - accuracy: 0.2556\n",
      "Epoch 9/10\n",
      "134/134 [==============================] - 17s 126ms/step - loss: 1.9499 - accuracy: 0.2601\n",
      "Epoch 10/10\n",
      "134/134 [==============================] - 17s 125ms/step - loss: 1.9348 - accuracy: 0.2657\n"
     ]
    },
    {
     "name": "stderr",
     "output_type": "stream",
     "text": [
      "/usr/local/lib/python3.10/dist-packages/keras/src/engine/training.py:3079: UserWarning: You are saving your model as an HDF5 file via `model.save()`. This file format is considered legacy. We recommend using instead the native Keras format, e.g. `model.save('my_model.keras')`.\n",
      "  saving_api.save_model(\n"
     ]
    },
    {
     "name": "stdout",
     "output_type": "stream",
     "text": [
      "34/34 [==============================] - 2s 36ms/step\n",
      "Epoch 1/10\n",
      "134/134 [==============================] - 1s 6ms/step - loss: 2084039.8750 - accuracy: 0.1985\n",
      "Epoch 2/10\n",
      "134/134 [==============================] - 1s 6ms/step - loss: 35.9342 - accuracy: 0.2341\n",
      "Epoch 3/10\n",
      "134/134 [==============================] - 1s 6ms/step - loss: 2.2771 - accuracy: 0.2343\n",
      "Epoch 4/10\n",
      "134/134 [==============================] - 1s 6ms/step - loss: 2.2404 - accuracy: 0.2343\n",
      "Epoch 5/10\n",
      "134/134 [==============================] - 1s 6ms/step - loss: 2.2119 - accuracy: 0.2343\n",
      "Epoch 6/10\n",
      "134/134 [==============================] - 1s 6ms/step - loss: 2.1901 - accuracy: 0.2343\n",
      "Epoch 7/10\n",
      "134/134 [==============================] - 1s 6ms/step - loss: 2.1738 - accuracy: 0.2343\n",
      "Epoch 8/10\n",
      "134/134 [==============================] - 1s 6ms/step - loss: 2.1617 - accuracy: 0.2343\n",
      "Epoch 9/10\n",
      "134/134 [==============================] - 1s 6ms/step - loss: 2.1529 - accuracy: 0.2343\n",
      "Epoch 10/10\n",
      "134/134 [==============================] - 1s 6ms/step - loss: 2.1464 - accuracy: 0.2343\n",
      "23/34 [===================>..........] - ETA: 0s"
     ]
    },
    {
     "name": "stderr",
     "output_type": "stream",
     "text": [
      "/usr/local/lib/python3.10/dist-packages/keras/src/engine/training.py:3079: UserWarning: You are saving your model as an HDF5 file via `model.save()`. This file format is considered legacy. We recommend using instead the native Keras format, e.g. `model.save('my_model.keras')`.\n",
      "  saving_api.save_model(\n"
     ]
    },
    {
     "name": "stdout",
     "output_type": "stream",
     "text": [
      "34/34 [==============================] - 0s 2ms/step\n",
      "Epoch 1/10\n",
      "134/134 [==============================] - 19s 127ms/step - loss: 2.1720 - accuracy: 0.2186\n",
      "Epoch 2/10\n",
      "134/134 [==============================] - 17s 126ms/step - loss: 2.1492 - accuracy: 0.2231\n",
      "Epoch 3/10\n",
      "134/134 [==============================] - 16s 119ms/step - loss: 2.1277 - accuracy: 0.2385\n",
      "Epoch 4/10\n",
      "134/134 [==============================] - 17s 124ms/step - loss: 2.1107 - accuracy: 0.2256\n",
      "Epoch 5/10\n",
      "134/134 [==============================] - 17s 126ms/step - loss: 2.0860 - accuracy: 0.2455\n",
      "Epoch 6/10\n",
      "134/134 [==============================] - 17s 125ms/step - loss: 2.0608 - accuracy: 0.2467\n",
      "Epoch 7/10\n",
      "134/134 [==============================] - 17s 125ms/step - loss: 2.0351 - accuracy: 0.2655\n",
      "Epoch 8/10\n",
      "134/134 [==============================] - 16s 123ms/step - loss: 2.0173 - accuracy: 0.2699\n",
      "Epoch 9/10\n",
      "134/134 [==============================] - 16s 123ms/step - loss: 1.9925 - accuracy: 0.2833\n",
      "Epoch 10/10\n",
      "134/134 [==============================] - 17s 126ms/step - loss: 1.9676 - accuracy: 0.2856\n"
     ]
    },
    {
     "name": "stderr",
     "output_type": "stream",
     "text": [
      "/usr/local/lib/python3.10/dist-packages/keras/src/engine/training.py:3079: UserWarning: You are saving your model as an HDF5 file via `model.save()`. This file format is considered legacy. We recommend using instead the native Keras format, e.g. `model.save('my_model.keras')`.\n",
      "  saving_api.save_model(\n"
     ]
    },
    {
     "name": "stdout",
     "output_type": "stream",
     "text": [
      "34/34 [==============================] - 2s 35ms/step\n",
      "Epoch 1/10\n",
      "134/134 [==============================] - 1s 6ms/step - loss: 1802439.2500 - accuracy: 0.1851\n",
      "Epoch 2/10\n",
      "134/134 [==============================] - 1s 6ms/step - loss: 421.3029 - accuracy: 0.2348\n",
      "Epoch 3/10\n",
      "134/134 [==============================] - 1s 6ms/step - loss: 2.2489 - accuracy: 0.2355\n",
      "Epoch 4/10\n",
      "134/134 [==============================] - 1s 6ms/step - loss: 2.2042 - accuracy: 0.2355\n",
      "Epoch 5/10\n",
      "134/134 [==============================] - 1s 6ms/step - loss: 2.1691 - accuracy: 0.2352\n",
      "Epoch 6/10\n",
      "134/134 [==============================] - 1s 6ms/step - loss: 2.1408 - accuracy: 0.2352\n",
      "Epoch 7/10\n",
      "134/134 [==============================] - 1s 6ms/step - loss: 2.1178 - accuracy: 0.2355\n",
      "Epoch 8/10\n",
      "134/134 [==============================] - 1s 6ms/step - loss: 2.1006 - accuracy: 0.2352\n",
      "Epoch 9/10\n",
      "134/134 [==============================] - 1s 6ms/step - loss: 2.0866 - accuracy: 0.2352\n",
      "Epoch 10/10\n",
      "134/134 [==============================] - 1s 6ms/step - loss: 2.0752 - accuracy: 0.2352\n",
      "34/34 [==============================] - 0s 2ms/step\n"
     ]
    },
    {
     "name": "stderr",
     "output_type": "stream",
     "text": [
      "/usr/local/lib/python3.10/dist-packages/keras/src/engine/training.py:3079: UserWarning: You are saving your model as an HDF5 file via `model.save()`. This file format is considered legacy. We recommend using instead the native Keras format, e.g. `model.save('my_model.keras')`.\n",
      "  saving_api.save_model(\n"
     ]
    },
    {
     "name": "stdout",
     "output_type": "stream",
     "text": [
      "Epoch 1/10\n",
      "134/134 [==============================] - 19s 125ms/step - loss: 2.0810 - accuracy: 0.2186\n",
      "Epoch 2/10\n",
      "134/134 [==============================] - 16s 123ms/step - loss: 2.0379 - accuracy: 0.2247\n",
      "Epoch 3/10\n",
      "134/134 [==============================] - 17s 123ms/step - loss: 2.0206 - accuracy: 0.2249\n",
      "Epoch 4/10\n",
      "134/134 [==============================] - 16s 123ms/step - loss: 2.0104 - accuracy: 0.2249\n",
      "Epoch 5/10\n",
      "134/134 [==============================] - 16s 119ms/step - loss: 1.9962 - accuracy: 0.2413\n",
      "Epoch 6/10\n",
      "134/134 [==============================] - 15s 114ms/step - loss: 1.9901 - accuracy: 0.2345\n",
      "Epoch 7/10\n",
      "134/134 [==============================] - 17s 124ms/step - loss: 1.9763 - accuracy: 0.2425\n",
      "Epoch 8/10\n",
      "134/134 [==============================] - 16s 118ms/step - loss: 1.9709 - accuracy: 0.2535\n",
      "Epoch 9/10\n",
      "134/134 [==============================] - 16s 120ms/step - loss: 1.9507 - accuracy: 0.2554\n",
      "Epoch 10/10\n",
      "134/134 [==============================] - 17s 126ms/step - loss: 1.9380 - accuracy: 0.2577\n"
     ]
    },
    {
     "name": "stderr",
     "output_type": "stream",
     "text": [
      "/usr/local/lib/python3.10/dist-packages/keras/src/engine/training.py:3079: UserWarning: You are saving your model as an HDF5 file via `model.save()`. This file format is considered legacy. We recommend using instead the native Keras format, e.g. `model.save('my_model.keras')`.\n",
      "  saving_api.save_model(\n"
     ]
    },
    {
     "name": "stdout",
     "output_type": "stream",
     "text": [
      "34/34 [==============================] - 2s 35ms/step\n",
      "Epoch 1/10\n",
      "134/134 [==============================] - 1s 6ms/step - loss: 3396234.2500 - accuracy: 0.3004\n",
      "Epoch 2/10\n",
      "134/134 [==============================] - 1s 6ms/step - loss: 67.4394 - accuracy: 0.3772\n",
      "Epoch 3/10\n",
      "134/134 [==============================] - 1s 6ms/step - loss: 11.3019 - accuracy: 0.3772\n",
      "Epoch 4/10\n",
      "134/134 [==============================] - 1s 6ms/step - loss: 2.1032 - accuracy: 0.3770\n",
      "Epoch 5/10\n",
      "134/134 [==============================] - 1s 6ms/step - loss: 8.6600 - accuracy: 0.3770\n",
      "Epoch 6/10\n",
      "134/134 [==============================] - 1s 6ms/step - loss: 1.9850 - accuracy: 0.3775\n",
      "Epoch 7/10\n",
      "134/134 [==============================] - 1s 6ms/step - loss: 2.2910 - accuracy: 0.3770\n",
      "Epoch 8/10\n",
      "134/134 [==============================] - 1s 6ms/step - loss: 1.9042 - accuracy: 0.3772\n",
      "Epoch 9/10\n",
      "134/134 [==============================] - 1s 6ms/step - loss: 1.8739 - accuracy: 0.3772\n",
      "Epoch 10/10\n",
      "134/134 [==============================] - 1s 6ms/step - loss: 1.8493 - accuracy: 0.3770\n",
      "34/34 [==============================] - 0s 2ms/step\n"
     ]
    },
    {
     "name": "stderr",
     "output_type": "stream",
     "text": [
      "/usr/local/lib/python3.10/dist-packages/keras/src/engine/training.py:3079: UserWarning: You are saving your model as an HDF5 file via `model.save()`. This file format is considered legacy. We recommend using instead the native Keras format, e.g. `model.save('my_model.keras')`.\n",
      "  saving_api.save_model(\n"
     ]
    },
    {
     "name": "stdout",
     "output_type": "stream",
     "text": [
      "Epoch 1/10\n",
      "134/134 [==============================] - 19s 126ms/step - loss: 1.8191 - accuracy: 0.3566\n",
      "Epoch 2/10\n",
      "134/134 [==============================] - 16s 118ms/step - loss: 1.7176 - accuracy: 0.3739\n",
      "Epoch 3/10\n",
      "134/134 [==============================] - 16s 119ms/step - loss: 1.7058 - accuracy: 0.3723\n",
      "Epoch 4/10\n",
      "134/134 [==============================] - 15s 111ms/step - loss: 1.6940 - accuracy: 0.3695\n",
      "Epoch 5/10\n",
      "134/134 [==============================] - 16s 121ms/step - loss: 1.6789 - accuracy: 0.3714\n",
      "Epoch 6/10\n",
      "134/134 [==============================] - 17s 127ms/step - loss: 1.6673 - accuracy: 0.3777\n",
      "Epoch 7/10\n",
      "134/134 [==============================] - 17s 127ms/step - loss: 1.6576 - accuracy: 0.3845\n",
      "Epoch 8/10\n",
      "134/134 [==============================] - 17s 127ms/step - loss: 1.6565 - accuracy: 0.3798\n",
      "Epoch 9/10\n",
      "134/134 [==============================] - 17s 126ms/step - loss: 1.6393 - accuracy: 0.3910\n",
      "Epoch 10/10\n",
      "134/134 [==============================] - 16s 123ms/step - loss: 1.6288 - accuracy: 0.3896\n"
     ]
    },
    {
     "name": "stderr",
     "output_type": "stream",
     "text": [
      "/usr/local/lib/python3.10/dist-packages/keras/src/engine/training.py:3079: UserWarning: You are saving your model as an HDF5 file via `model.save()`. This file format is considered legacy. We recommend using instead the native Keras format, e.g. `model.save('my_model.keras')`.\n",
      "  saving_api.save_model(\n"
     ]
    },
    {
     "name": "stdout",
     "output_type": "stream",
     "text": [
      "34/34 [==============================] - 2s 35ms/step\n",
      "Epoch 1/10\n",
      "134/134 [==============================] - 1s 6ms/step - loss: 3204180.5000 - accuracy: 0.2322\n",
      "Epoch 2/10\n",
      "134/134 [==============================] - 1s 6ms/step - loss: 42.3325 - accuracy: 0.2612\n",
      "Epoch 3/10\n",
      "134/134 [==============================] - 1s 6ms/step - loss: 2.2605 - accuracy: 0.2615\n",
      "Epoch 4/10\n",
      "134/134 [==============================] - 1s 6ms/step - loss: 2.2169 - accuracy: 0.2615\n",
      "Epoch 5/10\n",
      "134/134 [==============================] - 1s 6ms/step - loss: 2.1819 - accuracy: 0.2615\n",
      "Epoch 6/10\n",
      "134/134 [==============================] - 1s 6ms/step - loss: 2.1548 - accuracy: 0.2612\n",
      "Epoch 7/10\n",
      "134/134 [==============================] - 1s 6ms/step - loss: 2.1325 - accuracy: 0.2615\n",
      "Epoch 8/10\n",
      "134/134 [==============================] - 1s 6ms/step - loss: 2.1153 - accuracy: 0.2615\n",
      "Epoch 9/10\n",
      "134/134 [==============================] - 1s 6ms/step - loss: 2.1015 - accuracy: 0.2617\n",
      "Epoch 10/10\n",
      "134/134 [==============================] - 1s 6ms/step - loss: 2.0915 - accuracy: 0.2615\n",
      " 1/34 [..............................] - ETA: 2s"
     ]
    },
    {
     "name": "stderr",
     "output_type": "stream",
     "text": [
      "/usr/local/lib/python3.10/dist-packages/keras/src/engine/training.py:3079: UserWarning: You are saving your model as an HDF5 file via `model.save()`. This file format is considered legacy. We recommend using instead the native Keras format, e.g. `model.save('my_model.keras')`.\n",
      "  saving_api.save_model(\n"
     ]
    },
    {
     "name": "stdout",
     "output_type": "stream",
     "text": [
      "34/34 [==============================] - 0s 2ms/step\n",
      "Epoch 1/10\n",
      "134/134 [==============================] - 19s 126ms/step - loss: 2.1130 - accuracy: 0.2437\n",
      "Epoch 2/10\n",
      "134/134 [==============================] - 16s 122ms/step - loss: 2.0473 - accuracy: 0.2751\n",
      "Epoch 3/10\n",
      "134/134 [==============================] - 15s 111ms/step - loss: 2.0232 - accuracy: 0.2835\n",
      "Epoch 4/10\n",
      "134/134 [==============================] - 17s 124ms/step - loss: 2.0031 - accuracy: 0.2856\n",
      "Epoch 5/10\n",
      "134/134 [==============================] - 17s 127ms/step - loss: 1.9812 - accuracy: 0.2969\n",
      "Epoch 6/10\n",
      "134/134 [==============================] - 17s 127ms/step - loss: 1.9605 - accuracy: 0.3090\n",
      "Epoch 7/10\n",
      "134/134 [==============================] - 16s 121ms/step - loss: 1.9274 - accuracy: 0.3198\n",
      "Epoch 8/10\n",
      "134/134 [==============================] - 16s 120ms/step - loss: 1.9135 - accuracy: 0.3231\n",
      "Epoch 9/10\n",
      "134/134 [==============================] - 17s 125ms/step - loss: 1.8864 - accuracy: 0.3336\n",
      "Epoch 10/10\n",
      "134/134 [==============================] - 16s 122ms/step - loss: 1.8736 - accuracy: 0.3351\n"
     ]
    },
    {
     "name": "stderr",
     "output_type": "stream",
     "text": [
      "/usr/local/lib/python3.10/dist-packages/keras/src/engine/training.py:3079: UserWarning: You are saving your model as an HDF5 file via `model.save()`. This file format is considered legacy. We recommend using instead the native Keras format, e.g. `model.save('my_model.keras')`.\n",
      "  saving_api.save_model(\n"
     ]
    },
    {
     "name": "stdout",
     "output_type": "stream",
     "text": [
      "34/34 [==============================] - 2s 34ms/step\n",
      "Epoch 1/10\n",
      "134/134 [==============================] - 1s 6ms/step - loss: 2061033.0000 - accuracy: 0.1835\n",
      "Epoch 2/10\n",
      "134/134 [==============================] - 1s 6ms/step - loss: 259.4265 - accuracy: 0.2024\n",
      "Epoch 3/10\n",
      "134/134 [==============================] - 1s 6ms/step - loss: 189.8752 - accuracy: 0.2024\n",
      "Epoch 4/10\n",
      "134/134 [==============================] - 1s 6ms/step - loss: 15.6960 - accuracy: 0.2008\n",
      "Epoch 5/10\n",
      "134/134 [==============================] - 1s 6ms/step - loss: 2.1993 - accuracy: 0.2027\n",
      "Epoch 6/10\n",
      "134/134 [==============================] - 1s 6ms/step - loss: 2.1741 - accuracy: 0.2085\n",
      "Epoch 7/10\n",
      "134/134 [==============================] - 1s 6ms/step - loss: 2.1537 - accuracy: 0.2120\n",
      "Epoch 8/10\n",
      "134/134 [==============================] - 1s 6ms/step - loss: 2.1378 - accuracy: 0.2120\n",
      "Epoch 9/10\n",
      "134/134 [==============================] - 1s 6ms/step - loss: 2.1253 - accuracy: 0.2120\n",
      "Epoch 10/10\n",
      "134/134 [==============================] - 1s 6ms/step - loss: 2.1157 - accuracy: 0.2118\n",
      "34/34 [==============================] - 0s 2ms/step\n"
     ]
    },
    {
     "name": "stderr",
     "output_type": "stream",
     "text": [
      "/usr/local/lib/python3.10/dist-packages/keras/src/engine/training.py:3079: UserWarning: You are saving your model as an HDF5 file via `model.save()`. This file format is considered legacy. We recommend using instead the native Keras format, e.g. `model.save('my_model.keras')`.\n",
      "  saving_api.save_model(\n"
     ]
    },
    {
     "name": "stdout",
     "output_type": "stream",
     "text": [
      "Epoch 1/10\n",
      "134/134 [==============================] - 19s 122ms/step - loss: 2.1257 - accuracy: 0.1992\n",
      "Epoch 2/10\n",
      "134/134 [==============================] - 16s 118ms/step - loss: 2.0595 - accuracy: 0.2280\n",
      "Epoch 3/10\n",
      "134/134 [==============================] - 17s 123ms/step - loss: 2.0496 - accuracy: 0.2249\n",
      "Epoch 4/10\n",
      "134/134 [==============================] - 16s 118ms/step - loss: 2.0388 - accuracy: 0.2259\n",
      "Epoch 5/10\n",
      "134/134 [==============================] - 15s 111ms/step - loss: 2.0287 - accuracy: 0.2369\n",
      "Epoch 6/10\n",
      "134/134 [==============================] - 16s 117ms/step - loss: 2.0212 - accuracy: 0.2448\n",
      "Epoch 7/10\n",
      "134/134 [==============================] - 16s 117ms/step - loss: 2.0128 - accuracy: 0.2388\n",
      "Epoch 8/10\n",
      "134/134 [==============================] - 16s 122ms/step - loss: 2.0003 - accuracy: 0.2481\n",
      "Epoch 9/10\n",
      "134/134 [==============================] - 16s 122ms/step - loss: 1.9768 - accuracy: 0.2566\n",
      "Epoch 10/10\n",
      "134/134 [==============================] - 17s 124ms/step - loss: 1.9534 - accuracy: 0.2502\n"
     ]
    },
    {
     "name": "stderr",
     "output_type": "stream",
     "text": [
      "/usr/local/lib/python3.10/dist-packages/keras/src/engine/training.py:3079: UserWarning: You are saving your model as an HDF5 file via `model.save()`. This file format is considered legacy. We recommend using instead the native Keras format, e.g. `model.save('my_model.keras')`.\n",
      "  saving_api.save_model(\n"
     ]
    },
    {
     "name": "stdout",
     "output_type": "stream",
     "text": [
      "34/34 [==============================] - 2s 36ms/step\n",
      "Epoch 1/10\n",
      "134/134 [==============================] - 1s 6ms/step - loss: 2575780.0000 - accuracy: 0.4330\n",
      "Epoch 2/10\n",
      "134/134 [==============================] - 1s 6ms/step - loss: 195.1911 - accuracy: 0.5267\n",
      "Epoch 3/10\n",
      "134/134 [==============================] - 1s 6ms/step - loss: 304.4524 - accuracy: 0.5258\n",
      "Epoch 4/10\n",
      "134/134 [==============================] - 1s 6ms/step - loss: 1.8899 - accuracy: 0.5272\n",
      "Epoch 5/10\n",
      "134/134 [==============================] - 1s 6ms/step - loss: 1.7800 - accuracy: 0.5272\n",
      "Epoch 6/10\n",
      "134/134 [==============================] - 1s 6ms/step - loss: 1.6870 - accuracy: 0.5272\n",
      "Epoch 7/10\n",
      "134/134 [==============================] - 1s 6ms/step - loss: 1.6073 - accuracy: 0.5272\n",
      "Epoch 8/10\n",
      "134/134 [==============================] - 1s 6ms/step - loss: 1.5402 - accuracy: 0.5272\n",
      "Epoch 9/10\n",
      "134/134 [==============================] - 1s 6ms/step - loss: 1.4834 - accuracy: 0.5272\n",
      "Epoch 10/10\n",
      "134/134 [==============================] - 1s 6ms/step - loss: 1.4352 - accuracy: 0.5272\n",
      "24/34 [====================>.........] - ETA: 0s"
     ]
    },
    {
     "name": "stderr",
     "output_type": "stream",
     "text": [
      "/usr/local/lib/python3.10/dist-packages/keras/src/engine/training.py:3079: UserWarning: You are saving your model as an HDF5 file via `model.save()`. This file format is considered legacy. We recommend using instead the native Keras format, e.g. `model.save('my_model.keras')`.\n",
      "  saving_api.save_model(\n"
     ]
    },
    {
     "name": "stdout",
     "output_type": "stream",
     "text": [
      "34/34 [==============================] - 0s 2ms/step\n",
      "Epoch 1/10\n",
      "134/134 [==============================] - 19s 127ms/step - loss: 1.3287 - accuracy: 0.4904\n",
      "Epoch 2/10\n",
      "134/134 [==============================] - 17s 126ms/step - loss: 1.1526 - accuracy: 0.5216\n",
      "Epoch 3/10\n",
      "134/134 [==============================] - 17s 127ms/step - loss: 1.1328 - accuracy: 0.5251\n",
      "Epoch 4/10\n",
      "134/134 [==============================] - 17s 126ms/step - loss: 1.1205 - accuracy: 0.5223\n",
      "Epoch 5/10\n",
      "134/134 [==============================] - 17s 124ms/step - loss: 1.1151 - accuracy: 0.5265\n",
      "Epoch 6/10\n",
      "134/134 [==============================] - 15s 111ms/step - loss: 1.1078 - accuracy: 0.5253\n",
      "Epoch 7/10\n",
      "134/134 [==============================] - 16s 117ms/step - loss: 1.1005 - accuracy: 0.5241\n",
      "Epoch 8/10\n",
      "134/134 [==============================] - 17s 126ms/step - loss: 1.1026 - accuracy: 0.5265\n",
      "Epoch 9/10\n",
      "134/134 [==============================] - 17s 125ms/step - loss: 1.0934 - accuracy: 0.5274\n",
      "Epoch 10/10\n",
      "134/134 [==============================] - 16s 121ms/step - loss: 1.0928 - accuracy: 0.5265\n"
     ]
    },
    {
     "name": "stderr",
     "output_type": "stream",
     "text": [
      "/usr/local/lib/python3.10/dist-packages/keras/src/engine/training.py:3079: UserWarning: You are saving your model as an HDF5 file via `model.save()`. This file format is considered legacy. We recommend using instead the native Keras format, e.g. `model.save('my_model.keras')`.\n",
      "  saving_api.save_model(\n"
     ]
    },
    {
     "name": "stdout",
     "output_type": "stream",
     "text": [
      "34/34 [==============================] - 2s 36ms/step\n",
      "Epoch 1/10\n",
      "134/134 [==============================] - 1s 6ms/step - loss: 2817450.2500 - accuracy: 0.3899\n",
      "Epoch 2/10\n",
      "134/134 [==============================] - 1s 6ms/step - loss: 104.0878 - accuracy: 0.4442\n",
      "Epoch 3/10\n",
      "134/134 [==============================] - 1s 6ms/step - loss: 1.9971 - accuracy: 0.4824\n",
      "Epoch 4/10\n",
      "134/134 [==============================] - 1s 6ms/step - loss: 1.9873 - accuracy: 0.4822\n",
      "Epoch 5/10\n",
      "134/134 [==============================] - 1s 6ms/step - loss: 1.7410 - accuracy: 0.4824\n",
      "Epoch 6/10\n",
      "134/134 [==============================] - 1s 6ms/step - loss: 1.6403 - accuracy: 0.4824\n",
      "Epoch 7/10\n",
      "134/134 [==============================] - 1s 6ms/step - loss: 1.5543 - accuracy: 0.4824\n",
      "Epoch 8/10\n",
      "134/134 [==============================] - 1s 6ms/step - loss: 1.4822 - accuracy: 0.4824\n",
      "Epoch 9/10\n",
      "134/134 [==============================] - 1s 6ms/step - loss: 1.4216 - accuracy: 0.4824\n",
      "Epoch 10/10\n",
      "134/134 [==============================] - 1s 6ms/step - loss: 1.3715 - accuracy: 0.4822\n",
      "24/34 [====================>.........] - ETA: 0s"
     ]
    },
    {
     "name": "stderr",
     "output_type": "stream",
     "text": [
      "/usr/local/lib/python3.10/dist-packages/keras/src/engine/training.py:3079: UserWarning: You are saving your model as an HDF5 file via `model.save()`. This file format is considered legacy. We recommend using instead the native Keras format, e.g. `model.save('my_model.keras')`.\n",
      "  saving_api.save_model(\n"
     ]
    },
    {
     "name": "stdout",
     "output_type": "stream",
     "text": [
      "34/34 [==============================] - 0s 2ms/step\n",
      "Epoch 1/10\n",
      "134/134 [==============================] - 19s 126ms/step - loss: 1.2262 - accuracy: 0.4517\n",
      "Epoch 2/10\n",
      "134/134 [==============================] - 17s 125ms/step - loss: 1.0865 - accuracy: 0.4515\n",
      "Epoch 3/10\n",
      "134/134 [==============================] - 15s 113ms/step - loss: 1.0654 - accuracy: 0.4845\n",
      "Epoch 4/10\n",
      "134/134 [==============================] - 16s 121ms/step - loss: 1.0535 - accuracy: 0.4988\n",
      "Epoch 5/10\n",
      "134/134 [==============================] - 17s 127ms/step - loss: 1.0438 - accuracy: 0.5073\n",
      "Epoch 6/10\n",
      "134/134 [==============================] - 17s 125ms/step - loss: 1.0395 - accuracy: 0.5185\n",
      "Epoch 7/10\n",
      "134/134 [==============================] - 16s 123ms/step - loss: 1.0327 - accuracy: 0.5131\n",
      "Epoch 8/10\n",
      "134/134 [==============================] - 17s 126ms/step - loss: 1.0328 - accuracy: 0.5169\n",
      "Epoch 9/10\n",
      "134/134 [==============================] - 16s 122ms/step - loss: 1.0297 - accuracy: 0.5131\n",
      "Epoch 10/10\n",
      "134/134 [==============================] - 16s 119ms/step - loss: 1.0264 - accuracy: 0.5216\n"
     ]
    },
    {
     "name": "stderr",
     "output_type": "stream",
     "text": [
      "/usr/local/lib/python3.10/dist-packages/keras/src/engine/training.py:3079: UserWarning: You are saving your model as an HDF5 file via `model.save()`. This file format is considered legacy. We recommend using instead the native Keras format, e.g. `model.save('my_model.keras')`.\n",
      "  saving_api.save_model(\n"
     ]
    },
    {
     "name": "stdout",
     "output_type": "stream",
     "text": [
      "34/34 [==============================] - 2s 34ms/step\n",
      "Epoch 1/10\n",
      "134/134 [==============================] - 1s 6ms/step - loss: 2306559.2500 - accuracy: 0.3782\n",
      "Epoch 2/10\n",
      "134/134 [==============================] - 1s 6ms/step - loss: 2.1717 - accuracy: 0.4159\n",
      "Epoch 3/10\n",
      "134/134 [==============================] - 1s 6ms/step - loss: 2.9366 - accuracy: 0.4159\n",
      "Epoch 4/10\n",
      "134/134 [==============================] - 1s 6ms/step - loss: 1.8806 - accuracy: 0.4159\n",
      "Epoch 5/10\n",
      "134/134 [==============================] - 1s 6ms/step - loss: 1.7662 - accuracy: 0.4159\n",
      "Epoch 6/10\n",
      "134/134 [==============================] - 1s 6ms/step - loss: 1.6689 - accuracy: 0.4159\n",
      "Epoch 7/10\n",
      "134/134 [==============================] - 1s 6ms/step - loss: 1.5864 - accuracy: 0.4159\n",
      "Epoch 8/10\n",
      "134/134 [==============================] - 1s 6ms/step - loss: 1.5171 - accuracy: 0.4159\n",
      "Epoch 9/10\n",
      "134/134 [==============================] - 1s 6ms/step - loss: 1.4588 - accuracy: 0.4159\n",
      "Epoch 10/10\n",
      "134/134 [==============================] - 1s 6ms/step - loss: 1.4100 - accuracy: 0.4159\n",
      "24/34 [====================>.........] - ETA: 0s"
     ]
    },
    {
     "name": "stderr",
     "output_type": "stream",
     "text": [
      "/usr/local/lib/python3.10/dist-packages/keras/src/engine/training.py:3079: UserWarning: You are saving your model as an HDF5 file via `model.save()`. This file format is considered legacy. We recommend using instead the native Keras format, e.g. `model.save('my_model.keras')`.\n",
      "  saving_api.save_model(\n"
     ]
    },
    {
     "name": "stdout",
     "output_type": "stream",
     "text": [
      "34/34 [==============================] - 0s 2ms/step\n",
      "Epoch 1/10\n",
      "134/134 [==============================] - 19s 128ms/step - loss: 1.2754 - accuracy: 0.3990\n",
      "Epoch 2/10\n",
      "134/134 [==============================] - 17s 126ms/step - loss: 1.1311 - accuracy: 0.4220\n",
      "Epoch 3/10\n",
      "134/134 [==============================] - 17s 124ms/step - loss: 1.1134 - accuracy: 0.4421\n",
      "Epoch 4/10\n",
      "134/134 [==============================] - 16s 123ms/step - loss: 1.0931 - accuracy: 0.4702\n",
      "Epoch 5/10\n",
      "134/134 [==============================] - 17s 124ms/step - loss: 1.0849 - accuracy: 0.4763\n",
      "Epoch 6/10\n",
      "134/134 [==============================] - 16s 122ms/step - loss: 1.0839 - accuracy: 0.4770\n",
      "Epoch 7/10\n",
      "134/134 [==============================] - 17s 124ms/step - loss: 1.0749 - accuracy: 0.4859\n",
      "Epoch 8/10\n",
      "134/134 [==============================] - 17s 126ms/step - loss: 1.0704 - accuracy: 0.4827\n",
      "Epoch 9/10\n",
      "134/134 [==============================] - 17s 128ms/step - loss: 1.0660 - accuracy: 0.5045\n",
      "Epoch 10/10\n",
      "134/134 [==============================] - 17s 127ms/step - loss: 1.0607 - accuracy: 0.5068\n"
     ]
    },
    {
     "name": "stderr",
     "output_type": "stream",
     "text": [
      "/usr/local/lib/python3.10/dist-packages/keras/src/engine/training.py:3079: UserWarning: You are saving your model as an HDF5 file via `model.save()`. This file format is considered legacy. We recommend using instead the native Keras format, e.g. `model.save('my_model.keras')`.\n",
      "  saving_api.save_model(\n"
     ]
    },
    {
     "name": "stdout",
     "output_type": "stream",
     "text": [
      "34/34 [==============================] - 2s 37ms/step\n",
      "Epoch 1/10\n",
      "134/134 [==============================] - 3s 6ms/step - loss: 3347887.0000 - accuracy: 0.4210\n",
      "Epoch 2/10\n",
      "134/134 [==============================] - 1s 6ms/step - loss: 117.5411 - accuracy: 0.5450\n",
      "Epoch 3/10\n",
      "134/134 [==============================] - 1s 6ms/step - loss: 5.0041 - accuracy: 0.5450\n",
      "Epoch 4/10\n",
      "134/134 [==============================] - 1s 6ms/step - loss: 1.8847 - accuracy: 0.5452\n",
      "Epoch 5/10\n",
      "134/134 [==============================] - 1s 6ms/step - loss: 1.7698 - accuracy: 0.5450\n",
      "Epoch 6/10\n",
      "134/134 [==============================] - 1s 6ms/step - loss: 1.6709 - accuracy: 0.5452\n",
      "Epoch 7/10\n",
      "134/134 [==============================] - 1s 6ms/step - loss: 1.5873 - accuracy: 0.5450\n",
      "Epoch 8/10\n",
      "134/134 [==============================] - 1s 6ms/step - loss: 1.5154 - accuracy: 0.5452\n",
      "Epoch 9/10\n",
      "134/134 [==============================] - 1s 6ms/step - loss: 1.4543 - accuracy: 0.5455\n",
      "Epoch 10/10\n",
      "134/134 [==============================] - 1s 6ms/step - loss: 1.4031 - accuracy: 0.5452\n",
      "24/34 [====================>.........] - ETA: 0s"
     ]
    },
    {
     "name": "stderr",
     "output_type": "stream",
     "text": [
      "/usr/local/lib/python3.10/dist-packages/keras/src/engine/training.py:3079: UserWarning: You are saving your model as an HDF5 file via `model.save()`. This file format is considered legacy. We recommend using instead the native Keras format, e.g. `model.save('my_model.keras')`.\n",
      "  saving_api.save_model(\n"
     ]
    },
    {
     "name": "stdout",
     "output_type": "stream",
     "text": [
      "34/34 [==============================] - 0s 2ms/step\n",
      "Epoch 1/10\n",
      "134/134 [==============================] - 19s 126ms/step - loss: 1.2975 - accuracy: 0.4965\n",
      "Epoch 2/10\n",
      "134/134 [==============================] - 17s 126ms/step - loss: 1.1015 - accuracy: 0.5342\n",
      "Epoch 3/10\n",
      "134/134 [==============================] - 17s 127ms/step - loss: 1.0907 - accuracy: 0.5412\n",
      "Epoch 4/10\n",
      "134/134 [==============================] - 17s 124ms/step - loss: 1.0732 - accuracy: 0.5433\n",
      "Epoch 5/10\n",
      "134/134 [==============================] - 16s 122ms/step - loss: 1.0445 - accuracy: 0.5448\n",
      "Epoch 6/10\n",
      "134/134 [==============================] - 16s 120ms/step - loss: 1.0392 - accuracy: 0.5450\n",
      "Epoch 7/10\n",
      "134/134 [==============================] - 16s 118ms/step - loss: 1.0311 - accuracy: 0.5445\n",
      "Epoch 8/10\n",
      "134/134 [==============================] - 16s 122ms/step - loss: 1.0260 - accuracy: 0.5445\n",
      "Epoch 9/10\n",
      "134/134 [==============================] - 17s 125ms/step - loss: 1.0183 - accuracy: 0.5480\n",
      "Epoch 10/10\n",
      "134/134 [==============================] - 16s 121ms/step - loss: 1.0197 - accuracy: 0.5466\n"
     ]
    },
    {
     "name": "stderr",
     "output_type": "stream",
     "text": [
      "/usr/local/lib/python3.10/dist-packages/keras/src/engine/training.py:3079: UserWarning: You are saving your model as an HDF5 file via `model.save()`. This file format is considered legacy. We recommend using instead the native Keras format, e.g. `model.save('my_model.keras')`.\n",
      "  saving_api.save_model(\n"
     ]
    },
    {
     "name": "stdout",
     "output_type": "stream",
     "text": [
      "34/34 [==============================] - 2s 32ms/step\n",
      "Epoch 1/10\n",
      "134/134 [==============================] - 1s 6ms/step - loss: 2229151.2500 - accuracy: 0.1729\n",
      "Epoch 2/10\n",
      "134/134 [==============================] - 1s 6ms/step - loss: 72.8819 - accuracy: 0.1792\n",
      "Epoch 3/10\n",
      "134/134 [==============================] - 1s 6ms/step - loss: 2.2286 - accuracy: 0.2038\n",
      "Epoch 4/10\n",
      "134/134 [==============================] - 1s 6ms/step - loss: 2.1769 - accuracy: 0.2041\n",
      "Epoch 5/10\n",
      "134/134 [==============================] - 1s 6ms/step - loss: 2.1355 - accuracy: 0.2038\n",
      "Epoch 6/10\n",
      "134/134 [==============================] - 1s 6ms/step - loss: 2.1012 - accuracy: 0.2041\n",
      "Epoch 7/10\n",
      "134/134 [==============================] - 1s 6ms/step - loss: 2.0740 - accuracy: 0.2038\n",
      "Epoch 8/10\n",
      "134/134 [==============================] - 1s 6ms/step - loss: 2.0506 - accuracy: 0.2038\n",
      "Epoch 9/10\n",
      "134/134 [==============================] - 1s 6ms/step - loss: 2.0307 - accuracy: 0.2036\n",
      "Epoch 10/10\n",
      "134/134 [==============================] - 1s 6ms/step - loss: 2.0140 - accuracy: 0.2038\n",
      "34/34 [==============================] - 0s 2ms/step\n"
     ]
    },
    {
     "name": "stderr",
     "output_type": "stream",
     "text": [
      "/usr/local/lib/python3.10/dist-packages/keras/src/engine/training.py:3079: UserWarning: You are saving your model as an HDF5 file via `model.save()`. This file format is considered legacy. We recommend using instead the native Keras format, e.g. `model.save('my_model.keras')`.\n",
      "  saving_api.save_model(\n"
     ]
    },
    {
     "name": "stdout",
     "output_type": "stream",
     "text": [
      "Epoch 1/10\n",
      "134/134 [==============================] - 19s 127ms/step - loss: 1.9950 - accuracy: 0.1867\n",
      "Epoch 2/10\n",
      "134/134 [==============================] - 17s 126ms/step - loss: 1.9231 - accuracy: 0.1926\n",
      "Epoch 3/10\n",
      "134/134 [==============================] - 15s 111ms/step - loss: 1.8917 - accuracy: 0.1982\n",
      "Epoch 4/10\n",
      "134/134 [==============================] - 16s 120ms/step - loss: 1.8662 - accuracy: 0.2224\n",
      "Epoch 5/10\n",
      "134/134 [==============================] - 15s 114ms/step - loss: 1.8381 - accuracy: 0.2432\n",
      "Epoch 6/10\n",
      "134/134 [==============================] - 16s 116ms/step - loss: 1.8189 - accuracy: 0.2453\n",
      "Epoch 7/10\n",
      "134/134 [==============================] - 17s 127ms/step - loss: 1.7969 - accuracy: 0.2624\n",
      "Epoch 8/10\n",
      "134/134 [==============================] - 17s 124ms/step - loss: 1.7826 - accuracy: 0.2624\n",
      "Epoch 9/10\n",
      "134/134 [==============================] - 16s 123ms/step - loss: 1.7691 - accuracy: 0.2711\n",
      "Epoch 10/10\n",
      "134/134 [==============================] - 16s 120ms/step - loss: 1.7542 - accuracy: 0.2779\n"
     ]
    },
    {
     "name": "stderr",
     "output_type": "stream",
     "text": [
      "/usr/local/lib/python3.10/dist-packages/keras/src/engine/training.py:3079: UserWarning: You are saving your model as an HDF5 file via `model.save()`. This file format is considered legacy. We recommend using instead the native Keras format, e.g. `model.save('my_model.keras')`.\n",
      "  saving_api.save_model(\n"
     ]
    },
    {
     "name": "stdout",
     "output_type": "stream",
     "text": [
      "34/34 [==============================] - 2s 35ms/step\n",
      "Epoch 1/10\n",
      "134/134 [==============================] - 1s 6ms/step - loss: 2803467.5000 - accuracy: 0.2638\n",
      "Epoch 2/10\n",
      "134/134 [==============================] - 1s 6ms/step - loss: 103.1526 - accuracy: 0.2868\n",
      "Epoch 3/10\n",
      "134/134 [==============================] - 1s 6ms/step - loss: 14.7404 - accuracy: 0.2866\n",
      "Epoch 4/10\n",
      "134/134 [==============================] - 1s 6ms/step - loss: 2.1013 - accuracy: 0.2870\n",
      "Epoch 5/10\n",
      "134/134 [==============================] - 1s 6ms/step - loss: 2.4706 - accuracy: 0.2868\n",
      "Epoch 6/10\n",
      "134/134 [==============================] - 1s 6ms/step - loss: 131.0695 - accuracy: 0.2866\n",
      "Epoch 7/10\n",
      "134/134 [==============================] - 1s 6ms/step - loss: 8.9501 - accuracy: 0.2866\n",
      "Epoch 8/10\n",
      "134/134 [==============================] - 1s 6ms/step - loss: 3.7463 - accuracy: 0.2866\n",
      "Epoch 9/10\n",
      "134/134 [==============================] - 1s 6ms/step - loss: 3.9929 - accuracy: 0.2866\n",
      "Epoch 10/10\n",
      "134/134 [==============================] - 1s 6ms/step - loss: 2.3261 - accuracy: 0.2863\n",
      "24/34 [====================>.........] - ETA: 0s"
     ]
    },
    {
     "name": "stderr",
     "output_type": "stream",
     "text": [
      "/usr/local/lib/python3.10/dist-packages/keras/src/engine/training.py:3079: UserWarning: You are saving your model as an HDF5 file via `model.save()`. This file format is considered legacy. We recommend using instead the native Keras format, e.g. `model.save('my_model.keras')`.\n",
      "  saving_api.save_model(\n"
     ]
    },
    {
     "name": "stdout",
     "output_type": "stream",
     "text": [
      "34/34 [==============================] - 0s 2ms/step\n",
      "Epoch 1/10\n",
      "134/134 [==============================] - 19s 126ms/step - loss: 1.8048 - accuracy: 0.2685\n",
      "Epoch 2/10\n",
      "134/134 [==============================] - 17s 127ms/step - loss: 1.7196 - accuracy: 0.2619\n",
      "Epoch 3/10\n",
      "134/134 [==============================] - 17s 128ms/step - loss: 1.6954 - accuracy: 0.2873\n",
      "Epoch 4/10\n",
      "134/134 [==============================] - 17s 129ms/step - loss: 1.6911 - accuracy: 0.2798\n",
      "Epoch 5/10\n",
      "134/134 [==============================] - 17s 128ms/step - loss: 1.6838 - accuracy: 0.2889\n",
      "Epoch 6/10\n",
      "134/134 [==============================] - 17s 125ms/step - loss: 1.6692 - accuracy: 0.2978\n",
      "Epoch 7/10\n",
      "134/134 [==============================] - 17s 125ms/step - loss: 1.6589 - accuracy: 0.3088\n",
      "Epoch 8/10\n",
      "134/134 [==============================] - 17s 124ms/step - loss: 1.6760 - accuracy: 0.2875\n",
      "Epoch 9/10\n",
      "134/134 [==============================] - 16s 123ms/step - loss: 1.6548 - accuracy: 0.3128\n",
      "Epoch 10/10\n",
      "134/134 [==============================] - 16s 116ms/step - loss: 1.6439 - accuracy: 0.3158\n"
     ]
    },
    {
     "name": "stderr",
     "output_type": "stream",
     "text": [
      "/usr/local/lib/python3.10/dist-packages/keras/src/engine/training.py:3079: UserWarning: You are saving your model as an HDF5 file via `model.save()`. This file format is considered legacy. We recommend using instead the native Keras format, e.g. `model.save('my_model.keras')`.\n",
      "  saving_api.save_model(\n"
     ]
    },
    {
     "name": "stdout",
     "output_type": "stream",
     "text": [
      "34/34 [==============================] - 2s 35ms/step\n",
      "Epoch 1/10\n",
      "134/134 [==============================] - 1s 6ms/step - loss: 1945809.8750 - accuracy: 0.2416\n",
      "Epoch 2/10\n",
      "134/134 [==============================] - 1s 6ms/step - loss: 196.1032 - accuracy: 0.2905\n",
      "Epoch 3/10\n",
      "134/134 [==============================] - 1s 6ms/step - loss: 2.1932 - accuracy: 0.2905\n",
      "Epoch 4/10\n",
      "134/134 [==============================] - 1s 6ms/step - loss: 2.1268 - accuracy: 0.2905\n",
      "Epoch 5/10\n",
      "134/134 [==============================] - 1s 6ms/step - loss: 2.0718 - accuracy: 0.2905\n",
      "Epoch 6/10\n",
      "134/134 [==============================] - 1s 6ms/step - loss: 2.0262 - accuracy: 0.2905\n",
      "Epoch 7/10\n",
      "134/134 [==============================] - 1s 6ms/step - loss: 1.9886 - accuracy: 0.2905\n",
      "Epoch 8/10\n",
      "134/134 [==============================] - 1s 6ms/step - loss: 1.9573 - accuracy: 0.2905\n",
      "Epoch 9/10\n",
      "134/134 [==============================] - 1s 6ms/step - loss: 1.9314 - accuracy: 0.2905\n",
      "Epoch 10/10\n",
      "134/134 [==============================] - 1s 6ms/step - loss: 1.9098 - accuracy: 0.2905\n",
      " 1/34 [..............................] - ETA: 2s"
     ]
    },
    {
     "name": "stderr",
     "output_type": "stream",
     "text": [
      "/usr/local/lib/python3.10/dist-packages/keras/src/engine/training.py:3079: UserWarning: You are saving your model as an HDF5 file via `model.save()`. This file format is considered legacy. We recommend using instead the native Keras format, e.g. `model.save('my_model.keras')`.\n",
      "  saving_api.save_model(\n"
     ]
    },
    {
     "name": "stdout",
     "output_type": "stream",
     "text": [
      "34/34 [==============================] - 0s 2ms/step\n",
      "Epoch 1/10\n",
      "134/134 [==============================] - 19s 125ms/step - loss: 1.8692 - accuracy: 0.2624\n",
      "Epoch 2/10\n",
      "134/134 [==============================] - 17s 124ms/step - loss: 1.7602 - accuracy: 0.2933\n",
      "Epoch 3/10\n",
      "134/134 [==============================] - 15s 115ms/step - loss: 1.7246 - accuracy: 0.2948\n",
      "Epoch 4/10\n",
      "134/134 [==============================] - 17s 128ms/step - loss: 1.7130 - accuracy: 0.2966\n",
      "Epoch 5/10\n",
      "134/134 [==============================] - 16s 118ms/step - loss: 1.6988 - accuracy: 0.2987\n",
      "Epoch 6/10\n",
      "134/134 [==============================] - 16s 121ms/step - loss: 1.6938 - accuracy: 0.3034\n",
      "Epoch 7/10\n",
      "134/134 [==============================] - 17s 124ms/step - loss: 1.6860 - accuracy: 0.3037\n",
      "Epoch 8/10\n",
      "134/134 [==============================] - 16s 123ms/step - loss: 1.6810 - accuracy: 0.3093\n",
      "Epoch 9/10\n",
      "134/134 [==============================] - 16s 120ms/step - loss: 1.6749 - accuracy: 0.3076\n",
      "Epoch 10/10\n",
      "134/134 [==============================] - 17s 125ms/step - loss: 1.6599 - accuracy: 0.3102\n"
     ]
    },
    {
     "name": "stderr",
     "output_type": "stream",
     "text": [
      "/usr/local/lib/python3.10/dist-packages/keras/src/engine/training.py:3079: UserWarning: You are saving your model as an HDF5 file via `model.save()`. This file format is considered legacy. We recommend using instead the native Keras format, e.g. `model.save('my_model.keras')`.\n",
      "  saving_api.save_model(\n"
     ]
    },
    {
     "name": "stdout",
     "output_type": "stream",
     "text": [
      "34/34 [==============================] - 2s 36ms/step\n",
      "Epoch 1/10\n",
      "134/134 [==============================] - 1s 6ms/step - loss: 2603977.5000 - accuracy: 0.2570\n",
      "Epoch 2/10\n",
      "134/134 [==============================] - 1s 6ms/step - loss: 2.2771 - accuracy: 0.2987\n",
      "Epoch 3/10\n",
      "134/134 [==============================] - 1s 6ms/step - loss: 2.2028 - accuracy: 0.2987\n",
      "Epoch 4/10\n",
      "134/134 [==============================] - 1s 6ms/step - loss: 2.1411 - accuracy: 0.2987\n",
      "Epoch 5/10\n",
      "134/134 [==============================] - 1s 6ms/step - loss: 2.0898 - accuracy: 0.2987\n",
      "Epoch 6/10\n",
      "134/134 [==============================] - 1s 6ms/step - loss: 2.0474 - accuracy: 0.2987\n",
      "Epoch 7/10\n",
      "134/134 [==============================] - 1s 6ms/step - loss: 2.0123 - accuracy: 0.2987\n",
      "Epoch 8/10\n",
      "134/134 [==============================] - 1s 6ms/step - loss: 1.9833 - accuracy: 0.2987\n",
      "Epoch 9/10\n",
      "134/134 [==============================] - 1s 6ms/step - loss: 1.9592 - accuracy: 0.2987\n",
      "Epoch 10/10\n",
      "134/134 [==============================] - 1s 6ms/step - loss: 1.9391 - accuracy: 0.2987\n",
      "23/34 [===================>..........] - ETA: 0s"
     ]
    },
    {
     "name": "stderr",
     "output_type": "stream",
     "text": [
      "/usr/local/lib/python3.10/dist-packages/keras/src/engine/training.py:3079: UserWarning: You are saving your model as an HDF5 file via `model.save()`. This file format is considered legacy. We recommend using instead the native Keras format, e.g. `model.save('my_model.keras')`.\n",
      "  saving_api.save_model(\n"
     ]
    },
    {
     "name": "stdout",
     "output_type": "stream",
     "text": [
      "34/34 [==============================] - 0s 2ms/step\n",
      "Epoch 1/10\n",
      "134/134 [==============================] - 19s 126ms/step - loss: 1.9022 - accuracy: 0.2716\n",
      "Epoch 2/10\n",
      "134/134 [==============================] - 17s 127ms/step - loss: 1.8116 - accuracy: 0.2912\n",
      "Epoch 3/10\n",
      "134/134 [==============================] - 17s 123ms/step - loss: 1.7526 - accuracy: 0.3015\n",
      "Epoch 4/10\n",
      "134/134 [==============================] - 16s 118ms/step - loss: 1.7298 - accuracy: 0.3121\n",
      "Epoch 5/10\n",
      "134/134 [==============================] - 16s 119ms/step - loss: 1.7043 - accuracy: 0.3240\n",
      "Epoch 6/10\n",
      "134/134 [==============================] - 16s 121ms/step - loss: 1.6910 - accuracy: 0.3240\n",
      "Epoch 7/10\n",
      "134/134 [==============================] - 16s 119ms/step - loss: 1.6744 - accuracy: 0.3367\n",
      "Epoch 8/10\n",
      "134/134 [==============================] - 17s 124ms/step - loss: 1.6628 - accuracy: 0.3372\n",
      "Epoch 9/10\n",
      "134/134 [==============================] - 16s 122ms/step - loss: 1.6516 - accuracy: 0.3461\n",
      "Epoch 10/10\n",
      "134/134 [==============================] - 17s 127ms/step - loss: 1.6395 - accuracy: 0.3421\n"
     ]
    },
    {
     "name": "stderr",
     "output_type": "stream",
     "text": [
      "/usr/local/lib/python3.10/dist-packages/keras/src/engine/training.py:3079: UserWarning: You are saving your model as an HDF5 file via `model.save()`. This file format is considered legacy. We recommend using instead the native Keras format, e.g. `model.save('my_model.keras')`.\n",
      "  saving_api.save_model(\n"
     ]
    },
    {
     "name": "stdout",
     "output_type": "stream",
     "text": [
      "34/34 [==============================] - 2s 35ms/step\n",
      "Epoch 1/10\n",
      "134/134 [==============================] - 1s 6ms/step - loss: 1793089.1250 - accuracy: 0.2071\n",
      "Epoch 2/10\n",
      "134/134 [==============================] - 1s 6ms/step - loss: 69.8383 - accuracy: 0.2284\n",
      "Epoch 3/10\n",
      "134/134 [==============================] - 1s 6ms/step - loss: 2.2007 - accuracy: 0.2350\n",
      "Epoch 4/10\n",
      "134/134 [==============================] - 1s 6ms/step - loss: 2.1398 - accuracy: 0.2350\n",
      "Epoch 5/10\n",
      "134/134 [==============================] - 1s 6ms/step - loss: 2.0896 - accuracy: 0.2350\n",
      "Epoch 6/10\n",
      "134/134 [==============================] - 1s 6ms/step - loss: 2.0483 - accuracy: 0.2350\n",
      "Epoch 7/10\n",
      "134/134 [==============================] - 1s 6ms/step - loss: 2.0143 - accuracy: 0.2350\n",
      "Epoch 8/10\n",
      "134/134 [==============================] - 1s 6ms/step - loss: 1.9862 - accuracy: 0.2350\n",
      "Epoch 9/10\n",
      "134/134 [==============================] - 1s 6ms/step - loss: 1.9631 - accuracy: 0.2350\n",
      "Epoch 10/10\n",
      "134/134 [==============================] - 1s 6ms/step - loss: 1.9439 - accuracy: 0.2350\n",
      "34/34 [==============================] - 0s 2ms/step\n"
     ]
    },
    {
     "name": "stderr",
     "output_type": "stream",
     "text": [
      "/usr/local/lib/python3.10/dist-packages/keras/src/engine/training.py:3079: UserWarning: You are saving your model as an HDF5 file via `model.save()`. This file format is considered legacy. We recommend using instead the native Keras format, e.g. `model.save('my_model.keras')`.\n",
      "  saving_api.save_model(\n"
     ]
    },
    {
     "name": "stdout",
     "output_type": "stream",
     "text": [
      "Epoch 1/10\n",
      "134/134 [==============================] - 19s 126ms/step - loss: 1.9197 - accuracy: 0.2216\n",
      "Epoch 2/10\n",
      "134/134 [==============================] - 16s 121ms/step - loss: 1.8355 - accuracy: 0.2184\n",
      "Epoch 3/10\n",
      "134/134 [==============================] - 17s 125ms/step - loss: 1.8038 - accuracy: 0.2666\n",
      "Epoch 4/10\n",
      "134/134 [==============================] - 17s 127ms/step - loss: 1.7787 - accuracy: 0.2894\n",
      "Epoch 5/10\n",
      "134/134 [==============================] - 17s 125ms/step - loss: 1.7610 - accuracy: 0.2924\n",
      "Epoch 6/10\n",
      "134/134 [==============================] - 17s 126ms/step - loss: 1.7452 - accuracy: 0.2994\n",
      "Epoch 7/10\n",
      "134/134 [==============================] - 17s 127ms/step - loss: 1.7334 - accuracy: 0.3060\n",
      "Epoch 8/10\n",
      "134/134 [==============================] - 17s 128ms/step - loss: 1.7167 - accuracy: 0.3072\n",
      "Epoch 9/10\n",
      "134/134 [==============================] - 17s 129ms/step - loss: 1.6880 - accuracy: 0.3339\n",
      "Epoch 10/10\n",
      "134/134 [==============================] - 17s 127ms/step - loss: 1.6799 - accuracy: 0.3383\n"
     ]
    },
    {
     "name": "stderr",
     "output_type": "stream",
     "text": [
      "/usr/local/lib/python3.10/dist-packages/keras/src/engine/training.py:3079: UserWarning: You are saving your model as an HDF5 file via `model.save()`. This file format is considered legacy. We recommend using instead the native Keras format, e.g. `model.save('my_model.keras')`.\n",
      "  saving_api.save_model(\n"
     ]
    },
    {
     "name": "stdout",
     "output_type": "stream",
     "text": [
      "34/34 [==============================] - 2s 36ms/step\n",
      "Epoch 1/10\n",
      "134/134 [==============================] - 1s 6ms/step - loss: 2209867.0000 - accuracy: 0.1858\n",
      "Epoch 2/10\n",
      "134/134 [==============================] - 1s 6ms/step - loss: 32.0285 - accuracy: 0.2160\n",
      "Epoch 3/10\n",
      "134/134 [==============================] - 1s 6ms/step - loss: 2.7614 - accuracy: 0.2158\n",
      "Epoch 4/10\n",
      "134/134 [==============================] - 1s 6ms/step - loss: 2.2858 - accuracy: 0.2160\n",
      "Epoch 5/10\n",
      "134/134 [==============================] - 1s 6ms/step - loss: 2.2646 - accuracy: 0.2160\n",
      "Epoch 6/10\n",
      "134/134 [==============================] - 1s 6ms/step - loss: 2.2481 - accuracy: 0.2160\n",
      "Epoch 7/10\n",
      "134/134 [==============================] - 1s 6ms/step - loss: 2.2356 - accuracy: 0.2160\n",
      "Epoch 8/10\n",
      "134/134 [==============================] - 1s 6ms/step - loss: 2.2260 - accuracy: 0.2160\n",
      "Epoch 9/10\n",
      "134/134 [==============================] - 1s 6ms/step - loss: 2.2188 - accuracy: 0.2160\n",
      "Epoch 10/10\n",
      "134/134 [==============================] - 1s 6ms/step - loss: 2.2133 - accuracy: 0.2160\n",
      "24/34 [====================>.........] - ETA: 0s"
     ]
    },
    {
     "name": "stderr",
     "output_type": "stream",
     "text": [
      "/usr/local/lib/python3.10/dist-packages/keras/src/engine/training.py:3079: UserWarning: You are saving your model as an HDF5 file via `model.save()`. This file format is considered legacy. We recommend using instead the native Keras format, e.g. `model.save('my_model.keras')`.\n",
      "  saving_api.save_model(\n"
     ]
    },
    {
     "name": "stdout",
     "output_type": "stream",
     "text": [
      "34/34 [==============================] - 0s 2ms/step\n",
      "Epoch 1/10\n",
      "134/134 [==============================] - 19s 125ms/step - loss: 2.2201 - accuracy: 0.2055\n",
      "Epoch 2/10\n",
      "134/134 [==============================] - 16s 122ms/step - loss: 2.1886 - accuracy: 0.2081\n",
      "Epoch 3/10\n",
      "134/134 [==============================] - 16s 121ms/step - loss: 2.1792 - accuracy: 0.2170\n",
      "Epoch 4/10\n",
      "134/134 [==============================] - 15s 115ms/step - loss: 2.1722 - accuracy: 0.2238\n",
      "Epoch 5/10\n",
      "134/134 [==============================] - 16s 122ms/step - loss: 2.1717 - accuracy: 0.2163\n",
      "Epoch 6/10\n",
      "134/134 [==============================] - 17s 124ms/step - loss: 2.1585 - accuracy: 0.2177\n",
      "Epoch 7/10\n",
      "134/134 [==============================] - 17s 124ms/step - loss: 2.1439 - accuracy: 0.2174\n",
      "Epoch 8/10\n",
      "134/134 [==============================] - 16s 116ms/step - loss: 2.1197 - accuracy: 0.2294\n",
      "Epoch 9/10\n",
      "134/134 [==============================] - 16s 119ms/step - loss: 2.1032 - accuracy: 0.2357\n",
      "Epoch 10/10\n",
      "134/134 [==============================] - 16s 120ms/step - loss: 2.0844 - accuracy: 0.2493\n"
     ]
    },
    {
     "name": "stderr",
     "output_type": "stream",
     "text": [
      "/usr/local/lib/python3.10/dist-packages/keras/src/engine/training.py:3079: UserWarning: You are saving your model as an HDF5 file via `model.save()`. This file format is considered legacy. We recommend using instead the native Keras format, e.g. `model.save('my_model.keras')`.\n",
      "  saving_api.save_model(\n"
     ]
    },
    {
     "name": "stdout",
     "output_type": "stream",
     "text": [
      "34/34 [==============================] - 2s 35ms/step\n",
      "Epoch 1/10\n",
      "134/134 [==============================] - 1s 6ms/step - loss: 2861971.2500 - accuracy: 0.1507\n",
      "Epoch 2/10\n",
      "134/134 [==============================] - 1s 6ms/step - loss: 2.3231 - accuracy: 0.1926\n",
      "Epoch 3/10\n",
      "134/134 [==============================] - 1s 6ms/step - loss: 2.2787 - accuracy: 0.1924\n",
      "Epoch 4/10\n",
      "134/134 [==============================] - 1s 6ms/step - loss: 2.2432 - accuracy: 0.1924\n",
      "Epoch 5/10\n",
      "134/134 [==============================] - 1s 6ms/step - loss: 2.2149 - accuracy: 0.1926\n",
      "Epoch 6/10\n",
      "134/134 [==============================] - 1s 6ms/step - loss: 2.1938 - accuracy: 0.1924\n",
      "Epoch 7/10\n",
      "134/134 [==============================] - 1s 6ms/step - loss: 2.1763 - accuracy: 0.1926\n",
      "Epoch 8/10\n",
      "134/134 [==============================] - 1s 6ms/step - loss: 2.1636 - accuracy: 0.1924\n",
      "Epoch 9/10\n",
      "134/134 [==============================] - 1s 6ms/step - loss: 2.1528 - accuracy: 0.1926\n",
      "Epoch 10/10\n",
      "134/134 [==============================] - 1s 6ms/step - loss: 2.1452 - accuracy: 0.1924\n",
      "34/34 [==============================] - 0s 2ms/step\n"
     ]
    },
    {
     "name": "stderr",
     "output_type": "stream",
     "text": [
      "/usr/local/lib/python3.10/dist-packages/keras/src/engine/training.py:3079: UserWarning: You are saving your model as an HDF5 file via `model.save()`. This file format is considered legacy. We recommend using instead the native Keras format, e.g. `model.save('my_model.keras')`.\n",
      "  saving_api.save_model(\n"
     ]
    },
    {
     "name": "stdout",
     "output_type": "stream",
     "text": [
      "Epoch 1/10\n",
      "134/134 [==============================] - 19s 126ms/step - loss: 2.1710 - accuracy: 0.1647\n",
      "Epoch 2/10\n",
      "134/134 [==============================] - 17s 126ms/step - loss: 2.1304 - accuracy: 0.1813\n",
      "Epoch 3/10\n",
      "134/134 [==============================] - 17s 128ms/step - loss: 2.1159 - accuracy: 0.1739\n",
      "Epoch 4/10\n",
      "134/134 [==============================] - 17s 128ms/step - loss: 2.1129 - accuracy: 0.1856\n",
      "Epoch 5/10\n",
      "134/134 [==============================] - 17s 128ms/step - loss: 2.1033 - accuracy: 0.1947\n",
      "Epoch 6/10\n",
      "134/134 [==============================] - 17s 126ms/step - loss: 2.0905 - accuracy: 0.2076\n",
      "Epoch 7/10\n",
      "134/134 [==============================] - 17s 125ms/step - loss: 2.0613 - accuracy: 0.2233\n",
      "Epoch 8/10\n",
      "134/134 [==============================] - 17s 125ms/step - loss: 2.0472 - accuracy: 0.2165\n",
      "Epoch 9/10\n",
      "134/134 [==============================] - 17s 127ms/step - loss: 2.0197 - accuracy: 0.2359\n",
      "Epoch 10/10\n",
      "134/134 [==============================] - 16s 122ms/step - loss: 2.0058 - accuracy: 0.2376\n"
     ]
    },
    {
     "name": "stderr",
     "output_type": "stream",
     "text": [
      "/usr/local/lib/python3.10/dist-packages/keras/src/engine/training.py:3079: UserWarning: You are saving your model as an HDF5 file via `model.save()`. This file format is considered legacy. We recommend using instead the native Keras format, e.g. `model.save('my_model.keras')`.\n",
      "  saving_api.save_model(\n"
     ]
    },
    {
     "name": "stdout",
     "output_type": "stream",
     "text": [
      "34/34 [==============================] - 2s 30ms/step\n",
      "Epoch 1/10\n",
      "134/134 [==============================] - 1s 6ms/step - loss: 3589730.7500 - accuracy: 0.2029\n",
      "Epoch 2/10\n",
      "134/134 [==============================] - 1s 6ms/step - loss: 156.1375 - accuracy: 0.2216\n",
      "Epoch 3/10\n",
      "134/134 [==============================] - 1s 6ms/step - loss: 2.2413 - accuracy: 0.2219\n",
      "Epoch 4/10\n",
      "134/134 [==============================] - 1s 6ms/step - loss: 2.1908 - accuracy: 0.2397\n",
      "Epoch 5/10\n",
      "134/134 [==============================] - 1s 6ms/step - loss: 2.1501 - accuracy: 0.2444\n",
      "Epoch 6/10\n",
      "134/134 [==============================] - 1s 6ms/step - loss: 2.1176 - accuracy: 0.2444\n",
      "Epoch 7/10\n",
      "134/134 [==============================] - 1s 6ms/step - loss: 2.0918 - accuracy: 0.2444\n",
      "Epoch 8/10\n",
      "134/134 [==============================] - 1s 6ms/step - loss: 2.0713 - accuracy: 0.2444\n",
      "Epoch 9/10\n",
      "134/134 [==============================] - 1s 6ms/step - loss: 2.0550 - accuracy: 0.2444\n",
      "Epoch 10/10\n",
      "134/134 [==============================] - 1s 6ms/step - loss: 2.0420 - accuracy: 0.2444\n",
      "24/34 [====================>.........] - ETA: 0s"
     ]
    },
    {
     "name": "stderr",
     "output_type": "stream",
     "text": [
      "/usr/local/lib/python3.10/dist-packages/keras/src/engine/training.py:3079: UserWarning: You are saving your model as an HDF5 file via `model.save()`. This file format is considered legacy. We recommend using instead the native Keras format, e.g. `model.save('my_model.keras')`.\n",
      "  saving_api.save_model(\n"
     ]
    },
    {
     "name": "stdout",
     "output_type": "stream",
     "text": [
      "34/34 [==============================] - 0s 2ms/step\n",
      "Epoch 1/10\n",
      "134/134 [==============================] - 19s 127ms/step - loss: 2.0465 - accuracy: 0.2256\n",
      "Epoch 2/10\n",
      "134/134 [==============================] - 17s 126ms/step - loss: 1.9726 - accuracy: 0.2533\n",
      "Epoch 3/10\n",
      "134/134 [==============================] - 17s 124ms/step - loss: 1.9466 - accuracy: 0.2699\n",
      "Epoch 4/10\n",
      "134/134 [==============================] - 17s 124ms/step - loss: 1.9242 - accuracy: 0.2873\n",
      "Epoch 5/10\n",
      "134/134 [==============================] - 17s 125ms/step - loss: 1.9124 - accuracy: 0.2887\n",
      "Epoch 6/10\n",
      "134/134 [==============================] - 17s 124ms/step - loss: 1.8983 - accuracy: 0.2952\n",
      "Epoch 7/10\n",
      "134/134 [==============================] - 16s 119ms/step - loss: 1.8813 - accuracy: 0.2877\n",
      "Epoch 8/10\n",
      "134/134 [==============================] - 17s 125ms/step - loss: 1.8716 - accuracy: 0.2966\n",
      "Epoch 9/10\n",
      "134/134 [==============================] - 17s 126ms/step - loss: 1.8470 - accuracy: 0.3088\n",
      "Epoch 10/10\n",
      "134/134 [==============================] - 17s 127ms/step - loss: 1.8411 - accuracy: 0.3137\n"
     ]
    },
    {
     "name": "stderr",
     "output_type": "stream",
     "text": [
      "/usr/local/lib/python3.10/dist-packages/keras/src/engine/training.py:3079: UserWarning: You are saving your model as an HDF5 file via `model.save()`. This file format is considered legacy. We recommend using instead the native Keras format, e.g. `model.save('my_model.keras')`.\n",
      "  saving_api.save_model(\n"
     ]
    },
    {
     "name": "stdout",
     "output_type": "stream",
     "text": [
      "34/34 [==============================] - 2s 37ms/step\n"
     ]
    },
    {
     "name": "stderr",
     "output_type": "stream",
     "text": [
      "Processing Folds:  60%|██████    | 3/5 [2:41:18<1:47:37, 3228.82s/it]"
     ]
    },
    {
     "name": "stdout",
     "output_type": "stream",
     "text": [
      "Loading data from: folds/fold_4_train.csv\n",
      "Loading data from: folds/fold_4_test.csv\n",
      "Epoch 1/10\n",
      "134/134 [==============================] - 1s 6ms/step - loss: 2881724.7500 - accuracy: 0.2254\n",
      "Epoch 2/10\n",
      "134/134 [==============================] - 1s 7ms/step - loss: 14.4287 - accuracy: 0.2662\n",
      "Epoch 3/10\n",
      "134/134 [==============================] - 1s 6ms/step - loss: 2.2582 - accuracy: 0.2662\n",
      "Epoch 4/10\n",
      "134/134 [==============================] - 1s 6ms/step - loss: 2.2111 - accuracy: 0.2662\n",
      "Epoch 5/10\n",
      "134/134 [==============================] - 1s 6ms/step - loss: 2.1722 - accuracy: 0.2662\n",
      "Epoch 6/10\n",
      "134/134 [==============================] - 1s 6ms/step - loss: 2.1405 - accuracy: 0.2662\n",
      "Epoch 7/10\n",
      "134/134 [==============================] - 1s 6ms/step - loss: 2.1149 - accuracy: 0.2662\n",
      "Epoch 8/10\n",
      "134/134 [==============================] - 1s 6ms/step - loss: 2.0946 - accuracy: 0.2662\n",
      "Epoch 9/10\n",
      "134/134 [==============================] - 1s 6ms/step - loss: 2.0784 - accuracy: 0.2662\n",
      "Epoch 10/10\n",
      "134/134 [==============================] - 1s 6ms/step - loss: 2.0653 - accuracy: 0.2662\n",
      "24/35 [===================>..........] - ETA: 0s"
     ]
    },
    {
     "name": "stderr",
     "output_type": "stream",
     "text": [
      "/usr/local/lib/python3.10/dist-packages/keras/src/engine/training.py:3079: UserWarning: You are saving your model as an HDF5 file via `model.save()`. This file format is considered legacy. We recommend using instead the native Keras format, e.g. `model.save('my_model.keras')`.\n",
      "  saving_api.save_model(\n"
     ]
    },
    {
     "name": "stdout",
     "output_type": "stream",
     "text": [
      "35/35 [==============================] - 0s 2ms/step\n",
      "Epoch 1/10\n",
      "134/134 [==============================] - 19s 128ms/step - loss: 2.0663 - accuracy: 0.2434\n",
      "Epoch 2/10\n",
      "134/134 [==============================] - 17s 128ms/step - loss: 1.9973 - accuracy: 0.2638\n",
      "Epoch 3/10\n",
      "134/134 [==============================] - 17s 126ms/step - loss: 1.9774 - accuracy: 0.2577\n",
      "Epoch 4/10\n",
      "134/134 [==============================] - 17s 126ms/step - loss: 1.9646 - accuracy: 0.2587\n",
      "Epoch 5/10\n",
      "134/134 [==============================] - 17s 124ms/step - loss: 1.9486 - accuracy: 0.2714\n",
      "Epoch 6/10\n",
      "134/134 [==============================] - 16s 122ms/step - loss: 1.9412 - accuracy: 0.2681\n",
      "Epoch 7/10\n",
      "134/134 [==============================] - 15s 115ms/step - loss: 1.9196 - accuracy: 0.2758\n",
      "Epoch 8/10\n",
      "134/134 [==============================] - 14s 107ms/step - loss: 1.9081 - accuracy: 0.2873\n",
      "Epoch 9/10\n",
      "134/134 [==============================] - 17s 124ms/step - loss: 1.8962 - accuracy: 0.2812\n",
      "Epoch 10/10\n",
      "134/134 [==============================] - 17s 124ms/step - loss: 1.8729 - accuracy: 0.2897\n"
     ]
    },
    {
     "name": "stderr",
     "output_type": "stream",
     "text": [
      "/usr/local/lib/python3.10/dist-packages/keras/src/engine/training.py:3079: UserWarning: You are saving your model as an HDF5 file via `model.save()`. This file format is considered legacy. We recommend using instead the native Keras format, e.g. `model.save('my_model.keras')`.\n",
      "  saving_api.save_model(\n"
     ]
    },
    {
     "name": "stdout",
     "output_type": "stream",
     "text": [
      "35/35 [==============================] - 2s 34ms/step\n",
      "Epoch 1/10\n",
      "134/134 [==============================] - 1s 6ms/step - loss: 2334346.5000 - accuracy: 0.1969\n",
      "Epoch 2/10\n",
      "134/134 [==============================] - 1s 6ms/step - loss: 12.5307 - accuracy: 0.2270\n",
      "Epoch 3/10\n",
      "134/134 [==============================] - 1s 6ms/step - loss: 2.2955 - accuracy: 0.2270\n",
      "Epoch 4/10\n",
      "134/134 [==============================] - 1s 6ms/step - loss: 2.2644 - accuracy: 0.2270\n",
      "Epoch 5/10\n",
      "134/134 [==============================] - 1s 6ms/step - loss: 2.2396 - accuracy: 0.2270\n",
      "Epoch 6/10\n",
      "134/134 [==============================] - 1s 6ms/step - loss: 2.2211 - accuracy: 0.2270\n",
      "Epoch 7/10\n",
      "134/134 [==============================] - 1s 6ms/step - loss: 2.2081 - accuracy: 0.2270\n",
      "Epoch 8/10\n",
      "134/134 [==============================] - 1s 6ms/step - loss: 2.1973 - accuracy: 0.2270\n",
      "Epoch 9/10\n",
      "134/134 [==============================] - 1s 6ms/step - loss: 2.1894 - accuracy: 0.2270\n",
      "Epoch 10/10\n",
      "134/134 [==============================] - 1s 6ms/step - loss: 2.1833 - accuracy: 0.2270\n",
      "24/35 [===================>..........] - ETA: 0s"
     ]
    },
    {
     "name": "stderr",
     "output_type": "stream",
     "text": [
      "/usr/local/lib/python3.10/dist-packages/keras/src/engine/training.py:3079: UserWarning: You are saving your model as an HDF5 file via `model.save()`. This file format is considered legacy. We recommend using instead the native Keras format, e.g. `model.save('my_model.keras')`.\n",
      "  saving_api.save_model(\n"
     ]
    },
    {
     "name": "stdout",
     "output_type": "stream",
     "text": [
      "35/35 [==============================] - 0s 2ms/step\n",
      "Epoch 1/10\n",
      "134/134 [==============================] - 22s 125ms/step - loss: 2.2105 - accuracy: 0.2178\n",
      "Epoch 2/10\n",
      "134/134 [==============================] - 17s 126ms/step - loss: 2.1705 - accuracy: 0.2289\n",
      "Epoch 3/10\n",
      "134/134 [==============================] - 17s 126ms/step - loss: 2.1511 - accuracy: 0.2239\n",
      "Epoch 4/10\n",
      "134/134 [==============================] - 17s 125ms/step - loss: 2.1293 - accuracy: 0.2350\n",
      "Epoch 5/10\n",
      "134/134 [==============================] - 17s 124ms/step - loss: 2.0940 - accuracy: 0.2493\n",
      "Epoch 6/10\n",
      "134/134 [==============================] - 16s 123ms/step - loss: 2.0929 - accuracy: 0.2444\n",
      "Epoch 7/10\n",
      "134/134 [==============================] - 17s 124ms/step - loss: 2.0497 - accuracy: 0.2589\n",
      "Epoch 8/10\n",
      "134/134 [==============================] - 17s 126ms/step - loss: 2.0229 - accuracy: 0.2756\n",
      "Epoch 9/10\n",
      "134/134 [==============================] - 17s 129ms/step - loss: 2.0060 - accuracy: 0.2789\n",
      "Epoch 10/10\n",
      "134/134 [==============================] - 17s 126ms/step - loss: 2.0178 - accuracy: 0.2782\n"
     ]
    },
    {
     "name": "stderr",
     "output_type": "stream",
     "text": [
      "/usr/local/lib/python3.10/dist-packages/keras/src/engine/training.py:3079: UserWarning: You are saving your model as an HDF5 file via `model.save()`. This file format is considered legacy. We recommend using instead the native Keras format, e.g. `model.save('my_model.keras')`.\n",
      "  saving_api.save_model(\n"
     ]
    },
    {
     "name": "stdout",
     "output_type": "stream",
     "text": [
      "35/35 [==============================] - 2s 35ms/step\n",
      "Epoch 1/10\n",
      "134/134 [==============================] - 1s 6ms/step - loss: 2534804.0000 - accuracy: 0.1965\n",
      "Epoch 2/10\n",
      "134/134 [==============================] - 1s 6ms/step - loss: 53.1460 - accuracy: 0.2176\n",
      "Epoch 3/10\n",
      "134/134 [==============================] - 1s 6ms/step - loss: 25.6664 - accuracy: 0.2169\n",
      "Epoch 4/10\n",
      "134/134 [==============================] - 1s 6ms/step - loss: 4.6904 - accuracy: 0.2225\n",
      "Epoch 5/10\n",
      "134/134 [==============================] - 1s 6ms/step - loss: 2.7716 - accuracy: 0.2225\n",
      "Epoch 6/10\n",
      "134/134 [==============================] - 1s 6ms/step - loss: 2.1486 - accuracy: 0.2228\n",
      "Epoch 7/10\n",
      "134/134 [==============================] - 1s 6ms/step - loss: 2.1255 - accuracy: 0.2228\n",
      "Epoch 8/10\n",
      "134/134 [==============================] - 1s 6ms/step - loss: 2.1073 - accuracy: 0.2228\n",
      "Epoch 9/10\n",
      "134/134 [==============================] - 1s 6ms/step - loss: 2.0925 - accuracy: 0.2228\n",
      "Epoch 10/10\n",
      "134/134 [==============================] - 1s 7ms/step - loss: 2.0806 - accuracy: 0.2228\n",
      "24/35 [===================>..........] - ETA: 0s"
     ]
    },
    {
     "name": "stderr",
     "output_type": "stream",
     "text": [
      "/usr/local/lib/python3.10/dist-packages/keras/src/engine/training.py:3079: UserWarning: You are saving your model as an HDF5 file via `model.save()`. This file format is considered legacy. We recommend using instead the native Keras format, e.g. `model.save('my_model.keras')`.\n",
      "  saving_api.save_model(\n"
     ]
    },
    {
     "name": "stdout",
     "output_type": "stream",
     "text": [
      "35/35 [==============================] - 0s 2ms/step\n",
      "Epoch 1/10\n",
      "134/134 [==============================] - 19s 126ms/step - loss: 2.0639 - accuracy: 0.2082\n",
      "Epoch 2/10\n",
      "134/134 [==============================] - 16s 121ms/step - loss: 2.0364 - accuracy: 0.2136\n",
      "Epoch 3/10\n",
      "134/134 [==============================] - 16s 120ms/step - loss: 2.0098 - accuracy: 0.2162\n",
      "Epoch 4/10\n",
      "134/134 [==============================] - 17s 126ms/step - loss: 1.9921 - accuracy: 0.2268\n",
      "Epoch 5/10\n",
      "134/134 [==============================] - 17s 123ms/step - loss: 1.9815 - accuracy: 0.2291\n",
      "Epoch 6/10\n",
      "134/134 [==============================] - 17s 124ms/step - loss: 1.9732 - accuracy: 0.2246\n",
      "Epoch 7/10\n",
      "134/134 [==============================] - 16s 121ms/step - loss: 1.9612 - accuracy: 0.2315\n",
      "Epoch 8/10\n",
      "134/134 [==============================] - 16s 122ms/step - loss: 1.9500 - accuracy: 0.2430\n",
      "Epoch 9/10\n",
      "134/134 [==============================] - 16s 123ms/step - loss: 1.9354 - accuracy: 0.2460\n",
      "Epoch 10/10\n",
      "134/134 [==============================] - 16s 123ms/step - loss: 1.9292 - accuracy: 0.2500\n"
     ]
    },
    {
     "name": "stderr",
     "output_type": "stream",
     "text": [
      "/usr/local/lib/python3.10/dist-packages/keras/src/engine/training.py:3079: UserWarning: You are saving your model as an HDF5 file via `model.save()`. This file format is considered legacy. We recommend using instead the native Keras format, e.g. `model.save('my_model.keras')`.\n",
      "  saving_api.save_model(\n"
     ]
    },
    {
     "name": "stdout",
     "output_type": "stream",
     "text": [
      "35/35 [==============================] - 2s 36ms/step\n",
      "Epoch 1/10\n",
      "134/134 [==============================] - 1s 6ms/step - loss: 3927363.7500 - accuracy: 0.2192\n",
      "Epoch 2/10\n",
      "134/134 [==============================] - 1s 6ms/step - loss: 98.1589 - accuracy: 0.2620\n",
      "Epoch 3/10\n",
      "134/134 [==============================] - 1s 6ms/step - loss: 2.2304 - accuracy: 0.2620\n",
      "Epoch 4/10\n",
      "134/134 [==============================] - 1s 6ms/step - loss: 2.1757 - accuracy: 0.2620\n",
      "Epoch 5/10\n",
      "134/134 [==============================] - 1s 6ms/step - loss: 2.1315 - accuracy: 0.2620\n",
      "Epoch 6/10\n",
      "134/134 [==============================] - 1s 6ms/step - loss: 2.0957 - accuracy: 0.2620\n",
      "Epoch 7/10\n",
      "134/134 [==============================] - 1s 6ms/step - loss: 2.0672 - accuracy: 0.2620\n",
      "Epoch 8/10\n",
      "134/134 [==============================] - 1s 6ms/step - loss: 2.0447 - accuracy: 0.2620\n",
      "Epoch 9/10\n",
      "134/134 [==============================] - 1s 6ms/step - loss: 2.0268 - accuracy: 0.2620\n",
      "Epoch 10/10\n",
      "134/134 [==============================] - 1s 6ms/step - loss: 2.0126 - accuracy: 0.2620\n",
      "23/35 [==================>...........] - ETA: 0s"
     ]
    },
    {
     "name": "stderr",
     "output_type": "stream",
     "text": [
      "/usr/local/lib/python3.10/dist-packages/keras/src/engine/training.py:3079: UserWarning: You are saving your model as an HDF5 file via `model.save()`. This file format is considered legacy. We recommend using instead the native Keras format, e.g. `model.save('my_model.keras')`.\n",
      "  saving_api.save_model(\n"
     ]
    },
    {
     "name": "stdout",
     "output_type": "stream",
     "text": [
      "35/35 [==============================] - 0s 2ms/step\n",
      "Epoch 1/10\n",
      "134/134 [==============================] - 19s 127ms/step - loss: 2.0162 - accuracy: 0.2336\n",
      "Epoch 2/10\n",
      "134/134 [==============================] - 17s 127ms/step - loss: 1.9165 - accuracy: 0.2695\n",
      "Epoch 3/10\n",
      "134/134 [==============================] - 17s 127ms/step - loss: 1.8849 - accuracy: 0.2800\n",
      "Epoch 4/10\n",
      "134/134 [==============================] - 17s 127ms/step - loss: 1.8847 - accuracy: 0.2777\n",
      "Epoch 5/10\n",
      "134/134 [==============================] - 17s 127ms/step - loss: 1.8674 - accuracy: 0.2998\n",
      "Epoch 6/10\n",
      "134/134 [==============================] - 17s 128ms/step - loss: 1.8515 - accuracy: 0.3099\n",
      "Epoch 7/10\n",
      "134/134 [==============================] - 17s 126ms/step - loss: 1.8396 - accuracy: 0.3106\n",
      "Epoch 8/10\n",
      "134/134 [==============================] - 17s 126ms/step - loss: 1.8237 - accuracy: 0.3155\n",
      "Epoch 9/10\n",
      "134/134 [==============================] - 16s 120ms/step - loss: 1.8131 - accuracy: 0.3141\n",
      "Epoch 10/10\n",
      "134/134 [==============================] - 15s 110ms/step - loss: 1.8029 - accuracy: 0.3258\n"
     ]
    },
    {
     "name": "stderr",
     "output_type": "stream",
     "text": [
      "/usr/local/lib/python3.10/dist-packages/keras/src/engine/training.py:3079: UserWarning: You are saving your model as an HDF5 file via `model.save()`. This file format is considered legacy. We recommend using instead the native Keras format, e.g. `model.save('my_model.keras')`.\n",
      "  saving_api.save_model(\n"
     ]
    },
    {
     "name": "stdout",
     "output_type": "stream",
     "text": [
      "35/35 [==============================] - 2s 35ms/step\n",
      "Epoch 1/10\n",
      "134/134 [==============================] - 1s 6ms/step - loss: 3075444.7500 - accuracy: 0.2103\n",
      "Epoch 2/10\n",
      "134/134 [==============================] - 1s 6ms/step - loss: 71.7658 - accuracy: 0.2465\n",
      "Epoch 3/10\n",
      "134/134 [==============================] - 1s 6ms/step - loss: 19.1132 - accuracy: 0.2465\n",
      "Epoch 4/10\n",
      "134/134 [==============================] - 1s 6ms/step - loss: 2.2328 - accuracy: 0.2465\n",
      "Epoch 5/10\n",
      "134/134 [==============================] - 1s 6ms/step - loss: 2.2008 - accuracy: 0.2465\n",
      "Epoch 6/10\n",
      "134/134 [==============================] - 1s 6ms/step - loss: 2.1756 - accuracy: 0.2465\n",
      "Epoch 7/10\n",
      "134/134 [==============================] - 1s 6ms/step - loss: 2.1561 - accuracy: 0.2465\n",
      "Epoch 8/10\n",
      "134/134 [==============================] - 1s 6ms/step - loss: 2.1409 - accuracy: 0.2465\n",
      "Epoch 9/10\n",
      "134/134 [==============================] - 1s 6ms/step - loss: 2.1290 - accuracy: 0.2465\n",
      "Epoch 10/10\n",
      "134/134 [==============================] - 1s 6ms/step - loss: 2.1196 - accuracy: 0.2465\n",
      "24/35 [===================>..........] - ETA: 0s"
     ]
    },
    {
     "name": "stderr",
     "output_type": "stream",
     "text": [
      "/usr/local/lib/python3.10/dist-packages/keras/src/engine/training.py:3079: UserWarning: You are saving your model as an HDF5 file via `model.save()`. This file format is considered legacy. We recommend using instead the native Keras format, e.g. `model.save('my_model.keras')`.\n",
      "  saving_api.save_model(\n"
     ]
    },
    {
     "name": "stdout",
     "output_type": "stream",
     "text": [
      "35/35 [==============================] - 0s 2ms/step\n",
      "Epoch 1/10\n",
      "134/134 [==============================] - 19s 126ms/step - loss: 2.1238 - accuracy: 0.2319\n",
      "Epoch 2/10\n",
      "134/134 [==============================] - 17s 125ms/step - loss: 2.0752 - accuracy: 0.2460\n",
      "Epoch 3/10\n",
      "134/134 [==============================] - 17s 125ms/step - loss: 2.0601 - accuracy: 0.2509\n",
      "Epoch 4/10\n",
      "134/134 [==============================] - 17s 124ms/step - loss: 2.0444 - accuracy: 0.2509\n",
      "Epoch 5/10\n",
      "134/134 [==============================] - 17s 124ms/step - loss: 2.0201 - accuracy: 0.2531\n",
      "Epoch 6/10\n",
      "134/134 [==============================] - 16s 123ms/step - loss: 2.0007 - accuracy: 0.2629\n",
      "Epoch 7/10\n",
      "134/134 [==============================] - 17s 125ms/step - loss: 1.9853 - accuracy: 0.2721\n",
      "Epoch 8/10\n",
      "134/134 [==============================] - 17s 125ms/step - loss: 1.9725 - accuracy: 0.2721\n",
      "Epoch 9/10\n",
      "134/134 [==============================] - 15s 116ms/step - loss: 1.9581 - accuracy: 0.2761\n",
      "Epoch 10/10\n",
      "134/134 [==============================] - 16s 123ms/step - loss: 1.9320 - accuracy: 0.2953\n"
     ]
    },
    {
     "name": "stderr",
     "output_type": "stream",
     "text": [
      "/usr/local/lib/python3.10/dist-packages/keras/src/engine/training.py:3079: UserWarning: You are saving your model as an HDF5 file via `model.save()`. This file format is considered legacy. We recommend using instead the native Keras format, e.g. `model.save('my_model.keras')`.\n",
      "  saving_api.save_model(\n"
     ]
    },
    {
     "name": "stdout",
     "output_type": "stream",
     "text": [
      "35/35 [==============================] - 2s 36ms/step\n",
      "Epoch 1/10\n",
      "134/134 [==============================] - 1s 6ms/step - loss: 2187673.0000 - accuracy: 0.1857\n",
      "Epoch 2/10\n",
      "134/134 [==============================] - 1s 6ms/step - loss: 21.6471 - accuracy: 0.1941\n",
      "Epoch 3/10\n",
      "134/134 [==============================] - 1s 6ms/step - loss: 7.1626 - accuracy: 0.1944\n",
      "Epoch 4/10\n",
      "134/134 [==============================] - 1s 6ms/step - loss: 11.3332 - accuracy: 0.1941\n",
      "Epoch 5/10\n",
      "134/134 [==============================] - 1s 6ms/step - loss: 3.2356 - accuracy: 0.1941\n",
      "Epoch 6/10\n",
      "134/134 [==============================] - 1s 6ms/step - loss: 2.6891 - accuracy: 0.1941\n",
      "Epoch 7/10\n",
      "134/134 [==============================] - 1s 6ms/step - loss: 2.1795 - accuracy: 0.1941\n",
      "Epoch 8/10\n",
      "134/134 [==============================] - 1s 6ms/step - loss: 2.1623 - accuracy: 0.1941\n",
      "Epoch 9/10\n",
      "134/134 [==============================] - 1s 6ms/step - loss: 2.1522 - accuracy: 0.1941\n",
      "Epoch 10/10\n",
      "134/134 [==============================] - 1s 6ms/step - loss: 2.1443 - accuracy: 0.1941\n",
      "24/35 [===================>..........] - ETA: 0s"
     ]
    },
    {
     "name": "stderr",
     "output_type": "stream",
     "text": [
      "/usr/local/lib/python3.10/dist-packages/keras/src/engine/training.py:3079: UserWarning: You are saving your model as an HDF5 file via `model.save()`. This file format is considered legacy. We recommend using instead the native Keras format, e.g. `model.save('my_model.keras')`.\n",
      "  saving_api.save_model(\n"
     ]
    },
    {
     "name": "stdout",
     "output_type": "stream",
     "text": [
      "35/35 [==============================] - 0s 2ms/step\n",
      "Epoch 1/10\n",
      "134/134 [==============================] - 19s 128ms/step - loss: 2.1576 - accuracy: 0.1883\n",
      "Epoch 2/10\n",
      "134/134 [==============================] - 17s 128ms/step - loss: 2.0955 - accuracy: 0.2291\n",
      "Epoch 3/10\n",
      "134/134 [==============================] - 17s 125ms/step - loss: 2.0822 - accuracy: 0.2340\n",
      "Epoch 4/10\n",
      "134/134 [==============================] - 17s 125ms/step - loss: 2.0702 - accuracy: 0.2423\n",
      "Epoch 5/10\n",
      "134/134 [==============================] - 17s 126ms/step - loss: 2.0565 - accuracy: 0.2376\n",
      "Epoch 6/10\n",
      "134/134 [==============================] - 17s 127ms/step - loss: 2.0436 - accuracy: 0.2427\n",
      "Epoch 7/10\n",
      "134/134 [==============================] - 16s 118ms/step - loss: 2.0209 - accuracy: 0.2481\n",
      "Epoch 8/10\n",
      "134/134 [==============================] - 17s 127ms/step - loss: 2.0074 - accuracy: 0.2467\n",
      "Epoch 9/10\n",
      "134/134 [==============================] - 17s 126ms/step - loss: 1.9742 - accuracy: 0.2573\n",
      "Epoch 10/10\n",
      "134/134 [==============================] - 17s 126ms/step - loss: 1.9505 - accuracy: 0.2711\n"
     ]
    },
    {
     "name": "stderr",
     "output_type": "stream",
     "text": [
      "/usr/local/lib/python3.10/dist-packages/keras/src/engine/training.py:3079: UserWarning: You are saving your model as an HDF5 file via `model.save()`. This file format is considered legacy. We recommend using instead the native Keras format, e.g. `model.save('my_model.keras')`.\n",
      "  saving_api.save_model(\n"
     ]
    },
    {
     "name": "stdout",
     "output_type": "stream",
     "text": [
      "35/35 [==============================] - 2s 35ms/step\n",
      "Epoch 1/10\n",
      "134/134 [==============================] - 1s 6ms/step - loss: 4081004.0000 - accuracy: 0.4380\n",
      "Epoch 2/10\n",
      "134/134 [==============================] - 1s 6ms/step - loss: 246.6679 - accuracy: 0.5202\n",
      "Epoch 3/10\n",
      "134/134 [==============================] - 1s 6ms/step - loss: 2.0239 - accuracy: 0.5223\n",
      "Epoch 4/10\n",
      "134/134 [==============================] - 1s 6ms/step - loss: 15.1215 - accuracy: 0.5218\n",
      "Epoch 5/10\n",
      "134/134 [==============================] - 1s 6ms/step - loss: 1.7797 - accuracy: 0.5221\n",
      "Epoch 6/10\n",
      "134/134 [==============================] - 1s 6ms/step - loss: 1.6838 - accuracy: 0.5221\n",
      "Epoch 7/10\n",
      "134/134 [==============================] - 1s 6ms/step - loss: 1.6023 - accuracy: 0.5221\n",
      "Epoch 8/10\n",
      "134/134 [==============================] - 1s 6ms/step - loss: 1.5333 - accuracy: 0.5221\n",
      "Epoch 9/10\n",
      "134/134 [==============================] - 1s 6ms/step - loss: 1.4745 - accuracy: 0.5223\n",
      "Epoch 10/10\n",
      "134/134 [==============================] - 1s 6ms/step - loss: 1.4257 - accuracy: 0.5221\n",
      "35/35 [==============================] - 0s 2ms/step\n"
     ]
    },
    {
     "name": "stderr",
     "output_type": "stream",
     "text": [
      "/usr/local/lib/python3.10/dist-packages/keras/src/engine/training.py:3079: UserWarning: You are saving your model as an HDF5 file via `model.save()`. This file format is considered legacy. We recommend using instead the native Keras format, e.g. `model.save('my_model.keras')`.\n",
      "  saving_api.save_model(\n"
     ]
    },
    {
     "name": "stdout",
     "output_type": "stream",
     "text": [
      "Epoch 1/10\n",
      "134/134 [==============================] - 19s 126ms/step - loss: 1.3117 - accuracy: 0.4725\n",
      "Epoch 2/10\n",
      "134/134 [==============================] - 17s 124ms/step - loss: 1.1427 - accuracy: 0.5127\n",
      "Epoch 3/10\n",
      "134/134 [==============================] - 17s 124ms/step - loss: 1.1233 - accuracy: 0.5207\n",
      "Epoch 4/10\n",
      "134/134 [==============================] - 16s 122ms/step - loss: 1.1153 - accuracy: 0.5214\n",
      "Epoch 5/10\n",
      "134/134 [==============================] - 17s 124ms/step - loss: 1.1037 - accuracy: 0.5221\n",
      "Epoch 6/10\n",
      "134/134 [==============================] - 16s 121ms/step - loss: 1.0985 - accuracy: 0.5204\n",
      "Epoch 7/10\n",
      "134/134 [==============================] - 17s 126ms/step - loss: 1.0908 - accuracy: 0.5200\n",
      "Epoch 8/10\n",
      "134/134 [==============================] - 17s 127ms/step - loss: 1.0834 - accuracy: 0.5221\n",
      "Epoch 9/10\n",
      "134/134 [==============================] - 17s 127ms/step - loss: 1.0774 - accuracy: 0.5211\n",
      "Epoch 10/10\n",
      "134/134 [==============================] - 17s 124ms/step - loss: 1.0761 - accuracy: 0.5230\n"
     ]
    },
    {
     "name": "stderr",
     "output_type": "stream",
     "text": [
      "/usr/local/lib/python3.10/dist-packages/keras/src/engine/training.py:3079: UserWarning: You are saving your model as an HDF5 file via `model.save()`. This file format is considered legacy. We recommend using instead the native Keras format, e.g. `model.save('my_model.keras')`.\n",
      "  saving_api.save_model(\n"
     ]
    },
    {
     "name": "stdout",
     "output_type": "stream",
     "text": [
      "35/35 [==============================] - 2s 35ms/step\n",
      "Epoch 1/10\n",
      "134/134 [==============================] - 1s 6ms/step - loss: 2236168.7500 - accuracy: 0.3634\n",
      "Epoch 2/10\n",
      "134/134 [==============================] - 1s 6ms/step - loss: 290.3977 - accuracy: 0.4110\n",
      "Epoch 3/10\n",
      "134/134 [==============================] - 1s 6ms/step - loss: 41.7532 - accuracy: 0.4272\n",
      "Epoch 4/10\n",
      "134/134 [==============================] - 1s 6ms/step - loss: 4.0290 - accuracy: 0.4272\n",
      "Epoch 5/10\n",
      "134/134 [==============================] - 1s 6ms/step - loss: 3.2383 - accuracy: 0.4272\n",
      "Epoch 6/10\n",
      "134/134 [==============================] - 1s 6ms/step - loss: 2.3710 - accuracy: 0.4272\n",
      "Epoch 7/10\n",
      "134/134 [==============================] - 1s 6ms/step - loss: 1.5913 - accuracy: 0.4272\n",
      "Epoch 8/10\n",
      "134/134 [==============================] - 1s 6ms/step - loss: 1.5250 - accuracy: 0.4272\n",
      "Epoch 9/10\n",
      "134/134 [==============================] - 1s 6ms/step - loss: 1.4694 - accuracy: 0.4272\n",
      "Epoch 10/10\n",
      "134/134 [==============================] - 1s 6ms/step - loss: 1.4225 - accuracy: 0.4272\n",
      "24/35 [===================>..........] - ETA: 0s"
     ]
    },
    {
     "name": "stderr",
     "output_type": "stream",
     "text": [
      "/usr/local/lib/python3.10/dist-packages/keras/src/engine/training.py:3079: UserWarning: You are saving your model as an HDF5 file via `model.save()`. This file format is considered legacy. We recommend using instead the native Keras format, e.g. `model.save('my_model.keras')`.\n",
      "  saving_api.save_model(\n"
     ]
    },
    {
     "name": "stdout",
     "output_type": "stream",
     "text": [
      "35/35 [==============================] - 0s 2ms/step\n",
      "Epoch 1/10\n",
      "134/134 [==============================] - 19s 128ms/step - loss: 1.3032 - accuracy: 0.3859\n",
      "Epoch 2/10\n",
      "134/134 [==============================] - 17s 125ms/step - loss: 1.1630 - accuracy: 0.3953\n",
      "Epoch 3/10\n",
      "134/134 [==============================] - 16s 117ms/step - loss: 1.1376 - accuracy: 0.4157\n",
      "Epoch 4/10\n",
      "134/134 [==============================] - 17s 125ms/step - loss: 1.1186 - accuracy: 0.4246\n",
      "Epoch 5/10\n",
      "134/134 [==============================] - 17s 127ms/step - loss: 1.1070 - accuracy: 0.4430\n",
      "Epoch 6/10\n",
      "134/134 [==============================] - 17s 123ms/step - loss: 1.1059 - accuracy: 0.4387\n",
      "Epoch 7/10\n",
      "134/134 [==============================] - 16s 120ms/step - loss: 1.0917 - accuracy: 0.4554\n",
      "Epoch 8/10\n",
      "134/134 [==============================] - 17s 124ms/step - loss: 1.0695 - accuracy: 0.4808\n",
      "Epoch 9/10\n",
      "134/134 [==============================] - 17s 125ms/step - loss: 1.0562 - accuracy: 0.4822\n",
      "Epoch 10/10\n",
      "134/134 [==============================] - 17s 126ms/step - loss: 1.0561 - accuracy: 0.4840\n"
     ]
    },
    {
     "name": "stderr",
     "output_type": "stream",
     "text": [
      "/usr/local/lib/python3.10/dist-packages/keras/src/engine/training.py:3079: UserWarning: You are saving your model as an HDF5 file via `model.save()`. This file format is considered legacy. We recommend using instead the native Keras format, e.g. `model.save('my_model.keras')`.\n",
      "  saving_api.save_model(\n"
     ]
    },
    {
     "name": "stdout",
     "output_type": "stream",
     "text": [
      "35/35 [==============================] - 2s 33ms/step\n",
      "Epoch 1/10\n",
      "134/134 [==============================] - 1s 6ms/step - loss: 3813527.0000 - accuracy: 0.3594\n",
      "Epoch 2/10\n",
      "134/134 [==============================] - 1s 6ms/step - loss: 261.4493 - accuracy: 0.3995\n",
      "Epoch 3/10\n",
      "134/134 [==============================] - 1s 6ms/step - loss: 36.0666 - accuracy: 0.4014\n",
      "Epoch 4/10\n",
      "134/134 [==============================] - 1s 6ms/step - loss: 128.7405 - accuracy: 0.4014\n",
      "Epoch 5/10\n",
      "134/134 [==============================] - 1s 6ms/step - loss: 1.7615 - accuracy: 0.4016\n",
      "Epoch 6/10\n",
      "134/134 [==============================] - 1s 6ms/step - loss: 1.6654 - accuracy: 0.4016\n",
      "Epoch 7/10\n",
      "134/134 [==============================] - 1s 6ms/step - loss: 1.5850 - accuracy: 0.4016\n",
      "Epoch 8/10\n",
      "134/134 [==============================] - 1s 6ms/step - loss: 1.5177 - accuracy: 0.4016\n",
      "Epoch 9/10\n",
      "134/134 [==============================] - 1s 6ms/step - loss: 1.4616 - accuracy: 0.4016\n",
      "Epoch 10/10\n",
      "134/134 [==============================] - 1s 6ms/step - loss: 1.4144 - accuracy: 0.4016\n",
      "23/35 [==================>...........] - ETA: 0s"
     ]
    },
    {
     "name": "stderr",
     "output_type": "stream",
     "text": [
      "/usr/local/lib/python3.10/dist-packages/keras/src/engine/training.py:3079: UserWarning: You are saving your model as an HDF5 file via `model.save()`. This file format is considered legacy. We recommend using instead the native Keras format, e.g. `model.save('my_model.keras')`.\n",
      "  saving_api.save_model(\n"
     ]
    },
    {
     "name": "stdout",
     "output_type": "stream",
     "text": [
      "35/35 [==============================] - 0s 2ms/step\n",
      "Epoch 1/10\n",
      "134/134 [==============================] - 19s 126ms/step - loss: 1.2622 - accuracy: 0.3906\n",
      "Epoch 2/10\n",
      "134/134 [==============================] - 17s 124ms/step - loss: 1.1223 - accuracy: 0.4322\n",
      "Epoch 3/10\n",
      "134/134 [==============================] - 17s 128ms/step - loss: 1.1103 - accuracy: 0.4512\n",
      "Epoch 4/10\n",
      "134/134 [==============================] - 17s 129ms/step - loss: 1.1022 - accuracy: 0.4617\n",
      "Epoch 5/10\n",
      "134/134 [==============================] - 17s 129ms/step - loss: 1.1005 - accuracy: 0.4631\n",
      "Epoch 6/10\n",
      "134/134 [==============================] - 17s 126ms/step - loss: 1.0953 - accuracy: 0.4580\n",
      "Epoch 7/10\n",
      "134/134 [==============================] - 17s 127ms/step - loss: 1.0901 - accuracy: 0.4685\n",
      "Epoch 8/10\n",
      "134/134 [==============================] - 17s 124ms/step - loss: 1.0825 - accuracy: 0.4709\n",
      "Epoch 9/10\n",
      "134/134 [==============================] - 16s 121ms/step - loss: 1.0855 - accuracy: 0.4730\n",
      "Epoch 10/10\n",
      "134/134 [==============================] - 14s 107ms/step - loss: 1.0747 - accuracy: 0.4758\n"
     ]
    },
    {
     "name": "stderr",
     "output_type": "stream",
     "text": [
      "/usr/local/lib/python3.10/dist-packages/keras/src/engine/training.py:3079: UserWarning: You are saving your model as an HDF5 file via `model.save()`. This file format is considered legacy. We recommend using instead the native Keras format, e.g. `model.save('my_model.keras')`.\n",
      "  saving_api.save_model(\n"
     ]
    },
    {
     "name": "stdout",
     "output_type": "stream",
     "text": [
      "35/35 [==============================] - 2s 33ms/step\n",
      "Epoch 1/10\n",
      "134/134 [==============================] - 1s 6ms/step - loss: 2738124.5000 - accuracy: 0.4254\n",
      "Epoch 2/10\n",
      "134/134 [==============================] - 1s 6ms/step - loss: 347.4138 - accuracy: 0.5770\n",
      "Epoch 3/10\n",
      "134/134 [==============================] - 1s 6ms/step - loss: 83.6928 - accuracy: 0.5768\n",
      "Epoch 4/10\n",
      "134/134 [==============================] - 1s 6ms/step - loss: 81.9728 - accuracy: 0.5775\n",
      "Epoch 5/10\n",
      "134/134 [==============================] - 1s 6ms/step - loss: 4.3144 - accuracy: 0.5775\n",
      "Epoch 6/10\n",
      "134/134 [==============================] - 1s 6ms/step - loss: 28.6755 - accuracy: 0.5772\n",
      "Epoch 7/10\n",
      "134/134 [==============================] - 1s 6ms/step - loss: 1.5669 - accuracy: 0.5777\n",
      "Epoch 8/10\n",
      "134/134 [==============================] - 1s 6ms/step - loss: 1.4932 - accuracy: 0.5775\n",
      "Epoch 9/10\n",
      "134/134 [==============================] - 1s 6ms/step - loss: 1.4294 - accuracy: 0.5779\n",
      "Epoch 10/10\n",
      "134/134 [==============================] - 1s 6ms/step - loss: 1.3766 - accuracy: 0.5777\n",
      "35/35 [==============================] - 0s 2ms/step\n"
     ]
    },
    {
     "name": "stderr",
     "output_type": "stream",
     "text": [
      "/usr/local/lib/python3.10/dist-packages/keras/src/engine/training.py:3079: UserWarning: You are saving your model as an HDF5 file via `model.save()`. This file format is considered legacy. We recommend using instead the native Keras format, e.g. `model.save('my_model.keras')`.\n",
      "  saving_api.save_model(\n"
     ]
    },
    {
     "name": "stdout",
     "output_type": "stream",
     "text": [
      "Epoch 1/10\n",
      "134/134 [==============================] - 19s 126ms/step - loss: 1.1907 - accuracy: 0.5641\n",
      "Epoch 2/10\n",
      "134/134 [==============================] - 17s 124ms/step - loss: 1.0521 - accuracy: 0.5751\n",
      "Epoch 3/10\n",
      "134/134 [==============================] - 15s 112ms/step - loss: 1.0245 - accuracy: 0.5770\n",
      "Epoch 4/10\n",
      "134/134 [==============================] - 15s 111ms/step - loss: 1.0078 - accuracy: 0.5761\n",
      "Epoch 5/10\n",
      "134/134 [==============================] - 16s 121ms/step - loss: 0.9919 - accuracy: 0.5746\n",
      "Epoch 6/10\n",
      "134/134 [==============================] - 15s 115ms/step - loss: 0.9868 - accuracy: 0.5777\n",
      "Epoch 7/10\n",
      "134/134 [==============================] - 15s 110ms/step - loss: 0.9863 - accuracy: 0.5763\n",
      "Epoch 8/10\n",
      "134/134 [==============================] - 15s 113ms/step - loss: 0.9713 - accuracy: 0.5763\n",
      "Epoch 9/10\n",
      "134/134 [==============================] - 17s 126ms/step - loss: 0.9725 - accuracy: 0.5777\n",
      "Epoch 10/10\n",
      "134/134 [==============================] - 17s 126ms/step - loss: 0.9659 - accuracy: 0.5798\n"
     ]
    },
    {
     "name": "stderr",
     "output_type": "stream",
     "text": [
      "/usr/local/lib/python3.10/dist-packages/keras/src/engine/training.py:3079: UserWarning: You are saving your model as an HDF5 file via `model.save()`. This file format is considered legacy. We recommend using instead the native Keras format, e.g. `model.save('my_model.keras')`.\n",
      "  saving_api.save_model(\n"
     ]
    },
    {
     "name": "stdout",
     "output_type": "stream",
     "text": [
      "35/35 [==============================] - 2s 34ms/step\n",
      "Epoch 1/10\n",
      "134/134 [==============================] - 1s 6ms/step - loss: 2222981.5000 - accuracy: 0.1859\n",
      "Epoch 2/10\n",
      "134/134 [==============================] - 1s 6ms/step - loss: 2.2912 - accuracy: 0.1930\n",
      "Epoch 3/10\n",
      "134/134 [==============================] - 1s 6ms/step - loss: 2.2298 - accuracy: 0.1930\n",
      "Epoch 4/10\n",
      "134/134 [==============================] - 1s 6ms/step - loss: 2.1791 - accuracy: 0.1930\n",
      "Epoch 5/10\n",
      "134/134 [==============================] - 1s 6ms/step - loss: 2.1381 - accuracy: 0.1930\n",
      "Epoch 6/10\n",
      "134/134 [==============================] - 1s 6ms/step - loss: 2.1047 - accuracy: 0.1930\n",
      "Epoch 7/10\n",
      "134/134 [==============================] - 1s 6ms/step - loss: 2.0773 - accuracy: 0.1930\n",
      "Epoch 8/10\n",
      "134/134 [==============================] - 1s 6ms/step - loss: 2.0547 - accuracy: 0.1930\n",
      "Epoch 9/10\n",
      "134/134 [==============================] - 1s 6ms/step - loss: 2.0359 - accuracy: 0.1930\n",
      "Epoch 10/10\n",
      "134/134 [==============================] - 1s 6ms/step - loss: 2.0201 - accuracy: 0.1930\n",
      "23/35 [==================>...........] - ETA: 0s"
     ]
    },
    {
     "name": "stderr",
     "output_type": "stream",
     "text": [
      "/usr/local/lib/python3.10/dist-packages/keras/src/engine/training.py:3079: UserWarning: You are saving your model as an HDF5 file via `model.save()`. This file format is considered legacy. We recommend using instead the native Keras format, e.g. `model.save('my_model.keras')`.\n",
      "  saving_api.save_model(\n"
     ]
    },
    {
     "name": "stdout",
     "output_type": "stream",
     "text": [
      "35/35 [==============================] - 0s 2ms/step\n",
      "Epoch 1/10\n",
      "134/134 [==============================] - 19s 129ms/step - loss: 1.9970 - accuracy: 0.1840\n",
      "Epoch 2/10\n",
      "134/134 [==============================] - 17s 130ms/step - loss: 1.9256 - accuracy: 0.1930\n",
      "Epoch 3/10\n",
      "134/134 [==============================] - 17s 125ms/step - loss: 1.8853 - accuracy: 0.2192\n",
      "Epoch 4/10\n",
      "134/134 [==============================] - 17s 125ms/step - loss: 1.8635 - accuracy: 0.2373\n",
      "Epoch 5/10\n",
      "134/134 [==============================] - 15s 112ms/step - loss: 1.8388 - accuracy: 0.2678\n",
      "Epoch 6/10\n",
      "134/134 [==============================] - 14s 105ms/step - loss: 1.8181 - accuracy: 0.2622\n",
      "Epoch 7/10\n",
      "134/134 [==============================] - 15s 112ms/step - loss: 1.8064 - accuracy: 0.2782\n",
      "Epoch 8/10\n",
      "134/134 [==============================] - 14s 106ms/step - loss: 1.8013 - accuracy: 0.2744\n",
      "Epoch 9/10\n",
      "134/134 [==============================] - 16s 117ms/step - loss: 1.7816 - accuracy: 0.2779\n",
      "Epoch 10/10\n",
      "134/134 [==============================] - 17s 125ms/step - loss: 1.7735 - accuracy: 0.2812\n"
     ]
    },
    {
     "name": "stderr",
     "output_type": "stream",
     "text": [
      "/usr/local/lib/python3.10/dist-packages/keras/src/engine/training.py:3079: UserWarning: You are saving your model as an HDF5 file via `model.save()`. This file format is considered legacy. We recommend using instead the native Keras format, e.g. `model.save('my_model.keras')`.\n",
      "  saving_api.save_model(\n"
     ]
    },
    {
     "name": "stdout",
     "output_type": "stream",
     "text": [
      "35/35 [==============================] - 2s 36ms/step\n",
      "Epoch 1/10\n",
      "134/134 [==============================] - 1s 6ms/step - loss: 1546226.0000 - accuracy: 0.2789\n",
      "Epoch 2/10\n",
      "134/134 [==============================] - 1s 6ms/step - loss: 307.6790 - accuracy: 0.2948\n",
      "Epoch 3/10\n",
      "134/134 [==============================] - 1s 6ms/step - loss: 2.1524 - accuracy: 0.2948\n",
      "Epoch 4/10\n",
      "134/134 [==============================] - 1s 6ms/step - loss: 2.0752 - accuracy: 0.2948\n",
      "Epoch 5/10\n",
      "134/134 [==============================] - 1s 6ms/step - loss: 2.0112 - accuracy: 0.2948\n",
      "Epoch 6/10\n",
      "134/134 [==============================] - 1s 6ms/step - loss: 1.9585 - accuracy: 0.2948\n",
      "Epoch 7/10\n",
      "134/134 [==============================] - 1s 6ms/step - loss: 1.9150 - accuracy: 0.2948\n",
      "Epoch 8/10\n",
      "134/134 [==============================] - 1s 6ms/step - loss: 1.8790 - accuracy: 0.2948\n",
      "Epoch 9/10\n",
      "134/134 [==============================] - 1s 6ms/step - loss: 1.8492 - accuracy: 0.2948\n",
      "Epoch 10/10\n",
      "134/134 [==============================] - 1s 6ms/step - loss: 1.8245 - accuracy: 0.2948\n",
      "35/35 [==============================] - 0s 2ms/step\n"
     ]
    },
    {
     "name": "stderr",
     "output_type": "stream",
     "text": [
      "/usr/local/lib/python3.10/dist-packages/keras/src/engine/training.py:3079: UserWarning: You are saving your model as an HDF5 file via `model.save()`. This file format is considered legacy. We recommend using instead the native Keras format, e.g. `model.save('my_model.keras')`.\n",
      "  saving_api.save_model(\n"
     ]
    },
    {
     "name": "stdout",
     "output_type": "stream",
     "text": [
      "Epoch 1/10\n",
      "134/134 [==============================] - 19s 127ms/step - loss: 1.8085 - accuracy: 0.2568\n",
      "Epoch 2/10\n",
      "134/134 [==============================] - 17s 124ms/step - loss: 1.6892 - accuracy: 0.2681\n",
      "Epoch 3/10\n",
      "134/134 [==============================] - 16s 120ms/step - loss: 1.6736 - accuracy: 0.2721\n",
      "Epoch 4/10\n",
      "134/134 [==============================] - 17s 125ms/step - loss: 1.6575 - accuracy: 0.2810\n",
      "Epoch 5/10\n",
      "134/134 [==============================] - 17s 127ms/step - loss: 1.6404 - accuracy: 0.2815\n",
      "Epoch 6/10\n",
      "134/134 [==============================] - 15s 116ms/step - loss: 1.6236 - accuracy: 0.2932\n",
      "Epoch 7/10\n",
      "134/134 [==============================] - 16s 120ms/step - loss: 1.6032 - accuracy: 0.3124\n",
      "Epoch 8/10\n",
      "134/134 [==============================] - 17s 128ms/step - loss: 1.5914 - accuracy: 0.3270\n",
      "Epoch 9/10\n",
      "134/134 [==============================] - 17s 129ms/step - loss: 1.5854 - accuracy: 0.3272\n",
      "Epoch 10/10\n",
      "134/134 [==============================] - 17s 130ms/step - loss: 1.5707 - accuracy: 0.3345\n"
     ]
    },
    {
     "name": "stderr",
     "output_type": "stream",
     "text": [
      "/usr/local/lib/python3.10/dist-packages/keras/src/engine/training.py:3079: UserWarning: You are saving your model as an HDF5 file via `model.save()`. This file format is considered legacy. We recommend using instead the native Keras format, e.g. `model.save('my_model.keras')`.\n",
      "  saving_api.save_model(\n"
     ]
    },
    {
     "name": "stdout",
     "output_type": "stream",
     "text": [
      "35/35 [==============================] - 2s 36ms/step\n",
      "Epoch 1/10\n",
      "134/134 [==============================] - 1s 6ms/step - loss: 2555594.2500 - accuracy: 0.2648\n",
      "Epoch 2/10\n",
      "134/134 [==============================] - 1s 6ms/step - loss: 51.1323 - accuracy: 0.3284\n",
      "Epoch 3/10\n",
      "134/134 [==============================] - 1s 6ms/step - loss: 8.2100 - accuracy: 0.3284\n",
      "Epoch 4/10\n",
      "134/134 [==============================] - 1s 6ms/step - loss: 2.0956 - accuracy: 0.3286\n",
      "Epoch 5/10\n",
      "134/134 [==============================] - 1s 6ms/step - loss: 2.0334 - accuracy: 0.3286\n",
      "Epoch 6/10\n",
      "134/134 [==============================] - 1s 6ms/step - loss: 1.9817 - accuracy: 0.3286\n",
      "Epoch 7/10\n",
      "134/134 [==============================] - 1s 6ms/step - loss: 1.9390 - accuracy: 0.3286\n",
      "Epoch 8/10\n",
      "134/134 [==============================] - 1s 6ms/step - loss: 1.9035 - accuracy: 0.3286\n",
      "Epoch 9/10\n",
      "134/134 [==============================] - 1s 6ms/step - loss: 1.8744 - accuracy: 0.3286\n",
      "Epoch 10/10\n",
      "134/134 [==============================] - 1s 6ms/step - loss: 1.8502 - accuracy: 0.3286\n",
      " 1/35 [..............................] - ETA: 3s"
     ]
    },
    {
     "name": "stderr",
     "output_type": "stream",
     "text": [
      "/usr/local/lib/python3.10/dist-packages/keras/src/engine/training.py:3079: UserWarning: You are saving your model as an HDF5 file via `model.save()`. This file format is considered legacy. We recommend using instead the native Keras format, e.g. `model.save('my_model.keras')`.\n",
      "  saving_api.save_model(\n"
     ]
    },
    {
     "name": "stdout",
     "output_type": "stream",
     "text": [
      "35/35 [==============================] - 0s 2ms/step\n",
      "Epoch 1/10\n",
      "134/134 [==============================] - 19s 126ms/step - loss: 1.8160 - accuracy: 0.3009\n",
      "Epoch 2/10\n",
      "134/134 [==============================] - 16s 121ms/step - loss: 1.7075 - accuracy: 0.3242\n",
      "Epoch 3/10\n",
      "134/134 [==============================] - 16s 120ms/step - loss: 1.6795 - accuracy: 0.3373\n",
      "Epoch 4/10\n",
      "134/134 [==============================] - 15s 115ms/step - loss: 1.6573 - accuracy: 0.3415\n",
      "Epoch 5/10\n",
      "134/134 [==============================] - 16s 116ms/step - loss: 1.6497 - accuracy: 0.3415\n",
      "Epoch 6/10\n",
      "134/134 [==============================] - 16s 120ms/step - loss: 1.6410 - accuracy: 0.3376\n",
      "Epoch 7/10\n",
      "134/134 [==============================] - 14s 105ms/step - loss: 1.6307 - accuracy: 0.3495\n",
      "Epoch 8/10\n",
      "134/134 [==============================] - 16s 122ms/step - loss: 1.6227 - accuracy: 0.3469\n",
      "Epoch 9/10\n",
      "134/134 [==============================] - 16s 122ms/step - loss: 1.6156 - accuracy: 0.3479\n",
      "Epoch 10/10\n",
      "134/134 [==============================] - 16s 119ms/step - loss: 1.6081 - accuracy: 0.3488\n"
     ]
    },
    {
     "name": "stderr",
     "output_type": "stream",
     "text": [
      "/usr/local/lib/python3.10/dist-packages/keras/src/engine/training.py:3079: UserWarning: You are saving your model as an HDF5 file via `model.save()`. This file format is considered legacy. We recommend using instead the native Keras format, e.g. `model.save('my_model.keras')`.\n",
      "  saving_api.save_model(\n"
     ]
    },
    {
     "name": "stdout",
     "output_type": "stream",
     "text": [
      "35/35 [==============================] - 2s 34ms/step\n",
      "Epoch 1/10\n",
      "134/134 [==============================] - 1s 6ms/step - loss: 1964770.3750 - accuracy: 0.2491\n",
      "Epoch 2/10\n",
      "134/134 [==============================] - 1s 6ms/step - loss: 2.2798 - accuracy: 0.2843\n",
      "Epoch 3/10\n",
      "134/134 [==============================] - 1s 6ms/step - loss: 2.2085 - accuracy: 0.2843\n",
      "Epoch 4/10\n",
      "134/134 [==============================] - 1s 6ms/step - loss: 2.1494 - accuracy: 0.2843\n",
      "Epoch 5/10\n",
      "134/134 [==============================] - 1s 6ms/step - loss: 2.1010 - accuracy: 0.2843\n",
      "Epoch 6/10\n",
      "134/134 [==============================] - 1s 6ms/step - loss: 2.0610 - accuracy: 0.2843\n",
      "Epoch 7/10\n",
      "134/134 [==============================] - 1s 6ms/step - loss: 2.0276 - accuracy: 0.2843\n",
      "Epoch 8/10\n",
      "134/134 [==============================] - 1s 6ms/step - loss: 2.0000 - accuracy: 0.2843\n",
      "Epoch 9/10\n",
      "134/134 [==============================] - 1s 6ms/step - loss: 1.9770 - accuracy: 0.2843\n",
      "Epoch 10/10\n",
      "134/134 [==============================] - 1s 6ms/step - loss: 1.9579 - accuracy: 0.2843\n",
      "24/35 [===================>..........] - ETA: 0s"
     ]
    },
    {
     "name": "stderr",
     "output_type": "stream",
     "text": [
      "/usr/local/lib/python3.10/dist-packages/keras/src/engine/training.py:3079: UserWarning: You are saving your model as an HDF5 file via `model.save()`. This file format is considered legacy. We recommend using instead the native Keras format, e.g. `model.save('my_model.keras')`.\n",
      "  saving_api.save_model(\n"
     ]
    },
    {
     "name": "stdout",
     "output_type": "stream",
     "text": [
      "35/35 [==============================] - 0s 2ms/step\n",
      "Epoch 1/10\n",
      "134/134 [==============================] - 22s 125ms/step - loss: 1.9028 - accuracy: 0.2582\n",
      "Epoch 2/10\n",
      "134/134 [==============================] - 17s 124ms/step - loss: 1.8304 - accuracy: 0.2692\n",
      "Epoch 3/10\n",
      "134/134 [==============================] - 17s 125ms/step - loss: 1.8024 - accuracy: 0.2746\n",
      "Epoch 4/10\n",
      "134/134 [==============================] - 17s 130ms/step - loss: 1.7848 - accuracy: 0.2880\n",
      "Epoch 5/10\n",
      "134/134 [==============================] - 17s 128ms/step - loss: 1.7716 - accuracy: 0.2979\n",
      "Epoch 6/10\n",
      "134/134 [==============================] - 17s 127ms/step - loss: 1.7566 - accuracy: 0.3087\n",
      "Epoch 7/10\n",
      "134/134 [==============================] - 17s 127ms/step - loss: 1.7385 - accuracy: 0.3209\n",
      "Epoch 8/10\n",
      "134/134 [==============================] - 16s 118ms/step - loss: 1.7208 - accuracy: 0.3211\n",
      "Epoch 9/10\n",
      "134/134 [==============================] - 15s 114ms/step - loss: 1.7051 - accuracy: 0.3291\n",
      "Epoch 10/10\n",
      "134/134 [==============================] - 15s 109ms/step - loss: 1.6876 - accuracy: 0.3350\n"
     ]
    },
    {
     "name": "stderr",
     "output_type": "stream",
     "text": [
      "/usr/local/lib/python3.10/dist-packages/keras/src/engine/training.py:3079: UserWarning: You are saving your model as an HDF5 file via `model.save()`. This file format is considered legacy. We recommend using instead the native Keras format, e.g. `model.save('my_model.keras')`.\n",
      "  saving_api.save_model(\n"
     ]
    },
    {
     "name": "stdout",
     "output_type": "stream",
     "text": [
      "35/35 [==============================] - 2s 36ms/step\n",
      "Epoch 1/10\n",
      "134/134 [==============================] - 1s 6ms/step - loss: 3017252.5000 - accuracy: 0.2312\n",
      "Epoch 2/10\n",
      "134/134 [==============================] - 1s 6ms/step - loss: 244.7484 - accuracy: 0.2507\n",
      "Epoch 3/10\n",
      "134/134 [==============================] - 1s 6ms/step - loss: 260.7074 - accuracy: 0.2509\n",
      "Epoch 4/10\n",
      "134/134 [==============================] - 1s 6ms/step - loss: 2.1259 - accuracy: 0.2516\n",
      "Epoch 5/10\n",
      "134/134 [==============================] - 1s 6ms/step - loss: 2.0714 - accuracy: 0.2516\n",
      "Epoch 6/10\n",
      "134/134 [==============================] - 1s 6ms/step - loss: 2.0269 - accuracy: 0.2516\n",
      "Epoch 7/10\n",
      "134/134 [==============================] - 1s 6ms/step - loss: 1.9908 - accuracy: 0.2516\n",
      "Epoch 8/10\n",
      "134/134 [==============================] - 1s 6ms/step - loss: 1.9610 - accuracy: 0.2516\n",
      "Epoch 9/10\n",
      "134/134 [==============================] - 1s 6ms/step - loss: 1.9367 - accuracy: 0.2516\n",
      "Epoch 10/10\n",
      "134/134 [==============================] - 1s 6ms/step - loss: 1.9165 - accuracy: 0.2516\n",
      " 1/35 [..............................] - ETA: 1s"
     ]
    },
    {
     "name": "stderr",
     "output_type": "stream",
     "text": [
      "/usr/local/lib/python3.10/dist-packages/keras/src/engine/training.py:3079: UserWarning: You are saving your model as an HDF5 file via `model.save()`. This file format is considered legacy. We recommend using instead the native Keras format, e.g. `model.save('my_model.keras')`.\n",
      "  saving_api.save_model(\n"
     ]
    },
    {
     "name": "stdout",
     "output_type": "stream",
     "text": [
      "35/35 [==============================] - 0s 4ms/step\n",
      "Epoch 1/10\n",
      "134/134 [==============================] - 19s 123ms/step - loss: 1.8927 - accuracy: 0.2310\n",
      "Epoch 2/10\n",
      "134/134 [==============================] - 16s 117ms/step - loss: 1.7900 - accuracy: 0.2401\n",
      "Epoch 3/10\n",
      "134/134 [==============================] - 17s 126ms/step - loss: 1.7645 - accuracy: 0.2502\n",
      "Epoch 4/10\n",
      "134/134 [==============================] - 17s 126ms/step - loss: 1.7466 - accuracy: 0.2737\n",
      "Epoch 5/10\n",
      "134/134 [==============================] - 16s 123ms/step - loss: 1.7295 - accuracy: 0.2829\n",
      "Epoch 6/10\n",
      "134/134 [==============================] - 17s 125ms/step - loss: 1.7139 - accuracy: 0.2930\n",
      "Epoch 7/10\n",
      "134/134 [==============================] - 16s 122ms/step - loss: 1.7103 - accuracy: 0.2969\n",
      "Epoch 8/10\n",
      "134/134 [==============================] - 17s 124ms/step - loss: 1.6994 - accuracy: 0.2995\n",
      "Epoch 9/10\n",
      "134/134 [==============================] - 17s 126ms/step - loss: 1.6858 - accuracy: 0.3167\n",
      "Epoch 10/10\n",
      "134/134 [==============================] - 14s 107ms/step - loss: 1.6818 - accuracy: 0.3108\n"
     ]
    },
    {
     "name": "stderr",
     "output_type": "stream",
     "text": [
      "/usr/local/lib/python3.10/dist-packages/keras/src/engine/training.py:3079: UserWarning: You are saving your model as an HDF5 file via `model.save()`. This file format is considered legacy. We recommend using instead the native Keras format, e.g. `model.save('my_model.keras')`.\n",
      "  saving_api.save_model(\n"
     ]
    },
    {
     "name": "stdout",
     "output_type": "stream",
     "text": [
      "35/35 [==============================] - 2s 33ms/step\n",
      "Epoch 1/10\n",
      "134/134 [==============================] - 1s 6ms/step - loss: 2647343.0000 - accuracy: 0.1836\n",
      "Epoch 2/10\n",
      "134/134 [==============================] - 1s 6ms/step - loss: 129.2764 - accuracy: 0.2138\n",
      "Epoch 3/10\n",
      "134/134 [==============================] - 1s 6ms/step - loss: 2.2976 - accuracy: 0.2136\n",
      "Epoch 4/10\n",
      "134/134 [==============================] - 1s 6ms/step - loss: 2.2660 - accuracy: 0.2136\n",
      "Epoch 5/10\n",
      "134/134 [==============================] - 1s 6ms/step - loss: 2.2417 - accuracy: 0.2136\n",
      "Epoch 6/10\n",
      "134/134 [==============================] - 1s 6ms/step - loss: 2.2228 - accuracy: 0.2136\n",
      "Epoch 7/10\n",
      "134/134 [==============================] - 1s 6ms/step - loss: 2.2083 - accuracy: 0.2136\n",
      "Epoch 8/10\n",
      "134/134 [==============================] - 1s 6ms/step - loss: 2.1972 - accuracy: 0.2136\n",
      "Epoch 9/10\n",
      "134/134 [==============================] - 1s 6ms/step - loss: 2.1889 - accuracy: 0.2136\n",
      "Epoch 10/10\n",
      "134/134 [==============================] - 1s 6ms/step - loss: 2.1825 - accuracy: 0.2136\n",
      "23/35 [==================>...........] - ETA: 0s"
     ]
    },
    {
     "name": "stderr",
     "output_type": "stream",
     "text": [
      "/usr/local/lib/python3.10/dist-packages/keras/src/engine/training.py:3079: UserWarning: You are saving your model as an HDF5 file via `model.save()`. This file format is considered legacy. We recommend using instead the native Keras format, e.g. `model.save('my_model.keras')`.\n",
      "  saving_api.save_model(\n"
     ]
    },
    {
     "name": "stdout",
     "output_type": "stream",
     "text": [
      "35/35 [==============================] - 0s 2ms/step\n",
      "Epoch 1/10\n",
      "134/134 [==============================] - 19s 125ms/step - loss: 2.2091 - accuracy: 0.1930\n",
      "Epoch 2/10\n",
      "134/134 [==============================] - 17s 126ms/step - loss: 2.1772 - accuracy: 0.2068\n",
      "Epoch 3/10\n",
      "134/134 [==============================] - 17s 130ms/step - loss: 2.1651 - accuracy: 0.2021\n",
      "Epoch 4/10\n",
      "134/134 [==============================] - 17s 125ms/step - loss: 2.1587 - accuracy: 0.2101\n",
      "Epoch 5/10\n",
      "134/134 [==============================] - 16s 119ms/step - loss: 2.1467 - accuracy: 0.2148\n",
      "Epoch 6/10\n",
      "134/134 [==============================] - 16s 121ms/step - loss: 2.1325 - accuracy: 0.2134\n",
      "Epoch 7/10\n",
      "134/134 [==============================] - 16s 123ms/step - loss: 2.1187 - accuracy: 0.2143\n",
      "Epoch 8/10\n",
      "134/134 [==============================] - 16s 117ms/step - loss: 2.1008 - accuracy: 0.2331\n",
      "Epoch 9/10\n",
      "134/134 [==============================] - 16s 118ms/step - loss: 2.0838 - accuracy: 0.2345\n",
      "Epoch 10/10\n",
      "134/134 [==============================] - 17s 124ms/step - loss: 2.0758 - accuracy: 0.2413\n"
     ]
    },
    {
     "name": "stderr",
     "output_type": "stream",
     "text": [
      "/usr/local/lib/python3.10/dist-packages/keras/src/engine/training.py:3079: UserWarning: You are saving your model as an HDF5 file via `model.save()`. This file format is considered legacy. We recommend using instead the native Keras format, e.g. `model.save('my_model.keras')`.\n",
      "  saving_api.save_model(\n"
     ]
    },
    {
     "name": "stdout",
     "output_type": "stream",
     "text": [
      "35/35 [==============================] - 2s 35ms/step\n",
      "Epoch 1/10\n",
      "134/134 [==============================] - 1s 6ms/step - loss: 2947703.5000 - accuracy: 0.1770\n",
      "Epoch 2/10\n",
      "134/134 [==============================] - 1s 6ms/step - loss: 194.6145 - accuracy: 0.1843\n",
      "Epoch 3/10\n",
      "134/134 [==============================] - 1s 6ms/step - loss: 2.2663 - accuracy: 0.1857\n",
      "Epoch 4/10\n",
      "134/134 [==============================] - 1s 6ms/step - loss: 49.6554 - accuracy: 0.1901\n",
      "Epoch 5/10\n",
      "134/134 [==============================] - 1s 6ms/step - loss: 23.2194 - accuracy: 0.1899\n",
      "Epoch 6/10\n",
      "134/134 [==============================] - 1s 6ms/step - loss: 2.1759 - accuracy: 0.1897\n",
      "Epoch 7/10\n",
      "134/134 [==============================] - 1s 6ms/step - loss: 2.1563 - accuracy: 0.1897\n",
      "Epoch 8/10\n",
      "134/134 [==============================] - 1s 6ms/step - loss: 2.1417 - accuracy: 0.1897\n",
      "Epoch 9/10\n",
      "134/134 [==============================] - 1s 6ms/step - loss: 2.1298 - accuracy: 0.1897\n",
      "Epoch 10/10\n",
      "134/134 [==============================] - 1s 6ms/step - loss: 2.1209 - accuracy: 0.1897\n",
      "35/35 [==============================] - 0s 2ms/step\n"
     ]
    },
    {
     "name": "stderr",
     "output_type": "stream",
     "text": [
      "/usr/local/lib/python3.10/dist-packages/keras/src/engine/training.py:3079: UserWarning: You are saving your model as an HDF5 file via `model.save()`. This file format is considered legacy. We recommend using instead the native Keras format, e.g. `model.save('my_model.keras')`.\n",
      "  saving_api.save_model(\n"
     ]
    },
    {
     "name": "stdout",
     "output_type": "stream",
     "text": [
      "Epoch 1/10\n",
      "134/134 [==============================] - 19s 125ms/step - loss: 2.1441 - accuracy: 0.1728\n",
      "Epoch 2/10\n",
      "134/134 [==============================] - 16s 121ms/step - loss: 2.0900 - accuracy: 0.1864\n",
      "Epoch 3/10\n",
      "134/134 [==============================] - 16s 122ms/step - loss: 2.0767 - accuracy: 0.1763\n",
      "Epoch 4/10\n",
      "134/134 [==============================] - 17s 125ms/step - loss: 2.0629 - accuracy: 0.1786\n",
      "Epoch 5/10\n",
      "134/134 [==============================] - 17s 126ms/step - loss: 2.0528 - accuracy: 0.1906\n",
      "Epoch 6/10\n",
      "134/134 [==============================] - 16s 121ms/step - loss: 2.0426 - accuracy: 0.1993\n",
      "Epoch 7/10\n",
      "134/134 [==============================] - 16s 122ms/step - loss: 2.0297 - accuracy: 0.2012\n",
      "Epoch 8/10\n",
      "134/134 [==============================] - 17s 125ms/step - loss: 2.0127 - accuracy: 0.2160\n",
      "Epoch 9/10\n",
      "134/134 [==============================] - 17s 126ms/step - loss: 1.9950 - accuracy: 0.2315\n",
      "Epoch 10/10\n",
      "134/134 [==============================] - 17s 128ms/step - loss: 1.9736 - accuracy: 0.2359\n"
     ]
    },
    {
     "name": "stderr",
     "output_type": "stream",
     "text": [
      "/usr/local/lib/python3.10/dist-packages/keras/src/engine/training.py:3079: UserWarning: You are saving your model as an HDF5 file via `model.save()`. This file format is considered legacy. We recommend using instead the native Keras format, e.g. `model.save('my_model.keras')`.\n",
      "  saving_api.save_model(\n"
     ]
    },
    {
     "name": "stdout",
     "output_type": "stream",
     "text": [
      "35/35 [==============================] - 2s 36ms/step\n",
      "Epoch 1/10\n",
      "134/134 [==============================] - 1s 6ms/step - loss: 3218978.2500 - accuracy: 0.1965\n",
      "Epoch 2/10\n",
      "134/134 [==============================] - 1s 6ms/step - loss: 37.8446 - accuracy: 0.2200\n",
      "Epoch 3/10\n",
      "134/134 [==============================] - 1s 6ms/step - loss: 2.2557 - accuracy: 0.2202\n",
      "Epoch 4/10\n",
      "134/134 [==============================] - 1s 6ms/step - loss: 2.2130 - accuracy: 0.2200\n",
      "Epoch 5/10\n",
      "134/134 [==============================] - 1s 6ms/step - loss: 59.4188 - accuracy: 0.2197\n",
      "Epoch 6/10\n",
      "134/134 [==============================] - 1s 6ms/step - loss: 20.9972 - accuracy: 0.2197\n",
      "Epoch 7/10\n",
      "134/134 [==============================] - 1s 6ms/step - loss: 2.1286 - accuracy: 0.2197\n",
      "Epoch 8/10\n",
      "134/134 [==============================] - 1s 6ms/step - loss: 2.1110 - accuracy: 0.2197\n",
      "Epoch 9/10\n",
      "134/134 [==============================] - 1s 6ms/step - loss: 2.0970 - accuracy: 0.2197\n",
      "Epoch 10/10\n",
      "134/134 [==============================] - 1s 6ms/step - loss: 2.0857 - accuracy: 0.2197\n",
      "24/35 [===================>..........] - ETA: 0s"
     ]
    },
    {
     "name": "stderr",
     "output_type": "stream",
     "text": [
      "/usr/local/lib/python3.10/dist-packages/keras/src/engine/training.py:3079: UserWarning: You are saving your model as an HDF5 file via `model.save()`. This file format is considered legacy. We recommend using instead the native Keras format, e.g. `model.save('my_model.keras')`.\n",
      "  saving_api.save_model(\n"
     ]
    },
    {
     "name": "stdout",
     "output_type": "stream",
     "text": [
      "35/35 [==============================] - 0s 2ms/step\n",
      "Epoch 1/10\n",
      "134/134 [==============================] - 19s 127ms/step - loss: 2.0852 - accuracy: 0.2246\n",
      "Epoch 2/10\n",
      "134/134 [==============================] - 16s 120ms/step - loss: 2.0211 - accuracy: 0.2284\n",
      "Epoch 3/10\n",
      "134/134 [==============================] - 16s 120ms/step - loss: 2.0047 - accuracy: 0.2305\n",
      "Epoch 4/10\n",
      "134/134 [==============================] - 16s 123ms/step - loss: 1.9889 - accuracy: 0.2420\n",
      "Epoch 5/10\n",
      "134/134 [==============================] - 16s 122ms/step - loss: 1.9802 - accuracy: 0.2498\n",
      "Epoch 6/10\n",
      "134/134 [==============================] - 16s 123ms/step - loss: 1.9548 - accuracy: 0.2533\n",
      "Epoch 7/10\n",
      "134/134 [==============================] - 17s 125ms/step - loss: 1.9403 - accuracy: 0.2624\n",
      "Epoch 8/10\n",
      "134/134 [==============================] - 17s 126ms/step - loss: 1.9150 - accuracy: 0.2660\n",
      "Epoch 9/10\n",
      "134/134 [==============================] - 17s 126ms/step - loss: 1.8993 - accuracy: 0.2739\n",
      "Epoch 10/10\n",
      "134/134 [==============================] - 17s 128ms/step - loss: 1.8728 - accuracy: 0.2772\n"
     ]
    },
    {
     "name": "stderr",
     "output_type": "stream",
     "text": [
      "/usr/local/lib/python3.10/dist-packages/keras/src/engine/training.py:3079: UserWarning: You are saving your model as an HDF5 file via `model.save()`. This file format is considered legacy. We recommend using instead the native Keras format, e.g. `model.save('my_model.keras')`.\n",
      "  saving_api.save_model(\n"
     ]
    },
    {
     "name": "stdout",
     "output_type": "stream",
     "text": [
      "35/35 [==============================] - 2s 35ms/step\n"
     ]
    },
    {
     "name": "stderr",
     "output_type": "stream",
     "text": [
      "Processing Folds:  80%|████████  | 4/5 [3:35:03<53:46, 3226.99s/it]  "
     ]
    },
    {
     "name": "stdout",
     "output_type": "stream",
     "text": [
      "Loading data from: folds/fold_5_train.csv\n",
      "Loading data from: folds/fold_5_test.csv\n",
      "Epoch 1/10\n",
      "134/134 [==============================] - 1s 6ms/step - loss: 3473311.5000 - accuracy: 0.2232\n",
      "Epoch 2/10\n",
      "134/134 [==============================] - 1s 6ms/step - loss: 2.3221 - accuracy: 0.2431\n",
      "Epoch 3/10\n",
      "134/134 [==============================] - 1s 6ms/step - loss: 2.2753 - accuracy: 0.2433\n",
      "Epoch 4/10\n",
      "134/134 [==============================] - 1s 6ms/step - loss: 2.2379 - accuracy: 0.2433\n",
      "Epoch 5/10\n",
      "134/134 [==============================] - 1s 6ms/step - loss: 2.2081 - accuracy: 0.2433\n",
      "Epoch 6/10\n",
      "134/134 [==============================] - 1s 6ms/step - loss: 2.1849 - accuracy: 0.2431\n",
      "Epoch 7/10\n",
      "134/134 [==============================] - 1s 6ms/step - loss: 2.1657 - accuracy: 0.2433\n",
      "Epoch 8/10\n",
      "134/134 [==============================] - 1s 6ms/step - loss: 2.1518 - accuracy: 0.2431\n",
      "Epoch 9/10\n",
      "134/134 [==============================] - 1s 6ms/step - loss: 2.1403 - accuracy: 0.2431\n",
      "Epoch 10/10\n",
      "134/134 [==============================] - 1s 6ms/step - loss: 2.1306 - accuracy: 0.2433\n",
      "34/34 [==============================] - 0s 2ms/step\n"
     ]
    },
    {
     "name": "stderr",
     "output_type": "stream",
     "text": [
      "/usr/local/lib/python3.10/dist-packages/keras/src/engine/training.py:3079: UserWarning: You are saving your model as an HDF5 file via `model.save()`. This file format is considered legacy. We recommend using instead the native Keras format, e.g. `model.save('my_model.keras')`.\n",
      "  saving_api.save_model(\n"
     ]
    },
    {
     "name": "stdout",
     "output_type": "stream",
     "text": [
      "Epoch 1/10\n",
      "134/134 [==============================] - 19s 127ms/step - loss: 2.1278 - accuracy: 0.2330\n",
      "Epoch 2/10\n",
      "134/134 [==============================] - 17s 126ms/step - loss: 2.0723 - accuracy: 0.2372\n",
      "Epoch 3/10\n",
      "134/134 [==============================] - 17s 126ms/step - loss: 2.0548 - accuracy: 0.2485\n",
      "Epoch 4/10\n",
      "134/134 [==============================] - 17s 126ms/step - loss: 2.0420 - accuracy: 0.2433\n",
      "Epoch 5/10\n",
      "134/134 [==============================] - 17s 124ms/step - loss: 2.0333 - accuracy: 0.2452\n",
      "Epoch 6/10\n",
      "134/134 [==============================] - 17s 127ms/step - loss: 2.0179 - accuracy: 0.2499\n",
      "Epoch 7/10\n",
      "134/134 [==============================] - 17s 129ms/step - loss: 1.9997 - accuracy: 0.2550\n",
      "Epoch 8/10\n",
      "134/134 [==============================] - 17s 128ms/step - loss: 1.9775 - accuracy: 0.2625\n",
      "Epoch 9/10\n",
      "134/134 [==============================] - 17s 124ms/step - loss: 1.9617 - accuracy: 0.2611\n",
      "Epoch 10/10\n",
      "134/134 [==============================] - 16s 122ms/step - loss: 1.9310 - accuracy: 0.2696\n"
     ]
    },
    {
     "name": "stderr",
     "output_type": "stream",
     "text": [
      "/usr/local/lib/python3.10/dist-packages/keras/src/engine/training.py:3079: UserWarning: You are saving your model as an HDF5 file via `model.save()`. This file format is considered legacy. We recommend using instead the native Keras format, e.g. `model.save('my_model.keras')`.\n",
      "  saving_api.save_model(\n"
     ]
    },
    {
     "name": "stdout",
     "output_type": "stream",
     "text": [
      "34/34 [==============================] - 2s 36ms/step\n",
      "Epoch 1/10\n",
      "134/134 [==============================] - 1s 6ms/step - loss: 3144229.7500 - accuracy: 0.1718\n",
      "Epoch 2/10\n",
      "134/134 [==============================] - 1s 6ms/step - loss: 2.3517 - accuracy: 0.1936\n",
      "Epoch 3/10\n",
      "134/134 [==============================] - 1s 6ms/step - loss: 2.3216 - accuracy: 0.1936\n",
      "Epoch 4/10\n",
      "134/134 [==============================] - 1s 6ms/step - loss: 2.2980 - accuracy: 0.1936\n",
      "Epoch 5/10\n",
      "134/134 [==============================] - 1s 6ms/step - loss: 7.0516 - accuracy: 0.1934\n",
      "Epoch 6/10\n",
      "134/134 [==============================] - 1s 6ms/step - loss: 2.2663 - accuracy: 0.1936\n",
      "Epoch 7/10\n",
      "134/134 [==============================] - 1s 6ms/step - loss: 2.2564 - accuracy: 0.1936\n",
      "Epoch 8/10\n",
      "134/134 [==============================] - 1s 6ms/step - loss: 2.2490 - accuracy: 0.1936\n",
      "Epoch 9/10\n",
      "134/134 [==============================] - 1s 6ms/step - loss: 2.2435 - accuracy: 0.1936\n",
      "Epoch 10/10\n",
      "134/134 [==============================] - 1s 6ms/step - loss: 2.2396 - accuracy: 0.1936\n",
      "24/34 [====================>.........] - ETA: 0s"
     ]
    },
    {
     "name": "stderr",
     "output_type": "stream",
     "text": [
      "/usr/local/lib/python3.10/dist-packages/keras/src/engine/training.py:3079: UserWarning: You are saving your model as an HDF5 file via `model.save()`. This file format is considered legacy. We recommend using instead the native Keras format, e.g. `model.save('my_model.keras')`.\n",
      "  saving_api.save_model(\n"
     ]
    },
    {
     "name": "stdout",
     "output_type": "stream",
     "text": [
      "34/34 [==============================] - 0s 2ms/step\n",
      "Epoch 1/10\n",
      "134/134 [==============================] - 19s 126ms/step - loss: 2.2618 - accuracy: 0.1932\n",
      "Epoch 2/10\n",
      "134/134 [==============================] - 17s 127ms/step - loss: 2.2316 - accuracy: 0.2028\n",
      "Epoch 3/10\n",
      "134/134 [==============================] - 17s 126ms/step - loss: 2.2008 - accuracy: 0.2199\n",
      "Epoch 4/10\n",
      "134/134 [==============================] - 17s 124ms/step - loss: 2.1619 - accuracy: 0.2330\n",
      "Epoch 5/10\n",
      "134/134 [==============================] - 17s 127ms/step - loss: 2.1389 - accuracy: 0.2356\n",
      "Epoch 6/10\n",
      "134/134 [==============================] - 17s 123ms/step - loss: 2.1147 - accuracy: 0.2478\n",
      "Epoch 7/10\n",
      "134/134 [==============================] - 17s 127ms/step - loss: 2.0996 - accuracy: 0.2447\n",
      "Epoch 8/10\n",
      "134/134 [==============================] - 16s 123ms/step - loss: 2.0674 - accuracy: 0.2553\n",
      "Epoch 9/10\n",
      "134/134 [==============================] - 17s 126ms/step - loss: 2.0418 - accuracy: 0.2738\n",
      "Epoch 10/10\n",
      "134/134 [==============================] - 17s 125ms/step - loss: 2.0253 - accuracy: 0.2740\n"
     ]
    },
    {
     "name": "stderr",
     "output_type": "stream",
     "text": [
      "/usr/local/lib/python3.10/dist-packages/keras/src/engine/training.py:3079: UserWarning: You are saving your model as an HDF5 file via `model.save()`. This file format is considered legacy. We recommend using instead the native Keras format, e.g. `model.save('my_model.keras')`.\n",
      "  saving_api.save_model(\n"
     ]
    },
    {
     "name": "stdout",
     "output_type": "stream",
     "text": [
      "34/34 [==============================] - 2s 36ms/step\n",
      "Epoch 1/10\n",
      "134/134 [==============================] - 1s 6ms/step - loss: 3373998.7500 - accuracy: 0.1803\n",
      "Epoch 2/10\n",
      "134/134 [==============================] - 1s 6ms/step - loss: 470.1502 - accuracy: 0.2135\n",
      "Epoch 3/10\n",
      "134/134 [==============================] - 1s 6ms/step - loss: 2.2640 - accuracy: 0.2138\n",
      "Epoch 4/10\n",
      "134/134 [==============================] - 1s 6ms/step - loss: 2.2228 - accuracy: 0.2138\n",
      "Epoch 5/10\n",
      "134/134 [==============================] - 1s 6ms/step - loss: 2.1894 - accuracy: 0.2138\n",
      "Epoch 6/10\n",
      "134/134 [==============================] - 1s 6ms/step - loss: 2.1638 - accuracy: 0.2138\n",
      "Epoch 7/10\n",
      "134/134 [==============================] - 1s 6ms/step - loss: 2.1432 - accuracy: 0.2138\n",
      "Epoch 8/10\n",
      "134/134 [==============================] - 1s 6ms/step - loss: 2.1266 - accuracy: 0.2138\n",
      "Epoch 9/10\n",
      "134/134 [==============================] - 1s 6ms/step - loss: 2.1143 - accuracy: 0.2138\n",
      "Epoch 10/10\n",
      "134/134 [==============================] - 1s 6ms/step - loss: 2.1037 - accuracy: 0.2138\n",
      "34/34 [==============================] - 0s 2ms/step\n"
     ]
    },
    {
     "name": "stderr",
     "output_type": "stream",
     "text": [
      "/usr/local/lib/python3.10/dist-packages/keras/src/engine/training.py:3079: UserWarning: You are saving your model as an HDF5 file via `model.save()`. This file format is considered legacy. We recommend using instead the native Keras format, e.g. `model.save('my_model.keras')`.\n",
      "  saving_api.save_model(\n"
     ]
    },
    {
     "name": "stdout",
     "output_type": "stream",
     "text": [
      "Epoch 1/10\n",
      "134/134 [==============================] - 19s 128ms/step - loss: 2.1211 - accuracy: 0.1939\n",
      "Epoch 2/10\n",
      "134/134 [==============================] - 17s 130ms/step - loss: 2.0590 - accuracy: 0.2171\n",
      "Epoch 3/10\n",
      "134/134 [==============================] - 17s 129ms/step - loss: 2.0450 - accuracy: 0.2138\n",
      "Epoch 4/10\n",
      "134/134 [==============================] - 17s 124ms/step - loss: 2.0297 - accuracy: 0.2342\n",
      "Epoch 5/10\n",
      "134/134 [==============================] - 17s 125ms/step - loss: 2.0240 - accuracy: 0.2318\n",
      "Epoch 6/10\n",
      "134/134 [==============================] - 17s 126ms/step - loss: 2.0133 - accuracy: 0.2426\n",
      "Epoch 7/10\n",
      "134/134 [==============================] - 17s 127ms/step - loss: 1.9993 - accuracy: 0.2532\n",
      "Epoch 8/10\n",
      "134/134 [==============================] - 17s 126ms/step - loss: 1.9881 - accuracy: 0.2672\n",
      "Epoch 9/10\n",
      "134/134 [==============================] - 16s 119ms/step - loss: 1.9823 - accuracy: 0.2550\n",
      "Epoch 10/10\n",
      "134/134 [==============================] - 17s 124ms/step - loss: 1.9648 - accuracy: 0.2654\n"
     ]
    },
    {
     "name": "stderr",
     "output_type": "stream",
     "text": [
      "/usr/local/lib/python3.10/dist-packages/keras/src/engine/training.py:3079: UserWarning: You are saving your model as an HDF5 file via `model.save()`. This file format is considered legacy. We recommend using instead the native Keras format, e.g. `model.save('my_model.keras')`.\n",
      "  saving_api.save_model(\n"
     ]
    },
    {
     "name": "stdout",
     "output_type": "stream",
     "text": [
      "34/34 [==============================] - 2s 35ms/step\n",
      "Epoch 1/10\n",
      "134/134 [==============================] - 1s 6ms/step - loss: 2893108.0000 - accuracy: 0.2574\n",
      "Epoch 2/10\n",
      "134/134 [==============================] - 1s 6ms/step - loss: 2.2975 - accuracy: 0.2883\n",
      "Epoch 3/10\n",
      "134/134 [==============================] - 1s 6ms/step - loss: 2.2318 - accuracy: 0.2883\n",
      "Epoch 4/10\n",
      "134/134 [==============================] - 1s 6ms/step - loss: 2.1776 - accuracy: 0.2883\n",
      "Epoch 5/10\n",
      "134/134 [==============================] - 1s 6ms/step - loss: 2.1331 - accuracy: 0.2883\n",
      "Epoch 6/10\n",
      "134/134 [==============================] - 1s 6ms/step - loss: 2.0972 - accuracy: 0.2883\n",
      "Epoch 7/10\n",
      "134/134 [==============================] - 1s 6ms/step - loss: 2.0686 - accuracy: 0.2883\n",
      "Epoch 8/10\n",
      "134/134 [==============================] - 1s 6ms/step - loss: 2.0458 - accuracy: 0.2883\n",
      "Epoch 9/10\n",
      "134/134 [==============================] - 1s 6ms/step - loss: 2.0277 - accuracy: 0.2883\n",
      "Epoch 10/10\n",
      "134/134 [==============================] - 1s 6ms/step - loss: 2.0137 - accuracy: 0.2883\n",
      "24/34 [====================>.........] - ETA: 0s"
     ]
    },
    {
     "name": "stderr",
     "output_type": "stream",
     "text": [
      "/usr/local/lib/python3.10/dist-packages/keras/src/engine/training.py:3079: UserWarning: You are saving your model as an HDF5 file via `model.save()`. This file format is considered legacy. We recommend using instead the native Keras format, e.g. `model.save('my_model.keras')`.\n",
      "  saving_api.save_model(\n"
     ]
    },
    {
     "name": "stdout",
     "output_type": "stream",
     "text": [
      "34/34 [==============================] - 0s 2ms/step\n",
      "Epoch 1/10\n",
      "134/134 [==============================] - 19s 127ms/step - loss: 2.0122 - accuracy: 0.2736\n",
      "Epoch 2/10\n",
      "134/134 [==============================] - 17s 126ms/step - loss: 1.9505 - accuracy: 0.2890\n",
      "Epoch 3/10\n",
      "134/134 [==============================] - 16s 121ms/step - loss: 1.9159 - accuracy: 0.2968\n",
      "Epoch 4/10\n",
      "134/134 [==============================] - 17s 125ms/step - loss: 1.9057 - accuracy: 0.2932\n",
      "Epoch 5/10\n",
      "134/134 [==============================] - 17s 126ms/step - loss: 1.8955 - accuracy: 0.2956\n",
      "Epoch 6/10\n",
      "134/134 [==============================] - 17s 124ms/step - loss: 1.8856 - accuracy: 0.2998\n",
      "Epoch 7/10\n",
      "134/134 [==============================] - 16s 122ms/step - loss: 1.8734 - accuracy: 0.3012\n",
      "Epoch 8/10\n",
      "134/134 [==============================] - 16s 123ms/step - loss: 1.8678 - accuracy: 0.3057\n",
      "Epoch 9/10\n",
      "134/134 [==============================] - 17s 128ms/step - loss: 1.8607 - accuracy: 0.3160\n",
      "Epoch 10/10\n",
      "134/134 [==============================] - 17s 129ms/step - loss: 1.8434 - accuracy: 0.3150\n"
     ]
    },
    {
     "name": "stderr",
     "output_type": "stream",
     "text": [
      "/usr/local/lib/python3.10/dist-packages/keras/src/engine/training.py:3079: UserWarning: You are saving your model as an HDF5 file via `model.save()`. This file format is considered legacy. We recommend using instead the native Keras format, e.g. `model.save('my_model.keras')`.\n",
      "  saving_api.save_model(\n"
     ]
    },
    {
     "name": "stdout",
     "output_type": "stream",
     "text": [
      "34/34 [==============================] - 2s 37ms/step\n",
      "Epoch 1/10\n",
      "134/134 [==============================] - 1s 6ms/step - loss: 3109324.7500 - accuracy: 0.1784\n",
      "Epoch 2/10\n",
      "134/134 [==============================] - 1s 6ms/step - loss: 2.3333 - accuracy: 0.2152\n",
      "Epoch 3/10\n",
      "134/134 [==============================] - 1s 6ms/step - loss: 2.2921 - accuracy: 0.2152\n",
      "Epoch 4/10\n",
      "134/134 [==============================] - 1s 6ms/step - loss: 2.2588 - accuracy: 0.2152\n",
      "Epoch 5/10\n",
      "134/134 [==============================] - 1s 6ms/step - loss: 2.2324 - accuracy: 0.2152\n",
      "Epoch 6/10\n",
      "134/134 [==============================] - 1s 6ms/step - loss: 2.2120 - accuracy: 0.2152\n",
      "Epoch 7/10\n",
      "134/134 [==============================] - 1s 6ms/step - loss: 2.1960 - accuracy: 0.2152\n",
      "Epoch 8/10\n",
      "134/134 [==============================] - 1s 6ms/step - loss: 2.1836 - accuracy: 0.2152\n",
      "Epoch 9/10\n",
      "134/134 [==============================] - 1s 6ms/step - loss: 2.1739 - accuracy: 0.2152\n",
      "Epoch 10/10\n",
      "134/134 [==============================] - 1s 6ms/step - loss: 2.1665 - accuracy: 0.2152\n",
      "34/34 [==============================] - 0s 2ms/step\n"
     ]
    },
    {
     "name": "stderr",
     "output_type": "stream",
     "text": [
      "/usr/local/lib/python3.10/dist-packages/keras/src/engine/training.py:3079: UserWarning: You are saving your model as an HDF5 file via `model.save()`. This file format is considered legacy. We recommend using instead the native Keras format, e.g. `model.save('my_model.keras')`.\n",
      "  saving_api.save_model(\n"
     ]
    },
    {
     "name": "stdout",
     "output_type": "stream",
     "text": [
      "Epoch 1/10\n",
      "134/134 [==============================] - 19s 127ms/step - loss: 2.1702 - accuracy: 0.2009\n",
      "Epoch 2/10\n",
      "134/134 [==============================] - 17s 124ms/step - loss: 2.1499 - accuracy: 0.2051\n",
      "Epoch 3/10\n",
      "134/134 [==============================] - 17s 124ms/step - loss: 2.1423 - accuracy: 0.2021\n",
      "Epoch 4/10\n",
      "134/134 [==============================] - 16s 120ms/step - loss: 2.1324 - accuracy: 0.2171\n",
      "Epoch 5/10\n",
      "134/134 [==============================] - 16s 122ms/step - loss: 2.1248 - accuracy: 0.2269\n",
      "Epoch 6/10\n",
      "134/134 [==============================] - 16s 122ms/step - loss: 2.1085 - accuracy: 0.2288\n",
      "Epoch 7/10\n",
      "134/134 [==============================] - 17s 126ms/step - loss: 2.0958 - accuracy: 0.2339\n",
      "Epoch 8/10\n",
      "134/134 [==============================] - 16s 122ms/step - loss: 2.0874 - accuracy: 0.2407\n",
      "Epoch 9/10\n",
      "134/134 [==============================] - 17s 125ms/step - loss: 2.0773 - accuracy: 0.2396\n",
      "Epoch 10/10\n",
      "134/134 [==============================] - 17s 126ms/step - loss: 2.0748 - accuracy: 0.2353\n"
     ]
    },
    {
     "name": "stderr",
     "output_type": "stream",
     "text": [
      "/usr/local/lib/python3.10/dist-packages/keras/src/engine/training.py:3079: UserWarning: You are saving your model as an HDF5 file via `model.save()`. This file format is considered legacy. We recommend using instead the native Keras format, e.g. `model.save('my_model.keras')`.\n",
      "  saving_api.save_model(\n"
     ]
    },
    {
     "name": "stdout",
     "output_type": "stream",
     "text": [
      "34/34 [==============================] - 2s 36ms/step\n",
      "Epoch 1/10\n",
      "134/134 [==============================] - 1s 6ms/step - loss: 1504019.6250 - accuracy: 0.1777\n",
      "Epoch 2/10\n",
      "134/134 [==============================] - 1s 6ms/step - loss: 2.3289 - accuracy: 0.2079\n",
      "Epoch 3/10\n",
      "134/134 [==============================] - 1s 6ms/step - loss: 2.2876 - accuracy: 0.2079\n",
      "Epoch 4/10\n",
      "134/134 [==============================] - 1s 6ms/step - loss: 2.2546 - accuracy: 0.2079\n",
      "Epoch 5/10\n",
      "134/134 [==============================] - 1s 6ms/step - loss: 2.2284 - accuracy: 0.2079\n",
      "Epoch 6/10\n",
      "134/134 [==============================] - 1s 6ms/step - loss: 2.2078 - accuracy: 0.2079\n",
      "Epoch 7/10\n",
      "134/134 [==============================] - 1s 6ms/step - loss: 2.1915 - accuracy: 0.2079\n",
      "Epoch 8/10\n",
      "134/134 [==============================] - 1s 6ms/step - loss: 2.1788 - accuracy: 0.2079\n",
      "Epoch 9/10\n",
      "134/134 [==============================] - 1s 6ms/step - loss: 2.1687 - accuracy: 0.2079\n",
      "Epoch 10/10\n",
      "134/134 [==============================] - 1s 6ms/step - loss: 2.1606 - accuracy: 0.2079\n",
      "34/34 [==============================] - 0s 2ms/step\n"
     ]
    },
    {
     "name": "stderr",
     "output_type": "stream",
     "text": [
      "/usr/local/lib/python3.10/dist-packages/keras/src/engine/training.py:3079: UserWarning: You are saving your model as an HDF5 file via `model.save()`. This file format is considered legacy. We recommend using instead the native Keras format, e.g. `model.save('my_model.keras')`.\n",
      "  saving_api.save_model(\n"
     ]
    },
    {
     "name": "stdout",
     "output_type": "stream",
     "text": [
      "Epoch 1/10\n",
      "134/134 [==============================] - 19s 125ms/step - loss: 2.1734 - accuracy: 0.1932\n",
      "Epoch 2/10\n",
      "134/134 [==============================] - 17s 126ms/step - loss: 2.1293 - accuracy: 0.1936\n",
      "Epoch 3/10\n",
      "134/134 [==============================] - 17s 125ms/step - loss: 2.1143 - accuracy: 0.2065\n",
      "Epoch 4/10\n",
      "134/134 [==============================] - 16s 122ms/step - loss: 2.1031 - accuracy: 0.2131\n",
      "Epoch 5/10\n",
      "134/134 [==============================] - 17s 129ms/step - loss: 2.0881 - accuracy: 0.2164\n",
      "Epoch 6/10\n",
      "134/134 [==============================] - 17s 128ms/step - loss: 2.0694 - accuracy: 0.2267\n",
      "Epoch 7/10\n",
      "134/134 [==============================] - 17s 129ms/step - loss: 2.0550 - accuracy: 0.2229\n",
      "Epoch 8/10\n",
      "134/134 [==============================] - 17s 125ms/step - loss: 2.0386 - accuracy: 0.2372\n",
      "Epoch 9/10\n",
      "134/134 [==============================] - 17s 124ms/step - loss: 2.0131 - accuracy: 0.2529\n",
      "Epoch 10/10\n",
      "134/134 [==============================] - 17s 125ms/step - loss: 1.9890 - accuracy: 0.2475\n"
     ]
    },
    {
     "name": "stderr",
     "output_type": "stream",
     "text": [
      "/usr/local/lib/python3.10/dist-packages/keras/src/engine/training.py:3079: UserWarning: You are saving your model as an HDF5 file via `model.save()`. This file format is considered legacy. We recommend using instead the native Keras format, e.g. `model.save('my_model.keras')`.\n",
      "  saving_api.save_model(\n"
     ]
    },
    {
     "name": "stdout",
     "output_type": "stream",
     "text": [
      "34/34 [==============================] - 2s 34ms/step\n",
      "Epoch 1/10\n",
      "134/134 [==============================] - 1s 6ms/step - loss: 2578046.0000 - accuracy: 0.4351\n",
      "Epoch 2/10\n",
      "134/134 [==============================] - 1s 6ms/step - loss: 7.1861 - accuracy: 0.4967\n",
      "Epoch 3/10\n",
      "134/134 [==============================] - 1s 6ms/step - loss: 53.3177 - accuracy: 0.4962\n",
      "Epoch 4/10\n",
      "134/134 [==============================] - 1s 6ms/step - loss: 1.8934 - accuracy: 0.4965\n",
      "Epoch 5/10\n",
      "134/134 [==============================] - 1s 6ms/step - loss: 1.7844 - accuracy: 0.4967\n",
      "Epoch 6/10\n",
      "134/134 [==============================] - 1s 6ms/step - loss: 1.6929 - accuracy: 0.4967\n",
      "Epoch 7/10\n",
      "134/134 [==============================] - 1s 6ms/step - loss: 1.6153 - accuracy: 0.4967\n",
      "Epoch 8/10\n",
      "134/134 [==============================] - 1s 6ms/step - loss: 1.5501 - accuracy: 0.4967\n",
      "Epoch 9/10\n",
      "134/134 [==============================] - 1s 6ms/step - loss: 1.4950 - accuracy: 0.4967\n",
      "Epoch 10/10\n",
      "134/134 [==============================] - 1s 6ms/step - loss: 1.4492 - accuracy: 0.4967\n",
      "34/34 [==============================] - 0s 2ms/step\n"
     ]
    },
    {
     "name": "stderr",
     "output_type": "stream",
     "text": [
      "/usr/local/lib/python3.10/dist-packages/keras/src/engine/training.py:3079: UserWarning: You are saving your model as an HDF5 file via `model.save()`. This file format is considered legacy. We recommend using instead the native Keras format, e.g. `model.save('my_model.keras')`.\n",
      "  saving_api.save_model(\n"
     ]
    },
    {
     "name": "stdout",
     "output_type": "stream",
     "text": [
      "Epoch 1/10\n",
      "134/134 [==============================] - 19s 125ms/step - loss: 1.2924 - accuracy: 0.4463\n",
      "Epoch 2/10\n",
      "134/134 [==============================] - 17s 126ms/step - loss: 1.1750 - accuracy: 0.4766\n",
      "Epoch 3/10\n",
      "134/134 [==============================] - 17s 126ms/step - loss: 1.1593 - accuracy: 0.4934\n",
      "Epoch 4/10\n",
      "134/134 [==============================] - 16s 123ms/step - loss: 1.1552 - accuracy: 0.4941\n",
      "Epoch 5/10\n",
      "134/134 [==============================] - 16s 121ms/step - loss: 1.1480 - accuracy: 0.4960\n",
      "Epoch 6/10\n",
      "134/134 [==============================] - 17s 124ms/step - loss: 1.1400 - accuracy: 0.4955\n",
      "Epoch 7/10\n",
      "134/134 [==============================] - 17s 125ms/step - loss: 1.1341 - accuracy: 0.4960\n",
      "Epoch 8/10\n",
      "134/134 [==============================] - 17s 125ms/step - loss: 1.1282 - accuracy: 0.4953\n",
      "Epoch 9/10\n",
      "134/134 [==============================] - 16s 122ms/step - loss: 1.1259 - accuracy: 0.4937\n",
      "Epoch 10/10\n",
      "134/134 [==============================] - 16s 120ms/step - loss: 1.1234 - accuracy: 0.4955\n"
     ]
    },
    {
     "name": "stderr",
     "output_type": "stream",
     "text": [
      "/usr/local/lib/python3.10/dist-packages/keras/src/engine/training.py:3079: UserWarning: You are saving your model as an HDF5 file via `model.save()`. This file format is considered legacy. We recommend using instead the native Keras format, e.g. `model.save('my_model.keras')`.\n",
      "  saving_api.save_model(\n"
     ]
    },
    {
     "name": "stdout",
     "output_type": "stream",
     "text": [
      "34/34 [==============================] - 2s 35ms/step\n",
      "Epoch 1/10\n",
      "134/134 [==============================] - 1s 6ms/step - loss: 3694129.0000 - accuracy: 0.3319\n",
      "Epoch 2/10\n",
      "134/134 [==============================] - 1s 6ms/step - loss: 31.2016 - accuracy: 0.3992\n",
      "Epoch 3/10\n",
      "134/134 [==============================] - 1s 6ms/step - loss: 14.6909 - accuracy: 0.4205\n",
      "Epoch 4/10\n",
      "134/134 [==============================] - 1s 6ms/step - loss: 108.1860 - accuracy: 0.4205\n",
      "Epoch 5/10\n",
      "134/134 [==============================] - 1s 6ms/step - loss: 4.8687 - accuracy: 0.4205\n",
      "Epoch 6/10\n",
      "134/134 [==============================] - 1s 6ms/step - loss: 1.7017 - accuracy: 0.4205\n",
      "Epoch 7/10\n",
      "134/134 [==============================] - 1s 6ms/step - loss: 1.6257 - accuracy: 0.4205\n",
      "Epoch 8/10\n",
      "134/134 [==============================] - 1s 6ms/step - loss: 1.5620 - accuracy: 0.4205\n",
      "Epoch 9/10\n",
      "134/134 [==============================] - 1s 6ms/step - loss: 1.5089 - accuracy: 0.4205\n",
      "Epoch 10/10\n",
      "134/134 [==============================] - 1s 6ms/step - loss: 1.4644 - accuracy: 0.4205\n",
      "34/34 [==============================] - 0s 2ms/step\n"
     ]
    },
    {
     "name": "stderr",
     "output_type": "stream",
     "text": [
      "/usr/local/lib/python3.10/dist-packages/keras/src/engine/training.py:3079: UserWarning: You are saving your model as an HDF5 file via `model.save()`. This file format is considered legacy. We recommend using instead the native Keras format, e.g. `model.save('my_model.keras')`.\n",
      "  saving_api.save_model(\n"
     ]
    },
    {
     "name": "stdout",
     "output_type": "stream",
     "text": [
      "Epoch 1/10\n",
      "134/134 [==============================] - 19s 126ms/step - loss: 1.3133 - accuracy: 0.3774\n",
      "Epoch 2/10\n",
      "134/134 [==============================] - 17s 128ms/step - loss: 1.1971 - accuracy: 0.4004\n",
      "Epoch 3/10\n",
      "134/134 [==============================] - 17s 130ms/step - loss: 1.1838 - accuracy: 0.4140\n",
      "Epoch 4/10\n",
      "134/134 [==============================] - 17s 127ms/step - loss: 1.1787 - accuracy: 0.4168\n",
      "Epoch 5/10\n",
      "134/134 [==============================] - 17s 126ms/step - loss: 1.1685 - accuracy: 0.4217\n",
      "Epoch 6/10\n",
      "134/134 [==============================] - 17s 125ms/step - loss: 1.1718 - accuracy: 0.4280\n",
      "Epoch 7/10\n",
      "134/134 [==============================] - 17s 128ms/step - loss: 1.1641 - accuracy: 0.4273\n",
      "Epoch 8/10\n",
      "134/134 [==============================] - 16s 121ms/step - loss: 1.1544 - accuracy: 0.4466\n",
      "Epoch 9/10\n",
      "134/134 [==============================] - 16s 121ms/step - loss: 1.1525 - accuracy: 0.4412\n",
      "Epoch 10/10\n",
      "134/134 [==============================] - 16s 123ms/step - loss: 1.1456 - accuracy: 0.4480\n"
     ]
    },
    {
     "name": "stderr",
     "output_type": "stream",
     "text": [
      "/usr/local/lib/python3.10/dist-packages/keras/src/engine/training.py:3079: UserWarning: You are saving your model as an HDF5 file via `model.save()`. This file format is considered legacy. We recommend using instead the native Keras format, e.g. `model.save('my_model.keras')`.\n",
      "  saving_api.save_model(\n"
     ]
    },
    {
     "name": "stdout",
     "output_type": "stream",
     "text": [
      "34/34 [==============================] - 2s 35ms/step\n",
      "Epoch 1/10\n",
      "134/134 [==============================] - 1s 6ms/step - loss: 3343828.0000 - accuracy: 0.4032\n",
      "Epoch 2/10\n",
      "134/134 [==============================] - 1s 6ms/step - loss: 13.5127 - accuracy: 0.4374\n",
      "Epoch 3/10\n",
      "134/134 [==============================] - 1s 6ms/step - loss: 5.3332 - accuracy: 0.4374\n",
      "Epoch 4/10\n",
      "134/134 [==============================] - 1s 6ms/step - loss: 1.8967 - accuracy: 0.4376\n",
      "Epoch 5/10\n",
      "134/134 [==============================] - 1s 6ms/step - loss: 1.7884 - accuracy: 0.4376\n",
      "Epoch 6/10\n",
      "134/134 [==============================] - 1s 6ms/step - loss: 1.6970 - accuracy: 0.4376\n",
      "Epoch 7/10\n",
      "134/134 [==============================] - 1s 6ms/step - loss: 1.6202 - accuracy: 0.4376\n",
      "Epoch 8/10\n",
      "134/134 [==============================] - 1s 6ms/step - loss: 1.5560 - accuracy: 0.4376\n",
      "Epoch 9/10\n",
      "134/134 [==============================] - 1s 6ms/step - loss: 1.5021 - accuracy: 0.4376\n",
      "Epoch 10/10\n",
      "134/134 [==============================] - 1s 6ms/step - loss: 1.4569 - accuracy: 0.4376\n",
      "34/34 [==============================] - 0s 2ms/step\n"
     ]
    },
    {
     "name": "stderr",
     "output_type": "stream",
     "text": [
      "/usr/local/lib/python3.10/dist-packages/keras/src/engine/training.py:3079: UserWarning: You are saving your model as an HDF5 file via `model.save()`. This file format is considered legacy. We recommend using instead the native Keras format, e.g. `model.save('my_model.keras')`.\n",
      "  saving_api.save_model(\n"
     ]
    },
    {
     "name": "stdout",
     "output_type": "stream",
     "text": [
      "Epoch 1/10\n",
      "134/134 [==============================] - 19s 127ms/step - loss: 1.3485 - accuracy: 0.3877\n",
      "Epoch 2/10\n",
      "134/134 [==============================] - 17s 125ms/step - loss: 1.1851 - accuracy: 0.4241\n",
      "Epoch 3/10\n",
      "134/134 [==============================] - 17s 126ms/step - loss: 1.1616 - accuracy: 0.4428\n",
      "Epoch 4/10\n",
      "134/134 [==============================] - 17s 128ms/step - loss: 1.1607 - accuracy: 0.4559\n",
      "Epoch 5/10\n",
      "134/134 [==============================] - 17s 125ms/step - loss: 1.1512 - accuracy: 0.4543\n",
      "Epoch 6/10\n",
      "134/134 [==============================] - 17s 125ms/step - loss: 1.1457 - accuracy: 0.4627\n",
      "Epoch 7/10\n",
      "134/134 [==============================] - 17s 123ms/step - loss: 1.1453 - accuracy: 0.4702\n",
      "Epoch 8/10\n",
      "134/134 [==============================] - 17s 123ms/step - loss: 1.1429 - accuracy: 0.4639\n",
      "Epoch 9/10\n",
      "134/134 [==============================] - 17s 130ms/step - loss: 1.1411 - accuracy: 0.4681\n",
      "Epoch 10/10\n",
      "134/134 [==============================] - 17s 129ms/step - loss: 1.1375 - accuracy: 0.4733\n"
     ]
    },
    {
     "name": "stderr",
     "output_type": "stream",
     "text": [
      "/usr/local/lib/python3.10/dist-packages/keras/src/engine/training.py:3079: UserWarning: You are saving your model as an HDF5 file via `model.save()`. This file format is considered legacy. We recommend using instead the native Keras format, e.g. `model.save('my_model.keras')`.\n",
      "  saving_api.save_model(\n"
     ]
    },
    {
     "name": "stdout",
     "output_type": "stream",
     "text": [
      "34/34 [==============================] - 2s 37ms/step\n",
      "Epoch 1/10\n",
      "134/134 [==============================] - 1s 6ms/step - loss: 2302611.5000 - accuracy: 0.5026\n",
      "Epoch 2/10\n",
      "134/134 [==============================] - 1s 6ms/step - loss: 192.4397 - accuracy: 0.5755\n",
      "Epoch 3/10\n",
      "134/134 [==============================] - 1s 6ms/step - loss: 352.4071 - accuracy: 0.5759\n",
      "Epoch 4/10\n",
      "134/134 [==============================] - 1s 6ms/step - loss: 2.1598 - accuracy: 0.5757\n",
      "Epoch 5/10\n",
      "134/134 [==============================] - 1s 6ms/step - loss: 8.5997 - accuracy: 0.5759\n",
      "Epoch 6/10\n",
      "134/134 [==============================] - 1s 6ms/step - loss: 11.7057 - accuracy: 0.5757\n",
      "Epoch 7/10\n",
      "134/134 [==============================] - 1s 6ms/step - loss: 1.5543 - accuracy: 0.5759\n",
      "Epoch 8/10\n",
      "134/134 [==============================] - 1s 6ms/step - loss: 1.4816 - accuracy: 0.5759\n",
      "Epoch 9/10\n",
      "134/134 [==============================] - 1s 6ms/step - loss: 1.4199 - accuracy: 0.5759\n",
      "Epoch 10/10\n",
      "134/134 [==============================] - 1s 6ms/step - loss: 1.3676 - accuracy: 0.5759\n",
      " 1/34 [..............................] - ETA: 3s"
     ]
    },
    {
     "name": "stderr",
     "output_type": "stream",
     "text": [
      "/usr/local/lib/python3.10/dist-packages/keras/src/engine/training.py:3079: UserWarning: You are saving your model as an HDF5 file via `model.save()`. This file format is considered legacy. We recommend using instead the native Keras format, e.g. `model.save('my_model.keras')`.\n",
      "  saving_api.save_model(\n"
     ]
    },
    {
     "name": "stdout",
     "output_type": "stream",
     "text": [
      "34/34 [==============================] - 0s 2ms/step\n",
      "Epoch 1/10\n",
      "134/134 [==============================] - 23s 129ms/step - loss: 1.2001 - accuracy: 0.5534\n",
      "Epoch 2/10\n",
      "134/134 [==============================] - 17s 126ms/step - loss: 1.0508 - accuracy: 0.5635\n",
      "Epoch 3/10\n",
      "134/134 [==============================] - 17s 124ms/step - loss: 1.0100 - accuracy: 0.5699\n",
      "Epoch 4/10\n",
      "134/134 [==============================] - 16s 122ms/step - loss: 0.9934 - accuracy: 0.5767\n",
      "Epoch 5/10\n",
      "134/134 [==============================] - 16s 118ms/step - loss: 0.9864 - accuracy: 0.5724\n",
      "Epoch 6/10\n",
      "134/134 [==============================] - 17s 123ms/step - loss: 0.9724 - accuracy: 0.5729\n",
      "Epoch 7/10\n",
      "134/134 [==============================] - 17s 123ms/step - loss: 0.9675 - accuracy: 0.5731\n",
      "Epoch 8/10\n",
      "134/134 [==============================] - 17s 125ms/step - loss: 0.9541 - accuracy: 0.5757\n",
      "Epoch 9/10\n",
      "134/134 [==============================] - 17s 126ms/step - loss: 0.9519 - accuracy: 0.5752\n",
      "Epoch 10/10\n",
      "134/134 [==============================] - 16s 117ms/step - loss: 0.9549 - accuracy: 0.5750\n"
     ]
    },
    {
     "name": "stderr",
     "output_type": "stream",
     "text": [
      "/usr/local/lib/python3.10/dist-packages/keras/src/engine/training.py:3079: UserWarning: You are saving your model as an HDF5 file via `model.save()`. This file format is considered legacy. We recommend using instead the native Keras format, e.g. `model.save('my_model.keras')`.\n",
      "  saving_api.save_model(\n"
     ]
    },
    {
     "name": "stdout",
     "output_type": "stream",
     "text": [
      "34/34 [==============================] - 2s 36ms/step\n",
      "Epoch 1/10\n",
      "134/134 [==============================] - 1s 6ms/step - loss: 2239673.2500 - accuracy: 0.1681\n",
      "Epoch 2/10\n",
      "134/134 [==============================] - 1s 6ms/step - loss: 2.3353 - accuracy: 0.1835\n",
      "Epoch 3/10\n",
      "134/134 [==============================] - 1s 6ms/step - loss: 2.2374 - accuracy: 0.1934\n",
      "Epoch 4/10\n",
      "134/134 [==============================] - 1s 6ms/step - loss: 2.1651 - accuracy: 0.1964\n",
      "Epoch 5/10\n",
      "134/134 [==============================] - 1s 6ms/step - loss: 2.1206 - accuracy: 0.2011\n",
      "Epoch 6/10\n",
      "134/134 [==============================] - 1s 6ms/step - loss: 2.0845 - accuracy: 0.2011\n",
      "Epoch 7/10\n",
      "134/134 [==============================] - 1s 6ms/step - loss: 2.0550 - accuracy: 0.2011\n",
      "Epoch 8/10\n",
      "134/134 [==============================] - 1s 6ms/step - loss: 2.0307 - accuracy: 0.2011\n",
      "Epoch 9/10\n",
      "134/134 [==============================] - 1s 6ms/step - loss: 2.0106 - accuracy: 0.2011\n",
      "Epoch 10/10\n",
      "134/134 [==============================] - 1s 6ms/step - loss: 1.9937 - accuracy: 0.2011\n",
      "23/34 [===================>..........] - ETA: 0s"
     ]
    },
    {
     "name": "stderr",
     "output_type": "stream",
     "text": [
      "/usr/local/lib/python3.10/dist-packages/keras/src/engine/training.py:3079: UserWarning: You are saving your model as an HDF5 file via `model.save()`. This file format is considered legacy. We recommend using instead the native Keras format, e.g. `model.save('my_model.keras')`.\n",
      "  saving_api.save_model(\n"
     ]
    },
    {
     "name": "stdout",
     "output_type": "stream",
     "text": [
      "34/34 [==============================] - 0s 2ms/step\n",
      "Epoch 1/10\n",
      "134/134 [==============================] - 19s 126ms/step - loss: 1.9758 - accuracy: 0.1749\n",
      "Epoch 2/10\n",
      "134/134 [==============================] - 17s 127ms/step - loss: 1.8913 - accuracy: 0.1857\n",
      "Epoch 3/10\n",
      "134/134 [==============================] - 17s 127ms/step - loss: 1.8585 - accuracy: 0.1990\n",
      "Epoch 4/10\n",
      "134/134 [==============================] - 17s 127ms/step - loss: 1.8466 - accuracy: 0.2004\n",
      "Epoch 5/10\n",
      "134/134 [==============================] - 17s 129ms/step - loss: 1.8410 - accuracy: 0.1967\n",
      "Epoch 6/10\n",
      "134/134 [==============================] - 17s 129ms/step - loss: 1.8381 - accuracy: 0.2023\n",
      "Epoch 7/10\n",
      "134/134 [==============================] - 17s 129ms/step - loss: 1.8408 - accuracy: 0.1927\n",
      "Epoch 8/10\n",
      "134/134 [==============================] - 17s 126ms/step - loss: 1.8336 - accuracy: 0.2009\n",
      "Epoch 9/10\n",
      "134/134 [==============================] - 17s 126ms/step - loss: 1.8200 - accuracy: 0.2150\n",
      "Epoch 10/10\n",
      "134/134 [==============================] - 17s 124ms/step - loss: 1.8079 - accuracy: 0.2447\n"
     ]
    },
    {
     "name": "stderr",
     "output_type": "stream",
     "text": [
      "/usr/local/lib/python3.10/dist-packages/keras/src/engine/training.py:3079: UserWarning: You are saving your model as an HDF5 file via `model.save()`. This file format is considered legacy. We recommend using instead the native Keras format, e.g. `model.save('my_model.keras')`.\n",
      "  saving_api.save_model(\n"
     ]
    },
    {
     "name": "stdout",
     "output_type": "stream",
     "text": [
      "34/34 [==============================] - 2s 36ms/step\n",
      "Epoch 1/10\n",
      "134/134 [==============================] - 1s 6ms/step - loss: 2521948.2500 - accuracy: 0.2112\n",
      "Epoch 2/10\n",
      "134/134 [==============================] - 1s 6ms/step - loss: 2.2558 - accuracy: 0.2419\n",
      "Epoch 3/10\n",
      "134/134 [==============================] - 1s 6ms/step - loss: 2.1652 - accuracy: 0.2504\n",
      "Epoch 4/10\n",
      "134/134 [==============================] - 1s 6ms/step - loss: 2.0900 - accuracy: 0.2625\n",
      "Epoch 5/10\n",
      "134/134 [==============================] - 1s 6ms/step - loss: 2.0277 - accuracy: 0.2557\n",
      "Epoch 6/10\n",
      "134/134 [==============================] - 1s 6ms/step - loss: 1.9763 - accuracy: 0.2625\n",
      "Epoch 7/10\n",
      "134/134 [==============================] - 1s 6ms/step - loss: 1.9342 - accuracy: 0.2625\n",
      "Epoch 8/10\n",
      "134/134 [==============================] - 1s 6ms/step - loss: 1.8994 - accuracy: 0.2625\n",
      "Epoch 9/10\n",
      "134/134 [==============================] - 1s 6ms/step - loss: 1.8706 - accuracy: 0.2625\n",
      "Epoch 10/10\n",
      "134/134 [==============================] - 1s 6ms/step - loss: 1.8468 - accuracy: 0.2625\n",
      "24/34 [====================>.........] - ETA: 0s"
     ]
    },
    {
     "name": "stderr",
     "output_type": "stream",
     "text": [
      "/usr/local/lib/python3.10/dist-packages/keras/src/engine/training.py:3079: UserWarning: You are saving your model as an HDF5 file via `model.save()`. This file format is considered legacy. We recommend using instead the native Keras format, e.g. `model.save('my_model.keras')`.\n",
      "  saving_api.save_model(\n"
     ]
    },
    {
     "name": "stdout",
     "output_type": "stream",
     "text": [
      "34/34 [==============================] - 0s 2ms/step\n",
      "Epoch 1/10\n",
      "134/134 [==============================] - 18s 120ms/step - loss: 1.8021 - accuracy: 0.2436\n",
      "Epoch 2/10\n",
      "134/134 [==============================] - 16s 122ms/step - loss: 1.7122 - accuracy: 0.2421\n",
      "Epoch 3/10\n",
      "134/134 [==============================] - 17s 125ms/step - loss: 1.6989 - accuracy: 0.2499\n",
      "Epoch 4/10\n",
      "134/134 [==============================] - 16s 122ms/step - loss: 1.6925 - accuracy: 0.2560\n",
      "Epoch 5/10\n",
      "134/134 [==============================] - 17s 124ms/step - loss: 1.6917 - accuracy: 0.2473\n",
      "Epoch 6/10\n",
      "134/134 [==============================] - 16s 123ms/step - loss: 1.6864 - accuracy: 0.2457\n",
      "Epoch 7/10\n",
      "134/134 [==============================] - 17s 127ms/step - loss: 1.6793 - accuracy: 0.2527\n",
      "Epoch 8/10\n",
      "134/134 [==============================] - 16s 118ms/step - loss: 1.6751 - accuracy: 0.2499\n",
      "Epoch 9/10\n",
      "134/134 [==============================] - 16s 123ms/step - loss: 1.6849 - accuracy: 0.2579\n",
      "Epoch 10/10\n",
      "134/134 [==============================] - 16s 122ms/step - loss: 1.6765 - accuracy: 0.2583\n"
     ]
    },
    {
     "name": "stderr",
     "output_type": "stream",
     "text": [
      "/usr/local/lib/python3.10/dist-packages/keras/src/engine/training.py:3079: UserWarning: You are saving your model as an HDF5 file via `model.save()`. This file format is considered legacy. We recommend using instead the native Keras format, e.g. `model.save('my_model.keras')`.\n",
      "  saving_api.save_model(\n"
     ]
    },
    {
     "name": "stdout",
     "output_type": "stream",
     "text": [
      "34/34 [==============================] - 2s 34ms/step\n",
      "Epoch 1/10\n",
      "134/134 [==============================] - 1s 6ms/step - loss: 2069767.5000 - accuracy: 0.2417\n",
      "Epoch 2/10\n",
      "134/134 [==============================] - 1s 6ms/step - loss: 43.9420 - accuracy: 0.2562\n",
      "Epoch 3/10\n",
      "134/134 [==============================] - 1s 6ms/step - loss: 20.4954 - accuracy: 0.2560\n",
      "Epoch 4/10\n",
      "134/134 [==============================] - 1s 6ms/step - loss: 2.1239 - accuracy: 0.2492\n",
      "Epoch 5/10\n",
      "134/134 [==============================] - 1s 6ms/step - loss: 2.0693 - accuracy: 0.2562\n",
      "Epoch 6/10\n",
      "134/134 [==============================] - 1s 6ms/step - loss: 2.0242 - accuracy: 0.2562\n",
      "Epoch 7/10\n",
      "134/134 [==============================] - 1s 6ms/step - loss: 1.9871 - accuracy: 0.2562\n",
      "Epoch 8/10\n",
      "134/134 [==============================] - 1s 6ms/step - loss: 1.9564 - accuracy: 0.2562\n",
      "Epoch 9/10\n",
      "134/134 [==============================] - 1s 6ms/step - loss: 1.9311 - accuracy: 0.2562\n",
      "Epoch 10/10\n",
      "134/134 [==============================] - 1s 6ms/step - loss: 1.9101 - accuracy: 0.2562\n",
      "24/34 [====================>.........] - ETA: 0s"
     ]
    },
    {
     "name": "stderr",
     "output_type": "stream",
     "text": [
      "/usr/local/lib/python3.10/dist-packages/keras/src/engine/training.py:3079: UserWarning: You are saving your model as an HDF5 file via `model.save()`. This file format is considered legacy. We recommend using instead the native Keras format, e.g. `model.save('my_model.keras')`.\n",
      "  saving_api.save_model(\n"
     ]
    },
    {
     "name": "stdout",
     "output_type": "stream",
     "text": [
      "34/34 [==============================] - 0s 2ms/step\n",
      "Epoch 1/10\n",
      "134/134 [==============================] - 19s 127ms/step - loss: 1.8893 - accuracy: 0.2382\n",
      "Epoch 2/10\n",
      "134/134 [==============================] - 17s 130ms/step - loss: 1.7786 - accuracy: 0.2532\n",
      "Epoch 3/10\n",
      "134/134 [==============================] - 17s 128ms/step - loss: 1.7521 - accuracy: 0.2576\n",
      "Epoch 4/10\n",
      "134/134 [==============================] - 17s 123ms/step - loss: 1.7329 - accuracy: 0.2754\n",
      "Epoch 5/10\n",
      "134/134 [==============================] - 17s 125ms/step - loss: 1.7196 - accuracy: 0.2883\n",
      "Epoch 6/10\n",
      "134/134 [==============================] - 17s 127ms/step - loss: 1.7050 - accuracy: 0.2860\n",
      "Epoch 7/10\n",
      "134/134 [==============================] - 17s 125ms/step - loss: 1.6846 - accuracy: 0.3101\n",
      "Epoch 8/10\n",
      "134/134 [==============================] - 15s 113ms/step - loss: 1.6610 - accuracy: 0.3270\n",
      "Epoch 9/10\n",
      "134/134 [==============================] - 14s 107ms/step - loss: 1.6494 - accuracy: 0.3359\n",
      "Epoch 10/10\n",
      "134/134 [==============================] - 14s 106ms/step - loss: 1.6418 - accuracy: 0.3376\n"
     ]
    },
    {
     "name": "stderr",
     "output_type": "stream",
     "text": [
      "/usr/local/lib/python3.10/dist-packages/keras/src/engine/training.py:3079: UserWarning: You are saving your model as an HDF5 file via `model.save()`. This file format is considered legacy. We recommend using instead the native Keras format, e.g. `model.save('my_model.keras')`.\n",
      "  saving_api.save_model(\n"
     ]
    },
    {
     "name": "stdout",
     "output_type": "stream",
     "text": [
      "34/34 [==============================] - 2s 35ms/step\n",
      "Epoch 1/10\n",
      "134/134 [==============================] - 1s 6ms/step - loss: 2131839.7500 - accuracy: 0.2203\n",
      "Epoch 2/10\n",
      "134/134 [==============================] - 1s 6ms/step - loss: 2.2818 - accuracy: 0.2335\n",
      "Epoch 3/10\n",
      "134/134 [==============================] - 1s 6ms/step - loss: 2.2122 - accuracy: 0.2335\n",
      "Epoch 4/10\n",
      "134/134 [==============================] - 1s 6ms/step - loss: 2.1550 - accuracy: 0.2335\n",
      "Epoch 5/10\n",
      "134/134 [==============================] - 1s 6ms/step - loss: 2.1081 - accuracy: 0.2335\n",
      "Epoch 6/10\n",
      "134/134 [==============================] - 1s 6ms/step - loss: 2.0696 - accuracy: 0.2335\n",
      "Epoch 7/10\n",
      "134/134 [==============================] - 1s 6ms/step - loss: 2.0378 - accuracy: 0.2335\n",
      "Epoch 8/10\n",
      "134/134 [==============================] - 1s 6ms/step - loss: 2.0117 - accuracy: 0.2335\n",
      "Epoch 9/10\n",
      "134/134 [==============================] - 1s 6ms/step - loss: 1.9899 - accuracy: 0.2335\n",
      "Epoch 10/10\n",
      "134/134 [==============================] - 1s 6ms/step - loss: 1.9718 - accuracy: 0.2335\n",
      "34/34 [==============================] - 0s 2ms/step\n"
     ]
    },
    {
     "name": "stderr",
     "output_type": "stream",
     "text": [
      "/usr/local/lib/python3.10/dist-packages/keras/src/engine/training.py:3079: UserWarning: You are saving your model as an HDF5 file via `model.save()`. This file format is considered legacy. We recommend using instead the native Keras format, e.g. `model.save('my_model.keras')`.\n",
      "  saving_api.save_model(\n"
     ]
    },
    {
     "name": "stdout",
     "output_type": "stream",
     "text": [
      "Epoch 1/10\n",
      "134/134 [==============================] - 19s 125ms/step - loss: 1.9785 - accuracy: 0.2060\n",
      "Epoch 2/10\n",
      "134/134 [==============================] - 16s 122ms/step - loss: 1.8686 - accuracy: 0.2248\n",
      "Epoch 3/10\n",
      "134/134 [==============================] - 15s 113ms/step - loss: 1.8443 - accuracy: 0.2450\n",
      "Epoch 4/10\n",
      "134/134 [==============================] - 17s 127ms/step - loss: 1.8272 - accuracy: 0.2485\n",
      "Epoch 5/10\n",
      "134/134 [==============================] - 17s 125ms/step - loss: 1.8068 - accuracy: 0.2555\n",
      "Epoch 6/10\n",
      "134/134 [==============================] - 17s 127ms/step - loss: 1.7729 - accuracy: 0.2569\n",
      "Epoch 7/10\n",
      "134/134 [==============================] - 17s 126ms/step - loss: 1.7333 - accuracy: 0.2841\n",
      "Epoch 8/10\n",
      "134/134 [==============================] - 17s 128ms/step - loss: 1.7208 - accuracy: 0.2965\n",
      "Epoch 9/10\n",
      "134/134 [==============================] - 17s 129ms/step - loss: 1.6926 - accuracy: 0.3228\n",
      "Epoch 10/10\n",
      "134/134 [==============================] - 17s 128ms/step - loss: 1.6691 - accuracy: 0.3329\n"
     ]
    },
    {
     "name": "stderr",
     "output_type": "stream",
     "text": [
      "/usr/local/lib/python3.10/dist-packages/keras/src/engine/training.py:3079: UserWarning: You are saving your model as an HDF5 file via `model.save()`. This file format is considered legacy. We recommend using instead the native Keras format, e.g. `model.save('my_model.keras')`.\n",
      "  saving_api.save_model(\n"
     ]
    },
    {
     "name": "stdout",
     "output_type": "stream",
     "text": [
      "34/34 [==============================] - 2s 37ms/step\n",
      "Epoch 1/10\n",
      "134/134 [==============================] - 1s 7ms/step - loss: 2474693.7500 - accuracy: 0.2311\n",
      "Epoch 2/10\n",
      "134/134 [==============================] - 1s 6ms/step - loss: 2.2725 - accuracy: 0.2546\n",
      "Epoch 3/10\n",
      "134/134 [==============================] - 1s 6ms/step - loss: 5.0027 - accuracy: 0.2543\n",
      "Epoch 4/10\n",
      "134/134 [==============================] - 1s 6ms/step - loss: 2.1335 - accuracy: 0.2546\n",
      "Epoch 5/10\n",
      "134/134 [==============================] - 1s 6ms/step - loss: 2.0820 - accuracy: 0.2546\n",
      "Epoch 6/10\n",
      "134/134 [==============================] - 1s 6ms/step - loss: 2.0398 - accuracy: 0.2546\n",
      "Epoch 7/10\n",
      "134/134 [==============================] - 1s 6ms/step - loss: 2.0051 - accuracy: 0.2546\n",
      "Epoch 8/10\n",
      "134/134 [==============================] - 1s 6ms/step - loss: 1.9768 - accuracy: 0.2546\n",
      "Epoch 9/10\n",
      "134/134 [==============================] - 1s 6ms/step - loss: 1.9539 - accuracy: 0.2543\n",
      "Epoch 10/10\n",
      "134/134 [==============================] - 1s 6ms/step - loss: 1.9340 - accuracy: 0.2546\n",
      "23/34 [===================>..........] - ETA: 0s"
     ]
    },
    {
     "name": "stderr",
     "output_type": "stream",
     "text": [
      "/usr/local/lib/python3.10/dist-packages/keras/src/engine/training.py:3079: UserWarning: You are saving your model as an HDF5 file via `model.save()`. This file format is considered legacy. We recommend using instead the native Keras format, e.g. `model.save('my_model.keras')`.\n",
      "  saving_api.save_model(\n"
     ]
    },
    {
     "name": "stdout",
     "output_type": "stream",
     "text": [
      "34/34 [==============================] - 0s 2ms/step\n",
      "Epoch 1/10\n",
      "134/134 [==============================] - 19s 126ms/step - loss: 1.9117 - accuracy: 0.2389\n",
      "Epoch 2/10\n",
      "134/134 [==============================] - 17s 127ms/step - loss: 1.8048 - accuracy: 0.2703\n",
      "Epoch 3/10\n",
      "134/134 [==============================] - 17s 128ms/step - loss: 1.7861 - accuracy: 0.2848\n",
      "Epoch 4/10\n",
      "134/134 [==============================] - 17s 127ms/step - loss: 1.7758 - accuracy: 0.2750\n",
      "Epoch 5/10\n",
      "134/134 [==============================] - 15s 116ms/step - loss: 1.7613 - accuracy: 0.2958\n",
      "Epoch 6/10\n",
      "134/134 [==============================] - 15s 110ms/step - loss: 1.7444 - accuracy: 0.3068\n",
      "Epoch 7/10\n",
      "134/134 [==============================] - 17s 126ms/step - loss: 1.7248 - accuracy: 0.3233\n",
      "Epoch 8/10\n",
      "134/134 [==============================] - 17s 127ms/step - loss: 1.7042 - accuracy: 0.3207\n",
      "Epoch 9/10\n",
      "134/134 [==============================] - 16s 123ms/step - loss: 1.6937 - accuracy: 0.3261\n",
      "Epoch 10/10\n",
      "134/134 [==============================] - 17s 127ms/step - loss: 1.6644 - accuracy: 0.3504\n"
     ]
    },
    {
     "name": "stderr",
     "output_type": "stream",
     "text": [
      "/usr/local/lib/python3.10/dist-packages/keras/src/engine/training.py:3079: UserWarning: You are saving your model as an HDF5 file via `model.save()`. This file format is considered legacy. We recommend using instead the native Keras format, e.g. `model.save('my_model.keras')`.\n",
      "  saving_api.save_model(\n"
     ]
    },
    {
     "name": "stdout",
     "output_type": "stream",
     "text": [
      "34/34 [==============================] - 2s 36ms/step\n",
      "Epoch 1/10\n",
      "134/134 [==============================] - 1s 6ms/step - loss: 2445107.7500 - accuracy: 0.1739\n",
      "Epoch 2/10\n",
      "134/134 [==============================] - 1s 6ms/step - loss: 2.3414 - accuracy: 0.1847\n",
      "Epoch 3/10\n",
      "134/134 [==============================] - 1s 6ms/step - loss: 2.3040 - accuracy: 0.1964\n",
      "Epoch 4/10\n",
      "134/134 [==============================] - 1s 6ms/step - loss: 2.2738 - accuracy: 0.2016\n",
      "Epoch 5/10\n",
      "134/134 [==============================] - 1s 6ms/step - loss: 2.2501 - accuracy: 0.2100\n",
      "Epoch 6/10\n",
      "134/134 [==============================] - 1s 6ms/step - loss: 2.2322 - accuracy: 0.2100\n",
      "Epoch 7/10\n",
      "134/134 [==============================] - 1s 6ms/step - loss: 2.2184 - accuracy: 0.2100\n",
      "Epoch 8/10\n",
      "134/134 [==============================] - 1s 6ms/step - loss: 2.2081 - accuracy: 0.2100\n",
      "Epoch 9/10\n",
      "134/134 [==============================] - 1s 6ms/step - loss: 2.2003 - accuracy: 0.2100\n",
      "Epoch 10/10\n",
      "134/134 [==============================] - 1s 6ms/step - loss: 2.1944 - accuracy: 0.2100\n",
      "34/34 [==============================] - 0s 2ms/step\n"
     ]
    },
    {
     "name": "stderr",
     "output_type": "stream",
     "text": [
      "/usr/local/lib/python3.10/dist-packages/keras/src/engine/training.py:3079: UserWarning: You are saving your model as an HDF5 file via `model.save()`. This file format is considered legacy. We recommend using instead the native Keras format, e.g. `model.save('my_model.keras')`.\n",
      "  saving_api.save_model(\n"
     ]
    },
    {
     "name": "stdout",
     "output_type": "stream",
     "text": [
      "Epoch 1/10\n",
      "134/134 [==============================] - 19s 127ms/step - loss: 2.2074 - accuracy: 0.1960\n",
      "Epoch 2/10\n",
      "134/134 [==============================] - 17s 127ms/step - loss: 2.1759 - accuracy: 0.2154\n",
      "Epoch 3/10\n",
      "134/134 [==============================] - 17s 130ms/step - loss: 2.1636 - accuracy: 0.2208\n",
      "Epoch 4/10\n",
      "134/134 [==============================] - 17s 129ms/step - loss: 2.1628 - accuracy: 0.2213\n",
      "Epoch 5/10\n",
      "134/134 [==============================] - 17s 129ms/step - loss: 2.1482 - accuracy: 0.2262\n",
      "Epoch 6/10\n",
      "134/134 [==============================] - 17s 130ms/step - loss: 2.1368 - accuracy: 0.2264\n",
      "Epoch 7/10\n",
      "134/134 [==============================] - 17s 128ms/step - loss: 2.1215 - accuracy: 0.2241\n",
      "Epoch 8/10\n",
      "134/134 [==============================] - 16s 119ms/step - loss: 2.0985 - accuracy: 0.2281\n",
      "Epoch 9/10\n",
      "134/134 [==============================] - 17s 126ms/step - loss: 2.0741 - accuracy: 0.2318\n",
      "Epoch 10/10\n",
      "134/134 [==============================] - 17s 124ms/step - loss: 2.0509 - accuracy: 0.2443\n"
     ]
    },
    {
     "name": "stderr",
     "output_type": "stream",
     "text": [
      "/usr/local/lib/python3.10/dist-packages/keras/src/engine/training.py:3079: UserWarning: You are saving your model as an HDF5 file via `model.save()`. This file format is considered legacy. We recommend using instead the native Keras format, e.g. `model.save('my_model.keras')`.\n",
      "  saving_api.save_model(\n"
     ]
    },
    {
     "name": "stdout",
     "output_type": "stream",
     "text": [
      "34/34 [==============================] - 2s 37ms/step\n",
      "Epoch 1/10\n",
      "134/134 [==============================] - 1s 6ms/step - loss: 2740747.0000 - accuracy: 0.1641\n",
      "Epoch 2/10\n",
      "134/134 [==============================] - 1s 6ms/step - loss: 43.5379 - accuracy: 0.1842\n",
      "Epoch 3/10\n",
      "134/134 [==============================] - 1s 6ms/step - loss: 2.2909 - accuracy: 0.1845\n",
      "Epoch 4/10\n",
      "134/134 [==============================] - 1s 6ms/step - loss: 2.2588 - accuracy: 0.1845\n",
      "Epoch 5/10\n",
      "134/134 [==============================] - 1s 6ms/step - loss: 2.2339 - accuracy: 0.1845\n",
      "Epoch 6/10\n",
      "134/134 [==============================] - 1s 6ms/step - loss: 2.2147 - accuracy: 0.1845\n",
      "Epoch 7/10\n",
      "134/134 [==============================] - 1s 6ms/step - loss: 2.2001 - accuracy: 0.1845\n",
      "Epoch 8/10\n",
      "134/134 [==============================] - 1s 6ms/step - loss: 2.1888 - accuracy: 0.1845\n",
      "Epoch 9/10\n",
      "134/134 [==============================] - 1s 6ms/step - loss: 2.1801 - accuracy: 0.1845\n",
      "Epoch 10/10\n",
      "134/134 [==============================] - 1s 6ms/step - loss: 2.1733 - accuracy: 0.1845\n",
      "34/34 [==============================] - 0s 2ms/step\n"
     ]
    },
    {
     "name": "stderr",
     "output_type": "stream",
     "text": [
      "/usr/local/lib/python3.10/dist-packages/keras/src/engine/training.py:3079: UserWarning: You are saving your model as an HDF5 file via `model.save()`. This file format is considered legacy. We recommend using instead the native Keras format, e.g. `model.save('my_model.keras')`.\n",
      "  saving_api.save_model(\n"
     ]
    },
    {
     "name": "stdout",
     "output_type": "stream",
     "text": [
      "Epoch 1/10\n",
      "134/134 [==============================] - 19s 126ms/step - loss: 2.1898 - accuracy: 0.1774\n",
      "Epoch 2/10\n",
      "134/134 [==============================] - 17s 127ms/step - loss: 2.1516 - accuracy: 0.1817\n",
      "Epoch 3/10\n",
      "134/134 [==============================] - 17s 127ms/step - loss: 2.1424 - accuracy: 0.1826\n",
      "Epoch 4/10\n",
      "134/134 [==============================] - 17s 127ms/step - loss: 2.1294 - accuracy: 0.1915\n",
      "Epoch 5/10\n",
      "134/134 [==============================] - 17s 125ms/step - loss: 2.1163 - accuracy: 0.1992\n",
      "Epoch 6/10\n",
      "134/134 [==============================] - 17s 124ms/step - loss: 2.0953 - accuracy: 0.2168\n",
      "Epoch 7/10\n",
      "134/134 [==============================] - 16s 122ms/step - loss: 2.0746 - accuracy: 0.2337\n",
      "Epoch 8/10\n",
      "134/134 [==============================] - 16s 119ms/step - loss: 2.0590 - accuracy: 0.2461\n",
      "Epoch 9/10\n",
      "134/134 [==============================] - 15s 113ms/step - loss: 2.0382 - accuracy: 0.2396\n",
      "Epoch 10/10\n",
      "134/134 [==============================] - 17s 127ms/step - loss: 2.0186 - accuracy: 0.2550\n"
     ]
    },
    {
     "name": "stderr",
     "output_type": "stream",
     "text": [
      "/usr/local/lib/python3.10/dist-packages/keras/src/engine/training.py:3079: UserWarning: You are saving your model as an HDF5 file via `model.save()`. This file format is considered legacy. We recommend using instead the native Keras format, e.g. `model.save('my_model.keras')`.\n",
      "  saving_api.save_model(\n"
     ]
    },
    {
     "name": "stdout",
     "output_type": "stream",
     "text": [
      "34/34 [==============================] - 2s 37ms/step\n",
      "Epoch 1/10\n",
      "134/134 [==============================] - 1s 6ms/step - loss: 1991783.2500 - accuracy: 0.1763\n",
      "Epoch 2/10\n",
      "134/134 [==============================] - 1s 6ms/step - loss: 26.4890 - accuracy: 0.2002\n",
      "Epoch 3/10\n",
      "134/134 [==============================] - 1s 6ms/step - loss: 2.2806 - accuracy: 0.2002\n",
      "Epoch 4/10\n",
      "134/134 [==============================] - 1s 6ms/step - loss: 2.2447 - accuracy: 0.2002\n",
      "Epoch 5/10\n",
      "134/134 [==============================] - 1s 6ms/step - loss: 2.2162 - accuracy: 0.2002\n",
      "Epoch 6/10\n",
      "134/134 [==============================] - 1s 6ms/step - loss: 2.1935 - accuracy: 0.2002\n",
      "Epoch 7/10\n",
      "134/134 [==============================] - 1s 6ms/step - loss: 2.1756 - accuracy: 0.2002\n",
      "Epoch 8/10\n",
      "134/134 [==============================] - 1s 6ms/step - loss: 2.1614 - accuracy: 0.2002\n",
      "Epoch 9/10\n",
      "134/134 [==============================] - 1s 6ms/step - loss: 2.1502 - accuracy: 0.2002\n",
      "Epoch 10/10\n",
      "134/134 [==============================] - 1s 6ms/step - loss: 2.1412 - accuracy: 0.2002\n",
      "23/34 [===================>..........] - ETA: 0s"
     ]
    },
    {
     "name": "stderr",
     "output_type": "stream",
     "text": [
      "/usr/local/lib/python3.10/dist-packages/keras/src/engine/training.py:3079: UserWarning: You are saving your model as an HDF5 file via `model.save()`. This file format is considered legacy. We recommend using instead the native Keras format, e.g. `model.save('my_model.keras')`.\n",
      "  saving_api.save_model(\n"
     ]
    },
    {
     "name": "stdout",
     "output_type": "stream",
     "text": [
      "34/34 [==============================] - 0s 2ms/step\n",
      "Epoch 1/10\n",
      "134/134 [==============================] - 19s 128ms/step - loss: 2.1584 - accuracy: 0.1899\n",
      "Epoch 2/10\n",
      "134/134 [==============================] - 17s 129ms/step - loss: 2.1091 - accuracy: 0.1957\n",
      "Epoch 3/10\n",
      "134/134 [==============================] - 17s 129ms/step - loss: 2.0818 - accuracy: 0.2164\n",
      "Epoch 4/10\n",
      "134/134 [==============================] - 17s 128ms/step - loss: 2.0685 - accuracy: 0.2307\n",
      "Epoch 5/10\n",
      "134/134 [==============================] - 17s 125ms/step - loss: 2.0482 - accuracy: 0.2311\n",
      "Epoch 6/10\n",
      "134/134 [==============================] - 17s 125ms/step - loss: 2.0401 - accuracy: 0.2309\n",
      "Epoch 7/10\n",
      "134/134 [==============================] - 17s 126ms/step - loss: 2.0315 - accuracy: 0.2485\n",
      "Epoch 8/10\n",
      "134/134 [==============================] - 17s 124ms/step - loss: 2.0128 - accuracy: 0.2440\n",
      "Epoch 9/10\n",
      "134/134 [==============================] - 16s 116ms/step - loss: 1.9853 - accuracy: 0.2658\n",
      "Epoch 10/10\n",
      "134/134 [==============================] - 17s 127ms/step - loss: 1.9439 - accuracy: 0.2717\n"
     ]
    },
    {
     "name": "stderr",
     "output_type": "stream",
     "text": [
      "/usr/local/lib/python3.10/dist-packages/keras/src/engine/training.py:3079: UserWarning: You are saving your model as an HDF5 file via `model.save()`. This file format is considered legacy. We recommend using instead the native Keras format, e.g. `model.save('my_model.keras')`.\n",
      "  saving_api.save_model(\n"
     ]
    },
    {
     "name": "stdout",
     "output_type": "stream",
     "text": [
      "34/34 [==============================] - 2s 37ms/step\n"
     ]
    },
    {
     "name": "stderr",
     "output_type": "stream",
     "text": [
      "Processing Folds: 100%|██████████| 5/5 [4:29:30<00:00, 3234.07s/it]"
     ]
    },
    {
     "name": "stdout",
     "output_type": "stream",
     "text": [
      "Model training results saved to fold_model_performance_results.csv\n"
     ]
    },
    {
     "name": "stderr",
     "output_type": "stream",
     "text": [
      "\n"
     ]
    }
   ],
   "source": [
    "import os\n",
    "import pickle\n",
    "import pandas as pd\n",
    "import numpy as np\n",
    "from sklearn.ensemble import RandomForestClassifier\n",
    "from sklearn.metrics import accuracy_score, classification_report, f1_score, precision_score, recall_score\n",
    "from tensorflow.keras.models import Sequential\n",
    "from tensorflow.keras.layers import Dense, Conv1D, Flatten, LSTM, Dropout\n",
    "from tensorflow.keras.optimizers import Adam\n",
    "from tqdm import tqdm  # For progress bars\n",
    "\n",
    "# Helper function to calculate top-3 accuracy\n",
    "def calculate_top3_accuracy(y_true, y_probs):\n",
    "    top_3_preds = np.argsort(y_probs, axis=1)[:, -3:]\n",
    "    matches = [y_true[i] in top_3_preds[i] for i in range(len(y_true))]\n",
    "    return np.mean(matches)\n",
    "\n",
    "# Helper function to calculate threshold accuracy\n",
    "def calculate_threshold_accuracy(y_true, y_pred):\n",
    "    return np.mean(np.abs(y_true - y_pred) <= 1)\n",
    "\n",
    "# Helper function to evaluate metrics\n",
    "def evaluate_metrics(y_true, y_pred, y_probs=None):\n",
    "    metrics = {\n",
    "        'accuracy': accuracy_score(y_true, y_pred),\n",
    "        'precision': precision_score(y_true, y_pred, average='weighted', zero_division=0),\n",
    "        'recall': recall_score(y_true, y_pred, average='weighted', zero_division=0),\n",
    "        'f1_score': f1_score(y_true, y_pred, average='weighted'),\n",
    "        'classification_report': classification_report(y_true, y_pred, zero_division=0),\n",
    "        'threshold_accuracy': calculate_threshold_accuracy(y_true, y_pred)\n",
    "    }\n",
    "    if y_probs is not None:\n",
    "        metrics['top_3_accuracy'] = calculate_top3_accuracy(y_true, y_probs)\n",
    "    return metrics\n",
    "\n",
    "# Helper function to load dataset\n",
    "def load_data(file_path):\n",
    "    print(f\"Loading data from: {file_path}\")\n",
    "    data = pd.read_csv(file_path)\n",
    "    label_columns = [col for col in data.columns if \"slider\" in col]\n",
    "    feature_columns = [col for col in data.columns if col not in label_columns + [\"Timestamp\", \"participant_id\"]]\n",
    "    X = data[feature_columns]\n",
    "    return X, label_columns, data\n",
    "\n",
    "# Function to train models per label\n",
    "def train_model_per_label(X_train, y_train, X_test, y_test, model_save_path, label_name, model_type=\"rf\"):\n",
    "    os.makedirs(model_save_path, exist_ok=True)\n",
    "    \n",
    "    if model_type == \"rf\":\n",
    "        model = RandomForestClassifier(random_state=42, n_jobs=-1)\n",
    "        model.fit(X_train, y_train)\n",
    "        y_pred = model.predict(X_test)\n",
    "        y_probs = model.predict_proba(X_test) if hasattr(model, 'predict_proba') else None\n",
    "        with open(os.path.join(model_save_path, f\"random_forest_{label_name}.pkl\"), \"wb\") as f:\n",
    "            pickle.dump(model, f)\n",
    "    elif model_type == \"cnn\":\n",
    "        input_shape = (X_train.shape[1], 1)\n",
    "        X_train, X_test = np.expand_dims(X_train, axis=2), np.expand_dims(X_test, axis=2)\n",
    "        model = Sequential([\n",
    "            Conv1D(64, kernel_size=3, activation=\"relu\", input_shape=input_shape),\n",
    "            Conv1D(32, kernel_size=3, activation=\"relu\"),\n",
    "            Flatten(),\n",
    "            Dense(128, activation=\"relu\"),\n",
    "            Dropout(0.3),\n",
    "            Dense(11, activation=\"softmax\")\n",
    "        ])\n",
    "        model.compile(optimizer=Adam(0.001), loss=\"sparse_categorical_crossentropy\", metrics=[\"accuracy\"])\n",
    "        model.fit(X_train, y_train, epochs=10, batch_size=32, verbose=1)\n",
    "        model.save(os.path.join(model_save_path, f\"cnn_model_{label_name}.h5\"))\n",
    "        y_probs = model.predict(X_test)\n",
    "        y_pred = y_probs.argmax(axis=1)\n",
    "    else:  # LSTM Model\n",
    "        input_shape = (X_train.shape[1], 1)\n",
    "        X_train, X_test = np.expand_dims(X_train, axis=2), np.expand_dims(X_test, axis=2)\n",
    "        model = Sequential([\n",
    "            LSTM(64, return_sequences=True, input_shape=input_shape),\n",
    "            LSTM(32),\n",
    "            Dense(128, activation=\"relu\"),\n",
    "            Dropout(0.3),\n",
    "            Dense(11, activation=\"softmax\")\n",
    "        ])\n",
    "        model.compile(optimizer=Adam(0.001), loss=\"sparse_categorical_crossentropy\", metrics=[\"accuracy\"])\n",
    "        model.fit(X_train, y_train, epochs=10, batch_size=32, verbose=1)\n",
    "        model.save(os.path.join(model_save_path, f\"lstm_model_{label_name}.h5\"))\n",
    "        y_probs = model.predict(X_test)\n",
    "        y_pred = y_probs.argmax(axis=1)\n",
    "    \n",
    "    return evaluate_metrics(y_test, y_pred, y_probs)\n",
    "\n",
    "# Main training loop\n",
    "def train_all_models(data_dir, root_dir):\n",
    "    results = []\n",
    "    folds = sorted(set(f.split(\"_\")[1] for f in os.listdir(data_dir) if f.endswith(\".csv\")))\n",
    "\n",
    "    for fold in tqdm(folds, desc=\"Processing Folds\"):\n",
    "        train_file = os.path.join(data_dir, f\"fold_{fold}_train.csv\")\n",
    "        test_file = os.path.join(data_dir, f\"fold_{fold}_test.csv\")\n",
    "        \n",
    "        if not os.path.exists(train_file) or not os.path.exists(test_file):\n",
    "            print(f\"Skipping fold {fold}: Missing train or test data\")\n",
    "            continue\n",
    "        \n",
    "        X_train, label_columns, train_data = load_data(train_file)\n",
    "        X_test, _, test_data = load_data(test_file)\n",
    "        \n",
    "        for label_column in label_columns:\n",
    "            y_train, y_test = train_data[label_column], test_data[label_column]\n",
    "            fold_save_dir = os.path.join(root_dir, f\"fold_{fold}\", \"models\", label_column)\n",
    "            os.makedirs(fold_save_dir, exist_ok=True)\n",
    "            \n",
    "            rf_results = train_model_per_label(X_train, y_train, X_test, y_test, os.path.join(fold_save_dir, \"random_forest\"), label_column, \"rf\")\n",
    "            results.append({\"Fold\": fold, \"Label\": label_column, \"Model\": \"Random Forest\", **rf_results})\n",
    "\n",
    "            cnn_results = train_model_per_label(X_train, y_train, X_test, y_test, os.path.join(fold_save_dir, \"cnn\"), label_column, \"cnn\")\n",
    "            results.append({\"Fold\": fold, \"Label\": label_column, \"Model\": \"CNN\", **cnn_results})\n",
    "            \n",
    "            lstm_results = train_model_per_label(X_train, y_train, X_test, y_test, os.path.join(fold_save_dir, \"lstm\"), label_column, \"lstm\")\n",
    "            results.append({\"Fold\": fold, \"Label\": label_column, \"Model\": \"LSTM\", **lstm_results})\n",
    "\n",
    "    results_df = pd.DataFrame(results)\n",
    "    results_df.to_csv(\"fold_model_performance_results.csv\", index=False)\n",
    "    print(\"Model training results saved to fold_model_performance_results.csv\")\n",
    "\n",
    "if __name__ == \"__main__\":\n",
    "    data_dir = \"folds\"  # Adjust as needed\n",
    "    root_dir = \"folds_original_models\"\n",
    "    train_all_models(data_dir, root_dir)\n"
   ]
  },
  {
   "cell_type": "code",
   "execution_count": 4,
   "id": "1016a2bb-0311-49e3-9c97-cd4345ac8b8f",
   "metadata": {
    "tags": []
   },
   "outputs": [
    {
     "name": "stdout",
     "output_type": "stream",
     "text": [
      "Variable                       Type        Data/Info\n",
      "----------------------------------------------------\n",
      "Adam                           type        <class 'keras.src.optimizers.adam.Adam'>\n",
      "Conv1D                         type        <class 'keras.src.layers.<...>olutional.conv1d.Conv1D'>\n",
      "Dense                          type        <class 'keras.src.layers.core.dense.Dense'>\n",
      "Dropout                        type        <class 'keras.src.layers.<...>ization.dropout.Dropout'>\n",
      "Flatten                        type        <class 'keras.src.layers.<...>shaping.flatten.Flatten'>\n",
      "LSTM                           type        <class 'keras.src.layers.rnn.lstm.LSTM'>\n",
      "RandomForestClassifier         ABCMeta     <class 'sklearn.ensemble.<...>.RandomForestClassifier'>\n",
      "Sequential                     type        <class 'keras.src.engine.sequential.Sequential'>\n",
      "accuracy_score                 function    <function accuracy_score at 0x7fa9251d3010>\n",
      "calculate_threshold_accuracy   function    <function calculate_thres<...>curacy at 0x7fa8d229ba30>\n",
      "calculate_top3_accuracy        function    <function calculate_top3_<...>curacy at 0x7fa6c82917e0>\n",
      "classification_report          function    <function classification_<...>report at 0x7fa9251ec1f0>\n",
      "data_dir                       str         folds\n",
      "evaluate_metrics               function    <function evaluate_metrics at 0x7faa86c38940>\n",
      "f1_score                       function    <function f1_score at 0x7fa9251d37f0>\n",
      "load_data                      function    <function load_data at 0x7fa8d8dcc9d0>\n",
      "np                             module      <module 'numpy' from '/us<...>kages/numpy/__init__.py'>\n",
      "os                             module      <module 'os' from '/usr/lib/python3.10/os.py'>\n",
      "pd                             module      <module 'pandas' from '/u<...>ages/pandas/__init__.py'>\n",
      "pickle                         module      <module 'pickle' from '/u<...>ib/python3.10/pickle.py'>\n",
      "precision_score                function    <function precision_score at 0x7fa9251d3e20>\n",
      "recall_score                   function    <function recall_score at 0x7fa9251d3f40>\n",
      "root_dir                       str         folds_original_models\n",
      "tqdm                           type        <class 'tqdm.std.tqdm'>\n",
      "train_all_models               function    <function train_all_models at 0x7fa8d8dccaf0>\n",
      "train_cnn                      function    <function train_cnn at 0x7fa8d8dccc10>\n",
      "train_lstm                     function    <function train_lstm at 0x7fa8d8dccca0>\n",
      "train_model_per_label          function    <function train_model_per<...>_label at 0x7fa8d8dcca60>\n",
      "train_random_forest            function    <function train_random_forest at 0x7fa8d8dccb80>\n"
     ]
    }
   ],
   "source": [
    "%whos\n"
   ]
  },
  {
   "cell_type": "code",
   "execution_count": 5,
   "id": "faa755e0-5564-490e-aef9-212a5104f359",
   "metadata": {
    "tags": []
   },
   "outputs": [
    {
     "data": {
      "text/plain": [
       "['Adam',\n",
       " 'Conv1D',\n",
       " 'Dense',\n",
       " 'Dropout',\n",
       " 'Flatten',\n",
       " 'LSTM',\n",
       " 'RandomForestClassifier',\n",
       " 'Sequential',\n",
       " 'accuracy_score',\n",
       " 'calculate_threshold_accuracy',\n",
       " 'calculate_top3_accuracy',\n",
       " 'classification_report',\n",
       " 'data_dir',\n",
       " 'evaluate_metrics',\n",
       " 'f1_score',\n",
       " 'load_data',\n",
       " 'np',\n",
       " 'os',\n",
       " 'pd',\n",
       " 'pickle',\n",
       " 'precision_score',\n",
       " 'recall_score',\n",
       " 'root_dir',\n",
       " 'tqdm',\n",
       " 'train_all_models',\n",
       " 'train_cnn',\n",
       " 'train_lstm',\n",
       " 'train_model_per_label',\n",
       " 'train_random_forest']"
      ]
     },
     "execution_count": 5,
     "metadata": {},
     "output_type": "execute_result"
    }
   ],
   "source": [
    "%who_ls\n"
   ]
  },
  {
   "cell_type": "code",
   "execution_count": 6,
   "id": "27f9f405-5a1d-4d56-9c65-7819c8504164",
   "metadata": {
    "tags": []
   },
   "outputs": [
    {
     "name": "stdout",
     "output_type": "stream",
     "text": [
      "dict_keys(['__name__', '__doc__', '__package__', '__loader__', '__spec__', '__builtin__', '__builtins__', '_ih', '_oh', '_dh', 'In', 'Out', 'get_ipython', 'exit', 'quit', 'open', '_', '__', '___', '__session__', '_i', '_ii', '_iii', '_i1', 'os', 'pickle', 'pd', 'np', 'RandomForestClassifier', 'accuracy_score', 'classification_report', 'f1_score', 'Sequential', 'Dense', 'Conv1D', 'Flatten', 'LSTM', 'Dropout', 'Adam', 'tqdm', 'calculate_top3_accuracy', 'calculate_threshold_accuracy', 'evaluate_metrics', 'load_data', 'train_random_forest', 'train_cnn', 'train_lstm', 'train_all_models', 'data_dir', 'root_dir', '_i2', 'precision_score', 'recall_score', 'train_model_per_label', '_i3', '_i4', '_i5', '_5', '_i6'])\n",
      "dict_keys(['__name__', '__doc__', '__package__', '__loader__', '__spec__', '__builtin__', '__builtins__', '_ih', '_oh', '_dh', 'In', 'Out', 'get_ipython', 'exit', 'quit', 'open', '_', '__', '___', '__session__', '_i', '_ii', '_iii', '_i1', 'os', 'pickle', 'pd', 'np', 'RandomForestClassifier', 'accuracy_score', 'classification_report', 'f1_score', 'Sequential', 'Dense', 'Conv1D', 'Flatten', 'LSTM', 'Dropout', 'Adam', 'tqdm', 'calculate_top3_accuracy', 'calculate_threshold_accuracy', 'evaluate_metrics', 'load_data', 'train_random_forest', 'train_cnn', 'train_lstm', 'train_all_models', 'data_dir', 'root_dir', '_i2', 'precision_score', 'recall_score', 'train_model_per_label', '_i3', '_i4', '_i5', '_5', '_i6'])\n"
     ]
    }
   ],
   "source": [
    "# List all local variables\n",
    "print(locals().keys())\n",
    "\n",
    "# List all global variables\n",
    "print(globals().keys())\n"
   ]
  },
  {
   "cell_type": "code",
   "execution_count": null,
   "id": "972b7963-0113-4e14-a51b-8872937181bb",
   "metadata": {},
   "outputs": [],
   "source": []
  }
 ],
 "metadata": {
  "kernelspec": {
   "display_name": "Python",
   "language": "python",
   "name": "python3"
  },
  "language_info": {
   "codemirror_mode": {
    "name": "ipython",
    "version": 3
   },
   "file_extension": ".py",
   "mimetype": "text/x-python",
   "name": "python",
   "nbconvert_exporter": "python",
   "pygments_lexer": "ipython3",
   "version": "3.10.12"
  }
 },
 "nbformat": 4,
 "nbformat_minor": 5
}
