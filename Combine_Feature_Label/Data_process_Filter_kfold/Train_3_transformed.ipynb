{
 "cells": [
  {
   "cell_type": "code",
   "execution_count": 2,
   "id": "05271f9e-cea1-4d4c-bc20-7785dafe288a",
   "metadata": {
    "tags": []
   },
   "outputs": [
    {
     "name": "stderr",
     "output_type": "stream",
     "text": [
      "Processing Folds:   0%|          | 0/5 [00:00<?, ?it/s]"
     ]
    },
    {
     "name": "stdout",
     "output_type": "stream",
     "text": [
      "Loading data from: folds_transformed/fold_1_train_pca.csv\n",
      "Loading data from: folds_transformed/fold_1_test_pca.csv\n",
      "Skipping RF for P1 (sliderNeutralPos), already trained.\n",
      "Skipping CNN for P1 (sliderNeutralPos), already trained.\n",
      "Skipping LSTM for P1 (sliderNeutralPos), already trained.\n",
      "Skipping RF for N1 (sliderNeutralPos), already trained.\n",
      "Skipping CNN for N1 (sliderNeutralPos), already trained.\n",
      "Training LSTM for N1 (sliderNeutralPos)\n",
      "Epoch 1/10\n",
      "134/134 [==============================] - 7s 37ms/step - loss: 2.1453 - accuracy: 0.2206\n",
      "Epoch 2/10\n",
      "134/134 [==============================] - 5s 39ms/step - loss: 2.0972 - accuracy: 0.2246\n",
      "Epoch 3/10\n",
      "134/134 [==============================] - 5s 39ms/step - loss: 2.0906 - accuracy: 0.2331\n",
      "Epoch 4/10\n",
      "134/134 [==============================] - 5s 41ms/step - loss: 2.0791 - accuracy: 0.2347\n",
      "Epoch 5/10\n",
      "134/134 [==============================] - 6s 41ms/step - loss: 2.0769 - accuracy: 0.2302\n",
      "Epoch 6/10\n",
      "134/134 [==============================] - 5s 40ms/step - loss: 2.0724 - accuracy: 0.2288\n",
      "Epoch 7/10\n",
      "134/134 [==============================] - 5s 40ms/step - loss: 2.0635 - accuracy: 0.2291\n",
      "Epoch 8/10\n",
      "134/134 [==============================] - 6s 42ms/step - loss: 2.0481 - accuracy: 0.2361\n",
      "Epoch 9/10\n",
      "134/134 [==============================] - 5s 40ms/step - loss: 2.0373 - accuracy: 0.2293\n",
      "Epoch 10/10\n",
      "134/134 [==============================] - 5s 39ms/step - loss: 2.0309 - accuracy: 0.2335\n"
     ]
    },
    {
     "name": "stderr",
     "output_type": "stream",
     "text": [
      "/usr/local/lib/python3.10/dist-packages/keras/src/engine/training.py:3079: UserWarning: You are saving your model as an HDF5 file via `model.save()`. This file format is considered legacy. We recommend using instead the native Keras format, e.g. `model.save('my_model.keras')`.\n",
      "  saving_api.save_model(\n"
     ]
    },
    {
     "name": "stdout",
     "output_type": "stream",
     "text": [
      "34/34 [==============================] - 1s 13ms/step\n",
      "Training RF for P2 (sliderNeutralPos)\n",
      "Training CNN for P2 (sliderNeutralPos)\n",
      "Epoch 1/10\n",
      "134/134 [==============================] - 1s 6ms/step - loss: 1.9633 - accuracy: 0.2771\n",
      "Epoch 2/10\n",
      "134/134 [==============================] - 1s 6ms/step - loss: 1.6914 - accuracy: 0.3702\n",
      "Epoch 3/10\n",
      "134/134 [==============================] - 1s 6ms/step - loss: 1.5136 - accuracy: 0.4549\n",
      "Epoch 4/10\n",
      "134/134 [==============================] - 1s 6ms/step - loss: 1.3314 - accuracy: 0.5182\n",
      "Epoch 5/10\n",
      "134/134 [==============================] - 1s 6ms/step - loss: 1.1728 - accuracy: 0.5754\n",
      "Epoch 6/10\n",
      "134/134 [==============================] - 1s 6ms/step - loss: 1.0193 - accuracy: 0.6377\n",
      "Epoch 7/10\n",
      "134/134 [==============================] - 1s 6ms/step - loss: 0.8704 - accuracy: 0.6891\n",
      "Epoch 8/10\n",
      "134/134 [==============================] - 1s 6ms/step - loss: 0.7706 - accuracy: 0.7301\n",
      "Epoch 9/10\n",
      "134/134 [==============================] - 1s 6ms/step - loss: 0.6598 - accuracy: 0.7737\n",
      "Epoch 10/10\n",
      "134/134 [==============================] - 1s 6ms/step - loss: 0.5600 - accuracy: 0.8005\n",
      "34/34 [==============================] - 0s 2ms/step\n"
     ]
    },
    {
     "name": "stderr",
     "output_type": "stream",
     "text": [
      "/usr/local/lib/python3.10/dist-packages/keras/src/engine/training.py:3079: UserWarning: You are saving your model as an HDF5 file via `model.save()`. This file format is considered legacy. We recommend using instead the native Keras format, e.g. `model.save('my_model.keras')`.\n",
      "  saving_api.save_model(\n"
     ]
    },
    {
     "name": "stdout",
     "output_type": "stream",
     "text": [
      "Training LSTM for P2 (sliderNeutralPos)\n",
      "Epoch 1/10\n",
      "134/134 [==============================] - 8s 41ms/step - loss: 2.1098 - accuracy: 0.1916\n",
      "Epoch 2/10\n",
      "134/134 [==============================] - 5s 41ms/step - loss: 2.0438 - accuracy: 0.2042\n",
      "Epoch 3/10\n",
      "134/134 [==============================] - 5s 41ms/step - loss: 2.0353 - accuracy: 0.2021\n",
      "Epoch 4/10\n",
      "134/134 [==============================] - 5s 39ms/step - loss: 2.0315 - accuracy: 0.2042\n",
      "Epoch 5/10\n",
      "134/134 [==============================] - 5s 38ms/step - loss: 2.0328 - accuracy: 0.2138\n",
      "Epoch 6/10\n",
      "134/134 [==============================] - 5s 35ms/step - loss: 2.0283 - accuracy: 0.2213\n",
      "Epoch 7/10\n",
      "134/134 [==============================] - 5s 34ms/step - loss: 2.0247 - accuracy: 0.2211\n",
      "Epoch 8/10\n",
      "134/134 [==============================] - 5s 36ms/step - loss: 2.0254 - accuracy: 0.2134\n",
      "Epoch 9/10\n",
      "134/134 [==============================] - 5s 35ms/step - loss: 2.0192 - accuracy: 0.2232\n",
      "Epoch 10/10\n",
      "134/134 [==============================] - 5s 39ms/step - loss: 2.0182 - accuracy: 0.2185\n"
     ]
    },
    {
     "name": "stderr",
     "output_type": "stream",
     "text": [
      "/usr/local/lib/python3.10/dist-packages/keras/src/engine/training.py:3079: UserWarning: You are saving your model as an HDF5 file via `model.save()`. This file format is considered legacy. We recommend using instead the native Keras format, e.g. `model.save('my_model.keras')`.\n",
      "  saving_api.save_model(\n"
     ]
    },
    {
     "name": "stdout",
     "output_type": "stream",
     "text": [
      "34/34 [==============================] - 1s 13ms/step\n",
      "Training RF for N2 (sliderNeutralPos)\n",
      "Training CNN for N2 (sliderNeutralPos)\n",
      "Epoch 1/10\n",
      "134/134 [==============================] - 1s 6ms/step - loss: 1.8584 - accuracy: 0.3585\n",
      "Epoch 2/10\n",
      "134/134 [==============================] - 1s 6ms/step - loss: 1.5919 - accuracy: 0.4263\n",
      "Epoch 3/10\n",
      "134/134 [==============================] - 1s 6ms/step - loss: 1.3956 - accuracy: 0.5036\n",
      "Epoch 4/10\n",
      "134/134 [==============================] - 1s 6ms/step - loss: 1.2290 - accuracy: 0.5700\n",
      "Epoch 5/10\n",
      "134/134 [==============================] - 1s 6ms/step - loss: 1.0634 - accuracy: 0.6216\n",
      "Epoch 6/10\n",
      "134/134 [==============================] - 1s 6ms/step - loss: 0.9437 - accuracy: 0.6652\n",
      "Epoch 7/10\n",
      "134/134 [==============================] - 1s 6ms/step - loss: 0.8149 - accuracy: 0.7053\n",
      "Epoch 8/10\n",
      "134/134 [==============================] - 1s 6ms/step - loss: 0.7040 - accuracy: 0.7557\n",
      "Epoch 9/10\n",
      "134/134 [==============================] - 1s 6ms/step - loss: 0.6112 - accuracy: 0.7824\n",
      "Epoch 10/10\n",
      "134/134 [==============================] - 1s 6ms/step - loss: 0.5459 - accuracy: 0.8052\n",
      "34/34 [==============================] - 0s 2ms/step\n"
     ]
    },
    {
     "name": "stderr",
     "output_type": "stream",
     "text": [
      "/usr/local/lib/python3.10/dist-packages/keras/src/engine/training.py:3079: UserWarning: You are saving your model as an HDF5 file via `model.save()`. This file format is considered legacy. We recommend using instead the native Keras format, e.g. `model.save('my_model.keras')`.\n",
      "  saving_api.save_model(\n"
     ]
    },
    {
     "name": "stdout",
     "output_type": "stream",
     "text": [
      "Training LSTM for N2 (sliderNeutralPos)\n",
      "Epoch 1/10\n",
      "134/134 [==============================] - 8s 42ms/step - loss: 1.9735 - accuracy: 0.3283\n",
      "Epoch 2/10\n",
      "134/134 [==============================] - 5s 39ms/step - loss: 1.9151 - accuracy: 0.3360\n",
      "Epoch 3/10\n",
      "134/134 [==============================] - 5s 39ms/step - loss: 1.9112 - accuracy: 0.3404\n",
      "Epoch 4/10\n",
      "134/134 [==============================] - 5s 36ms/step - loss: 1.9128 - accuracy: 0.3404\n",
      "Epoch 5/10\n",
      "134/134 [==============================] - 5s 38ms/step - loss: 1.9060 - accuracy: 0.3407\n",
      "Epoch 6/10\n",
      "134/134 [==============================] - 5s 39ms/step - loss: 1.9024 - accuracy: 0.3407\n",
      "Epoch 7/10\n",
      "134/134 [==============================] - 5s 36ms/step - loss: 1.9053 - accuracy: 0.3407\n",
      "Epoch 8/10\n",
      "134/134 [==============================] - 5s 37ms/step - loss: 1.9047 - accuracy: 0.3407\n",
      "Epoch 9/10\n",
      "134/134 [==============================] - 5s 38ms/step - loss: 1.9053 - accuracy: 0.3407\n",
      "Epoch 10/10\n",
      "134/134 [==============================] - 5s 37ms/step - loss: 1.9007 - accuracy: 0.3407\n"
     ]
    },
    {
     "name": "stderr",
     "output_type": "stream",
     "text": [
      "/usr/local/lib/python3.10/dist-packages/keras/src/engine/training.py:3079: UserWarning: You are saving your model as an HDF5 file via `model.save()`. This file format is considered legacy. We recommend using instead the native Keras format, e.g. `model.save('my_model.keras')`.\n",
      "  saving_api.save_model(\n"
     ]
    },
    {
     "name": "stdout",
     "output_type": "stream",
     "text": [
      "34/34 [==============================] - 1s 13ms/step\n",
      "Training RF for N3 (sliderNeutralPos)\n",
      "Training CNN for N3 (sliderNeutralPos)\n",
      "Epoch 1/10\n",
      "134/134 [==============================] - 1s 6ms/step - loss: 1.9208 - accuracy: 0.3170\n",
      "Epoch 2/10\n",
      "134/134 [==============================] - 1s 6ms/step - loss: 1.6437 - accuracy: 0.4073\n",
      "Epoch 3/10\n",
      "134/134 [==============================] - 1s 6ms/step - loss: 1.4481 - accuracy: 0.4790\n",
      "Epoch 4/10\n",
      "134/134 [==============================] - 1s 6ms/step - loss: 1.2615 - accuracy: 0.5505\n",
      "Epoch 5/10\n",
      "134/134 [==============================] - 1s 6ms/step - loss: 1.0928 - accuracy: 0.6164\n",
      "Epoch 6/10\n",
      "134/134 [==============================] - 1s 6ms/step - loss: 0.9462 - accuracy: 0.6668\n",
      "Epoch 7/10\n",
      "134/134 [==============================] - 1s 6ms/step - loss: 0.8210 - accuracy: 0.7198\n",
      "Epoch 8/10\n",
      "134/134 [==============================] - 1s 6ms/step - loss: 0.7046 - accuracy: 0.7564\n",
      "Epoch 9/10\n",
      "134/134 [==============================] - 1s 6ms/step - loss: 0.6112 - accuracy: 0.7909\n",
      "Epoch 10/10\n",
      "134/134 [==============================] - 1s 6ms/step - loss: 0.5432 - accuracy: 0.8138\n",
      "34/34 [==============================] - 0s 2ms/step\n"
     ]
    },
    {
     "name": "stderr",
     "output_type": "stream",
     "text": [
      "/usr/local/lib/python3.10/dist-packages/keras/src/engine/training.py:3079: UserWarning: You are saving your model as an HDF5 file via `model.save()`. This file format is considered legacy. We recommend using instead the native Keras format, e.g. `model.save('my_model.keras')`.\n",
      "  saving_api.save_model(\n"
     ]
    },
    {
     "name": "stdout",
     "output_type": "stream",
     "text": [
      "Training LSTM for N3 (sliderNeutralPos)\n",
      "Epoch 1/10\n",
      "134/134 [==============================] - 8s 42ms/step - loss: 2.0877 - accuracy: 0.2631\n",
      "Epoch 2/10\n",
      "134/134 [==============================] - 6s 42ms/step - loss: 2.0310 - accuracy: 0.2657\n",
      "Epoch 3/10\n",
      "134/134 [==============================] - 6s 41ms/step - loss: 2.0213 - accuracy: 0.2743\n",
      "Epoch 4/10\n",
      "134/134 [==============================] - 5s 40ms/step - loss: 2.0133 - accuracy: 0.2708\n",
      "Epoch 5/10\n",
      "134/134 [==============================] - 5s 39ms/step - loss: 2.0103 - accuracy: 0.2701\n",
      "Epoch 6/10\n",
      "134/134 [==============================] - 5s 36ms/step - loss: 2.0078 - accuracy: 0.2743\n",
      "Epoch 7/10\n",
      "134/134 [==============================] - 5s 41ms/step - loss: 2.0069 - accuracy: 0.2750\n",
      "Epoch 8/10\n",
      "134/134 [==============================] - 5s 39ms/step - loss: 1.9970 - accuracy: 0.2720\n",
      "Epoch 9/10\n",
      "134/134 [==============================] - 5s 34ms/step - loss: 1.9950 - accuracy: 0.2746\n",
      "Epoch 10/10\n",
      "134/134 [==============================] - 5s 34ms/step - loss: 1.9861 - accuracy: 0.2710\n"
     ]
    },
    {
     "name": "stderr",
     "output_type": "stream",
     "text": [
      "/usr/local/lib/python3.10/dist-packages/keras/src/engine/training.py:3079: UserWarning: You are saving your model as an HDF5 file via `model.save()`. This file format is considered legacy. We recommend using instead the native Keras format, e.g. `model.save('my_model.keras')`.\n",
      "  saving_api.save_model(\n"
     ]
    },
    {
     "name": "stdout",
     "output_type": "stream",
     "text": [
      "34/34 [==============================] - 1s 13ms/step\n",
      "Training RF for P3 (sliderNeutralPos)\n",
      "Training CNN for P3 (sliderNeutralPos)\n",
      "Epoch 1/10\n",
      "134/134 [==============================] - 1s 6ms/step - loss: 2.0008 - accuracy: 0.2671\n",
      "Epoch 2/10\n",
      "134/134 [==============================] - 1s 6ms/step - loss: 1.7146 - accuracy: 0.3681\n",
      "Epoch 3/10\n",
      "134/134 [==============================] - 1s 6ms/step - loss: 1.4870 - accuracy: 0.4736\n",
      "Epoch 4/10\n",
      "134/134 [==============================] - 1s 6ms/step - loss: 1.2997 - accuracy: 0.5341\n",
      "Epoch 5/10\n",
      "134/134 [==============================] - 1s 6ms/step - loss: 1.1204 - accuracy: 0.6042\n",
      "Epoch 6/10\n",
      "134/134 [==============================] - 1s 6ms/step - loss: 0.9769 - accuracy: 0.6521\n",
      "Epoch 7/10\n",
      "134/134 [==============================] - 1s 6ms/step - loss: 0.8452 - accuracy: 0.7013\n",
      "Epoch 8/10\n",
      "134/134 [==============================] - 1s 6ms/step - loss: 0.7265 - accuracy: 0.7529\n",
      "Epoch 9/10\n",
      "134/134 [==============================] - 1s 6ms/step - loss: 0.6478 - accuracy: 0.7655\n",
      "Epoch 10/10\n",
      "134/134 [==============================] - 1s 6ms/step - loss: 0.5521 - accuracy: 0.8115\n",
      "34/34 [==============================] - 0s 2ms/step\n"
     ]
    },
    {
     "name": "stderr",
     "output_type": "stream",
     "text": [
      "/usr/local/lib/python3.10/dist-packages/keras/src/engine/training.py:3079: UserWarning: You are saving your model as an HDF5 file via `model.save()`. This file format is considered legacy. We recommend using instead the native Keras format, e.g. `model.save('my_model.keras')`.\n",
      "  saving_api.save_model(\n"
     ]
    },
    {
     "name": "stdout",
     "output_type": "stream",
     "text": [
      "Training LSTM for P3 (sliderNeutralPos)\n",
      "Epoch 1/10\n",
      "134/134 [==============================] - 8s 42ms/step - loss: 2.1664 - accuracy: 0.1791\n",
      "Epoch 2/10\n",
      "134/134 [==============================] - 6s 41ms/step - loss: 2.1084 - accuracy: 0.1885\n",
      "Epoch 3/10\n",
      "134/134 [==============================] - 5s 39ms/step - loss: 2.1007 - accuracy: 0.1986\n",
      "Epoch 4/10\n",
      "134/134 [==============================] - 5s 36ms/step - loss: 2.0929 - accuracy: 0.2002\n",
      "Epoch 5/10\n",
      "134/134 [==============================] - 4s 33ms/step - loss: 2.0903 - accuracy: 0.2084\n",
      "Epoch 6/10\n",
      "134/134 [==============================] - 5s 38ms/step - loss: 2.0830 - accuracy: 0.2054\n",
      "Epoch 7/10\n",
      "134/134 [==============================] - 5s 35ms/step - loss: 2.0725 - accuracy: 0.2019\n",
      "Epoch 8/10\n",
      "134/134 [==============================] - 5s 39ms/step - loss: 2.0661 - accuracy: 0.2066\n",
      "Epoch 9/10\n",
      "134/134 [==============================] - 5s 38ms/step - loss: 2.0577 - accuracy: 0.2211\n",
      "Epoch 10/10\n",
      "134/134 [==============================] - 4s 33ms/step - loss: 2.0521 - accuracy: 0.2169\n"
     ]
    },
    {
     "name": "stderr",
     "output_type": "stream",
     "text": [
      "/usr/local/lib/python3.10/dist-packages/keras/src/engine/training.py:3079: UserWarning: You are saving your model as an HDF5 file via `model.save()`. This file format is considered legacy. We recommend using instead the native Keras format, e.g. `model.save('my_model.keras')`.\n",
      "  saving_api.save_model(\n"
     ]
    },
    {
     "name": "stdout",
     "output_type": "stream",
     "text": [
      "34/34 [==============================] - 1s 13ms/step\n",
      "Training RF for SE1 (sliderNegPos)\n",
      "Training CNN for SE1 (sliderNegPos)\n",
      "Epoch 1/10\n",
      "134/134 [==============================] - 1s 6ms/step - loss: 1.1360 - accuracy: 0.5144\n",
      "Epoch 2/10\n",
      "134/134 [==============================] - 1s 6ms/step - loss: 0.9752 - accuracy: 0.5669\n",
      "Epoch 3/10\n",
      "134/134 [==============================] - 1s 6ms/step - loss: 0.8866 - accuracy: 0.6045\n",
      "Epoch 4/10\n",
      "134/134 [==============================] - 1s 6ms/step - loss: 0.8139 - accuracy: 0.6448\n",
      "Epoch 5/10\n",
      "134/134 [==============================] - 1s 6ms/step - loss: 0.7356 - accuracy: 0.6886\n",
      "Epoch 6/10\n",
      "134/134 [==============================] - 1s 6ms/step - loss: 0.6671 - accuracy: 0.7238\n",
      "Epoch 7/10\n",
      "134/134 [==============================] - 1s 6ms/step - loss: 0.5833 - accuracy: 0.7630\n",
      "Epoch 8/10\n",
      "134/134 [==============================] - 1s 6ms/step - loss: 0.5373 - accuracy: 0.7798\n",
      "Epoch 9/10\n",
      "134/134 [==============================] - 1s 6ms/step - loss: 0.4551 - accuracy: 0.8272\n",
      "Epoch 10/10\n",
      "134/134 [==============================] - 1s 6ms/step - loss: 0.4107 - accuracy: 0.8441\n",
      "34/34 [==============================] - 0s 2ms/step\n"
     ]
    },
    {
     "name": "stderr",
     "output_type": "stream",
     "text": [
      "/usr/local/lib/python3.10/dist-packages/keras/src/engine/training.py:3079: UserWarning: You are saving your model as an HDF5 file via `model.save()`. This file format is considered legacy. We recommend using instead the native Keras format, e.g. `model.save('my_model.keras')`.\n",
      "  saving_api.save_model(\n"
     ]
    },
    {
     "name": "stdout",
     "output_type": "stream",
     "text": [
      "Training LSTM for SE1 (sliderNegPos)\n",
      "Epoch 1/10\n",
      "134/134 [==============================] - 8s 41ms/step - loss: 1.3036 - accuracy: 0.5048\n",
      "Epoch 2/10\n",
      "134/134 [==============================] - 5s 40ms/step - loss: 1.1235 - accuracy: 0.5231\n",
      "Epoch 3/10\n",
      "134/134 [==============================] - 5s 40ms/step - loss: 1.1090 - accuracy: 0.5247\n",
      "Epoch 4/10\n",
      "134/134 [==============================] - 5s 41ms/step - loss: 1.1078 - accuracy: 0.5261\n",
      "Epoch 5/10\n",
      "134/134 [==============================] - 5s 41ms/step - loss: 1.1025 - accuracy: 0.5261\n",
      "Epoch 6/10\n",
      "134/134 [==============================] - 5s 38ms/step - loss: 1.1034 - accuracy: 0.5259\n",
      "Epoch 7/10\n",
      "134/134 [==============================] - 5s 35ms/step - loss: 1.1044 - accuracy: 0.5259\n",
      "Epoch 8/10\n",
      "134/134 [==============================] - 5s 36ms/step - loss: 1.1002 - accuracy: 0.5259\n",
      "Epoch 9/10\n",
      "134/134 [==============================] - 5s 38ms/step - loss: 1.0971 - accuracy: 0.5259\n",
      "Epoch 10/10\n",
      "134/134 [==============================] - 5s 39ms/step - loss: 1.0975 - accuracy: 0.5259\n"
     ]
    },
    {
     "name": "stderr",
     "output_type": "stream",
     "text": [
      "/usr/local/lib/python3.10/dist-packages/keras/src/engine/training.py:3079: UserWarning: You are saving your model as an HDF5 file via `model.save()`. This file format is considered legacy. We recommend using instead the native Keras format, e.g. `model.save('my_model.keras')`.\n",
      "  saving_api.save_model(\n"
     ]
    },
    {
     "name": "stdout",
     "output_type": "stream",
     "text": [
      "34/34 [==============================] - 1s 14ms/step\n",
      "Training RF for SE2 (sliderNeutralPos)\n",
      "Training CNN for SE2 (sliderNeutralPos)\n",
      "Epoch 1/10\n",
      "134/134 [==============================] - 1s 6ms/step - loss: 1.1375 - accuracy: 0.4891\n",
      "Epoch 2/10\n",
      "134/134 [==============================] - 1s 6ms/step - loss: 0.9522 - accuracy: 0.5627\n",
      "Epoch 3/10\n",
      "134/134 [==============================] - 1s 6ms/step - loss: 0.8758 - accuracy: 0.6106\n",
      "Epoch 4/10\n",
      "134/134 [==============================] - 1s 6ms/step - loss: 0.7946 - accuracy: 0.6523\n",
      "Epoch 5/10\n",
      "134/134 [==============================] - 1s 6ms/step - loss: 0.7244 - accuracy: 0.6884\n",
      "Epoch 6/10\n",
      "134/134 [==============================] - 1s 6ms/step - loss: 0.6550 - accuracy: 0.7229\n",
      "Epoch 7/10\n",
      "134/134 [==============================] - 1s 6ms/step - loss: 0.5971 - accuracy: 0.7447\n",
      "Epoch 8/10\n",
      "134/134 [==============================] - 1s 6ms/step - loss: 0.5109 - accuracy: 0.7937\n",
      "Epoch 9/10\n",
      "134/134 [==============================] - 1s 6ms/step - loss: 0.4582 - accuracy: 0.8169\n",
      "Epoch 10/10\n",
      "134/134 [==============================] - 1s 6ms/step - loss: 0.4081 - accuracy: 0.8403\n",
      "34/34 [==============================] - 0s 2ms/step\n"
     ]
    },
    {
     "name": "stderr",
     "output_type": "stream",
     "text": [
      "/usr/local/lib/python3.10/dist-packages/keras/src/engine/training.py:3079: UserWarning: You are saving your model as an HDF5 file via `model.save()`. This file format is considered legacy. We recommend using instead the native Keras format, e.g. `model.save('my_model.keras')`.\n",
      "  saving_api.save_model(\n"
     ]
    },
    {
     "name": "stdout",
     "output_type": "stream",
     "text": [
      "Training LSTM for SE2 (sliderNeutralPos)\n",
      "Epoch 1/10\n",
      "134/134 [==============================] - 8s 42ms/step - loss: 1.2939 - accuracy: 0.4052\n",
      "Epoch 2/10\n",
      "134/134 [==============================] - 5s 41ms/step - loss: 1.1195 - accuracy: 0.4258\n",
      "Epoch 3/10\n",
      "134/134 [==============================] - 5s 37ms/step - loss: 1.1114 - accuracy: 0.4122\n",
      "Epoch 4/10\n",
      "134/134 [==============================] - 5s 38ms/step - loss: 1.1093 - accuracy: 0.4117\n",
      "Epoch 5/10\n",
      "134/134 [==============================] - 5s 39ms/step - loss: 1.1004 - accuracy: 0.4251\n",
      "Epoch 6/10\n",
      "134/134 [==============================] - 5s 41ms/step - loss: 1.1017 - accuracy: 0.4298\n",
      "Epoch 7/10\n",
      "134/134 [==============================] - 5s 40ms/step - loss: 1.1005 - accuracy: 0.4136\n",
      "Epoch 8/10\n",
      "134/134 [==============================] - 6s 41ms/step - loss: 1.0986 - accuracy: 0.4185\n",
      "Epoch 9/10\n",
      "134/134 [==============================] - 6s 41ms/step - loss: 1.0976 - accuracy: 0.4183\n",
      "Epoch 10/10\n",
      "134/134 [==============================] - 5s 39ms/step - loss: 1.0987 - accuracy: 0.4279\n"
     ]
    },
    {
     "name": "stderr",
     "output_type": "stream",
     "text": [
      "/usr/local/lib/python3.10/dist-packages/keras/src/engine/training.py:3079: UserWarning: You are saving your model as an HDF5 file via `model.save()`. This file format is considered legacy. We recommend using instead the native Keras format, e.g. `model.save('my_model.keras')`.\n",
      "  saving_api.save_model(\n"
     ]
    },
    {
     "name": "stdout",
     "output_type": "stream",
     "text": [
      "34/34 [==============================] - 1s 13ms/step\n",
      "Training RF for SE3 (sliderNeutralPos)\n",
      "Training CNN for SE3 (sliderNeutralPos)\n",
      "Epoch 1/10\n",
      "134/134 [==============================] - 1s 6ms/step - loss: 1.1756 - accuracy: 0.4832\n",
      "Epoch 2/10\n",
      "134/134 [==============================] - 1s 6ms/step - loss: 1.0231 - accuracy: 0.5491\n",
      "Epoch 3/10\n",
      "134/134 [==============================] - 1s 6ms/step - loss: 0.9444 - accuracy: 0.5843\n",
      "Epoch 4/10\n",
      "134/134 [==============================] - 1s 6ms/step - loss: 0.8681 - accuracy: 0.6244\n",
      "Epoch 5/10\n",
      "134/134 [==============================] - 1s 6ms/step - loss: 0.7730 - accuracy: 0.6710\n",
      "Epoch 6/10\n",
      "134/134 [==============================] - 1s 6ms/step - loss: 0.6888 - accuracy: 0.7123\n",
      "Epoch 7/10\n",
      "134/134 [==============================] - 1s 6ms/step - loss: 0.5983 - accuracy: 0.7573\n",
      "Epoch 8/10\n",
      "134/134 [==============================] - 1s 6ms/step - loss: 0.5159 - accuracy: 0.7918\n",
      "Epoch 9/10\n",
      "134/134 [==============================] - 1s 6ms/step - loss: 0.4657 - accuracy: 0.8176\n",
      "Epoch 10/10\n",
      "134/134 [==============================] - 1s 6ms/step - loss: 0.4005 - accuracy: 0.8441\n",
      "34/34 [==============================] - 0s 2ms/step\n"
     ]
    },
    {
     "name": "stderr",
     "output_type": "stream",
     "text": [
      "/usr/local/lib/python3.10/dist-packages/keras/src/engine/training.py:3079: UserWarning: You are saving your model as an HDF5 file via `model.save()`. This file format is considered legacy. We recommend using instead the native Keras format, e.g. `model.save('my_model.keras')`.\n",
      "  saving_api.save_model(\n"
     ]
    },
    {
     "name": "stdout",
     "output_type": "stream",
     "text": [
      "Training LSTM for SE3 (sliderNeutralPos)\n",
      "Epoch 1/10\n",
      "134/134 [==============================] - 8s 41ms/step - loss: 1.3690 - accuracy: 0.4138\n",
      "Epoch 2/10\n",
      "134/134 [==============================] - 5s 39ms/step - loss: 1.1777 - accuracy: 0.3974\n",
      "Epoch 3/10\n",
      "134/134 [==============================] - 5s 40ms/step - loss: 1.1569 - accuracy: 0.4253\n",
      "Epoch 4/10\n",
      "134/134 [==============================] - 6s 41ms/step - loss: 1.1590 - accuracy: 0.4298\n",
      "Epoch 5/10\n",
      "134/134 [==============================] - 5s 37ms/step - loss: 1.1555 - accuracy: 0.4159\n",
      "Epoch 6/10\n",
      "134/134 [==============================] - 5s 36ms/step - loss: 1.1540 - accuracy: 0.4129\n",
      "Epoch 7/10\n",
      "134/134 [==============================] - 5s 38ms/step - loss: 1.1510 - accuracy: 0.4260\n",
      "Epoch 8/10\n",
      "134/134 [==============================] - 5s 39ms/step - loss: 1.1496 - accuracy: 0.4246\n",
      "Epoch 9/10\n",
      "134/134 [==============================] - 5s 37ms/step - loss: 1.1512 - accuracy: 0.4204\n",
      "Epoch 10/10\n",
      "134/134 [==============================] - 5s 39ms/step - loss: 1.1497 - accuracy: 0.4286\n"
     ]
    },
    {
     "name": "stderr",
     "output_type": "stream",
     "text": [
      "/usr/local/lib/python3.10/dist-packages/keras/src/engine/training.py:3079: UserWarning: You are saving your model as an HDF5 file via `model.save()`. This file format is considered legacy. We recommend using instead the native Keras format, e.g. `model.save('my_model.keras')`.\n",
      "  saving_api.save_model(\n"
     ]
    },
    {
     "name": "stdout",
     "output_type": "stream",
     "text": [
      "34/34 [==============================] - 1s 14ms/step\n",
      "Training RF for SE4 (sliderNeutralPos)\n",
      "Training CNN for SE4 (sliderNeutralPos)\n",
      "Epoch 1/10\n",
      "134/134 [==============================] - 1s 6ms/step - loss: 1.0688 - accuracy: 0.5723\n",
      "Epoch 2/10\n",
      "134/134 [==============================] - 1s 6ms/step - loss: 0.8884 - accuracy: 0.6225\n",
      "Epoch 3/10\n",
      "134/134 [==============================] - 1s 6ms/step - loss: 0.8232 - accuracy: 0.6415\n",
      "Epoch 4/10\n",
      "134/134 [==============================] - 1s 6ms/step - loss: 0.7453 - accuracy: 0.6851\n",
      "Epoch 5/10\n",
      "134/134 [==============================] - 1s 6ms/step - loss: 0.6765 - accuracy: 0.7151\n",
      "Epoch 6/10\n",
      "134/134 [==============================] - 1s 6ms/step - loss: 0.6165 - accuracy: 0.7383\n",
      "Epoch 7/10\n",
      "134/134 [==============================] - 1s 6ms/step - loss: 0.5529 - accuracy: 0.7688\n",
      "Epoch 8/10\n",
      "134/134 [==============================] - 1s 6ms/step - loss: 0.4914 - accuracy: 0.8009\n",
      "Epoch 9/10\n",
      "134/134 [==============================] - 1s 6ms/step - loss: 0.4301 - accuracy: 0.8234\n",
      "Epoch 10/10\n",
      "134/134 [==============================] - 1s 6ms/step - loss: 0.3898 - accuracy: 0.8471\n",
      "34/34 [==============================] - 0s 2ms/step\n"
     ]
    },
    {
     "name": "stderr",
     "output_type": "stream",
     "text": [
      "/usr/local/lib/python3.10/dist-packages/keras/src/engine/training.py:3079: UserWarning: You are saving your model as an HDF5 file via `model.save()`. This file format is considered legacy. We recommend using instead the native Keras format, e.g. `model.save('my_model.keras')`.\n",
      "  saving_api.save_model(\n"
     ]
    },
    {
     "name": "stdout",
     "output_type": "stream",
     "text": [
      "Training LSTM for SE4 (sliderNeutralPos)\n",
      "Epoch 1/10\n",
      "134/134 [==============================] - 8s 42ms/step - loss: 1.2192 - accuracy: 0.5744\n",
      "Epoch 2/10\n",
      "134/134 [==============================] - 5s 38ms/step - loss: 1.0294 - accuracy: 0.5937\n",
      "Epoch 3/10\n",
      "134/134 [==============================] - 5s 36ms/step - loss: 1.0225 - accuracy: 0.5948\n",
      "Epoch 4/10\n",
      "134/134 [==============================] - 5s 38ms/step - loss: 1.0176 - accuracy: 0.5958\n",
      "Epoch 5/10\n",
      "134/134 [==============================] - 5s 39ms/step - loss: 1.0148 - accuracy: 0.5960\n",
      "Epoch 6/10\n",
      "134/134 [==============================] - 5s 39ms/step - loss: 1.0124 - accuracy: 0.5960\n",
      "Epoch 7/10\n",
      "134/134 [==============================] - 5s 39ms/step - loss: 1.0100 - accuracy: 0.5960\n",
      "Epoch 8/10\n",
      "134/134 [==============================] - 5s 40ms/step - loss: 1.0097 - accuracy: 0.5960\n",
      "Epoch 9/10\n",
      "134/134 [==============================] - 5s 40ms/step - loss: 1.0115 - accuracy: 0.5960\n",
      "Epoch 10/10\n",
      "134/134 [==============================] - 5s 37ms/step - loss: 1.0099 - accuracy: 0.5960\n"
     ]
    },
    {
     "name": "stderr",
     "output_type": "stream",
     "text": [
      "/usr/local/lib/python3.10/dist-packages/keras/src/engine/training.py:3079: UserWarning: You are saving your model as an HDF5 file via `model.save()`. This file format is considered legacy. We recommend using instead the native Keras format, e.g. `model.save('my_model.keras')`.\n",
      "  saving_api.save_model(\n"
     ]
    },
    {
     "name": "stdout",
     "output_type": "stream",
     "text": [
      "34/34 [==============================] - 1s 13ms/step\n",
      "Training RF for MIL1 (sliderNegPos)\n",
      "Training CNN for MIL1 (sliderNegPos)\n",
      "Epoch 1/10\n",
      "134/134 [==============================] - 1s 6ms/step - loss: 1.7445 - accuracy: 0.3426\n",
      "Epoch 2/10\n",
      "134/134 [==============================] - 1s 6ms/step - loss: 1.4729 - accuracy: 0.4441\n",
      "Epoch 3/10\n",
      "134/134 [==============================] - 1s 6ms/step - loss: 1.3164 - accuracy: 0.5076\n",
      "Epoch 4/10\n",
      "134/134 [==============================] - 1s 6ms/step - loss: 1.1701 - accuracy: 0.5700\n",
      "Epoch 5/10\n",
      "134/134 [==============================] - 1s 6ms/step - loss: 1.0190 - accuracy: 0.6234\n",
      "Epoch 6/10\n",
      "134/134 [==============================] - 1s 6ms/step - loss: 0.8981 - accuracy: 0.6666\n",
      "Epoch 7/10\n",
      "134/134 [==============================] - 1s 6ms/step - loss: 0.7719 - accuracy: 0.7224\n",
      "Epoch 8/10\n",
      "134/134 [==============================] - 1s 6ms/step - loss: 0.6749 - accuracy: 0.7526\n",
      "Epoch 9/10\n",
      "134/134 [==============================] - 1s 6ms/step - loss: 0.5852 - accuracy: 0.7944\n",
      "Epoch 10/10\n",
      "134/134 [==============================] - 1s 6ms/step - loss: 0.4901 - accuracy: 0.8300\n",
      "34/34 [==============================] - 0s 2ms/step\n"
     ]
    },
    {
     "name": "stderr",
     "output_type": "stream",
     "text": [
      "/usr/local/lib/python3.10/dist-packages/keras/src/engine/training.py:3079: UserWarning: You are saving your model as an HDF5 file via `model.save()`. This file format is considered legacy. We recommend using instead the native Keras format, e.g. `model.save('my_model.keras')`.\n",
      "  saving_api.save_model(\n"
     ]
    },
    {
     "name": "stdout",
     "output_type": "stream",
     "text": [
      "Training LSTM for MIL1 (sliderNegPos)\n",
      "Epoch 1/10\n",
      "134/134 [==============================] - 8s 41ms/step - loss: 1.9715 - accuracy: 0.1916\n",
      "Epoch 2/10\n",
      "134/134 [==============================] - 5s 40ms/step - loss: 1.8785 - accuracy: 0.1897\n",
      "Epoch 3/10\n",
      "134/134 [==============================] - 5s 39ms/step - loss: 1.8639 - accuracy: 0.2021\n",
      "Epoch 4/10\n",
      "134/134 [==============================] - 5s 37ms/step - loss: 1.8619 - accuracy: 0.1991\n",
      "Epoch 5/10\n",
      "134/134 [==============================] - 5s 36ms/step - loss: 1.8608 - accuracy: 0.1958\n",
      "Epoch 6/10\n",
      "134/134 [==============================] - 5s 36ms/step - loss: 1.8604 - accuracy: 0.1955\n",
      "Epoch 7/10\n",
      "134/134 [==============================] - 5s 34ms/step - loss: 1.8601 - accuracy: 0.1887\n",
      "Epoch 8/10\n",
      "134/134 [==============================] - 5s 37ms/step - loss: 1.8572 - accuracy: 0.1897\n",
      "Epoch 9/10\n",
      "134/134 [==============================] - 5s 34ms/step - loss: 1.8542 - accuracy: 0.2075\n",
      "Epoch 10/10\n",
      "134/134 [==============================] - 4s 33ms/step - loss: 1.8579 - accuracy: 0.1979\n"
     ]
    },
    {
     "name": "stderr",
     "output_type": "stream",
     "text": [
      "/usr/local/lib/python3.10/dist-packages/keras/src/engine/training.py:3079: UserWarning: You are saving your model as an HDF5 file via `model.save()`. This file format is considered legacy. We recommend using instead the native Keras format, e.g. `model.save('my_model.keras')`.\n",
      "  saving_api.save_model(\n"
     ]
    },
    {
     "name": "stdout",
     "output_type": "stream",
     "text": [
      "34/34 [==============================] - 1s 12ms/step\n",
      "Training RF for MIL2 (sliderNeutralPos)\n",
      "Training CNN for MIL2 (sliderNeutralPos)\n",
      "Epoch 1/10\n",
      "134/134 [==============================] - 1s 6ms/step - loss: 1.5986 - accuracy: 0.3742\n",
      "Epoch 2/10\n",
      "134/134 [==============================] - 1s 6ms/step - loss: 1.3583 - accuracy: 0.4647\n",
      "Epoch 3/10\n",
      "134/134 [==============================] - 1s 6ms/step - loss: 1.2188 - accuracy: 0.5229\n",
      "Epoch 4/10\n",
      "134/134 [==============================] - 1s 6ms/step - loss: 1.0882 - accuracy: 0.5916\n",
      "Epoch 5/10\n",
      "134/134 [==============================] - 1s 6ms/step - loss: 0.9627 - accuracy: 0.6319\n",
      "Epoch 6/10\n",
      "134/134 [==============================] - 1s 6ms/step - loss: 0.8444 - accuracy: 0.6753\n",
      "Epoch 7/10\n",
      "134/134 [==============================] - 1s 6ms/step - loss: 0.7597 - accuracy: 0.7135\n",
      "Epoch 8/10\n",
      "134/134 [==============================] - 1s 6ms/step - loss: 0.6739 - accuracy: 0.7510\n",
      "Epoch 9/10\n",
      "134/134 [==============================] - 1s 6ms/step - loss: 0.5809 - accuracy: 0.7916\n",
      "Epoch 10/10\n",
      "134/134 [==============================] - 1s 6ms/step - loss: 0.5137 - accuracy: 0.8080\n",
      "34/34 [==============================] - 0s 2ms/step\n"
     ]
    },
    {
     "name": "stderr",
     "output_type": "stream",
     "text": [
      "/usr/local/lib/python3.10/dist-packages/keras/src/engine/training.py:3079: UserWarning: You are saving your model as an HDF5 file via `model.save()`. This file format is considered legacy. We recommend using instead the native Keras format, e.g. `model.save('my_model.keras')`.\n",
      "  saving_api.save_model(\n"
     ]
    },
    {
     "name": "stdout",
     "output_type": "stream",
     "text": [
      "Training LSTM for MIL2 (sliderNeutralPos)\n",
      "Epoch 1/10\n",
      "134/134 [==============================] - 8s 41ms/step - loss: 1.8088 - accuracy: 0.2680\n",
      "Epoch 2/10\n",
      "134/134 [==============================] - 5s 41ms/step - loss: 1.6795 - accuracy: 0.2882\n",
      "Epoch 3/10\n",
      "134/134 [==============================] - 5s 38ms/step - loss: 1.6750 - accuracy: 0.2774\n",
      "Epoch 4/10\n",
      "134/134 [==============================] - 5s 37ms/step - loss: 1.6662 - accuracy: 0.2708\n",
      "Epoch 5/10\n",
      "134/134 [==============================] - 4s 32ms/step - loss: 1.6644 - accuracy: 0.2851\n",
      "Epoch 6/10\n",
      "134/134 [==============================] - 4s 33ms/step - loss: 1.6591 - accuracy: 0.2797\n",
      "Epoch 7/10\n",
      "134/134 [==============================] - 5s 37ms/step - loss: 1.6579 - accuracy: 0.2790\n",
      "Epoch 8/10\n",
      "134/134 [==============================] - 4s 33ms/step - loss: 1.6563 - accuracy: 0.2811\n",
      "Epoch 9/10\n",
      "134/134 [==============================] - 4s 33ms/step - loss: 1.6577 - accuracy: 0.2762\n",
      "Epoch 10/10\n",
      "134/134 [==============================] - 4s 33ms/step - loss: 1.6528 - accuracy: 0.2882\n"
     ]
    },
    {
     "name": "stderr",
     "output_type": "stream",
     "text": [
      "/usr/local/lib/python3.10/dist-packages/keras/src/engine/training.py:3079: UserWarning: You are saving your model as an HDF5 file via `model.save()`. This file format is considered legacy. We recommend using instead the native Keras format, e.g. `model.save('my_model.keras')`.\n",
      "  saving_api.save_model(\n"
     ]
    },
    {
     "name": "stdout",
     "output_type": "stream",
     "text": [
      "34/34 [==============================] - 1s 13ms/step\n",
      "Training RF for MIL3 (sliderNeutralPos)\n",
      "Training CNN for MIL3 (sliderNeutralPos)\n",
      "Epoch 1/10\n",
      "134/134 [==============================] - 1s 6ms/step - loss: 1.6607 - accuracy: 0.3458\n",
      "Epoch 2/10\n",
      "134/134 [==============================] - 1s 6ms/step - loss: 1.3900 - accuracy: 0.4579\n",
      "Epoch 3/10\n",
      "134/134 [==============================] - 1s 6ms/step - loss: 1.2581 - accuracy: 0.5032\n",
      "Epoch 4/10\n",
      "134/134 [==============================] - 1s 6ms/step - loss: 1.1267 - accuracy: 0.5686\n",
      "Epoch 5/10\n",
      "134/134 [==============================] - 1s 6ms/step - loss: 1.0251 - accuracy: 0.6131\n",
      "Epoch 6/10\n",
      "134/134 [==============================] - 1s 6ms/step - loss: 0.8980 - accuracy: 0.6638\n",
      "Epoch 7/10\n",
      "134/134 [==============================] - 1s 6ms/step - loss: 0.8071 - accuracy: 0.7090\n",
      "Epoch 8/10\n",
      "134/134 [==============================] - 1s 6ms/step - loss: 0.7060 - accuracy: 0.7409\n",
      "Epoch 9/10\n",
      "134/134 [==============================] - 1s 6ms/step - loss: 0.6222 - accuracy: 0.7705\n",
      "Epoch 10/10\n",
      "134/134 [==============================] - 1s 6ms/step - loss: 0.5366 - accuracy: 0.8035\n",
      "34/34 [==============================] - 0s 2ms/step\n"
     ]
    },
    {
     "name": "stderr",
     "output_type": "stream",
     "text": [
      "/usr/local/lib/python3.10/dist-packages/keras/src/engine/training.py:3079: UserWarning: You are saving your model as an HDF5 file via `model.save()`. This file format is considered legacy. We recommend using instead the native Keras format, e.g. `model.save('my_model.keras')`.\n",
      "  saving_api.save_model(\n"
     ]
    },
    {
     "name": "stdout",
     "output_type": "stream",
     "text": [
      "Training LSTM for MIL3 (sliderNeutralPos)\n",
      "Epoch 1/10\n",
      "134/134 [==============================] - 8s 42ms/step - loss: 1.8554 - accuracy: 0.2734\n",
      "Epoch 2/10\n",
      "134/134 [==============================] - 5s 41ms/step - loss: 1.7417 - accuracy: 0.2905\n",
      "Epoch 3/10\n",
      "134/134 [==============================] - 5s 40ms/step - loss: 1.7371 - accuracy: 0.2919\n",
      "Epoch 4/10\n",
      "134/134 [==============================] - 5s 38ms/step - loss: 1.7280 - accuracy: 0.2917\n",
      "Epoch 5/10\n",
      "134/134 [==============================] - 5s 38ms/step - loss: 1.7243 - accuracy: 0.2957\n",
      "Epoch 6/10\n",
      "134/134 [==============================] - 5s 39ms/step - loss: 1.7200 - accuracy: 0.2961\n",
      "Epoch 7/10\n",
      "134/134 [==============================] - 4s 33ms/step - loss: 1.7118 - accuracy: 0.2985\n",
      "Epoch 8/10\n",
      "134/134 [==============================] - 5s 35ms/step - loss: 1.7115 - accuracy: 0.2985\n",
      "Epoch 9/10\n",
      "134/134 [==============================] - 5s 35ms/step - loss: 1.7046 - accuracy: 0.2966\n",
      "Epoch 10/10\n",
      "134/134 [==============================] - 4s 33ms/step - loss: 1.6983 - accuracy: 0.2952\n"
     ]
    },
    {
     "name": "stderr",
     "output_type": "stream",
     "text": [
      "/usr/local/lib/python3.10/dist-packages/keras/src/engine/training.py:3079: UserWarning: You are saving your model as an HDF5 file via `model.save()`. This file format is considered legacy. We recommend using instead the native Keras format, e.g. `model.save('my_model.keras')`.\n",
      "  saving_api.save_model(\n"
     ]
    },
    {
     "name": "stdout",
     "output_type": "stream",
     "text": [
      "34/34 [==============================] - 1s 13ms/step\n",
      "Training RF for MIL4 (sliderNeutralPos)\n",
      "Training CNN for MIL4 (sliderNeutralPos)\n",
      "Epoch 1/10\n",
      "134/134 [==============================] - 1s 6ms/step - loss: 1.7370 - accuracy: 0.3179\n",
      "Epoch 2/10\n",
      "134/134 [==============================] - 1s 6ms/step - loss: 1.4819 - accuracy: 0.4272\n",
      "Epoch 3/10\n",
      "134/134 [==============================] - 1s 6ms/step - loss: 1.3481 - accuracy: 0.4804\n",
      "Epoch 4/10\n",
      "134/134 [==============================] - 1s 6ms/step - loss: 1.2002 - accuracy: 0.5468\n",
      "Epoch 5/10\n",
      "134/134 [==============================] - 1s 6ms/step - loss: 1.0828 - accuracy: 0.6005\n",
      "Epoch 6/10\n",
      "134/134 [==============================] - 1s 6ms/step - loss: 0.9627 - accuracy: 0.6349\n",
      "Epoch 7/10\n",
      "134/134 [==============================] - 1s 6ms/step - loss: 0.8457 - accuracy: 0.6851\n",
      "Epoch 8/10\n",
      "134/134 [==============================] - 1s 6ms/step - loss: 0.7535 - accuracy: 0.7247\n",
      "Epoch 9/10\n",
      "134/134 [==============================] - 1s 6ms/step - loss: 0.6506 - accuracy: 0.7655\n",
      "Epoch 10/10\n",
      "134/134 [==============================] - 1s 6ms/step - loss: 0.5774 - accuracy: 0.7972\n",
      "34/34 [==============================] - 0s 2ms/step\n"
     ]
    },
    {
     "name": "stderr",
     "output_type": "stream",
     "text": [
      "/usr/local/lib/python3.10/dist-packages/keras/src/engine/training.py:3079: UserWarning: You are saving your model as an HDF5 file via `model.save()`. This file format is considered legacy. We recommend using instead the native Keras format, e.g. `model.save('my_model.keras')`.\n",
      "  saving_api.save_model(\n"
     ]
    },
    {
     "name": "stdout",
     "output_type": "stream",
     "text": [
      "Training LSTM for MIL4 (sliderNeutralPos)\n",
      "Epoch 1/10\n",
      "134/134 [==============================] - 8s 42ms/step - loss: 1.9144 - accuracy: 0.2380\n",
      "Epoch 2/10\n",
      "134/134 [==============================] - 6s 41ms/step - loss: 1.8094 - accuracy: 0.2413\n",
      "Epoch 3/10\n",
      "134/134 [==============================] - 6s 42ms/step - loss: 1.8059 - accuracy: 0.2544\n",
      "Epoch 4/10\n",
      "134/134 [==============================] - 5s 41ms/step - loss: 1.8005 - accuracy: 0.2603\n",
      "Epoch 5/10\n",
      "134/134 [==============================] - 5s 38ms/step - loss: 1.7940 - accuracy: 0.2603\n",
      "Epoch 6/10\n",
      "134/134 [==============================] - 5s 36ms/step - loss: 1.7902 - accuracy: 0.2647\n",
      "Epoch 7/10\n",
      "134/134 [==============================] - 5s 34ms/step - loss: 1.7920 - accuracy: 0.2654\n",
      "Epoch 8/10\n",
      "134/134 [==============================] - 4s 33ms/step - loss: 1.7875 - accuracy: 0.2647\n",
      "Epoch 9/10\n",
      "134/134 [==============================] - 5s 34ms/step - loss: 1.7874 - accuracy: 0.2617\n",
      "Epoch 10/10\n",
      "134/134 [==============================] - 4s 33ms/step - loss: 1.7870 - accuracy: 0.2645\n"
     ]
    },
    {
     "name": "stderr",
     "output_type": "stream",
     "text": [
      "/usr/local/lib/python3.10/dist-packages/keras/src/engine/training.py:3079: UserWarning: You are saving your model as an HDF5 file via `model.save()`. This file format is considered legacy. We recommend using instead the native Keras format, e.g. `model.save('my_model.keras')`.\n",
      "  saving_api.save_model(\n"
     ]
    },
    {
     "name": "stdout",
     "output_type": "stream",
     "text": [
      "34/34 [==============================] - 1s 12ms/step\n",
      "Training RF for MIL5 (sliderNeutralPos)\n",
      "Training CNN for MIL5 (sliderNeutralPos)\n",
      "Epoch 1/10\n",
      "134/134 [==============================] - 1s 6ms/step - loss: 1.6934 - accuracy: 0.3402\n",
      "Epoch 2/10\n",
      "134/134 [==============================] - 1s 6ms/step - loss: 1.4446 - accuracy: 0.4305\n",
      "Epoch 3/10\n",
      "134/134 [==============================] - 1s 6ms/step - loss: 1.3043 - accuracy: 0.4734\n",
      "Epoch 4/10\n",
      "134/134 [==============================] - 1s 6ms/step - loss: 1.1756 - accuracy: 0.5374\n",
      "Epoch 5/10\n",
      "134/134 [==============================] - 1s 6ms/step - loss: 1.0615 - accuracy: 0.5993\n",
      "Epoch 6/10\n",
      "134/134 [==============================] - 1s 6ms/step - loss: 0.9495 - accuracy: 0.6445\n",
      "Epoch 7/10\n",
      "134/134 [==============================] - 1s 6ms/step - loss: 0.8462 - accuracy: 0.6830\n",
      "Epoch 8/10\n",
      "134/134 [==============================] - 1s 6ms/step - loss: 0.7549 - accuracy: 0.7254\n",
      "Epoch 9/10\n",
      "134/134 [==============================] - 1s 6ms/step - loss: 0.6644 - accuracy: 0.7618\n",
      "Epoch 10/10\n",
      "134/134 [==============================] - 1s 6ms/step - loss: 0.5979 - accuracy: 0.7829\n",
      "34/34 [==============================] - 0s 2ms/step\n"
     ]
    },
    {
     "name": "stderr",
     "output_type": "stream",
     "text": [
      "/usr/local/lib/python3.10/dist-packages/keras/src/engine/training.py:3079: UserWarning: You are saving your model as an HDF5 file via `model.save()`. This file format is considered legacy. We recommend using instead the native Keras format, e.g. `model.save('my_model.keras')`.\n",
      "  saving_api.save_model(\n"
     ]
    },
    {
     "name": "stdout",
     "output_type": "stream",
     "text": [
      "Training LSTM for MIL5 (sliderNeutralPos)\n",
      "Epoch 1/10\n",
      "134/134 [==============================] - 8s 42ms/step - loss: 1.8688 - accuracy: 0.2420\n",
      "Epoch 2/10\n",
      "134/134 [==============================] - 6s 42ms/step - loss: 1.7693 - accuracy: 0.2485\n",
      "Epoch 3/10\n",
      "134/134 [==============================] - 5s 40ms/step - loss: 1.7568 - accuracy: 0.2497\n",
      "Epoch 4/10\n",
      "134/134 [==============================] - 5s 39ms/step - loss: 1.7492 - accuracy: 0.2535\n",
      "Epoch 5/10\n",
      "134/134 [==============================] - 5s 39ms/step - loss: 1.7455 - accuracy: 0.2542\n",
      "Epoch 6/10\n",
      "134/134 [==============================] - 5s 35ms/step - loss: 1.7439 - accuracy: 0.2481\n",
      "Epoch 7/10\n",
      "134/134 [==============================] - 4s 33ms/step - loss: 1.7356 - accuracy: 0.2495\n",
      "Epoch 8/10\n",
      "134/134 [==============================] - 5s 35ms/step - loss: 1.7279 - accuracy: 0.2572\n",
      "Epoch 9/10\n",
      "134/134 [==============================] - 5s 39ms/step - loss: 1.7187 - accuracy: 0.2586\n",
      "Epoch 10/10\n",
      "134/134 [==============================] - 5s 39ms/step - loss: 1.7142 - accuracy: 0.2649\n"
     ]
    },
    {
     "name": "stderr",
     "output_type": "stream",
     "text": [
      "/usr/local/lib/python3.10/dist-packages/keras/src/engine/training.py:3079: UserWarning: You are saving your model as an HDF5 file via `model.save()`. This file format is considered legacy. We recommend using instead the native Keras format, e.g. `model.save('my_model.keras')`.\n",
      "  saving_api.save_model(\n"
     ]
    },
    {
     "name": "stdout",
     "output_type": "stream",
     "text": [
      "34/34 [==============================] - 1s 14ms/step\n",
      "Training RF for PRO1 (sliderNeutralPos)\n",
      "Training CNN for PRO1 (sliderNeutralPos)\n",
      "Epoch 1/10\n",
      "134/134 [==============================] - 1s 6ms/step - loss: 2.0489 - accuracy: 0.2661\n",
      "Epoch 2/10\n",
      "134/134 [==============================] - 1s 6ms/step - loss: 1.7783 - accuracy: 0.3555\n",
      "Epoch 3/10\n",
      "134/134 [==============================] - 1s 6ms/step - loss: 1.5612 - accuracy: 0.4389\n",
      "Epoch 4/10\n",
      "134/134 [==============================] - 1s 6ms/step - loss: 1.3506 - accuracy: 0.5203\n",
      "Epoch 5/10\n",
      "134/134 [==============================] - 1s 6ms/step - loss: 1.1795 - accuracy: 0.5962\n",
      "Epoch 6/10\n",
      "134/134 [==============================] - 1s 6ms/step - loss: 1.0344 - accuracy: 0.6352\n",
      "Epoch 7/10\n",
      "134/134 [==============================] - 1s 6ms/step - loss: 0.8830 - accuracy: 0.6868\n",
      "Epoch 8/10\n",
      "134/134 [==============================] - 1s 6ms/step - loss: 0.7808 - accuracy: 0.7271\n",
      "Epoch 9/10\n",
      "134/134 [==============================] - 1s 6ms/step - loss: 0.6751 - accuracy: 0.7620\n",
      "Epoch 10/10\n",
      "134/134 [==============================] - 1s 6ms/step - loss: 0.5813 - accuracy: 0.7988\n",
      "34/34 [==============================] - 0s 2ms/step\n"
     ]
    },
    {
     "name": "stderr",
     "output_type": "stream",
     "text": [
      "/usr/local/lib/python3.10/dist-packages/keras/src/engine/training.py:3079: UserWarning: You are saving your model as an HDF5 file via `model.save()`. This file format is considered legacy. We recommend using instead the native Keras format, e.g. `model.save('my_model.keras')`.\n",
      "  saving_api.save_model(\n"
     ]
    },
    {
     "name": "stdout",
     "output_type": "stream",
     "text": [
      "Training LSTM for PRO1 (sliderNeutralPos)\n",
      "Epoch 1/10\n",
      "134/134 [==============================] - 7s 40ms/step - loss: 2.1707 - accuracy: 0.2157\n",
      "Epoch 2/10\n",
      "134/134 [==============================] - 5s 40ms/step - loss: 2.1234 - accuracy: 0.2070\n",
      "Epoch 3/10\n",
      "134/134 [==============================] - 5s 40ms/step - loss: 2.1261 - accuracy: 0.2148\n",
      "Epoch 4/10\n",
      "134/134 [==============================] - 5s 39ms/step - loss: 2.1150 - accuracy: 0.2164\n",
      "Epoch 5/10\n",
      "134/134 [==============================] - 5s 41ms/step - loss: 2.1045 - accuracy: 0.2279\n",
      "Epoch 6/10\n",
      "134/134 [==============================] - 5s 40ms/step - loss: 2.0955 - accuracy: 0.2251\n",
      "Epoch 7/10\n",
      "134/134 [==============================] - 5s 41ms/step - loss: 2.0923 - accuracy: 0.2317\n",
      "Epoch 8/10\n",
      "134/134 [==============================] - 5s 38ms/step - loss: 2.0851 - accuracy: 0.2370\n",
      "Epoch 9/10\n",
      "134/134 [==============================] - 5s 40ms/step - loss: 2.0807 - accuracy: 0.2417\n",
      "Epoch 10/10\n",
      "134/134 [==============================] - 5s 40ms/step - loss: 2.0765 - accuracy: 0.2413\n"
     ]
    },
    {
     "name": "stderr",
     "output_type": "stream",
     "text": [
      "/usr/local/lib/python3.10/dist-packages/keras/src/engine/training.py:3079: UserWarning: You are saving your model as an HDF5 file via `model.save()`. This file format is considered legacy. We recommend using instead the native Keras format, e.g. `model.save('my_model.keras')`.\n",
      "  saving_api.save_model(\n"
     ]
    },
    {
     "name": "stdout",
     "output_type": "stream",
     "text": [
      "34/34 [==============================] - 1s 14ms/step\n",
      "Training RF for PRO2 (sliderNeutralPos)\n",
      "Training CNN for PRO2 (sliderNeutralPos)\n",
      "Epoch 1/10\n",
      "134/134 [==============================] - 1s 6ms/step - loss: 1.9727 - accuracy: 0.2703\n",
      "Epoch 2/10\n",
      "134/134 [==============================] - 1s 6ms/step - loss: 1.6826 - accuracy: 0.3824\n",
      "Epoch 3/10\n",
      "134/134 [==============================] - 1s 6ms/step - loss: 1.5027 - accuracy: 0.4476\n",
      "Epoch 4/10\n",
      "134/134 [==============================] - 1s 6ms/step - loss: 1.3154 - accuracy: 0.5165\n",
      "Epoch 5/10\n",
      "134/134 [==============================] - 1s 6ms/step - loss: 1.1444 - accuracy: 0.5824\n",
      "Epoch 6/10\n",
      "134/134 [==============================] - 1s 6ms/step - loss: 1.0130 - accuracy: 0.6267\n",
      "Epoch 7/10\n",
      "134/134 [==============================] - 1s 6ms/step - loss: 0.8642 - accuracy: 0.6914\n",
      "Epoch 8/10\n",
      "134/134 [==============================] - 1s 6ms/step - loss: 0.7644 - accuracy: 0.7243\n",
      "Epoch 9/10\n",
      "134/134 [==============================] - 1s 6ms/step - loss: 0.6638 - accuracy: 0.7625\n",
      "Epoch 10/10\n",
      "134/134 [==============================] - 1s 6ms/step - loss: 0.5894 - accuracy: 0.8016\n",
      "34/34 [==============================] - 0s 2ms/step\n"
     ]
    },
    {
     "name": "stderr",
     "output_type": "stream",
     "text": [
      "/usr/local/lib/python3.10/dist-packages/keras/src/engine/training.py:3079: UserWarning: You are saving your model as an HDF5 file via `model.save()`. This file format is considered legacy. We recommend using instead the native Keras format, e.g. `model.save('my_model.keras')`.\n",
      "  saving_api.save_model(\n"
     ]
    },
    {
     "name": "stdout",
     "output_type": "stream",
     "text": [
      "Training LSTM for PRO2 (sliderNeutralPos)\n",
      "Epoch 1/10\n",
      "134/134 [==============================] - 8s 42ms/step - loss: 2.1277 - accuracy: 0.2002\n",
      "Epoch 2/10\n",
      "134/134 [==============================] - 5s 39ms/step - loss: 2.0749 - accuracy: 0.2171\n",
      "Epoch 3/10\n",
      "134/134 [==============================] - 5s 38ms/step - loss: 2.0667 - accuracy: 0.2155\n",
      "Epoch 4/10\n",
      "134/134 [==============================] - 5s 39ms/step - loss: 2.0567 - accuracy: 0.2129\n",
      "Epoch 5/10\n",
      "134/134 [==============================] - 5s 40ms/step - loss: 2.0488 - accuracy: 0.2258\n",
      "Epoch 6/10\n",
      "134/134 [==============================] - 5s 38ms/step - loss: 2.0379 - accuracy: 0.2171\n",
      "Epoch 7/10\n",
      "134/134 [==============================] - 5s 38ms/step - loss: 2.0344 - accuracy: 0.2188\n",
      "Epoch 8/10\n",
      "134/134 [==============================] - 5s 38ms/step - loss: 2.0222 - accuracy: 0.2274\n",
      "Epoch 9/10\n",
      "134/134 [==============================] - 4s 32ms/step - loss: 2.0185 - accuracy: 0.2220\n",
      "Epoch 10/10\n",
      "134/134 [==============================] - 4s 33ms/step - loss: 2.0119 - accuracy: 0.2312\n"
     ]
    },
    {
     "name": "stderr",
     "output_type": "stream",
     "text": [
      "/usr/local/lib/python3.10/dist-packages/keras/src/engine/training.py:3079: UserWarning: You are saving your model as an HDF5 file via `model.save()`. This file format is considered legacy. We recommend using instead the native Keras format, e.g. `model.save('my_model.keras')`.\n",
      "  saving_api.save_model(\n"
     ]
    },
    {
     "name": "stdout",
     "output_type": "stream",
     "text": [
      "34/34 [==============================] - 1s 13ms/step\n",
      "Training RF for PRO3 (sliderNeutralPos)\n",
      "Training CNN for PRO3 (sliderNeutralPos)\n",
      "Epoch 1/10\n",
      "134/134 [==============================] - 1s 6ms/step - loss: 1.9506 - accuracy: 0.2743\n",
      "Epoch 2/10\n",
      "134/134 [==============================] - 1s 6ms/step - loss: 1.6611 - accuracy: 0.3808\n",
      "Epoch 3/10\n",
      "134/134 [==============================] - 1s 6ms/step - loss: 1.4579 - accuracy: 0.4607\n",
      "Epoch 4/10\n",
      "134/134 [==============================] - 1s 6ms/step - loss: 1.2526 - accuracy: 0.5437\n",
      "Epoch 5/10\n",
      "134/134 [==============================] - 1s 6ms/step - loss: 1.1034 - accuracy: 0.5981\n",
      "Epoch 6/10\n",
      "134/134 [==============================] - 1s 6ms/step - loss: 0.9509 - accuracy: 0.6546\n",
      "Epoch 7/10\n",
      "134/134 [==============================] - 1s 6ms/step - loss: 0.8113 - accuracy: 0.7069\n",
      "Epoch 8/10\n",
      "134/134 [==============================] - 1s 6ms/step - loss: 0.6893 - accuracy: 0.7571\n",
      "Epoch 9/10\n",
      "134/134 [==============================] - 1s 6ms/step - loss: 0.6141 - accuracy: 0.7876\n",
      "Epoch 10/10\n",
      "134/134 [==============================] - 1s 6ms/step - loss: 0.5294 - accuracy: 0.8164\n",
      "34/34 [==============================] - 0s 2ms/step\n"
     ]
    },
    {
     "name": "stderr",
     "output_type": "stream",
     "text": [
      "/usr/local/lib/python3.10/dist-packages/keras/src/engine/training.py:3079: UserWarning: You are saving your model as an HDF5 file via `model.save()`. This file format is considered legacy. We recommend using instead the native Keras format, e.g. `model.save('my_model.keras')`.\n",
      "  saving_api.save_model(\n"
     ]
    },
    {
     "name": "stdout",
     "output_type": "stream",
     "text": [
      "Training LSTM for PRO3 (sliderNeutralPos)\n",
      "Epoch 1/10\n",
      "134/134 [==============================] - 8s 41ms/step - loss: 2.0899 - accuracy: 0.2117\n",
      "Epoch 2/10\n",
      "134/134 [==============================] - 5s 39ms/step - loss: 2.0279 - accuracy: 0.2070\n",
      "Epoch 3/10\n",
      "134/134 [==============================] - 5s 39ms/step - loss: 2.0243 - accuracy: 0.2145\n",
      "Epoch 4/10\n",
      "134/134 [==============================] - 5s 35ms/step - loss: 2.0191 - accuracy: 0.2141\n",
      "Epoch 5/10\n",
      "134/134 [==============================] - 5s 36ms/step - loss: 2.0217 - accuracy: 0.2056\n",
      "Epoch 6/10\n",
      "134/134 [==============================] - 5s 41ms/step - loss: 2.0154 - accuracy: 0.2157\n",
      "Epoch 7/10\n",
      "134/134 [==============================] - 5s 38ms/step - loss: 2.0126 - accuracy: 0.2234\n",
      "Epoch 8/10\n",
      "134/134 [==============================] - 5s 35ms/step - loss: 2.0092 - accuracy: 0.2286\n",
      "Epoch 9/10\n",
      "134/134 [==============================] - 5s 39ms/step - loss: 2.0002 - accuracy: 0.2349\n",
      "Epoch 10/10\n",
      "134/134 [==============================] - 5s 38ms/step - loss: 1.9961 - accuracy: 0.2309\n"
     ]
    },
    {
     "name": "stderr",
     "output_type": "stream",
     "text": [
      "/usr/local/lib/python3.10/dist-packages/keras/src/engine/training.py:3079: UserWarning: You are saving your model as an HDF5 file via `model.save()`. This file format is considered legacy. We recommend using instead the native Keras format, e.g. `model.save('my_model.keras')`.\n",
      "  saving_api.save_model(\n"
     ]
    },
    {
     "name": "stdout",
     "output_type": "stream",
     "text": [
      "34/34 [==============================] - 1s 14ms/step\n",
      "Loading data from: folds_transformed/fold_1_train_scaled.csv\n",
      "Loading data from: folds_transformed/fold_1_test_scaled.csv\n",
      "Training RF for P1 (sliderNeutralPos)\n",
      "Training CNN for P1 (sliderNeutralPos)\n",
      "Epoch 1/10\n",
      "134/134 [==============================] - 1s 6ms/step - loss: 1.9307 - accuracy: 0.2940\n",
      "Epoch 2/10\n",
      "134/134 [==============================] - 1s 6ms/step - loss: 1.6490 - accuracy: 0.3944\n",
      "Epoch 3/10\n",
      "134/134 [==============================] - 1s 6ms/step - loss: 1.4471 - accuracy: 0.4668\n",
      "Epoch 4/10\n",
      "134/134 [==============================] - 1s 6ms/step - loss: 1.2503 - accuracy: 0.5435\n",
      "Epoch 5/10\n",
      "134/134 [==============================] - 1s 6ms/step - loss: 1.0873 - accuracy: 0.6138\n",
      "Epoch 6/10\n",
      "134/134 [==============================] - 1s 6ms/step - loss: 0.9638 - accuracy: 0.6539\n",
      "Epoch 7/10\n",
      "134/134 [==============================] - 1s 6ms/step - loss: 0.8221 - accuracy: 0.7067\n",
      "Epoch 8/10\n",
      "134/134 [==============================] - 1s 6ms/step - loss: 0.7148 - accuracy: 0.7428\n",
      "Epoch 9/10\n",
      "134/134 [==============================] - 1s 6ms/step - loss: 0.6239 - accuracy: 0.7796\n",
      "Epoch 10/10\n",
      "134/134 [==============================] - 1s 6ms/step - loss: 0.5360 - accuracy: 0.8082\n",
      "23/34 [===================>..........] - ETA: 0s"
     ]
    },
    {
     "name": "stderr",
     "output_type": "stream",
     "text": [
      "/usr/local/lib/python3.10/dist-packages/keras/src/engine/training.py:3079: UserWarning: You are saving your model as an HDF5 file via `model.save()`. This file format is considered legacy. We recommend using instead the native Keras format, e.g. `model.save('my_model.keras')`.\n",
      "  saving_api.save_model(\n"
     ]
    },
    {
     "name": "stdout",
     "output_type": "stream",
     "text": [
      "34/34 [==============================] - 0s 2ms/step\n",
      "Training LSTM for P1 (sliderNeutralPos)\n",
      "Epoch 1/10\n",
      "134/134 [==============================] - 19s 125ms/step - loss: 2.0972 - accuracy: 0.2485\n",
      "Epoch 2/10\n",
      "134/134 [==============================] - 16s 122ms/step - loss: 2.0313 - accuracy: 0.2345\n",
      "Epoch 3/10\n",
      "134/134 [==============================] - 15s 115ms/step - loss: 2.0197 - accuracy: 0.2427\n",
      "Epoch 4/10\n",
      "134/134 [==============================] - 15s 115ms/step - loss: 2.0111 - accuracy: 0.2539\n",
      "Epoch 5/10\n",
      "134/134 [==============================] - 15s 111ms/step - loss: 2.0035 - accuracy: 0.2485\n",
      "Epoch 6/10\n",
      "134/134 [==============================] - 14s 105ms/step - loss: 1.9896 - accuracy: 0.2546\n",
      "Epoch 7/10\n",
      "134/134 [==============================] - 14s 107ms/step - loss: 1.9711 - accuracy: 0.2434\n",
      "Epoch 8/10\n",
      "134/134 [==============================] - 14s 104ms/step - loss: 1.9576 - accuracy: 0.2560\n",
      "Epoch 9/10\n",
      "134/134 [==============================] - 13s 100ms/step - loss: 1.9404 - accuracy: 0.2645\n",
      "Epoch 10/10\n",
      "134/134 [==============================] - 14s 104ms/step - loss: 1.9172 - accuracy: 0.2722\n"
     ]
    },
    {
     "name": "stderr",
     "output_type": "stream",
     "text": [
      "/usr/local/lib/python3.10/dist-packages/keras/src/engine/training.py:3079: UserWarning: You are saving your model as an HDF5 file via `model.save()`. This file format is considered legacy. We recommend using instead the native Keras format, e.g. `model.save('my_model.keras')`.\n",
      "  saving_api.save_model(\n"
     ]
    },
    {
     "name": "stdout",
     "output_type": "stream",
     "text": [
      "34/34 [==============================] - 1s 31ms/step\n",
      "Training RF for N1 (sliderNeutralPos)\n",
      "Training CNN for N1 (sliderNeutralPos)\n",
      "Epoch 1/10\n",
      "134/134 [==============================] - 1s 6ms/step - loss: 1.9247 - accuracy: 0.3454\n",
      "Epoch 2/10\n",
      "134/134 [==============================] - 1s 6ms/step - loss: 1.6427 - accuracy: 0.4345\n",
      "Epoch 3/10\n",
      "134/134 [==============================] - 1s 6ms/step - loss: 1.4278 - accuracy: 0.5029\n",
      "Epoch 4/10\n",
      "134/134 [==============================] - 1s 6ms/step - loss: 1.2459 - accuracy: 0.5665\n",
      "Epoch 5/10\n",
      "134/134 [==============================] - 1s 6ms/step - loss: 1.0753 - accuracy: 0.6223\n",
      "Epoch 6/10\n",
      "134/134 [==============================] - 1s 6ms/step - loss: 0.9416 - accuracy: 0.6675\n",
      "Epoch 7/10\n",
      "134/134 [==============================] - 1s 6ms/step - loss: 0.8222 - accuracy: 0.7184\n",
      "Epoch 8/10\n",
      "134/134 [==============================] - 1s 6ms/step - loss: 0.7207 - accuracy: 0.7428\n",
      "Epoch 9/10\n",
      "134/134 [==============================] - 1s 6ms/step - loss: 0.6112 - accuracy: 0.7843\n",
      "Epoch 10/10\n",
      "134/134 [==============================] - 1s 6ms/step - loss: 0.5606 - accuracy: 0.8073\n",
      "34/34 [==============================] - 0s 2ms/step\n"
     ]
    },
    {
     "name": "stderr",
     "output_type": "stream",
     "text": [
      "/usr/local/lib/python3.10/dist-packages/keras/src/engine/training.py:3079: UserWarning: You are saving your model as an HDF5 file via `model.save()`. This file format is considered legacy. We recommend using instead the native Keras format, e.g. `model.save('my_model.keras')`.\n",
      "  saving_api.save_model(\n"
     ]
    },
    {
     "name": "stdout",
     "output_type": "stream",
     "text": [
      "Training LSTM for N1 (sliderNeutralPos)\n",
      "Epoch 1/10\n",
      "134/134 [==============================] - 19s 127ms/step - loss: 2.1462 - accuracy: 0.2256\n",
      "Epoch 2/10\n",
      "134/134 [==============================] - 16s 119ms/step - loss: 2.0921 - accuracy: 0.2300\n",
      "Epoch 3/10\n",
      "134/134 [==============================] - 16s 120ms/step - loss: 2.0838 - accuracy: 0.2300\n",
      "Epoch 4/10\n",
      "134/134 [==============================] - 16s 121ms/step - loss: 2.0710 - accuracy: 0.2356\n",
      "Epoch 5/10\n",
      "134/134 [==============================] - 15s 114ms/step - loss: 2.0632 - accuracy: 0.2403\n",
      "Epoch 6/10\n",
      "134/134 [==============================] - 15s 110ms/step - loss: 2.0503 - accuracy: 0.2492\n",
      "Epoch 7/10\n",
      "134/134 [==============================] - 14s 106ms/step - loss: 2.0464 - accuracy: 0.2502\n",
      "Epoch 8/10\n",
      "134/134 [==============================] - 16s 117ms/step - loss: 2.0384 - accuracy: 0.2497\n",
      "Epoch 9/10\n",
      "134/134 [==============================] - 16s 119ms/step - loss: 2.0360 - accuracy: 0.2546\n",
      "Epoch 10/10\n",
      "134/134 [==============================] - 17s 126ms/step - loss: 2.0218 - accuracy: 0.2624\n"
     ]
    },
    {
     "name": "stderr",
     "output_type": "stream",
     "text": [
      "/usr/local/lib/python3.10/dist-packages/keras/src/engine/training.py:3079: UserWarning: You are saving your model as an HDF5 file via `model.save()`. This file format is considered legacy. We recommend using instead the native Keras format, e.g. `model.save('my_model.keras')`.\n",
      "  saving_api.save_model(\n"
     ]
    },
    {
     "name": "stdout",
     "output_type": "stream",
     "text": [
      "34/34 [==============================] - 2s 36ms/step\n",
      "Training RF for P2 (sliderNeutralPos)\n",
      "Training CNN for P2 (sliderNeutralPos)\n",
      "Epoch 1/10\n",
      "134/134 [==============================] - 1s 6ms/step - loss: 1.9265 - accuracy: 0.2720\n",
      "Epoch 2/10\n",
      "134/134 [==============================] - 1s 6ms/step - loss: 1.6365 - accuracy: 0.3897\n",
      "Epoch 3/10\n",
      "134/134 [==============================] - 1s 6ms/step - loss: 1.4211 - accuracy: 0.4825\n",
      "Epoch 4/10\n",
      "134/134 [==============================] - 1s 6ms/step - loss: 1.2363 - accuracy: 0.5540\n",
      "Epoch 5/10\n",
      "134/134 [==============================] - 1s 6ms/step - loss: 1.0735 - accuracy: 0.6192\n",
      "Epoch 6/10\n",
      "134/134 [==============================] - 1s 6ms/step - loss: 0.9139 - accuracy: 0.6760\n",
      "Epoch 7/10\n",
      "134/134 [==============================] - 1s 6ms/step - loss: 0.8001 - accuracy: 0.7198\n",
      "Epoch 8/10\n",
      "134/134 [==============================] - 1s 6ms/step - loss: 0.6841 - accuracy: 0.7562\n",
      "Epoch 9/10\n",
      "134/134 [==============================] - 1s 6ms/step - loss: 0.5888 - accuracy: 0.7871\n",
      "Epoch 10/10\n",
      "134/134 [==============================] - 1s 6ms/step - loss: 0.5157 - accuracy: 0.8223\n",
      "23/34 [===================>..........] - ETA: 0s"
     ]
    },
    {
     "name": "stderr",
     "output_type": "stream",
     "text": [
      "/usr/local/lib/python3.10/dist-packages/keras/src/engine/training.py:3079: UserWarning: You are saving your model as an HDF5 file via `model.save()`. This file format is considered legacy. We recommend using instead the native Keras format, e.g. `model.save('my_model.keras')`.\n",
      "  saving_api.save_model(\n"
     ]
    },
    {
     "name": "stdout",
     "output_type": "stream",
     "text": [
      "34/34 [==============================] - 0s 2ms/step\n",
      "Training LSTM for P2 (sliderNeutralPos)\n",
      "Epoch 1/10\n",
      "134/134 [==============================] - 20s 126ms/step - loss: 2.1214 - accuracy: 0.1873\n",
      "Epoch 2/10\n",
      "134/134 [==============================] - 17s 128ms/step - loss: 2.0381 - accuracy: 0.2068\n",
      "Epoch 3/10\n",
      "134/134 [==============================] - 17s 126ms/step - loss: 2.0399 - accuracy: 0.2056\n",
      "Epoch 4/10\n",
      "134/134 [==============================] - 16s 122ms/step - loss: 2.0277 - accuracy: 0.2098\n",
      "Epoch 5/10\n",
      "134/134 [==============================] - 17s 124ms/step - loss: 2.0237 - accuracy: 0.1993\n",
      "Epoch 6/10\n",
      "134/134 [==============================] - 17s 124ms/step - loss: 2.0259 - accuracy: 0.2192\n",
      "Epoch 7/10\n",
      "134/134 [==============================] - 16s 122ms/step - loss: 2.0176 - accuracy: 0.2199\n",
      "Epoch 8/10\n",
      "134/134 [==============================] - 17s 124ms/step - loss: 2.0088 - accuracy: 0.2143\n",
      "Epoch 9/10\n",
      "134/134 [==============================] - 17s 125ms/step - loss: 2.0056 - accuracy: 0.2131\n",
      "Epoch 10/10\n",
      "134/134 [==============================] - 16s 123ms/step - loss: 2.0013 - accuracy: 0.2117\n"
     ]
    },
    {
     "name": "stderr",
     "output_type": "stream",
     "text": [
      "/usr/local/lib/python3.10/dist-packages/keras/src/engine/training.py:3079: UserWarning: You are saving your model as an HDF5 file via `model.save()`. This file format is considered legacy. We recommend using instead the native Keras format, e.g. `model.save('my_model.keras')`.\n",
      "  saving_api.save_model(\n"
     ]
    },
    {
     "name": "stdout",
     "output_type": "stream",
     "text": [
      "34/34 [==============================] - 2s 34ms/step\n",
      "Training RF for N2 (sliderNeutralPos)\n",
      "Training CNN for N2 (sliderNeutralPos)\n",
      "Epoch 1/10\n",
      "134/134 [==============================] - 1s 6ms/step - loss: 1.7846 - accuracy: 0.3770\n",
      "Epoch 2/10\n",
      "134/134 [==============================] - 1s 6ms/step - loss: 1.4941 - accuracy: 0.4675\n",
      "Epoch 3/10\n",
      "134/134 [==============================] - 1s 6ms/step - loss: 1.2921 - accuracy: 0.5437\n",
      "Epoch 4/10\n",
      "134/134 [==============================] - 1s 6ms/step - loss: 1.1291 - accuracy: 0.6035\n",
      "Epoch 5/10\n",
      "134/134 [==============================] - 1s 6ms/step - loss: 0.9912 - accuracy: 0.6511\n",
      "Epoch 6/10\n",
      "134/134 [==============================] - 1s 6ms/step - loss: 0.8740 - accuracy: 0.6917\n",
      "Epoch 7/10\n",
      "134/134 [==============================] - 1s 6ms/step - loss: 0.7554 - accuracy: 0.7325\n",
      "Epoch 8/10\n",
      "134/134 [==============================] - 1s 6ms/step - loss: 0.6629 - accuracy: 0.7700\n",
      "Epoch 9/10\n",
      "134/134 [==============================] - 1s 6ms/step - loss: 0.5883 - accuracy: 0.7845\n",
      "Epoch 10/10\n",
      "134/134 [==============================] - 1s 6ms/step - loss: 0.5073 - accuracy: 0.8157\n",
      "34/34 [==============================] - 0s 2ms/step\n"
     ]
    },
    {
     "name": "stderr",
     "output_type": "stream",
     "text": [
      "/usr/local/lib/python3.10/dist-packages/keras/src/engine/training.py:3079: UserWarning: You are saving your model as an HDF5 file via `model.save()`. This file format is considered legacy. We recommend using instead the native Keras format, e.g. `model.save('my_model.keras')`.\n",
      "  saving_api.save_model(\n"
     ]
    },
    {
     "name": "stdout",
     "output_type": "stream",
     "text": [
      "Training LSTM for N2 (sliderNeutralPos)\n",
      "Epoch 1/10\n",
      "134/134 [==============================] - 19s 127ms/step - loss: 1.9673 - accuracy: 0.3372\n",
      "Epoch 2/10\n",
      "134/134 [==============================] - 17s 124ms/step - loss: 1.8648 - accuracy: 0.3508\n",
      "Epoch 3/10\n",
      "134/134 [==============================] - 17s 125ms/step - loss: 1.8695 - accuracy: 0.3402\n",
      "Epoch 4/10\n",
      "134/134 [==============================] - 16s 122ms/step - loss: 1.8402 - accuracy: 0.3472\n",
      "Epoch 5/10\n",
      "134/134 [==============================] - 16s 118ms/step - loss: 1.8349 - accuracy: 0.3444\n",
      "Epoch 6/10\n",
      "134/134 [==============================] - 17s 124ms/step - loss: 1.8212 - accuracy: 0.3533\n",
      "Epoch 7/10\n",
      "134/134 [==============================] - 16s 122ms/step - loss: 1.8148 - accuracy: 0.3531\n",
      "Epoch 8/10\n",
      "134/134 [==============================] - 16s 119ms/step - loss: 1.8047 - accuracy: 0.3571\n",
      "Epoch 9/10\n",
      "134/134 [==============================] - 17s 124ms/step - loss: 1.7935 - accuracy: 0.3615\n",
      "Epoch 10/10\n",
      "134/134 [==============================] - 17s 127ms/step - loss: 1.7879 - accuracy: 0.3592\n"
     ]
    },
    {
     "name": "stderr",
     "output_type": "stream",
     "text": [
      "/usr/local/lib/python3.10/dist-packages/keras/src/engine/training.py:3079: UserWarning: You are saving your model as an HDF5 file via `model.save()`. This file format is considered legacy. We recommend using instead the native Keras format, e.g. `model.save('my_model.keras')`.\n",
      "  saving_api.save_model(\n"
     ]
    },
    {
     "name": "stdout",
     "output_type": "stream",
     "text": [
      "34/34 [==============================] - 2s 34ms/step\n",
      "Training RF for N3 (sliderNeutralPos)\n",
      "Training CNN for N3 (sliderNeutralPos)\n",
      "Epoch 1/10\n",
      "134/134 [==============================] - 1s 6ms/step - loss: 1.8784 - accuracy: 0.3360\n",
      "Epoch 2/10\n",
      "134/134 [==============================] - 1s 6ms/step - loss: 1.5760 - accuracy: 0.4420\n",
      "Epoch 3/10\n",
      "134/134 [==============================] - 1s 6ms/step - loss: 1.3370 - accuracy: 0.5245\n",
      "Epoch 4/10\n",
      "134/134 [==============================] - 1s 6ms/step - loss: 1.1567 - accuracy: 0.5972\n",
      "Epoch 5/10\n",
      "134/134 [==============================] - 1s 6ms/step - loss: 0.9901 - accuracy: 0.6471\n",
      "Epoch 6/10\n",
      "134/134 [==============================] - 1s 6ms/step - loss: 0.8718 - accuracy: 0.6952\n",
      "Epoch 7/10\n",
      "134/134 [==============================] - 1s 6ms/step - loss: 0.7281 - accuracy: 0.7465\n",
      "Epoch 8/10\n",
      "134/134 [==============================] - 1s 6ms/step - loss: 0.6512 - accuracy: 0.7681\n",
      "Epoch 9/10\n",
      "134/134 [==============================] - 1s 6ms/step - loss: 0.5534 - accuracy: 0.8120\n",
      "Epoch 10/10\n",
      "134/134 [==============================] - 1s 6ms/step - loss: 0.4833 - accuracy: 0.8309\n",
      "34/34 [==============================] - 0s 2ms/step\n"
     ]
    },
    {
     "name": "stderr",
     "output_type": "stream",
     "text": [
      "/usr/local/lib/python3.10/dist-packages/keras/src/engine/training.py:3079: UserWarning: You are saving your model as an HDF5 file via `model.save()`. This file format is considered legacy. We recommend using instead the native Keras format, e.g. `model.save('my_model.keras')`.\n",
      "  saving_api.save_model(\n"
     ]
    },
    {
     "name": "stdout",
     "output_type": "stream",
     "text": [
      "Training LSTM for N3 (sliderNeutralPos)\n",
      "Epoch 1/10\n",
      "134/134 [==============================] - 19s 124ms/step - loss: 2.0841 - accuracy: 0.2626\n",
      "Epoch 2/10\n",
      "134/134 [==============================] - 14s 104ms/step - loss: 2.0180 - accuracy: 0.2725\n",
      "Epoch 3/10\n",
      "134/134 [==============================] - 16s 117ms/step - loss: 2.0018 - accuracy: 0.2839\n",
      "Epoch 4/10\n",
      "134/134 [==============================] - 16s 116ms/step - loss: 1.9814 - accuracy: 0.2919\n",
      "Epoch 5/10\n",
      "134/134 [==============================] - 16s 117ms/step - loss: 1.9744 - accuracy: 0.2912\n",
      "Epoch 6/10\n",
      "134/134 [==============================] - 15s 109ms/step - loss: 1.9705 - accuracy: 0.2987\n",
      "Epoch 7/10\n",
      "134/134 [==============================] - 15s 112ms/step - loss: 1.9581 - accuracy: 0.2982\n",
      "Epoch 8/10\n",
      "134/134 [==============================] - 17s 127ms/step - loss: 1.9529 - accuracy: 0.2985\n",
      "Epoch 9/10\n",
      "134/134 [==============================] - 17s 126ms/step - loss: 1.9475 - accuracy: 0.2982\n",
      "Epoch 10/10\n",
      "134/134 [==============================] - 17s 124ms/step - loss: 1.9317 - accuracy: 0.3111\n"
     ]
    },
    {
     "name": "stderr",
     "output_type": "stream",
     "text": [
      "/usr/local/lib/python3.10/dist-packages/keras/src/engine/training.py:3079: UserWarning: You are saving your model as an HDF5 file via `model.save()`. This file format is considered legacy. We recommend using instead the native Keras format, e.g. `model.save('my_model.keras')`.\n",
      "  saving_api.save_model(\n"
     ]
    },
    {
     "name": "stdout",
     "output_type": "stream",
     "text": [
      "34/34 [==============================] - 2s 33ms/step\n",
      "Training RF for P3 (sliderNeutralPos)\n",
      "Training CNN for P3 (sliderNeutralPos)\n",
      "Epoch 1/10\n",
      "134/134 [==============================] - 1s 6ms/step - loss: 2.0026 - accuracy: 0.2657\n",
      "Epoch 2/10\n",
      "134/134 [==============================] - 1s 6ms/step - loss: 1.7339 - accuracy: 0.3737\n",
      "Epoch 3/10\n",
      "134/134 [==============================] - 1s 6ms/step - loss: 1.5002 - accuracy: 0.4535\n",
      "Epoch 4/10\n",
      "134/134 [==============================] - 1s 6ms/step - loss: 1.2961 - accuracy: 0.5346\n",
      "Epoch 5/10\n",
      "134/134 [==============================] - 1s 6ms/step - loss: 1.1186 - accuracy: 0.5993\n",
      "Epoch 6/10\n",
      "134/134 [==============================] - 1s 6ms/step - loss: 0.9741 - accuracy: 0.6483\n",
      "Epoch 7/10\n",
      "134/134 [==============================] - 1s 6ms/step - loss: 0.8441 - accuracy: 0.6978\n",
      "Epoch 8/10\n",
      "134/134 [==============================] - 1s 6ms/step - loss: 0.7417 - accuracy: 0.7407\n",
      "Epoch 9/10\n",
      "134/134 [==============================] - 1s 6ms/step - loss: 0.6074 - accuracy: 0.7824\n",
      "Epoch 10/10\n",
      "134/134 [==============================] - 1s 6ms/step - loss: 0.5338 - accuracy: 0.8131\n",
      "24/34 [====================>.........] - ETA: 0s"
     ]
    },
    {
     "name": "stderr",
     "output_type": "stream",
     "text": [
      "/usr/local/lib/python3.10/dist-packages/keras/src/engine/training.py:3079: UserWarning: You are saving your model as an HDF5 file via `model.save()`. This file format is considered legacy. We recommend using instead the native Keras format, e.g. `model.save('my_model.keras')`.\n",
      "  saving_api.save_model(\n"
     ]
    },
    {
     "name": "stdout",
     "output_type": "stream",
     "text": [
      "34/34 [==============================] - 0s 2ms/step\n",
      "Training LSTM for P3 (sliderNeutralPos)\n",
      "Epoch 1/10\n",
      "134/134 [==============================] - 19s 127ms/step - loss: 2.1580 - accuracy: 0.1735\n",
      "Epoch 2/10\n",
      "134/134 [==============================] - 17s 126ms/step - loss: 2.0831 - accuracy: 0.1859\n",
      "Epoch 3/10\n",
      "134/134 [==============================] - 17s 126ms/step - loss: 2.0633 - accuracy: 0.2073\n",
      "Epoch 4/10\n",
      "134/134 [==============================] - 17s 126ms/step - loss: 2.0461 - accuracy: 0.1988\n",
      "Epoch 5/10\n",
      "134/134 [==============================] - 17s 126ms/step - loss: 2.0636 - accuracy: 0.1899\n",
      "Epoch 6/10\n",
      "134/134 [==============================] - 16s 119ms/step - loss: 2.0887 - accuracy: 0.1923\n",
      "Epoch 7/10\n",
      "134/134 [==============================] - 16s 118ms/step - loss: 2.0812 - accuracy: 0.1845\n",
      "Epoch 8/10\n",
      "134/134 [==============================] - 16s 119ms/step - loss: 2.0553 - accuracy: 0.1962\n",
      "Epoch 9/10\n",
      "134/134 [==============================] - 15s 115ms/step - loss: 2.1038 - accuracy: 0.1862\n",
      "Epoch 10/10\n",
      "134/134 [==============================] - 14s 108ms/step - loss: 2.0981 - accuracy: 0.1887\n"
     ]
    },
    {
     "name": "stderr",
     "output_type": "stream",
     "text": [
      "/usr/local/lib/python3.10/dist-packages/keras/src/engine/training.py:3079: UserWarning: You are saving your model as an HDF5 file via `model.save()`. This file format is considered legacy. We recommend using instead the native Keras format, e.g. `model.save('my_model.keras')`.\n",
      "  saving_api.save_model(\n"
     ]
    },
    {
     "name": "stdout",
     "output_type": "stream",
     "text": [
      "34/34 [==============================] - 2s 33ms/step\n",
      "Training RF for SE1 (sliderNegPos)\n",
      "Training CNN for SE1 (sliderNegPos)\n",
      "Epoch 1/10\n",
      "134/134 [==============================] - 1s 6ms/step - loss: 1.1135 - accuracy: 0.5055\n",
      "Epoch 2/10\n",
      "134/134 [==============================] - 1s 6ms/step - loss: 0.9641 - accuracy: 0.5597\n",
      "Epoch 3/10\n",
      "134/134 [==============================] - 1s 6ms/step - loss: 0.8940 - accuracy: 0.5984\n",
      "Epoch 4/10\n",
      "134/134 [==============================] - 1s 6ms/step - loss: 0.8175 - accuracy: 0.6394\n",
      "Epoch 5/10\n",
      "134/134 [==============================] - 1s 6ms/step - loss: 0.7476 - accuracy: 0.6748\n",
      "Epoch 6/10\n",
      "134/134 [==============================] - 1s 6ms/step - loss: 0.6691 - accuracy: 0.7144\n",
      "Epoch 7/10\n",
      "134/134 [==============================] - 1s 6ms/step - loss: 0.5824 - accuracy: 0.7566\n",
      "Epoch 8/10\n",
      "134/134 [==============================] - 1s 6ms/step - loss: 0.5143 - accuracy: 0.7932\n",
      "Epoch 9/10\n",
      "134/134 [==============================] - 1s 6ms/step - loss: 0.4723 - accuracy: 0.8091\n",
      "Epoch 10/10\n",
      "134/134 [==============================] - 1s 6ms/step - loss: 0.4087 - accuracy: 0.8403\n",
      "34/34 [==============================] - 0s 2ms/step\n"
     ]
    },
    {
     "name": "stderr",
     "output_type": "stream",
     "text": [
      "/usr/local/lib/python3.10/dist-packages/keras/src/engine/training.py:3079: UserWarning: You are saving your model as an HDF5 file via `model.save()`. This file format is considered legacy. We recommend using instead the native Keras format, e.g. `model.save('my_model.keras')`.\n",
      "  saving_api.save_model(\n"
     ]
    },
    {
     "name": "stdout",
     "output_type": "stream",
     "text": [
      "Training LSTM for SE1 (sliderNegPos)\n",
      "Epoch 1/10\n",
      "134/134 [==============================] - 19s 125ms/step - loss: 1.3094 - accuracy: 0.4940\n",
      "Epoch 2/10\n",
      "134/134 [==============================] - 17s 126ms/step - loss: 1.1228 - accuracy: 0.5175\n",
      "Epoch 3/10\n",
      "134/134 [==============================] - 17s 125ms/step - loss: 1.1083 - accuracy: 0.5245\n",
      "Epoch 4/10\n",
      "134/134 [==============================] - 17s 127ms/step - loss: 1.1054 - accuracy: 0.5259\n",
      "Epoch 5/10\n",
      "134/134 [==============================] - 17s 126ms/step - loss: 1.1014 - accuracy: 0.5261\n",
      "Epoch 6/10\n",
      "134/134 [==============================] - 17s 126ms/step - loss: 1.1012 - accuracy: 0.5259\n",
      "Epoch 7/10\n",
      "134/134 [==============================] - 17s 125ms/step - loss: 1.0981 - accuracy: 0.5259\n",
      "Epoch 8/10\n",
      "134/134 [==============================] - 16s 119ms/step - loss: 1.0967 - accuracy: 0.5259\n",
      "Epoch 9/10\n",
      "134/134 [==============================] - 16s 121ms/step - loss: 1.0942 - accuracy: 0.5259\n",
      "Epoch 10/10\n",
      "134/134 [==============================] - 17s 125ms/step - loss: 1.0976 - accuracy: 0.5261\n"
     ]
    },
    {
     "name": "stderr",
     "output_type": "stream",
     "text": [
      "/usr/local/lib/python3.10/dist-packages/keras/src/engine/training.py:3079: UserWarning: You are saving your model as an HDF5 file via `model.save()`. This file format is considered legacy. We recommend using instead the native Keras format, e.g. `model.save('my_model.keras')`.\n",
      "  saving_api.save_model(\n"
     ]
    },
    {
     "name": "stdout",
     "output_type": "stream",
     "text": [
      "34/34 [==============================] - 2s 35ms/step\n",
      "Training RF for SE2 (sliderNeutralPos)\n",
      "Training CNN for SE2 (sliderNeutralPos)\n",
      "Epoch 1/10\n",
      "134/134 [==============================] - 1s 6ms/step - loss: 1.1220 - accuracy: 0.4898\n",
      "Epoch 2/10\n",
      "134/134 [==============================] - 1s 6ms/step - loss: 0.9410 - accuracy: 0.5651\n",
      "Epoch 3/10\n",
      "134/134 [==============================] - 1s 6ms/step - loss: 0.8498 - accuracy: 0.6190\n",
      "Epoch 4/10\n",
      "134/134 [==============================] - 1s 6ms/step - loss: 0.7653 - accuracy: 0.6628\n",
      "Epoch 5/10\n",
      "134/134 [==============================] - 1s 6ms/step - loss: 0.6842 - accuracy: 0.7156\n",
      "Epoch 6/10\n",
      "134/134 [==============================] - 1s 6ms/step - loss: 0.6083 - accuracy: 0.7491\n",
      "Epoch 7/10\n",
      "134/134 [==============================] - 1s 6ms/step - loss: 0.5401 - accuracy: 0.7845\n",
      "Epoch 8/10\n",
      "134/134 [==============================] - 1s 6ms/step - loss: 0.4844 - accuracy: 0.7998\n",
      "Epoch 9/10\n",
      "134/134 [==============================] - 1s 6ms/step - loss: 0.4263 - accuracy: 0.8321\n",
      "Epoch 10/10\n",
      "134/134 [==============================] - 1s 6ms/step - loss: 0.3735 - accuracy: 0.8537\n",
      "34/34 [==============================] - 0s 2ms/step\n"
     ]
    },
    {
     "name": "stderr",
     "output_type": "stream",
     "text": [
      "/usr/local/lib/python3.10/dist-packages/keras/src/engine/training.py:3079: UserWarning: You are saving your model as an HDF5 file via `model.save()`. This file format is considered legacy. We recommend using instead the native Keras format, e.g. `model.save('my_model.keras')`.\n",
      "  saving_api.save_model(\n"
     ]
    },
    {
     "name": "stdout",
     "output_type": "stream",
     "text": [
      "Training LSTM for SE2 (sliderNeutralPos)\n",
      "Epoch 1/10\n",
      "134/134 [==============================] - 20s 126ms/step - loss: 1.2955 - accuracy: 0.4239\n",
      "Epoch 2/10\n",
      "134/134 [==============================] - 17s 125ms/step - loss: 1.1217 - accuracy: 0.4188\n",
      "Epoch 3/10\n",
      "134/134 [==============================] - 16s 120ms/step - loss: 1.1085 - accuracy: 0.4192\n",
      "Epoch 4/10\n",
      "134/134 [==============================] - 17s 123ms/step - loss: 1.1063 - accuracy: 0.4230\n",
      "Epoch 5/10\n",
      "134/134 [==============================] - 17s 128ms/step - loss: 1.1032 - accuracy: 0.4244\n",
      "Epoch 6/10\n",
      "134/134 [==============================] - 16s 117ms/step - loss: 1.0992 - accuracy: 0.4298\n",
      "Epoch 7/10\n",
      "134/134 [==============================] - 15s 113ms/step - loss: 1.0967 - accuracy: 0.4406\n",
      "Epoch 8/10\n",
      "134/134 [==============================] - 15s 109ms/step - loss: 1.0956 - accuracy: 0.4368\n",
      "Epoch 9/10\n",
      "134/134 [==============================] - 17s 125ms/step - loss: 1.0941 - accuracy: 0.4455\n",
      "Epoch 10/10\n",
      "134/134 [==============================] - 17s 127ms/step - loss: 1.0862 - accuracy: 0.4708\n"
     ]
    },
    {
     "name": "stderr",
     "output_type": "stream",
     "text": [
      "/usr/local/lib/python3.10/dist-packages/keras/src/engine/training.py:3079: UserWarning: You are saving your model as an HDF5 file via `model.save()`. This file format is considered legacy. We recommend using instead the native Keras format, e.g. `model.save('my_model.keras')`.\n",
      "  saving_api.save_model(\n"
     ]
    },
    {
     "name": "stdout",
     "output_type": "stream",
     "text": [
      "34/34 [==============================] - 2s 36ms/step\n",
      "Training RF for SE3 (sliderNeutralPos)\n",
      "Training CNN for SE3 (sliderNeutralPos)\n",
      "Epoch 1/10\n",
      "134/134 [==============================] - 1s 6ms/step - loss: 1.1560 - accuracy: 0.4767\n",
      "Epoch 2/10\n",
      "134/134 [==============================] - 1s 6ms/step - loss: 1.0059 - accuracy: 0.5451\n",
      "Epoch 3/10\n",
      "134/134 [==============================] - 1s 6ms/step - loss: 0.9181 - accuracy: 0.5939\n",
      "Epoch 4/10\n",
      "134/134 [==============================] - 1s 6ms/step - loss: 0.8349 - accuracy: 0.6370\n",
      "Epoch 5/10\n",
      "134/134 [==============================] - 1s 6ms/step - loss: 0.7463 - accuracy: 0.6886\n",
      "Epoch 6/10\n",
      "134/134 [==============================] - 1s 6ms/step - loss: 0.6746 - accuracy: 0.7238\n",
      "Epoch 7/10\n",
      "134/134 [==============================] - 1s 6ms/step - loss: 0.5865 - accuracy: 0.7625\n",
      "Epoch 8/10\n",
      "134/134 [==============================] - 1s 6ms/step - loss: 0.5269 - accuracy: 0.7878\n",
      "Epoch 9/10\n",
      "134/134 [==============================] - 1s 6ms/step - loss: 0.4617 - accuracy: 0.8148\n",
      "Epoch 10/10\n",
      "134/134 [==============================] - 1s 6ms/step - loss: 0.4139 - accuracy: 0.8366\n",
      "34/34 [==============================] - 0s 2ms/step\n"
     ]
    },
    {
     "name": "stderr",
     "output_type": "stream",
     "text": [
      "/usr/local/lib/python3.10/dist-packages/keras/src/engine/training.py:3079: UserWarning: You are saving your model as an HDF5 file via `model.save()`. This file format is considered legacy. We recommend using instead the native Keras format, e.g. `model.save('my_model.keras')`.\n",
      "  saving_api.save_model(\n"
     ]
    },
    {
     "name": "stdout",
     "output_type": "stream",
     "text": [
      "Training LSTM for SE3 (sliderNeutralPos)\n",
      "Epoch 1/10\n",
      "134/134 [==============================] - 19s 125ms/step - loss: 1.3795 - accuracy: 0.4052\n",
      "Epoch 2/10\n",
      "134/134 [==============================] - 16s 121ms/step - loss: 1.1762 - accuracy: 0.4148\n",
      "Epoch 3/10\n",
      "134/134 [==============================] - 16s 122ms/step - loss: 1.1578 - accuracy: 0.4298\n",
      "Epoch 4/10\n",
      "134/134 [==============================] - 16s 119ms/step - loss: 1.1597 - accuracy: 0.4324\n",
      "Epoch 5/10\n",
      "134/134 [==============================] - 17s 127ms/step - loss: 1.1439 - accuracy: 0.4476\n",
      "Epoch 6/10\n",
      "134/134 [==============================] - 17s 127ms/step - loss: 1.1457 - accuracy: 0.4518\n",
      "Epoch 7/10\n",
      "134/134 [==============================] - 17s 126ms/step - loss: 1.1420 - accuracy: 0.4492\n",
      "Epoch 8/10\n",
      "134/134 [==============================] - 15s 116ms/step - loss: 1.1344 - accuracy: 0.4621\n",
      "Epoch 9/10\n",
      "134/134 [==============================] - 17s 125ms/step - loss: 1.1333 - accuracy: 0.4624\n",
      "Epoch 10/10\n",
      "134/134 [==============================] - 17s 126ms/step - loss: 1.1286 - accuracy: 0.4739\n"
     ]
    },
    {
     "name": "stderr",
     "output_type": "stream",
     "text": [
      "/usr/local/lib/python3.10/dist-packages/keras/src/engine/training.py:3079: UserWarning: You are saving your model as an HDF5 file via `model.save()`. This file format is considered legacy. We recommend using instead the native Keras format, e.g. `model.save('my_model.keras')`.\n",
      "  saving_api.save_model(\n"
     ]
    },
    {
     "name": "stdout",
     "output_type": "stream",
     "text": [
      "34/34 [==============================] - 2s 35ms/step\n",
      "Training RF for SE4 (sliderNeutralPos)\n",
      "Training CNN for SE4 (sliderNeutralPos)\n",
      "Epoch 1/10\n",
      "134/134 [==============================] - 1s 6ms/step - loss: 1.0277 - accuracy: 0.5805\n",
      "Epoch 2/10\n",
      "134/134 [==============================] - 1s 6ms/step - loss: 0.8857 - accuracy: 0.6176\n",
      "Epoch 3/10\n",
      "134/134 [==============================] - 1s 6ms/step - loss: 0.8184 - accuracy: 0.6535\n",
      "Epoch 4/10\n",
      "134/134 [==============================] - 1s 6ms/step - loss: 0.7537 - accuracy: 0.6746\n",
      "Epoch 5/10\n",
      "134/134 [==============================] - 1s 6ms/step - loss: 0.6697 - accuracy: 0.7109\n",
      "Epoch 6/10\n",
      "134/134 [==============================] - 1s 6ms/step - loss: 0.6048 - accuracy: 0.7487\n",
      "Epoch 7/10\n",
      "134/134 [==============================] - 1s 6ms/step - loss: 0.5391 - accuracy: 0.7723\n",
      "Epoch 8/10\n",
      "134/134 [==============================] - 1s 6ms/step - loss: 0.4770 - accuracy: 0.8042\n",
      "Epoch 9/10\n",
      "134/134 [==============================] - 1s 6ms/step - loss: 0.4146 - accuracy: 0.8396\n",
      "Epoch 10/10\n",
      "134/134 [==============================] - 1s 6ms/step - loss: 0.3653 - accuracy: 0.8581\n",
      "34/34 [==============================] - 0s 2ms/step\n"
     ]
    },
    {
     "name": "stderr",
     "output_type": "stream",
     "text": [
      "/usr/local/lib/python3.10/dist-packages/keras/src/engine/training.py:3079: UserWarning: You are saving your model as an HDF5 file via `model.save()`. This file format is considered legacy. We recommend using instead the native Keras format, e.g. `model.save('my_model.keras')`.\n",
      "  saving_api.save_model(\n"
     ]
    },
    {
     "name": "stdout",
     "output_type": "stream",
     "text": [
      "Training LSTM for SE4 (sliderNeutralPos)\n",
      "Epoch 1/10\n",
      "134/134 [==============================] - 19s 127ms/step - loss: 1.2153 - accuracy: 0.5810\n",
      "Epoch 2/10\n",
      "134/134 [==============================] - 16s 121ms/step - loss: 1.0266 - accuracy: 0.5937\n",
      "Epoch 3/10\n",
      "134/134 [==============================] - 15s 112ms/step - loss: 1.0209 - accuracy: 0.5958\n",
      "Epoch 4/10\n",
      "134/134 [==============================] - 15s 110ms/step - loss: 1.0188 - accuracy: 0.5960\n",
      "Epoch 5/10\n",
      "134/134 [==============================] - 14s 104ms/step - loss: 1.0137 - accuracy: 0.5960\n",
      "Epoch 6/10\n",
      "134/134 [==============================] - 14s 108ms/step - loss: 1.0111 - accuracy: 0.5960\n",
      "Epoch 7/10\n",
      "134/134 [==============================] - 16s 122ms/step - loss: 1.0040 - accuracy: 0.5960\n",
      "Epoch 8/10\n",
      "134/134 [==============================] - 17s 126ms/step - loss: 1.0044 - accuracy: 0.5960\n",
      "Epoch 9/10\n",
      "134/134 [==============================] - 14s 106ms/step - loss: 1.0014 - accuracy: 0.5960\n",
      "Epoch 10/10\n",
      "134/134 [==============================] - 16s 120ms/step - loss: 0.9948 - accuracy: 0.5960\n"
     ]
    },
    {
     "name": "stderr",
     "output_type": "stream",
     "text": [
      "/usr/local/lib/python3.10/dist-packages/keras/src/engine/training.py:3079: UserWarning: You are saving your model as an HDF5 file via `model.save()`. This file format is considered legacy. We recommend using instead the native Keras format, e.g. `model.save('my_model.keras')`.\n",
      "  saving_api.save_model(\n"
     ]
    },
    {
     "name": "stdout",
     "output_type": "stream",
     "text": [
      "34/34 [==============================] - 2s 33ms/step\n",
      "Training RF for MIL1 (sliderNegPos)\n",
      "Training CNN for MIL1 (sliderNegPos)\n",
      "Epoch 1/10\n",
      "134/134 [==============================] - 1s 6ms/step - loss: 1.6976 - accuracy: 0.3531\n",
      "Epoch 2/10\n",
      "134/134 [==============================] - 1s 6ms/step - loss: 1.4016 - accuracy: 0.4666\n",
      "Epoch 3/10\n",
      "134/134 [==============================] - 1s 6ms/step - loss: 1.2048 - accuracy: 0.5515\n",
      "Epoch 4/10\n",
      "134/134 [==============================] - 1s 6ms/step - loss: 1.0464 - accuracy: 0.6023\n",
      "Epoch 5/10\n",
      "134/134 [==============================] - 1s 6ms/step - loss: 0.8966 - accuracy: 0.6755\n",
      "Epoch 6/10\n",
      "134/134 [==============================] - 1s 6ms/step - loss: 0.7637 - accuracy: 0.7170\n",
      "Epoch 7/10\n",
      "134/134 [==============================] - 1s 6ms/step - loss: 0.6574 - accuracy: 0.7604\n",
      "Epoch 8/10\n",
      "134/134 [==============================] - 1s 6ms/step - loss: 0.5555 - accuracy: 0.7951\n",
      "Epoch 9/10\n",
      "134/134 [==============================] - 1s 6ms/step - loss: 0.4928 - accuracy: 0.8157\n",
      "Epoch 10/10\n",
      "134/134 [==============================] - 1s 6ms/step - loss: 0.4067 - accuracy: 0.8556\n",
      "34/34 [==============================] - 0s 2ms/step\n"
     ]
    },
    {
     "name": "stderr",
     "output_type": "stream",
     "text": [
      "/usr/local/lib/python3.10/dist-packages/keras/src/engine/training.py:3079: UserWarning: You are saving your model as an HDF5 file via `model.save()`. This file format is considered legacy. We recommend using instead the native Keras format, e.g. `model.save('my_model.keras')`.\n",
      "  saving_api.save_model(\n"
     ]
    },
    {
     "name": "stdout",
     "output_type": "stream",
     "text": [
      "Training LSTM for MIL1 (sliderNegPos)\n",
      "Epoch 1/10\n",
      "134/134 [==============================] - 19s 127ms/step - loss: 1.9926 - accuracy: 0.1906\n",
      "Epoch 2/10\n",
      "134/134 [==============================] - 17s 125ms/step - loss: 1.8789 - accuracy: 0.1974\n",
      "Epoch 3/10\n",
      "134/134 [==============================] - 17s 127ms/step - loss: 1.8589 - accuracy: 0.2094\n",
      "Epoch 4/10\n",
      "134/134 [==============================] - 17s 127ms/step - loss: 1.8543 - accuracy: 0.2103\n",
      "Epoch 5/10\n",
      "134/134 [==============================] - 17s 125ms/step - loss: 1.8449 - accuracy: 0.2089\n",
      "Epoch 6/10\n",
      "134/134 [==============================] - 16s 122ms/step - loss: 1.8341 - accuracy: 0.2211\n",
      "Epoch 7/10\n",
      "134/134 [==============================] - 17s 124ms/step - loss: 1.8260 - accuracy: 0.2333\n",
      "Epoch 8/10\n",
      "134/134 [==============================] - 17s 128ms/step - loss: 1.8195 - accuracy: 0.2342\n",
      "Epoch 9/10\n",
      "134/134 [==============================] - 17s 126ms/step - loss: 1.8086 - accuracy: 0.2518\n",
      "Epoch 10/10\n",
      "134/134 [==============================] - 16s 119ms/step - loss: 1.7877 - accuracy: 0.2443\n"
     ]
    },
    {
     "name": "stderr",
     "output_type": "stream",
     "text": [
      "/usr/local/lib/python3.10/dist-packages/keras/src/engine/training.py:3079: UserWarning: You are saving your model as an HDF5 file via `model.save()`. This file format is considered legacy. We recommend using instead the native Keras format, e.g. `model.save('my_model.keras')`.\n",
      "  saving_api.save_model(\n"
     ]
    },
    {
     "name": "stdout",
     "output_type": "stream",
     "text": [
      "34/34 [==============================] - 2s 33ms/step\n",
      "Training RF for MIL2 (sliderNeutralPos)\n",
      "Training CNN for MIL2 (sliderNeutralPos)\n",
      "Epoch 1/10\n",
      "134/134 [==============================] - 1s 6ms/step - loss: 1.5727 - accuracy: 0.3777\n",
      "Epoch 2/10\n",
      "134/134 [==============================] - 1s 6ms/step - loss: 1.3190 - accuracy: 0.4825\n",
      "Epoch 3/10\n",
      "134/134 [==============================] - 1s 6ms/step - loss: 1.1704 - accuracy: 0.5491\n",
      "Epoch 4/10\n",
      "134/134 [==============================] - 1s 6ms/step - loss: 1.0376 - accuracy: 0.6026\n",
      "Epoch 5/10\n",
      "134/134 [==============================] - 1s 6ms/step - loss: 0.9195 - accuracy: 0.6467\n",
      "Epoch 6/10\n",
      "134/134 [==============================] - 1s 6ms/step - loss: 0.8159 - accuracy: 0.6950\n",
      "Epoch 7/10\n",
      "134/134 [==============================] - 1s 6ms/step - loss: 0.7374 - accuracy: 0.7210\n",
      "Epoch 8/10\n",
      "134/134 [==============================] - 1s 6ms/step - loss: 0.6488 - accuracy: 0.7606\n",
      "Epoch 9/10\n",
      "134/134 [==============================] - 1s 6ms/step - loss: 0.5769 - accuracy: 0.7855\n",
      "Epoch 10/10\n",
      "134/134 [==============================] - 1s 6ms/step - loss: 0.5007 - accuracy: 0.8124\n",
      "34/34 [==============================] - 0s 2ms/step\n"
     ]
    },
    {
     "name": "stderr",
     "output_type": "stream",
     "text": [
      "/usr/local/lib/python3.10/dist-packages/keras/src/engine/training.py:3079: UserWarning: You are saving your model as an HDF5 file via `model.save()`. This file format is considered legacy. We recommend using instead the native Keras format, e.g. `model.save('my_model.keras')`.\n",
      "  saving_api.save_model(\n"
     ]
    },
    {
     "name": "stdout",
     "output_type": "stream",
     "text": [
      "Training LSTM for MIL2 (sliderNeutralPos)\n",
      "Epoch 1/10\n",
      "134/134 [==============================] - 19s 126ms/step - loss: 1.8091 - accuracy: 0.2647\n",
      "Epoch 2/10\n",
      "134/134 [==============================] - 16s 123ms/step - loss: 1.6794 - accuracy: 0.2722\n",
      "Epoch 3/10\n",
      "134/134 [==============================] - 17s 125ms/step - loss: 1.6667 - accuracy: 0.2767\n",
      "Epoch 4/10\n",
      "134/134 [==============================] - 16s 122ms/step - loss: 1.6698 - accuracy: 0.2781\n",
      "Epoch 5/10\n",
      "134/134 [==============================] - 16s 122ms/step - loss: 1.6608 - accuracy: 0.2839\n",
      "Epoch 6/10\n",
      "134/134 [==============================] - 17s 127ms/step - loss: 1.6488 - accuracy: 0.2870\n",
      "Epoch 7/10\n",
      "134/134 [==============================] - 17s 124ms/step - loss: 1.6486 - accuracy: 0.3006\n",
      "Epoch 8/10\n",
      "134/134 [==============================] - 17s 123ms/step - loss: 1.6425 - accuracy: 0.3093\n",
      "Epoch 9/10\n",
      "134/134 [==============================] - 17s 123ms/step - loss: 1.6477 - accuracy: 0.3013\n",
      "Epoch 10/10\n",
      "134/134 [==============================] - 16s 123ms/step - loss: 1.6464 - accuracy: 0.3029\n"
     ]
    },
    {
     "name": "stderr",
     "output_type": "stream",
     "text": [
      "/usr/local/lib/python3.10/dist-packages/keras/src/engine/training.py:3079: UserWarning: You are saving your model as an HDF5 file via `model.save()`. This file format is considered legacy. We recommend using instead the native Keras format, e.g. `model.save('my_model.keras')`.\n",
      "  saving_api.save_model(\n"
     ]
    },
    {
     "name": "stdout",
     "output_type": "stream",
     "text": [
      "34/34 [==============================] - 2s 36ms/step\n",
      "Training RF for MIL3 (sliderNeutralPos)\n",
      "Training CNN for MIL3 (sliderNeutralPos)\n",
      "Epoch 1/10\n",
      "134/134 [==============================] - 1s 6ms/step - loss: 1.6707 - accuracy: 0.3355\n",
      "Epoch 2/10\n",
      "134/134 [==============================] - 1s 6ms/step - loss: 1.4032 - accuracy: 0.4415\n",
      "Epoch 3/10\n",
      "134/134 [==============================] - 1s 6ms/step - loss: 1.2358 - accuracy: 0.5184\n",
      "Epoch 4/10\n",
      "134/134 [==============================] - 1s 6ms/step - loss: 1.1161 - accuracy: 0.5747\n",
      "Epoch 5/10\n",
      "134/134 [==============================] - 1s 6ms/step - loss: 0.9682 - accuracy: 0.6347\n",
      "Epoch 6/10\n",
      "134/134 [==============================] - 1s 6ms/step - loss: 0.8637 - accuracy: 0.6725\n",
      "Epoch 7/10\n",
      "134/134 [==============================] - 1s 6ms/step - loss: 0.7497 - accuracy: 0.7205\n",
      "Epoch 8/10\n",
      "134/134 [==============================] - 1s 6ms/step - loss: 0.6595 - accuracy: 0.7543\n",
      "Epoch 9/10\n",
      "134/134 [==============================] - 1s 6ms/step - loss: 0.5754 - accuracy: 0.7876\n",
      "Epoch 10/10\n",
      "134/134 [==============================] - 1s 6ms/step - loss: 0.5282 - accuracy: 0.8075\n",
      "23/34 [===================>..........] - ETA: 0s"
     ]
    },
    {
     "name": "stderr",
     "output_type": "stream",
     "text": [
      "/usr/local/lib/python3.10/dist-packages/keras/src/engine/training.py:3079: UserWarning: You are saving your model as an HDF5 file via `model.save()`. This file format is considered legacy. We recommend using instead the native Keras format, e.g. `model.save('my_model.keras')`.\n",
      "  saving_api.save_model(\n"
     ]
    },
    {
     "name": "stdout",
     "output_type": "stream",
     "text": [
      "34/34 [==============================] - 0s 2ms/step\n",
      "Training LSTM for MIL3 (sliderNeutralPos)\n",
      "Epoch 1/10\n",
      "134/134 [==============================] - 19s 127ms/step - loss: 1.8726 - accuracy: 0.2692\n",
      "Epoch 2/10\n",
      "134/134 [==============================] - 17s 127ms/step - loss: 1.7146 - accuracy: 0.2832\n",
      "Epoch 3/10\n",
      "134/134 [==============================] - 16s 123ms/step - loss: 1.6982 - accuracy: 0.2856\n",
      "Epoch 4/10\n",
      "134/134 [==============================] - 17s 126ms/step - loss: 1.6815 - accuracy: 0.2999\n",
      "Epoch 5/10\n",
      "134/134 [==============================] - 16s 122ms/step - loss: 1.6742 - accuracy: 0.2921\n",
      "Epoch 6/10\n",
      "134/134 [==============================] - 16s 122ms/step - loss: 1.6691 - accuracy: 0.3025\n",
      "Epoch 7/10\n",
      "134/134 [==============================] - 15s 113ms/step - loss: 1.6582 - accuracy: 0.2999\n",
      "Epoch 8/10\n",
      "134/134 [==============================] - 16s 116ms/step - loss: 1.6494 - accuracy: 0.3011\n",
      "Epoch 9/10\n",
      "134/134 [==============================] - 17s 124ms/step - loss: 1.6324 - accuracy: 0.3184\n",
      "Epoch 10/10\n",
      "134/134 [==============================] - 17s 124ms/step - loss: 1.6326 - accuracy: 0.3231\n"
     ]
    },
    {
     "name": "stderr",
     "output_type": "stream",
     "text": [
      "/usr/local/lib/python3.10/dist-packages/keras/src/engine/training.py:3079: UserWarning: You are saving your model as an HDF5 file via `model.save()`. This file format is considered legacy. We recommend using instead the native Keras format, e.g. `model.save('my_model.keras')`.\n",
      "  saving_api.save_model(\n"
     ]
    },
    {
     "name": "stdout",
     "output_type": "stream",
     "text": [
      "34/34 [==============================] - 2s 34ms/step\n",
      "Training RF for MIL4 (sliderNeutralPos)\n",
      "Training CNN for MIL4 (sliderNeutralPos)\n",
      "Epoch 1/10\n",
      "134/134 [==============================] - 1s 6ms/step - loss: 1.7492 - accuracy: 0.3116\n",
      "Epoch 2/10\n",
      "134/134 [==============================] - 1s 6ms/step - loss: 1.4896 - accuracy: 0.4197\n",
      "Epoch 3/10\n",
      "134/134 [==============================] - 1s 6ms/step - loss: 1.3250 - accuracy: 0.4868\n",
      "Epoch 4/10\n",
      "134/134 [==============================] - 1s 6ms/step - loss: 1.1625 - accuracy: 0.5667\n",
      "Epoch 5/10\n",
      "134/134 [==============================] - 1s 6ms/step - loss: 1.0336 - accuracy: 0.6204\n",
      "Epoch 6/10\n",
      "134/134 [==============================] - 1s 6ms/step - loss: 0.9225 - accuracy: 0.6532\n",
      "Epoch 7/10\n",
      "134/134 [==============================] - 1s 6ms/step - loss: 0.7844 - accuracy: 0.7125\n",
      "Epoch 8/10\n",
      "134/134 [==============================] - 1s 6ms/step - loss: 0.7002 - accuracy: 0.7367\n",
      "Epoch 9/10\n",
      "134/134 [==============================] - 1s 6ms/step - loss: 0.6001 - accuracy: 0.7751\n",
      "Epoch 10/10\n",
      "134/134 [==============================] - 1s 6ms/step - loss: 0.5195 - accuracy: 0.8178\n",
      "34/34 [==============================] - 0s 2ms/step\n"
     ]
    },
    {
     "name": "stderr",
     "output_type": "stream",
     "text": [
      "/usr/local/lib/python3.10/dist-packages/keras/src/engine/training.py:3079: UserWarning: You are saving your model as an HDF5 file via `model.save()`. This file format is considered legacy. We recommend using instead the native Keras format, e.g. `model.save('my_model.keras')`.\n",
      "  saving_api.save_model(\n"
     ]
    },
    {
     "name": "stdout",
     "output_type": "stream",
     "text": [
      "Training LSTM for MIL4 (sliderNeutralPos)\n",
      "Epoch 1/10\n",
      "134/134 [==============================] - 19s 127ms/step - loss: 1.9405 - accuracy: 0.2321\n",
      "Epoch 2/10\n",
      "134/134 [==============================] - 17s 124ms/step - loss: 1.8160 - accuracy: 0.2399\n",
      "Epoch 3/10\n",
      "134/134 [==============================] - 17s 124ms/step - loss: 1.7999 - accuracy: 0.2532\n",
      "Epoch 4/10\n",
      "134/134 [==============================] - 16s 120ms/step - loss: 1.7903 - accuracy: 0.2549\n",
      "Epoch 5/10\n",
      "134/134 [==============================] - 17s 126ms/step - loss: 1.7985 - accuracy: 0.2553\n",
      "Epoch 6/10\n",
      "134/134 [==============================] - 17s 128ms/step - loss: 1.7951 - accuracy: 0.2556\n",
      "Epoch 7/10\n",
      "134/134 [==============================] - 17s 125ms/step - loss: 1.7856 - accuracy: 0.2586\n",
      "Epoch 8/10\n",
      "134/134 [==============================] - 16s 123ms/step - loss: 1.7847 - accuracy: 0.2645\n",
      "Epoch 9/10\n",
      "134/134 [==============================] - 14s 108ms/step - loss: 1.7787 - accuracy: 0.2664\n",
      "Epoch 10/10\n",
      "134/134 [==============================] - 15s 116ms/step - loss: 1.7778 - accuracy: 0.2624\n"
     ]
    },
    {
     "name": "stderr",
     "output_type": "stream",
     "text": [
      "/usr/local/lib/python3.10/dist-packages/keras/src/engine/training.py:3079: UserWarning: You are saving your model as an HDF5 file via `model.save()`. This file format is considered legacy. We recommend using instead the native Keras format, e.g. `model.save('my_model.keras')`.\n",
      "  saving_api.save_model(\n"
     ]
    },
    {
     "name": "stdout",
     "output_type": "stream",
     "text": [
      "34/34 [==============================] - 2s 35ms/step\n",
      "Training RF for MIL5 (sliderNeutralPos)\n",
      "Training CNN for MIL5 (sliderNeutralPos)\n",
      "Epoch 1/10\n",
      "134/134 [==============================] - 1s 6ms/step - loss: 1.6596 - accuracy: 0.3517\n",
      "Epoch 2/10\n",
      "134/134 [==============================] - 1s 6ms/step - loss: 1.4196 - accuracy: 0.4366\n",
      "Epoch 3/10\n",
      "134/134 [==============================] - 1s 6ms/step - loss: 1.2688 - accuracy: 0.5057\n",
      "Epoch 4/10\n",
      "134/134 [==============================] - 1s 6ms/step - loss: 1.1406 - accuracy: 0.5630\n",
      "Epoch 5/10\n",
      "134/134 [==============================] - 1s 6ms/step - loss: 1.0182 - accuracy: 0.6091\n",
      "Epoch 6/10\n",
      "134/134 [==============================] - 1s 6ms/step - loss: 0.8837 - accuracy: 0.6720\n",
      "Epoch 7/10\n",
      "134/134 [==============================] - 1s 6ms/step - loss: 0.7887 - accuracy: 0.7062\n",
      "Epoch 8/10\n",
      "134/134 [==============================] - 1s 6ms/step - loss: 0.6826 - accuracy: 0.7479\n",
      "Epoch 9/10\n",
      "134/134 [==============================] - 1s 6ms/step - loss: 0.5936 - accuracy: 0.7845\n",
      "Epoch 10/10\n",
      "134/134 [==============================] - 1s 6ms/step - loss: 0.5237 - accuracy: 0.8089\n",
      "34/34 [==============================] - 0s 2ms/step\n"
     ]
    },
    {
     "name": "stderr",
     "output_type": "stream",
     "text": [
      "/usr/local/lib/python3.10/dist-packages/keras/src/engine/training.py:3079: UserWarning: You are saving your model as an HDF5 file via `model.save()`. This file format is considered legacy. We recommend using instead the native Keras format, e.g. `model.save('my_model.keras')`.\n",
      "  saving_api.save_model(\n"
     ]
    },
    {
     "name": "stdout",
     "output_type": "stream",
     "text": [
      "Training LSTM for MIL5 (sliderNeutralPos)\n",
      "Epoch 1/10\n",
      "134/134 [==============================] - 19s 127ms/step - loss: 1.9017 - accuracy: 0.2331\n",
      "Epoch 2/10\n",
      "134/134 [==============================] - 16s 123ms/step - loss: 1.7785 - accuracy: 0.2532\n",
      "Epoch 3/10\n",
      "134/134 [==============================] - 16s 119ms/step - loss: 1.7599 - accuracy: 0.2513\n",
      "Epoch 4/10\n",
      "134/134 [==============================] - 15s 114ms/step - loss: 1.7508 - accuracy: 0.2703\n",
      "Epoch 5/10\n",
      "134/134 [==============================] - 16s 123ms/step - loss: 1.7432 - accuracy: 0.2746\n",
      "Epoch 6/10\n",
      "134/134 [==============================] - 16s 119ms/step - loss: 1.7468 - accuracy: 0.2652\n",
      "Epoch 7/10\n",
      "134/134 [==============================] - 15s 110ms/step - loss: 1.7425 - accuracy: 0.2633\n",
      "Epoch 8/10\n",
      "134/134 [==============================] - 16s 121ms/step - loss: 1.7484 - accuracy: 0.2671\n",
      "Epoch 9/10\n",
      "134/134 [==============================] - 17s 123ms/step - loss: 1.7402 - accuracy: 0.2725\n",
      "Epoch 10/10\n",
      "134/134 [==============================] - 17s 125ms/step - loss: 1.7388 - accuracy: 0.2739\n"
     ]
    },
    {
     "name": "stderr",
     "output_type": "stream",
     "text": [
      "/usr/local/lib/python3.10/dist-packages/keras/src/engine/training.py:3079: UserWarning: You are saving your model as an HDF5 file via `model.save()`. This file format is considered legacy. We recommend using instead the native Keras format, e.g. `model.save('my_model.keras')`.\n",
      "  saving_api.save_model(\n"
     ]
    },
    {
     "name": "stdout",
     "output_type": "stream",
     "text": [
      "34/34 [==============================] - 2s 36ms/step\n",
      "Training RF for PRO1 (sliderNeutralPos)\n",
      "Training CNN for PRO1 (sliderNeutralPos)\n",
      "Epoch 1/10\n",
      "134/134 [==============================] - 1s 6ms/step - loss: 2.0270 - accuracy: 0.2682\n",
      "Epoch 2/10\n",
      "134/134 [==============================] - 1s 6ms/step - loss: 1.7757 - accuracy: 0.3573\n",
      "Epoch 3/10\n",
      "134/134 [==============================] - 1s 6ms/step - loss: 1.5652 - accuracy: 0.4352\n",
      "Epoch 4/10\n",
      "134/134 [==============================] - 1s 6ms/step - loss: 1.3593 - accuracy: 0.5198\n",
      "Epoch 5/10\n",
      "134/134 [==============================] - 1s 6ms/step - loss: 1.1989 - accuracy: 0.5789\n",
      "Epoch 6/10\n",
      "134/134 [==============================] - 1s 6ms/step - loss: 1.0560 - accuracy: 0.6284\n",
      "Epoch 7/10\n",
      "134/134 [==============================] - 1s 6ms/step - loss: 0.9263 - accuracy: 0.6760\n",
      "Epoch 8/10\n",
      "134/134 [==============================] - 1s 6ms/step - loss: 0.7962 - accuracy: 0.7161\n",
      "Epoch 9/10\n",
      "134/134 [==============================] - 1s 6ms/step - loss: 0.7126 - accuracy: 0.7524\n",
      "Epoch 10/10\n",
      "134/134 [==============================] - 1s 6ms/step - loss: 0.6374 - accuracy: 0.7709\n",
      "34/34 [==============================] - 0s 2ms/step\n"
     ]
    },
    {
     "name": "stderr",
     "output_type": "stream",
     "text": [
      "/usr/local/lib/python3.10/dist-packages/keras/src/engine/training.py:3079: UserWarning: You are saving your model as an HDF5 file via `model.save()`. This file format is considered legacy. We recommend using instead the native Keras format, e.g. `model.save('my_model.keras')`.\n",
      "  saving_api.save_model(\n"
     ]
    },
    {
     "name": "stdout",
     "output_type": "stream",
     "text": [
      "Training LSTM for PRO1 (sliderNeutralPos)\n",
      "Epoch 1/10\n",
      "134/134 [==============================] - 19s 126ms/step - loss: 2.1772 - accuracy: 0.2028\n",
      "Epoch 2/10\n",
      "134/134 [==============================] - 17s 125ms/step - loss: 2.1222 - accuracy: 0.2239\n",
      "Epoch 3/10\n",
      "134/134 [==============================] - 17s 127ms/step - loss: 2.1170 - accuracy: 0.2284\n",
      "Epoch 4/10\n",
      "134/134 [==============================] - 17s 127ms/step - loss: 2.1201 - accuracy: 0.2188\n",
      "Epoch 5/10\n",
      "134/134 [==============================] - 16s 120ms/step - loss: 2.1147 - accuracy: 0.2206\n",
      "Epoch 6/10\n",
      "134/134 [==============================] - 15s 110ms/step - loss: 2.1000 - accuracy: 0.2352\n",
      "Epoch 7/10\n",
      "134/134 [==============================] - 16s 122ms/step - loss: 2.0962 - accuracy: 0.2361\n",
      "Epoch 8/10\n",
      "134/134 [==============================] - 17s 124ms/step - loss: 2.0945 - accuracy: 0.2309\n",
      "Epoch 9/10\n",
      "134/134 [==============================] - 17s 124ms/step - loss: 2.0796 - accuracy: 0.2380\n",
      "Epoch 10/10\n",
      "134/134 [==============================] - 17s 125ms/step - loss: 2.0854 - accuracy: 0.2314\n"
     ]
    },
    {
     "name": "stderr",
     "output_type": "stream",
     "text": [
      "/usr/local/lib/python3.10/dist-packages/keras/src/engine/training.py:3079: UserWarning: You are saving your model as an HDF5 file via `model.save()`. This file format is considered legacy. We recommend using instead the native Keras format, e.g. `model.save('my_model.keras')`.\n",
      "  saving_api.save_model(\n"
     ]
    },
    {
     "name": "stdout",
     "output_type": "stream",
     "text": [
      "34/34 [==============================] - 2s 34ms/step\n",
      "Training RF for PRO2 (sliderNeutralPos)\n",
      "Training CNN for PRO2 (sliderNeutralPos)\n",
      "Epoch 1/10\n",
      "134/134 [==============================] - 1s 6ms/step - loss: 1.9181 - accuracy: 0.2917\n",
      "Epoch 2/10\n",
      "134/134 [==============================] - 1s 6ms/step - loss: 1.6175 - accuracy: 0.4115\n",
      "Epoch 3/10\n",
      "134/134 [==============================] - 1s 6ms/step - loss: 1.3960 - accuracy: 0.4938\n",
      "Epoch 4/10\n",
      "134/134 [==============================] - 1s 6ms/step - loss: 1.1955 - accuracy: 0.5693\n",
      "Epoch 5/10\n",
      "134/134 [==============================] - 1s 6ms/step - loss: 1.0080 - accuracy: 0.6356\n",
      "Epoch 6/10\n",
      "134/134 [==============================] - 1s 5ms/step - loss: 0.8631 - accuracy: 0.6968\n",
      "Epoch 7/10\n",
      "134/134 [==============================] - 1s 6ms/step - loss: 0.7409 - accuracy: 0.7402\n",
      "Epoch 8/10\n",
      "134/134 [==============================] - 1s 5ms/step - loss: 0.6432 - accuracy: 0.7841\n",
      "Epoch 9/10\n",
      "134/134 [==============================] - 1s 6ms/step - loss: 0.5423 - accuracy: 0.8068\n",
      "Epoch 10/10\n",
      "134/134 [==============================] - 1s 6ms/step - loss: 0.4661 - accuracy: 0.8373\n",
      "34/34 [==============================] - 0s 2ms/step\n"
     ]
    },
    {
     "name": "stderr",
     "output_type": "stream",
     "text": [
      "/usr/local/lib/python3.10/dist-packages/keras/src/engine/training.py:3079: UserWarning: You are saving your model as an HDF5 file via `model.save()`. This file format is considered legacy. We recommend using instead the native Keras format, e.g. `model.save('my_model.keras')`.\n",
      "  saving_api.save_model(\n"
     ]
    },
    {
     "name": "stdout",
     "output_type": "stream",
     "text": [
      "Training LSTM for PRO2 (sliderNeutralPos)\n",
      "Epoch 1/10\n",
      "134/134 [==============================] - 19s 125ms/step - loss: 2.1439 - accuracy: 0.2136\n",
      "Epoch 2/10\n",
      "134/134 [==============================] - 17s 124ms/step - loss: 2.0830 - accuracy: 0.2098\n",
      "Epoch 3/10\n",
      "134/134 [==============================] - 17s 126ms/step - loss: 2.0651 - accuracy: 0.2159\n",
      "Epoch 4/10\n",
      "134/134 [==============================] - 17s 126ms/step - loss: 2.0540 - accuracy: 0.2190\n",
      "Epoch 5/10\n",
      "134/134 [==============================] - 17s 128ms/step - loss: 2.0565 - accuracy: 0.2117\n",
      "Epoch 6/10\n",
      "134/134 [==============================] - 16s 123ms/step - loss: 2.0430 - accuracy: 0.2239\n",
      "Epoch 7/10\n",
      "134/134 [==============================] - 16s 119ms/step - loss: 2.0333 - accuracy: 0.2244\n",
      "Epoch 8/10\n",
      "134/134 [==============================] - 17s 125ms/step - loss: 2.0400 - accuracy: 0.2251\n",
      "Epoch 9/10\n",
      "134/134 [==============================] - 16s 120ms/step - loss: 2.0287 - accuracy: 0.2291\n",
      "Epoch 10/10\n",
      "134/134 [==============================] - 16s 118ms/step - loss: 2.0180 - accuracy: 0.2399\n"
     ]
    },
    {
     "name": "stderr",
     "output_type": "stream",
     "text": [
      "/usr/local/lib/python3.10/dist-packages/keras/src/engine/training.py:3079: UserWarning: You are saving your model as an HDF5 file via `model.save()`. This file format is considered legacy. We recommend using instead the native Keras format, e.g. `model.save('my_model.keras')`.\n",
      "  saving_api.save_model(\n"
     ]
    },
    {
     "name": "stdout",
     "output_type": "stream",
     "text": [
      "34/34 [==============================] - 2s 35ms/step\n",
      "Training RF for PRO3 (sliderNeutralPos)\n",
      "Training CNN for PRO3 (sliderNeutralPos)\n",
      "Epoch 1/10\n",
      "134/134 [==============================] - 1s 6ms/step - loss: 1.9291 - accuracy: 0.2746\n",
      "Epoch 2/10\n",
      "134/134 [==============================] - 1s 6ms/step - loss: 1.6647 - accuracy: 0.3822\n",
      "Epoch 3/10\n",
      "134/134 [==============================] - 1s 6ms/step - loss: 1.4801 - accuracy: 0.4478\n",
      "Epoch 4/10\n",
      "134/134 [==============================] - 1s 6ms/step - loss: 1.3028 - accuracy: 0.5179\n",
      "Epoch 5/10\n",
      "134/134 [==============================] - 1s 6ms/step - loss: 1.1554 - accuracy: 0.5784\n",
      "Epoch 6/10\n",
      "134/134 [==============================] - 1s 6ms/step - loss: 1.0274 - accuracy: 0.6141\n",
      "Epoch 7/10\n",
      "134/134 [==============================] - 1s 6ms/step - loss: 0.9068 - accuracy: 0.6680\n",
      "Epoch 8/10\n",
      "134/134 [==============================] - 1s 6ms/step - loss: 0.8071 - accuracy: 0.6980\n",
      "Epoch 9/10\n",
      "134/134 [==============================] - 1s 6ms/step - loss: 0.7401 - accuracy: 0.7308\n",
      "Epoch 10/10\n",
      "134/134 [==============================] - 1s 6ms/step - loss: 0.6533 - accuracy: 0.7653\n",
      "24/34 [====================>.........] - ETA: 0s"
     ]
    },
    {
     "name": "stderr",
     "output_type": "stream",
     "text": [
      "/usr/local/lib/python3.10/dist-packages/keras/src/engine/training.py:3079: UserWarning: You are saving your model as an HDF5 file via `model.save()`. This file format is considered legacy. We recommend using instead the native Keras format, e.g. `model.save('my_model.keras')`.\n",
      "  saving_api.save_model(\n"
     ]
    },
    {
     "name": "stdout",
     "output_type": "stream",
     "text": [
      "34/34 [==============================] - 0s 2ms/step\n",
      "Training LSTM for PRO3 (sliderNeutralPos)\n",
      "Epoch 1/10\n",
      "134/134 [==============================] - 19s 127ms/step - loss: 2.1096 - accuracy: 0.2040\n",
      "Epoch 2/10\n",
      "134/134 [==============================] - 17s 127ms/step - loss: 2.0219 - accuracy: 0.2319\n",
      "Epoch 3/10\n",
      "134/134 [==============================] - 17s 127ms/step - loss: 2.0015 - accuracy: 0.2438\n",
      "Epoch 4/10\n",
      "134/134 [==============================] - 17s 125ms/step - loss: 1.9895 - accuracy: 0.2464\n",
      "Epoch 5/10\n",
      "134/134 [==============================] - 17s 127ms/step - loss: 1.9996 - accuracy: 0.2389\n",
      "Epoch 6/10\n",
      "134/134 [==============================] - 17s 125ms/step - loss: 1.9857 - accuracy: 0.2474\n",
      "Epoch 7/10\n",
      "134/134 [==============================] - 16s 119ms/step - loss: 1.9720 - accuracy: 0.2638\n",
      "Epoch 8/10\n",
      "134/134 [==============================] - 15s 112ms/step - loss: 1.9819 - accuracy: 0.2492\n",
      "Epoch 9/10\n",
      "134/134 [==============================] - 17s 125ms/step - loss: 1.9628 - accuracy: 0.2549\n",
      "Epoch 10/10\n",
      "134/134 [==============================] - 17s 126ms/step - loss: 1.9553 - accuracy: 0.2689\n"
     ]
    },
    {
     "name": "stderr",
     "output_type": "stream",
     "text": [
      "/usr/local/lib/python3.10/dist-packages/keras/src/engine/training.py:3079: UserWarning: You are saving your model as an HDF5 file via `model.save()`. This file format is considered legacy. We recommend using instead the native Keras format, e.g. `model.save('my_model.keras')`.\n",
      "  saving_api.save_model(\n"
     ]
    },
    {
     "name": "stdout",
     "output_type": "stream",
     "text": [
      "34/34 [==============================] - 2s 37ms/step\n"
     ]
    },
    {
     "name": "stderr",
     "output_type": "stream",
     "text": [
      "Processing Folds:  20%|██        | 1/5 [1:10:55<4:43:43, 4255.94s/it]"
     ]
    },
    {
     "name": "stdout",
     "output_type": "stream",
     "text": [
      "Loading data from: folds_transformed/fold_2_train_pca.csv\n",
      "Loading data from: folds_transformed/fold_2_test_pca.csv\n",
      "Training RF for P1 (sliderNeutralPos)\n",
      "Training CNN for P1 (sliderNeutralPos)\n",
      "Epoch 1/10\n",
      "136/136 [==============================] - 1s 6ms/step - loss: 1.9776 - accuracy: 0.2732\n",
      "Epoch 2/10\n",
      "136/136 [==============================] - 1s 6ms/step - loss: 1.7213 - accuracy: 0.3705\n",
      "Epoch 3/10\n",
      "136/136 [==============================] - 1s 6ms/step - loss: 1.5372 - accuracy: 0.4486\n",
      "Epoch 4/10\n",
      "136/136 [==============================] - 1s 6ms/step - loss: 1.3664 - accuracy: 0.5116\n",
      "Epoch 5/10\n",
      "136/136 [==============================] - 1s 6ms/step - loss: 1.2003 - accuracy: 0.5678\n",
      "Epoch 6/10\n",
      "136/136 [==============================] - 1s 6ms/step - loss: 1.0435 - accuracy: 0.6308\n",
      "Epoch 7/10\n",
      "136/136 [==============================] - 1s 6ms/step - loss: 0.9062 - accuracy: 0.6764\n",
      "Epoch 8/10\n",
      "136/136 [==============================] - 1s 6ms/step - loss: 0.7853 - accuracy: 0.7287\n",
      "Epoch 9/10\n",
      "136/136 [==============================] - 1s 6ms/step - loss: 0.6703 - accuracy: 0.7609\n",
      "Epoch 10/10\n",
      "136/136 [==============================] - 1s 6ms/step - loss: 0.6113 - accuracy: 0.7873\n",
      "32/32 [==============================] - 0s 2ms/step\n"
     ]
    },
    {
     "name": "stderr",
     "output_type": "stream",
     "text": [
      "/usr/local/lib/python3.10/dist-packages/keras/src/engine/training.py:3079: UserWarning: You are saving your model as an HDF5 file via `model.save()`. This file format is considered legacy. We recommend using instead the native Keras format, e.g. `model.save('my_model.keras')`.\n",
      "  saving_api.save_model(\n"
     ]
    },
    {
     "name": "stdout",
     "output_type": "stream",
     "text": [
      "Training LSTM for P1 (sliderNeutralPos)\n",
      "Epoch 1/10\n",
      "136/136 [==============================] - 8s 42ms/step - loss: 2.1218 - accuracy: 0.2345\n",
      "Epoch 2/10\n",
      "136/136 [==============================] - 6s 41ms/step - loss: 2.0608 - accuracy: 0.2407\n",
      "Epoch 3/10\n",
      "136/136 [==============================] - 5s 39ms/step - loss: 2.0528 - accuracy: 0.2470\n",
      "Epoch 4/10\n",
      "136/136 [==============================] - 5s 38ms/step - loss: 2.0429 - accuracy: 0.2449\n",
      "Epoch 5/10\n",
      "136/136 [==============================] - 5s 38ms/step - loss: 2.0400 - accuracy: 0.2486\n",
      "Epoch 6/10\n",
      "136/136 [==============================] - 5s 35ms/step - loss: 2.0339 - accuracy: 0.2490\n",
      "Epoch 7/10\n",
      "136/136 [==============================] - 5s 34ms/step - loss: 2.0281 - accuracy: 0.2483\n",
      "Epoch 8/10\n",
      "136/136 [==============================] - 5s 33ms/step - loss: 2.0253 - accuracy: 0.2532\n",
      "Epoch 9/10\n",
      "136/136 [==============================] - 5s 37ms/step - loss: 2.0197 - accuracy: 0.2601\n",
      "Epoch 10/10\n",
      "136/136 [==============================] - 5s 34ms/step - loss: 2.0100 - accuracy: 0.2575\n"
     ]
    },
    {
     "name": "stderr",
     "output_type": "stream",
     "text": [
      "/usr/local/lib/python3.10/dist-packages/keras/src/engine/training.py:3079: UserWarning: You are saving your model as an HDF5 file via `model.save()`. This file format is considered legacy. We recommend using instead the native Keras format, e.g. `model.save('my_model.keras')`.\n",
      "  saving_api.save_model(\n"
     ]
    },
    {
     "name": "stdout",
     "output_type": "stream",
     "text": [
      "32/32 [==============================] - 1s 13ms/step\n",
      "Training RF for N1 (sliderNeutralPos)\n",
      "Training CNN for N1 (sliderNeutralPos)\n",
      "Epoch 1/10\n",
      "136/136 [==============================] - 1s 6ms/step - loss: 2.1009 - accuracy: 0.2633\n",
      "Epoch 2/10\n",
      "136/136 [==============================] - 1s 6ms/step - loss: 1.8104 - accuracy: 0.3786\n",
      "Epoch 3/10\n",
      "136/136 [==============================] - 1s 6ms/step - loss: 1.5995 - accuracy: 0.4614\n",
      "Epoch 4/10\n",
      "136/136 [==============================] - 1s 6ms/step - loss: 1.3906 - accuracy: 0.5148\n",
      "Epoch 5/10\n",
      "136/136 [==============================] - 1s 6ms/step - loss: 1.2263 - accuracy: 0.5827\n",
      "Epoch 6/10\n",
      "136/136 [==============================] - 1s 6ms/step - loss: 1.0547 - accuracy: 0.6391\n",
      "Epoch 7/10\n",
      "136/136 [==============================] - 1s 6ms/step - loss: 0.9282 - accuracy: 0.6858\n",
      "Epoch 8/10\n",
      "136/136 [==============================] - 1s 6ms/step - loss: 0.7990 - accuracy: 0.7284\n",
      "Epoch 9/10\n",
      "136/136 [==============================] - 1s 6ms/step - loss: 0.6982 - accuracy: 0.7586\n",
      "Epoch 10/10\n",
      "136/136 [==============================] - 1s 6ms/step - loss: 0.5971 - accuracy: 0.7947\n",
      "32/32 [==============================] - 0s 2ms/step\n"
     ]
    },
    {
     "name": "stderr",
     "output_type": "stream",
     "text": [
      "/usr/local/lib/python3.10/dist-packages/keras/src/engine/training.py:3079: UserWarning: You are saving your model as an HDF5 file via `model.save()`. This file format is considered legacy. We recommend using instead the native Keras format, e.g. `model.save('my_model.keras')`.\n",
      "  saving_api.save_model(\n"
     ]
    },
    {
     "name": "stdout",
     "output_type": "stream",
     "text": [
      "Training LSTM for N1 (sliderNeutralPos)\n",
      "Epoch 1/10\n",
      "136/136 [==============================] - 9s 42ms/step - loss: 2.2485 - accuracy: 0.2106\n",
      "Epoch 2/10\n",
      "136/136 [==============================] - 6s 41ms/step - loss: 2.2233 - accuracy: 0.2104\n",
      "Epoch 3/10\n",
      "136/136 [==============================] - 5s 40ms/step - loss: 2.2132 - accuracy: 0.2108\n",
      "Epoch 4/10\n",
      "136/136 [==============================] - 5s 40ms/step - loss: 2.2128 - accuracy: 0.2157\n",
      "Epoch 5/10\n",
      "136/136 [==============================] - 5s 40ms/step - loss: 2.2045 - accuracy: 0.2136\n",
      "Epoch 6/10\n",
      "136/136 [==============================] - 6s 41ms/step - loss: 2.2043 - accuracy: 0.2159\n",
      "Epoch 7/10\n",
      "136/136 [==============================] - 5s 39ms/step - loss: 2.1992 - accuracy: 0.2166\n",
      "Epoch 8/10\n",
      "136/136 [==============================] - 5s 39ms/step - loss: 2.1943 - accuracy: 0.2143\n",
      "Epoch 9/10\n",
      "136/136 [==============================] - 5s 38ms/step - loss: 2.1898 - accuracy: 0.2180\n",
      "Epoch 10/10\n",
      "136/136 [==============================] - 5s 37ms/step - loss: 2.1838 - accuracy: 0.2214\n"
     ]
    },
    {
     "name": "stderr",
     "output_type": "stream",
     "text": [
      "/usr/local/lib/python3.10/dist-packages/keras/src/engine/training.py:3079: UserWarning: You are saving your model as an HDF5 file via `model.save()`. This file format is considered legacy. We recommend using instead the native Keras format, e.g. `model.save('my_model.keras')`.\n",
      "  saving_api.save_model(\n"
     ]
    },
    {
     "name": "stdout",
     "output_type": "stream",
     "text": [
      "32/32 [==============================] - 1s 13ms/step\n",
      "Training RF for P2 (sliderNeutralPos)\n",
      "Training CNN for P2 (sliderNeutralPos)\n",
      "Epoch 1/10\n",
      "136/136 [==============================] - 1s 6ms/step - loss: 1.9907 - accuracy: 0.2591\n",
      "Epoch 2/10\n",
      "136/136 [==============================] - 1s 6ms/step - loss: 1.7303 - accuracy: 0.3664\n",
      "Epoch 3/10\n",
      "136/136 [==============================] - 1s 6ms/step - loss: 1.5287 - accuracy: 0.4329\n",
      "Epoch 4/10\n",
      "136/136 [==============================] - 1s 6ms/step - loss: 1.3604 - accuracy: 0.5075\n",
      "Epoch 5/10\n",
      "136/136 [==============================] - 1s 6ms/step - loss: 1.1895 - accuracy: 0.5770\n",
      "Epoch 6/10\n",
      "136/136 [==============================] - 1s 6ms/step - loss: 1.0221 - accuracy: 0.6483\n",
      "Epoch 7/10\n",
      "136/136 [==============================] - 1s 6ms/step - loss: 0.8785 - accuracy: 0.6932\n",
      "Epoch 8/10\n",
      "136/136 [==============================] - 1s 6ms/step - loss: 0.7698 - accuracy: 0.7268\n",
      "Epoch 9/10\n",
      "136/136 [==============================] - 1s 6ms/step - loss: 0.6622 - accuracy: 0.7733\n",
      "Epoch 10/10\n",
      "136/136 [==============================] - 1s 6ms/step - loss: 0.5648 - accuracy: 0.7984\n",
      "32/32 [==============================] - 0s 2ms/step\n"
     ]
    },
    {
     "name": "stderr",
     "output_type": "stream",
     "text": [
      "/usr/local/lib/python3.10/dist-packages/keras/src/engine/training.py:3079: UserWarning: You are saving your model as an HDF5 file via `model.save()`. This file format is considered legacy. We recommend using instead the native Keras format, e.g. `model.save('my_model.keras')`.\n",
      "  saving_api.save_model(\n"
     ]
    },
    {
     "name": "stdout",
     "output_type": "stream",
     "text": [
      "Training LSTM for P2 (sliderNeutralPos)\n",
      "Epoch 1/10\n",
      "136/136 [==============================] - 8s 42ms/step - loss: 2.1302 - accuracy: 0.1988\n",
      "Epoch 2/10\n",
      "136/136 [==============================] - 6s 40ms/step - loss: 2.0693 - accuracy: 0.1998\n",
      "Epoch 3/10\n",
      "136/136 [==============================] - 5s 40ms/step - loss: 2.0570 - accuracy: 0.2205\n",
      "Epoch 4/10\n",
      "136/136 [==============================] - 5s 36ms/step - loss: 2.0532 - accuracy: 0.2101\n",
      "Epoch 5/10\n",
      "136/136 [==============================] - 5s 39ms/step - loss: 2.0437 - accuracy: 0.2232\n",
      "Epoch 6/10\n",
      "136/136 [==============================] - 5s 40ms/step - loss: 2.0360 - accuracy: 0.2272\n",
      "Epoch 7/10\n",
      "136/136 [==============================] - 5s 37ms/step - loss: 2.0283 - accuracy: 0.2170\n",
      "Epoch 8/10\n",
      "136/136 [==============================] - 5s 36ms/step - loss: 2.0223 - accuracy: 0.2150\n",
      "Epoch 9/10\n",
      "136/136 [==============================] - 5s 39ms/step - loss: 2.0130 - accuracy: 0.2221\n",
      "Epoch 10/10\n",
      "136/136 [==============================] - 6s 41ms/step - loss: 2.0093 - accuracy: 0.2228\n"
     ]
    },
    {
     "name": "stderr",
     "output_type": "stream",
     "text": [
      "/usr/local/lib/python3.10/dist-packages/keras/src/engine/training.py:3079: UserWarning: You are saving your model as an HDF5 file via `model.save()`. This file format is considered legacy. We recommend using instead the native Keras format, e.g. `model.save('my_model.keras')`.\n",
      "  saving_api.save_model(\n"
     ]
    },
    {
     "name": "stdout",
     "output_type": "stream",
     "text": [
      "32/32 [==============================] - 1s 13ms/step\n",
      "Training RF for N2 (sliderNeutralPos)\n",
      "Training CNN for N2 (sliderNeutralPos)\n",
      "Epoch 1/10\n",
      "136/136 [==============================] - 1s 6ms/step - loss: 1.8153 - accuracy: 0.3556\n",
      "Epoch 2/10\n",
      "136/136 [==============================] - 1s 6ms/step - loss: 1.5541 - accuracy: 0.4371\n",
      "Epoch 3/10\n",
      "136/136 [==============================] - 1s 6ms/step - loss: 1.3791 - accuracy: 0.4907\n",
      "Epoch 4/10\n",
      "136/136 [==============================] - 1s 6ms/step - loss: 1.2144 - accuracy: 0.5659\n",
      "Epoch 5/10\n",
      "136/136 [==============================] - 1s 6ms/step - loss: 1.0663 - accuracy: 0.6209\n",
      "Epoch 6/10\n",
      "136/136 [==============================] - 1s 6ms/step - loss: 0.9379 - accuracy: 0.6651\n",
      "Epoch 7/10\n",
      "136/136 [==============================] - 1s 6ms/step - loss: 0.8323 - accuracy: 0.7063\n",
      "Epoch 8/10\n",
      "136/136 [==============================] - 1s 6ms/step - loss: 0.7103 - accuracy: 0.7652\n",
      "Epoch 9/10\n",
      "136/136 [==============================] - 1s 6ms/step - loss: 0.6142 - accuracy: 0.7906\n",
      "Epoch 10/10\n",
      "136/136 [==============================] - 1s 6ms/step - loss: 0.5563 - accuracy: 0.8101\n",
      "32/32 [==============================] - 0s 2ms/step\n"
     ]
    },
    {
     "name": "stderr",
     "output_type": "stream",
     "text": [
      "/usr/local/lib/python3.10/dist-packages/keras/src/engine/training.py:3079: UserWarning: You are saving your model as an HDF5 file via `model.save()`. This file format is considered legacy. We recommend using instead the native Keras format, e.g. `model.save('my_model.keras')`.\n",
      "  saving_api.save_model(\n"
     ]
    },
    {
     "name": "stdout",
     "output_type": "stream",
     "text": [
      "Training LSTM for N2 (sliderNeutralPos)\n",
      "Epoch 1/10\n",
      "136/136 [==============================] - 8s 42ms/step - loss: 1.9604 - accuracy: 0.3102\n",
      "Epoch 2/10\n",
      "136/136 [==============================] - 5s 37ms/step - loss: 1.8830 - accuracy: 0.3227\n",
      "Epoch 3/10\n",
      "136/136 [==============================] - 5s 38ms/step - loss: 1.8817 - accuracy: 0.3213\n",
      "Epoch 4/10\n",
      "136/136 [==============================] - 6s 41ms/step - loss: 1.8776 - accuracy: 0.3257\n",
      "Epoch 5/10\n",
      "136/136 [==============================] - 6s 41ms/step - loss: 1.8697 - accuracy: 0.3287\n",
      "Epoch 6/10\n",
      "136/136 [==============================] - 5s 40ms/step - loss: 1.8740 - accuracy: 0.3298\n",
      "Epoch 7/10\n",
      "136/136 [==============================] - 5s 40ms/step - loss: 1.8729 - accuracy: 0.3293\n",
      "Epoch 8/10\n",
      "136/136 [==============================] - 6s 40ms/step - loss: 1.8758 - accuracy: 0.3291\n",
      "Epoch 9/10\n",
      "136/136 [==============================] - 5s 39ms/step - loss: 1.8735 - accuracy: 0.3291\n",
      "Epoch 10/10\n",
      "136/136 [==============================] - 5s 38ms/step - loss: 1.8686 - accuracy: 0.3296\n"
     ]
    },
    {
     "name": "stderr",
     "output_type": "stream",
     "text": [
      "/usr/local/lib/python3.10/dist-packages/keras/src/engine/training.py:3079: UserWarning: You are saving your model as an HDF5 file via `model.save()`. This file format is considered legacy. We recommend using instead the native Keras format, e.g. `model.save('my_model.keras')`.\n",
      "  saving_api.save_model(\n"
     ]
    },
    {
     "name": "stdout",
     "output_type": "stream",
     "text": [
      "32/32 [==============================] - 1s 13ms/step\n",
      "Training RF for N3 (sliderNeutralPos)\n",
      "Training CNN for N3 (sliderNeutralPos)\n",
      "Epoch 1/10\n",
      "136/136 [==============================] - 1s 6ms/step - loss: 2.0179 - accuracy: 0.2757\n",
      "Epoch 2/10\n",
      "136/136 [==============================] - 1s 6ms/step - loss: 1.7745 - accuracy: 0.3639\n",
      "Epoch 3/10\n",
      "136/136 [==============================] - 1s 6ms/step - loss: 1.5840 - accuracy: 0.4285\n",
      "Epoch 4/10\n",
      "136/136 [==============================] - 1s 6ms/step - loss: 1.3855 - accuracy: 0.5142\n",
      "Epoch 5/10\n",
      "136/136 [==============================] - 1s 6ms/step - loss: 1.2151 - accuracy: 0.5659\n",
      "Epoch 6/10\n",
      "136/136 [==============================] - 1s 6ms/step - loss: 1.0625 - accuracy: 0.6232\n",
      "Epoch 7/10\n",
      "136/136 [==============================] - 1s 6ms/step - loss: 0.9362 - accuracy: 0.6734\n",
      "Epoch 8/10\n",
      "136/136 [==============================] - 1s 6ms/step - loss: 0.7982 - accuracy: 0.7224\n",
      "Epoch 9/10\n",
      "136/136 [==============================] - 1s 6ms/step - loss: 0.6954 - accuracy: 0.7567\n",
      "Epoch 10/10\n",
      "136/136 [==============================] - 1s 6ms/step - loss: 0.5842 - accuracy: 0.7988\n",
      "32/32 [==============================] - 0s 2ms/step\n"
     ]
    },
    {
     "name": "stderr",
     "output_type": "stream",
     "text": [
      "/usr/local/lib/python3.10/dist-packages/keras/src/engine/training.py:3079: UserWarning: You are saving your model as an HDF5 file via `model.save()`. This file format is considered legacy. We recommend using instead the native Keras format, e.g. `model.save('my_model.keras')`.\n",
      "  saving_api.save_model(\n"
     ]
    },
    {
     "name": "stdout",
     "output_type": "stream",
     "text": [
      "Training LSTM for N3 (sliderNeutralPos)\n",
      "Epoch 1/10\n",
      "136/136 [==============================] - 8s 41ms/step - loss: 2.1688 - accuracy: 0.2074\n",
      "Epoch 2/10\n",
      "136/136 [==============================] - 5s 37ms/step - loss: 2.1119 - accuracy: 0.2198\n",
      "Epoch 3/10\n",
      "136/136 [==============================] - 5s 36ms/step - loss: 2.1018 - accuracy: 0.2205\n",
      "Epoch 4/10\n",
      "136/136 [==============================] - 5s 34ms/step - loss: 2.0984 - accuracy: 0.2251\n",
      "Epoch 5/10\n",
      "136/136 [==============================] - 5s 36ms/step - loss: 2.0896 - accuracy: 0.2308\n",
      "Epoch 6/10\n",
      "136/136 [==============================] - 5s 37ms/step - loss: 2.0836 - accuracy: 0.2313\n",
      "Epoch 7/10\n",
      "136/136 [==============================] - 5s 40ms/step - loss: 2.0853 - accuracy: 0.2297\n",
      "Epoch 8/10\n",
      "136/136 [==============================] - 5s 40ms/step - loss: 2.0784 - accuracy: 0.2430\n",
      "Epoch 9/10\n",
      "136/136 [==============================] - 5s 40ms/step - loss: 2.0702 - accuracy: 0.2336\n",
      "Epoch 10/10\n",
      "136/136 [==============================] - 5s 40ms/step - loss: 2.0778 - accuracy: 0.2269\n"
     ]
    },
    {
     "name": "stderr",
     "output_type": "stream",
     "text": [
      "/usr/local/lib/python3.10/dist-packages/keras/src/engine/training.py:3079: UserWarning: You are saving your model as an HDF5 file via `model.save()`. This file format is considered legacy. We recommend using instead the native Keras format, e.g. `model.save('my_model.keras')`.\n",
      "  saving_api.save_model(\n"
     ]
    },
    {
     "name": "stdout",
     "output_type": "stream",
     "text": [
      "32/32 [==============================] - 1s 14ms/step\n",
      "Training RF for P3 (sliderNeutralPos)\n",
      "Training CNN for P3 (sliderNeutralPos)\n",
      "Epoch 1/10\n",
      "136/136 [==============================] - 1s 6ms/step - loss: 2.0400 - accuracy: 0.2638\n",
      "Epoch 2/10\n",
      "136/136 [==============================] - 1s 6ms/step - loss: 1.7428 - accuracy: 0.3768\n",
      "Epoch 3/10\n",
      "136/136 [==============================] - 1s 6ms/step - loss: 1.5161 - accuracy: 0.4587\n",
      "Epoch 4/10\n",
      "136/136 [==============================] - 1s 6ms/step - loss: 1.3320 - accuracy: 0.5213\n",
      "Epoch 5/10\n",
      "136/136 [==============================] - 1s 6ms/step - loss: 1.1600 - accuracy: 0.5880\n",
      "Epoch 6/10\n",
      "136/136 [==============================] - 1s 6ms/step - loss: 0.9801 - accuracy: 0.6578\n",
      "Epoch 7/10\n",
      "136/136 [==============================] - 1s 6ms/step - loss: 0.8553 - accuracy: 0.7026\n",
      "Epoch 8/10\n",
      "136/136 [==============================] - 1s 6ms/step - loss: 0.7432 - accuracy: 0.7369\n",
      "Epoch 9/10\n",
      "136/136 [==============================] - 1s 6ms/step - loss: 0.6276 - accuracy: 0.7793\n",
      "Epoch 10/10\n",
      "136/136 [==============================] - 1s 6ms/step - loss: 0.5652 - accuracy: 0.8025\n",
      "32/32 [==============================] - 0s 2ms/step\n"
     ]
    },
    {
     "name": "stderr",
     "output_type": "stream",
     "text": [
      "/usr/local/lib/python3.10/dist-packages/keras/src/engine/training.py:3079: UserWarning: You are saving your model as an HDF5 file via `model.save()`. This file format is considered legacy. We recommend using instead the native Keras format, e.g. `model.save('my_model.keras')`.\n",
      "  saving_api.save_model(\n"
     ]
    },
    {
     "name": "stdout",
     "output_type": "stream",
     "text": [
      "Training LSTM for P3 (sliderNeutralPos)\n",
      "Epoch 1/10\n",
      "136/136 [==============================] - 8s 42ms/step - loss: 2.2160 - accuracy: 0.1777\n",
      "Epoch 2/10\n",
      "136/136 [==============================] - 5s 40ms/step - loss: 2.1674 - accuracy: 0.1880\n",
      "Epoch 3/10\n",
      "136/136 [==============================] - 5s 38ms/step - loss: 2.1524 - accuracy: 0.1995\n",
      "Epoch 4/10\n",
      "136/136 [==============================] - 5s 39ms/step - loss: 2.1491 - accuracy: 0.2025\n",
      "Epoch 5/10\n",
      "136/136 [==============================] - 5s 39ms/step - loss: 2.1455 - accuracy: 0.2094\n",
      "Epoch 6/10\n",
      "136/136 [==============================] - 5s 40ms/step - loss: 2.1408 - accuracy: 0.2062\n",
      "Epoch 7/10\n",
      "136/136 [==============================] - 5s 40ms/step - loss: 2.1381 - accuracy: 0.2129\n",
      "Epoch 8/10\n",
      "136/136 [==============================] - 5s 39ms/step - loss: 2.1329 - accuracy: 0.2101\n",
      "Epoch 9/10\n",
      "136/136 [==============================] - 5s 36ms/step - loss: 2.1268 - accuracy: 0.2133\n",
      "Epoch 10/10\n",
      "136/136 [==============================] - 5s 34ms/step - loss: 2.1165 - accuracy: 0.2143\n"
     ]
    },
    {
     "name": "stderr",
     "output_type": "stream",
     "text": [
      "/usr/local/lib/python3.10/dist-packages/keras/src/engine/training.py:3079: UserWarning: You are saving your model as an HDF5 file via `model.save()`. This file format is considered legacy. We recommend using instead the native Keras format, e.g. `model.save('my_model.keras')`.\n",
      "  saving_api.save_model(\n"
     ]
    },
    {
     "name": "stdout",
     "output_type": "stream",
     "text": [
      "32/32 [==============================] - 1s 13ms/step\n",
      "Training RF for SE1 (sliderNegPos)\n",
      "Training CNN for SE1 (sliderNegPos)\n",
      "Epoch 1/10\n",
      "136/136 [==============================] - 1s 6ms/step - loss: 1.1965 - accuracy: 0.4925\n",
      "Epoch 2/10\n",
      "136/136 [==============================] - 1s 6ms/step - loss: 1.0127 - accuracy: 0.5556\n",
      "Epoch 3/10\n",
      "136/136 [==============================] - 1s 6ms/step - loss: 0.9355 - accuracy: 0.5878\n",
      "Epoch 4/10\n",
      "136/136 [==============================] - 1s 6ms/step - loss: 0.8448 - accuracy: 0.6403\n",
      "Epoch 5/10\n",
      "136/136 [==============================] - 1s 6ms/step - loss: 0.7662 - accuracy: 0.6711\n",
      "Epoch 6/10\n",
      "136/136 [==============================] - 1s 6ms/step - loss: 0.6878 - accuracy: 0.7096\n",
      "Epoch 7/10\n",
      "136/136 [==============================] - 1s 6ms/step - loss: 0.6057 - accuracy: 0.7535\n",
      "Epoch 8/10\n",
      "136/136 [==============================] - 1s 6ms/step - loss: 0.5290 - accuracy: 0.7883\n",
      "Epoch 9/10\n",
      "136/136 [==============================] - 1s 6ms/step - loss: 0.4689 - accuracy: 0.8147\n",
      "Epoch 10/10\n",
      "136/136 [==============================] - 1s 6ms/step - loss: 0.4049 - accuracy: 0.8377\n",
      "32/32 [==============================] - 0s 2ms/step\n"
     ]
    },
    {
     "name": "stderr",
     "output_type": "stream",
     "text": [
      "/usr/local/lib/python3.10/dist-packages/keras/src/engine/training.py:3079: UserWarning: You are saving your model as an HDF5 file via `model.save()`. This file format is considered legacy. We recommend using instead the native Keras format, e.g. `model.save('my_model.keras')`.\n",
      "  saving_api.save_model(\n"
     ]
    },
    {
     "name": "stdout",
     "output_type": "stream",
     "text": [
      "Training LSTM for SE1 (sliderNegPos)\n",
      "Epoch 1/10\n",
      "136/136 [==============================] - 8s 41ms/step - loss: 1.3458 - accuracy: 0.4829\n",
      "Epoch 2/10\n",
      "136/136 [==============================] - 5s 38ms/step - loss: 1.1598 - accuracy: 0.4976\n",
      "Epoch 3/10\n",
      "136/136 [==============================] - 5s 35ms/step - loss: 1.1492 - accuracy: 0.5086\n",
      "Epoch 4/10\n",
      "136/136 [==============================] - 5s 34ms/step - loss: 1.1441 - accuracy: 0.5100\n",
      "Epoch 5/10\n",
      "136/136 [==============================] - 4s 32ms/step - loss: 1.1393 - accuracy: 0.5125\n",
      "Epoch 6/10\n",
      "136/136 [==============================] - 5s 34ms/step - loss: 1.1398 - accuracy: 0.5142\n",
      "Epoch 7/10\n",
      "136/136 [==============================] - 5s 39ms/step - loss: 1.1319 - accuracy: 0.5142\n",
      "Epoch 8/10\n",
      "136/136 [==============================] - 5s 38ms/step - loss: 1.1327 - accuracy: 0.5142\n",
      "Epoch 9/10\n",
      "136/136 [==============================] - 5s 37ms/step - loss: 1.1315 - accuracy: 0.5142\n",
      "Epoch 10/10\n",
      "136/136 [==============================] - 5s 39ms/step - loss: 1.1308 - accuracy: 0.5142\n"
     ]
    },
    {
     "name": "stderr",
     "output_type": "stream",
     "text": [
      "/usr/local/lib/python3.10/dist-packages/keras/src/engine/training.py:3079: UserWarning: You are saving your model as an HDF5 file via `model.save()`. This file format is considered legacy. We recommend using instead the native Keras format, e.g. `model.save('my_model.keras')`.\n",
      "  saving_api.save_model(\n"
     ]
    },
    {
     "name": "stdout",
     "output_type": "stream",
     "text": [
      "32/32 [==============================] - 1s 13ms/step\n",
      "Training RF for SE2 (sliderNeutralPos)\n",
      "Training CNN for SE2 (sliderNeutralPos)\n",
      "Epoch 1/10\n",
      "136/136 [==============================] - 1s 6ms/step - loss: 1.2122 - accuracy: 0.4564\n",
      "Epoch 2/10\n",
      "136/136 [==============================] - 1s 6ms/step - loss: 1.0275 - accuracy: 0.5346\n",
      "Epoch 3/10\n",
      "136/136 [==============================] - 1s 6ms/step - loss: 0.9542 - accuracy: 0.5777\n",
      "Epoch 4/10\n",
      "136/136 [==============================] - 1s 6ms/step - loss: 0.8543 - accuracy: 0.6387\n",
      "Epoch 5/10\n",
      "136/136 [==============================] - 1s 6ms/step - loss: 0.7728 - accuracy: 0.6831\n",
      "Epoch 6/10\n",
      "136/136 [==============================] - 1s 6ms/step - loss: 0.6619 - accuracy: 0.7372\n",
      "Epoch 7/10\n",
      "136/136 [==============================] - 1s 6ms/step - loss: 0.5741 - accuracy: 0.7696\n",
      "Epoch 8/10\n",
      "136/136 [==============================] - 1s 6ms/step - loss: 0.4933 - accuracy: 0.8081\n",
      "Epoch 9/10\n",
      "136/136 [==============================] - 1s 6ms/step - loss: 0.4173 - accuracy: 0.8414\n",
      "Epoch 10/10\n",
      "136/136 [==============================] - 1s 6ms/step - loss: 0.3669 - accuracy: 0.8649\n",
      "32/32 [==============================] - 0s 2ms/step\n"
     ]
    },
    {
     "name": "stderr",
     "output_type": "stream",
     "text": [
      "/usr/local/lib/python3.10/dist-packages/keras/src/engine/training.py:3079: UserWarning: You are saving your model as an HDF5 file via `model.save()`. This file format is considered legacy. We recommend using instead the native Keras format, e.g. `model.save('my_model.keras')`.\n",
      "  saving_api.save_model(\n"
     ]
    },
    {
     "name": "stdout",
     "output_type": "stream",
     "text": [
      "Training LSTM for SE2 (sliderNeutralPos)\n",
      "Epoch 1/10\n",
      "136/136 [==============================] - 8s 42ms/step - loss: 1.3651 - accuracy: 0.3818\n",
      "Epoch 2/10\n",
      "136/136 [==============================] - 5s 40ms/step - loss: 1.1873 - accuracy: 0.3917\n",
      "Epoch 3/10\n",
      "136/136 [==============================] - 6s 41ms/step - loss: 1.1763 - accuracy: 0.3956\n",
      "Epoch 4/10\n",
      "136/136 [==============================] - 5s 39ms/step - loss: 1.1739 - accuracy: 0.3878\n",
      "Epoch 5/10\n",
      "136/136 [==============================] - 5s 39ms/step - loss: 1.1642 - accuracy: 0.3843\n",
      "Epoch 6/10\n",
      "136/136 [==============================] - 5s 35ms/step - loss: 1.1668 - accuracy: 0.3965\n",
      "Epoch 7/10\n",
      "136/136 [==============================] - 5s 34ms/step - loss: 1.1662 - accuracy: 0.3869\n",
      "Epoch 8/10\n",
      "136/136 [==============================] - 5s 34ms/step - loss: 1.1654 - accuracy: 0.3991\n",
      "Epoch 9/10\n",
      "136/136 [==============================] - 5s 36ms/step - loss: 1.1637 - accuracy: 0.3926\n",
      "Epoch 10/10\n",
      "136/136 [==============================] - 5s 37ms/step - loss: 1.1640 - accuracy: 0.3800\n"
     ]
    },
    {
     "name": "stderr",
     "output_type": "stream",
     "text": [
      "/usr/local/lib/python3.10/dist-packages/keras/src/engine/training.py:3079: UserWarning: You are saving your model as an HDF5 file via `model.save()`. This file format is considered legacy. We recommend using instead the native Keras format, e.g. `model.save('my_model.keras')`.\n",
      "  saving_api.save_model(\n"
     ]
    },
    {
     "name": "stdout",
     "output_type": "stream",
     "text": [
      "32/32 [==============================] - 1s 13ms/step\n",
      "Training RF for SE3 (sliderNeutralPos)\n",
      "Training CNN for SE3 (sliderNeutralPos)\n",
      "Epoch 1/10\n",
      "136/136 [==============================] - 1s 6ms/step - loss: 1.2238 - accuracy: 0.4456\n",
      "Epoch 2/10\n",
      "136/136 [==============================] - 1s 6ms/step - loss: 1.0553 - accuracy: 0.5123\n",
      "Epoch 3/10\n",
      "136/136 [==============================] - 1s 6ms/step - loss: 0.9757 - accuracy: 0.5570\n",
      "Epoch 4/10\n",
      "136/136 [==============================] - 1s 6ms/step - loss: 0.8959 - accuracy: 0.6051\n",
      "Epoch 5/10\n",
      "136/136 [==============================] - 1s 6ms/step - loss: 0.8015 - accuracy: 0.6463\n",
      "Epoch 6/10\n",
      "136/136 [==============================] - 1s 6ms/step - loss: 0.7217 - accuracy: 0.6932\n",
      "Epoch 7/10\n",
      "136/136 [==============================] - 1s 6ms/step - loss: 0.6611 - accuracy: 0.7188\n",
      "Epoch 8/10\n",
      "136/136 [==============================] - 1s 6ms/step - loss: 0.5810 - accuracy: 0.7701\n",
      "Epoch 9/10\n",
      "136/136 [==============================] - 1s 6ms/step - loss: 0.5233 - accuracy: 0.7857\n",
      "Epoch 10/10\n",
      "136/136 [==============================] - 1s 6ms/step - loss: 0.4558 - accuracy: 0.8207\n",
      "32/32 [==============================] - 0s 2ms/step\n"
     ]
    },
    {
     "name": "stderr",
     "output_type": "stream",
     "text": [
      "/usr/local/lib/python3.10/dist-packages/keras/src/engine/training.py:3079: UserWarning: You are saving your model as an HDF5 file via `model.save()`. This file format is considered legacy. We recommend using instead the native Keras format, e.g. `model.save('my_model.keras')`.\n",
      "  saving_api.save_model(\n"
     ]
    },
    {
     "name": "stdout",
     "output_type": "stream",
     "text": [
      "Training LSTM for SE3 (sliderNeutralPos)\n",
      "Epoch 1/10\n",
      "136/136 [==============================] - 8s 42ms/step - loss: 1.3728 - accuracy: 0.3754\n",
      "Epoch 2/10\n",
      "136/136 [==============================] - 6s 41ms/step - loss: 1.1967 - accuracy: 0.3968\n",
      "Epoch 3/10\n",
      "136/136 [==============================] - 5s 40ms/step - loss: 1.1841 - accuracy: 0.4012\n",
      "Epoch 4/10\n",
      "136/136 [==============================] - 5s 37ms/step - loss: 1.1794 - accuracy: 0.4018\n",
      "Epoch 5/10\n",
      "136/136 [==============================] - 5s 33ms/step - loss: 1.1750 - accuracy: 0.4113\n",
      "Epoch 6/10\n",
      "136/136 [==============================] - 5s 38ms/step - loss: 1.1710 - accuracy: 0.4110\n",
      "Epoch 7/10\n",
      "136/136 [==============================] - 5s 36ms/step - loss: 1.1711 - accuracy: 0.4085\n",
      "Epoch 8/10\n",
      "136/136 [==============================] - 5s 34ms/step - loss: 1.1712 - accuracy: 0.4147\n",
      "Epoch 9/10\n",
      "136/136 [==============================] - 5s 33ms/step - loss: 1.1703 - accuracy: 0.4182\n",
      "Epoch 10/10\n",
      "136/136 [==============================] - 5s 37ms/step - loss: 1.1665 - accuracy: 0.4214\n"
     ]
    },
    {
     "name": "stderr",
     "output_type": "stream",
     "text": [
      "/usr/local/lib/python3.10/dist-packages/keras/src/engine/training.py:3079: UserWarning: You are saving your model as an HDF5 file via `model.save()`. This file format is considered legacy. We recommend using instead the native Keras format, e.g. `model.save('my_model.keras')`.\n",
      "  saving_api.save_model(\n"
     ]
    },
    {
     "name": "stdout",
     "output_type": "stream",
     "text": [
      "32/32 [==============================] - 1s 13ms/step\n",
      "Training RF for SE4 (sliderNeutralPos)\n",
      "Training CNN for SE4 (sliderNeutralPos)\n",
      "Epoch 1/10\n",
      "136/136 [==============================] - 1s 6ms/step - loss: 1.0801 - accuracy: 0.5330\n",
      "Epoch 2/10\n",
      "136/136 [==============================] - 1s 6ms/step - loss: 0.9193 - accuracy: 0.5809\n",
      "Epoch 3/10\n",
      "136/136 [==============================] - 1s 6ms/step - loss: 0.8459 - accuracy: 0.6301\n",
      "Epoch 4/10\n",
      "136/136 [==============================] - 1s 6ms/step - loss: 0.7633 - accuracy: 0.6693\n",
      "Epoch 5/10\n",
      "136/136 [==============================] - 1s 6ms/step - loss: 0.6978 - accuracy: 0.7077\n",
      "Epoch 6/10\n",
      "136/136 [==============================] - 1s 6ms/step - loss: 0.6363 - accuracy: 0.7358\n",
      "Epoch 7/10\n",
      "136/136 [==============================] - 1s 6ms/step - loss: 0.5736 - accuracy: 0.7639\n",
      "Epoch 8/10\n",
      "136/136 [==============================] - 1s 6ms/step - loss: 0.5039 - accuracy: 0.7982\n",
      "Epoch 9/10\n",
      "136/136 [==============================] - 1s 6ms/step - loss: 0.4345 - accuracy: 0.8297\n",
      "Epoch 10/10\n",
      "136/136 [==============================] - 1s 6ms/step - loss: 0.3896 - accuracy: 0.8470\n",
      "32/32 [==============================] - 0s 2ms/step\n"
     ]
    },
    {
     "name": "stderr",
     "output_type": "stream",
     "text": [
      "/usr/local/lib/python3.10/dist-packages/keras/src/engine/training.py:3079: UserWarning: You are saving your model as an HDF5 file via `model.save()`. This file format is considered legacy. We recommend using instead the native Keras format, e.g. `model.save('my_model.keras')`.\n",
      "  saving_api.save_model(\n"
     ]
    },
    {
     "name": "stdout",
     "output_type": "stream",
     "text": [
      "Training LSTM for SE4 (sliderNeutralPos)\n",
      "Epoch 1/10\n",
      "136/136 [==============================] - 10s 42ms/step - loss: 1.2680 - accuracy: 0.5307\n",
      "Epoch 2/10\n",
      "136/136 [==============================] - 6s 41ms/step - loss: 1.0506 - accuracy: 0.5491\n",
      "Epoch 3/10\n",
      "136/136 [==============================] - 5s 39ms/step - loss: 1.0534 - accuracy: 0.5544\n",
      "Epoch 4/10\n",
      "136/136 [==============================] - 5s 35ms/step - loss: 1.0450 - accuracy: 0.5572\n",
      "Epoch 5/10\n",
      "136/136 [==============================] - 5s 34ms/step - loss: 1.0431 - accuracy: 0.5572\n",
      "Epoch 6/10\n",
      "136/136 [==============================] - 5s 36ms/step - loss: 1.0372 - accuracy: 0.5574\n",
      "Epoch 7/10\n",
      "136/136 [==============================] - 5s 35ms/step - loss: 1.0370 - accuracy: 0.5574\n",
      "Epoch 8/10\n",
      "136/136 [==============================] - 5s 39ms/step - loss: 1.0368 - accuracy: 0.5572\n",
      "Epoch 9/10\n",
      "136/136 [==============================] - 5s 38ms/step - loss: 1.0340 - accuracy: 0.5572\n",
      "Epoch 10/10\n",
      "136/136 [==============================] - 5s 39ms/step - loss: 1.0379 - accuracy: 0.5574\n"
     ]
    },
    {
     "name": "stderr",
     "output_type": "stream",
     "text": [
      "/usr/local/lib/python3.10/dist-packages/keras/src/engine/training.py:3079: UserWarning: You are saving your model as an HDF5 file via `model.save()`. This file format is considered legacy. We recommend using instead the native Keras format, e.g. `model.save('my_model.keras')`.\n",
      "  saving_api.save_model(\n"
     ]
    },
    {
     "name": "stdout",
     "output_type": "stream",
     "text": [
      "32/32 [==============================] - 1s 13ms/step\n",
      "Training RF for MIL1 (sliderNegPos)\n",
      "Training CNN for MIL1 (sliderNegPos)\n",
      "Epoch 1/10\n",
      "136/136 [==============================] - 1s 6ms/step - loss: 1.8070 - accuracy: 0.3013\n",
      "Epoch 2/10\n",
      "136/136 [==============================] - 1s 6ms/step - loss: 1.5548 - accuracy: 0.4152\n",
      "Epoch 3/10\n",
      "136/136 [==============================] - 1s 6ms/step - loss: 1.4011 - accuracy: 0.4667\n",
      "Epoch 4/10\n",
      "136/136 [==============================] - 1s 6ms/step - loss: 1.2421 - accuracy: 0.5362\n",
      "Epoch 5/10\n",
      "136/136 [==============================] - 1s 6ms/step - loss: 1.1026 - accuracy: 0.5977\n",
      "Epoch 6/10\n",
      "136/136 [==============================] - 1s 6ms/step - loss: 0.9432 - accuracy: 0.6525\n",
      "Epoch 7/10\n",
      "136/136 [==============================] - 1s 6ms/step - loss: 0.8194 - accuracy: 0.7093\n",
      "Epoch 8/10\n",
      "136/136 [==============================] - 1s 6ms/step - loss: 0.7061 - accuracy: 0.7457\n",
      "Epoch 9/10\n",
      "136/136 [==============================] - 1s 6ms/step - loss: 0.6096 - accuracy: 0.7818\n",
      "Epoch 10/10\n",
      "136/136 [==============================] - 1s 5ms/step - loss: 0.5224 - accuracy: 0.8212\n",
      "32/32 [==============================] - 0s 2ms/step\n"
     ]
    },
    {
     "name": "stderr",
     "output_type": "stream",
     "text": [
      "/usr/local/lib/python3.10/dist-packages/keras/src/engine/training.py:3079: UserWarning: You are saving your model as an HDF5 file via `model.save()`. This file format is considered legacy. We recommend using instead the native Keras format, e.g. `model.save('my_model.keras')`.\n",
      "  saving_api.save_model(\n"
     ]
    },
    {
     "name": "stdout",
     "output_type": "stream",
     "text": [
      "Training LSTM for MIL1 (sliderNegPos)\n",
      "Epoch 1/10\n",
      "136/136 [==============================] - 8s 41ms/step - loss: 1.9966 - accuracy: 0.1926\n",
      "Epoch 2/10\n",
      "136/136 [==============================] - 5s 40ms/step - loss: 1.8995 - accuracy: 0.2007\n",
      "Epoch 3/10\n",
      "136/136 [==============================] - 5s 38ms/step - loss: 1.8871 - accuracy: 0.2076\n",
      "Epoch 4/10\n",
      "136/136 [==============================] - 5s 37ms/step - loss: 1.8819 - accuracy: 0.2193\n",
      "Epoch 5/10\n",
      "136/136 [==============================] - 5s 37ms/step - loss: 1.8773 - accuracy: 0.2191\n",
      "Epoch 6/10\n",
      "136/136 [==============================] - 5s 39ms/step - loss: 1.8740 - accuracy: 0.2221\n",
      "Epoch 7/10\n",
      "136/136 [==============================] - 5s 39ms/step - loss: 1.8662 - accuracy: 0.2223\n",
      "Epoch 8/10\n",
      "136/136 [==============================] - 5s 37ms/step - loss: 1.8673 - accuracy: 0.2265\n",
      "Epoch 9/10\n",
      "136/136 [==============================] - 5s 38ms/step - loss: 1.8634 - accuracy: 0.2239\n",
      "Epoch 10/10\n",
      "136/136 [==============================] - 5s 39ms/step - loss: 1.8564 - accuracy: 0.2269\n"
     ]
    },
    {
     "name": "stderr",
     "output_type": "stream",
     "text": [
      "/usr/local/lib/python3.10/dist-packages/keras/src/engine/training.py:3079: UserWarning: You are saving your model as an HDF5 file via `model.save()`. This file format is considered legacy. We recommend using instead the native Keras format, e.g. `model.save('my_model.keras')`.\n",
      "  saving_api.save_model(\n"
     ]
    },
    {
     "name": "stdout",
     "output_type": "stream",
     "text": [
      "32/32 [==============================] - 1s 13ms/step\n",
      "Training RF for MIL2 (sliderNeutralPos)\n",
      "Training CNN for MIL2 (sliderNeutralPos)\n",
      "Epoch 1/10\n",
      "136/136 [==============================] - 1s 6ms/step - loss: 1.6447 - accuracy: 0.3510\n",
      "Epoch 2/10\n",
      "136/136 [==============================] - 1s 6ms/step - loss: 1.4004 - accuracy: 0.4504\n",
      "Epoch 3/10\n",
      "136/136 [==============================] - 1s 6ms/step - loss: 1.2708 - accuracy: 0.5100\n",
      "Epoch 4/10\n",
      "136/136 [==============================] - 1s 6ms/step - loss: 1.1457 - accuracy: 0.5604\n",
      "Epoch 5/10\n",
      "136/136 [==============================] - 1s 6ms/step - loss: 0.9932 - accuracy: 0.6251\n",
      "Epoch 6/10\n",
      "136/136 [==============================] - 1s 6ms/step - loss: 0.8646 - accuracy: 0.6785\n",
      "Epoch 7/10\n",
      "136/136 [==============================] - 1s 6ms/step - loss: 0.7581 - accuracy: 0.7183\n",
      "Epoch 8/10\n",
      "136/136 [==============================] - 1s 6ms/step - loss: 0.6703 - accuracy: 0.7535\n",
      "Epoch 9/10\n",
      "136/136 [==============================] - 1s 6ms/step - loss: 0.5689 - accuracy: 0.7924\n",
      "Epoch 10/10\n",
      "136/136 [==============================] - 1s 6ms/step - loss: 0.4724 - accuracy: 0.8352\n",
      "32/32 [==============================] - 0s 2ms/step\n"
     ]
    },
    {
     "name": "stderr",
     "output_type": "stream",
     "text": [
      "/usr/local/lib/python3.10/dist-packages/keras/src/engine/training.py:3079: UserWarning: You are saving your model as an HDF5 file via `model.save()`. This file format is considered legacy. We recommend using instead the native Keras format, e.g. `model.save('my_model.keras')`.\n",
      "  saving_api.save_model(\n"
     ]
    },
    {
     "name": "stdout",
     "output_type": "stream",
     "text": [
      "Training LSTM for MIL2 (sliderNeutralPos)\n",
      "Epoch 1/10\n",
      "136/136 [==============================] - 8s 42ms/step - loss: 1.7807 - accuracy: 0.2985\n",
      "Epoch 2/10\n",
      "136/136 [==============================] - 5s 39ms/step - loss: 1.6887 - accuracy: 0.2983\n",
      "Epoch 3/10\n",
      "136/136 [==============================] - 5s 39ms/step - loss: 1.6741 - accuracy: 0.3109\n",
      "Epoch 4/10\n",
      "136/136 [==============================] - 5s 38ms/step - loss: 1.6688 - accuracy: 0.3160\n",
      "Epoch 5/10\n",
      "136/136 [==============================] - 5s 40ms/step - loss: 1.6676 - accuracy: 0.3142\n",
      "Epoch 6/10\n",
      "136/136 [==============================] - 5s 40ms/step - loss: 1.6628 - accuracy: 0.3169\n",
      "Epoch 7/10\n",
      "136/136 [==============================] - 5s 40ms/step - loss: 1.6653 - accuracy: 0.3153\n",
      "Epoch 8/10\n",
      "136/136 [==============================] - 6s 41ms/step - loss: 1.6653 - accuracy: 0.3197\n",
      "Epoch 9/10\n",
      "136/136 [==============================] - 5s 40ms/step - loss: 1.6623 - accuracy: 0.3190\n",
      "Epoch 10/10\n",
      "136/136 [==============================] - 6s 41ms/step - loss: 1.6625 - accuracy: 0.3197\n"
     ]
    },
    {
     "name": "stderr",
     "output_type": "stream",
     "text": [
      "/usr/local/lib/python3.10/dist-packages/keras/src/engine/training.py:3079: UserWarning: You are saving your model as an HDF5 file via `model.save()`. This file format is considered legacy. We recommend using instead the native Keras format, e.g. `model.save('my_model.keras')`.\n",
      "  saving_api.save_model(\n"
     ]
    },
    {
     "name": "stdout",
     "output_type": "stream",
     "text": [
      "32/32 [==============================] - 1s 14ms/step\n",
      "Training RF for MIL3 (sliderNeutralPos)\n",
      "Training CNN for MIL3 (sliderNeutralPos)\n",
      "Epoch 1/10\n",
      "136/136 [==============================] - 1s 6ms/step - loss: 1.7689 - accuracy: 0.2909\n",
      "Epoch 2/10\n",
      "136/136 [==============================] - 1s 6ms/step - loss: 1.5491 - accuracy: 0.3867\n",
      "Epoch 3/10\n",
      "136/136 [==============================] - 1s 6ms/step - loss: 1.3968 - accuracy: 0.4677\n",
      "Epoch 4/10\n",
      "136/136 [==============================] - 1s 6ms/step - loss: 1.2552 - accuracy: 0.5250\n",
      "Epoch 5/10\n",
      "136/136 [==============================] - 1s 6ms/step - loss: 1.1283 - accuracy: 0.5639\n",
      "Epoch 6/10\n",
      "136/136 [==============================] - 1s 6ms/step - loss: 1.0110 - accuracy: 0.6212\n",
      "Epoch 7/10\n",
      "136/136 [==============================] - 1s 6ms/step - loss: 0.9032 - accuracy: 0.6723\n",
      "Epoch 8/10\n",
      "136/136 [==============================] - 1s 6ms/step - loss: 0.7793 - accuracy: 0.7123\n",
      "Epoch 9/10\n",
      "136/136 [==============================] - 1s 6ms/step - loss: 0.6775 - accuracy: 0.7560\n",
      "Epoch 10/10\n",
      "136/136 [==============================] - 1s 6ms/step - loss: 0.6062 - accuracy: 0.7823\n",
      "32/32 [==============================] - 0s 2ms/step\n"
     ]
    },
    {
     "name": "stderr",
     "output_type": "stream",
     "text": [
      "/usr/local/lib/python3.10/dist-packages/keras/src/engine/training.py:3079: UserWarning: You are saving your model as an HDF5 file via `model.save()`. This file format is considered legacy. We recommend using instead the native Keras format, e.g. `model.save('my_model.keras')`.\n",
      "  saving_api.save_model(\n"
     ]
    },
    {
     "name": "stdout",
     "output_type": "stream",
     "text": [
      "Training LSTM for MIL3 (sliderNeutralPos)\n",
      "Epoch 1/10\n",
      "136/136 [==============================] - 8s 41ms/step - loss: 1.8973 - accuracy: 0.2228\n",
      "Epoch 2/10\n",
      "136/136 [==============================] - 5s 36ms/step - loss: 1.8083 - accuracy: 0.2352\n",
      "Epoch 3/10\n",
      "136/136 [==============================] - 5s 37ms/step - loss: 1.8008 - accuracy: 0.2380\n",
      "Epoch 4/10\n",
      "136/136 [==============================] - 5s 38ms/step - loss: 1.7937 - accuracy: 0.2433\n",
      "Epoch 5/10\n",
      "136/136 [==============================] - 5s 37ms/step - loss: 1.7878 - accuracy: 0.2396\n",
      "Epoch 6/10\n",
      "136/136 [==============================] - 5s 34ms/step - loss: 1.7931 - accuracy: 0.2437\n",
      "Epoch 7/10\n",
      "136/136 [==============================] - 5s 34ms/step - loss: 1.7876 - accuracy: 0.2493\n",
      "Epoch 8/10\n",
      "136/136 [==============================] - 5s 33ms/step - loss: 1.7881 - accuracy: 0.2486\n",
      "Epoch 9/10\n",
      "136/136 [==============================] - 5s 34ms/step - loss: 1.7885 - accuracy: 0.2502\n",
      "Epoch 10/10\n",
      "136/136 [==============================] - 4s 32ms/step - loss: 1.7882 - accuracy: 0.2483\n"
     ]
    },
    {
     "name": "stderr",
     "output_type": "stream",
     "text": [
      "/usr/local/lib/python3.10/dist-packages/keras/src/engine/training.py:3079: UserWarning: You are saving your model as an HDF5 file via `model.save()`. This file format is considered legacy. We recommend using instead the native Keras format, e.g. `model.save('my_model.keras')`.\n",
      "  saving_api.save_model(\n"
     ]
    },
    {
     "name": "stdout",
     "output_type": "stream",
     "text": [
      "32/32 [==============================] - 1s 13ms/step\n",
      "Training RF for MIL4 (sliderNeutralPos)\n",
      "Training CNN for MIL4 (sliderNeutralPos)\n",
      "Epoch 1/10\n",
      "136/136 [==============================] - 1s 6ms/step - loss: 1.7628 - accuracy: 0.3305\n",
      "Epoch 2/10\n",
      "136/136 [==============================] - 1s 6ms/step - loss: 1.5298 - accuracy: 0.4154\n",
      "Epoch 3/10\n",
      "136/136 [==============================] - 1s 6ms/step - loss: 1.3954 - accuracy: 0.4759\n",
      "Epoch 4/10\n",
      "136/136 [==============================] - 1s 6ms/step - loss: 1.2556 - accuracy: 0.5310\n",
      "Epoch 5/10\n",
      "136/136 [==============================] - 1s 6ms/step - loss: 1.1193 - accuracy: 0.5832\n",
      "Epoch 6/10\n",
      "136/136 [==============================] - 1s 6ms/step - loss: 0.9974 - accuracy: 0.6387\n",
      "Epoch 7/10\n",
      "136/136 [==============================] - 1s 6ms/step - loss: 0.8807 - accuracy: 0.6787\n",
      "Epoch 8/10\n",
      "136/136 [==============================] - 1s 6ms/step - loss: 0.7689 - accuracy: 0.7165\n",
      "Epoch 9/10\n",
      "136/136 [==============================] - 1s 6ms/step - loss: 0.6993 - accuracy: 0.7533\n",
      "Epoch 10/10\n",
      "136/136 [==============================] - 1s 6ms/step - loss: 0.6126 - accuracy: 0.7811\n",
      "32/32 [==============================] - 0s 2ms/step\n"
     ]
    },
    {
     "name": "stderr",
     "output_type": "stream",
     "text": [
      "/usr/local/lib/python3.10/dist-packages/keras/src/engine/training.py:3079: UserWarning: You are saving your model as an HDF5 file via `model.save()`. This file format is considered legacy. We recommend using instead the native Keras format, e.g. `model.save('my_model.keras')`.\n",
      "  saving_api.save_model(\n"
     ]
    },
    {
     "name": "stdout",
     "output_type": "stream",
     "text": [
      "Training LSTM for MIL4 (sliderNeutralPos)\n",
      "Epoch 1/10\n",
      "136/136 [==============================] - 8s 40ms/step - loss: 1.9149 - accuracy: 0.2640\n",
      "Epoch 2/10\n",
      "136/136 [==============================] - 6s 41ms/step - loss: 1.8173 - accuracy: 0.2766\n",
      "Epoch 3/10\n",
      "136/136 [==============================] - 6s 41ms/step - loss: 1.8107 - accuracy: 0.2845\n",
      "Epoch 4/10\n",
      "136/136 [==============================] - 6s 42ms/step - loss: 1.8086 - accuracy: 0.2877\n",
      "Epoch 5/10\n",
      "136/136 [==============================] - 6s 41ms/step - loss: 1.7985 - accuracy: 0.2893\n",
      "Epoch 6/10\n",
      "136/136 [==============================] - 5s 40ms/step - loss: 1.8012 - accuracy: 0.2886\n",
      "Epoch 7/10\n",
      "136/136 [==============================] - 5s 40ms/step - loss: 1.7970 - accuracy: 0.2898\n",
      "Epoch 8/10\n",
      "136/136 [==============================] - 5s 38ms/step - loss: 1.7975 - accuracy: 0.2911\n",
      "Epoch 9/10\n",
      "136/136 [==============================] - 5s 40ms/step - loss: 1.7959 - accuracy: 0.2904\n",
      "Epoch 10/10\n",
      "136/136 [==============================] - 5s 38ms/step - loss: 1.7967 - accuracy: 0.2900\n"
     ]
    },
    {
     "name": "stderr",
     "output_type": "stream",
     "text": [
      "/usr/local/lib/python3.10/dist-packages/keras/src/engine/training.py:3079: UserWarning: You are saving your model as an HDF5 file via `model.save()`. This file format is considered legacy. We recommend using instead the native Keras format, e.g. `model.save('my_model.keras')`.\n",
      "  saving_api.save_model(\n"
     ]
    },
    {
     "name": "stdout",
     "output_type": "stream",
     "text": [
      "32/32 [==============================] - 1s 13ms/step\n",
      "Training RF for MIL5 (sliderNeutralPos)\n",
      "Training CNN for MIL5 (sliderNeutralPos)\n",
      "Epoch 1/10\n",
      "136/136 [==============================] - 1s 6ms/step - loss: 1.7332 - accuracy: 0.3266\n",
      "Epoch 2/10\n",
      "136/136 [==============================] - 1s 6ms/step - loss: 1.4835 - accuracy: 0.4283\n",
      "Epoch 3/10\n",
      "136/136 [==============================] - 1s 6ms/step - loss: 1.3268 - accuracy: 0.4888\n",
      "Epoch 4/10\n",
      "136/136 [==============================] - 1s 6ms/step - loss: 1.1860 - accuracy: 0.5480\n",
      "Epoch 5/10\n",
      "136/136 [==============================] - 1s 5ms/step - loss: 1.0608 - accuracy: 0.5913\n",
      "Epoch 6/10\n",
      "136/136 [==============================] - 1s 6ms/step - loss: 0.9295 - accuracy: 0.6527\n",
      "Epoch 7/10\n",
      "136/136 [==============================] - 1s 6ms/step - loss: 0.8191 - accuracy: 0.6957\n",
      "Epoch 8/10\n",
      "136/136 [==============================] - 1s 6ms/step - loss: 0.7084 - accuracy: 0.7383\n",
      "Epoch 9/10\n",
      "136/136 [==============================] - 1s 6ms/step - loss: 0.6163 - accuracy: 0.7779\n",
      "Epoch 10/10\n",
      "136/136 [==============================] - 1s 6ms/step - loss: 0.5298 - accuracy: 0.8058\n",
      "32/32 [==============================] - 0s 2ms/step\n"
     ]
    },
    {
     "name": "stderr",
     "output_type": "stream",
     "text": [
      "/usr/local/lib/python3.10/dist-packages/keras/src/engine/training.py:3079: UserWarning: You are saving your model as an HDF5 file via `model.save()`. This file format is considered legacy. We recommend using instead the native Keras format, e.g. `model.save('my_model.keras')`.\n",
      "  saving_api.save_model(\n"
     ]
    },
    {
     "name": "stdout",
     "output_type": "stream",
     "text": [
      "Training LSTM for MIL5 (sliderNeutralPos)\n",
      "Epoch 1/10\n",
      "136/136 [==============================] - 8s 42ms/step - loss: 1.8921 - accuracy: 0.2502\n",
      "Epoch 2/10\n",
      "136/136 [==============================] - 6s 41ms/step - loss: 1.8003 - accuracy: 0.2603\n",
      "Epoch 3/10\n",
      "136/136 [==============================] - 5s 38ms/step - loss: 1.7849 - accuracy: 0.2543\n",
      "Epoch 4/10\n",
      "136/136 [==============================] - 5s 34ms/step - loss: 1.7791 - accuracy: 0.2681\n",
      "Epoch 5/10\n",
      "136/136 [==============================] - 5s 34ms/step - loss: 1.7727 - accuracy: 0.2638\n",
      "Epoch 6/10\n",
      "136/136 [==============================] - 5s 36ms/step - loss: 1.7747 - accuracy: 0.2702\n",
      "Epoch 7/10\n",
      "136/136 [==============================] - 5s 38ms/step - loss: 1.7741 - accuracy: 0.2769\n",
      "Epoch 8/10\n",
      "136/136 [==============================] - 5s 38ms/step - loss: 1.7704 - accuracy: 0.2780\n",
      "Epoch 9/10\n",
      "136/136 [==============================] - 5s 37ms/step - loss: 1.7619 - accuracy: 0.2799\n",
      "Epoch 10/10\n",
      "136/136 [==============================] - 5s 39ms/step - loss: 1.7579 - accuracy: 0.2750\n"
     ]
    },
    {
     "name": "stderr",
     "output_type": "stream",
     "text": [
      "/usr/local/lib/python3.10/dist-packages/keras/src/engine/training.py:3079: UserWarning: You are saving your model as an HDF5 file via `model.save()`. This file format is considered legacy. We recommend using instead the native Keras format, e.g. `model.save('my_model.keras')`.\n",
      "  saving_api.save_model(\n"
     ]
    },
    {
     "name": "stdout",
     "output_type": "stream",
     "text": [
      "32/32 [==============================] - 1s 13ms/step\n",
      "Training RF for PRO1 (sliderNeutralPos)\n",
      "Training CNN for PRO1 (sliderNeutralPos)\n",
      "Epoch 1/10\n",
      "136/136 [==============================] - 1s 6ms/step - loss: 2.0670 - accuracy: 0.2783\n",
      "Epoch 2/10\n",
      "136/136 [==============================] - 1s 6ms/step - loss: 1.8099 - accuracy: 0.3641\n",
      "Epoch 3/10\n",
      "136/136 [==============================] - 1s 6ms/step - loss: 1.6096 - accuracy: 0.4297\n",
      "Epoch 4/10\n",
      "136/136 [==============================] - 1s 6ms/step - loss: 1.4232 - accuracy: 0.5026\n",
      "Epoch 5/10\n",
      "136/136 [==============================] - 1s 6ms/step - loss: 1.2380 - accuracy: 0.5659\n",
      "Epoch 6/10\n",
      "136/136 [==============================] - 1s 6ms/step - loss: 1.0733 - accuracy: 0.6232\n",
      "Epoch 7/10\n",
      "136/136 [==============================] - 1s 6ms/step - loss: 0.9214 - accuracy: 0.6829\n",
      "Epoch 8/10\n",
      "136/136 [==============================] - 1s 6ms/step - loss: 0.8271 - accuracy: 0.7130\n",
      "Epoch 9/10\n",
      "136/136 [==============================] - 1s 6ms/step - loss: 0.7100 - accuracy: 0.7480\n",
      "Epoch 10/10\n",
      "136/136 [==============================] - 1s 6ms/step - loss: 0.6162 - accuracy: 0.7910\n",
      "32/32 [==============================] - 0s 2ms/step\n"
     ]
    },
    {
     "name": "stderr",
     "output_type": "stream",
     "text": [
      "/usr/local/lib/python3.10/dist-packages/keras/src/engine/training.py:3079: UserWarning: You are saving your model as an HDF5 file via `model.save()`. This file format is considered legacy. We recommend using instead the native Keras format, e.g. `model.save('my_model.keras')`.\n",
      "  saving_api.save_model(\n"
     ]
    },
    {
     "name": "stdout",
     "output_type": "stream",
     "text": [
      "Training LSTM for PRO1 (sliderNeutralPos)\n",
      "Epoch 1/10\n",
      "136/136 [==============================] - 8s 42ms/step - loss: 2.2023 - accuracy: 0.2078\n",
      "Epoch 2/10\n",
      "136/136 [==============================] - 6s 41ms/step - loss: 2.1512 - accuracy: 0.2177\n",
      "Epoch 3/10\n",
      "136/136 [==============================] - 5s 40ms/step - loss: 2.1404 - accuracy: 0.2184\n",
      "Epoch 4/10\n",
      "136/136 [==============================] - 5s 40ms/step - loss: 2.1390 - accuracy: 0.2205\n",
      "Epoch 5/10\n",
      "136/136 [==============================] - 6s 40ms/step - loss: 2.1408 - accuracy: 0.2145\n",
      "Epoch 6/10\n",
      "136/136 [==============================] - 5s 39ms/step - loss: 2.1314 - accuracy: 0.2198\n",
      "Epoch 7/10\n",
      "136/136 [==============================] - 5s 39ms/step - loss: 2.1351 - accuracy: 0.2163\n",
      "Epoch 8/10\n",
      "136/136 [==============================] - 5s 39ms/step - loss: 2.1247 - accuracy: 0.2173\n",
      "Epoch 9/10\n",
      "136/136 [==============================] - 5s 40ms/step - loss: 2.1178 - accuracy: 0.2226\n",
      "Epoch 10/10\n",
      "136/136 [==============================] - 6s 41ms/step - loss: 2.1149 - accuracy: 0.2226\n"
     ]
    },
    {
     "name": "stderr",
     "output_type": "stream",
     "text": [
      "/usr/local/lib/python3.10/dist-packages/keras/src/engine/training.py:3079: UserWarning: You are saving your model as an HDF5 file via `model.save()`. This file format is considered legacy. We recommend using instead the native Keras format, e.g. `model.save('my_model.keras')`.\n",
      "  saving_api.save_model(\n"
     ]
    },
    {
     "name": "stdout",
     "output_type": "stream",
     "text": [
      "32/32 [==============================] - 1s 14ms/step\n",
      "Training RF for PRO2 (sliderNeutralPos)\n",
      "Training CNN for PRO2 (sliderNeutralPos)\n",
      "Epoch 1/10\n",
      "136/136 [==============================] - 1s 6ms/step - loss: 2.0071 - accuracy: 0.2555\n",
      "Epoch 2/10\n",
      "136/136 [==============================] - 1s 6ms/step - loss: 1.7237 - accuracy: 0.3623\n",
      "Epoch 3/10\n",
      "136/136 [==============================] - 1s 6ms/step - loss: 1.5194 - accuracy: 0.4463\n",
      "Epoch 4/10\n",
      "136/136 [==============================] - 1s 6ms/step - loss: 1.3174 - accuracy: 0.5280\n",
      "Epoch 5/10\n",
      "136/136 [==============================] - 1s 6ms/step - loss: 1.1514 - accuracy: 0.5843\n",
      "Epoch 6/10\n",
      "136/136 [==============================] - 1s 6ms/step - loss: 1.0136 - accuracy: 0.6371\n",
      "Epoch 7/10\n",
      "136/136 [==============================] - 1s 6ms/step - loss: 0.8879 - accuracy: 0.6838\n",
      "Epoch 8/10\n",
      "136/136 [==============================] - 1s 6ms/step - loss: 0.7759 - accuracy: 0.7234\n",
      "Epoch 9/10\n",
      "136/136 [==============================] - 1s 6ms/step - loss: 0.6656 - accuracy: 0.7625\n",
      "Epoch 10/10\n",
      "136/136 [==============================] - 1s 6ms/step - loss: 0.5939 - accuracy: 0.7922\n",
      "32/32 [==============================] - 0s 2ms/step\n"
     ]
    },
    {
     "name": "stderr",
     "output_type": "stream",
     "text": [
      "/usr/local/lib/python3.10/dist-packages/keras/src/engine/training.py:3079: UserWarning: You are saving your model as an HDF5 file via `model.save()`. This file format is considered legacy. We recommend using instead the native Keras format, e.g. `model.save('my_model.keras')`.\n",
      "  saving_api.save_model(\n"
     ]
    },
    {
     "name": "stdout",
     "output_type": "stream",
     "text": [
      "Training LSTM for PRO2 (sliderNeutralPos)\n",
      "Epoch 1/10\n",
      "136/136 [==============================] - 8s 41ms/step - loss: 2.1377 - accuracy: 0.1903\n",
      "Epoch 2/10\n",
      "136/136 [==============================] - 5s 40ms/step - loss: 2.0881 - accuracy: 0.2090\n",
      "Epoch 3/10\n",
      "136/136 [==============================] - 5s 40ms/step - loss: 2.0848 - accuracy: 0.2021\n",
      "Epoch 4/10\n",
      "136/136 [==============================] - 5s 38ms/step - loss: 2.0775 - accuracy: 0.2012\n",
      "Epoch 5/10\n",
      "136/136 [==============================] - 5s 36ms/step - loss: 2.0733 - accuracy: 0.2078\n",
      "Epoch 6/10\n",
      "136/136 [==============================] - 5s 39ms/step - loss: 2.0684 - accuracy: 0.2044\n",
      "Epoch 7/10\n",
      "136/136 [==============================] - 5s 39ms/step - loss: 2.0584 - accuracy: 0.2099\n",
      "Epoch 8/10\n",
      "136/136 [==============================] - 5s 37ms/step - loss: 2.0549 - accuracy: 0.2025\n",
      "Epoch 9/10\n",
      "136/136 [==============================] - 4s 33ms/step - loss: 2.0500 - accuracy: 0.1998\n",
      "Epoch 10/10\n",
      "136/136 [==============================] - 5s 34ms/step - loss: 2.0480 - accuracy: 0.2129\n"
     ]
    },
    {
     "name": "stderr",
     "output_type": "stream",
     "text": [
      "/usr/local/lib/python3.10/dist-packages/keras/src/engine/training.py:3079: UserWarning: You are saving your model as an HDF5 file via `model.save()`. This file format is considered legacy. We recommend using instead the native Keras format, e.g. `model.save('my_model.keras')`.\n",
      "  saving_api.save_model(\n"
     ]
    },
    {
     "name": "stdout",
     "output_type": "stream",
     "text": [
      "32/32 [==============================] - 1s 14ms/step\n",
      "Training RF for PRO3 (sliderNeutralPos)\n",
      "Training CNN for PRO3 (sliderNeutralPos)\n",
      "Epoch 1/10\n",
      "136/136 [==============================] - 1s 6ms/step - loss: 1.9820 - accuracy: 0.2734\n",
      "Epoch 2/10\n",
      "136/136 [==============================] - 1s 6ms/step - loss: 1.7183 - accuracy: 0.3712\n",
      "Epoch 3/10\n",
      "136/136 [==============================] - 1s 6ms/step - loss: 1.5332 - accuracy: 0.4430\n",
      "Epoch 4/10\n",
      "136/136 [==============================] - 1s 6ms/step - loss: 1.3552 - accuracy: 0.5043\n",
      "Epoch 5/10\n",
      "136/136 [==============================] - 1s 6ms/step - loss: 1.1887 - accuracy: 0.5765\n",
      "Epoch 6/10\n",
      "136/136 [==============================] - 1s 6ms/step - loss: 1.0481 - accuracy: 0.6290\n",
      "Epoch 7/10\n",
      "136/136 [==============================] - 1s 6ms/step - loss: 0.9078 - accuracy: 0.6895\n",
      "Epoch 8/10\n",
      "136/136 [==============================] - 1s 6ms/step - loss: 0.7941 - accuracy: 0.7280\n",
      "Epoch 9/10\n",
      "136/136 [==============================] - 1s 6ms/step - loss: 0.7067 - accuracy: 0.7478\n",
      "Epoch 10/10\n",
      "136/136 [==============================] - 1s 6ms/step - loss: 0.6098 - accuracy: 0.7827\n",
      "32/32 [==============================] - 0s 2ms/step\n"
     ]
    },
    {
     "name": "stderr",
     "output_type": "stream",
     "text": [
      "/usr/local/lib/python3.10/dist-packages/keras/src/engine/training.py:3079: UserWarning: You are saving your model as an HDF5 file via `model.save()`. This file format is considered legacy. We recommend using instead the native Keras format, e.g. `model.save('my_model.keras')`.\n",
      "  saving_api.save_model(\n"
     ]
    },
    {
     "name": "stdout",
     "output_type": "stream",
     "text": [
      "Training LSTM for PRO3 (sliderNeutralPos)\n",
      "Epoch 1/10\n",
      "136/136 [==============================] - 8s 41ms/step - loss: 2.1223 - accuracy: 0.2081\n",
      "Epoch 2/10\n",
      "136/136 [==============================] - 5s 38ms/step - loss: 2.0652 - accuracy: 0.2094\n",
      "Epoch 3/10\n",
      "136/136 [==============================] - 5s 35ms/step - loss: 2.0451 - accuracy: 0.2230\n",
      "Epoch 4/10\n",
      "136/136 [==============================] - 5s 35ms/step - loss: 2.0496 - accuracy: 0.2200\n",
      "Epoch 5/10\n",
      "136/136 [==============================] - 5s 36ms/step - loss: 2.0386 - accuracy: 0.2262\n",
      "Epoch 6/10\n",
      "136/136 [==============================] - 5s 39ms/step - loss: 2.0354 - accuracy: 0.2272\n",
      "Epoch 7/10\n",
      "136/136 [==============================] - 5s 36ms/step - loss: 2.0287 - accuracy: 0.2313\n",
      "Epoch 8/10\n",
      "136/136 [==============================] - 5s 38ms/step - loss: 2.0183 - accuracy: 0.2419\n",
      "Epoch 9/10\n",
      "136/136 [==============================] - 5s 39ms/step - loss: 2.0159 - accuracy: 0.2407\n",
      "Epoch 10/10\n",
      "136/136 [==============================] - 5s 38ms/step - loss: 2.0084 - accuracy: 0.2366\n"
     ]
    },
    {
     "name": "stderr",
     "output_type": "stream",
     "text": [
      "/usr/local/lib/python3.10/dist-packages/keras/src/engine/training.py:3079: UserWarning: You are saving your model as an HDF5 file via `model.save()`. This file format is considered legacy. We recommend using instead the native Keras format, e.g. `model.save('my_model.keras')`.\n",
      "  saving_api.save_model(\n"
     ]
    },
    {
     "name": "stdout",
     "output_type": "stream",
     "text": [
      "32/32 [==============================] - 3s 14ms/step\n",
      "Loading data from: folds_transformed/fold_2_train_scaled.csv\n",
      "Loading data from: folds_transformed/fold_2_test_scaled.csv\n",
      "Training RF for P1 (sliderNeutralPos)\n",
      "Training CNN for P1 (sliderNeutralPos)\n",
      "Epoch 1/10\n",
      "136/136 [==============================] - 1s 6ms/step - loss: 1.9725 - accuracy: 0.2819\n",
      "Epoch 2/10\n",
      "136/136 [==============================] - 1s 6ms/step - loss: 1.6913 - accuracy: 0.3855\n",
      "Epoch 3/10\n",
      "136/136 [==============================] - 1s 6ms/step - loss: 1.4904 - accuracy: 0.4633\n",
      "Epoch 4/10\n",
      "136/136 [==============================] - 1s 6ms/step - loss: 1.3013 - accuracy: 0.5296\n",
      "Epoch 5/10\n",
      "136/136 [==============================] - 1s 6ms/step - loss: 1.1304 - accuracy: 0.5892\n",
      "Epoch 6/10\n",
      "136/136 [==============================] - 1s 6ms/step - loss: 0.9817 - accuracy: 0.6495\n",
      "Epoch 7/10\n",
      "136/136 [==============================] - 1s 7ms/step - loss: 0.8505 - accuracy: 0.6985\n",
      "Epoch 8/10\n",
      "136/136 [==============================] - 1s 6ms/step - loss: 0.7246 - accuracy: 0.7425\n",
      "Epoch 9/10\n",
      "136/136 [==============================] - 1s 6ms/step - loss: 0.6149 - accuracy: 0.7818\n",
      "Epoch 10/10\n",
      "136/136 [==============================] - 1s 6ms/step - loss: 0.5331 - accuracy: 0.8152\n",
      "32/32 [==============================] - 0s 2ms/step\n"
     ]
    },
    {
     "name": "stderr",
     "output_type": "stream",
     "text": [
      "/usr/local/lib/python3.10/dist-packages/keras/src/engine/training.py:3079: UserWarning: You are saving your model as an HDF5 file via `model.save()`. This file format is considered legacy. We recommend using instead the native Keras format, e.g. `model.save('my_model.keras')`.\n",
      "  saving_api.save_model(\n"
     ]
    },
    {
     "name": "stdout",
     "output_type": "stream",
     "text": [
      "Training LSTM for P1 (sliderNeutralPos)\n",
      "Epoch 1/10\n",
      "136/136 [==============================] - 19s 126ms/step - loss: 2.1185 - accuracy: 0.2357\n",
      "Epoch 2/10\n",
      "136/136 [==============================] - 17s 125ms/step - loss: 2.0474 - accuracy: 0.2437\n",
      "Epoch 3/10\n",
      "136/136 [==============================] - 17s 123ms/step - loss: 2.0266 - accuracy: 0.2419\n",
      "Epoch 4/10\n",
      "136/136 [==============================] - 16s 115ms/step - loss: 2.0140 - accuracy: 0.2493\n",
      "Epoch 5/10\n",
      "136/136 [==============================] - 17s 125ms/step - loss: 2.0045 - accuracy: 0.2467\n",
      "Epoch 6/10\n",
      "136/136 [==============================] - 17s 126ms/step - loss: 1.9939 - accuracy: 0.2532\n",
      "Epoch 7/10\n",
      "136/136 [==============================] - 16s 117ms/step - loss: 1.9806 - accuracy: 0.2665\n",
      "Epoch 8/10\n",
      "136/136 [==============================] - 16s 121ms/step - loss: 1.9657 - accuracy: 0.2621\n",
      "Epoch 9/10\n",
      "136/136 [==============================] - 17s 125ms/step - loss: 1.9478 - accuracy: 0.2690\n",
      "Epoch 10/10\n",
      "136/136 [==============================] - 16s 118ms/step - loss: 1.9434 - accuracy: 0.2755\n"
     ]
    },
    {
     "name": "stderr",
     "output_type": "stream",
     "text": [
      "/usr/local/lib/python3.10/dist-packages/keras/src/engine/training.py:3079: UserWarning: You are saving your model as an HDF5 file via `model.save()`. This file format is considered legacy. We recommend using instead the native Keras format, e.g. `model.save('my_model.keras')`.\n",
      "  saving_api.save_model(\n"
     ]
    },
    {
     "name": "stdout",
     "output_type": "stream",
     "text": [
      "32/32 [==============================] - 2s 33ms/step\n",
      "Training RF for N1 (sliderNeutralPos)\n",
      "Training CNN for N1 (sliderNeutralPos)\n",
      "Epoch 1/10\n",
      "136/136 [==============================] - 1s 6ms/step - loss: 2.1232 - accuracy: 0.2716\n",
      "Epoch 2/10\n",
      "136/136 [==============================] - 1s 6ms/step - loss: 1.8296 - accuracy: 0.3627\n",
      "Epoch 3/10\n",
      "136/136 [==============================] - 1s 6ms/step - loss: 1.6102 - accuracy: 0.4435\n",
      "Epoch 4/10\n",
      "136/136 [==============================] - 1s 6ms/step - loss: 1.3936 - accuracy: 0.5213\n",
      "Epoch 5/10\n",
      "136/136 [==============================] - 1s 6ms/step - loss: 1.1821 - accuracy: 0.5924\n",
      "Epoch 6/10\n",
      "136/136 [==============================] - 1s 6ms/step - loss: 1.0413 - accuracy: 0.6495\n",
      "Epoch 7/10\n",
      "136/136 [==============================] - 1s 6ms/step - loss: 0.8793 - accuracy: 0.6964\n",
      "Epoch 8/10\n",
      "136/136 [==============================] - 1s 6ms/step - loss: 0.7609 - accuracy: 0.7372\n",
      "Epoch 9/10\n",
      "136/136 [==============================] - 1s 6ms/step - loss: 0.6554 - accuracy: 0.7722\n",
      "Epoch 10/10\n",
      "136/136 [==============================] - 1s 6ms/step - loss: 0.5728 - accuracy: 0.8067\n",
      "32/32 [==============================] - 0s 2ms/step\n"
     ]
    },
    {
     "name": "stderr",
     "output_type": "stream",
     "text": [
      "/usr/local/lib/python3.10/dist-packages/keras/src/engine/training.py:3079: UserWarning: You are saving your model as an HDF5 file via `model.save()`. This file format is considered legacy. We recommend using instead the native Keras format, e.g. `model.save('my_model.keras')`.\n",
      "  saving_api.save_model(\n"
     ]
    },
    {
     "name": "stdout",
     "output_type": "stream",
     "text": [
      "Training LSTM for N1 (sliderNeutralPos)\n",
      "Epoch 1/10\n",
      "136/136 [==============================] - 19s 126ms/step - loss: 2.2473 - accuracy: 0.2081\n",
      "Epoch 2/10\n",
      "136/136 [==============================] - 17s 127ms/step - loss: 2.2142 - accuracy: 0.2127\n",
      "Epoch 3/10\n",
      "136/136 [==============================] - 15s 113ms/step - loss: 2.2065 - accuracy: 0.2131\n",
      "Epoch 4/10\n",
      "136/136 [==============================] - 17s 128ms/step - loss: 2.2036 - accuracy: 0.2138\n",
      "Epoch 5/10\n",
      "136/136 [==============================] - 17s 124ms/step - loss: 2.1911 - accuracy: 0.2097\n",
      "Epoch 6/10\n",
      "136/136 [==============================] - 17s 125ms/step - loss: 2.1828 - accuracy: 0.2152\n",
      "Epoch 7/10\n",
      "136/136 [==============================] - 17s 124ms/step - loss: 2.1673 - accuracy: 0.2200\n",
      "Epoch 8/10\n",
      "136/136 [==============================] - 17s 125ms/step - loss: 2.1530 - accuracy: 0.2295\n",
      "Epoch 9/10\n",
      "136/136 [==============================] - 17s 126ms/step - loss: 2.1460 - accuracy: 0.2308\n",
      "Epoch 10/10\n",
      "136/136 [==============================] - 17s 124ms/step - loss: 2.1295 - accuracy: 0.2320\n"
     ]
    },
    {
     "name": "stderr",
     "output_type": "stream",
     "text": [
      "/usr/local/lib/python3.10/dist-packages/keras/src/engine/training.py:3079: UserWarning: You are saving your model as an HDF5 file via `model.save()`. This file format is considered legacy. We recommend using instead the native Keras format, e.g. `model.save('my_model.keras')`.\n",
      "  saving_api.save_model(\n"
     ]
    },
    {
     "name": "stdout",
     "output_type": "stream",
     "text": [
      "32/32 [==============================] - 2s 37ms/step\n",
      "Training RF for P2 (sliderNeutralPos)\n",
      "Training CNN for P2 (sliderNeutralPos)\n",
      "Epoch 1/10\n",
      "136/136 [==============================] - 1s 6ms/step - loss: 1.9940 - accuracy: 0.2497\n",
      "Epoch 2/10\n",
      "136/136 [==============================] - 1s 6ms/step - loss: 1.7175 - accuracy: 0.3556\n",
      "Epoch 3/10\n",
      "136/136 [==============================] - 1s 6ms/step - loss: 1.4922 - accuracy: 0.4635\n",
      "Epoch 4/10\n",
      "136/136 [==============================] - 1s 6ms/step - loss: 1.2951 - accuracy: 0.5337\n",
      "Epoch 5/10\n",
      "136/136 [==============================] - 1s 6ms/step - loss: 1.1392 - accuracy: 0.5945\n",
      "Epoch 6/10\n",
      "136/136 [==============================] - 1s 6ms/step - loss: 0.9642 - accuracy: 0.6548\n",
      "Epoch 7/10\n",
      "136/136 [==============================] - 1s 6ms/step - loss: 0.8447 - accuracy: 0.7010\n",
      "Epoch 8/10\n",
      "136/136 [==============================] - 1s 6ms/step - loss: 0.7364 - accuracy: 0.7395\n",
      "Epoch 9/10\n",
      "136/136 [==============================] - 1s 6ms/step - loss: 0.6257 - accuracy: 0.7830\n",
      "Epoch 10/10\n",
      "136/136 [==============================] - 1s 6ms/step - loss: 0.5680 - accuracy: 0.8021\n",
      "32/32 [==============================] - 0s 2ms/step\n"
     ]
    },
    {
     "name": "stderr",
     "output_type": "stream",
     "text": [
      "/usr/local/lib/python3.10/dist-packages/keras/src/engine/training.py:3079: UserWarning: You are saving your model as an HDF5 file via `model.save()`. This file format is considered legacy. We recommend using instead the native Keras format, e.g. `model.save('my_model.keras')`.\n",
      "  saving_api.save_model(\n"
     ]
    },
    {
     "name": "stdout",
     "output_type": "stream",
     "text": [
      "Training LSTM for P2 (sliderNeutralPos)\n",
      "Epoch 1/10\n",
      "136/136 [==============================] - 19s 127ms/step - loss: 2.1387 - accuracy: 0.1970\n",
      "Epoch 2/10\n",
      "136/136 [==============================] - 17s 125ms/step - loss: 2.0655 - accuracy: 0.2067\n",
      "Epoch 3/10\n",
      "136/136 [==============================] - 17s 123ms/step - loss: 2.0632 - accuracy: 0.2058\n",
      "Epoch 4/10\n",
      "136/136 [==============================] - 17s 122ms/step - loss: 2.0535 - accuracy: 0.2113\n",
      "Epoch 5/10\n",
      "136/136 [==============================] - 17s 127ms/step - loss: 2.0568 - accuracy: 0.2083\n",
      "Epoch 6/10\n",
      "136/136 [==============================] - 17s 127ms/step - loss: 2.0475 - accuracy: 0.2140\n",
      "Epoch 7/10\n",
      "136/136 [==============================] - 17s 125ms/step - loss: 2.0633 - accuracy: 0.2099\n",
      "Epoch 8/10\n",
      "136/136 [==============================] - 17s 124ms/step - loss: 2.0518 - accuracy: 0.2044\n",
      "Epoch 9/10\n",
      "136/136 [==============================] - 17s 123ms/step - loss: 2.0370 - accuracy: 0.2113\n",
      "Epoch 10/10\n",
      "136/136 [==============================] - 17s 122ms/step - loss: 2.0240 - accuracy: 0.2133\n"
     ]
    },
    {
     "name": "stderr",
     "output_type": "stream",
     "text": [
      "/usr/local/lib/python3.10/dist-packages/keras/src/engine/training.py:3079: UserWarning: You are saving your model as an HDF5 file via `model.save()`. This file format is considered legacy. We recommend using instead the native Keras format, e.g. `model.save('my_model.keras')`.\n",
      "  saving_api.save_model(\n"
     ]
    },
    {
     "name": "stdout",
     "output_type": "stream",
     "text": [
      "32/32 [==============================] - 2s 35ms/step\n",
      "Training RF for N2 (sliderNeutralPos)\n",
      "Training CNN for N2 (sliderNeutralPos)\n",
      "Epoch 1/10\n",
      "136/136 [==============================] - 1s 6ms/step - loss: 1.7669 - accuracy: 0.3655\n",
      "Epoch 2/10\n",
      "136/136 [==============================] - 1s 6ms/step - loss: 1.4843 - accuracy: 0.4605\n",
      "Epoch 3/10\n",
      "136/136 [==============================] - 1s 6ms/step - loss: 1.3069 - accuracy: 0.5351\n",
      "Epoch 4/10\n",
      "136/136 [==============================] - 1s 6ms/step - loss: 1.1289 - accuracy: 0.5936\n",
      "Epoch 5/10\n",
      "136/136 [==============================] - 1s 6ms/step - loss: 0.9860 - accuracy: 0.6495\n",
      "Epoch 6/10\n",
      "136/136 [==============================] - 1s 6ms/step - loss: 0.8732 - accuracy: 0.6891\n",
      "Epoch 7/10\n",
      "136/136 [==============================] - 1s 6ms/step - loss: 0.7411 - accuracy: 0.7452\n",
      "Epoch 8/10\n",
      "136/136 [==============================] - 1s 6ms/step - loss: 0.6662 - accuracy: 0.7664\n",
      "Epoch 9/10\n",
      "136/136 [==============================] - 1s 6ms/step - loss: 0.5614 - accuracy: 0.7984\n",
      "Epoch 10/10\n",
      "136/136 [==============================] - 1s 6ms/step - loss: 0.4914 - accuracy: 0.8272\n",
      "32/32 [==============================] - 0s 2ms/step\n"
     ]
    },
    {
     "name": "stderr",
     "output_type": "stream",
     "text": [
      "/usr/local/lib/python3.10/dist-packages/keras/src/engine/training.py:3079: UserWarning: You are saving your model as an HDF5 file via `model.save()`. This file format is considered legacy. We recommend using instead the native Keras format, e.g. `model.save('my_model.keras')`.\n",
      "  saving_api.save_model(\n"
     ]
    },
    {
     "name": "stdout",
     "output_type": "stream",
     "text": [
      "Training LSTM for N2 (sliderNeutralPos)\n",
      "Epoch 1/10\n",
      "136/136 [==============================] - 19s 126ms/step - loss: 2.0003 - accuracy: 0.3043\n",
      "Epoch 2/10\n",
      "136/136 [==============================] - 17s 126ms/step - loss: 1.8632 - accuracy: 0.3217\n",
      "Epoch 3/10\n",
      "136/136 [==============================] - 17s 125ms/step - loss: 1.8385 - accuracy: 0.3169\n",
      "Epoch 4/10\n",
      "136/136 [==============================] - 16s 119ms/step - loss: 1.8238 - accuracy: 0.3206\n",
      "Epoch 5/10\n",
      "136/136 [==============================] - 16s 121ms/step - loss: 1.8047 - accuracy: 0.3241\n",
      "Epoch 6/10\n",
      "136/136 [==============================] - 17s 124ms/step - loss: 1.7957 - accuracy: 0.3268\n",
      "Epoch 7/10\n",
      "136/136 [==============================] - 17s 124ms/step - loss: 1.7921 - accuracy: 0.3353\n",
      "Epoch 8/10\n",
      "136/136 [==============================] - 17s 125ms/step - loss: 1.7756 - accuracy: 0.3358\n",
      "Epoch 9/10\n",
      "136/136 [==============================] - 17s 124ms/step - loss: 1.7675 - accuracy: 0.3395\n",
      "Epoch 10/10\n",
      "136/136 [==============================] - 17s 125ms/step - loss: 1.7649 - accuracy: 0.3402\n"
     ]
    },
    {
     "name": "stderr",
     "output_type": "stream",
     "text": [
      "/usr/local/lib/python3.10/dist-packages/keras/src/engine/training.py:3079: UserWarning: You are saving your model as an HDF5 file via `model.save()`. This file format is considered legacy. We recommend using instead the native Keras format, e.g. `model.save('my_model.keras')`.\n",
      "  saving_api.save_model(\n"
     ]
    },
    {
     "name": "stdout",
     "output_type": "stream",
     "text": [
      "32/32 [==============================] - 2s 35ms/step\n",
      "Training RF for N3 (sliderNeutralPos)\n",
      "Training CNN for N3 (sliderNeutralPos)\n",
      "Epoch 1/10\n",
      "136/136 [==============================] - 1s 6ms/step - loss: 2.0429 - accuracy: 0.2665\n",
      "Epoch 2/10\n",
      "136/136 [==============================] - 1s 6ms/step - loss: 1.7802 - accuracy: 0.3588\n",
      "Epoch 3/10\n",
      "136/136 [==============================] - 1s 6ms/step - loss: 1.5764 - accuracy: 0.4348\n",
      "Epoch 4/10\n",
      "136/136 [==============================] - 1s 6ms/step - loss: 1.3542 - accuracy: 0.5229\n",
      "Epoch 5/10\n",
      "136/136 [==============================] - 1s 6ms/step - loss: 1.1685 - accuracy: 0.5901\n",
      "Epoch 6/10\n",
      "136/136 [==============================] - 1s 6ms/step - loss: 0.9926 - accuracy: 0.6543\n",
      "Epoch 7/10\n",
      "136/136 [==============================] - 1s 6ms/step - loss: 0.8401 - accuracy: 0.7061\n",
      "Epoch 8/10\n",
      "136/136 [==============================] - 1s 6ms/step - loss: 0.7300 - accuracy: 0.7533\n",
      "Epoch 9/10\n",
      "136/136 [==============================] - 1s 6ms/step - loss: 0.6317 - accuracy: 0.7797\n",
      "Epoch 10/10\n",
      "136/136 [==============================] - 1s 6ms/step - loss: 0.5569 - accuracy: 0.8037\n",
      "32/32 [==============================] - 0s 2ms/step\n"
     ]
    },
    {
     "name": "stderr",
     "output_type": "stream",
     "text": [
      "/usr/local/lib/python3.10/dist-packages/keras/src/engine/training.py:3079: UserWarning: You are saving your model as an HDF5 file via `model.save()`. This file format is considered legacy. We recommend using instead the native Keras format, e.g. `model.save('my_model.keras')`.\n",
      "  saving_api.save_model(\n"
     ]
    },
    {
     "name": "stdout",
     "output_type": "stream",
     "text": [
      "Training LSTM for N3 (sliderNeutralPos)\n",
      "Epoch 1/10\n",
      "136/136 [==============================] - 19s 126ms/step - loss: 2.1639 - accuracy: 0.2209\n",
      "Epoch 2/10\n",
      "136/136 [==============================] - 17s 127ms/step - loss: 2.1070 - accuracy: 0.2216\n",
      "Epoch 3/10\n",
      "136/136 [==============================] - 17s 124ms/step - loss: 2.1072 - accuracy: 0.2255\n",
      "Epoch 4/10\n",
      "136/136 [==============================] - 17s 126ms/step - loss: 2.1058 - accuracy: 0.2198\n",
      "Epoch 5/10\n",
      "136/136 [==============================] - 16s 116ms/step - loss: 2.1030 - accuracy: 0.2209\n",
      "Epoch 6/10\n",
      "136/136 [==============================] - 16s 115ms/step - loss: 2.0971 - accuracy: 0.2219\n",
      "Epoch 7/10\n",
      "136/136 [==============================] - 17s 124ms/step - loss: 2.1031 - accuracy: 0.2278\n",
      "Epoch 8/10\n",
      "136/136 [==============================] - 17s 125ms/step - loss: 2.0926 - accuracy: 0.2322\n",
      "Epoch 9/10\n",
      "136/136 [==============================] - 17s 125ms/step - loss: 2.0837 - accuracy: 0.2352\n",
      "Epoch 10/10\n",
      "136/136 [==============================] - 15s 113ms/step - loss: 2.0722 - accuracy: 0.2389\n"
     ]
    },
    {
     "name": "stderr",
     "output_type": "stream",
     "text": [
      "/usr/local/lib/python3.10/dist-packages/keras/src/engine/training.py:3079: UserWarning: You are saving your model as an HDF5 file via `model.save()`. This file format is considered legacy. We recommend using instead the native Keras format, e.g. `model.save('my_model.keras')`.\n",
      "  saving_api.save_model(\n"
     ]
    },
    {
     "name": "stdout",
     "output_type": "stream",
     "text": [
      "32/32 [==============================] - 2s 35ms/step\n",
      "Training RF for P3 (sliderNeutralPos)\n",
      "Training CNN for P3 (sliderNeutralPos)\n",
      "Epoch 1/10\n",
      "136/136 [==============================] - 1s 6ms/step - loss: 2.0446 - accuracy: 0.2631\n",
      "Epoch 2/10\n",
      "136/136 [==============================] - 1s 6ms/step - loss: 1.7704 - accuracy: 0.3623\n",
      "Epoch 3/10\n",
      "136/136 [==============================] - 1s 6ms/step - loss: 1.5413 - accuracy: 0.4430\n",
      "Epoch 4/10\n",
      "136/136 [==============================] - 1s 6ms/step - loss: 1.3555 - accuracy: 0.5098\n",
      "Epoch 5/10\n",
      "136/136 [==============================] - 1s 6ms/step - loss: 1.1616 - accuracy: 0.5857\n",
      "Epoch 6/10\n",
      "136/136 [==============================] - 1s 6ms/step - loss: 1.0307 - accuracy: 0.6262\n",
      "Epoch 7/10\n",
      "136/136 [==============================] - 1s 6ms/step - loss: 0.8949 - accuracy: 0.6753\n",
      "Epoch 8/10\n",
      "136/136 [==============================] - 1s 6ms/step - loss: 0.7726 - accuracy: 0.7275\n",
      "Epoch 9/10\n",
      "136/136 [==============================] - 1s 6ms/step - loss: 0.6703 - accuracy: 0.7687\n",
      "Epoch 10/10\n",
      "136/136 [==============================] - 1s 6ms/step - loss: 0.6149 - accuracy: 0.7781\n",
      "32/32 [==============================] - 0s 2ms/step\n"
     ]
    },
    {
     "name": "stderr",
     "output_type": "stream",
     "text": [
      "/usr/local/lib/python3.10/dist-packages/keras/src/engine/training.py:3079: UserWarning: You are saving your model as an HDF5 file via `model.save()`. This file format is considered legacy. We recommend using instead the native Keras format, e.g. `model.save('my_model.keras')`.\n",
      "  saving_api.save_model(\n"
     ]
    },
    {
     "name": "stdout",
     "output_type": "stream",
     "text": [
      "Training LSTM for P3 (sliderNeutralPos)\n",
      "Epoch 1/10\n",
      "136/136 [==============================] - 19s 126ms/step - loss: 2.2028 - accuracy: 0.1919\n",
      "Epoch 2/10\n",
      "136/136 [==============================] - 17s 124ms/step - loss: 2.1556 - accuracy: 0.1982\n",
      "Epoch 3/10\n",
      "136/136 [==============================] - 17s 127ms/step - loss: 2.1404 - accuracy: 0.2025\n",
      "Epoch 4/10\n",
      "136/136 [==============================] - 17s 127ms/step - loss: 2.1242 - accuracy: 0.2110\n",
      "Epoch 5/10\n",
      "136/136 [==============================] - 17s 126ms/step - loss: 2.1104 - accuracy: 0.2133\n",
      "Epoch 6/10\n",
      "136/136 [==============================] - 17s 125ms/step - loss: 2.0937 - accuracy: 0.2152\n",
      "Epoch 7/10\n",
      "136/136 [==============================] - 17s 127ms/step - loss: 2.0955 - accuracy: 0.2180\n",
      "Epoch 8/10\n",
      "136/136 [==============================] - 17s 124ms/step - loss: 2.0793 - accuracy: 0.2191\n",
      "Epoch 9/10\n",
      "136/136 [==============================] - 16s 116ms/step - loss: 2.0656 - accuracy: 0.2306\n",
      "Epoch 10/10\n",
      "136/136 [==============================] - 17s 127ms/step - loss: 2.0542 - accuracy: 0.2292\n"
     ]
    },
    {
     "name": "stderr",
     "output_type": "stream",
     "text": [
      "/usr/local/lib/python3.10/dist-packages/keras/src/engine/training.py:3079: UserWarning: You are saving your model as an HDF5 file via `model.save()`. This file format is considered legacy. We recommend using instead the native Keras format, e.g. `model.save('my_model.keras')`.\n",
      "  saving_api.save_model(\n"
     ]
    },
    {
     "name": "stdout",
     "output_type": "stream",
     "text": [
      "32/32 [==============================] - 2s 35ms/step\n",
      "Training RF for SE1 (sliderNegPos)\n",
      "Training CNN for SE1 (sliderNegPos)\n",
      "Epoch 1/10\n",
      "136/136 [==============================] - 1s 6ms/step - loss: 1.1621 - accuracy: 0.5001\n",
      "Epoch 2/10\n",
      "136/136 [==============================] - 1s 6ms/step - loss: 0.9917 - accuracy: 0.5512\n",
      "Epoch 3/10\n",
      "136/136 [==============================] - 1s 6ms/step - loss: 0.9155 - accuracy: 0.6023\n",
      "Epoch 4/10\n",
      "136/136 [==============================] - 1s 6ms/step - loss: 0.8373 - accuracy: 0.6387\n",
      "Epoch 5/10\n",
      "136/136 [==============================] - 1s 6ms/step - loss: 0.7542 - accuracy: 0.6812\n",
      "Epoch 6/10\n",
      "136/136 [==============================] - 1s 6ms/step - loss: 0.6694 - accuracy: 0.7155\n",
      "Epoch 7/10\n",
      "136/136 [==============================] - 1s 6ms/step - loss: 0.5803 - accuracy: 0.7600\n",
      "Epoch 8/10\n",
      "136/136 [==============================] - 1s 6ms/step - loss: 0.5156 - accuracy: 0.7959\n",
      "Epoch 9/10\n",
      "136/136 [==============================] - 1s 6ms/step - loss: 0.4512 - accuracy: 0.8168\n",
      "Epoch 10/10\n",
      "136/136 [==============================] - 1s 6ms/step - loss: 0.3795 - accuracy: 0.8490\n",
      "32/32 [==============================] - 0s 2ms/step\n"
     ]
    },
    {
     "name": "stderr",
     "output_type": "stream",
     "text": [
      "/usr/local/lib/python3.10/dist-packages/keras/src/engine/training.py:3079: UserWarning: You are saving your model as an HDF5 file via `model.save()`. This file format is considered legacy. We recommend using instead the native Keras format, e.g. `model.save('my_model.keras')`.\n",
      "  saving_api.save_model(\n"
     ]
    },
    {
     "name": "stdout",
     "output_type": "stream",
     "text": [
      "Training LSTM for SE1 (sliderNegPos)\n",
      "Epoch 1/10\n",
      "136/136 [==============================] - 19s 127ms/step - loss: 1.3864 - accuracy: 0.4716\n",
      "Epoch 2/10\n",
      "136/136 [==============================] - 17s 125ms/step - loss: 1.1694 - accuracy: 0.4944\n",
      "Epoch 3/10\n",
      "136/136 [==============================] - 17s 125ms/step - loss: 1.1475 - accuracy: 0.5075\n",
      "Epoch 4/10\n",
      "136/136 [==============================] - 17s 125ms/step - loss: 1.1424 - accuracy: 0.5098\n",
      "Epoch 5/10\n",
      "136/136 [==============================] - 17s 122ms/step - loss: 1.1397 - accuracy: 0.5137\n",
      "Epoch 6/10\n",
      "136/136 [==============================] - 15s 110ms/step - loss: 1.1392 - accuracy: 0.5135\n",
      "Epoch 7/10\n",
      "136/136 [==============================] - 17s 124ms/step - loss: 1.1355 - accuracy: 0.5137\n",
      "Epoch 8/10\n",
      "136/136 [==============================] - 17s 123ms/step - loss: 1.1355 - accuracy: 0.5139\n",
      "Epoch 9/10\n",
      "136/136 [==============================] - 16s 119ms/step - loss: 1.1320 - accuracy: 0.5142\n",
      "Epoch 10/10\n",
      "136/136 [==============================] - 16s 118ms/step - loss: 1.1318 - accuracy: 0.5142\n"
     ]
    },
    {
     "name": "stderr",
     "output_type": "stream",
     "text": [
      "/usr/local/lib/python3.10/dist-packages/keras/src/engine/training.py:3079: UserWarning: You are saving your model as an HDF5 file via `model.save()`. This file format is considered legacy. We recommend using instead the native Keras format, e.g. `model.save('my_model.keras')`.\n",
      "  saving_api.save_model(\n"
     ]
    },
    {
     "name": "stdout",
     "output_type": "stream",
     "text": [
      "32/32 [==============================] - 2s 35ms/step\n",
      "Training RF for SE2 (sliderNeutralPos)\n",
      "Training CNN for SE2 (sliderNeutralPos)\n",
      "Epoch 1/10\n",
      "136/136 [==============================] - 1s 6ms/step - loss: 1.1826 - accuracy: 0.4617\n",
      "Epoch 2/10\n",
      "136/136 [==============================] - 1s 6ms/step - loss: 1.0153 - accuracy: 0.5459\n",
      "Epoch 3/10\n",
      "136/136 [==============================] - 1s 6ms/step - loss: 0.9108 - accuracy: 0.6041\n",
      "Epoch 4/10\n",
      "136/136 [==============================] - 1s 6ms/step - loss: 0.8132 - accuracy: 0.6548\n",
      "Epoch 5/10\n",
      "136/136 [==============================] - 1s 6ms/step - loss: 0.7130 - accuracy: 0.6999\n",
      "Epoch 6/10\n",
      "136/136 [==============================] - 1s 6ms/step - loss: 0.6259 - accuracy: 0.7376\n",
      "Epoch 7/10\n",
      "136/136 [==============================] - 1s 6ms/step - loss: 0.5477 - accuracy: 0.7756\n",
      "Epoch 8/10\n",
      "136/136 [==============================] - 1s 6ms/step - loss: 0.4708 - accuracy: 0.8120\n",
      "Epoch 9/10\n",
      "136/136 [==============================] - 1s 6ms/step - loss: 0.3930 - accuracy: 0.8470\n",
      "Epoch 10/10\n",
      "136/136 [==============================] - 1s 6ms/step - loss: 0.3558 - accuracy: 0.8656\n",
      "23/32 [====================>.........] - ETA: 0s"
     ]
    },
    {
     "name": "stderr",
     "output_type": "stream",
     "text": [
      "/usr/local/lib/python3.10/dist-packages/keras/src/engine/training.py:3079: UserWarning: You are saving your model as an HDF5 file via `model.save()`. This file format is considered legacy. We recommend using instead the native Keras format, e.g. `model.save('my_model.keras')`.\n",
      "  saving_api.save_model(\n"
     ]
    },
    {
     "name": "stdout",
     "output_type": "stream",
     "text": [
      "32/32 [==============================] - 0s 2ms/step\n",
      "Training LSTM for SE2 (sliderNeutralPos)\n",
      "Epoch 1/10\n",
      "136/136 [==============================] - 19s 128ms/step - loss: 1.3828 - accuracy: 0.3825\n",
      "Epoch 2/10\n",
      "136/136 [==============================] - 17s 122ms/step - loss: 1.1912 - accuracy: 0.3998\n",
      "Epoch 3/10\n",
      "136/136 [==============================] - 14s 106ms/step - loss: 1.1825 - accuracy: 0.3965\n",
      "Epoch 4/10\n",
      "136/136 [==============================] - 15s 111ms/step - loss: 1.1727 - accuracy: 0.3890\n",
      "Epoch 5/10\n",
      "136/136 [==============================] - 17s 123ms/step - loss: 1.1730 - accuracy: 0.3899\n",
      "Epoch 6/10\n",
      "136/136 [==============================] - 17s 124ms/step - loss: 1.1680 - accuracy: 0.3908\n",
      "Epoch 7/10\n",
      "136/136 [==============================] - 17s 125ms/step - loss: 1.1675 - accuracy: 0.3890\n",
      "Epoch 8/10\n",
      "136/136 [==============================] - 17s 123ms/step - loss: 1.1638 - accuracy: 0.3965\n",
      "Epoch 9/10\n",
      "136/136 [==============================] - 17s 127ms/step - loss: 1.1640 - accuracy: 0.3959\n",
      "Epoch 10/10\n",
      "136/136 [==============================] - 17s 125ms/step - loss: 1.1615 - accuracy: 0.4007\n"
     ]
    },
    {
     "name": "stderr",
     "output_type": "stream",
     "text": [
      "/usr/local/lib/python3.10/dist-packages/keras/src/engine/training.py:3079: UserWarning: You are saving your model as an HDF5 file via `model.save()`. This file format is considered legacy. We recommend using instead the native Keras format, e.g. `model.save('my_model.keras')`.\n",
      "  saving_api.save_model(\n"
     ]
    },
    {
     "name": "stdout",
     "output_type": "stream",
     "text": [
      "32/32 [==============================] - 2s 33ms/step\n",
      "Training RF for SE3 (sliderNeutralPos)\n",
      "Training CNN for SE3 (sliderNeutralPos)\n",
      "Epoch 1/10\n",
      "136/136 [==============================] - 1s 6ms/step - loss: 1.2031 - accuracy: 0.4380\n",
      "Epoch 2/10\n",
      "136/136 [==============================] - 1s 6ms/step - loss: 1.0433 - accuracy: 0.5066\n",
      "Epoch 3/10\n",
      "136/136 [==============================] - 1s 6ms/step - loss: 0.9512 - accuracy: 0.5675\n",
      "Epoch 4/10\n",
      "136/136 [==============================] - 1s 6ms/step - loss: 0.8435 - accuracy: 0.6308\n",
      "Epoch 5/10\n",
      "136/136 [==============================] - 1s 6ms/step - loss: 0.7410 - accuracy: 0.6875\n",
      "Epoch 6/10\n",
      "136/136 [==============================] - 1s 6ms/step - loss: 0.6726 - accuracy: 0.7185\n",
      "Epoch 7/10\n",
      "136/136 [==============================] - 1s 6ms/step - loss: 0.5836 - accuracy: 0.7581\n",
      "Epoch 8/10\n",
      "136/136 [==============================] - 1s 6ms/step - loss: 0.5100 - accuracy: 0.7913\n",
      "Epoch 9/10\n",
      "136/136 [==============================] - 1s 6ms/step - loss: 0.4496 - accuracy: 0.8175\n",
      "Epoch 10/10\n",
      "136/136 [==============================] - 1s 6ms/step - loss: 0.3988 - accuracy: 0.8435\n",
      "32/32 [==============================] - 0s 2ms/step\n"
     ]
    },
    {
     "name": "stderr",
     "output_type": "stream",
     "text": [
      "/usr/local/lib/python3.10/dist-packages/keras/src/engine/training.py:3079: UserWarning: You are saving your model as an HDF5 file via `model.save()`. This file format is considered legacy. We recommend using instead the native Keras format, e.g. `model.save('my_model.keras')`.\n",
      "  saving_api.save_model(\n"
     ]
    },
    {
     "name": "stdout",
     "output_type": "stream",
     "text": [
      "Training LSTM for SE3 (sliderNeutralPos)\n",
      "Epoch 1/10\n",
      "136/136 [==============================] - 19s 126ms/step - loss: 1.3946 - accuracy: 0.3811\n",
      "Epoch 2/10\n",
      "136/136 [==============================] - 17s 125ms/step - loss: 1.1992 - accuracy: 0.3848\n",
      "Epoch 3/10\n",
      "136/136 [==============================] - 17s 127ms/step - loss: 1.1835 - accuracy: 0.4085\n",
      "Epoch 4/10\n",
      "136/136 [==============================] - 17s 126ms/step - loss: 1.1806 - accuracy: 0.4083\n",
      "Epoch 5/10\n",
      "136/136 [==============================] - 17s 125ms/step - loss: 1.1744 - accuracy: 0.4053\n",
      "Epoch 6/10\n",
      "136/136 [==============================] - 17s 124ms/step - loss: 1.1710 - accuracy: 0.4106\n",
      "Epoch 7/10\n",
      "136/136 [==============================] - 17s 126ms/step - loss: 1.1702 - accuracy: 0.4106\n",
      "Epoch 8/10\n",
      "136/136 [==============================] - 16s 121ms/step - loss: 1.1695 - accuracy: 0.4108\n",
      "Epoch 9/10\n",
      "136/136 [==============================] - 16s 114ms/step - loss: 1.1661 - accuracy: 0.4154\n",
      "Epoch 10/10\n",
      "136/136 [==============================] - 15s 114ms/step - loss: 1.1643 - accuracy: 0.4191\n"
     ]
    },
    {
     "name": "stderr",
     "output_type": "stream",
     "text": [
      "/usr/local/lib/python3.10/dist-packages/keras/src/engine/training.py:3079: UserWarning: You are saving your model as an HDF5 file via `model.save()`. This file format is considered legacy. We recommend using instead the native Keras format, e.g. `model.save('my_model.keras')`.\n",
      "  saving_api.save_model(\n"
     ]
    },
    {
     "name": "stdout",
     "output_type": "stream",
     "text": [
      "32/32 [==============================] - 2s 34ms/step\n",
      "Training RF for SE4 (sliderNeutralPos)\n",
      "Training CNN for SE4 (sliderNeutralPos)\n",
      "Epoch 1/10\n",
      "136/136 [==============================] - 1s 6ms/step - loss: 1.0651 - accuracy: 0.5312\n",
      "Epoch 2/10\n",
      "136/136 [==============================] - 1s 6ms/step - loss: 0.9159 - accuracy: 0.5977\n",
      "Epoch 3/10\n",
      "136/136 [==============================] - 1s 6ms/step - loss: 0.8252 - accuracy: 0.6382\n",
      "Epoch 4/10\n",
      "136/136 [==============================] - 1s 6ms/step - loss: 0.7370 - accuracy: 0.6895\n",
      "Epoch 5/10\n",
      "136/136 [==============================] - 1s 6ms/step - loss: 0.6576 - accuracy: 0.7234\n",
      "Epoch 6/10\n",
      "136/136 [==============================] - 1s 6ms/step - loss: 0.5827 - accuracy: 0.7586\n",
      "Epoch 7/10\n",
      "136/136 [==============================] - 1s 6ms/step - loss: 0.5050 - accuracy: 0.7959\n",
      "Epoch 8/10\n",
      "136/136 [==============================] - 1s 6ms/step - loss: 0.4387 - accuracy: 0.8230\n",
      "Epoch 9/10\n",
      "136/136 [==============================] - 1s 6ms/step - loss: 0.3851 - accuracy: 0.8481\n",
      "Epoch 10/10\n",
      "136/136 [==============================] - 1s 6ms/step - loss: 0.3351 - accuracy: 0.8693\n"
     ]
    },
    {
     "name": "stderr",
     "output_type": "stream",
     "text": [
      "/usr/local/lib/python3.10/dist-packages/keras/src/engine/training.py:3079: UserWarning: You are saving your model as an HDF5 file via `model.save()`. This file format is considered legacy. We recommend using instead the native Keras format, e.g. `model.save('my_model.keras')`.\n",
      "  saving_api.save_model(\n"
     ]
    },
    {
     "name": "stdout",
     "output_type": "stream",
     "text": [
      "32/32 [==============================] - 0s 2ms/step\n",
      "Training LSTM for SE4 (sliderNeutralPos)\n",
      "Epoch 1/10\n",
      "136/136 [==============================] - 22s 127ms/step - loss: 1.2714 - accuracy: 0.5270\n",
      "Epoch 2/10\n",
      "136/136 [==============================] - 16s 115ms/step - loss: 1.0644 - accuracy: 0.5512\n",
      "Epoch 3/10\n",
      "136/136 [==============================] - 15s 107ms/step - loss: 1.0486 - accuracy: 0.5551\n",
      "Epoch 4/10\n",
      "136/136 [==============================] - 15s 113ms/step - loss: 1.0428 - accuracy: 0.5574\n",
      "Epoch 5/10\n",
      "136/136 [==============================] - 16s 118ms/step - loss: 1.0434 - accuracy: 0.5577\n",
      "Epoch 6/10\n",
      "136/136 [==============================] - 16s 117ms/step - loss: 1.0394 - accuracy: 0.5574\n",
      "Epoch 7/10\n",
      "136/136 [==============================] - 16s 120ms/step - loss: 1.0378 - accuracy: 0.5574\n",
      "Epoch 8/10\n",
      "136/136 [==============================] - 17s 125ms/step - loss: 1.0352 - accuracy: 0.5574\n",
      "Epoch 9/10\n",
      "136/136 [==============================] - 17s 123ms/step - loss: 1.0341 - accuracy: 0.5574\n",
      "Epoch 10/10\n",
      "136/136 [==============================] - 15s 109ms/step - loss: 1.0352 - accuracy: 0.5574\n"
     ]
    },
    {
     "name": "stderr",
     "output_type": "stream",
     "text": [
      "/usr/local/lib/python3.10/dist-packages/keras/src/engine/training.py:3079: UserWarning: You are saving your model as an HDF5 file via `model.save()`. This file format is considered legacy. We recommend using instead the native Keras format, e.g. `model.save('my_model.keras')`.\n",
      "  saving_api.save_model(\n"
     ]
    },
    {
     "name": "stdout",
     "output_type": "stream",
     "text": [
      "32/32 [==============================] - 2s 34ms/step\n",
      "Training RF for MIL1 (sliderNegPos)\n",
      "Training CNN for MIL1 (sliderNegPos)\n",
      "Epoch 1/10\n",
      "136/136 [==============================] - 1s 6ms/step - loss: 1.7966 - accuracy: 0.3020\n",
      "Epoch 2/10\n",
      "136/136 [==============================] - 1s 6ms/step - loss: 1.5183 - accuracy: 0.4182\n",
      "Epoch 3/10\n",
      "136/136 [==============================] - 1s 6ms/step - loss: 1.3214 - accuracy: 0.5017\n",
      "Epoch 4/10\n",
      "136/136 [==============================] - 1s 6ms/step - loss: 1.1282 - accuracy: 0.5869\n",
      "Epoch 5/10\n",
      "136/136 [==============================] - 1s 6ms/step - loss: 0.9930 - accuracy: 0.6391\n",
      "Epoch 6/10\n",
      "136/136 [==============================] - 1s 6ms/step - loss: 0.8293 - accuracy: 0.6960\n",
      "Epoch 7/10\n",
      "136/136 [==============================] - 1s 6ms/step - loss: 0.7178 - accuracy: 0.7459\n",
      "Epoch 8/10\n",
      "136/136 [==============================] - 1s 6ms/step - loss: 0.6227 - accuracy: 0.7855\n",
      "Epoch 9/10\n",
      "136/136 [==============================] - 1s 6ms/step - loss: 0.5136 - accuracy: 0.8207\n",
      "Epoch 10/10\n",
      "136/136 [==============================] - 1s 6ms/step - loss: 0.4536 - accuracy: 0.8394\n"
     ]
    },
    {
     "name": "stderr",
     "output_type": "stream",
     "text": [
      "/usr/local/lib/python3.10/dist-packages/keras/src/engine/training.py:3079: UserWarning: You are saving your model as an HDF5 file via `model.save()`. This file format is considered legacy. We recommend using instead the native Keras format, e.g. `model.save('my_model.keras')`.\n",
      "  saving_api.save_model(\n"
     ]
    },
    {
     "name": "stdout",
     "output_type": "stream",
     "text": [
      "32/32 [==============================] - 0s 2ms/step\n",
      "Training LSTM for MIL1 (sliderNegPos)\n",
      "Epoch 1/10\n",
      "136/136 [==============================] - 19s 126ms/step - loss: 2.0189 - accuracy: 0.1936\n",
      "Epoch 2/10\n",
      "136/136 [==============================] - 17s 127ms/step - loss: 1.9119 - accuracy: 0.1977\n",
      "Epoch 3/10\n",
      "136/136 [==============================] - 17s 126ms/step - loss: 1.8962 - accuracy: 0.2016\n",
      "Epoch 4/10\n",
      "136/136 [==============================] - 17s 125ms/step - loss: 1.8895 - accuracy: 0.2152\n",
      "Epoch 5/10\n",
      "136/136 [==============================] - 17s 125ms/step - loss: 1.8855 - accuracy: 0.2154\n",
      "Epoch 6/10\n",
      "136/136 [==============================] - 17s 126ms/step - loss: 1.8847 - accuracy: 0.2133\n",
      "Epoch 7/10\n",
      "136/136 [==============================] - 17s 127ms/step - loss: 1.8767 - accuracy: 0.2133\n",
      "Epoch 8/10\n",
      "136/136 [==============================] - 17s 124ms/step - loss: 1.8769 - accuracy: 0.2152\n",
      "Epoch 9/10\n",
      "136/136 [==============================] - 15s 112ms/step - loss: 1.8701 - accuracy: 0.2184\n",
      "Epoch 10/10\n",
      "136/136 [==============================] - 17s 126ms/step - loss: 1.8692 - accuracy: 0.2193\n"
     ]
    },
    {
     "name": "stderr",
     "output_type": "stream",
     "text": [
      "/usr/local/lib/python3.10/dist-packages/keras/src/engine/training.py:3079: UserWarning: You are saving your model as an HDF5 file via `model.save()`. This file format is considered legacy. We recommend using instead the native Keras format, e.g. `model.save('my_model.keras')`.\n",
      "  saving_api.save_model(\n"
     ]
    },
    {
     "name": "stdout",
     "output_type": "stream",
     "text": [
      "32/32 [==============================] - 2s 35ms/step\n",
      "Training RF for MIL2 (sliderNeutralPos)\n",
      "Training CNN for MIL2 (sliderNeutralPos)\n",
      "Epoch 1/10\n",
      "136/136 [==============================] - 1s 6ms/step - loss: 1.5949 - accuracy: 0.3825\n",
      "Epoch 2/10\n",
      "136/136 [==============================] - 1s 6ms/step - loss: 1.3617 - accuracy: 0.4686\n",
      "Epoch 3/10\n",
      "136/136 [==============================] - 1s 6ms/step - loss: 1.2041 - accuracy: 0.5310\n",
      "Epoch 4/10\n",
      "136/136 [==============================] - 1s 6ms/step - loss: 1.0623 - accuracy: 0.5899\n",
      "Epoch 5/10\n",
      "136/136 [==============================] - 1s 6ms/step - loss: 0.9096 - accuracy: 0.6506\n",
      "Epoch 6/10\n",
      "136/136 [==============================] - 1s 6ms/step - loss: 0.7885 - accuracy: 0.7070\n",
      "Epoch 7/10\n",
      "136/136 [==============================] - 1s 6ms/step - loss: 0.6843 - accuracy: 0.7436\n",
      "Epoch 8/10\n",
      "136/136 [==============================] - 1s 6ms/step - loss: 0.6022 - accuracy: 0.7722\n",
      "Epoch 9/10\n",
      "136/136 [==============================] - 1s 6ms/step - loss: 0.5127 - accuracy: 0.8087\n",
      "Epoch 10/10\n",
      "136/136 [==============================] - 1s 6ms/step - loss: 0.4438 - accuracy: 0.8380\n"
     ]
    },
    {
     "name": "stderr",
     "output_type": "stream",
     "text": [
      "/usr/local/lib/python3.10/dist-packages/keras/src/engine/training.py:3079: UserWarning: You are saving your model as an HDF5 file via `model.save()`. This file format is considered legacy. We recommend using instead the native Keras format, e.g. `model.save('my_model.keras')`.\n",
      "  saving_api.save_model(\n"
     ]
    },
    {
     "name": "stdout",
     "output_type": "stream",
     "text": [
      "32/32 [==============================] - 0s 3ms/step\n",
      "Training LSTM for MIL2 (sliderNeutralPos)\n",
      "Epoch 1/10\n",
      "136/136 [==============================] - 19s 126ms/step - loss: 1.8023 - accuracy: 0.2831\n",
      "Epoch 2/10\n",
      "136/136 [==============================] - 17s 122ms/step - loss: 1.6879 - accuracy: 0.3045\n",
      "Epoch 3/10\n",
      "136/136 [==============================] - 16s 118ms/step - loss: 1.6788 - accuracy: 0.3121\n",
      "Epoch 4/10\n",
      "136/136 [==============================] - 17s 124ms/step - loss: 1.6650 - accuracy: 0.3245\n",
      "Epoch 5/10\n",
      "136/136 [==============================] - 17s 126ms/step - loss: 1.6567 - accuracy: 0.3287\n",
      "Epoch 6/10\n",
      "136/136 [==============================] - 16s 118ms/step - loss: 1.6483 - accuracy: 0.3280\n",
      "Epoch 7/10\n",
      "136/136 [==============================] - 17s 123ms/step - loss: 1.6449 - accuracy: 0.3323\n",
      "Epoch 8/10\n",
      "136/136 [==============================] - 16s 117ms/step - loss: 1.6334 - accuracy: 0.3381\n",
      "Epoch 9/10\n",
      "136/136 [==============================] - 17s 122ms/step - loss: 1.6342 - accuracy: 0.3386\n",
      "Epoch 10/10\n",
      "136/136 [==============================] - 17s 126ms/step - loss: 1.6180 - accuracy: 0.3436\n"
     ]
    },
    {
     "name": "stderr",
     "output_type": "stream",
     "text": [
      "/usr/local/lib/python3.10/dist-packages/keras/src/engine/training.py:3079: UserWarning: You are saving your model as an HDF5 file via `model.save()`. This file format is considered legacy. We recommend using instead the native Keras format, e.g. `model.save('my_model.keras')`.\n",
      "  saving_api.save_model(\n"
     ]
    },
    {
     "name": "stdout",
     "output_type": "stream",
     "text": [
      "32/32 [==============================] - 2s 34ms/step\n",
      "Training RF for MIL3 (sliderNeutralPos)\n",
      "Training CNN for MIL3 (sliderNeutralPos)\n",
      "Epoch 1/10\n",
      "136/136 [==============================] - 1s 6ms/step - loss: 1.7655 - accuracy: 0.2849\n",
      "Epoch 2/10\n",
      "136/136 [==============================] - 1s 6ms/step - loss: 1.5239 - accuracy: 0.4032\n",
      "Epoch 3/10\n",
      "136/136 [==============================] - 1s 6ms/step - loss: 1.3505 - accuracy: 0.4702\n",
      "Epoch 4/10\n",
      "136/136 [==============================] - 1s 6ms/step - loss: 1.1939 - accuracy: 0.5404\n",
      "Epoch 5/10\n",
      "136/136 [==============================] - 1s 6ms/step - loss: 1.0389 - accuracy: 0.6012\n",
      "Epoch 6/10\n",
      "136/136 [==============================] - 1s 6ms/step - loss: 0.9040 - accuracy: 0.6605\n",
      "Epoch 7/10\n",
      "136/136 [==============================] - 1s 6ms/step - loss: 0.7898 - accuracy: 0.7015\n",
      "Epoch 8/10\n",
      "136/136 [==============================] - 1s 6ms/step - loss: 0.6892 - accuracy: 0.7505\n",
      "Epoch 9/10\n",
      "136/136 [==============================] - 1s 6ms/step - loss: 0.5900 - accuracy: 0.7825\n",
      "Epoch 10/10\n",
      "136/136 [==============================] - 1s 6ms/step - loss: 0.5003 - accuracy: 0.8216\n"
     ]
    },
    {
     "name": "stderr",
     "output_type": "stream",
     "text": [
      "/usr/local/lib/python3.10/dist-packages/keras/src/engine/training.py:3079: UserWarning: You are saving your model as an HDF5 file via `model.save()`. This file format is considered legacy. We recommend using instead the native Keras format, e.g. `model.save('my_model.keras')`.\n",
      "  saving_api.save_model(\n"
     ]
    },
    {
     "name": "stdout",
     "output_type": "stream",
     "text": [
      "32/32 [==============================] - 0s 3ms/step\n",
      "Training LSTM for MIL3 (sliderNeutralPos)\n",
      "Epoch 1/10\n",
      "136/136 [==============================] - 19s 127ms/step - loss: 1.9333 - accuracy: 0.2203\n",
      "Epoch 2/10\n",
      "136/136 [==============================] - 17s 128ms/step - loss: 1.8060 - accuracy: 0.2354\n",
      "Epoch 3/10\n",
      "136/136 [==============================] - 17s 127ms/step - loss: 1.8029 - accuracy: 0.2350\n",
      "Epoch 4/10\n",
      "136/136 [==============================] - 17s 124ms/step - loss: 1.7975 - accuracy: 0.2350\n",
      "Epoch 5/10\n",
      "136/136 [==============================] - 17s 125ms/step - loss: 1.7852 - accuracy: 0.2359\n",
      "Epoch 6/10\n",
      "136/136 [==============================] - 17s 125ms/step - loss: 1.7775 - accuracy: 0.2357\n",
      "Epoch 7/10\n",
      "136/136 [==============================] - 17s 124ms/step - loss: 1.7634 - accuracy: 0.2557\n",
      "Epoch 8/10\n",
      "136/136 [==============================] - 17s 122ms/step - loss: 1.7554 - accuracy: 0.2596\n",
      "Epoch 9/10\n",
      "136/136 [==============================] - 17s 126ms/step - loss: 1.7469 - accuracy: 0.2672\n",
      "Epoch 10/10\n",
      "136/136 [==============================] - 17s 126ms/step - loss: 1.7460 - accuracy: 0.2631\n"
     ]
    },
    {
     "name": "stderr",
     "output_type": "stream",
     "text": [
      "/usr/local/lib/python3.10/dist-packages/keras/src/engine/training.py:3079: UserWarning: You are saving your model as an HDF5 file via `model.save()`. This file format is considered legacy. We recommend using instead the native Keras format, e.g. `model.save('my_model.keras')`.\n",
      "  saving_api.save_model(\n"
     ]
    },
    {
     "name": "stdout",
     "output_type": "stream",
     "text": [
      "32/32 [==============================] - 2s 35ms/step\n",
      "Training RF for MIL4 (sliderNeutralPos)\n",
      "Training CNN for MIL4 (sliderNeutralPos)\n",
      "Epoch 1/10\n",
      "136/136 [==============================] - 1s 6ms/step - loss: 1.7343 - accuracy: 0.3326\n",
      "Epoch 2/10\n",
      "136/136 [==============================] - 1s 6ms/step - loss: 1.4900 - accuracy: 0.4278\n",
      "Epoch 3/10\n",
      "136/136 [==============================] - 1s 6ms/step - loss: 1.3218 - accuracy: 0.5008\n",
      "Epoch 4/10\n",
      "136/136 [==============================] - 1s 6ms/step - loss: 1.1590 - accuracy: 0.5756\n",
      "Epoch 5/10\n",
      "136/136 [==============================] - 1s 6ms/step - loss: 1.0105 - accuracy: 0.6272\n",
      "Epoch 6/10\n",
      "136/136 [==============================] - 1s 6ms/step - loss: 0.8851 - accuracy: 0.6766\n",
      "Epoch 7/10\n",
      "136/136 [==============================] - 1s 6ms/step - loss: 0.7564 - accuracy: 0.7323\n",
      "Epoch 8/10\n",
      "136/136 [==============================] - 1s 6ms/step - loss: 0.6590 - accuracy: 0.7611\n",
      "Epoch 9/10\n",
      "136/136 [==============================] - 1s 6ms/step - loss: 0.5644 - accuracy: 0.7970\n",
      "Epoch 10/10\n",
      "136/136 [==============================] - 1s 6ms/step - loss: 0.4826 - accuracy: 0.8295\n"
     ]
    },
    {
     "name": "stderr",
     "output_type": "stream",
     "text": [
      "/usr/local/lib/python3.10/dist-packages/keras/src/engine/training.py:3079: UserWarning: You are saving your model as an HDF5 file via `model.save()`. This file format is considered legacy. We recommend using instead the native Keras format, e.g. `model.save('my_model.keras')`.\n",
      "  saving_api.save_model(\n"
     ]
    },
    {
     "name": "stdout",
     "output_type": "stream",
     "text": [
      "32/32 [==============================] - 0s 3ms/step\n",
      "Training LSTM for MIL4 (sliderNeutralPos)\n",
      "Epoch 1/10\n",
      "136/136 [==============================] - 19s 127ms/step - loss: 1.9351 - accuracy: 0.2635\n",
      "Epoch 2/10\n",
      "136/136 [==============================] - 17s 122ms/step - loss: 1.8174 - accuracy: 0.2787\n",
      "Epoch 3/10\n",
      "136/136 [==============================] - 16s 120ms/step - loss: 1.8082 - accuracy: 0.2755\n",
      "Epoch 4/10\n",
      "136/136 [==============================] - 17s 122ms/step - loss: 1.8037 - accuracy: 0.2829\n",
      "Epoch 5/10\n",
      "136/136 [==============================] - 17s 126ms/step - loss: 1.7985 - accuracy: 0.2847\n",
      "Epoch 6/10\n",
      "136/136 [==============================] - 17s 126ms/step - loss: 1.7935 - accuracy: 0.2863\n",
      "Epoch 7/10\n",
      "136/136 [==============================] - 17s 125ms/step - loss: 1.7935 - accuracy: 0.2888\n",
      "Epoch 8/10\n",
      "136/136 [==============================] - 17s 126ms/step - loss: 1.7913 - accuracy: 0.2884\n",
      "Epoch 9/10\n",
      "136/136 [==============================] - 17s 122ms/step - loss: 1.7852 - accuracy: 0.2884\n",
      "Epoch 10/10\n",
      "136/136 [==============================] - 17s 125ms/step - loss: 1.7811 - accuracy: 0.2870\n"
     ]
    },
    {
     "name": "stderr",
     "output_type": "stream",
     "text": [
      "/usr/local/lib/python3.10/dist-packages/keras/src/engine/training.py:3079: UserWarning: You are saving your model as an HDF5 file via `model.save()`. This file format is considered legacy. We recommend using instead the native Keras format, e.g. `model.save('my_model.keras')`.\n",
      "  saving_api.save_model(\n"
     ]
    },
    {
     "name": "stdout",
     "output_type": "stream",
     "text": [
      "32/32 [==============================] - 2s 36ms/step\n",
      "Training RF for MIL5 (sliderNeutralPos)\n",
      "Training CNN for MIL5 (sliderNeutralPos)\n",
      "Epoch 1/10\n",
      "136/136 [==============================] - 1s 6ms/step - loss: 1.6812 - accuracy: 0.3441\n",
      "Epoch 2/10\n",
      "136/136 [==============================] - 1s 6ms/step - loss: 1.4601 - accuracy: 0.4352\n",
      "Epoch 3/10\n",
      "136/136 [==============================] - 1s 6ms/step - loss: 1.2704 - accuracy: 0.5100\n",
      "Epoch 4/10\n",
      "136/136 [==============================] - 1s 6ms/step - loss: 1.1050 - accuracy: 0.5820\n",
      "Epoch 5/10\n",
      "136/136 [==============================] - 1s 6ms/step - loss: 0.9758 - accuracy: 0.6318\n",
      "Epoch 6/10\n",
      "136/136 [==============================] - 1s 6ms/step - loss: 0.8392 - accuracy: 0.6893\n",
      "Epoch 7/10\n",
      "136/136 [==============================] - 1s 6ms/step - loss: 0.6965 - accuracy: 0.7459\n",
      "Epoch 8/10\n",
      "136/136 [==============================] - 1s 6ms/step - loss: 0.6291 - accuracy: 0.7652\n",
      "Epoch 9/10\n",
      "136/136 [==============================] - 1s 6ms/step - loss: 0.5455 - accuracy: 0.7982\n",
      "Epoch 10/10\n",
      "136/136 [==============================] - 1s 6ms/step - loss: 0.4657 - accuracy: 0.8209\n",
      " 1/32 [..............................] - ETA: 1s"
     ]
    },
    {
     "name": "stderr",
     "output_type": "stream",
     "text": [
      "/usr/local/lib/python3.10/dist-packages/keras/src/engine/training.py:3079: UserWarning: You are saving your model as an HDF5 file via `model.save()`. This file format is considered legacy. We recommend using instead the native Keras format, e.g. `model.save('my_model.keras')`.\n",
      "  saving_api.save_model(\n"
     ]
    },
    {
     "name": "stdout",
     "output_type": "stream",
     "text": [
      "32/32 [==============================] - 0s 2ms/step\n",
      "Training LSTM for MIL5 (sliderNeutralPos)\n",
      "Epoch 1/10\n",
      "136/136 [==============================] - 19s 127ms/step - loss: 1.9078 - accuracy: 0.2529\n",
      "Epoch 2/10\n",
      "136/136 [==============================] - 17s 123ms/step - loss: 1.8072 - accuracy: 0.2589\n",
      "Epoch 3/10\n",
      "136/136 [==============================] - 17s 125ms/step - loss: 1.7859 - accuracy: 0.2642\n",
      "Epoch 4/10\n",
      "136/136 [==============================] - 16s 121ms/step - loss: 1.7839 - accuracy: 0.2716\n",
      "Epoch 5/10\n",
      "136/136 [==============================] - 17s 126ms/step - loss: 1.7755 - accuracy: 0.2677\n",
      "Epoch 6/10\n",
      "136/136 [==============================] - 17s 122ms/step - loss: 1.7684 - accuracy: 0.2730\n",
      "Epoch 7/10\n",
      "136/136 [==============================] - 17s 126ms/step - loss: 1.7699 - accuracy: 0.2806\n",
      "Epoch 8/10\n",
      "136/136 [==============================] - 17s 127ms/step - loss: 1.7611 - accuracy: 0.2815\n",
      "Epoch 9/10\n",
      "136/136 [==============================] - 16s 114ms/step - loss: 1.7580 - accuracy: 0.2849\n",
      "Epoch 10/10\n",
      "136/136 [==============================] - 15s 107ms/step - loss: 1.7552 - accuracy: 0.2826\n"
     ]
    },
    {
     "name": "stderr",
     "output_type": "stream",
     "text": [
      "/usr/local/lib/python3.10/dist-packages/keras/src/engine/training.py:3079: UserWarning: You are saving your model as an HDF5 file via `model.save()`. This file format is considered legacy. We recommend using instead the native Keras format, e.g. `model.save('my_model.keras')`.\n",
      "  saving_api.save_model(\n"
     ]
    },
    {
     "name": "stdout",
     "output_type": "stream",
     "text": [
      "32/32 [==============================] - 2s 33ms/step\n",
      "Training RF for PRO1 (sliderNeutralPos)\n",
      "Training CNN for PRO1 (sliderNeutralPos)\n",
      "Epoch 1/10\n",
      "136/136 [==============================] - 1s 6ms/step - loss: 2.0397 - accuracy: 0.2835\n",
      "Epoch 2/10\n",
      "136/136 [==============================] - 1s 6ms/step - loss: 1.7861 - accuracy: 0.3678\n",
      "Epoch 3/10\n",
      "136/136 [==============================] - 1s 6ms/step - loss: 1.5670 - accuracy: 0.4465\n",
      "Epoch 4/10\n",
      "136/136 [==============================] - 1s 6ms/step - loss: 1.3575 - accuracy: 0.5176\n",
      "Epoch 5/10\n",
      "136/136 [==============================] - 1s 6ms/step - loss: 1.1665 - accuracy: 0.5873\n",
      "Epoch 6/10\n",
      "136/136 [==============================] - 1s 6ms/step - loss: 1.0010 - accuracy: 0.6451\n",
      "Epoch 7/10\n",
      "136/136 [==============================] - 1s 6ms/step - loss: 0.8710 - accuracy: 0.6985\n",
      "Epoch 8/10\n",
      "136/136 [==============================] - 1s 6ms/step - loss: 0.7432 - accuracy: 0.7484\n",
      "Epoch 9/10\n",
      "136/136 [==============================] - 1s 6ms/step - loss: 0.6447 - accuracy: 0.7728\n",
      "Epoch 10/10\n",
      "136/136 [==============================] - 1s 6ms/step - loss: 0.5688 - accuracy: 0.7988\n",
      "24/32 [=====================>........] - ETA: 0s"
     ]
    },
    {
     "name": "stderr",
     "output_type": "stream",
     "text": [
      "/usr/local/lib/python3.10/dist-packages/keras/src/engine/training.py:3079: UserWarning: You are saving your model as an HDF5 file via `model.save()`. This file format is considered legacy. We recommend using instead the native Keras format, e.g. `model.save('my_model.keras')`.\n",
      "  saving_api.save_model(\n"
     ]
    },
    {
     "name": "stdout",
     "output_type": "stream",
     "text": [
      "32/32 [==============================] - 0s 2ms/step\n",
      "Training LSTM for PRO1 (sliderNeutralPos)\n",
      "Epoch 1/10\n",
      "136/136 [==============================] - 19s 125ms/step - loss: 2.1982 - accuracy: 0.2060\n",
      "Epoch 2/10\n",
      "136/136 [==============================] - 17s 127ms/step - loss: 2.1505 - accuracy: 0.2163\n",
      "Epoch 3/10\n",
      "136/136 [==============================] - 17s 126ms/step - loss: 2.1486 - accuracy: 0.2092\n",
      "Epoch 4/10\n",
      "136/136 [==============================] - 17s 128ms/step - loss: 2.1482 - accuracy: 0.2175\n",
      "Epoch 5/10\n",
      "136/136 [==============================] - 17s 128ms/step - loss: 2.1448 - accuracy: 0.2198\n",
      "Epoch 6/10\n",
      "136/136 [==============================] - 17s 128ms/step - loss: 2.1407 - accuracy: 0.2235\n",
      "Epoch 7/10\n",
      "136/136 [==============================] - 17s 126ms/step - loss: 2.1402 - accuracy: 0.2159\n",
      "Epoch 8/10\n",
      "136/136 [==============================] - 17s 125ms/step - loss: 2.1350 - accuracy: 0.2131\n",
      "Epoch 9/10\n",
      "136/136 [==============================] - 17s 123ms/step - loss: 2.1365 - accuracy: 0.2186\n",
      "Epoch 10/10\n",
      "136/136 [==============================] - 16s 120ms/step - loss: 2.1312 - accuracy: 0.2212\n"
     ]
    },
    {
     "name": "stderr",
     "output_type": "stream",
     "text": [
      "/usr/local/lib/python3.10/dist-packages/keras/src/engine/training.py:3079: UserWarning: You are saving your model as an HDF5 file via `model.save()`. This file format is considered legacy. We recommend using instead the native Keras format, e.g. `model.save('my_model.keras')`.\n",
      "  saving_api.save_model(\n"
     ]
    },
    {
     "name": "stdout",
     "output_type": "stream",
     "text": [
      "32/32 [==============================] - 2s 35ms/step\n",
      "Training RF for PRO2 (sliderNeutralPos)\n",
      "Training CNN for PRO2 (sliderNeutralPos)\n",
      "Epoch 1/10\n",
      "136/136 [==============================] - 1s 6ms/step - loss: 2.0052 - accuracy: 0.2522\n",
      "Epoch 2/10\n",
      "136/136 [==============================] - 1s 6ms/step - loss: 1.7124 - accuracy: 0.3699\n",
      "Epoch 3/10\n",
      "136/136 [==============================] - 1s 6ms/step - loss: 1.5160 - accuracy: 0.4437\n",
      "Epoch 4/10\n",
      "136/136 [==============================] - 1s 6ms/step - loss: 1.3248 - accuracy: 0.5176\n",
      "Epoch 5/10\n",
      "136/136 [==============================] - 1s 6ms/step - loss: 1.1492 - accuracy: 0.5832\n",
      "Epoch 6/10\n",
      "136/136 [==============================] - 1s 6ms/step - loss: 1.0009 - accuracy: 0.6364\n",
      "Epoch 7/10\n",
      "136/136 [==============================] - 1s 6ms/step - loss: 0.8722 - accuracy: 0.6902\n",
      "Epoch 8/10\n",
      "136/136 [==============================] - 1s 6ms/step - loss: 0.7750 - accuracy: 0.7250\n",
      "Epoch 9/10\n",
      "136/136 [==============================] - 1s 6ms/step - loss: 0.6692 - accuracy: 0.7650\n",
      "Epoch 10/10\n",
      "136/136 [==============================] - 1s 6ms/step - loss: 0.5968 - accuracy: 0.7860\n",
      "32/32 [==============================] - 0s 2ms/step\n"
     ]
    },
    {
     "name": "stderr",
     "output_type": "stream",
     "text": [
      "/usr/local/lib/python3.10/dist-packages/keras/src/engine/training.py:3079: UserWarning: You are saving your model as an HDF5 file via `model.save()`. This file format is considered legacy. We recommend using instead the native Keras format, e.g. `model.save('my_model.keras')`.\n",
      "  saving_api.save_model(\n"
     ]
    },
    {
     "name": "stdout",
     "output_type": "stream",
     "text": [
      "Training LSTM for PRO2 (sliderNeutralPos)\n",
      "Epoch 1/10\n",
      "136/136 [==============================] - 19s 127ms/step - loss: 2.1587 - accuracy: 0.1970\n",
      "Epoch 2/10\n",
      "136/136 [==============================] - 17s 124ms/step - loss: 2.0926 - accuracy: 0.2046\n",
      "Epoch 3/10\n",
      "136/136 [==============================] - 17s 128ms/step - loss: 2.0797 - accuracy: 0.1975\n",
      "Epoch 4/10\n",
      "136/136 [==============================] - 17s 127ms/step - loss: 2.0724 - accuracy: 0.2094\n",
      "Epoch 5/10\n",
      "136/136 [==============================] - 17s 122ms/step - loss: 2.0602 - accuracy: 0.2081\n",
      "Epoch 6/10\n",
      "136/136 [==============================] - 15s 108ms/step - loss: 2.0542 - accuracy: 0.2175\n",
      "Epoch 7/10\n",
      "136/136 [==============================] - 15s 113ms/step - loss: 2.0449 - accuracy: 0.2154\n",
      "Epoch 8/10\n",
      "136/136 [==============================] - 15s 110ms/step - loss: 2.0358 - accuracy: 0.2318\n",
      "Epoch 9/10\n",
      "136/136 [==============================] - 14s 105ms/step - loss: 2.0275 - accuracy: 0.2295\n",
      "Epoch 10/10\n",
      "136/136 [==============================] - 15s 109ms/step - loss: 2.0126 - accuracy: 0.2336\n"
     ]
    },
    {
     "name": "stderr",
     "output_type": "stream",
     "text": [
      "/usr/local/lib/python3.10/dist-packages/keras/src/engine/training.py:3079: UserWarning: You are saving your model as an HDF5 file via `model.save()`. This file format is considered legacy. We recommend using instead the native Keras format, e.g. `model.save('my_model.keras')`.\n",
      "  saving_api.save_model(\n"
     ]
    },
    {
     "name": "stdout",
     "output_type": "stream",
     "text": [
      "32/32 [==============================] - 2s 37ms/step\n",
      "Training RF for PRO3 (sliderNeutralPos)\n",
      "Training CNN for PRO3 (sliderNeutralPos)\n",
      "Epoch 1/10\n",
      "136/136 [==============================] - 1s 6ms/step - loss: 1.9718 - accuracy: 0.2684\n",
      "Epoch 2/10\n",
      "136/136 [==============================] - 1s 6ms/step - loss: 1.7146 - accuracy: 0.3689\n",
      "Epoch 3/10\n",
      "136/136 [==============================] - 1s 6ms/step - loss: 1.5250 - accuracy: 0.4433\n",
      "Epoch 4/10\n",
      "136/136 [==============================] - 1s 5ms/step - loss: 1.3583 - accuracy: 0.5029\n",
      "Epoch 5/10\n",
      "136/136 [==============================] - 1s 6ms/step - loss: 1.1996 - accuracy: 0.5606\n",
      "Epoch 6/10\n",
      "136/136 [==============================] - 1s 6ms/step - loss: 1.0443 - accuracy: 0.6258\n",
      "Epoch 7/10\n",
      "136/136 [==============================] - 1s 6ms/step - loss: 0.9030 - accuracy: 0.6644\n",
      "Epoch 8/10\n",
      "136/136 [==============================] - 1s 6ms/step - loss: 0.8289 - accuracy: 0.7017\n",
      "Epoch 9/10\n",
      "136/136 [==============================] - 1s 6ms/step - loss: 0.7049 - accuracy: 0.7547\n",
      "Epoch 10/10\n",
      "136/136 [==============================] - 1s 6ms/step - loss: 0.6642 - accuracy: 0.7632\n",
      " 1/32 [..............................] - ETA: 1s"
     ]
    },
    {
     "name": "stderr",
     "output_type": "stream",
     "text": [
      "/usr/local/lib/python3.10/dist-packages/keras/src/engine/training.py:3079: UserWarning: You are saving your model as an HDF5 file via `model.save()`. This file format is considered legacy. We recommend using instead the native Keras format, e.g. `model.save('my_model.keras')`.\n",
      "  saving_api.save_model(\n"
     ]
    },
    {
     "name": "stdout",
     "output_type": "stream",
     "text": [
      "32/32 [==============================] - 0s 2ms/step\n",
      "Training LSTM for PRO3 (sliderNeutralPos)\n",
      "Epoch 1/10\n",
      "136/136 [==============================] - 19s 127ms/step - loss: 2.1102 - accuracy: 0.2145\n",
      "Epoch 2/10\n",
      "136/136 [==============================] - 17s 126ms/step - loss: 2.0592 - accuracy: 0.2122\n",
      "Epoch 3/10\n",
      "136/136 [==============================] - 16s 121ms/step - loss: 2.0462 - accuracy: 0.2161\n",
      "Epoch 4/10\n",
      "136/136 [==============================] - 16s 116ms/step - loss: 2.0439 - accuracy: 0.2110\n",
      "Epoch 5/10\n",
      "136/136 [==============================] - 17s 123ms/step - loss: 2.0448 - accuracy: 0.2228\n",
      "Epoch 6/10\n",
      "136/136 [==============================] - 17s 124ms/step - loss: 2.0408 - accuracy: 0.2182\n",
      "Epoch 7/10\n",
      "136/136 [==============================] - 16s 114ms/step - loss: 2.0371 - accuracy: 0.2203\n",
      "Epoch 8/10\n",
      "136/136 [==============================] - 16s 114ms/step - loss: 2.0360 - accuracy: 0.2246\n",
      "Epoch 9/10\n",
      "136/136 [==============================] - 15s 109ms/step - loss: 2.0391 - accuracy: 0.2230\n",
      "Epoch 10/10\n",
      "136/136 [==============================] - 15s 110ms/step - loss: 2.0347 - accuracy: 0.2297\n"
     ]
    },
    {
     "name": "stderr",
     "output_type": "stream",
     "text": [
      "/usr/local/lib/python3.10/dist-packages/keras/src/engine/training.py:3079: UserWarning: You are saving your model as an HDF5 file via `model.save()`. This file format is considered legacy. We recommend using instead the native Keras format, e.g. `model.save('my_model.keras')`.\n",
      "  saving_api.save_model(\n"
     ]
    },
    {
     "name": "stdout",
     "output_type": "stream",
     "text": [
      "32/32 [==============================] - 2s 32ms/step\n"
     ]
    },
    {
     "name": "stderr",
     "output_type": "stream",
     "text": [
      "Processing Folds:  40%|████      | 2/5 [2:24:46<3:37:55, 4358.56s/it]"
     ]
    },
    {
     "name": "stdout",
     "output_type": "stream",
     "text": [
      "Loading data from: folds_transformed/fold_3_train_pca.csv\n",
      "Loading data from: folds_transformed/fold_3_test_pca.csv\n",
      "Training RF for P1 (sliderNeutralPos)\n",
      "Training CNN for P1 (sliderNeutralPos)\n",
      "Epoch 1/10\n",
      "134/134 [==============================] - 1s 6ms/step - loss: 2.0022 - accuracy: 0.2624\n",
      "Epoch 2/10\n",
      "134/134 [==============================] - 1s 6ms/step - loss: 1.7616 - accuracy: 0.3533\n",
      "Epoch 3/10\n",
      "134/134 [==============================] - 1s 6ms/step - loss: 1.5779 - accuracy: 0.4288\n",
      "Epoch 4/10\n",
      "134/134 [==============================] - 1s 6ms/step - loss: 1.4208 - accuracy: 0.4794\n",
      "Epoch 5/10\n",
      "134/134 [==============================] - 1s 6ms/step - loss: 1.2566 - accuracy: 0.5466\n",
      "Epoch 6/10\n",
      "134/134 [==============================] - 1s 6ms/step - loss: 1.1170 - accuracy: 0.5972\n",
      "Epoch 7/10\n",
      "134/134 [==============================] - 1s 6ms/step - loss: 0.9734 - accuracy: 0.6518\n",
      "Epoch 8/10\n",
      "134/134 [==============================] - 1s 6ms/step - loss: 0.8509 - accuracy: 0.6935\n",
      "Epoch 9/10\n",
      "134/134 [==============================] - 1s 6ms/step - loss: 0.7550 - accuracy: 0.7331\n",
      "Epoch 10/10\n",
      "134/134 [==============================] - 1s 6ms/step - loss: 0.6644 - accuracy: 0.7570\n",
      " 1/34 [..............................] - ETA: 1s"
     ]
    },
    {
     "name": "stderr",
     "output_type": "stream",
     "text": [
      "/usr/local/lib/python3.10/dist-packages/keras/src/engine/training.py:3079: UserWarning: You are saving your model as an HDF5 file via `model.save()`. This file format is considered legacy. We recommend using instead the native Keras format, e.g. `model.save('my_model.keras')`.\n",
      "  saving_api.save_model(\n"
     ]
    },
    {
     "name": "stdout",
     "output_type": "stream",
     "text": [
      "34/34 [==============================] - 0s 2ms/step\n",
      "Training LSTM for P1 (sliderNeutralPos)\n",
      "Epoch 1/10\n",
      "134/134 [==============================] - 8s 42ms/step - loss: 2.1010 - accuracy: 0.2219\n",
      "Epoch 2/10\n",
      "134/134 [==============================] - 6s 42ms/step - loss: 2.0427 - accuracy: 0.2303\n",
      "Epoch 3/10\n",
      "134/134 [==============================] - 5s 39ms/step - loss: 2.0359 - accuracy: 0.2423\n",
      "Epoch 4/10\n",
      "134/134 [==============================] - 5s 40ms/step - loss: 2.0366 - accuracy: 0.2336\n",
      "Epoch 5/10\n",
      "134/134 [==============================] - 5s 38ms/step - loss: 2.0295 - accuracy: 0.2430\n",
      "Epoch 6/10\n",
      "134/134 [==============================] - 5s 37ms/step - loss: 2.0290 - accuracy: 0.2390\n",
      "Epoch 7/10\n",
      "134/134 [==============================] - 4s 33ms/step - loss: 2.0268 - accuracy: 0.2434\n",
      "Epoch 8/10\n",
      "134/134 [==============================] - 5s 34ms/step - loss: 2.0270 - accuracy: 0.2463\n",
      "Epoch 9/10\n",
      "134/134 [==============================] - 5s 38ms/step - loss: 2.0314 - accuracy: 0.2427\n",
      "Epoch 10/10\n",
      "134/134 [==============================] - 5s 38ms/step - loss: 2.0257 - accuracy: 0.2467\n"
     ]
    },
    {
     "name": "stderr",
     "output_type": "stream",
     "text": [
      "/usr/local/lib/python3.10/dist-packages/keras/src/engine/training.py:3079: UserWarning: You are saving your model as an HDF5 file via `model.save()`. This file format is considered legacy. We recommend using instead the native Keras format, e.g. `model.save('my_model.keras')`.\n",
      "  saving_api.save_model(\n"
     ]
    },
    {
     "name": "stdout",
     "output_type": "stream",
     "text": [
      "34/34 [==============================] - 1s 12ms/step\n",
      "Training RF for N1 (sliderNeutralPos)\n",
      "Training CNN for N1 (sliderNeutralPos)\n",
      "Epoch 1/10\n",
      "134/134 [==============================] - 1s 6ms/step - loss: 2.0390 - accuracy: 0.3018\n",
      "Epoch 2/10\n",
      "134/134 [==============================] - 1s 6ms/step - loss: 1.7641 - accuracy: 0.3929\n",
      "Epoch 3/10\n",
      "134/134 [==============================] - 1s 6ms/step - loss: 1.5591 - accuracy: 0.4536\n",
      "Epoch 4/10\n",
      "134/134 [==============================] - 1s 6ms/step - loss: 1.3300 - accuracy: 0.5337\n",
      "Epoch 5/10\n",
      "134/134 [==============================] - 1s 6ms/step - loss: 1.1418 - accuracy: 0.6038\n",
      "Epoch 6/10\n",
      "134/134 [==============================] - 1s 6ms/step - loss: 1.0096 - accuracy: 0.6403\n",
      "Epoch 7/10\n",
      "134/134 [==============================] - 1s 6ms/step - loss: 0.8309 - accuracy: 0.7081\n",
      "Epoch 8/10\n",
      "134/134 [==============================] - 1s 6ms/step - loss: 0.7148 - accuracy: 0.7470\n",
      "Epoch 9/10\n",
      "134/134 [==============================] - 1s 6ms/step - loss: 0.6129 - accuracy: 0.7882\n",
      "Epoch 10/10\n",
      "134/134 [==============================] - 1s 6ms/step - loss: 0.5369 - accuracy: 0.8135\n",
      "34/34 [==============================] - 0s 2ms/step\n"
     ]
    },
    {
     "name": "stderr",
     "output_type": "stream",
     "text": [
      "/usr/local/lib/python3.10/dist-packages/keras/src/engine/training.py:3079: UserWarning: You are saving your model as an HDF5 file via `model.save()`. This file format is considered legacy. We recommend using instead the native Keras format, e.g. `model.save('my_model.keras')`.\n",
      "  saving_api.save_model(\n"
     ]
    },
    {
     "name": "stdout",
     "output_type": "stream",
     "text": [
      "Training LSTM for N1 (sliderNeutralPos)\n",
      "Epoch 1/10\n",
      "134/134 [==============================] - 8s 42ms/step - loss: 2.1865 - accuracy: 0.2226\n",
      "Epoch 2/10\n",
      "134/134 [==============================] - 5s 40ms/step - loss: 2.1396 - accuracy: 0.2299\n",
      "Epoch 3/10\n",
      "134/134 [==============================] - 5s 39ms/step - loss: 2.1371 - accuracy: 0.2402\n",
      "Epoch 4/10\n",
      "134/134 [==============================] - 6s 42ms/step - loss: 2.1359 - accuracy: 0.2322\n",
      "Epoch 5/10\n",
      "134/134 [==============================] - 6s 42ms/step - loss: 2.1299 - accuracy: 0.2474\n",
      "Epoch 6/10\n",
      "134/134 [==============================] - 5s 39ms/step - loss: 2.1249 - accuracy: 0.2350\n",
      "Epoch 7/10\n",
      "134/134 [==============================] - 5s 38ms/step - loss: 2.1234 - accuracy: 0.2472\n",
      "Epoch 8/10\n",
      "134/134 [==============================] - 5s 37ms/step - loss: 2.1199 - accuracy: 0.2467\n",
      "Epoch 9/10\n",
      "134/134 [==============================] - 5s 38ms/step - loss: 2.1154 - accuracy: 0.2406\n",
      "Epoch 10/10\n",
      "134/134 [==============================] - 5s 40ms/step - loss: 2.1078 - accuracy: 0.2465\n"
     ]
    },
    {
     "name": "stderr",
     "output_type": "stream",
     "text": [
      "/usr/local/lib/python3.10/dist-packages/keras/src/engine/training.py:3079: UserWarning: You are saving your model as an HDF5 file via `model.save()`. This file format is considered legacy. We recommend using instead the native Keras format, e.g. `model.save('my_model.keras')`.\n",
      "  saving_api.save_model(\n"
     ]
    },
    {
     "name": "stdout",
     "output_type": "stream",
     "text": [
      "34/34 [==============================] - 1s 14ms/step\n",
      "Training RF for P2 (sliderNeutralPos)\n",
      "Training CNN for P2 (sliderNeutralPos)\n",
      "Epoch 1/10\n",
      "134/134 [==============================] - 1s 6ms/step - loss: 1.9770 - accuracy: 0.2671\n",
      "Epoch 2/10\n",
      "134/134 [==============================] - 1s 6ms/step - loss: 1.7124 - accuracy: 0.3629\n",
      "Epoch 3/10\n",
      "134/134 [==============================] - 1s 6ms/step - loss: 1.5151 - accuracy: 0.4400\n",
      "Epoch 4/10\n",
      "134/134 [==============================] - 1s 6ms/step - loss: 1.3608 - accuracy: 0.5094\n",
      "Epoch 5/10\n",
      "134/134 [==============================] - 1s 6ms/step - loss: 1.1874 - accuracy: 0.5703\n",
      "Epoch 6/10\n",
      "134/134 [==============================] - 1s 6ms/step - loss: 1.0149 - accuracy: 0.6408\n",
      "Epoch 7/10\n",
      "134/134 [==============================] - 1s 6ms/step - loss: 0.8626 - accuracy: 0.6994\n",
      "Epoch 8/10\n",
      "134/134 [==============================] - 1s 6ms/step - loss: 0.7557 - accuracy: 0.7266\n",
      "Epoch 9/10\n",
      "134/134 [==============================] - 1s 6ms/step - loss: 0.6447 - accuracy: 0.7713\n",
      "Epoch 10/10\n",
      "134/134 [==============================] - 1s 6ms/step - loss: 0.5669 - accuracy: 0.8018\n",
      "34/34 [==============================] - 0s 2ms/step\n"
     ]
    },
    {
     "name": "stderr",
     "output_type": "stream",
     "text": [
      "/usr/local/lib/python3.10/dist-packages/keras/src/engine/training.py:3079: UserWarning: You are saving your model as an HDF5 file via `model.save()`. This file format is considered legacy. We recommend using instead the native Keras format, e.g. `model.save('my_model.keras')`.\n",
      "  saving_api.save_model(\n"
     ]
    },
    {
     "name": "stdout",
     "output_type": "stream",
     "text": [
      "Training LSTM for P2 (sliderNeutralPos)\n",
      "Epoch 1/10\n",
      "134/134 [==============================] - 8s 42ms/step - loss: 2.0853 - accuracy: 0.2142\n",
      "Epoch 2/10\n",
      "134/134 [==============================] - 6s 41ms/step - loss: 2.0349 - accuracy: 0.2280\n",
      "Epoch 3/10\n",
      "134/134 [==============================] - 5s 38ms/step - loss: 2.0348 - accuracy: 0.2235\n",
      "Epoch 4/10\n",
      "134/134 [==============================] - 5s 36ms/step - loss: 2.0308 - accuracy: 0.2228\n",
      "Epoch 5/10\n",
      "134/134 [==============================] - 5s 37ms/step - loss: 2.0265 - accuracy: 0.2301\n",
      "Epoch 6/10\n",
      "134/134 [==============================] - 5s 35ms/step - loss: 2.0259 - accuracy: 0.2291\n",
      "Epoch 7/10\n",
      "134/134 [==============================] - 5s 37ms/step - loss: 2.0216 - accuracy: 0.2310\n",
      "Epoch 8/10\n",
      "134/134 [==============================] - 5s 34ms/step - loss: 2.0221 - accuracy: 0.2334\n",
      "Epoch 9/10\n",
      "134/134 [==============================] - 5s 34ms/step - loss: 2.0252 - accuracy: 0.2327\n",
      "Epoch 10/10\n",
      "134/134 [==============================] - 4s 33ms/step - loss: 2.0143 - accuracy: 0.2348\n"
     ]
    },
    {
     "name": "stderr",
     "output_type": "stream",
     "text": [
      "/usr/local/lib/python3.10/dist-packages/keras/src/engine/training.py:3079: UserWarning: You are saving your model as an HDF5 file via `model.save()`. This file format is considered legacy. We recommend using instead the native Keras format, e.g. `model.save('my_model.keras')`.\n",
      "  saving_api.save_model(\n"
     ]
    },
    {
     "name": "stdout",
     "output_type": "stream",
     "text": [
      "34/34 [==============================] - 1s 13ms/step\n",
      "Training RF for N2 (sliderNeutralPos)\n",
      "Training CNN for N2 (sliderNeutralPos)\n",
      "Epoch 1/10\n",
      "134/134 [==============================] - 4s 6ms/step - loss: 1.7036 - accuracy: 0.3962\n",
      "Epoch 2/10\n",
      "134/134 [==============================] - 1s 6ms/step - loss: 1.4663 - accuracy: 0.4681\n",
      "Epoch 3/10\n",
      "134/134 [==============================] - 1s 6ms/step - loss: 1.2999 - accuracy: 0.5241\n",
      "Epoch 4/10\n",
      "134/134 [==============================] - 1s 6ms/step - loss: 1.1667 - accuracy: 0.5797\n",
      "Epoch 5/10\n",
      "134/134 [==============================] - 1s 6ms/step - loss: 1.0306 - accuracy: 0.6193\n",
      "Epoch 6/10\n",
      "134/134 [==============================] - 1s 6ms/step - loss: 0.9051 - accuracy: 0.6673\n",
      "Epoch 7/10\n",
      "134/134 [==============================] - 1s 6ms/step - loss: 0.7884 - accuracy: 0.7165\n",
      "Epoch 8/10\n",
      "134/134 [==============================] - 1s 6ms/step - loss: 0.6962 - accuracy: 0.7425\n",
      "Epoch 9/10\n",
      "134/134 [==============================] - 1s 6ms/step - loss: 0.6121 - accuracy: 0.7772\n",
      "Epoch 10/10\n",
      "134/134 [==============================] - 1s 6ms/step - loss: 0.5272 - accuracy: 0.8072\n",
      "34/34 [==============================] - 0s 2ms/step\n"
     ]
    },
    {
     "name": "stderr",
     "output_type": "stream",
     "text": [
      "/usr/local/lib/python3.10/dist-packages/keras/src/engine/training.py:3079: UserWarning: You are saving your model as an HDF5 file via `model.save()`. This file format is considered legacy. We recommend using instead the native Keras format, e.g. `model.save('my_model.keras')`.\n",
      "  saving_api.save_model(\n"
     ]
    },
    {
     "name": "stdout",
     "output_type": "stream",
     "text": [
      "Training LSTM for N2 (sliderNeutralPos)\n",
      "Epoch 1/10\n",
      "134/134 [==============================] - 8s 41ms/step - loss: 1.8394 - accuracy: 0.3620\n",
      "Epoch 2/10\n",
      "134/134 [==============================] - 5s 40ms/step - loss: 1.7461 - accuracy: 0.3711\n",
      "Epoch 3/10\n",
      "134/134 [==============================] - 5s 38ms/step - loss: 1.7369 - accuracy: 0.3782\n",
      "Epoch 4/10\n",
      "134/134 [==============================] - 5s 35ms/step - loss: 1.7333 - accuracy: 0.3761\n",
      "Epoch 5/10\n",
      "134/134 [==============================] - 5s 34ms/step - loss: 1.7273 - accuracy: 0.3758\n",
      "Epoch 6/10\n",
      "134/134 [==============================] - 5s 37ms/step - loss: 1.7283 - accuracy: 0.3768\n",
      "Epoch 7/10\n",
      "134/134 [==============================] - 5s 38ms/step - loss: 1.7278 - accuracy: 0.3775\n",
      "Epoch 8/10\n",
      "134/134 [==============================] - 6s 41ms/step - loss: 1.7253 - accuracy: 0.3770\n",
      "Epoch 9/10\n",
      "134/134 [==============================] - 6s 41ms/step - loss: 1.7253 - accuracy: 0.3768\n",
      "Epoch 10/10\n",
      "134/134 [==============================] - 6s 41ms/step - loss: 1.7275 - accuracy: 0.3770\n"
     ]
    },
    {
     "name": "stderr",
     "output_type": "stream",
     "text": [
      "/usr/local/lib/python3.10/dist-packages/keras/src/engine/training.py:3079: UserWarning: You are saving your model as an HDF5 file via `model.save()`. This file format is considered legacy. We recommend using instead the native Keras format, e.g. `model.save('my_model.keras')`.\n",
      "  saving_api.save_model(\n"
     ]
    },
    {
     "name": "stdout",
     "output_type": "stream",
     "text": [
      "34/34 [==============================] - 1s 13ms/step\n",
      "Training RF for N3 (sliderNeutralPos)\n",
      "Training CNN for N3 (sliderNeutralPos)\n",
      "Epoch 1/10\n",
      "134/134 [==============================] - 1s 6ms/step - loss: 1.9859 - accuracy: 0.3058\n",
      "Epoch 2/10\n",
      "134/134 [==============================] - 1s 6ms/step - loss: 1.7280 - accuracy: 0.3922\n",
      "Epoch 3/10\n",
      "134/134 [==============================] - 1s 6ms/step - loss: 1.5222 - accuracy: 0.4695\n",
      "Epoch 4/10\n",
      "134/134 [==============================] - 1s 6ms/step - loss: 1.3216 - accuracy: 0.5358\n",
      "Epoch 5/10\n",
      "134/134 [==============================] - 1s 6ms/step - loss: 1.1499 - accuracy: 0.6050\n",
      "Epoch 6/10\n",
      "134/134 [==============================] - 1s 6ms/step - loss: 0.9772 - accuracy: 0.6556\n",
      "Epoch 7/10\n",
      "134/134 [==============================] - 1s 6ms/step - loss: 0.8689 - accuracy: 0.7064\n",
      "Epoch 8/10\n",
      "134/134 [==============================] - 1s 6ms/step - loss: 0.7367 - accuracy: 0.7399\n",
      "Epoch 9/10\n",
      "134/134 [==============================] - 1s 6ms/step - loss: 0.6477 - accuracy: 0.7755\n",
      "Epoch 10/10\n",
      "134/134 [==============================] - 1s 6ms/step - loss: 0.5748 - accuracy: 0.8034\n",
      "34/34 [==============================] - 0s 2ms/step\n"
     ]
    },
    {
     "name": "stderr",
     "output_type": "stream",
     "text": [
      "/usr/local/lib/python3.10/dist-packages/keras/src/engine/training.py:3079: UserWarning: You are saving your model as an HDF5 file via `model.save()`. This file format is considered legacy. We recommend using instead the native Keras format, e.g. `model.save('my_model.keras')`.\n",
      "  saving_api.save_model(\n"
     ]
    },
    {
     "name": "stdout",
     "output_type": "stream",
     "text": [
      "Training LSTM for N3 (sliderNeutralPos)\n",
      "Epoch 1/10\n",
      "134/134 [==============================] - 8s 42ms/step - loss: 2.1307 - accuracy: 0.2427\n",
      "Epoch 2/10\n",
      "134/134 [==============================] - 6s 41ms/step - loss: 2.0644 - accuracy: 0.2577\n",
      "Epoch 3/10\n",
      "134/134 [==============================] - 5s 39ms/step - loss: 2.0644 - accuracy: 0.2533\n",
      "Epoch 4/10\n",
      "134/134 [==============================] - 5s 34ms/step - loss: 2.0588 - accuracy: 0.2605\n",
      "Epoch 5/10\n",
      "134/134 [==============================] - 5s 36ms/step - loss: 2.0548 - accuracy: 0.2596\n",
      "Epoch 6/10\n",
      "134/134 [==============================] - 5s 36ms/step - loss: 2.0524 - accuracy: 0.2631\n",
      "Epoch 7/10\n",
      "134/134 [==============================] - 5s 38ms/step - loss: 2.0562 - accuracy: 0.2596\n",
      "Epoch 8/10\n",
      "134/134 [==============================] - 5s 39ms/step - loss: 2.0528 - accuracy: 0.2615\n",
      "Epoch 9/10\n",
      "134/134 [==============================] - 5s 38ms/step - loss: 2.0507 - accuracy: 0.2589\n",
      "Epoch 10/10\n",
      "134/134 [==============================] - 5s 41ms/step - loss: 2.0448 - accuracy: 0.2652\n"
     ]
    },
    {
     "name": "stderr",
     "output_type": "stream",
     "text": [
      "/usr/local/lib/python3.10/dist-packages/keras/src/engine/training.py:3079: UserWarning: You are saving your model as an HDF5 file via `model.save()`. This file format is considered legacy. We recommend using instead the native Keras format, e.g. `model.save('my_model.keras')`.\n",
      "  saving_api.save_model(\n"
     ]
    },
    {
     "name": "stdout",
     "output_type": "stream",
     "text": [
      "34/34 [==============================] - 1s 13ms/step\n",
      "Training RF for P3 (sliderNeutralPos)\n",
      "Training CNN for P3 (sliderNeutralPos)\n",
      "Epoch 1/10\n",
      "134/134 [==============================] - 1s 6ms/step - loss: 1.9768 - accuracy: 0.2748\n",
      "Epoch 2/10\n",
      "134/134 [==============================] - 1s 6ms/step - loss: 1.6744 - accuracy: 0.3833\n",
      "Epoch 3/10\n",
      "134/134 [==============================] - 1s 6ms/step - loss: 1.4673 - accuracy: 0.4716\n",
      "Epoch 4/10\n",
      "134/134 [==============================] - 1s 6ms/step - loss: 1.2805 - accuracy: 0.5396\n",
      "Epoch 5/10\n",
      "134/134 [==============================] - 1s 6ms/step - loss: 1.1155 - accuracy: 0.5956\n",
      "Epoch 6/10\n",
      "134/134 [==============================] - 1s 6ms/step - loss: 0.9592 - accuracy: 0.6593\n",
      "Epoch 7/10\n",
      "134/134 [==============================] - 1s 6ms/step - loss: 0.8278 - accuracy: 0.7149\n",
      "Epoch 8/10\n",
      "134/134 [==============================] - 1s 6ms/step - loss: 0.6881 - accuracy: 0.7598\n",
      "Epoch 9/10\n",
      "134/134 [==============================] - 1s 6ms/step - loss: 0.5978 - accuracy: 0.7873\n",
      "Epoch 10/10\n",
      "134/134 [==============================] - 1s 6ms/step - loss: 0.5221 - accuracy: 0.8126\n",
      "34/34 [==============================] - 0s 2ms/step\n"
     ]
    },
    {
     "name": "stderr",
     "output_type": "stream",
     "text": [
      "/usr/local/lib/python3.10/dist-packages/keras/src/engine/training.py:3079: UserWarning: You are saving your model as an HDF5 file via `model.save()`. This file format is considered legacy. We recommend using instead the native Keras format, e.g. `model.save('my_model.keras')`.\n",
      "  saving_api.save_model(\n"
     ]
    },
    {
     "name": "stdout",
     "output_type": "stream",
     "text": [
      "Training LSTM for P3 (sliderNeutralPos)\n",
      "Epoch 1/10\n",
      "134/134 [==============================] - 8s 42ms/step - loss: 2.1373 - accuracy: 0.1959\n",
      "Epoch 2/10\n",
      "134/134 [==============================] - 5s 41ms/step - loss: 2.0713 - accuracy: 0.1968\n",
      "Epoch 3/10\n",
      "134/134 [==============================] - 5s 34ms/step - loss: 2.0676 - accuracy: 0.1985\n",
      "Epoch 4/10\n",
      "134/134 [==============================] - 4s 34ms/step - loss: 2.0620 - accuracy: 0.2092\n",
      "Epoch 5/10\n",
      "134/134 [==============================] - 5s 36ms/step - loss: 2.0538 - accuracy: 0.2111\n",
      "Epoch 6/10\n",
      "134/134 [==============================] - 5s 40ms/step - loss: 2.0560 - accuracy: 0.1987\n",
      "Epoch 7/10\n",
      "134/134 [==============================] - 6s 42ms/step - loss: 2.0529 - accuracy: 0.2043\n",
      "Epoch 8/10\n",
      "134/134 [==============================] - 6s 43ms/step - loss: 2.0548 - accuracy: 0.2151\n",
      "Epoch 9/10\n",
      "134/134 [==============================] - 6s 41ms/step - loss: 2.0508 - accuracy: 0.2090\n",
      "Epoch 10/10\n",
      "134/134 [==============================] - 5s 41ms/step - loss: 2.0523 - accuracy: 0.2045\n"
     ]
    },
    {
     "name": "stderr",
     "output_type": "stream",
     "text": [
      "/usr/local/lib/python3.10/dist-packages/keras/src/engine/training.py:3079: UserWarning: You are saving your model as an HDF5 file via `model.save()`. This file format is considered legacy. We recommend using instead the native Keras format, e.g. `model.save('my_model.keras')`.\n",
      "  saving_api.save_model(\n"
     ]
    },
    {
     "name": "stdout",
     "output_type": "stream",
     "text": [
      "34/34 [==============================] - 1s 14ms/step\n",
      "Training RF for SE1 (sliderNegPos)\n",
      "Training CNN for SE1 (sliderNegPos)\n",
      "Epoch 1/10\n",
      "134/134 [==============================] - 1s 6ms/step - loss: 1.1534 - accuracy: 0.5157\n",
      "Epoch 2/10\n",
      "134/134 [==============================] - 1s 6ms/step - loss: 0.9828 - accuracy: 0.5696\n",
      "Epoch 3/10\n",
      "134/134 [==============================] - 1s 6ms/step - loss: 0.9174 - accuracy: 0.5890\n",
      "Epoch 4/10\n",
      "134/134 [==============================] - 1s 6ms/step - loss: 0.8365 - accuracy: 0.6427\n",
      "Epoch 5/10\n",
      "134/134 [==============================] - 1s 6ms/step - loss: 0.7656 - accuracy: 0.6757\n",
      "Epoch 6/10\n",
      "134/134 [==============================] - 1s 6ms/step - loss: 0.6731 - accuracy: 0.7235\n",
      "Epoch 7/10\n",
      "134/134 [==============================] - 1s 6ms/step - loss: 0.6046 - accuracy: 0.7479\n",
      "Epoch 8/10\n",
      "134/134 [==============================] - 1s 6ms/step - loss: 0.5306 - accuracy: 0.7884\n",
      "Epoch 9/10\n",
      "134/134 [==============================] - 1s 6ms/step - loss: 0.4594 - accuracy: 0.8229\n",
      "Epoch 10/10\n",
      "134/134 [==============================] - 1s 6ms/step - loss: 0.4158 - accuracy: 0.8372\n",
      "34/34 [==============================] - 0s 2ms/step\n"
     ]
    },
    {
     "name": "stderr",
     "output_type": "stream",
     "text": [
      "/usr/local/lib/python3.10/dist-packages/keras/src/engine/training.py:3079: UserWarning: You are saving your model as an HDF5 file via `model.save()`. This file format is considered legacy. We recommend using instead the native Keras format, e.g. `model.save('my_model.keras')`.\n",
      "  saving_api.save_model(\n"
     ]
    },
    {
     "name": "stdout",
     "output_type": "stream",
     "text": [
      "Training LSTM for SE1 (sliderNegPos)\n",
      "Epoch 1/10\n",
      "134/134 [==============================] - 8s 42ms/step - loss: 1.3339 - accuracy: 0.5009\n",
      "Epoch 2/10\n",
      "134/134 [==============================] - 6s 41ms/step - loss: 1.1526 - accuracy: 0.5241\n",
      "Epoch 3/10\n",
      "134/134 [==============================] - 5s 40ms/step - loss: 1.1321 - accuracy: 0.5255\n",
      "Epoch 4/10\n",
      "134/134 [==============================] - 5s 41ms/step - loss: 1.1323 - accuracy: 0.5258\n",
      "Epoch 5/10\n",
      "134/134 [==============================] - 5s 40ms/step - loss: 1.1315 - accuracy: 0.5272\n",
      "Epoch 6/10\n",
      "134/134 [==============================] - 5s 38ms/step - loss: 1.1253 - accuracy: 0.5269\n",
      "Epoch 7/10\n",
      "134/134 [==============================] - 5s 38ms/step - loss: 1.1241 - accuracy: 0.5272\n",
      "Epoch 8/10\n",
      "134/134 [==============================] - 5s 37ms/step - loss: 1.1254 - accuracy: 0.5272\n",
      "Epoch 9/10\n",
      "134/134 [==============================] - 5s 37ms/step - loss: 1.1258 - accuracy: 0.5272\n",
      "Epoch 10/10\n",
      "134/134 [==============================] - 5s 38ms/step - loss: 1.1220 - accuracy: 0.5272\n"
     ]
    },
    {
     "name": "stderr",
     "output_type": "stream",
     "text": [
      "/usr/local/lib/python3.10/dist-packages/keras/src/engine/training.py:3079: UserWarning: You are saving your model as an HDF5 file via `model.save()`. This file format is considered legacy. We recommend using instead the native Keras format, e.g. `model.save('my_model.keras')`.\n",
      "  saving_api.save_model(\n"
     ]
    },
    {
     "name": "stdout",
     "output_type": "stream",
     "text": [
      "34/34 [==============================] - 1s 13ms/step\n",
      "Training RF for SE2 (sliderNeutralPos)\n",
      "Training CNN for SE2 (sliderNeutralPos)\n",
      "Epoch 1/10\n",
      "134/134 [==============================] - 1s 6ms/step - loss: 1.1044 - accuracy: 0.5091\n",
      "Epoch 2/10\n",
      "134/134 [==============================] - 1s 6ms/step - loss: 0.9287 - accuracy: 0.5829\n",
      "Epoch 3/10\n",
      "134/134 [==============================] - 1s 6ms/step - loss: 0.8518 - accuracy: 0.6214\n",
      "Epoch 4/10\n",
      "134/134 [==============================] - 1s 6ms/step - loss: 0.7764 - accuracy: 0.6584\n",
      "Epoch 5/10\n",
      "134/134 [==============================] - 1s 6ms/step - loss: 0.7065 - accuracy: 0.6985\n",
      "Epoch 6/10\n",
      "134/134 [==============================] - 1s 6ms/step - loss: 0.6258 - accuracy: 0.7444\n",
      "Epoch 7/10\n",
      "134/134 [==============================] - 1s 6ms/step - loss: 0.5510 - accuracy: 0.7758\n",
      "Epoch 8/10\n",
      "134/134 [==============================] - 1s 6ms/step - loss: 0.4837 - accuracy: 0.8013\n",
      "Epoch 9/10\n",
      "134/134 [==============================] - 1s 6ms/step - loss: 0.4217 - accuracy: 0.8336\n",
      "Epoch 10/10\n",
      "134/134 [==============================] - 1s 6ms/step - loss: 0.3689 - accuracy: 0.8575\n",
      "34/34 [==============================] - 0s 2ms/step\n"
     ]
    },
    {
     "name": "stderr",
     "output_type": "stream",
     "text": [
      "/usr/local/lib/python3.10/dist-packages/keras/src/engine/training.py:3079: UserWarning: You are saving your model as an HDF5 file via `model.save()`. This file format is considered legacy. We recommend using instead the native Keras format, e.g. `model.save('my_model.keras')`.\n",
      "  saving_api.save_model(\n"
     ]
    },
    {
     "name": "stdout",
     "output_type": "stream",
     "text": [
      "Training LSTM for SE2 (sliderNeutralPos)\n",
      "Epoch 1/10\n",
      "134/134 [==============================] - 8s 42ms/step - loss: 1.2594 - accuracy: 0.4417\n",
      "Epoch 2/10\n",
      "134/134 [==============================] - 5s 40ms/step - loss: 1.0739 - accuracy: 0.4660\n",
      "Epoch 3/10\n",
      "134/134 [==============================] - 5s 40ms/step - loss: 1.0698 - accuracy: 0.4663\n",
      "Epoch 4/10\n",
      "134/134 [==============================] - 5s 38ms/step - loss: 1.0618 - accuracy: 0.4674\n",
      "Epoch 5/10\n",
      "134/134 [==============================] - 5s 37ms/step - loss: 1.0597 - accuracy: 0.4674\n",
      "Epoch 6/10\n",
      "134/134 [==============================] - 5s 40ms/step - loss: 1.0585 - accuracy: 0.4721\n",
      "Epoch 7/10\n",
      "134/134 [==============================] - 5s 41ms/step - loss: 1.0576 - accuracy: 0.4747\n",
      "Epoch 8/10\n",
      "134/134 [==============================] - 5s 41ms/step - loss: 1.0541 - accuracy: 0.4773\n",
      "Epoch 9/10\n",
      "134/134 [==============================] - 5s 40ms/step - loss: 1.0517 - accuracy: 0.4824\n",
      "Epoch 10/10\n",
      "134/134 [==============================] - 5s 37ms/step - loss: 1.0530 - accuracy: 0.4752\n"
     ]
    },
    {
     "name": "stderr",
     "output_type": "stream",
     "text": [
      "/usr/local/lib/python3.10/dist-packages/keras/src/engine/training.py:3079: UserWarning: You are saving your model as an HDF5 file via `model.save()`. This file format is considered legacy. We recommend using instead the native Keras format, e.g. `model.save('my_model.keras')`.\n",
      "  saving_api.save_model(\n"
     ]
    },
    {
     "name": "stdout",
     "output_type": "stream",
     "text": [
      "34/34 [==============================] - 1s 13ms/step\n",
      "Training RF for SE3 (sliderNeutralPos)\n",
      "Training CNN for SE3 (sliderNeutralPos)\n",
      "Epoch 1/10\n",
      "134/134 [==============================] - 1s 6ms/step - loss: 1.1428 - accuracy: 0.4817\n",
      "Epoch 2/10\n",
      "134/134 [==============================] - 1s 6ms/step - loss: 0.9797 - accuracy: 0.5457\n",
      "Epoch 3/10\n",
      "134/134 [==============================] - 1s 6ms/step - loss: 0.9022 - accuracy: 0.5799\n",
      "Epoch 4/10\n",
      "134/134 [==============================] - 1s 6ms/step - loss: 0.8219 - accuracy: 0.6272\n",
      "Epoch 5/10\n",
      "134/134 [==============================] - 1s 6ms/step - loss: 0.7415 - accuracy: 0.6699\n",
      "Epoch 6/10\n",
      "134/134 [==============================] - 1s 6ms/step - loss: 0.6692 - accuracy: 0.7022\n",
      "Epoch 7/10\n",
      "134/134 [==============================] - 1s 6ms/step - loss: 0.6021 - accuracy: 0.7441\n",
      "Epoch 8/10\n",
      "134/134 [==============================] - 1s 6ms/step - loss: 0.5399 - accuracy: 0.7760\n",
      "Epoch 9/10\n",
      "134/134 [==============================] - 1s 6ms/step - loss: 0.4803 - accuracy: 0.8027\n",
      "Epoch 10/10\n",
      "134/134 [==============================] - 1s 6ms/step - loss: 0.4322 - accuracy: 0.8261\n",
      "34/34 [==============================] - 0s 2ms/step\n"
     ]
    },
    {
     "name": "stderr",
     "output_type": "stream",
     "text": [
      "/usr/local/lib/python3.10/dist-packages/keras/src/engine/training.py:3079: UserWarning: You are saving your model as an HDF5 file via `model.save()`. This file format is considered legacy. We recommend using instead the native Keras format, e.g. `model.save('my_model.keras')`.\n",
      "  saving_api.save_model(\n"
     ]
    },
    {
     "name": "stdout",
     "output_type": "stream",
     "text": [
      "Training LSTM for SE3 (sliderNeutralPos)\n",
      "Epoch 1/10\n",
      "134/134 [==============================] - 8s 42ms/step - loss: 1.3188 - accuracy: 0.4032\n",
      "Epoch 2/10\n",
      "134/134 [==============================] - 5s 40ms/step - loss: 1.1219 - accuracy: 0.4203\n",
      "Epoch 3/10\n",
      "134/134 [==============================] - 5s 40ms/step - loss: 1.1109 - accuracy: 0.4110\n",
      "Epoch 4/10\n",
      "134/134 [==============================] - 5s 36ms/step - loss: 1.1082 - accuracy: 0.4119\n",
      "Epoch 5/10\n",
      "134/134 [==============================] - 5s 38ms/step - loss: 1.1048 - accuracy: 0.4124\n",
      "Epoch 6/10\n",
      "134/134 [==============================] - 6s 41ms/step - loss: 1.1038 - accuracy: 0.4173\n",
      "Epoch 7/10\n",
      "134/134 [==============================] - 5s 40ms/step - loss: 1.0992 - accuracy: 0.4248\n",
      "Epoch 8/10\n",
      "134/134 [==============================] - 6s 41ms/step - loss: 1.0976 - accuracy: 0.4239\n",
      "Epoch 9/10\n",
      "134/134 [==============================] - 5s 40ms/step - loss: 1.0986 - accuracy: 0.4114\n",
      "Epoch 10/10\n",
      "134/134 [==============================] - 5s 40ms/step - loss: 1.0987 - accuracy: 0.4128\n"
     ]
    },
    {
     "name": "stderr",
     "output_type": "stream",
     "text": [
      "/usr/local/lib/python3.10/dist-packages/keras/src/engine/training.py:3079: UserWarning: You are saving your model as an HDF5 file via `model.save()`. This file format is considered legacy. We recommend using instead the native Keras format, e.g. `model.save('my_model.keras')`.\n",
      "  saving_api.save_model(\n"
     ]
    },
    {
     "name": "stdout",
     "output_type": "stream",
     "text": [
      "34/34 [==============================] - 1s 13ms/step\n",
      "Training RF for SE4 (sliderNeutralPos)\n",
      "Training CNN for SE4 (sliderNeutralPos)\n",
      "Epoch 1/10\n",
      "134/134 [==============================] - 1s 6ms/step - loss: 1.1287 - accuracy: 0.5227\n",
      "Epoch 2/10\n",
      "134/134 [==============================] - 1s 6ms/step - loss: 0.9620 - accuracy: 0.5644\n",
      "Epoch 3/10\n",
      "134/134 [==============================] - 1s 6ms/step - loss: 0.8882 - accuracy: 0.6017\n",
      "Epoch 4/10\n",
      "134/134 [==============================] - 1s 6ms/step - loss: 0.8328 - accuracy: 0.6340\n",
      "Epoch 5/10\n",
      "134/134 [==============================] - 1s 6ms/step - loss: 0.7563 - accuracy: 0.6771\n",
      "Epoch 6/10\n",
      "134/134 [==============================] - 1s 6ms/step - loss: 0.6792 - accuracy: 0.7127\n",
      "Epoch 7/10\n",
      "134/134 [==============================] - 1s 6ms/step - loss: 0.6125 - accuracy: 0.7486\n",
      "Epoch 8/10\n",
      "134/134 [==============================] - 1s 6ms/step - loss: 0.5517 - accuracy: 0.7784\n",
      "Epoch 9/10\n",
      "134/134 [==============================] - 1s 6ms/step - loss: 0.5060 - accuracy: 0.8006\n",
      "Epoch 10/10\n",
      "134/134 [==============================] - 1s 6ms/step - loss: 0.4407 - accuracy: 0.8264\n",
      "34/34 [==============================] - 0s 2ms/step\n"
     ]
    },
    {
     "name": "stderr",
     "output_type": "stream",
     "text": [
      "/usr/local/lib/python3.10/dist-packages/keras/src/engine/training.py:3079: UserWarning: You are saving your model as an HDF5 file via `model.save()`. This file format is considered legacy. We recommend using instead the native Keras format, e.g. `model.save('my_model.keras')`.\n",
      "  saving_api.save_model(\n"
     ]
    },
    {
     "name": "stdout",
     "output_type": "stream",
     "text": [
      "Training LSTM for SE4 (sliderNeutralPos)\n",
      "Epoch 1/10\n",
      "134/134 [==============================] - 8s 42ms/step - loss: 1.2940 - accuracy: 0.5150\n",
      "Epoch 2/10\n",
      "134/134 [==============================] - 6s 41ms/step - loss: 1.0978 - accuracy: 0.5316\n",
      "Epoch 3/10\n",
      "134/134 [==============================] - 5s 40ms/step - loss: 1.0833 - accuracy: 0.5417\n",
      "Epoch 4/10\n",
      "134/134 [==============================] - 5s 36ms/step - loss: 1.0851 - accuracy: 0.5436\n",
      "Epoch 5/10\n",
      "134/134 [==============================] - 5s 37ms/step - loss: 1.0808 - accuracy: 0.5443\n",
      "Epoch 6/10\n",
      "134/134 [==============================] - 5s 40ms/step - loss: 1.0753 - accuracy: 0.5445\n",
      "Epoch 7/10\n",
      "134/134 [==============================] - 5s 35ms/step - loss: 1.0769 - accuracy: 0.5445\n",
      "Epoch 8/10\n",
      "134/134 [==============================] - 5s 35ms/step - loss: 1.0738 - accuracy: 0.5445\n",
      "Epoch 9/10\n",
      "134/134 [==============================] - 4s 33ms/step - loss: 1.0739 - accuracy: 0.5445\n",
      "Epoch 10/10\n",
      "134/134 [==============================] - 5s 38ms/step - loss: 1.0719 - accuracy: 0.5445\n"
     ]
    },
    {
     "name": "stderr",
     "output_type": "stream",
     "text": [
      "/usr/local/lib/python3.10/dist-packages/keras/src/engine/training.py:3079: UserWarning: You are saving your model as an HDF5 file via `model.save()`. This file format is considered legacy. We recommend using instead the native Keras format, e.g. `model.save('my_model.keras')`.\n",
      "  saving_api.save_model(\n"
     ]
    },
    {
     "name": "stdout",
     "output_type": "stream",
     "text": [
      "34/34 [==============================] - 1s 12ms/step\n",
      "Training RF for MIL1 (sliderNegPos)\n",
      "Training CNN for MIL1 (sliderNegPos)\n",
      "Epoch 1/10\n",
      "134/134 [==============================] - 1s 5ms/step - loss: 1.7966 - accuracy: 0.3259\n",
      "Epoch 2/10\n",
      "134/134 [==============================] - 1s 6ms/step - loss: 1.5241 - accuracy: 0.4360\n",
      "Epoch 3/10\n",
      "134/134 [==============================] - 1s 6ms/step - loss: 1.3678 - accuracy: 0.4946\n",
      "Epoch 4/10\n",
      "134/134 [==============================] - 1s 6ms/step - loss: 1.2226 - accuracy: 0.5415\n",
      "Epoch 5/10\n",
      "134/134 [==============================] - 1s 6ms/step - loss: 1.0782 - accuracy: 0.6061\n",
      "Epoch 6/10\n",
      "134/134 [==============================] - 1s 6ms/step - loss: 0.9439 - accuracy: 0.6605\n",
      "Epoch 7/10\n",
      "134/134 [==============================] - 1s 6ms/step - loss: 0.8255 - accuracy: 0.7006\n",
      "Epoch 8/10\n",
      "134/134 [==============================] - 1s 6ms/step - loss: 0.7425 - accuracy: 0.7348\n",
      "Epoch 9/10\n",
      "134/134 [==============================] - 1s 6ms/step - loss: 0.6425 - accuracy: 0.7662\n",
      "Epoch 10/10\n",
      "134/134 [==============================] - 1s 6ms/step - loss: 0.5516 - accuracy: 0.7992\n",
      "34/34 [==============================] - 0s 2ms/step\n"
     ]
    },
    {
     "name": "stderr",
     "output_type": "stream",
     "text": [
      "/usr/local/lib/python3.10/dist-packages/keras/src/engine/training.py:3079: UserWarning: You are saving your model as an HDF5 file via `model.save()`. This file format is considered legacy. We recommend using instead the native Keras format, e.g. `model.save('my_model.keras')`.\n",
      "  saving_api.save_model(\n"
     ]
    },
    {
     "name": "stdout",
     "output_type": "stream",
     "text": [
      "Training LSTM for MIL1 (sliderNegPos)\n",
      "Epoch 1/10\n",
      "134/134 [==============================] - 8s 41ms/step - loss: 2.0050 - accuracy: 0.1778\n",
      "Epoch 2/10\n",
      "134/134 [==============================] - 5s 41ms/step - loss: 1.9110 - accuracy: 0.1872\n",
      "Epoch 3/10\n",
      "134/134 [==============================] - 5s 39ms/step - loss: 1.9043 - accuracy: 0.1790\n",
      "Epoch 4/10\n",
      "134/134 [==============================] - 5s 35ms/step - loss: 1.9002 - accuracy: 0.1931\n",
      "Epoch 5/10\n",
      "134/134 [==============================] - 5s 37ms/step - loss: 1.8956 - accuracy: 0.1914\n",
      "Epoch 6/10\n",
      "134/134 [==============================] - 5s 39ms/step - loss: 1.8894 - accuracy: 0.2029\n",
      "Epoch 7/10\n",
      "134/134 [==============================] - 5s 39ms/step - loss: 1.8821 - accuracy: 0.2097\n",
      "Epoch 8/10\n",
      "134/134 [==============================] - 5s 38ms/step - loss: 1.8763 - accuracy: 0.2235\n",
      "Epoch 9/10\n",
      "134/134 [==============================] - 5s 38ms/step - loss: 1.8755 - accuracy: 0.2167\n",
      "Epoch 10/10\n",
      "134/134 [==============================] - 5s 39ms/step - loss: 1.8682 - accuracy: 0.2254\n"
     ]
    },
    {
     "name": "stderr",
     "output_type": "stream",
     "text": [
      "/usr/local/lib/python3.10/dist-packages/keras/src/engine/training.py:3079: UserWarning: You are saving your model as an HDF5 file via `model.save()`. This file format is considered legacy. We recommend using instead the native Keras format, e.g. `model.save('my_model.keras')`.\n",
      "  saving_api.save_model(\n"
     ]
    },
    {
     "name": "stdout",
     "output_type": "stream",
     "text": [
      "34/34 [==============================] - 1s 13ms/step\n",
      "Training RF for MIL2 (sliderNeutralPos)\n",
      "Training CNN for MIL2 (sliderNeutralPos)\n",
      "Epoch 1/10\n",
      "134/134 [==============================] - 1s 6ms/step - loss: 1.6410 - accuracy: 0.3620\n",
      "Epoch 2/10\n",
      "134/134 [==============================] - 1s 6ms/step - loss: 1.4170 - accuracy: 0.4534\n",
      "Epoch 3/10\n",
      "134/134 [==============================] - 1s 6ms/step - loss: 1.2851 - accuracy: 0.5070\n",
      "Epoch 4/10\n",
      "134/134 [==============================] - 1s 6ms/step - loss: 1.1596 - accuracy: 0.5551\n",
      "Epoch 5/10\n",
      "134/134 [==============================] - 1s 6ms/step - loss: 1.0322 - accuracy: 0.6162\n",
      "Epoch 6/10\n",
      "134/134 [==============================] - 1s 6ms/step - loss: 0.9100 - accuracy: 0.6631\n",
      "Epoch 7/10\n",
      "134/134 [==============================] - 1s 6ms/step - loss: 0.8089 - accuracy: 0.6982\n",
      "Epoch 8/10\n",
      "134/134 [==============================] - 1s 6ms/step - loss: 0.7054 - accuracy: 0.7413\n",
      "Epoch 9/10\n",
      "134/134 [==============================] - 1s 6ms/step - loss: 0.6235 - accuracy: 0.7786\n",
      "Epoch 10/10\n",
      "134/134 [==============================] - 1s 6ms/step - loss: 0.5390 - accuracy: 0.7994\n",
      "34/34 [==============================] - 0s 2ms/step\n"
     ]
    },
    {
     "name": "stderr",
     "output_type": "stream",
     "text": [
      "/usr/local/lib/python3.10/dist-packages/keras/src/engine/training.py:3079: UserWarning: You are saving your model as an HDF5 file via `model.save()`. This file format is considered legacy. We recommend using instead the native Keras format, e.g. `model.save('my_model.keras')`.\n",
      "  saving_api.save_model(\n"
     ]
    },
    {
     "name": "stdout",
     "output_type": "stream",
     "text": [
      "Training LSTM for MIL2 (sliderNeutralPos)\n",
      "Epoch 1/10\n",
      "134/134 [==============================] - 8s 42ms/step - loss: 1.8360 - accuracy: 0.2627\n",
      "Epoch 2/10\n",
      "134/134 [==============================] - 6s 41ms/step - loss: 1.7210 - accuracy: 0.2694\n",
      "Epoch 3/10\n",
      "134/134 [==============================] - 5s 39ms/step - loss: 1.7054 - accuracy: 0.2730\n",
      "Epoch 4/10\n",
      "134/134 [==============================] - 5s 36ms/step - loss: 1.7034 - accuracy: 0.2723\n",
      "Epoch 5/10\n",
      "134/134 [==============================] - 5s 34ms/step - loss: 1.7004 - accuracy: 0.2814\n",
      "Epoch 6/10\n",
      "134/134 [==============================] - 5s 35ms/step - loss: 1.6959 - accuracy: 0.2758\n",
      "Epoch 7/10\n",
      "134/134 [==============================] - 5s 38ms/step - loss: 1.6932 - accuracy: 0.2851\n",
      "Epoch 8/10\n",
      "134/134 [==============================] - 5s 40ms/step - loss: 1.6933 - accuracy: 0.2875\n",
      "Epoch 9/10\n",
      "134/134 [==============================] - 5s 40ms/step - loss: 1.6878 - accuracy: 0.2891\n",
      "Epoch 10/10\n",
      "134/134 [==============================] - 5s 35ms/step - loss: 1.6824 - accuracy: 0.2901\n"
     ]
    },
    {
     "name": "stderr",
     "output_type": "stream",
     "text": [
      "/usr/local/lib/python3.10/dist-packages/keras/src/engine/training.py:3079: UserWarning: You are saving your model as an HDF5 file via `model.save()`. This file format is considered legacy. We recommend using instead the native Keras format, e.g. `model.save('my_model.keras')`.\n",
      "  saving_api.save_model(\n"
     ]
    },
    {
     "name": "stdout",
     "output_type": "stream",
     "text": [
      "34/34 [==============================] - 1s 14ms/step\n",
      "Training RF for MIL3 (sliderNeutralPos)\n",
      "Training CNN for MIL3 (sliderNeutralPos)\n",
      "Epoch 1/10\n",
      "134/134 [==============================] - 1s 6ms/step - loss: 1.7186 - accuracy: 0.3290\n",
      "Epoch 2/10\n",
      "134/134 [==============================] - 1s 6ms/step - loss: 1.4909 - accuracy: 0.4290\n",
      "Epoch 3/10\n",
      "134/134 [==============================] - 1s 6ms/step - loss: 1.3461 - accuracy: 0.4848\n",
      "Epoch 4/10\n",
      "134/134 [==============================] - 1s 6ms/step - loss: 1.1993 - accuracy: 0.5537\n",
      "Epoch 5/10\n",
      "134/134 [==============================] - 1s 6ms/step - loss: 1.0639 - accuracy: 0.6061\n",
      "Epoch 6/10\n",
      "134/134 [==============================] - 1s 6ms/step - loss: 0.9335 - accuracy: 0.6603\n",
      "Epoch 7/10\n",
      "134/134 [==============================] - 1s 6ms/step - loss: 0.8059 - accuracy: 0.7177\n",
      "Epoch 8/10\n",
      "134/134 [==============================] - 1s 6ms/step - loss: 0.6957 - accuracy: 0.7502\n",
      "Epoch 9/10\n",
      "134/134 [==============================] - 1s 6ms/step - loss: 0.6021 - accuracy: 0.7905\n",
      "Epoch 10/10\n",
      "134/134 [==============================] - 1s 6ms/step - loss: 0.5211 - accuracy: 0.8121\n",
      "34/34 [==============================] - 0s 2ms/step\n"
     ]
    },
    {
     "name": "stderr",
     "output_type": "stream",
     "text": [
      "/usr/local/lib/python3.10/dist-packages/keras/src/engine/training.py:3079: UserWarning: You are saving your model as an HDF5 file via `model.save()`. This file format is considered legacy. We recommend using instead the native Keras format, e.g. `model.save('my_model.keras')`.\n",
      "  saving_api.save_model(\n"
     ]
    },
    {
     "name": "stdout",
     "output_type": "stream",
     "text": [
      "Training LSTM for MIL3 (sliderNeutralPos)\n",
      "Epoch 1/10\n",
      "134/134 [==============================] - 8s 41ms/step - loss: 1.9109 - accuracy: 0.2601\n",
      "Epoch 2/10\n",
      "134/134 [==============================] - 5s 40ms/step - loss: 1.7928 - accuracy: 0.2723\n",
      "Epoch 3/10\n",
      "134/134 [==============================] - 6s 42ms/step - loss: 1.7832 - accuracy: 0.2769\n",
      "Epoch 4/10\n",
      "134/134 [==============================] - 5s 41ms/step - loss: 1.7793 - accuracy: 0.2821\n",
      "Epoch 5/10\n",
      "134/134 [==============================] - 5s 40ms/step - loss: 1.7726 - accuracy: 0.2854\n",
      "Epoch 6/10\n",
      "134/134 [==============================] - 5s 39ms/step - loss: 1.7714 - accuracy: 0.2880\n",
      "Epoch 7/10\n",
      "134/134 [==============================] - 5s 38ms/step - loss: 1.7703 - accuracy: 0.2863\n",
      "Epoch 8/10\n",
      "134/134 [==============================] - 5s 39ms/step - loss: 1.7631 - accuracy: 0.2882\n",
      "Epoch 9/10\n",
      "134/134 [==============================] - 5s 34ms/step - loss: 1.7584 - accuracy: 0.2929\n",
      "Epoch 10/10\n",
      "134/134 [==============================] - 5s 35ms/step - loss: 1.7636 - accuracy: 0.2849\n"
     ]
    },
    {
     "name": "stderr",
     "output_type": "stream",
     "text": [
      "/usr/local/lib/python3.10/dist-packages/keras/src/engine/training.py:3079: UserWarning: You are saving your model as an HDF5 file via `model.save()`. This file format is considered legacy. We recommend using instead the native Keras format, e.g. `model.save('my_model.keras')`.\n",
      "  saving_api.save_model(\n"
     ]
    },
    {
     "name": "stdout",
     "output_type": "stream",
     "text": [
      "34/34 [==============================] - 1s 12ms/step\n",
      "Training RF for MIL4 (sliderNeutralPos)\n",
      "Training CNN for MIL4 (sliderNeutralPos)\n",
      "Epoch 1/10\n",
      "134/134 [==============================] - 1s 6ms/step - loss: 1.7646 - accuracy: 0.3433\n",
      "Epoch 2/10\n",
      "134/134 [==============================] - 1s 6ms/step - loss: 1.5219 - accuracy: 0.4152\n",
      "Epoch 3/10\n",
      "134/134 [==============================] - 1s 6ms/step - loss: 1.4014 - accuracy: 0.4672\n",
      "Epoch 4/10\n",
      "134/134 [==============================] - 1s 6ms/step - loss: 1.2767 - accuracy: 0.5169\n",
      "Epoch 5/10\n",
      "134/134 [==============================] - 1s 6ms/step - loss: 1.1348 - accuracy: 0.5801\n",
      "Epoch 6/10\n",
      "134/134 [==============================] - 1s 6ms/step - loss: 1.0049 - accuracy: 0.6216\n",
      "Epoch 7/10\n",
      "134/134 [==============================] - 1s 6ms/step - loss: 0.8948 - accuracy: 0.6678\n",
      "Epoch 8/10\n",
      "134/134 [==============================] - 1s 6ms/step - loss: 0.7823 - accuracy: 0.7130\n",
      "Epoch 9/10\n",
      "134/134 [==============================] - 1s 6ms/step - loss: 0.6885 - accuracy: 0.7563\n",
      "Epoch 10/10\n",
      "134/134 [==============================] - 1s 6ms/step - loss: 0.6058 - accuracy: 0.7776\n",
      "34/34 [==============================] - 0s 2ms/step\n"
     ]
    },
    {
     "name": "stderr",
     "output_type": "stream",
     "text": [
      "/usr/local/lib/python3.10/dist-packages/keras/src/engine/training.py:3079: UserWarning: You are saving your model as an HDF5 file via `model.save()`. This file format is considered legacy. We recommend using instead the native Keras format, e.g. `model.save('my_model.keras')`.\n",
      "  saving_api.save_model(\n"
     ]
    },
    {
     "name": "stdout",
     "output_type": "stream",
     "text": [
      "Training LSTM for MIL4 (sliderNeutralPos)\n",
      "Epoch 1/10\n",
      "134/134 [==============================] - 8s 43ms/step - loss: 1.9198 - accuracy: 0.2786\n",
      "Epoch 2/10\n",
      "134/134 [==============================] - 6s 42ms/step - loss: 1.8245 - accuracy: 0.2908\n",
      "Epoch 3/10\n",
      "134/134 [==============================] - 5s 40ms/step - loss: 1.8114 - accuracy: 0.2950\n",
      "Epoch 4/10\n",
      "134/134 [==============================] - 5s 39ms/step - loss: 1.8112 - accuracy: 0.2933\n",
      "Epoch 5/10\n",
      "134/134 [==============================] - 5s 39ms/step - loss: 1.8041 - accuracy: 0.2948\n",
      "Epoch 6/10\n",
      "134/134 [==============================] - 5s 41ms/step - loss: 1.8015 - accuracy: 0.2969\n",
      "Epoch 7/10\n",
      "134/134 [==============================] - 5s 39ms/step - loss: 1.7935 - accuracy: 0.2966\n",
      "Epoch 8/10\n",
      "134/134 [==============================] - 5s 37ms/step - loss: 1.7920 - accuracy: 0.2990\n",
      "Epoch 9/10\n",
      "134/134 [==============================] - 6s 41ms/step - loss: 1.7917 - accuracy: 0.2945\n",
      "Epoch 10/10\n",
      "134/134 [==============================] - 5s 39ms/step - loss: 1.7886 - accuracy: 0.2990\n"
     ]
    },
    {
     "name": "stderr",
     "output_type": "stream",
     "text": [
      "/usr/local/lib/python3.10/dist-packages/keras/src/engine/training.py:3079: UserWarning: You are saving your model as an HDF5 file via `model.save()`. This file format is considered legacy. We recommend using instead the native Keras format, e.g. `model.save('my_model.keras')`.\n",
      "  saving_api.save_model(\n"
     ]
    },
    {
     "name": "stdout",
     "output_type": "stream",
     "text": [
      "34/34 [==============================] - 1s 14ms/step\n",
      "Training RF for MIL5 (sliderNeutralPos)\n",
      "Training CNN for MIL5 (sliderNeutralPos)\n",
      "Epoch 1/10\n",
      "134/134 [==============================] - 1s 6ms/step - loss: 1.7693 - accuracy: 0.3090\n",
      "Epoch 2/10\n",
      "134/134 [==============================] - 1s 6ms/step - loss: 1.5032 - accuracy: 0.4164\n",
      "Epoch 3/10\n",
      "134/134 [==============================] - 1s 6ms/step - loss: 1.3471 - accuracy: 0.4873\n",
      "Epoch 4/10\n",
      "134/134 [==============================] - 1s 6ms/step - loss: 1.1937 - accuracy: 0.5492\n",
      "Epoch 5/10\n",
      "134/134 [==============================] - 1s 6ms/step - loss: 1.0617 - accuracy: 0.6094\n",
      "Epoch 6/10\n",
      "134/134 [==============================] - 1s 6ms/step - loss: 0.9492 - accuracy: 0.6558\n",
      "Epoch 7/10\n",
      "134/134 [==============================] - 1s 6ms/step - loss: 0.8218 - accuracy: 0.6999\n",
      "Epoch 8/10\n",
      "134/134 [==============================] - 1s 6ms/step - loss: 0.7243 - accuracy: 0.7425\n",
      "Epoch 9/10\n",
      "134/134 [==============================] - 1s 6ms/step - loss: 0.6273 - accuracy: 0.7741\n",
      "Epoch 10/10\n",
      "134/134 [==============================] - 1s 6ms/step - loss: 0.5370 - accuracy: 0.8114\n",
      "34/34 [==============================] - 0s 2ms/step\n"
     ]
    },
    {
     "name": "stderr",
     "output_type": "stream",
     "text": [
      "/usr/local/lib/python3.10/dist-packages/keras/src/engine/training.py:3079: UserWarning: You are saving your model as an HDF5 file via `model.save()`. This file format is considered legacy. We recommend using instead the native Keras format, e.g. `model.save('my_model.keras')`.\n",
      "  saving_api.save_model(\n"
     ]
    },
    {
     "name": "stdout",
     "output_type": "stream",
     "text": [
      "Training LSTM for MIL5 (sliderNeutralPos)\n",
      "Epoch 1/10\n",
      "134/134 [==============================] - 8s 43ms/step - loss: 1.9322 - accuracy: 0.2238\n",
      "Epoch 2/10\n",
      "134/134 [==============================] - 6s 41ms/step - loss: 1.8329 - accuracy: 0.2256\n",
      "Epoch 3/10\n",
      "134/134 [==============================] - 5s 40ms/step - loss: 1.8217 - accuracy: 0.2172\n",
      "Epoch 4/10\n",
      "134/134 [==============================] - 5s 39ms/step - loss: 1.8119 - accuracy: 0.2313\n",
      "Epoch 5/10\n",
      "134/134 [==============================] - 5s 37ms/step - loss: 1.8075 - accuracy: 0.2306\n",
      "Epoch 6/10\n",
      "134/134 [==============================] - 5s 35ms/step - loss: 1.8095 - accuracy: 0.2313\n",
      "Epoch 7/10\n",
      "134/134 [==============================] - 5s 35ms/step - loss: 1.8097 - accuracy: 0.2303\n",
      "Epoch 8/10\n",
      "134/134 [==============================] - 5s 38ms/step - loss: 1.8017 - accuracy: 0.2388\n",
      "Epoch 9/10\n",
      "134/134 [==============================] - 5s 38ms/step - loss: 1.8027 - accuracy: 0.2362\n",
      "Epoch 10/10\n",
      "134/134 [==============================] - 5s 38ms/step - loss: 1.7987 - accuracy: 0.2334\n"
     ]
    },
    {
     "name": "stderr",
     "output_type": "stream",
     "text": [
      "/usr/local/lib/python3.10/dist-packages/keras/src/engine/training.py:3079: UserWarning: You are saving your model as an HDF5 file via `model.save()`. This file format is considered legacy. We recommend using instead the native Keras format, e.g. `model.save('my_model.keras')`.\n",
      "  saving_api.save_model(\n"
     ]
    },
    {
     "name": "stdout",
     "output_type": "stream",
     "text": [
      "34/34 [==============================] - 1s 13ms/step\n",
      "Training RF for PRO1 (sliderNeutralPos)\n",
      "Training CNN for PRO1 (sliderNeutralPos)\n",
      "Epoch 1/10\n",
      "134/134 [==============================] - 1s 6ms/step - loss: 2.1110 - accuracy: 0.2512\n",
      "Epoch 2/10\n",
      "134/134 [==============================] - 1s 6ms/step - loss: 1.8519 - accuracy: 0.3315\n",
      "Epoch 3/10\n",
      "134/134 [==============================] - 1s 6ms/step - loss: 1.6361 - accuracy: 0.4149\n",
      "Epoch 4/10\n",
      "134/134 [==============================] - 1s 6ms/step - loss: 1.4258 - accuracy: 0.5012\n",
      "Epoch 5/10\n",
      "134/134 [==============================] - 1s 6ms/step - loss: 1.2369 - accuracy: 0.5654\n",
      "Epoch 6/10\n",
      "134/134 [==============================] - 1s 6ms/step - loss: 1.0427 - accuracy: 0.6380\n",
      "Epoch 7/10\n",
      "134/134 [==============================] - 1s 6ms/step - loss: 0.9240 - accuracy: 0.6694\n",
      "Epoch 8/10\n",
      "134/134 [==============================] - 1s 6ms/step - loss: 0.7921 - accuracy: 0.7364\n",
      "Epoch 9/10\n",
      "134/134 [==============================] - 1s 6ms/step - loss: 0.6848 - accuracy: 0.7641\n",
      "Epoch 10/10\n",
      "134/134 [==============================] - 1s 6ms/step - loss: 0.5968 - accuracy: 0.7938\n",
      "34/34 [==============================] - 0s 2ms/step\n"
     ]
    },
    {
     "name": "stderr",
     "output_type": "stream",
     "text": [
      "/usr/local/lib/python3.10/dist-packages/keras/src/engine/training.py:3079: UserWarning: You are saving your model as an HDF5 file via `model.save()`. This file format is considered legacy. We recommend using instead the native Keras format, e.g. `model.save('my_model.keras')`.\n",
      "  saving_api.save_model(\n"
     ]
    },
    {
     "name": "stdout",
     "output_type": "stream",
     "text": [
      "Training LSTM for PRO1 (sliderNeutralPos)\n",
      "Epoch 1/10\n",
      "134/134 [==============================] - 8s 42ms/step - loss: 2.2401 - accuracy: 0.2013\n",
      "Epoch 2/10\n",
      "134/134 [==============================] - 6s 41ms/step - loss: 2.2051 - accuracy: 0.2102\n",
      "Epoch 3/10\n",
      "134/134 [==============================] - 5s 39ms/step - loss: 2.2020 - accuracy: 0.2125\n",
      "Epoch 4/10\n",
      "134/134 [==============================] - 5s 40ms/step - loss: 2.2009 - accuracy: 0.2109\n",
      "Epoch 5/10\n",
      "134/134 [==============================] - 5s 40ms/step - loss: 2.1993 - accuracy: 0.2132\n",
      "Epoch 6/10\n",
      "134/134 [==============================] - 5s 39ms/step - loss: 2.1972 - accuracy: 0.2078\n",
      "Epoch 7/10\n",
      "134/134 [==============================] - 5s 37ms/step - loss: 2.1943 - accuracy: 0.2106\n",
      "Epoch 8/10\n",
      "134/134 [==============================] - 5s 38ms/step - loss: 2.1899 - accuracy: 0.2172\n",
      "Epoch 9/10\n",
      "134/134 [==============================] - 5s 35ms/step - loss: 2.1910 - accuracy: 0.2127\n",
      "Epoch 10/10\n",
      "134/134 [==============================] - 4s 33ms/step - loss: 2.1861 - accuracy: 0.2146\n"
     ]
    },
    {
     "name": "stderr",
     "output_type": "stream",
     "text": [
      "/usr/local/lib/python3.10/dist-packages/keras/src/engine/training.py:3079: UserWarning: You are saving your model as an HDF5 file via `model.save()`. This file format is considered legacy. We recommend using instead the native Keras format, e.g. `model.save('my_model.keras')`.\n",
      "  saving_api.save_model(\n"
     ]
    },
    {
     "name": "stdout",
     "output_type": "stream",
     "text": [
      "34/34 [==============================] - 1s 12ms/step\n",
      "Training RF for PRO2 (sliderNeutralPos)\n",
      "Training CNN for PRO2 (sliderNeutralPos)\n",
      "Epoch 1/10\n",
      "134/134 [==============================] - 1s 6ms/step - loss: 2.0341 - accuracy: 0.2467\n",
      "Epoch 2/10\n",
      "134/134 [==============================] - 1s 6ms/step - loss: 1.7631 - accuracy: 0.3557\n",
      "Epoch 3/10\n",
      "134/134 [==============================] - 1s 6ms/step - loss: 1.5343 - accuracy: 0.4466\n",
      "Epoch 4/10\n",
      "134/134 [==============================] - 1s 6ms/step - loss: 1.3410 - accuracy: 0.5129\n",
      "Epoch 5/10\n",
      "134/134 [==============================] - 1s 6ms/step - loss: 1.1606 - accuracy: 0.5900\n",
      "Epoch 6/10\n",
      "134/134 [==============================] - 1s 6ms/step - loss: 1.0073 - accuracy: 0.6425\n",
      "Epoch 7/10\n",
      "134/134 [==============================] - 1s 6ms/step - loss: 0.8778 - accuracy: 0.6928\n",
      "Epoch 8/10\n",
      "134/134 [==============================] - 1s 6ms/step - loss: 0.7659 - accuracy: 0.7242\n",
      "Epoch 9/10\n",
      "134/134 [==============================] - 1s 6ms/step - loss: 0.6609 - accuracy: 0.7645\n",
      "Epoch 10/10\n",
      "134/134 [==============================] - 1s 6ms/step - loss: 0.5765 - accuracy: 0.7999\n",
      "34/34 [==============================] - 0s 2ms/step\n"
     ]
    },
    {
     "name": "stderr",
     "output_type": "stream",
     "text": [
      "/usr/local/lib/python3.10/dist-packages/keras/src/engine/training.py:3079: UserWarning: You are saving your model as an HDF5 file via `model.save()`. This file format is considered legacy. We recommend using instead the native Keras format, e.g. `model.save('my_model.keras')`.\n",
      "  saving_api.save_model(\n"
     ]
    },
    {
     "name": "stdout",
     "output_type": "stream",
     "text": [
      "Training LSTM for PRO2 (sliderNeutralPos)\n",
      "Epoch 1/10\n",
      "134/134 [==============================] - 11s 42ms/step - loss: 2.1726 - accuracy: 0.1694\n",
      "Epoch 2/10\n",
      "134/134 [==============================] - 5s 36ms/step - loss: 2.1128 - accuracy: 0.1835\n",
      "Epoch 3/10\n",
      "134/134 [==============================] - 5s 35ms/step - loss: 2.1198 - accuracy: 0.1762\n",
      "Epoch 4/10\n",
      "134/134 [==============================] - 5s 34ms/step - loss: 2.1123 - accuracy: 0.1830\n",
      "Epoch 5/10\n",
      "134/134 [==============================] - 5s 36ms/step - loss: 2.1076 - accuracy: 0.1839\n",
      "Epoch 6/10\n",
      "134/134 [==============================] - 5s 34ms/step - loss: 2.1089 - accuracy: 0.1830\n",
      "Epoch 7/10\n",
      "134/134 [==============================] - 5s 37ms/step - loss: 2.1007 - accuracy: 0.1966\n",
      "Epoch 8/10\n",
      "134/134 [==============================] - 6s 41ms/step - loss: 2.1024 - accuracy: 0.1870\n",
      "Epoch 9/10\n",
      "134/134 [==============================] - 5s 38ms/step - loss: 2.0921 - accuracy: 0.2003\n",
      "Epoch 10/10\n",
      "134/134 [==============================] - 5s 34ms/step - loss: 2.0964 - accuracy: 0.1963\n"
     ]
    },
    {
     "name": "stderr",
     "output_type": "stream",
     "text": [
      "/usr/local/lib/python3.10/dist-packages/keras/src/engine/training.py:3079: UserWarning: You are saving your model as an HDF5 file via `model.save()`. This file format is considered legacy. We recommend using instead the native Keras format, e.g. `model.save('my_model.keras')`.\n",
      "  saving_api.save_model(\n"
     ]
    },
    {
     "name": "stdout",
     "output_type": "stream",
     "text": [
      "34/34 [==============================] - 1s 14ms/step\n",
      "Training RF for PRO3 (sliderNeutralPos)\n",
      "Training CNN for PRO3 (sliderNeutralPos)\n",
      "Epoch 1/10\n",
      "134/134 [==============================] - 1s 6ms/step - loss: 1.9065 - accuracy: 0.2971\n",
      "Epoch 2/10\n",
      "134/134 [==============================] - 1s 6ms/step - loss: 1.6513 - accuracy: 0.3889\n",
      "Epoch 3/10\n",
      "134/134 [==============================] - 1s 6ms/step - loss: 1.4622 - accuracy: 0.4667\n",
      "Epoch 4/10\n",
      "134/134 [==============================] - 1s 6ms/step - loss: 1.3199 - accuracy: 0.5248\n",
      "Epoch 5/10\n",
      "134/134 [==============================] - 1s 6ms/step - loss: 1.1736 - accuracy: 0.5778\n",
      "Epoch 6/10\n",
      "134/134 [==============================] - 1s 6ms/step - loss: 1.0065 - accuracy: 0.6371\n",
      "Epoch 7/10\n",
      "134/134 [==============================] - 1s 6ms/step - loss: 0.8879 - accuracy: 0.6774\n",
      "Epoch 8/10\n",
      "134/134 [==============================] - 1s 6ms/step - loss: 0.7647 - accuracy: 0.7289\n",
      "Epoch 9/10\n",
      "134/134 [==============================] - 1s 6ms/step - loss: 0.6582 - accuracy: 0.7673\n",
      "Epoch 10/10\n",
      "134/134 [==============================] - 1s 6ms/step - loss: 0.5627 - accuracy: 0.8001\n",
      "34/34 [==============================] - 0s 2ms/step\n"
     ]
    },
    {
     "name": "stderr",
     "output_type": "stream",
     "text": [
      "/usr/local/lib/python3.10/dist-packages/keras/src/engine/training.py:3079: UserWarning: You are saving your model as an HDF5 file via `model.save()`. This file format is considered legacy. We recommend using instead the native Keras format, e.g. `model.save('my_model.keras')`.\n",
      "  saving_api.save_model(\n"
     ]
    },
    {
     "name": "stdout",
     "output_type": "stream",
     "text": [
      "Training LSTM for PRO3 (sliderNeutralPos)\n",
      "Epoch 1/10\n",
      "134/134 [==============================] - 8s 42ms/step - loss: 2.0575 - accuracy: 0.2294\n",
      "Epoch 2/10\n",
      "134/134 [==============================] - 6s 41ms/step - loss: 1.9889 - accuracy: 0.2268\n",
      "Epoch 3/10\n",
      "134/134 [==============================] - 6s 41ms/step - loss: 1.9867 - accuracy: 0.2259\n",
      "Epoch 4/10\n",
      "134/134 [==============================] - 5s 40ms/step - loss: 1.9787 - accuracy: 0.2296\n",
      "Epoch 5/10\n",
      "134/134 [==============================] - 5s 40ms/step - loss: 1.9783 - accuracy: 0.2336\n",
      "Epoch 6/10\n",
      "134/134 [==============================] - 5s 36ms/step - loss: 1.9716 - accuracy: 0.2434\n",
      "Epoch 7/10\n",
      "134/134 [==============================] - 5s 38ms/step - loss: 1.9736 - accuracy: 0.2395\n",
      "Epoch 8/10\n",
      "134/134 [==============================] - 5s 35ms/step - loss: 1.9645 - accuracy: 0.2477\n",
      "Epoch 9/10\n",
      "134/134 [==============================] - 5s 34ms/step - loss: 1.9638 - accuracy: 0.2320\n",
      "Epoch 10/10\n",
      "134/134 [==============================] - 5s 35ms/step - loss: 1.9653 - accuracy: 0.2366\n"
     ]
    },
    {
     "name": "stderr",
     "output_type": "stream",
     "text": [
      "/usr/local/lib/python3.10/dist-packages/keras/src/engine/training.py:3079: UserWarning: You are saving your model as an HDF5 file via `model.save()`. This file format is considered legacy. We recommend using instead the native Keras format, e.g. `model.save('my_model.keras')`.\n",
      "  saving_api.save_model(\n"
     ]
    },
    {
     "name": "stdout",
     "output_type": "stream",
     "text": [
      "34/34 [==============================] - 1s 13ms/step\n",
      "Loading data from: folds_transformed/fold_3_train_scaled.csv\n",
      "Loading data from: folds_transformed/fold_3_test_scaled.csv\n",
      "Training RF for P1 (sliderNeutralPos)\n",
      "Training CNN for P1 (sliderNeutralPos)\n",
      "Epoch 1/10\n",
      "134/134 [==============================] - 1s 6ms/step - loss: 1.9771 - accuracy: 0.2828\n",
      "Epoch 2/10\n",
      "134/134 [==============================] - 1s 6ms/step - loss: 1.7224 - accuracy: 0.3653\n",
      "Epoch 3/10\n",
      "134/134 [==============================] - 1s 6ms/step - loss: 1.5064 - accuracy: 0.4431\n",
      "Epoch 4/10\n",
      "134/134 [==============================] - 1s 6ms/step - loss: 1.3283 - accuracy: 0.5166\n",
      "Epoch 5/10\n",
      "134/134 [==============================] - 1s 6ms/step - loss: 1.1428 - accuracy: 0.5862\n",
      "Epoch 6/10\n",
      "134/134 [==============================] - 1s 6ms/step - loss: 0.9850 - accuracy: 0.6460\n",
      "Epoch 7/10\n",
      "134/134 [==============================] - 1s 6ms/step - loss: 0.8497 - accuracy: 0.6924\n",
      "Epoch 8/10\n",
      "134/134 [==============================] - 1s 6ms/step - loss: 0.7432 - accuracy: 0.7315\n",
      "Epoch 9/10\n",
      "134/134 [==============================] - 1s 6ms/step - loss: 0.6465 - accuracy: 0.7685\n",
      "Epoch 10/10\n",
      "134/134 [==============================] - 1s 6ms/step - loss: 0.5790 - accuracy: 0.7858\n",
      "34/34 [==============================] - 0s 2ms/step\n"
     ]
    },
    {
     "name": "stderr",
     "output_type": "stream",
     "text": [
      "/usr/local/lib/python3.10/dist-packages/keras/src/engine/training.py:3079: UserWarning: You are saving your model as an HDF5 file via `model.save()`. This file format is considered legacy. We recommend using instead the native Keras format, e.g. `model.save('my_model.keras')`.\n",
      "  saving_api.save_model(\n"
     ]
    },
    {
     "name": "stdout",
     "output_type": "stream",
     "text": [
      "Training LSTM for P1 (sliderNeutralPos)\n",
      "Epoch 1/10\n",
      "134/134 [==============================] - 19s 126ms/step - loss: 2.0878 - accuracy: 0.2327\n",
      "Epoch 2/10\n",
      "134/134 [==============================] - 17s 124ms/step - loss: 2.0258 - accuracy: 0.2317\n",
      "Epoch 3/10\n",
      "134/134 [==============================] - 16s 120ms/step - loss: 2.0095 - accuracy: 0.2575\n",
      "Epoch 4/10\n",
      "134/134 [==============================] - 16s 119ms/step - loss: 1.9937 - accuracy: 0.2612\n",
      "Epoch 5/10\n",
      "134/134 [==============================] - 15s 115ms/step - loss: 1.9791 - accuracy: 0.2739\n",
      "Epoch 6/10\n",
      "134/134 [==============================] - 14s 104ms/step - loss: 1.9713 - accuracy: 0.2655\n",
      "Epoch 7/10\n",
      "134/134 [==============================] - 14s 107ms/step - loss: 1.9483 - accuracy: 0.2758\n",
      "Epoch 8/10\n",
      "134/134 [==============================] - 16s 117ms/step - loss: 1.9355 - accuracy: 0.2723\n",
      "Epoch 9/10\n",
      "134/134 [==============================] - 16s 119ms/step - loss: 1.9201 - accuracy: 0.2784\n",
      "Epoch 10/10\n",
      "134/134 [==============================] - 16s 123ms/step - loss: 1.9093 - accuracy: 0.2868\n"
     ]
    },
    {
     "name": "stderr",
     "output_type": "stream",
     "text": [
      "/usr/local/lib/python3.10/dist-packages/keras/src/engine/training.py:3079: UserWarning: You are saving your model as an HDF5 file via `model.save()`. This file format is considered legacy. We recommend using instead the native Keras format, e.g. `model.save('my_model.keras')`.\n",
      "  saving_api.save_model(\n"
     ]
    },
    {
     "name": "stdout",
     "output_type": "stream",
     "text": [
      "34/34 [==============================] - 2s 34ms/step\n",
      "Training RF for N1 (sliderNeutralPos)\n",
      "Training CNN for N1 (sliderNeutralPos)\n",
      "Epoch 1/10\n",
      "134/134 [==============================] - 1s 6ms/step - loss: 2.0313 - accuracy: 0.3039\n",
      "Epoch 2/10\n",
      "134/134 [==============================] - 1s 6ms/step - loss: 1.7680 - accuracy: 0.3875\n",
      "Epoch 3/10\n",
      "134/134 [==============================] - 1s 6ms/step - loss: 1.5536 - accuracy: 0.4611\n",
      "Epoch 4/10\n",
      "134/134 [==============================] - 1s 6ms/step - loss: 1.3623 - accuracy: 0.5267\n",
      "Epoch 5/10\n",
      "134/134 [==============================] - 1s 6ms/step - loss: 1.1816 - accuracy: 0.5855\n",
      "Epoch 6/10\n",
      "134/134 [==============================] - 1s 6ms/step - loss: 1.0376 - accuracy: 0.6352\n",
      "Epoch 7/10\n",
      "134/134 [==============================] - 1s 6ms/step - loss: 0.8638 - accuracy: 0.6921\n",
      "Epoch 8/10\n",
      "134/134 [==============================] - 1s 6ms/step - loss: 0.7492 - accuracy: 0.7395\n",
      "Epoch 9/10\n",
      "134/134 [==============================] - 1s 6ms/step - loss: 0.6460 - accuracy: 0.7713\n",
      "Epoch 10/10\n",
      "134/134 [==============================] - 1s 6ms/step - loss: 0.5818 - accuracy: 0.7994\n",
      "34/34 [==============================] - 0s 2ms/step\n"
     ]
    },
    {
     "name": "stderr",
     "output_type": "stream",
     "text": [
      "/usr/local/lib/python3.10/dist-packages/keras/src/engine/training.py:3079: UserWarning: You are saving your model as an HDF5 file via `model.save()`. This file format is considered legacy. We recommend using instead the native Keras format, e.g. `model.save('my_model.keras')`.\n",
      "  saving_api.save_model(\n"
     ]
    },
    {
     "name": "stdout",
     "output_type": "stream",
     "text": [
      "Training LSTM for N1 (sliderNeutralPos)\n",
      "Epoch 1/10\n",
      "134/134 [==============================] - 19s 126ms/step - loss: 2.1792 - accuracy: 0.2181\n",
      "Epoch 2/10\n",
      "134/134 [==============================] - 17s 126ms/step - loss: 2.1276 - accuracy: 0.2200\n",
      "Epoch 3/10\n",
      "134/134 [==============================] - 17s 126ms/step - loss: 2.1126 - accuracy: 0.2341\n",
      "Epoch 4/10\n",
      "134/134 [==============================] - 16s 120ms/step - loss: 2.1048 - accuracy: 0.2378\n",
      "Epoch 5/10\n",
      "134/134 [==============================] - 17s 125ms/step - loss: 2.0966 - accuracy: 0.2352\n",
      "Epoch 6/10\n",
      "134/134 [==============================] - 17s 125ms/step - loss: 2.0888 - accuracy: 0.2444\n",
      "Epoch 7/10\n",
      "134/134 [==============================] - 16s 122ms/step - loss: 2.0850 - accuracy: 0.2357\n",
      "Epoch 8/10\n",
      "134/134 [==============================] - 17s 126ms/step - loss: 2.0650 - accuracy: 0.2502\n",
      "Epoch 9/10\n",
      "134/134 [==============================] - 17s 128ms/step - loss: 2.0573 - accuracy: 0.2516\n",
      "Epoch 10/10\n",
      "134/134 [==============================] - 17s 127ms/step - loss: 2.0480 - accuracy: 0.2556\n"
     ]
    },
    {
     "name": "stderr",
     "output_type": "stream",
     "text": [
      "/usr/local/lib/python3.10/dist-packages/keras/src/engine/training.py:3079: UserWarning: You are saving your model as an HDF5 file via `model.save()`. This file format is considered legacy. We recommend using instead the native Keras format, e.g. `model.save('my_model.keras')`.\n",
      "  saving_api.save_model(\n"
     ]
    },
    {
     "name": "stdout",
     "output_type": "stream",
     "text": [
      "34/34 [==============================] - 2s 37ms/step\n",
      "Training RF for P2 (sliderNeutralPos)\n",
      "Training CNN for P2 (sliderNeutralPos)\n",
      "Epoch 1/10\n",
      "134/134 [==============================] - 1s 6ms/step - loss: 1.9842 - accuracy: 0.2591\n",
      "Epoch 2/10\n",
      "134/134 [==============================] - 1s 6ms/step - loss: 1.7060 - accuracy: 0.3770\n",
      "Epoch 3/10\n",
      "134/134 [==============================] - 1s 6ms/step - loss: 1.4980 - accuracy: 0.4578\n",
      "Epoch 4/10\n",
      "134/134 [==============================] - 1s 6ms/step - loss: 1.2991 - accuracy: 0.5351\n",
      "Epoch 5/10\n",
      "134/134 [==============================] - 1s 6ms/step - loss: 1.1190 - accuracy: 0.5949\n",
      "Epoch 6/10\n",
      "134/134 [==============================] - 1s 6ms/step - loss: 0.9478 - accuracy: 0.6626\n",
      "Epoch 7/10\n",
      "134/134 [==============================] - 1s 6ms/step - loss: 0.8430 - accuracy: 0.6940\n",
      "Epoch 8/10\n",
      "134/134 [==============================] - 1s 6ms/step - loss: 0.7176 - accuracy: 0.7472\n",
      "Epoch 9/10\n",
      "134/134 [==============================] - 1s 6ms/step - loss: 0.6290 - accuracy: 0.7781\n",
      "Epoch 10/10\n",
      "134/134 [==============================] - 1s 6ms/step - loss: 0.5388 - accuracy: 0.8065\n",
      "34/34 [==============================] - 0s 2ms/step\n"
     ]
    },
    {
     "name": "stderr",
     "output_type": "stream",
     "text": [
      "/usr/local/lib/python3.10/dist-packages/keras/src/engine/training.py:3079: UserWarning: You are saving your model as an HDF5 file via `model.save()`. This file format is considered legacy. We recommend using instead the native Keras format, e.g. `model.save('my_model.keras')`.\n",
      "  saving_api.save_model(\n"
     ]
    },
    {
     "name": "stdout",
     "output_type": "stream",
     "text": [
      "Training LSTM for P2 (sliderNeutralPos)\n",
      "Epoch 1/10\n",
      "134/134 [==============================] - 19s 127ms/step - loss: 2.1056 - accuracy: 0.2137\n",
      "Epoch 2/10\n",
      "134/134 [==============================] - 16s 116ms/step - loss: 2.0407 - accuracy: 0.2156\n",
      "Epoch 3/10\n",
      "134/134 [==============================] - 17s 125ms/step - loss: 2.0306 - accuracy: 0.2280\n",
      "Epoch 4/10\n",
      "134/134 [==============================] - 16s 118ms/step - loss: 2.0268 - accuracy: 0.2296\n",
      "Epoch 5/10\n",
      "134/134 [==============================] - 16s 120ms/step - loss: 2.0255 - accuracy: 0.2226\n",
      "Epoch 6/10\n",
      "134/134 [==============================] - 17s 127ms/step - loss: 2.0209 - accuracy: 0.2313\n",
      "Epoch 7/10\n",
      "134/134 [==============================] - 17s 126ms/step - loss: 2.0151 - accuracy: 0.2313\n",
      "Epoch 8/10\n",
      "134/134 [==============================] - 17s 127ms/step - loss: 2.0276 - accuracy: 0.2291\n",
      "Epoch 9/10\n",
      "134/134 [==============================] - 17s 126ms/step - loss: 2.0204 - accuracy: 0.2357\n",
      "Epoch 10/10\n",
      "134/134 [==============================] - 16s 118ms/step - loss: 2.0196 - accuracy: 0.2301\n"
     ]
    },
    {
     "name": "stderr",
     "output_type": "stream",
     "text": [
      "/usr/local/lib/python3.10/dist-packages/keras/src/engine/training.py:3079: UserWarning: You are saving your model as an HDF5 file via `model.save()`. This file format is considered legacy. We recommend using instead the native Keras format, e.g. `model.save('my_model.keras')`.\n",
      "  saving_api.save_model(\n"
     ]
    },
    {
     "name": "stdout",
     "output_type": "stream",
     "text": [
      "34/34 [==============================] - 2s 32ms/step\n",
      "Training RF for N2 (sliderNeutralPos)\n",
      "Training CNN for N2 (sliderNeutralPos)\n",
      "Epoch 1/10\n",
      "134/134 [==============================] - 1s 6ms/step - loss: 1.6544 - accuracy: 0.4093\n",
      "Epoch 2/10\n",
      "134/134 [==============================] - 1s 6ms/step - loss: 1.4016 - accuracy: 0.4796\n",
      "Epoch 3/10\n",
      "134/134 [==============================] - 1s 6ms/step - loss: 1.2291 - accuracy: 0.5544\n",
      "Epoch 4/10\n",
      "134/134 [==============================] - 1s 6ms/step - loss: 1.0878 - accuracy: 0.6047\n",
      "Epoch 5/10\n",
      "134/134 [==============================] - 1s 6ms/step - loss: 0.9523 - accuracy: 0.6509\n",
      "Epoch 6/10\n",
      "134/134 [==============================] - 1s 6ms/step - loss: 0.8313 - accuracy: 0.6999\n",
      "Epoch 7/10\n",
      "134/134 [==============================] - 1s 6ms/step - loss: 0.7267 - accuracy: 0.7395\n",
      "Epoch 8/10\n",
      "134/134 [==============================] - 1s 6ms/step - loss: 0.6379 - accuracy: 0.7711\n",
      "Epoch 9/10\n",
      "134/134 [==============================] - 1s 6ms/step - loss: 0.5570 - accuracy: 0.7976\n",
      "Epoch 10/10\n",
      "134/134 [==============================] - 1s 6ms/step - loss: 0.5011 - accuracy: 0.8130\n",
      "34/34 [==============================] - 0s 2ms/step\n"
     ]
    },
    {
     "name": "stderr",
     "output_type": "stream",
     "text": [
      "/usr/local/lib/python3.10/dist-packages/keras/src/engine/training.py:3079: UserWarning: You are saving your model as an HDF5 file via `model.save()`. This file format is considered legacy. We recommend using instead the native Keras format, e.g. `model.save('my_model.keras')`.\n",
      "  saving_api.save_model(\n"
     ]
    },
    {
     "name": "stdout",
     "output_type": "stream",
     "text": [
      "Training LSTM for N2 (sliderNeutralPos)\n",
      "Epoch 1/10\n",
      "134/134 [==============================] - 19s 125ms/step - loss: 1.8720 - accuracy: 0.3552\n",
      "Epoch 2/10\n",
      "134/134 [==============================] - 17s 126ms/step - loss: 1.7401 - accuracy: 0.3730\n",
      "Epoch 3/10\n",
      "134/134 [==============================] - 17s 126ms/step - loss: 1.7346 - accuracy: 0.3744\n",
      "Epoch 4/10\n",
      "134/134 [==============================] - 17s 126ms/step - loss: 1.7230 - accuracy: 0.3758\n",
      "Epoch 5/10\n",
      "134/134 [==============================] - 17s 125ms/step - loss: 1.7198 - accuracy: 0.3765\n",
      "Epoch 6/10\n",
      "134/134 [==============================] - 17s 127ms/step - loss: 1.7123 - accuracy: 0.3756\n",
      "Epoch 7/10\n",
      "134/134 [==============================] - 17s 128ms/step - loss: 1.7026 - accuracy: 0.3749\n",
      "Epoch 8/10\n",
      "134/134 [==============================] - 16s 121ms/step - loss: 1.6915 - accuracy: 0.3765\n",
      "Epoch 9/10\n",
      "134/134 [==============================] - 16s 120ms/step - loss: 1.6876 - accuracy: 0.3721\n",
      "Epoch 10/10\n",
      "134/134 [==============================] - 16s 118ms/step - loss: 1.6787 - accuracy: 0.3807\n"
     ]
    },
    {
     "name": "stderr",
     "output_type": "stream",
     "text": [
      "/usr/local/lib/python3.10/dist-packages/keras/src/engine/training.py:3079: UserWarning: You are saving your model as an HDF5 file via `model.save()`. This file format is considered legacy. We recommend using instead the native Keras format, e.g. `model.save('my_model.keras')`.\n",
      "  saving_api.save_model(\n"
     ]
    },
    {
     "name": "stdout",
     "output_type": "stream",
     "text": [
      "34/34 [==============================] - 2s 36ms/step\n",
      "Training RF for N3 (sliderNeutralPos)\n",
      "Training CNN for N3 (sliderNeutralPos)\n",
      "Epoch 1/10\n",
      "134/134 [==============================] - 1s 6ms/step - loss: 1.9816 - accuracy: 0.3126\n",
      "Epoch 2/10\n",
      "134/134 [==============================] - 1s 6ms/step - loss: 1.7166 - accuracy: 0.3887\n",
      "Epoch 3/10\n",
      "134/134 [==============================] - 1s 6ms/step - loss: 1.5295 - accuracy: 0.4550\n",
      "Epoch 4/10\n",
      "134/134 [==============================] - 1s 6ms/step - loss: 1.3431 - accuracy: 0.5295\n",
      "Epoch 5/10\n",
      "134/134 [==============================] - 1s 6ms/step - loss: 1.1776 - accuracy: 0.5818\n",
      "Epoch 6/10\n",
      "134/134 [==============================] - 1s 6ms/step - loss: 1.0264 - accuracy: 0.6305\n",
      "Epoch 7/10\n",
      "134/134 [==============================] - 1s 6ms/step - loss: 0.9100 - accuracy: 0.6739\n",
      "Epoch 8/10\n",
      "134/134 [==============================] - 1s 6ms/step - loss: 0.7996 - accuracy: 0.7224\n",
      "Epoch 9/10\n",
      "134/134 [==============================] - 1s 6ms/step - loss: 0.6877 - accuracy: 0.7582\n",
      "Epoch 10/10\n",
      "134/134 [==============================] - 1s 6ms/step - loss: 0.6258 - accuracy: 0.7805\n",
      "34/34 [==============================] - 0s 2ms/step\n"
     ]
    },
    {
     "name": "stderr",
     "output_type": "stream",
     "text": [
      "/usr/local/lib/python3.10/dist-packages/keras/src/engine/training.py:3079: UserWarning: You are saving your model as an HDF5 file via `model.save()`. This file format is considered legacy. We recommend using instead the native Keras format, e.g. `model.save('my_model.keras')`.\n",
      "  saving_api.save_model(\n"
     ]
    },
    {
     "name": "stdout",
     "output_type": "stream",
     "text": [
      "Training LSTM for N3 (sliderNeutralPos)\n",
      "Epoch 1/10\n",
      "134/134 [==============================] - 19s 127ms/step - loss: 2.1257 - accuracy: 0.2446\n",
      "Epoch 2/10\n",
      "134/134 [==============================] - 17s 128ms/step - loss: 2.0680 - accuracy: 0.2493\n",
      "Epoch 3/10\n",
      "134/134 [==============================] - 16s 122ms/step - loss: 2.0610 - accuracy: 0.2521\n",
      "Epoch 4/10\n",
      "134/134 [==============================] - 15s 112ms/step - loss: 2.0602 - accuracy: 0.2568\n",
      "Epoch 5/10\n",
      "134/134 [==============================] - 14s 108ms/step - loss: 2.0523 - accuracy: 0.2573\n",
      "Epoch 6/10\n",
      "134/134 [==============================] - 14s 101ms/step - loss: 2.0440 - accuracy: 0.2605\n",
      "Epoch 7/10\n",
      "134/134 [==============================] - 16s 117ms/step - loss: 2.0414 - accuracy: 0.2732\n",
      "Epoch 8/10\n",
      "134/134 [==============================] - 16s 117ms/step - loss: 2.0283 - accuracy: 0.2805\n",
      "Epoch 9/10\n",
      "134/134 [==============================] - 16s 123ms/step - loss: 2.0216 - accuracy: 0.2840\n",
      "Epoch 10/10\n",
      "134/134 [==============================] - 16s 122ms/step - loss: 2.0174 - accuracy: 0.2858\n"
     ]
    },
    {
     "name": "stderr",
     "output_type": "stream",
     "text": [
      "/usr/local/lib/python3.10/dist-packages/keras/src/engine/training.py:3079: UserWarning: You are saving your model as an HDF5 file via `model.save()`. This file format is considered legacy. We recommend using instead the native Keras format, e.g. `model.save('my_model.keras')`.\n",
      "  saving_api.save_model(\n"
     ]
    },
    {
     "name": "stdout",
     "output_type": "stream",
     "text": [
      "34/34 [==============================] - 2s 36ms/step\n",
      "Training RF for P3 (sliderNeutralPos)\n",
      "Training CNN for P3 (sliderNeutralPos)\n",
      "Epoch 1/10\n",
      "134/134 [==============================] - 1s 6ms/step - loss: 1.9599 - accuracy: 0.2791\n",
      "Epoch 2/10\n",
      "134/134 [==============================] - 1s 6ms/step - loss: 1.6885 - accuracy: 0.3817\n",
      "Epoch 3/10\n",
      "134/134 [==============================] - 1s 6ms/step - loss: 1.4695 - accuracy: 0.4571\n",
      "Epoch 4/10\n",
      "134/134 [==============================] - 1s 6ms/step - loss: 1.2774 - accuracy: 0.5319\n",
      "Epoch 5/10\n",
      "134/134 [==============================] - 1s 6ms/step - loss: 1.0883 - accuracy: 0.6160\n",
      "Epoch 6/10\n",
      "134/134 [==============================] - 1s 6ms/step - loss: 0.9382 - accuracy: 0.6542\n",
      "Epoch 7/10\n",
      "134/134 [==============================] - 1s 6ms/step - loss: 0.7964 - accuracy: 0.7149\n",
      "Epoch 8/10\n",
      "134/134 [==============================] - 1s 6ms/step - loss: 0.6831 - accuracy: 0.7570\n",
      "Epoch 9/10\n",
      "134/134 [==============================] - 1s 6ms/step - loss: 0.5984 - accuracy: 0.7858\n",
      "Epoch 10/10\n",
      "134/134 [==============================] - 1s 6ms/step - loss: 0.5048 - accuracy: 0.8283\n",
      "24/34 [====================>.........] - ETA: 0s"
     ]
    },
    {
     "name": "stderr",
     "output_type": "stream",
     "text": [
      "/usr/local/lib/python3.10/dist-packages/keras/src/engine/training.py:3079: UserWarning: You are saving your model as an HDF5 file via `model.save()`. This file format is considered legacy. We recommend using instead the native Keras format, e.g. `model.save('my_model.keras')`.\n",
      "  saving_api.save_model(\n"
     ]
    },
    {
     "name": "stdout",
     "output_type": "stream",
     "text": [
      "34/34 [==============================] - 0s 2ms/step\n",
      "Training LSTM for P3 (sliderNeutralPos)\n",
      "Epoch 1/10\n",
      "134/134 [==============================] - 19s 126ms/step - loss: 2.1157 - accuracy: 0.2111\n",
      "Epoch 2/10\n",
      "134/134 [==============================] - 17s 124ms/step - loss: 2.0599 - accuracy: 0.2134\n",
      "Epoch 3/10\n",
      "134/134 [==============================] - 17s 123ms/step - loss: 2.0493 - accuracy: 0.2240\n",
      "Epoch 4/10\n",
      "134/134 [==============================] - 17s 125ms/step - loss: 2.0478 - accuracy: 0.2310\n",
      "Epoch 5/10\n",
      "134/134 [==============================] - 16s 121ms/step - loss: 2.0266 - accuracy: 0.2268\n",
      "Epoch 6/10\n",
      "134/134 [==============================] - 16s 122ms/step - loss: 2.0226 - accuracy: 0.2209\n",
      "Epoch 7/10\n",
      "134/134 [==============================] - 15s 113ms/step - loss: 2.0248 - accuracy: 0.2184\n",
      "Epoch 8/10\n",
      "134/134 [==============================] - 15s 111ms/step - loss: 2.0077 - accuracy: 0.2402\n",
      "Epoch 9/10\n",
      "134/134 [==============================] - 17s 125ms/step - loss: 1.9880 - accuracy: 0.2533\n",
      "Epoch 10/10\n",
      "134/134 [==============================] - 16s 117ms/step - loss: 1.9778 - accuracy: 0.2549\n"
     ]
    },
    {
     "name": "stderr",
     "output_type": "stream",
     "text": [
      "/usr/local/lib/python3.10/dist-packages/keras/src/engine/training.py:3079: UserWarning: You are saving your model as an HDF5 file via `model.save()`. This file format is considered legacy. We recommend using instead the native Keras format, e.g. `model.save('my_model.keras')`.\n",
      "  saving_api.save_model(\n"
     ]
    },
    {
     "name": "stdout",
     "output_type": "stream",
     "text": [
      "34/34 [==============================] - 2s 32ms/step\n",
      "Training RF for SE1 (sliderNegPos)\n",
      "Training CNN for SE1 (sliderNegPos)\n",
      "Epoch 1/10\n",
      "134/134 [==============================] - 1s 6ms/step - loss: 1.1346 - accuracy: 0.5234\n",
      "Epoch 2/10\n",
      "134/134 [==============================] - 1s 6ms/step - loss: 0.9689 - accuracy: 0.5771\n",
      "Epoch 3/10\n",
      "134/134 [==============================] - 1s 6ms/step - loss: 0.8977 - accuracy: 0.6068\n",
      "Epoch 4/10\n",
      "134/134 [==============================] - 1s 6ms/step - loss: 0.8192 - accuracy: 0.6389\n",
      "Epoch 5/10\n",
      "134/134 [==============================] - 1s 6ms/step - loss: 0.7491 - accuracy: 0.6813\n",
      "Epoch 6/10\n",
      "134/134 [==============================] - 1s 6ms/step - loss: 0.6829 - accuracy: 0.7071\n",
      "Epoch 7/10\n",
      "134/134 [==============================] - 1s 6ms/step - loss: 0.6052 - accuracy: 0.7448\n",
      "Epoch 8/10\n",
      "134/134 [==============================] - 1s 6ms/step - loss: 0.5444 - accuracy: 0.7802\n",
      "Epoch 9/10\n",
      "134/134 [==============================] - 1s 6ms/step - loss: 0.4866 - accuracy: 0.8044\n",
      "Epoch 10/10\n",
      "134/134 [==============================] - 1s 6ms/step - loss: 0.4324 - accuracy: 0.8280\n",
      " 1/34 [..............................] - ETA: 1s"
     ]
    },
    {
     "name": "stderr",
     "output_type": "stream",
     "text": [
      "/usr/local/lib/python3.10/dist-packages/keras/src/engine/training.py:3079: UserWarning: You are saving your model as an HDF5 file via `model.save()`. This file format is considered legacy. We recommend using instead the native Keras format, e.g. `model.save('my_model.keras')`.\n",
      "  saving_api.save_model(\n"
     ]
    },
    {
     "name": "stdout",
     "output_type": "stream",
     "text": [
      "34/34 [==============================] - 0s 2ms/step\n",
      "Training LSTM for SE1 (sliderNegPos)\n",
      "Epoch 1/10\n",
      "134/134 [==============================] - 19s 126ms/step - loss: 1.3215 - accuracy: 0.4965\n",
      "Epoch 2/10\n",
      "134/134 [==============================] - 16s 121ms/step - loss: 1.1401 - accuracy: 0.5248\n",
      "Epoch 3/10\n",
      "134/134 [==============================] - 16s 121ms/step - loss: 1.1340 - accuracy: 0.5267\n",
      "Epoch 4/10\n",
      "134/134 [==============================] - 16s 122ms/step - loss: 1.1264 - accuracy: 0.5272\n",
      "Epoch 5/10\n",
      "134/134 [==============================] - 17s 125ms/step - loss: 1.1248 - accuracy: 0.5272\n",
      "Epoch 6/10\n",
      "134/134 [==============================] - 17s 124ms/step - loss: 1.1242 - accuracy: 0.5272\n",
      "Epoch 7/10\n",
      "134/134 [==============================] - 17s 124ms/step - loss: 1.1214 - accuracy: 0.5272\n",
      "Epoch 8/10\n",
      "134/134 [==============================] - 17s 124ms/step - loss: 1.1224 - accuracy: 0.5272\n",
      "Epoch 9/10\n",
      "134/134 [==============================] - 17s 124ms/step - loss: 1.1220 - accuracy: 0.5272\n",
      "Epoch 10/10\n",
      "134/134 [==============================] - 17s 126ms/step - loss: 1.1209 - accuracy: 0.5272\n"
     ]
    },
    {
     "name": "stderr",
     "output_type": "stream",
     "text": [
      "/usr/local/lib/python3.10/dist-packages/keras/src/engine/training.py:3079: UserWarning: You are saving your model as an HDF5 file via `model.save()`. This file format is considered legacy. We recommend using instead the native Keras format, e.g. `model.save('my_model.keras')`.\n",
      "  saving_api.save_model(\n"
     ]
    },
    {
     "name": "stdout",
     "output_type": "stream",
     "text": [
      "34/34 [==============================] - 2s 35ms/step\n",
      "Training RF for SE2 (sliderNeutralPos)\n",
      "Training CNN for SE2 (sliderNeutralPos)\n",
      "Epoch 1/10\n",
      "134/134 [==============================] - 1s 6ms/step - loss: 1.0895 - accuracy: 0.5117\n",
      "Epoch 2/10\n",
      "134/134 [==============================] - 1s 6ms/step - loss: 0.9374 - accuracy: 0.5705\n",
      "Epoch 3/10\n",
      "134/134 [==============================] - 1s 6ms/step - loss: 0.8580 - accuracy: 0.6160\n",
      "Epoch 4/10\n",
      "134/134 [==============================] - 1s 6ms/step - loss: 0.7745 - accuracy: 0.6584\n",
      "Epoch 5/10\n",
      "134/134 [==============================] - 1s 6ms/step - loss: 0.7093 - accuracy: 0.6924\n",
      "Epoch 6/10\n",
      "134/134 [==============================] - 1s 6ms/step - loss: 0.6391 - accuracy: 0.7254\n",
      "Epoch 7/10\n",
      "134/134 [==============================] - 1s 6ms/step - loss: 0.5732 - accuracy: 0.7594\n",
      "Epoch 8/10\n",
      "134/134 [==============================] - 1s 6ms/step - loss: 0.5139 - accuracy: 0.7882\n",
      "Epoch 9/10\n",
      "134/134 [==============================] - 1s 6ms/step - loss: 0.4593 - accuracy: 0.8203\n",
      "Epoch 10/10\n",
      "134/134 [==============================] - 1s 6ms/step - loss: 0.4255 - accuracy: 0.8367\n",
      "34/34 [==============================] - 0s 2ms/step\n"
     ]
    },
    {
     "name": "stderr",
     "output_type": "stream",
     "text": [
      "/usr/local/lib/python3.10/dist-packages/keras/src/engine/training.py:3079: UserWarning: You are saving your model as an HDF5 file via `model.save()`. This file format is considered legacy. We recommend using instead the native Keras format, e.g. `model.save('my_model.keras')`.\n",
      "  saving_api.save_model(\n"
     ]
    },
    {
     "name": "stdout",
     "output_type": "stream",
     "text": [
      "Training LSTM for SE2 (sliderNeutralPos)\n",
      "Epoch 1/10\n",
      "134/134 [==============================] - 19s 126ms/step - loss: 1.2757 - accuracy: 0.4473\n",
      "Epoch 2/10\n",
      "134/134 [==============================] - 17s 124ms/step - loss: 1.0744 - accuracy: 0.4529\n",
      "Epoch 3/10\n",
      "134/134 [==============================] - 17s 127ms/step - loss: 1.0616 - accuracy: 0.4693\n",
      "Epoch 4/10\n",
      "134/134 [==============================] - 17s 125ms/step - loss: 1.0556 - accuracy: 0.4735\n",
      "Epoch 5/10\n",
      "134/134 [==============================] - 16s 123ms/step - loss: 1.0479 - accuracy: 0.4836\n",
      "Epoch 6/10\n",
      "134/134 [==============================] - 17s 125ms/step - loss: 1.0514 - accuracy: 0.4841\n",
      "Epoch 7/10\n",
      "134/134 [==============================] - 17s 127ms/step - loss: 1.0433 - accuracy: 0.4988\n",
      "Epoch 8/10\n",
      "134/134 [==============================] - 17s 125ms/step - loss: 1.0420 - accuracy: 0.5026\n",
      "Epoch 9/10\n",
      "134/134 [==============================] - 17s 126ms/step - loss: 1.0441 - accuracy: 0.4984\n",
      "Epoch 10/10\n",
      "134/134 [==============================] - 17s 127ms/step - loss: 1.0393 - accuracy: 0.4993\n"
     ]
    },
    {
     "name": "stderr",
     "output_type": "stream",
     "text": [
      "/usr/local/lib/python3.10/dist-packages/keras/src/engine/training.py:3079: UserWarning: You are saving your model as an HDF5 file via `model.save()`. This file format is considered legacy. We recommend using instead the native Keras format, e.g. `model.save('my_model.keras')`.\n",
      "  saving_api.save_model(\n"
     ]
    },
    {
     "name": "stdout",
     "output_type": "stream",
     "text": [
      "34/34 [==============================] - 2s 36ms/step\n",
      "Training RF for SE3 (sliderNeutralPos)\n",
      "Training CNN for SE3 (sliderNeutralPos)\n",
      "Epoch 1/10\n",
      "134/134 [==============================] - 1s 6ms/step - loss: 1.1044 - accuracy: 0.4906\n",
      "Epoch 2/10\n",
      "134/134 [==============================] - 1s 6ms/step - loss: 0.9415 - accuracy: 0.5736\n",
      "Epoch 3/10\n",
      "134/134 [==============================] - 1s 6ms/step - loss: 0.8421 - accuracy: 0.6202\n",
      "Epoch 4/10\n",
      "134/134 [==============================] - 1s 6ms/step - loss: 0.7652 - accuracy: 0.6638\n",
      "Epoch 5/10\n",
      "134/134 [==============================] - 1s 6ms/step - loss: 0.6859 - accuracy: 0.7052\n",
      "Epoch 6/10\n",
      "134/134 [==============================] - 1s 6ms/step - loss: 0.6199 - accuracy: 0.7320\n",
      "Epoch 7/10\n",
      "134/134 [==============================] - 1s 6ms/step - loss: 0.5360 - accuracy: 0.7774\n",
      "Epoch 8/10\n",
      "134/134 [==============================] - 1s 6ms/step - loss: 0.4739 - accuracy: 0.8039\n",
      "Epoch 9/10\n",
      "134/134 [==============================] - 1s 6ms/step - loss: 0.4076 - accuracy: 0.8430\n",
      "Epoch 10/10\n",
      "134/134 [==============================] - 1s 6ms/step - loss: 0.3604 - accuracy: 0.8538\n",
      "34/34 [==============================] - 0s 2ms/step\n"
     ]
    },
    {
     "name": "stderr",
     "output_type": "stream",
     "text": [
      "/usr/local/lib/python3.10/dist-packages/keras/src/engine/training.py:3079: UserWarning: You are saving your model as an HDF5 file via `model.save()`. This file format is considered legacy. We recommend using instead the native Keras format, e.g. `model.save('my_model.keras')`.\n",
      "  saving_api.save_model(\n"
     ]
    },
    {
     "name": "stdout",
     "output_type": "stream",
     "text": [
      "Training LSTM for SE3 (sliderNeutralPos)\n",
      "Epoch 1/10\n",
      "134/134 [==============================] - 19s 126ms/step - loss: 1.3196 - accuracy: 0.4159\n",
      "Epoch 2/10\n",
      "134/134 [==============================] - 16s 120ms/step - loss: 1.1192 - accuracy: 0.4295\n",
      "Epoch 3/10\n",
      "134/134 [==============================] - 15s 109ms/step - loss: 1.1064 - accuracy: 0.4363\n",
      "Epoch 4/10\n",
      "134/134 [==============================] - 15s 115ms/step - loss: 1.0993 - accuracy: 0.4342\n",
      "Epoch 5/10\n",
      "134/134 [==============================] - 16s 116ms/step - loss: 1.0944 - accuracy: 0.4524\n",
      "Epoch 6/10\n",
      "134/134 [==============================] - 16s 119ms/step - loss: 1.0901 - accuracy: 0.4597\n",
      "Epoch 7/10\n",
      "134/134 [==============================] - 15s 116ms/step - loss: 1.0888 - accuracy: 0.4447\n",
      "Epoch 8/10\n",
      "134/134 [==============================] - 16s 122ms/step - loss: 1.0828 - accuracy: 0.4684\n",
      "Epoch 9/10\n",
      "134/134 [==============================] - 16s 123ms/step - loss: 1.0820 - accuracy: 0.4707\n",
      "Epoch 10/10\n",
      "134/134 [==============================] - 15s 113ms/step - loss: 1.0749 - accuracy: 0.4784\n"
     ]
    },
    {
     "name": "stderr",
     "output_type": "stream",
     "text": [
      "/usr/local/lib/python3.10/dist-packages/keras/src/engine/training.py:3079: UserWarning: You are saving your model as an HDF5 file via `model.save()`. This file format is considered legacy. We recommend using instead the native Keras format, e.g. `model.save('my_model.keras')`.\n",
      "  saving_api.save_model(\n"
     ]
    },
    {
     "name": "stdout",
     "output_type": "stream",
     "text": [
      "34/34 [==============================] - 2s 34ms/step\n",
      "Training RF for SE4 (sliderNeutralPos)\n",
      "Training CNN for SE4 (sliderNeutralPos)\n",
      "Epoch 1/10\n",
      "134/134 [==============================] - 1s 6ms/step - loss: 1.0967 - accuracy: 0.5190\n",
      "Epoch 2/10\n",
      "134/134 [==============================] - 1s 6ms/step - loss: 0.9440 - accuracy: 0.5757\n",
      "Epoch 3/10\n",
      "134/134 [==============================] - 1s 6ms/step - loss: 0.8633 - accuracy: 0.6017\n",
      "Epoch 4/10\n",
      "134/134 [==============================] - 1s 6ms/step - loss: 0.7934 - accuracy: 0.6546\n",
      "Epoch 5/10\n",
      "134/134 [==============================] - 1s 6ms/step - loss: 0.7175 - accuracy: 0.6935\n",
      "Epoch 6/10\n",
      "134/134 [==============================] - 1s 6ms/step - loss: 0.6431 - accuracy: 0.7308\n",
      "Epoch 7/10\n",
      "134/134 [==============================] - 1s 6ms/step - loss: 0.5886 - accuracy: 0.7549\n",
      "Epoch 8/10\n",
      "134/134 [==============================] - 1s 6ms/step - loss: 0.5287 - accuracy: 0.7805\n",
      "Epoch 9/10\n",
      "134/134 [==============================] - 1s 6ms/step - loss: 0.4650 - accuracy: 0.8168\n",
      "Epoch 10/10\n",
      "134/134 [==============================] - 1s 6ms/step - loss: 0.4142 - accuracy: 0.8334\n",
      "34/34 [==============================] - 0s 2ms/step\n"
     ]
    },
    {
     "name": "stderr",
     "output_type": "stream",
     "text": [
      "/usr/local/lib/python3.10/dist-packages/keras/src/engine/training.py:3079: UserWarning: You are saving your model as an HDF5 file via `model.save()`. This file format is considered legacy. We recommend using instead the native Keras format, e.g. `model.save('my_model.keras')`.\n",
      "  saving_api.save_model(\n"
     ]
    },
    {
     "name": "stdout",
     "output_type": "stream",
     "text": [
      "Training LSTM for SE4 (sliderNeutralPos)\n",
      "Epoch 1/10\n",
      "134/134 [==============================] - 19s 127ms/step - loss: 1.2411 - accuracy: 0.5316\n",
      "Epoch 2/10\n",
      "134/134 [==============================] - 17s 126ms/step - loss: 1.0907 - accuracy: 0.5394\n",
      "Epoch 3/10\n",
      "134/134 [==============================] - 17s 127ms/step - loss: 1.0842 - accuracy: 0.5440\n",
      "Epoch 4/10\n",
      "134/134 [==============================] - 17s 129ms/step - loss: 1.0785 - accuracy: 0.5448\n",
      "Epoch 5/10\n",
      "134/134 [==============================] - 17s 126ms/step - loss: 1.0764 - accuracy: 0.5443\n",
      "Epoch 6/10\n",
      "134/134 [==============================] - 17s 125ms/step - loss: 1.0722 - accuracy: 0.5445\n",
      "Epoch 7/10\n",
      "134/134 [==============================] - 15s 113ms/step - loss: 1.0670 - accuracy: 0.5445\n",
      "Epoch 8/10\n",
      "134/134 [==============================] - 16s 122ms/step - loss: 1.0646 - accuracy: 0.5445\n",
      "Epoch 9/10\n",
      "134/134 [==============================] - 17s 125ms/step - loss: 1.0567 - accuracy: 0.5445\n",
      "Epoch 10/10\n",
      "134/134 [==============================] - 17s 128ms/step - loss: 1.0502 - accuracy: 0.5445\n"
     ]
    },
    {
     "name": "stderr",
     "output_type": "stream",
     "text": [
      "/usr/local/lib/python3.10/dist-packages/keras/src/engine/training.py:3079: UserWarning: You are saving your model as an HDF5 file via `model.save()`. This file format is considered legacy. We recommend using instead the native Keras format, e.g. `model.save('my_model.keras')`.\n",
      "  saving_api.save_model(\n"
     ]
    },
    {
     "name": "stdout",
     "output_type": "stream",
     "text": [
      "34/34 [==============================] - 2s 36ms/step\n",
      "Training RF for MIL1 (sliderNegPos)\n",
      "Training CNN for MIL1 (sliderNegPos)\n",
      "Epoch 1/10\n",
      "134/134 [==============================] - 1s 6ms/step - loss: 1.7375 - accuracy: 0.3402\n",
      "Epoch 2/10\n",
      "134/134 [==============================] - 1s 6ms/step - loss: 1.4572 - accuracy: 0.4412\n",
      "Epoch 3/10\n",
      "134/134 [==============================] - 1s 6ms/step - loss: 1.2558 - accuracy: 0.5349\n",
      "Epoch 4/10\n",
      "134/134 [==============================] - 1s 6ms/step - loss: 1.0882 - accuracy: 0.5965\n",
      "Epoch 5/10\n",
      "134/134 [==============================] - 1s 6ms/step - loss: 0.9294 - accuracy: 0.6567\n",
      "Epoch 6/10\n",
      "134/134 [==============================] - 1s 6ms/step - loss: 0.8232 - accuracy: 0.6968\n",
      "Epoch 7/10\n",
      "134/134 [==============================] - 1s 6ms/step - loss: 0.6607 - accuracy: 0.7622\n",
      "Epoch 8/10\n",
      "134/134 [==============================] - 1s 6ms/step - loss: 0.5738 - accuracy: 0.7915\n",
      "Epoch 9/10\n",
      "134/134 [==============================] - 1s 6ms/step - loss: 0.4940 - accuracy: 0.8191\n",
      "Epoch 10/10\n",
      "134/134 [==============================] - 1s 6ms/step - loss: 0.4450 - accuracy: 0.8390\n",
      "34/34 [==============================] - 0s 2ms/step\n"
     ]
    },
    {
     "name": "stderr",
     "output_type": "stream",
     "text": [
      "/usr/local/lib/python3.10/dist-packages/keras/src/engine/training.py:3079: UserWarning: You are saving your model as an HDF5 file via `model.save()`. This file format is considered legacy. We recommend using instead the native Keras format, e.g. `model.save('my_model.keras')`.\n",
      "  saving_api.save_model(\n"
     ]
    },
    {
     "name": "stdout",
     "output_type": "stream",
     "text": [
      "Training LSTM for MIL1 (sliderNegPos)\n",
      "Epoch 1/10\n",
      "134/134 [==============================] - 19s 128ms/step - loss: 2.0072 - accuracy: 0.1896\n",
      "Epoch 2/10\n",
      "134/134 [==============================] - 17s 124ms/step - loss: 1.9219 - accuracy: 0.1877\n",
      "Epoch 3/10\n",
      "134/134 [==============================] - 17s 126ms/step - loss: 1.9035 - accuracy: 0.1994\n",
      "Epoch 4/10\n",
      "134/134 [==============================] - 17s 126ms/step - loss: 1.9008 - accuracy: 0.2027\n",
      "Epoch 5/10\n",
      "134/134 [==============================] - 17s 125ms/step - loss: 1.9015 - accuracy: 0.1903\n",
      "Epoch 6/10\n",
      "134/134 [==============================] - 17s 126ms/step - loss: 1.8938 - accuracy: 0.2010\n",
      "Epoch 7/10\n",
      "134/134 [==============================] - 17s 123ms/step - loss: 1.8898 - accuracy: 0.2062\n",
      "Epoch 8/10\n",
      "134/134 [==============================] - 16s 123ms/step - loss: 1.8895 - accuracy: 0.1973\n",
      "Epoch 9/10\n",
      "134/134 [==============================] - 17s 125ms/step - loss: 1.8874 - accuracy: 0.2092\n",
      "Epoch 10/10\n",
      "134/134 [==============================] - 17s 123ms/step - loss: 1.8824 - accuracy: 0.2064\n"
     ]
    },
    {
     "name": "stderr",
     "output_type": "stream",
     "text": [
      "/usr/local/lib/python3.10/dist-packages/keras/src/engine/training.py:3079: UserWarning: You are saving your model as an HDF5 file via `model.save()`. This file format is considered legacy. We recommend using instead the native Keras format, e.g. `model.save('my_model.keras')`.\n",
      "  saving_api.save_model(\n"
     ]
    },
    {
     "name": "stdout",
     "output_type": "stream",
     "text": [
      "34/34 [==============================] - 2s 36ms/step\n",
      "Training RF for MIL2 (sliderNeutralPos)\n",
      "Training CNN for MIL2 (sliderNeutralPos)\n",
      "Epoch 1/10\n",
      "134/134 [==============================] - 1s 6ms/step - loss: 1.6046 - accuracy: 0.3688\n",
      "Epoch 2/10\n",
      "134/134 [==============================] - 1s 6ms/step - loss: 1.3657 - accuracy: 0.4719\n",
      "Epoch 3/10\n",
      "134/134 [==============================] - 1s 6ms/step - loss: 1.2055 - accuracy: 0.5342\n",
      "Epoch 4/10\n",
      "134/134 [==============================] - 1s 6ms/step - loss: 1.0741 - accuracy: 0.5942\n",
      "Epoch 5/10\n",
      "134/134 [==============================] - 1s 6ms/step - loss: 0.9282 - accuracy: 0.6509\n",
      "Epoch 6/10\n",
      "134/134 [==============================] - 1s 6ms/step - loss: 0.8137 - accuracy: 0.6999\n",
      "Epoch 7/10\n",
      "134/134 [==============================] - 1s 6ms/step - loss: 0.7123 - accuracy: 0.7383\n",
      "Epoch 8/10\n",
      "134/134 [==============================] - 1s 6ms/step - loss: 0.6039 - accuracy: 0.7746\n",
      "Epoch 9/10\n",
      "134/134 [==============================] - 1s 6ms/step - loss: 0.5323 - accuracy: 0.8013\n",
      "Epoch 10/10\n",
      "134/134 [==============================] - 1s 6ms/step - loss: 0.4736 - accuracy: 0.8264\n",
      "34/34 [==============================] - 0s 2ms/step\n"
     ]
    },
    {
     "name": "stderr",
     "output_type": "stream",
     "text": [
      "/usr/local/lib/python3.10/dist-packages/keras/src/engine/training.py:3079: UserWarning: You are saving your model as an HDF5 file via `model.save()`. This file format is considered legacy. We recommend using instead the native Keras format, e.g. `model.save('my_model.keras')`.\n",
      "  saving_api.save_model(\n"
     ]
    },
    {
     "name": "stdout",
     "output_type": "stream",
     "text": [
      "Training LSTM for MIL2 (sliderNeutralPos)\n",
      "Epoch 1/10\n",
      "134/134 [==============================] - 19s 128ms/step - loss: 1.8598 - accuracy: 0.2554\n",
      "Epoch 2/10\n",
      "134/134 [==============================] - 17s 124ms/step - loss: 1.7299 - accuracy: 0.2732\n",
      "Epoch 3/10\n",
      "134/134 [==============================] - 16s 118ms/step - loss: 1.7044 - accuracy: 0.2765\n",
      "Epoch 4/10\n",
      "134/134 [==============================] - 15s 116ms/step - loss: 1.6989 - accuracy: 0.2748\n",
      "Epoch 5/10\n",
      "134/134 [==============================] - 16s 120ms/step - loss: 1.6934 - accuracy: 0.2842\n",
      "Epoch 6/10\n",
      "134/134 [==============================] - 16s 119ms/step - loss: 1.6881 - accuracy: 0.2877\n",
      "Epoch 7/10\n",
      "134/134 [==============================] - 17s 125ms/step - loss: 1.6865 - accuracy: 0.2856\n",
      "Epoch 8/10\n",
      "134/134 [==============================] - 16s 121ms/step - loss: 1.6870 - accuracy: 0.2849\n",
      "Epoch 9/10\n",
      "134/134 [==============================] - 17s 126ms/step - loss: 1.6858 - accuracy: 0.2866\n",
      "Epoch 10/10\n",
      "134/134 [==============================] - 17s 126ms/step - loss: 1.6824 - accuracy: 0.2898\n"
     ]
    },
    {
     "name": "stderr",
     "output_type": "stream",
     "text": [
      "/usr/local/lib/python3.10/dist-packages/keras/src/engine/training.py:3079: UserWarning: You are saving your model as an HDF5 file via `model.save()`. This file format is considered legacy. We recommend using instead the native Keras format, e.g. `model.save('my_model.keras')`.\n",
      "  saving_api.save_model(\n"
     ]
    },
    {
     "name": "stdout",
     "output_type": "stream",
     "text": [
      "34/34 [==============================] - 2s 35ms/step\n",
      "Training RF for MIL3 (sliderNeutralPos)\n",
      "Training CNN for MIL3 (sliderNeutralPos)\n",
      "Epoch 1/10\n",
      "134/134 [==============================] - 1s 6ms/step - loss: 1.7055 - accuracy: 0.3276\n",
      "Epoch 2/10\n",
      "134/134 [==============================] - 1s 6ms/step - loss: 1.4627 - accuracy: 0.4445\n",
      "Epoch 3/10\n",
      "134/134 [==============================] - 1s 6ms/step - loss: 1.2987 - accuracy: 0.5089\n",
      "Epoch 4/10\n",
      "134/134 [==============================] - 1s 6ms/step - loss: 1.1465 - accuracy: 0.5600\n",
      "Epoch 5/10\n",
      "134/134 [==============================] - 1s 6ms/step - loss: 0.9983 - accuracy: 0.6317\n",
      "Epoch 6/10\n",
      "134/134 [==============================] - 1s 6ms/step - loss: 0.8949 - accuracy: 0.6713\n",
      "Epoch 7/10\n",
      "134/134 [==============================] - 1s 6ms/step - loss: 0.7731 - accuracy: 0.7123\n",
      "Epoch 8/10\n",
      "134/134 [==============================] - 1s 6ms/step - loss: 0.6605 - accuracy: 0.7596\n",
      "Epoch 9/10\n",
      "134/134 [==============================] - 1s 6ms/step - loss: 0.5913 - accuracy: 0.7809\n",
      "Epoch 10/10\n",
      "134/134 [==============================] - 1s 6ms/step - loss: 0.5140 - accuracy: 0.8126\n",
      "24/34 [====================>.........] - ETA: 0s"
     ]
    },
    {
     "name": "stderr",
     "output_type": "stream",
     "text": [
      "/usr/local/lib/python3.10/dist-packages/keras/src/engine/training.py:3079: UserWarning: You are saving your model as an HDF5 file via `model.save()`. This file format is considered legacy. We recommend using instead the native Keras format, e.g. `model.save('my_model.keras')`.\n",
      "  saving_api.save_model(\n"
     ]
    },
    {
     "name": "stdout",
     "output_type": "stream",
     "text": [
      "34/34 [==============================] - 0s 2ms/step\n",
      "Training LSTM for MIL3 (sliderNeutralPos)\n",
      "Epoch 1/10\n",
      "134/134 [==============================] - 19s 127ms/step - loss: 1.8987 - accuracy: 0.2718\n",
      "Epoch 2/10\n",
      "134/134 [==============================] - 17s 130ms/step - loss: 1.7843 - accuracy: 0.2709\n",
      "Epoch 3/10\n",
      "134/134 [==============================] - 17s 124ms/step - loss: 1.7719 - accuracy: 0.2807\n",
      "Epoch 4/10\n",
      "134/134 [==============================] - 16s 122ms/step - loss: 1.7632 - accuracy: 0.2805\n",
      "Epoch 5/10\n",
      "134/134 [==============================] - 16s 117ms/step - loss: 1.7605 - accuracy: 0.2868\n",
      "Epoch 6/10\n",
      "134/134 [==============================] - 15s 109ms/step - loss: 1.7564 - accuracy: 0.2919\n",
      "Epoch 7/10\n",
      "134/134 [==============================] - 16s 117ms/step - loss: 1.7530 - accuracy: 0.2910\n",
      "Epoch 8/10\n",
      "134/134 [==============================] - 17s 123ms/step - loss: 1.7478 - accuracy: 0.2901\n",
      "Epoch 9/10\n",
      "134/134 [==============================] - 17s 125ms/step - loss: 1.7419 - accuracy: 0.2933\n",
      "Epoch 10/10\n",
      "134/134 [==============================] - 17s 125ms/step - loss: 1.7314 - accuracy: 0.2908\n"
     ]
    },
    {
     "name": "stderr",
     "output_type": "stream",
     "text": [
      "/usr/local/lib/python3.10/dist-packages/keras/src/engine/training.py:3079: UserWarning: You are saving your model as an HDF5 file via `model.save()`. This file format is considered legacy. We recommend using instead the native Keras format, e.g. `model.save('my_model.keras')`.\n",
      "  saving_api.save_model(\n"
     ]
    },
    {
     "name": "stdout",
     "output_type": "stream",
     "text": [
      "34/34 [==============================] - 2s 34ms/step\n",
      "Training RF for MIL4 (sliderNeutralPos)\n",
      "Training CNN for MIL4 (sliderNeutralPos)\n",
      "Epoch 1/10\n",
      "134/134 [==============================] - 1s 6ms/step - loss: 1.7280 - accuracy: 0.3486\n",
      "Epoch 2/10\n",
      "134/134 [==============================] - 1s 6ms/step - loss: 1.4735 - accuracy: 0.4302\n",
      "Epoch 3/10\n",
      "134/134 [==============================] - 1s 6ms/step - loss: 1.2947 - accuracy: 0.5070\n",
      "Epoch 4/10\n",
      "134/134 [==============================] - 1s 6ms/step - loss: 1.1454 - accuracy: 0.5679\n",
      "Epoch 5/10\n",
      "134/134 [==============================] - 1s 6ms/step - loss: 0.9966 - accuracy: 0.6284\n",
      "Epoch 6/10\n",
      "134/134 [==============================] - 1s 6ms/step - loss: 0.8557 - accuracy: 0.6849\n",
      "Epoch 7/10\n",
      "134/134 [==============================] - 1s 6ms/step - loss: 0.7662 - accuracy: 0.7134\n",
      "Epoch 8/10\n",
      "134/134 [==============================] - 1s 6ms/step - loss: 0.6565 - accuracy: 0.7610\n",
      "Epoch 9/10\n",
      "134/134 [==============================] - 1s 6ms/step - loss: 0.5648 - accuracy: 0.7894\n",
      "Epoch 10/10\n",
      "134/134 [==============================] - 1s 6ms/step - loss: 0.5019 - accuracy: 0.8224\n",
      "23/34 [===================>..........] - ETA: 0s"
     ]
    },
    {
     "name": "stderr",
     "output_type": "stream",
     "text": [
      "/usr/local/lib/python3.10/dist-packages/keras/src/engine/training.py:3079: UserWarning: You are saving your model as an HDF5 file via `model.save()`. This file format is considered legacy. We recommend using instead the native Keras format, e.g. `model.save('my_model.keras')`.\n",
      "  saving_api.save_model(\n"
     ]
    },
    {
     "name": "stdout",
     "output_type": "stream",
     "text": [
      "34/34 [==============================] - 0s 2ms/step\n",
      "Training LSTM for MIL4 (sliderNeutralPos)\n",
      "Epoch 1/10\n",
      "134/134 [==============================] - 23s 124ms/step - loss: 1.9294 - accuracy: 0.2706\n",
      "Epoch 2/10\n",
      "134/134 [==============================] - 17s 127ms/step - loss: 1.8303 - accuracy: 0.2889\n",
      "Epoch 3/10\n",
      "134/134 [==============================] - 17s 124ms/step - loss: 1.8130 - accuracy: 0.2955\n",
      "Epoch 4/10\n",
      "134/134 [==============================] - 17s 125ms/step - loss: 1.8114 - accuracy: 0.2955\n",
      "Epoch 5/10\n",
      "134/134 [==============================] - 16s 122ms/step - loss: 1.8001 - accuracy: 0.2971\n",
      "Epoch 6/10\n",
      "134/134 [==============================] - 15s 116ms/step - loss: 1.7935 - accuracy: 0.2964\n",
      "Epoch 7/10\n",
      "134/134 [==============================] - 16s 117ms/step - loss: 1.7859 - accuracy: 0.2994\n",
      "Epoch 8/10\n",
      "134/134 [==============================] - 16s 123ms/step - loss: 1.7863 - accuracy: 0.2959\n",
      "Epoch 9/10\n",
      "134/134 [==============================] - 17s 123ms/step - loss: 1.7817 - accuracy: 0.2952\n",
      "Epoch 10/10\n",
      "134/134 [==============================] - 15s 110ms/step - loss: 1.7780 - accuracy: 0.2987\n"
     ]
    },
    {
     "name": "stderr",
     "output_type": "stream",
     "text": [
      "/usr/local/lib/python3.10/dist-packages/keras/src/engine/training.py:3079: UserWarning: You are saving your model as an HDF5 file via `model.save()`. This file format is considered legacy. We recommend using instead the native Keras format, e.g. `model.save('my_model.keras')`.\n",
      "  saving_api.save_model(\n"
     ]
    },
    {
     "name": "stdout",
     "output_type": "stream",
     "text": [
      "34/34 [==============================] - 2s 35ms/step\n",
      "Training RF for MIL5 (sliderNeutralPos)\n",
      "Training CNN for MIL5 (sliderNeutralPos)\n",
      "Epoch 1/10\n",
      "134/134 [==============================] - 1s 6ms/step - loss: 1.7193 - accuracy: 0.3273\n",
      "Epoch 2/10\n",
      "134/134 [==============================] - 1s 6ms/step - loss: 1.4612 - accuracy: 0.4337\n",
      "Epoch 3/10\n",
      "134/134 [==============================] - 1s 6ms/step - loss: 1.2726 - accuracy: 0.5096\n",
      "Epoch 4/10\n",
      "134/134 [==============================] - 1s 6ms/step - loss: 1.1420 - accuracy: 0.5642\n",
      "Epoch 5/10\n",
      "134/134 [==============================] - 1s 6ms/step - loss: 1.0180 - accuracy: 0.6193\n",
      "Epoch 6/10\n",
      "134/134 [==============================] - 1s 5ms/step - loss: 0.8916 - accuracy: 0.6724\n",
      "Epoch 7/10\n",
      "134/134 [==============================] - 1s 6ms/step - loss: 0.7796 - accuracy: 0.7191\n",
      "Epoch 8/10\n",
      "134/134 [==============================] - 1s 6ms/step - loss: 0.7023 - accuracy: 0.7416\n",
      "Epoch 9/10\n",
      "134/134 [==============================] - 1s 6ms/step - loss: 0.6260 - accuracy: 0.7685\n",
      "Epoch 10/10\n",
      "134/134 [==============================] - 1s 6ms/step - loss: 0.5365 - accuracy: 0.7983\n",
      "34/34 [==============================] - 0s 2ms/step\n"
     ]
    },
    {
     "name": "stderr",
     "output_type": "stream",
     "text": [
      "/usr/local/lib/python3.10/dist-packages/keras/src/engine/training.py:3079: UserWarning: You are saving your model as an HDF5 file via `model.save()`. This file format is considered legacy. We recommend using instead the native Keras format, e.g. `model.save('my_model.keras')`.\n",
      "  saving_api.save_model(\n"
     ]
    },
    {
     "name": "stdout",
     "output_type": "stream",
     "text": [
      "Training LSTM for MIL5 (sliderNeutralPos)\n",
      "Epoch 1/10\n",
      "134/134 [==============================] - 19s 127ms/step - loss: 1.9672 - accuracy: 0.2085\n",
      "Epoch 2/10\n",
      "134/134 [==============================] - 17s 123ms/step - loss: 1.8435 - accuracy: 0.2245\n",
      "Epoch 3/10\n",
      "134/134 [==============================] - 16s 120ms/step - loss: 1.8319 - accuracy: 0.2224\n",
      "Epoch 4/10\n",
      "134/134 [==============================] - 16s 121ms/step - loss: 1.8281 - accuracy: 0.2240\n",
      "Epoch 5/10\n",
      "134/134 [==============================] - 17s 123ms/step - loss: 1.8213 - accuracy: 0.2270\n",
      "Epoch 6/10\n",
      "134/134 [==============================] - 17s 123ms/step - loss: 1.8153 - accuracy: 0.2329\n",
      "Epoch 7/10\n",
      "134/134 [==============================] - 17s 127ms/step - loss: 1.8159 - accuracy: 0.2226\n",
      "Epoch 8/10\n",
      "134/134 [==============================] - 16s 116ms/step - loss: 1.8090 - accuracy: 0.2317\n",
      "Epoch 9/10\n",
      "134/134 [==============================] - 17s 123ms/step - loss: 1.8143 - accuracy: 0.2242\n",
      "Epoch 10/10\n",
      "134/134 [==============================] - 16s 118ms/step - loss: 1.8104 - accuracy: 0.2350\n"
     ]
    },
    {
     "name": "stderr",
     "output_type": "stream",
     "text": [
      "/usr/local/lib/python3.10/dist-packages/keras/src/engine/training.py:3079: UserWarning: You are saving your model as an HDF5 file via `model.save()`. This file format is considered legacy. We recommend using instead the native Keras format, e.g. `model.save('my_model.keras')`.\n",
      "  saving_api.save_model(\n"
     ]
    },
    {
     "name": "stdout",
     "output_type": "stream",
     "text": [
      "34/34 [==============================] - 2s 34ms/step\n",
      "Training RF for PRO1 (sliderNeutralPos)\n",
      "Training CNN for PRO1 (sliderNeutralPos)\n",
      "Epoch 1/10\n",
      "134/134 [==============================] - 1s 6ms/step - loss: 2.1261 - accuracy: 0.2366\n",
      "Epoch 2/10\n",
      "134/134 [==============================] - 1s 6ms/step - loss: 1.8680 - accuracy: 0.3336\n",
      "Epoch 3/10\n",
      "134/134 [==============================] - 1s 6ms/step - loss: 1.6352 - accuracy: 0.4285\n",
      "Epoch 4/10\n",
      "134/134 [==============================] - 1s 6ms/step - loss: 1.4326 - accuracy: 0.5016\n",
      "Epoch 5/10\n",
      "134/134 [==============================] - 1s 6ms/step - loss: 1.2714 - accuracy: 0.5612\n",
      "Epoch 6/10\n",
      "134/134 [==============================] - 1s 6ms/step - loss: 1.1042 - accuracy: 0.6143\n",
      "Epoch 7/10\n",
      "134/134 [==============================] - 1s 6ms/step - loss: 0.9683 - accuracy: 0.6649\n",
      "Epoch 8/10\n",
      "134/134 [==============================] - 1s 6ms/step - loss: 0.8428 - accuracy: 0.7038\n",
      "Epoch 9/10\n",
      "134/134 [==============================] - 1s 6ms/step - loss: 0.7626 - accuracy: 0.7296\n",
      "Epoch 10/10\n",
      "134/134 [==============================] - 1s 6ms/step - loss: 0.6413 - accuracy: 0.7704\n",
      " 1/34 [..............................] - ETA: 3s"
     ]
    },
    {
     "name": "stderr",
     "output_type": "stream",
     "text": [
      "/usr/local/lib/python3.10/dist-packages/keras/src/engine/training.py:3079: UserWarning: You are saving your model as an HDF5 file via `model.save()`. This file format is considered legacy. We recommend using instead the native Keras format, e.g. `model.save('my_model.keras')`.\n",
      "  saving_api.save_model(\n"
     ]
    },
    {
     "name": "stdout",
     "output_type": "stream",
     "text": [
      "34/34 [==============================] - 0s 2ms/step\n",
      "Training LSTM for PRO1 (sliderNeutralPos)\n",
      "Epoch 1/10\n",
      "134/134 [==============================] - 19s 126ms/step - loss: 2.2432 - accuracy: 0.2090\n",
      "Epoch 2/10\n",
      "134/134 [==============================] - 17s 124ms/step - loss: 2.2018 - accuracy: 0.2081\n",
      "Epoch 3/10\n",
      "134/134 [==============================] - 17s 126ms/step - loss: 2.1908 - accuracy: 0.2177\n",
      "Epoch 4/10\n",
      "134/134 [==============================] - 17s 125ms/step - loss: 2.1897 - accuracy: 0.2200\n",
      "Epoch 5/10\n",
      "134/134 [==============================] - 17s 126ms/step - loss: 2.1740 - accuracy: 0.2184\n",
      "Epoch 6/10\n",
      "134/134 [==============================] - 17s 127ms/step - loss: 2.1639 - accuracy: 0.2216\n",
      "Epoch 7/10\n",
      "134/134 [==============================] - 17s 124ms/step - loss: 2.1529 - accuracy: 0.2261\n",
      "Epoch 8/10\n",
      "134/134 [==============================] - 15s 113ms/step - loss: 2.1451 - accuracy: 0.2301\n",
      "Epoch 9/10\n",
      "134/134 [==============================] - 16s 122ms/step - loss: 2.1332 - accuracy: 0.2324\n",
      "Epoch 10/10\n",
      "134/134 [==============================] - 16s 121ms/step - loss: 2.1196 - accuracy: 0.2280\n"
     ]
    },
    {
     "name": "stderr",
     "output_type": "stream",
     "text": [
      "/usr/local/lib/python3.10/dist-packages/keras/src/engine/training.py:3079: UserWarning: You are saving your model as an HDF5 file via `model.save()`. This file format is considered legacy. We recommend using instead the native Keras format, e.g. `model.save('my_model.keras')`.\n",
      "  saving_api.save_model(\n"
     ]
    },
    {
     "name": "stdout",
     "output_type": "stream",
     "text": [
      "34/34 [==============================] - 2s 33ms/step\n",
      "Training RF for PRO2 (sliderNeutralPos)\n",
      "Training CNN for PRO2 (sliderNeutralPos)\n",
      "Epoch 1/10\n",
      "134/134 [==============================] - 1s 6ms/step - loss: 2.0352 - accuracy: 0.2486\n",
      "Epoch 2/10\n",
      "134/134 [==============================] - 1s 6ms/step - loss: 1.7310 - accuracy: 0.3714\n",
      "Epoch 3/10\n",
      "134/134 [==============================] - 1s 6ms/step - loss: 1.5064 - accuracy: 0.4569\n",
      "Epoch 4/10\n",
      "134/134 [==============================] - 1s 6ms/step - loss: 1.3052 - accuracy: 0.5293\n",
      "Epoch 5/10\n",
      "134/134 [==============================] - 1s 6ms/step - loss: 1.1184 - accuracy: 0.6024\n",
      "Epoch 6/10\n",
      "134/134 [==============================] - 1s 6ms/step - loss: 0.9472 - accuracy: 0.6603\n",
      "Epoch 7/10\n",
      "134/134 [==============================] - 1s 6ms/step - loss: 0.8174 - accuracy: 0.7055\n",
      "Epoch 8/10\n",
      "134/134 [==============================] - 1s 6ms/step - loss: 0.7366 - accuracy: 0.7378\n",
      "Epoch 9/10\n",
      "134/134 [==============================] - 1s 6ms/step - loss: 0.6602 - accuracy: 0.7566\n",
      "Epoch 10/10\n",
      "134/134 [==============================] - 1s 6ms/step - loss: 0.5522 - accuracy: 0.7962\n",
      "34/34 [==============================] - 0s 2ms/step\n"
     ]
    },
    {
     "name": "stderr",
     "output_type": "stream",
     "text": [
      "/usr/local/lib/python3.10/dist-packages/keras/src/engine/training.py:3079: UserWarning: You are saving your model as an HDF5 file via `model.save()`. This file format is considered legacy. We recommend using instead the native Keras format, e.g. `model.save('my_model.keras')`.\n",
      "  saving_api.save_model(\n"
     ]
    },
    {
     "name": "stdout",
     "output_type": "stream",
     "text": [
      "Training LSTM for PRO2 (sliderNeutralPos)\n",
      "Epoch 1/10\n",
      "134/134 [==============================] - 19s 128ms/step - loss: 2.1678 - accuracy: 0.1788\n",
      "Epoch 2/10\n",
      "134/134 [==============================] - 17s 126ms/step - loss: 2.1066 - accuracy: 0.1945\n",
      "Epoch 3/10\n",
      "134/134 [==============================] - 17s 124ms/step - loss: 2.1035 - accuracy: 0.1938\n",
      "Epoch 4/10\n",
      "134/134 [==============================] - 17s 126ms/step - loss: 2.1026 - accuracy: 0.2003\n",
      "Epoch 5/10\n",
      "134/134 [==============================] - 17s 127ms/step - loss: 2.0905 - accuracy: 0.2137\n",
      "Epoch 6/10\n",
      "134/134 [==============================] - 17s 126ms/step - loss: 2.0906 - accuracy: 0.2062\n",
      "Epoch 7/10\n",
      "134/134 [==============================] - 17s 125ms/step - loss: 2.0880 - accuracy: 0.2034\n",
      "Epoch 8/10\n",
      "134/134 [==============================] - 17s 127ms/step - loss: 2.0855 - accuracy: 0.2015\n",
      "Epoch 9/10\n",
      "134/134 [==============================] - 16s 123ms/step - loss: 2.0869 - accuracy: 0.1940\n",
      "Epoch 10/10\n",
      "134/134 [==============================] - 16s 116ms/step - loss: 2.0838 - accuracy: 0.2118\n"
     ]
    },
    {
     "name": "stderr",
     "output_type": "stream",
     "text": [
      "/usr/local/lib/python3.10/dist-packages/keras/src/engine/training.py:3079: UserWarning: You are saving your model as an HDF5 file via `model.save()`. This file format is considered legacy. We recommend using instead the native Keras format, e.g. `model.save('my_model.keras')`.\n",
      "  saving_api.save_model(\n"
     ]
    },
    {
     "name": "stdout",
     "output_type": "stream",
     "text": [
      "34/34 [==============================] - 2s 35ms/step\n",
      "Training RF for PRO3 (sliderNeutralPos)\n",
      "Training CNN for PRO3 (sliderNeutralPos)\n",
      "Epoch 1/10\n",
      "134/134 [==============================] - 1s 6ms/step - loss: 1.9069 - accuracy: 0.2884\n",
      "Epoch 2/10\n",
      "134/134 [==============================] - 1s 6ms/step - loss: 1.6733 - accuracy: 0.3779\n",
      "Epoch 3/10\n",
      "134/134 [==============================] - 1s 6ms/step - loss: 1.4898 - accuracy: 0.4501\n",
      "Epoch 4/10\n",
      "134/134 [==============================] - 1s 6ms/step - loss: 1.3237 - accuracy: 0.5218\n",
      "Epoch 5/10\n",
      "134/134 [==============================] - 1s 6ms/step - loss: 1.1754 - accuracy: 0.5651\n",
      "Epoch 6/10\n",
      "134/134 [==============================] - 1s 6ms/step - loss: 1.0596 - accuracy: 0.6218\n",
      "Epoch 7/10\n",
      "134/134 [==============================] - 1s 6ms/step - loss: 0.9337 - accuracy: 0.6596\n",
      "Epoch 8/10\n",
      "134/134 [==============================] - 1s 6ms/step - loss: 0.8474 - accuracy: 0.6926\n",
      "Epoch 9/10\n",
      "134/134 [==============================] - 1s 6ms/step - loss: 0.7342 - accuracy: 0.7362\n",
      "Epoch 10/10\n",
      "134/134 [==============================] - 1s 6ms/step - loss: 0.6701 - accuracy: 0.7523\n",
      "34/34 [==============================] - 0s 2ms/step\n"
     ]
    },
    {
     "name": "stderr",
     "output_type": "stream",
     "text": [
      "/usr/local/lib/python3.10/dist-packages/keras/src/engine/training.py:3079: UserWarning: You are saving your model as an HDF5 file via `model.save()`. This file format is considered legacy. We recommend using instead the native Keras format, e.g. `model.save('my_model.keras')`.\n",
      "  saving_api.save_model(\n"
     ]
    },
    {
     "name": "stdout",
     "output_type": "stream",
     "text": [
      "Training LSTM for PRO3 (sliderNeutralPos)\n",
      "Epoch 1/10\n",
      "134/134 [==============================] - 19s 127ms/step - loss: 2.0629 - accuracy: 0.2359\n",
      "Epoch 2/10\n",
      "134/134 [==============================] - 17s 126ms/step - loss: 1.9536 - accuracy: 0.2530\n",
      "Epoch 3/10\n",
      "134/134 [==============================] - 17s 127ms/step - loss: 1.9391 - accuracy: 0.2575\n",
      "Epoch 4/10\n",
      "134/134 [==============================] - 16s 122ms/step - loss: 1.9292 - accuracy: 0.2678\n",
      "Epoch 5/10\n",
      "134/134 [==============================] - 16s 117ms/step - loss: 1.9310 - accuracy: 0.2659\n",
      "Epoch 6/10\n",
      "134/134 [==============================] - 16s 120ms/step - loss: 1.9258 - accuracy: 0.2732\n",
      "Epoch 7/10\n",
      "134/134 [==============================] - 16s 118ms/step - loss: 1.9133 - accuracy: 0.2760\n",
      "Epoch 8/10\n",
      "134/134 [==============================] - 16s 121ms/step - loss: 1.9059 - accuracy: 0.2816\n",
      "Epoch 9/10\n",
      "134/134 [==============================] - 17s 127ms/step - loss: 1.9003 - accuracy: 0.2762\n",
      "Epoch 10/10\n",
      "134/134 [==============================] - 17s 125ms/step - loss: 1.8938 - accuracy: 0.2863\n"
     ]
    },
    {
     "name": "stderr",
     "output_type": "stream",
     "text": [
      "/usr/local/lib/python3.10/dist-packages/keras/src/engine/training.py:3079: UserWarning: You are saving your model as an HDF5 file via `model.save()`. This file format is considered legacy. We recommend using instead the native Keras format, e.g. `model.save('my_model.keras')`.\n",
      "  saving_api.save_model(\n"
     ]
    },
    {
     "name": "stdout",
     "output_type": "stream",
     "text": [
      "34/34 [==============================] - 2s 37ms/step\n"
     ]
    },
    {
     "name": "stderr",
     "output_type": "stream",
     "text": [
      "Processing Folds:  60%|██████    | 3/5 [3:37:41<2:25:32, 4366.25s/it]"
     ]
    },
    {
     "name": "stdout",
     "output_type": "stream",
     "text": [
      "Loading data from: folds_transformed/fold_4_train_pca.csv\n",
      "Loading data from: folds_transformed/fold_4_test_pca.csv\n",
      "Training RF for P1 (sliderNeutralPos)\n",
      "Training CNN for P1 (sliderNeutralPos)\n",
      "Epoch 1/10\n",
      "134/134 [==============================] - 1s 6ms/step - loss: 1.9750 - accuracy: 0.2744\n",
      "Epoch 2/10\n",
      "134/134 [==============================] - 1s 6ms/step - loss: 1.7025 - accuracy: 0.3638\n",
      "Epoch 3/10\n",
      "134/134 [==============================] - 1s 6ms/step - loss: 1.5147 - accuracy: 0.4319\n",
      "Epoch 4/10\n",
      "134/134 [==============================] - 1s 6ms/step - loss: 1.3506 - accuracy: 0.5012\n",
      "Epoch 5/10\n",
      "134/134 [==============================] - 1s 6ms/step - loss: 1.1923 - accuracy: 0.5638\n",
      "Epoch 6/10\n",
      "134/134 [==============================] - 1s 6ms/step - loss: 1.0652 - accuracy: 0.6171\n",
      "Epoch 7/10\n",
      "134/134 [==============================] - 1s 6ms/step - loss: 0.9404 - accuracy: 0.6596\n",
      "Epoch 8/10\n",
      "134/134 [==============================] - 1s 6ms/step - loss: 0.8296 - accuracy: 0.7094\n",
      "Epoch 9/10\n",
      "134/134 [==============================] - 1s 6ms/step - loss: 0.7231 - accuracy: 0.7434\n",
      "Epoch 10/10\n",
      "134/134 [==============================] - 1s 6ms/step - loss: 0.6277 - accuracy: 0.7723\n",
      "35/35 [==============================] - 0s 2ms/step\n"
     ]
    },
    {
     "name": "stderr",
     "output_type": "stream",
     "text": [
      "/usr/local/lib/python3.10/dist-packages/keras/src/engine/training.py:3079: UserWarning: You are saving your model as an HDF5 file via `model.save()`. This file format is considered legacy. We recommend using instead the native Keras format, e.g. `model.save('my_model.keras')`.\n",
      "  saving_api.save_model(\n"
     ]
    },
    {
     "name": "stdout",
     "output_type": "stream",
     "text": [
      "Training LSTM for P1 (sliderNeutralPos)\n",
      "Epoch 1/10\n",
      "134/134 [==============================] - 8s 40ms/step - loss: 2.0729 - accuracy: 0.2469\n",
      "Epoch 2/10\n",
      "134/134 [==============================] - 5s 39ms/step - loss: 2.0109 - accuracy: 0.2570\n",
      "Epoch 3/10\n",
      "134/134 [==============================] - 5s 39ms/step - loss: 2.0041 - accuracy: 0.2629\n",
      "Epoch 4/10\n",
      "134/134 [==============================] - 5s 37ms/step - loss: 1.9960 - accuracy: 0.2570\n",
      "Epoch 5/10\n",
      "134/134 [==============================] - 5s 38ms/step - loss: 1.9935 - accuracy: 0.2631\n",
      "Epoch 6/10\n",
      "134/134 [==============================] - 5s 38ms/step - loss: 1.9876 - accuracy: 0.2622\n",
      "Epoch 7/10\n",
      "134/134 [==============================] - 5s 37ms/step - loss: 1.9785 - accuracy: 0.2732\n",
      "Epoch 8/10\n",
      "134/134 [==============================] - 5s 37ms/step - loss: 1.9755 - accuracy: 0.2716\n",
      "Epoch 9/10\n",
      "134/134 [==============================] - 5s 34ms/step - loss: 1.9797 - accuracy: 0.2688\n",
      "Epoch 10/10\n",
      "134/134 [==============================] - 5s 38ms/step - loss: 1.9756 - accuracy: 0.2697\n"
     ]
    },
    {
     "name": "stderr",
     "output_type": "stream",
     "text": [
      "/usr/local/lib/python3.10/dist-packages/keras/src/engine/training.py:3079: UserWarning: You are saving your model as an HDF5 file via `model.save()`. This file format is considered legacy. We recommend using instead the native Keras format, e.g. `model.save('my_model.keras')`.\n",
      "  saving_api.save_model(\n"
     ]
    },
    {
     "name": "stdout",
     "output_type": "stream",
     "text": [
      "35/35 [==============================] - 1s 12ms/step\n",
      "Training RF for N1 (sliderNeutralPos)\n",
      "Training CNN for N1 (sliderNeutralPos)\n",
      "Epoch 1/10\n",
      "134/134 [==============================] - 1s 6ms/step - loss: 2.0598 - accuracy: 0.2927\n",
      "Epoch 2/10\n",
      "134/134 [==============================] - 1s 6ms/step - loss: 1.7881 - accuracy: 0.3873\n",
      "Epoch 3/10\n",
      "134/134 [==============================] - 1s 6ms/step - loss: 1.5691 - accuracy: 0.4617\n",
      "Epoch 4/10\n",
      "134/134 [==============================] - 1s 6ms/step - loss: 1.3767 - accuracy: 0.5291\n",
      "Epoch 5/10\n",
      "134/134 [==============================] - 1s 6ms/step - loss: 1.2013 - accuracy: 0.5840\n",
      "Epoch 6/10\n",
      "134/134 [==============================] - 1s 6ms/step - loss: 1.0258 - accuracy: 0.6460\n",
      "Epoch 7/10\n",
      "134/134 [==============================] - 1s 6ms/step - loss: 0.8952 - accuracy: 0.6927\n",
      "Epoch 8/10\n",
      "134/134 [==============================] - 1s 6ms/step - loss: 0.7802 - accuracy: 0.7345\n",
      "Epoch 9/10\n",
      "134/134 [==============================] - 1s 6ms/step - loss: 0.6805 - accuracy: 0.7655\n",
      "Epoch 10/10\n",
      "134/134 [==============================] - 1s 6ms/step - loss: 0.5691 - accuracy: 0.8052\n",
      "35/35 [==============================] - 0s 2ms/step\n"
     ]
    },
    {
     "name": "stderr",
     "output_type": "stream",
     "text": [
      "/usr/local/lib/python3.10/dist-packages/keras/src/engine/training.py:3079: UserWarning: You are saving your model as an HDF5 file via `model.save()`. This file format is considered legacy. We recommend using instead the native Keras format, e.g. `model.save('my_model.keras')`.\n",
      "  saving_api.save_model(\n"
     ]
    },
    {
     "name": "stdout",
     "output_type": "stream",
     "text": [
      "Training LSTM for N1 (sliderNeutralPos)\n",
      "Epoch 1/10\n",
      "134/134 [==============================] - 8s 40ms/step - loss: 2.2179 - accuracy: 0.2113\n",
      "Epoch 2/10\n",
      "134/134 [==============================] - 5s 40ms/step - loss: 2.1799 - accuracy: 0.2216\n",
      "Epoch 3/10\n",
      "134/134 [==============================] - 5s 40ms/step - loss: 2.1728 - accuracy: 0.2298\n",
      "Epoch 4/10\n",
      "134/134 [==============================] - 5s 39ms/step - loss: 2.1725 - accuracy: 0.2249\n",
      "Epoch 5/10\n",
      "134/134 [==============================] - 5s 38ms/step - loss: 2.1713 - accuracy: 0.2272\n",
      "Epoch 6/10\n",
      "134/134 [==============================] - 5s 39ms/step - loss: 2.1703 - accuracy: 0.2303\n",
      "Epoch 7/10\n",
      "134/134 [==============================] - 5s 39ms/step - loss: 2.1656 - accuracy: 0.2291\n",
      "Epoch 8/10\n",
      "134/134 [==============================] - 5s 37ms/step - loss: 2.1658 - accuracy: 0.2322\n",
      "Epoch 9/10\n",
      "134/134 [==============================] - 5s 35ms/step - loss: 2.1692 - accuracy: 0.2237\n",
      "Epoch 10/10\n",
      "134/134 [==============================] - 5s 35ms/step - loss: 2.1573 - accuracy: 0.2270\n"
     ]
    },
    {
     "name": "stderr",
     "output_type": "stream",
     "text": [
      "/usr/local/lib/python3.10/dist-packages/keras/src/engine/training.py:3079: UserWarning: You are saving your model as an HDF5 file via `model.save()`. This file format is considered legacy. We recommend using instead the native Keras format, e.g. `model.save('my_model.keras')`.\n",
      "  saving_api.save_model(\n"
     ]
    },
    {
     "name": "stdout",
     "output_type": "stream",
     "text": [
      "35/35 [==============================] - 1s 12ms/step\n",
      "Training RF for P2 (sliderNeutralPos)\n",
      "Training CNN for P2 (sliderNeutralPos)\n",
      "Epoch 1/10\n",
      "134/134 [==============================] - 1s 6ms/step - loss: 1.9787 - accuracy: 0.2678\n",
      "Epoch 2/10\n",
      "134/134 [==============================] - 1s 6ms/step - loss: 1.7158 - accuracy: 0.3664\n",
      "Epoch 3/10\n",
      "134/134 [==============================] - 1s 6ms/step - loss: 1.5177 - accuracy: 0.4420\n",
      "Epoch 4/10\n",
      "134/134 [==============================] - 1s 6ms/step - loss: 1.3145 - accuracy: 0.5289\n",
      "Epoch 5/10\n",
      "134/134 [==============================] - 1s 6ms/step - loss: 1.1497 - accuracy: 0.6000\n",
      "Epoch 6/10\n",
      "134/134 [==============================] - 1s 6ms/step - loss: 0.9801 - accuracy: 0.6535\n",
      "Epoch 7/10\n",
      "134/134 [==============================] - 1s 6ms/step - loss: 0.8537 - accuracy: 0.6953\n",
      "Epoch 8/10\n",
      "134/134 [==============================] - 1s 6ms/step - loss: 0.7328 - accuracy: 0.7462\n",
      "Epoch 9/10\n",
      "134/134 [==============================] - 1s 6ms/step - loss: 0.6236 - accuracy: 0.7847\n",
      "Epoch 10/10\n",
      "134/134 [==============================] - 1s 6ms/step - loss: 0.5380 - accuracy: 0.8101\n",
      "35/35 [==============================] - 0s 2ms/step\n"
     ]
    },
    {
     "name": "stderr",
     "output_type": "stream",
     "text": [
      "/usr/local/lib/python3.10/dist-packages/keras/src/engine/training.py:3079: UserWarning: You are saving your model as an HDF5 file via `model.save()`. This file format is considered legacy. We recommend using instead the native Keras format, e.g. `model.save('my_model.keras')`.\n",
      "  saving_api.save_model(\n"
     ]
    },
    {
     "name": "stdout",
     "output_type": "stream",
     "text": [
      "Training LSTM for P2 (sliderNeutralPos)\n",
      "Epoch 1/10\n",
      "134/134 [==============================] - 8s 41ms/step - loss: 2.1073 - accuracy: 0.2073\n",
      "Epoch 2/10\n",
      "134/134 [==============================] - 6s 41ms/step - loss: 2.0308 - accuracy: 0.2188\n",
      "Epoch 3/10\n",
      "134/134 [==============================] - 5s 39ms/step - loss: 2.0285 - accuracy: 0.2075\n",
      "Epoch 4/10\n",
      "134/134 [==============================] - 5s 38ms/step - loss: 2.0212 - accuracy: 0.2176\n",
      "Epoch 5/10\n",
      "134/134 [==============================] - 5s 39ms/step - loss: 2.0184 - accuracy: 0.2218\n",
      "Epoch 6/10\n",
      "134/134 [==============================] - 5s 38ms/step - loss: 2.0108 - accuracy: 0.2190\n",
      "Epoch 7/10\n",
      "134/134 [==============================] - 5s 36ms/step - loss: 2.0124 - accuracy: 0.2218\n",
      "Epoch 8/10\n",
      "134/134 [==============================] - 5s 38ms/step - loss: 2.0022 - accuracy: 0.2228\n",
      "Epoch 9/10\n",
      "134/134 [==============================] - 5s 38ms/step - loss: 2.0025 - accuracy: 0.2204\n",
      "Epoch 10/10\n",
      "134/134 [==============================] - 5s 38ms/step - loss: 2.0007 - accuracy: 0.2237\n"
     ]
    },
    {
     "name": "stderr",
     "output_type": "stream",
     "text": [
      "/usr/local/lib/python3.10/dist-packages/keras/src/engine/training.py:3079: UserWarning: You are saving your model as an HDF5 file via `model.save()`. This file format is considered legacy. We recommend using instead the native Keras format, e.g. `model.save('my_model.keras')`.\n",
      "  saving_api.save_model(\n"
     ]
    },
    {
     "name": "stdout",
     "output_type": "stream",
     "text": [
      "35/35 [==============================] - 1s 13ms/step\n",
      "Training RF for N2 (sliderNeutralPos)\n",
      "Training CNN for N2 (sliderNeutralPos)\n",
      "Epoch 1/10\n",
      "134/134 [==============================] - 1s 6ms/step - loss: 1.8530 - accuracy: 0.3411\n",
      "Epoch 2/10\n",
      "134/134 [==============================] - 1s 6ms/step - loss: 1.5694 - accuracy: 0.4324\n",
      "Epoch 3/10\n",
      "134/134 [==============================] - 1s 6ms/step - loss: 1.3895 - accuracy: 0.4941\n",
      "Epoch 4/10\n",
      "134/134 [==============================] - 1s 6ms/step - loss: 1.2357 - accuracy: 0.5575\n",
      "Epoch 5/10\n",
      "134/134 [==============================] - 1s 6ms/step - loss: 1.0846 - accuracy: 0.6148\n",
      "Epoch 6/10\n",
      "134/134 [==============================] - 1s 6ms/step - loss: 0.9524 - accuracy: 0.6650\n",
      "Epoch 7/10\n",
      "134/134 [==============================] - 1s 6ms/step - loss: 0.8453 - accuracy: 0.7068\n",
      "Epoch 8/10\n",
      "134/134 [==============================] - 1s 6ms/step - loss: 0.7377 - accuracy: 0.7354\n",
      "Epoch 9/10\n",
      "134/134 [==============================] - 1s 6ms/step - loss: 0.6501 - accuracy: 0.7756\n",
      "Epoch 10/10\n",
      "134/134 [==============================] - 1s 6ms/step - loss: 0.5709 - accuracy: 0.7960\n",
      "35/35 [==============================] - 0s 2ms/step\n"
     ]
    },
    {
     "name": "stderr",
     "output_type": "stream",
     "text": [
      "/usr/local/lib/python3.10/dist-packages/keras/src/engine/training.py:3079: UserWarning: You are saving your model as an HDF5 file via `model.save()`. This file format is considered legacy. We recommend using instead the native Keras format, e.g. `model.save('my_model.keras')`.\n",
      "  saving_api.save_model(\n"
     ]
    },
    {
     "name": "stdout",
     "output_type": "stream",
     "text": [
      "Training LSTM for N2 (sliderNeutralPos)\n",
      "Epoch 1/10\n",
      "134/134 [==============================] - 8s 41ms/step - loss: 2.0412 - accuracy: 0.2505\n",
      "Epoch 2/10\n",
      "134/134 [==============================] - 5s 39ms/step - loss: 1.9619 - accuracy: 0.2535\n",
      "Epoch 3/10\n",
      "134/134 [==============================] - 5s 40ms/step - loss: 1.9589 - accuracy: 0.2446\n",
      "Epoch 4/10\n",
      "134/134 [==============================] - 5s 39ms/step - loss: 1.9529 - accuracy: 0.2538\n",
      "Epoch 5/10\n",
      "134/134 [==============================] - 5s 37ms/step - loss: 1.9471 - accuracy: 0.2620\n",
      "Epoch 6/10\n",
      "134/134 [==============================] - 5s 38ms/step - loss: 1.9464 - accuracy: 0.2653\n",
      "Epoch 7/10\n",
      "134/134 [==============================] - 5s 39ms/step - loss: 1.9400 - accuracy: 0.2596\n",
      "Epoch 8/10\n",
      "134/134 [==============================] - 5s 39ms/step - loss: 1.9440 - accuracy: 0.2646\n",
      "Epoch 9/10\n",
      "134/134 [==============================] - 5s 37ms/step - loss: 1.9395 - accuracy: 0.2660\n",
      "Epoch 10/10\n",
      "134/134 [==============================] - 5s 39ms/step - loss: 1.9367 - accuracy: 0.2643\n"
     ]
    },
    {
     "name": "stderr",
     "output_type": "stream",
     "text": [
      "/usr/local/lib/python3.10/dist-packages/keras/src/engine/training.py:3079: UserWarning: You are saving your model as an HDF5 file via `model.save()`. This file format is considered legacy. We recommend using instead the native Keras format, e.g. `model.save('my_model.keras')`.\n",
      "  saving_api.save_model(\n"
     ]
    },
    {
     "name": "stdout",
     "output_type": "stream",
     "text": [
      "35/35 [==============================] - 1s 13ms/step\n",
      "Training RF for N3 (sliderNeutralPos)\n",
      "Training CNN for N3 (sliderNeutralPos)\n",
      "Epoch 1/10\n",
      "134/134 [==============================] - 1s 6ms/step - loss: 1.9932 - accuracy: 0.2897\n",
      "Epoch 2/10\n",
      "134/134 [==============================] - 1s 6ms/step - loss: 1.7076 - accuracy: 0.3988\n",
      "Epoch 3/10\n",
      "134/134 [==============================] - 1s 6ms/step - loss: 1.5137 - accuracy: 0.4662\n",
      "Epoch 4/10\n",
      "134/134 [==============================] - 1s 6ms/step - loss: 1.3150 - accuracy: 0.5397\n",
      "Epoch 5/10\n",
      "134/134 [==============================] - 1s 6ms/step - loss: 1.1286 - accuracy: 0.6045\n",
      "Epoch 6/10\n",
      "134/134 [==============================] - 1s 6ms/step - loss: 0.9838 - accuracy: 0.6575\n",
      "Epoch 7/10\n",
      "134/134 [==============================] - 1s 6ms/step - loss: 0.8357 - accuracy: 0.7096\n",
      "Epoch 8/10\n",
      "134/134 [==============================] - 1s 6ms/step - loss: 0.7168 - accuracy: 0.7594\n",
      "Epoch 9/10\n",
      "134/134 [==============================] - 1s 6ms/step - loss: 0.6290 - accuracy: 0.7871\n",
      "Epoch 10/10\n",
      "134/134 [==============================] - 1s 6ms/step - loss: 0.5483 - accuracy: 0.8134\n",
      "35/35 [==============================] - 0s 2ms/step\n"
     ]
    },
    {
     "name": "stderr",
     "output_type": "stream",
     "text": [
      "/usr/local/lib/python3.10/dist-packages/keras/src/engine/training.py:3079: UserWarning: You are saving your model as an HDF5 file via `model.save()`. This file format is considered legacy. We recommend using instead the native Keras format, e.g. `model.save('my_model.keras')`.\n",
      "  saving_api.save_model(\n"
     ]
    },
    {
     "name": "stdout",
     "output_type": "stream",
     "text": [
      "Training LSTM for N3 (sliderNeutralPos)\n",
      "Epoch 1/10\n",
      "134/134 [==============================] - 8s 41ms/step - loss: 2.1434 - accuracy: 0.2209\n",
      "Epoch 2/10\n",
      "134/134 [==============================] - 5s 40ms/step - loss: 2.0929 - accuracy: 0.2340\n",
      "Epoch 3/10\n",
      "134/134 [==============================] - 5s 39ms/step - loss: 2.0885 - accuracy: 0.2357\n",
      "Epoch 4/10\n",
      "134/134 [==============================] - 5s 35ms/step - loss: 2.0890 - accuracy: 0.2458\n",
      "Epoch 5/10\n",
      "134/134 [==============================] - 5s 37ms/step - loss: 2.0880 - accuracy: 0.2460\n",
      "Epoch 6/10\n",
      "134/134 [==============================] - 5s 36ms/step - loss: 2.0845 - accuracy: 0.2455\n",
      "Epoch 7/10\n",
      "134/134 [==============================] - 5s 35ms/step - loss: 2.0878 - accuracy: 0.2458\n",
      "Epoch 8/10\n",
      "134/134 [==============================] - 5s 34ms/step - loss: 2.0835 - accuracy: 0.2465\n",
      "Epoch 9/10\n",
      "134/134 [==============================] - 4s 33ms/step - loss: 2.0825 - accuracy: 0.2465\n",
      "Epoch 10/10\n",
      "134/134 [==============================] - 5s 37ms/step - loss: 2.0783 - accuracy: 0.2465\n"
     ]
    },
    {
     "name": "stderr",
     "output_type": "stream",
     "text": [
      "/usr/local/lib/python3.10/dist-packages/keras/src/engine/training.py:3079: UserWarning: You are saving your model as an HDF5 file via `model.save()`. This file format is considered legacy. We recommend using instead the native Keras format, e.g. `model.save('my_model.keras')`.\n",
      "  saving_api.save_model(\n"
     ]
    },
    {
     "name": "stdout",
     "output_type": "stream",
     "text": [
      "35/35 [==============================] - 1s 13ms/step\n",
      "Training RF for P3 (sliderNeutralPos)\n",
      "Training CNN for P3 (sliderNeutralPos)\n",
      "Epoch 1/10\n",
      "134/134 [==============================] - 1s 6ms/step - loss: 2.0144 - accuracy: 0.2655\n",
      "Epoch 2/10\n",
      "134/134 [==============================] - 1s 6ms/step - loss: 1.7482 - accuracy: 0.3660\n",
      "Epoch 3/10\n",
      "134/134 [==============================] - 1s 6ms/step - loss: 1.5409 - accuracy: 0.4462\n",
      "Epoch 4/10\n",
      "134/134 [==============================] - 1s 6ms/step - loss: 1.3613 - accuracy: 0.5063\n",
      "Epoch 5/10\n",
      "134/134 [==============================] - 1s 6ms/step - loss: 1.1811 - accuracy: 0.5728\n",
      "Epoch 6/10\n",
      "134/134 [==============================] - 1s 6ms/step - loss: 1.0420 - accuracy: 0.6310\n",
      "Epoch 7/10\n",
      "134/134 [==============================] - 1s 5ms/step - loss: 0.8926 - accuracy: 0.6892\n",
      "Epoch 8/10\n",
      "134/134 [==============================] - 1s 6ms/step - loss: 0.7756 - accuracy: 0.7258\n",
      "Epoch 9/10\n",
      "134/134 [==============================] - 1s 6ms/step - loss: 0.6636 - accuracy: 0.7648\n",
      "Epoch 10/10\n",
      "134/134 [==============================] - 1s 6ms/step - loss: 0.5762 - accuracy: 0.7932\n",
      "35/35 [==============================] - 0s 2ms/step\n"
     ]
    },
    {
     "name": "stderr",
     "output_type": "stream",
     "text": [
      "/usr/local/lib/python3.10/dist-packages/keras/src/engine/training.py:3079: UserWarning: You are saving your model as an HDF5 file via `model.save()`. This file format is considered legacy. We recommend using instead the native Keras format, e.g. `model.save('my_model.keras')`.\n",
      "  saving_api.save_model(\n"
     ]
    },
    {
     "name": "stdout",
     "output_type": "stream",
     "text": [
      "Training LSTM for P3 (sliderNeutralPos)\n",
      "Epoch 1/10\n",
      "134/134 [==============================] - 8s 40ms/step - loss: 2.1679 - accuracy: 0.1850\n",
      "Epoch 2/10\n",
      "134/134 [==============================] - 5s 38ms/step - loss: 2.1147 - accuracy: 0.1906\n",
      "Epoch 3/10\n",
      "134/134 [==============================] - 5s 35ms/step - loss: 2.1154 - accuracy: 0.1869\n",
      "Epoch 4/10\n",
      "134/134 [==============================] - 5s 34ms/step - loss: 2.1030 - accuracy: 0.2002\n",
      "Epoch 5/10\n",
      "134/134 [==============================] - 5s 34ms/step - loss: 2.0895 - accuracy: 0.2146\n",
      "Epoch 6/10\n",
      "134/134 [==============================] - 5s 37ms/step - loss: 2.0867 - accuracy: 0.2176\n",
      "Epoch 7/10\n",
      "134/134 [==============================] - 5s 34ms/step - loss: 2.0782 - accuracy: 0.2185\n",
      "Epoch 8/10\n",
      "134/134 [==============================] - 5s 35ms/step - loss: 2.0714 - accuracy: 0.2200\n",
      "Epoch 9/10\n",
      "134/134 [==============================] - 4s 33ms/step - loss: 2.0688 - accuracy: 0.2167\n",
      "Epoch 10/10\n",
      "134/134 [==============================] - 5s 35ms/step - loss: 2.0615 - accuracy: 0.2190\n"
     ]
    },
    {
     "name": "stderr",
     "output_type": "stream",
     "text": [
      "/usr/local/lib/python3.10/dist-packages/keras/src/engine/training.py:3079: UserWarning: You are saving your model as an HDF5 file via `model.save()`. This file format is considered legacy. We recommend using instead the native Keras format, e.g. `model.save('my_model.keras')`.\n",
      "  saving_api.save_model(\n"
     ]
    },
    {
     "name": "stdout",
     "output_type": "stream",
     "text": [
      "35/35 [==============================] - 1s 13ms/step\n",
      "Training RF for SE1 (sliderNegPos)\n",
      "Training CNN for SE1 (sliderNegPos)\n",
      "Epoch 1/10\n",
      "134/134 [==============================] - 1s 6ms/step - loss: 1.1584 - accuracy: 0.5068\n",
      "Epoch 2/10\n",
      "134/134 [==============================] - 1s 6ms/step - loss: 0.9951 - accuracy: 0.5509\n",
      "Epoch 3/10\n",
      "134/134 [==============================] - 1s 6ms/step - loss: 0.9273 - accuracy: 0.5840\n",
      "Epoch 4/10\n",
      "134/134 [==============================] - 1s 6ms/step - loss: 0.8527 - accuracy: 0.6216\n",
      "Epoch 5/10\n",
      "134/134 [==============================] - 1s 6ms/step - loss: 0.7624 - accuracy: 0.6775\n",
      "Epoch 6/10\n",
      "134/134 [==============================] - 1s 6ms/step - loss: 0.6900 - accuracy: 0.7087\n",
      "Epoch 7/10\n",
      "134/134 [==============================] - 1s 6ms/step - loss: 0.5978 - accuracy: 0.7599\n",
      "Epoch 8/10\n",
      "134/134 [==============================] - 1s 6ms/step - loss: 0.5202 - accuracy: 0.7897\n",
      "Epoch 9/10\n",
      "134/134 [==============================] - 1s 6ms/step - loss: 0.4553 - accuracy: 0.8188\n",
      "Epoch 10/10\n",
      "134/134 [==============================] - 1s 6ms/step - loss: 0.3861 - accuracy: 0.8542\n",
      "35/35 [==============================] - 0s 2ms/step\n"
     ]
    },
    {
     "name": "stderr",
     "output_type": "stream",
     "text": [
      "/usr/local/lib/python3.10/dist-packages/keras/src/engine/training.py:3079: UserWarning: You are saving your model as an HDF5 file via `model.save()`. This file format is considered legacy. We recommend using instead the native Keras format, e.g. `model.save('my_model.keras')`.\n",
      "  saving_api.save_model(\n"
     ]
    },
    {
     "name": "stdout",
     "output_type": "stream",
     "text": [
      "Training LSTM for SE1 (sliderNegPos)\n",
      "Epoch 1/10\n",
      "134/134 [==============================] - 8s 41ms/step - loss: 1.2809 - accuracy: 0.4932\n",
      "Epoch 2/10\n",
      "134/134 [==============================] - 5s 40ms/step - loss: 1.1303 - accuracy: 0.5155\n",
      "Epoch 3/10\n",
      "134/134 [==============================] - 5s 38ms/step - loss: 1.1210 - accuracy: 0.5216\n",
      "Epoch 4/10\n",
      "134/134 [==============================] - 4s 33ms/step - loss: 1.1143 - accuracy: 0.5209\n",
      "Epoch 5/10\n",
      "134/134 [==============================] - 5s 34ms/step - loss: 1.1105 - accuracy: 0.5216\n",
      "Epoch 6/10\n",
      "134/134 [==============================] - 5s 35ms/step - loss: 1.1094 - accuracy: 0.5218\n",
      "Epoch 7/10\n",
      "134/134 [==============================] - 5s 37ms/step - loss: 1.1086 - accuracy: 0.5218\n",
      "Epoch 8/10\n",
      "134/134 [==============================] - 5s 39ms/step - loss: 1.1098 - accuracy: 0.5218\n",
      "Epoch 9/10\n",
      "134/134 [==============================] - 5s 38ms/step - loss: 1.1058 - accuracy: 0.5218\n",
      "Epoch 10/10\n",
      "134/134 [==============================] - 5s 38ms/step - loss: 1.1075 - accuracy: 0.5218\n"
     ]
    },
    {
     "name": "stderr",
     "output_type": "stream",
     "text": [
      "/usr/local/lib/python3.10/dist-packages/keras/src/engine/training.py:3079: UserWarning: You are saving your model as an HDF5 file via `model.save()`. This file format is considered legacy. We recommend using instead the native Keras format, e.g. `model.save('my_model.keras')`.\n",
      "  saving_api.save_model(\n"
     ]
    },
    {
     "name": "stdout",
     "output_type": "stream",
     "text": [
      "35/35 [==============================] - 1s 13ms/step\n",
      "Training RF for SE2 (sliderNeutralPos)\n",
      "Training CNN for SE2 (sliderNeutralPos)\n",
      "Epoch 1/10\n",
      "134/134 [==============================] - 1s 6ms/step - loss: 1.1518 - accuracy: 0.4744\n",
      "Epoch 2/10\n",
      "134/134 [==============================] - 1s 6ms/step - loss: 0.9865 - accuracy: 0.5474\n",
      "Epoch 3/10\n",
      "134/134 [==============================] - 1s 6ms/step - loss: 0.9052 - accuracy: 0.6042\n",
      "Epoch 4/10\n",
      "134/134 [==============================] - 1s 6ms/step - loss: 0.8239 - accuracy: 0.6568\n",
      "Epoch 5/10\n",
      "134/134 [==============================] - 1s 6ms/step - loss: 0.7434 - accuracy: 0.6906\n",
      "Epoch 6/10\n",
      "134/134 [==============================] - 1s 6ms/step - loss: 0.6732 - accuracy: 0.7249\n",
      "Epoch 7/10\n",
      "134/134 [==============================] - 1s 6ms/step - loss: 0.6053 - accuracy: 0.7580\n",
      "Epoch 8/10\n",
      "134/134 [==============================] - 1s 6ms/step - loss: 0.5276 - accuracy: 0.7969\n",
      "Epoch 9/10\n",
      "134/134 [==============================] - 1s 6ms/step - loss: 0.4691 - accuracy: 0.8110\n",
      "Epoch 10/10\n",
      "134/134 [==============================] - 1s 6ms/step - loss: 0.4167 - accuracy: 0.8399\n",
      "35/35 [==============================] - 0s 2ms/step\n"
     ]
    },
    {
     "name": "stderr",
     "output_type": "stream",
     "text": [
      "/usr/local/lib/python3.10/dist-packages/keras/src/engine/training.py:3079: UserWarning: You are saving your model as an HDF5 file via `model.save()`. This file format is considered legacy. We recommend using instead the native Keras format, e.g. `model.save('my_model.keras')`.\n",
      "  saving_api.save_model(\n"
     ]
    },
    {
     "name": "stdout",
     "output_type": "stream",
     "text": [
      "Training LSTM for SE2 (sliderNeutralPos)\n",
      "Epoch 1/10\n",
      "134/134 [==============================] - 8s 41ms/step - loss: 1.3538 - accuracy: 0.3977\n",
      "Epoch 2/10\n",
      "134/134 [==============================] - 5s 41ms/step - loss: 1.1418 - accuracy: 0.4167\n",
      "Epoch 3/10\n",
      "134/134 [==============================] - 5s 39ms/step - loss: 1.1372 - accuracy: 0.3969\n",
      "Epoch 4/10\n",
      "134/134 [==============================] - 5s 38ms/step - loss: 1.1335 - accuracy: 0.4092\n",
      "Epoch 5/10\n",
      "134/134 [==============================] - 5s 38ms/step - loss: 1.1280 - accuracy: 0.4127\n",
      "Epoch 6/10\n",
      "134/134 [==============================] - 5s 39ms/step - loss: 1.1277 - accuracy: 0.4167\n",
      "Epoch 7/10\n",
      "134/134 [==============================] - 5s 40ms/step - loss: 1.1257 - accuracy: 0.4117\n",
      "Epoch 8/10\n",
      "134/134 [==============================] - 5s 37ms/step - loss: 1.1250 - accuracy: 0.4169\n",
      "Epoch 9/10\n",
      "134/134 [==============================] - 5s 36ms/step - loss: 1.1272 - accuracy: 0.4131\n",
      "Epoch 10/10\n",
      "134/134 [==============================] - 5s 36ms/step - loss: 1.1213 - accuracy: 0.4134\n"
     ]
    },
    {
     "name": "stderr",
     "output_type": "stream",
     "text": [
      "/usr/local/lib/python3.10/dist-packages/keras/src/engine/training.py:3079: UserWarning: You are saving your model as an HDF5 file via `model.save()`. This file format is considered legacy. We recommend using instead the native Keras format, e.g. `model.save('my_model.keras')`.\n",
      "  saving_api.save_model(\n"
     ]
    },
    {
     "name": "stdout",
     "output_type": "stream",
     "text": [
      "35/35 [==============================] - 1s 12ms/step\n",
      "Training RF for SE3 (sliderNeutralPos)\n",
      "Training CNN for SE3 (sliderNeutralPos)\n",
      "Epoch 1/10\n",
      "134/134 [==============================] - 1s 6ms/step - loss: 1.1743 - accuracy: 0.4462\n",
      "Epoch 2/10\n",
      "134/134 [==============================] - 1s 6ms/step - loss: 1.0153 - accuracy: 0.5174\n",
      "Epoch 3/10\n",
      "134/134 [==============================] - 1s 6ms/step - loss: 0.9363 - accuracy: 0.5662\n",
      "Epoch 4/10\n",
      "134/134 [==============================] - 1s 6ms/step - loss: 0.8495 - accuracy: 0.6094\n",
      "Epoch 5/10\n",
      "134/134 [==============================] - 1s 6ms/step - loss: 0.7685 - accuracy: 0.6641\n",
      "Epoch 6/10\n",
      "134/134 [==============================] - 1s 6ms/step - loss: 0.6951 - accuracy: 0.7038\n",
      "Epoch 7/10\n",
      "134/134 [==============================] - 1s 6ms/step - loss: 0.6210 - accuracy: 0.7394\n",
      "Epoch 8/10\n",
      "134/134 [==============================] - 1s 6ms/step - loss: 0.5491 - accuracy: 0.7754\n",
      "Epoch 9/10\n",
      "134/134 [==============================] - 1s 6ms/step - loss: 0.4740 - accuracy: 0.8080\n",
      "Epoch 10/10\n",
      "134/134 [==============================] - 1s 6ms/step - loss: 0.4366 - accuracy: 0.8263\n",
      "35/35 [==============================] - 0s 2ms/step\n"
     ]
    },
    {
     "name": "stderr",
     "output_type": "stream",
     "text": [
      "/usr/local/lib/python3.10/dist-packages/keras/src/engine/training.py:3079: UserWarning: You are saving your model as an HDF5 file via `model.save()`. This file format is considered legacy. We recommend using instead the native Keras format, e.g. `model.save('my_model.keras')`.\n",
      "  saving_api.save_model(\n"
     ]
    },
    {
     "name": "stdout",
     "output_type": "stream",
     "text": [
      "Training LSTM for SE3 (sliderNeutralPos)\n",
      "Epoch 1/10\n",
      "134/134 [==============================] - 8s 41ms/step - loss: 1.3350 - accuracy: 0.3960\n",
      "Epoch 2/10\n",
      "134/134 [==============================] - 5s 39ms/step - loss: 1.1394 - accuracy: 0.3918\n",
      "Epoch 3/10\n",
      "134/134 [==============================] - 5s 39ms/step - loss: 1.1251 - accuracy: 0.3955\n",
      "Epoch 4/10\n",
      "134/134 [==============================] - 5s 38ms/step - loss: 1.1155 - accuracy: 0.3951\n",
      "Epoch 5/10\n",
      "134/134 [==============================] - 4s 33ms/step - loss: 1.1123 - accuracy: 0.3915\n",
      "Epoch 6/10\n",
      "134/134 [==============================] - 4s 32ms/step - loss: 1.1133 - accuracy: 0.3974\n",
      "Epoch 7/10\n",
      "134/134 [==============================] - 4s 31ms/step - loss: 1.1116 - accuracy: 0.3969\n",
      "Epoch 8/10\n",
      "134/134 [==============================] - 4s 33ms/step - loss: 1.1138 - accuracy: 0.3927\n",
      "Epoch 9/10\n",
      "134/134 [==============================] - 5s 37ms/step - loss: 1.1135 - accuracy: 0.3859\n",
      "Epoch 10/10\n",
      "134/134 [==============================] - 5s 36ms/step - loss: 1.1077 - accuracy: 0.3979\n"
     ]
    },
    {
     "name": "stderr",
     "output_type": "stream",
     "text": [
      "/usr/local/lib/python3.10/dist-packages/keras/src/engine/training.py:3079: UserWarning: You are saving your model as an HDF5 file via `model.save()`. This file format is considered legacy. We recommend using instead the native Keras format, e.g. `model.save('my_model.keras')`.\n",
      "  saving_api.save_model(\n"
     ]
    },
    {
     "name": "stdout",
     "output_type": "stream",
     "text": [
      "35/35 [==============================] - 1s 13ms/step\n",
      "Training RF for SE4 (sliderNeutralPos)\n",
      "Training CNN for SE4 (sliderNeutralPos)\n",
      "Epoch 1/10\n",
      "134/134 [==============================] - 1s 6ms/step - loss: 1.0666 - accuracy: 0.5577\n",
      "Epoch 2/10\n",
      "134/134 [==============================] - 1s 6ms/step - loss: 0.9170 - accuracy: 0.5986\n",
      "Epoch 3/10\n",
      "134/134 [==============================] - 1s 6ms/step - loss: 0.8382 - accuracy: 0.6300\n",
      "Epoch 4/10\n",
      "134/134 [==============================] - 1s 6ms/step - loss: 0.7609 - accuracy: 0.6739\n",
      "Epoch 5/10\n",
      "134/134 [==============================] - 1s 6ms/step - loss: 0.6878 - accuracy: 0.7108\n",
      "Epoch 6/10\n",
      "134/134 [==============================] - 1s 6ms/step - loss: 0.5934 - accuracy: 0.7512\n",
      "Epoch 7/10\n",
      "134/134 [==============================] - 1s 6ms/step - loss: 0.5326 - accuracy: 0.7805\n",
      "Epoch 8/10\n",
      "134/134 [==============================] - 1s 6ms/step - loss: 0.4686 - accuracy: 0.8162\n",
      "Epoch 9/10\n",
      "134/134 [==============================] - 1s 6ms/step - loss: 0.3974 - accuracy: 0.8455\n",
      "Epoch 10/10\n",
      "134/134 [==============================] - 1s 6ms/step - loss: 0.3440 - accuracy: 0.8667\n",
      "35/35 [==============================] - 0s 2ms/step\n"
     ]
    },
    {
     "name": "stderr",
     "output_type": "stream",
     "text": [
      "/usr/local/lib/python3.10/dist-packages/keras/src/engine/training.py:3079: UserWarning: You are saving your model as an HDF5 file via `model.save()`. This file format is considered legacy. We recommend using instead the native Keras format, e.g. `model.save('my_model.keras')`.\n",
      "  saving_api.save_model(\n"
     ]
    },
    {
     "name": "stdout",
     "output_type": "stream",
     "text": [
      "Training LSTM for SE4 (sliderNeutralPos)\n",
      "Epoch 1/10\n",
      "134/134 [==============================] - 8s 40ms/step - loss: 1.2400 - accuracy: 0.5613\n",
      "Epoch 2/10\n",
      "134/134 [==============================] - 5s 39ms/step - loss: 1.0624 - accuracy: 0.5746\n",
      "Epoch 3/10\n",
      "134/134 [==============================] - 5s 39ms/step - loss: 1.0498 - accuracy: 0.5761\n",
      "Epoch 4/10\n",
      "134/134 [==============================] - 5s 36ms/step - loss: 1.0466 - accuracy: 0.5777\n",
      "Epoch 5/10\n",
      "134/134 [==============================] - 4s 33ms/step - loss: 1.0446 - accuracy: 0.5772\n",
      "Epoch 6/10\n",
      "134/134 [==============================] - 5s 38ms/step - loss: 1.0419 - accuracy: 0.5772\n",
      "Epoch 7/10\n",
      "134/134 [==============================] - 5s 38ms/step - loss: 1.0450 - accuracy: 0.5772\n",
      "Epoch 8/10\n",
      "134/134 [==============================] - 5s 39ms/step - loss: 1.0370 - accuracy: 0.5772\n",
      "Epoch 9/10\n",
      "134/134 [==============================] - 5s 37ms/step - loss: 1.0399 - accuracy: 0.5772\n",
      "Epoch 10/10\n",
      "134/134 [==============================] - 5s 36ms/step - loss: 1.0353 - accuracy: 0.5772\n"
     ]
    },
    {
     "name": "stderr",
     "output_type": "stream",
     "text": [
      "/usr/local/lib/python3.10/dist-packages/keras/src/engine/training.py:3079: UserWarning: You are saving your model as an HDF5 file via `model.save()`. This file format is considered legacy. We recommend using instead the native Keras format, e.g. `model.save('my_model.keras')`.\n",
      "  saving_api.save_model(\n"
     ]
    },
    {
     "name": "stdout",
     "output_type": "stream",
     "text": [
      "35/35 [==============================] - 1s 13ms/step\n",
      "Training RF for MIL1 (sliderNegPos)\n",
      "Training CNN for MIL1 (sliderNegPos)\n",
      "Epoch 1/10\n",
      "134/134 [==============================] - 1s 6ms/step - loss: 1.8130 - accuracy: 0.3056\n",
      "Epoch 2/10\n",
      "134/134 [==============================] - 1s 6ms/step - loss: 1.5175 - accuracy: 0.4246\n",
      "Epoch 3/10\n",
      "134/134 [==============================] - 1s 6ms/step - loss: 1.3809 - accuracy: 0.4911\n",
      "Epoch 4/10\n",
      "134/134 [==============================] - 1s 6ms/step - loss: 1.2202 - accuracy: 0.5594\n",
      "Epoch 5/10\n",
      "134/134 [==============================] - 1s 6ms/step - loss: 1.0893 - accuracy: 0.6068\n",
      "Epoch 6/10\n",
      "134/134 [==============================] - 1s 6ms/step - loss: 0.9391 - accuracy: 0.6568\n",
      "Epoch 7/10\n",
      "134/134 [==============================] - 1s 6ms/step - loss: 0.8118 - accuracy: 0.7103\n",
      "Epoch 8/10\n",
      "134/134 [==============================] - 1s 6ms/step - loss: 0.7071 - accuracy: 0.7338\n",
      "Epoch 9/10\n",
      "134/134 [==============================] - 1s 6ms/step - loss: 0.6169 - accuracy: 0.7772\n",
      "Epoch 10/10\n",
      "134/134 [==============================] - 1s 6ms/step - loss: 0.5442 - accuracy: 0.8089\n",
      "35/35 [==============================] - 0s 2ms/step\n"
     ]
    },
    {
     "name": "stderr",
     "output_type": "stream",
     "text": [
      "/usr/local/lib/python3.10/dist-packages/keras/src/engine/training.py:3079: UserWarning: You are saving your model as an HDF5 file via `model.save()`. This file format is considered legacy. We recommend using instead the native Keras format, e.g. `model.save('my_model.keras')`.\n",
      "  saving_api.save_model(\n"
     ]
    },
    {
     "name": "stdout",
     "output_type": "stream",
     "text": [
      "Training LSTM for MIL1 (sliderNegPos)\n",
      "Epoch 1/10\n",
      "134/134 [==============================] - 8s 42ms/step - loss: 2.0198 - accuracy: 0.1862\n",
      "Epoch 2/10\n",
      "134/134 [==============================] - 5s 39ms/step - loss: 1.9154 - accuracy: 0.1908\n",
      "Epoch 3/10\n",
      "134/134 [==============================] - 5s 40ms/step - loss: 1.9118 - accuracy: 0.1808\n",
      "Epoch 4/10\n",
      "134/134 [==============================] - 5s 38ms/step - loss: 1.9092 - accuracy: 0.1812\n",
      "Epoch 5/10\n",
      "134/134 [==============================] - 5s 36ms/step - loss: 1.9025 - accuracy: 0.1913\n",
      "Epoch 6/10\n",
      "134/134 [==============================] - 4s 33ms/step - loss: 1.8984 - accuracy: 0.1918\n",
      "Epoch 7/10\n",
      "134/134 [==============================] - 5s 34ms/step - loss: 1.8972 - accuracy: 0.1974\n",
      "Epoch 8/10\n",
      "134/134 [==============================] - 5s 36ms/step - loss: 1.8934 - accuracy: 0.2176\n",
      "Epoch 9/10\n",
      "134/134 [==============================] - 5s 34ms/step - loss: 1.8893 - accuracy: 0.2228\n",
      "Epoch 10/10\n",
      "134/134 [==============================] - 5s 36ms/step - loss: 1.8846 - accuracy: 0.2272\n"
     ]
    },
    {
     "name": "stderr",
     "output_type": "stream",
     "text": [
      "/usr/local/lib/python3.10/dist-packages/keras/src/engine/training.py:3079: UserWarning: You are saving your model as an HDF5 file via `model.save()`. This file format is considered legacy. We recommend using instead the native Keras format, e.g. `model.save('my_model.keras')`.\n",
      "  saving_api.save_model(\n"
     ]
    },
    {
     "name": "stdout",
     "output_type": "stream",
     "text": [
      "35/35 [==============================] - 1s 12ms/step\n",
      "Training RF for MIL2 (sliderNeutralPos)\n",
      "Training CNN for MIL2 (sliderNeutralPos)\n",
      "Epoch 1/10\n",
      "134/134 [==============================] - 1s 6ms/step - loss: 1.6346 - accuracy: 0.3331\n",
      "Epoch 2/10\n",
      "134/134 [==============================] - 1s 6ms/step - loss: 1.4092 - accuracy: 0.4413\n",
      "Epoch 3/10\n",
      "134/134 [==============================] - 1s 6ms/step - loss: 1.2869 - accuracy: 0.4899\n",
      "Epoch 4/10\n",
      "134/134 [==============================] - 1s 6ms/step - loss: 1.1571 - accuracy: 0.5451\n",
      "Epoch 5/10\n",
      "134/134 [==============================] - 1s 6ms/step - loss: 1.0565 - accuracy: 0.5831\n",
      "Epoch 6/10\n",
      "134/134 [==============================] - 1s 6ms/step - loss: 0.9297 - accuracy: 0.6415\n",
      "Epoch 7/10\n",
      "134/134 [==============================] - 1s 6ms/step - loss: 0.8405 - accuracy: 0.6730\n",
      "Epoch 8/10\n",
      "134/134 [==============================] - 1s 6ms/step - loss: 0.7624 - accuracy: 0.7087\n",
      "Epoch 9/10\n",
      "134/134 [==============================] - 1s 6ms/step - loss: 0.6582 - accuracy: 0.7540\n",
      "Epoch 10/10\n",
      "134/134 [==============================] - 1s 6ms/step - loss: 0.5932 - accuracy: 0.7723\n",
      "35/35 [==============================] - 0s 2ms/step\n"
     ]
    },
    {
     "name": "stderr",
     "output_type": "stream",
     "text": [
      "/usr/local/lib/python3.10/dist-packages/keras/src/engine/training.py:3079: UserWarning: You are saving your model as an HDF5 file via `model.save()`. This file format is considered legacy. We recommend using instead the native Keras format, e.g. `model.save('my_model.keras')`.\n",
      "  saving_api.save_model(\n"
     ]
    },
    {
     "name": "stdout",
     "output_type": "stream",
     "text": [
      "Training LSTM for MIL2 (sliderNeutralPos)\n",
      "Epoch 1/10\n",
      "134/134 [==============================] - 8s 41ms/step - loss: 1.7943 - accuracy: 0.2610\n",
      "Epoch 2/10\n",
      "134/134 [==============================] - 5s 40ms/step - loss: 1.6692 - accuracy: 0.2742\n",
      "Epoch 3/10\n",
      "134/134 [==============================] - 5s 38ms/step - loss: 1.6668 - accuracy: 0.2709\n",
      "Epoch 4/10\n",
      "134/134 [==============================] - 4s 33ms/step - loss: 1.6619 - accuracy: 0.2890\n",
      "Epoch 5/10\n",
      "134/134 [==============================] - 5s 34ms/step - loss: 1.6584 - accuracy: 0.2885\n",
      "Epoch 6/10\n",
      "134/134 [==============================] - 5s 34ms/step - loss: 1.6533 - accuracy: 0.2932\n",
      "Epoch 7/10\n",
      "134/134 [==============================] - 5s 36ms/step - loss: 1.6549 - accuracy: 0.2930\n",
      "Epoch 8/10\n",
      "134/134 [==============================] - 5s 39ms/step - loss: 1.6542 - accuracy: 0.2894\n",
      "Epoch 9/10\n",
      "134/134 [==============================] - 5s 38ms/step - loss: 1.6528 - accuracy: 0.2934\n",
      "Epoch 10/10\n",
      "134/134 [==============================] - 5s 39ms/step - loss: 1.6544 - accuracy: 0.2944\n"
     ]
    },
    {
     "name": "stderr",
     "output_type": "stream",
     "text": [
      "/usr/local/lib/python3.10/dist-packages/keras/src/engine/training.py:3079: UserWarning: You are saving your model as an HDF5 file via `model.save()`. This file format is considered legacy. We recommend using instead the native Keras format, e.g. `model.save('my_model.keras')`.\n",
      "  saving_api.save_model(\n"
     ]
    },
    {
     "name": "stdout",
     "output_type": "stream",
     "text": [
      "35/35 [==============================] - 1s 13ms/step\n",
      "Training RF for MIL3 (sliderNeutralPos)\n",
      "Training CNN for MIL3 (sliderNeutralPos)\n",
      "Epoch 1/10\n",
      "134/134 [==============================] - 1s 6ms/step - loss: 1.6761 - accuracy: 0.3404\n",
      "Epoch 2/10\n",
      "134/134 [==============================] - 1s 6ms/step - loss: 1.4751 - accuracy: 0.4150\n",
      "Epoch 3/10\n",
      "134/134 [==============================] - 1s 6ms/step - loss: 1.3524 - accuracy: 0.4641\n",
      "Epoch 4/10\n",
      "134/134 [==============================] - 1s 6ms/step - loss: 1.2305 - accuracy: 0.5157\n",
      "Epoch 5/10\n",
      "134/134 [==============================] - 1s 6ms/step - loss: 1.1098 - accuracy: 0.5770\n",
      "Epoch 6/10\n",
      "134/134 [==============================] - 1s 6ms/step - loss: 1.0025 - accuracy: 0.6188\n",
      "Epoch 7/10\n",
      "134/134 [==============================] - 1s 6ms/step - loss: 0.8993 - accuracy: 0.6552\n",
      "Epoch 8/10\n",
      "134/134 [==============================] - 1s 6ms/step - loss: 0.8094 - accuracy: 0.6955\n",
      "Epoch 9/10\n",
      "134/134 [==============================] - 1s 6ms/step - loss: 0.7007 - accuracy: 0.7430\n",
      "Epoch 10/10\n",
      "134/134 [==============================] - 1s 6ms/step - loss: 0.6280 - accuracy: 0.7704\n",
      "35/35 [==============================] - 0s 2ms/step\n"
     ]
    },
    {
     "name": "stderr",
     "output_type": "stream",
     "text": [
      "/usr/local/lib/python3.10/dist-packages/keras/src/engine/training.py:3079: UserWarning: You are saving your model as an HDF5 file via `model.save()`. This file format is considered legacy. We recommend using instead the native Keras format, e.g. `model.save('my_model.keras')`.\n",
      "  saving_api.save_model(\n"
     ]
    },
    {
     "name": "stdout",
     "output_type": "stream",
     "text": [
      "Training LSTM for MIL3 (sliderNeutralPos)\n",
      "Epoch 1/10\n",
      "134/134 [==============================] - 12s 41ms/step - loss: 1.8275 - accuracy: 0.3099\n",
      "Epoch 2/10\n",
      "134/134 [==============================] - 5s 37ms/step - loss: 1.7211 - accuracy: 0.3092\n",
      "Epoch 3/10\n",
      "134/134 [==============================] - 5s 35ms/step - loss: 1.7050 - accuracy: 0.3178\n",
      "Epoch 4/10\n",
      "134/134 [==============================] - 5s 36ms/step - loss: 1.7046 - accuracy: 0.3251\n",
      "Epoch 5/10\n",
      "134/134 [==============================] - 5s 35ms/step - loss: 1.7033 - accuracy: 0.3263\n",
      "Epoch 6/10\n",
      "134/134 [==============================] - 4s 32ms/step - loss: 1.7003 - accuracy: 0.3268\n",
      "Epoch 7/10\n",
      "134/134 [==============================] - 5s 35ms/step - loss: 1.6989 - accuracy: 0.3289\n",
      "Epoch 8/10\n",
      "134/134 [==============================] - 5s 40ms/step - loss: 1.6992 - accuracy: 0.3286\n",
      "Epoch 9/10\n",
      "134/134 [==============================] - 5s 38ms/step - loss: 1.6967 - accuracy: 0.3289\n",
      "Epoch 10/10\n",
      "134/134 [==============================] - 5s 34ms/step - loss: 1.6953 - accuracy: 0.3286\n"
     ]
    },
    {
     "name": "stderr",
     "output_type": "stream",
     "text": [
      "/usr/local/lib/python3.10/dist-packages/keras/src/engine/training.py:3079: UserWarning: You are saving your model as an HDF5 file via `model.save()`. This file format is considered legacy. We recommend using instead the native Keras format, e.g. `model.save('my_model.keras')`.\n",
      "  saving_api.save_model(\n"
     ]
    },
    {
     "name": "stdout",
     "output_type": "stream",
     "text": [
      "35/35 [==============================] - 1s 12ms/step\n",
      "Training RF for MIL4 (sliderNeutralPos)\n",
      "Training CNN for MIL4 (sliderNeutralPos)\n",
      "Epoch 1/10\n",
      "134/134 [==============================] - 1s 6ms/step - loss: 1.7906 - accuracy: 0.3092\n",
      "Epoch 2/10\n",
      "134/134 [==============================] - 1s 6ms/step - loss: 1.5623 - accuracy: 0.3995\n",
      "Epoch 3/10\n",
      "134/134 [==============================] - 1s 5ms/step - loss: 1.3956 - accuracy: 0.4667\n",
      "Epoch 4/10\n",
      "134/134 [==============================] - 1s 6ms/step - loss: 1.2402 - accuracy: 0.5385\n",
      "Epoch 5/10\n",
      "134/134 [==============================] - 1s 6ms/step - loss: 1.1100 - accuracy: 0.5854\n",
      "Epoch 6/10\n",
      "134/134 [==============================] - 1s 6ms/step - loss: 0.9742 - accuracy: 0.6392\n",
      "Epoch 7/10\n",
      "134/134 [==============================] - 1s 6ms/step - loss: 0.8498 - accuracy: 0.6897\n",
      "Epoch 8/10\n",
      "134/134 [==============================] - 1s 6ms/step - loss: 0.7311 - accuracy: 0.7369\n",
      "Epoch 9/10\n",
      "134/134 [==============================] - 1s 6ms/step - loss: 0.6451 - accuracy: 0.7692\n",
      "Epoch 10/10\n",
      "134/134 [==============================] - 1s 5ms/step - loss: 0.5476 - accuracy: 0.8082\n",
      "35/35 [==============================] - 0s 2ms/step\n"
     ]
    },
    {
     "name": "stderr",
     "output_type": "stream",
     "text": [
      "/usr/local/lib/python3.10/dist-packages/keras/src/engine/training.py:3079: UserWarning: You are saving your model as an HDF5 file via `model.save()`. This file format is considered legacy. We recommend using instead the native Keras format, e.g. `model.save('my_model.keras')`.\n",
      "  saving_api.save_model(\n"
     ]
    },
    {
     "name": "stdout",
     "output_type": "stream",
     "text": [
      "Training LSTM for MIL4 (sliderNeutralPos)\n",
      "Epoch 1/10\n",
      "134/134 [==============================] - 8s 41ms/step - loss: 1.9500 - accuracy: 0.2615\n",
      "Epoch 2/10\n",
      "134/134 [==============================] - 5s 41ms/step - loss: 1.8509 - accuracy: 0.2728\n",
      "Epoch 3/10\n",
      "134/134 [==============================] - 5s 40ms/step - loss: 1.8375 - accuracy: 0.2761\n",
      "Epoch 4/10\n",
      "134/134 [==============================] - 5s 39ms/step - loss: 1.8357 - accuracy: 0.2803\n",
      "Epoch 5/10\n",
      "134/134 [==============================] - 5s 36ms/step - loss: 1.8279 - accuracy: 0.2840\n",
      "Epoch 6/10\n",
      "134/134 [==============================] - 5s 35ms/step - loss: 1.8250 - accuracy: 0.2815\n",
      "Epoch 7/10\n",
      "134/134 [==============================] - 5s 36ms/step - loss: 1.8147 - accuracy: 0.2847\n",
      "Epoch 8/10\n",
      "134/134 [==============================] - 5s 38ms/step - loss: 1.8134 - accuracy: 0.2829\n",
      "Epoch 9/10\n",
      "134/134 [==============================] - 5s 38ms/step - loss: 1.8074 - accuracy: 0.2840\n",
      "Epoch 10/10\n",
      "134/134 [==============================] - 5s 39ms/step - loss: 1.8048 - accuracy: 0.2880\n"
     ]
    },
    {
     "name": "stderr",
     "output_type": "stream",
     "text": [
      "/usr/local/lib/python3.10/dist-packages/keras/src/engine/training.py:3079: UserWarning: You are saving your model as an HDF5 file via `model.save()`. This file format is considered legacy. We recommend using instead the native Keras format, e.g. `model.save('my_model.keras')`.\n",
      "  saving_api.save_model(\n"
     ]
    },
    {
     "name": "stdout",
     "output_type": "stream",
     "text": [
      "35/35 [==============================] - 1s 13ms/step\n",
      "Training RF for MIL5 (sliderNeutralPos)\n",
      "Training CNN for MIL5 (sliderNeutralPos)\n",
      "Epoch 1/10\n",
      "134/134 [==============================] - 1s 6ms/step - loss: 1.7381 - accuracy: 0.3272\n",
      "Epoch 2/10\n",
      "134/134 [==============================] - 1s 6ms/step - loss: 1.4917 - accuracy: 0.4127\n",
      "Epoch 3/10\n",
      "134/134 [==============================] - 1s 6ms/step - loss: 1.3440 - accuracy: 0.4869\n",
      "Epoch 4/10\n",
      "134/134 [==============================] - 1s 6ms/step - loss: 1.2018 - accuracy: 0.5430\n",
      "Epoch 5/10\n",
      "134/134 [==============================] - 1s 6ms/step - loss: 1.0645 - accuracy: 0.5899\n",
      "Epoch 6/10\n",
      "134/134 [==============================] - 1s 6ms/step - loss: 0.9274 - accuracy: 0.6547\n",
      "Epoch 7/10\n",
      "134/134 [==============================] - 1s 6ms/step - loss: 0.8015 - accuracy: 0.7101\n",
      "Epoch 8/10\n",
      "134/134 [==============================] - 1s 6ms/step - loss: 0.7064 - accuracy: 0.7425\n",
      "Epoch 9/10\n",
      "134/134 [==============================] - 1s 6ms/step - loss: 0.6097 - accuracy: 0.7822\n",
      "Epoch 10/10\n",
      "134/134 [==============================] - 1s 6ms/step - loss: 0.5402 - accuracy: 0.8113\n",
      "35/35 [==============================] - 0s 2ms/step\n"
     ]
    },
    {
     "name": "stderr",
     "output_type": "stream",
     "text": [
      "/usr/local/lib/python3.10/dist-packages/keras/src/engine/training.py:3079: UserWarning: You are saving your model as an HDF5 file via `model.save()`. This file format is considered legacy. We recommend using instead the native Keras format, e.g. `model.save('my_model.keras')`.\n",
      "  saving_api.save_model(\n"
     ]
    },
    {
     "name": "stdout",
     "output_type": "stream",
     "text": [
      "Training LSTM for MIL5 (sliderNeutralPos)\n",
      "Epoch 1/10\n",
      "134/134 [==============================] - 8s 41ms/step - loss: 1.9111 - accuracy: 0.2181\n",
      "Epoch 2/10\n",
      "134/134 [==============================] - 5s 37ms/step - loss: 1.8050 - accuracy: 0.2310\n",
      "Epoch 3/10\n",
      "134/134 [==============================] - 5s 36ms/step - loss: 1.7966 - accuracy: 0.2286\n",
      "Epoch 4/10\n",
      "134/134 [==============================] - 5s 37ms/step - loss: 1.7892 - accuracy: 0.2437\n",
      "Epoch 5/10\n",
      "134/134 [==============================] - 5s 36ms/step - loss: 1.7825 - accuracy: 0.2430\n",
      "Epoch 6/10\n",
      "134/134 [==============================] - 5s 37ms/step - loss: 1.7837 - accuracy: 0.2380\n",
      "Epoch 7/10\n",
      "134/134 [==============================] - 5s 39ms/step - loss: 1.7833 - accuracy: 0.2441\n",
      "Epoch 8/10\n",
      "134/134 [==============================] - 5s 39ms/step - loss: 1.7819 - accuracy: 0.2467\n",
      "Epoch 9/10\n",
      "134/134 [==============================] - 5s 39ms/step - loss: 1.7787 - accuracy: 0.2437\n",
      "Epoch 10/10\n",
      "134/134 [==============================] - 5s 40ms/step - loss: 1.7799 - accuracy: 0.2446\n"
     ]
    },
    {
     "name": "stderr",
     "output_type": "stream",
     "text": [
      "/usr/local/lib/python3.10/dist-packages/keras/src/engine/training.py:3079: UserWarning: You are saving your model as an HDF5 file via `model.save()`. This file format is considered legacy. We recommend using instead the native Keras format, e.g. `model.save('my_model.keras')`.\n",
      "  saving_api.save_model(\n"
     ]
    },
    {
     "name": "stdout",
     "output_type": "stream",
     "text": [
      "35/35 [==============================] - 1s 14ms/step\n",
      "Training RF for PRO1 (sliderNeutralPos)\n",
      "Training CNN for PRO1 (sliderNeutralPos)\n",
      "Epoch 1/10\n",
      "134/134 [==============================] - 1s 6ms/step - loss: 2.0517 - accuracy: 0.2657\n",
      "Epoch 2/10\n",
      "134/134 [==============================] - 1s 6ms/step - loss: 1.7914 - accuracy: 0.3491\n",
      "Epoch 3/10\n",
      "134/134 [==============================] - 1s 6ms/step - loss: 1.5905 - accuracy: 0.4303\n",
      "Epoch 4/10\n",
      "134/134 [==============================] - 1s 6ms/step - loss: 1.3874 - accuracy: 0.5127\n",
      "Epoch 5/10\n",
      "134/134 [==============================] - 1s 6ms/step - loss: 1.2306 - accuracy: 0.5587\n",
      "Epoch 6/10\n",
      "134/134 [==============================] - 1s 6ms/step - loss: 1.0609 - accuracy: 0.6308\n",
      "Epoch 7/10\n",
      "134/134 [==============================] - 1s 6ms/step - loss: 0.9061 - accuracy: 0.6850\n",
      "Epoch 8/10\n",
      "134/134 [==============================] - 1s 6ms/step - loss: 0.7802 - accuracy: 0.7228\n",
      "Epoch 9/10\n",
      "134/134 [==============================] - 1s 6ms/step - loss: 0.6790 - accuracy: 0.7599\n",
      "Epoch 10/10\n",
      "134/134 [==============================] - 1s 6ms/step - loss: 0.6159 - accuracy: 0.7817\n",
      "35/35 [==============================] - 0s 2ms/step\n"
     ]
    },
    {
     "name": "stderr",
     "output_type": "stream",
     "text": [
      "/usr/local/lib/python3.10/dist-packages/keras/src/engine/training.py:3079: UserWarning: You are saving your model as an HDF5 file via `model.save()`. This file format is considered legacy. We recommend using instead the native Keras format, e.g. `model.save('my_model.keras')`.\n",
      "  saving_api.save_model(\n"
     ]
    },
    {
     "name": "stdout",
     "output_type": "stream",
     "text": [
      "Training LSTM for PRO1 (sliderNeutralPos)\n",
      "Epoch 1/10\n",
      "134/134 [==============================] - 8s 42ms/step - loss: 2.2141 - accuracy: 0.1969\n",
      "Epoch 2/10\n",
      "134/134 [==============================] - 6s 41ms/step - loss: 2.1730 - accuracy: 0.1984\n",
      "Epoch 3/10\n",
      "134/134 [==============================] - 5s 39ms/step - loss: 2.1627 - accuracy: 0.2138\n",
      "Epoch 4/10\n",
      "134/134 [==============================] - 5s 39ms/step - loss: 2.1535 - accuracy: 0.2153\n",
      "Epoch 5/10\n",
      "134/134 [==============================] - 5s 40ms/step - loss: 2.1471 - accuracy: 0.2237\n",
      "Epoch 6/10\n",
      "134/134 [==============================] - 5s 39ms/step - loss: 2.1441 - accuracy: 0.2258\n",
      "Epoch 7/10\n",
      "134/134 [==============================] - 5s 36ms/step - loss: 2.1379 - accuracy: 0.2256\n",
      "Epoch 8/10\n",
      "134/134 [==============================] - 5s 36ms/step - loss: 2.1402 - accuracy: 0.2270\n",
      "Epoch 9/10\n",
      "134/134 [==============================] - 5s 35ms/step - loss: 2.1344 - accuracy: 0.2331\n",
      "Epoch 10/10\n",
      "134/134 [==============================] - 5s 34ms/step - loss: 2.1275 - accuracy: 0.2261\n"
     ]
    },
    {
     "name": "stderr",
     "output_type": "stream",
     "text": [
      "/usr/local/lib/python3.10/dist-packages/keras/src/engine/training.py:3079: UserWarning: You are saving your model as an HDF5 file via `model.save()`. This file format is considered legacy. We recommend using instead the native Keras format, e.g. `model.save('my_model.keras')`.\n",
      "  saving_api.save_model(\n"
     ]
    },
    {
     "name": "stdout",
     "output_type": "stream",
     "text": [
      "35/35 [==============================] - 1s 13ms/step\n",
      "Training RF for PRO2 (sliderNeutralPos)\n",
      "Training CNN for PRO2 (sliderNeutralPos)\n",
      "Epoch 1/10\n",
      "134/134 [==============================] - 1s 6ms/step - loss: 2.0004 - accuracy: 0.2491\n",
      "Epoch 2/10\n",
      "134/134 [==============================] - 1s 6ms/step - loss: 1.7284 - accuracy: 0.3596\n",
      "Epoch 3/10\n",
      "134/134 [==============================] - 1s 6ms/step - loss: 1.5493 - accuracy: 0.4256\n",
      "Epoch 4/10\n",
      "134/134 [==============================] - 1s 6ms/step - loss: 1.3720 - accuracy: 0.5023\n",
      "Epoch 5/10\n",
      "134/134 [==============================] - 1s 6ms/step - loss: 1.2293 - accuracy: 0.5613\n",
      "Epoch 6/10\n",
      "134/134 [==============================] - 1s 6ms/step - loss: 1.0726 - accuracy: 0.6129\n",
      "Epoch 7/10\n",
      "134/134 [==============================] - 1s 6ms/step - loss: 0.9690 - accuracy: 0.6460\n",
      "Epoch 8/10\n",
      "134/134 [==============================] - 1s 6ms/step - loss: 0.8476 - accuracy: 0.6995\n",
      "Epoch 9/10\n",
      "134/134 [==============================] - 1s 6ms/step - loss: 0.7439 - accuracy: 0.7352\n",
      "Epoch 10/10\n",
      "134/134 [==============================] - 1s 6ms/step - loss: 0.6513 - accuracy: 0.7678\n",
      " 1/35 [..............................] - ETA: 1s"
     ]
    },
    {
     "name": "stderr",
     "output_type": "stream",
     "text": [
      "/usr/local/lib/python3.10/dist-packages/keras/src/engine/training.py:3079: UserWarning: You are saving your model as an HDF5 file via `model.save()`. This file format is considered legacy. We recommend using instead the native Keras format, e.g. `model.save('my_model.keras')`.\n",
      "  saving_api.save_model(\n"
     ]
    },
    {
     "name": "stdout",
     "output_type": "stream",
     "text": [
      "35/35 [==============================] - 0s 2ms/step\n",
      "Training LSTM for PRO2 (sliderNeutralPos)\n",
      "Epoch 1/10\n",
      "134/134 [==============================] - 8s 41ms/step - loss: 2.1486 - accuracy: 0.1742\n",
      "Epoch 2/10\n",
      "134/134 [==============================] - 5s 38ms/step - loss: 2.0942 - accuracy: 0.1723\n",
      "Epoch 3/10\n",
      "134/134 [==============================] - 5s 39ms/step - loss: 2.0846 - accuracy: 0.1796\n",
      "Epoch 4/10\n",
      "134/134 [==============================] - 5s 40ms/step - loss: 2.0717 - accuracy: 0.1901\n",
      "Epoch 5/10\n",
      "134/134 [==============================] - 5s 40ms/step - loss: 2.0576 - accuracy: 0.2012\n",
      "Epoch 6/10\n",
      "134/134 [==============================] - 5s 39ms/step - loss: 2.0551 - accuracy: 0.1904\n",
      "Epoch 7/10\n",
      "134/134 [==============================] - 5s 38ms/step - loss: 2.0465 - accuracy: 0.1864\n",
      "Epoch 8/10\n",
      "134/134 [==============================] - 5s 36ms/step - loss: 2.0438 - accuracy: 0.1845\n",
      "Epoch 9/10\n",
      "134/134 [==============================] - 5s 39ms/step - loss: 2.0384 - accuracy: 0.1894\n",
      "Epoch 10/10\n",
      "134/134 [==============================] - 6s 41ms/step - loss: 2.0341 - accuracy: 0.1974\n"
     ]
    },
    {
     "name": "stderr",
     "output_type": "stream",
     "text": [
      "/usr/local/lib/python3.10/dist-packages/keras/src/engine/training.py:3079: UserWarning: You are saving your model as an HDF5 file via `model.save()`. This file format is considered legacy. We recommend using instead the native Keras format, e.g. `model.save('my_model.keras')`.\n",
      "  saving_api.save_model(\n"
     ]
    },
    {
     "name": "stdout",
     "output_type": "stream",
     "text": [
      "35/35 [==============================] - 1s 14ms/step\n",
      "Training RF for PRO3 (sliderNeutralPos)\n",
      "Training CNN for PRO3 (sliderNeutralPos)\n",
      "Epoch 1/10\n",
      "134/134 [==============================] - 1s 6ms/step - loss: 1.9761 - accuracy: 0.2735\n",
      "Epoch 2/10\n",
      "134/134 [==============================] - 1s 6ms/step - loss: 1.7009 - accuracy: 0.3704\n",
      "Epoch 3/10\n",
      "134/134 [==============================] - 1s 6ms/step - loss: 1.4940 - accuracy: 0.4634\n",
      "Epoch 4/10\n",
      "134/134 [==============================] - 1s 6ms/step - loss: 1.3330 - accuracy: 0.5293\n",
      "Epoch 5/10\n",
      "134/134 [==============================] - 1s 6ms/step - loss: 1.1743 - accuracy: 0.5829\n",
      "Epoch 6/10\n",
      "134/134 [==============================] - 1s 6ms/step - loss: 1.0147 - accuracy: 0.6430\n",
      "Epoch 7/10\n",
      "134/134 [==============================] - 1s 6ms/step - loss: 0.8988 - accuracy: 0.6772\n",
      "Epoch 8/10\n",
      "134/134 [==============================] - 1s 6ms/step - loss: 0.7854 - accuracy: 0.7251\n",
      "Epoch 9/10\n",
      "134/134 [==============================] - 1s 6ms/step - loss: 0.6967 - accuracy: 0.7636\n",
      "Epoch 10/10\n",
      "134/134 [==============================] - 1s 6ms/step - loss: 0.5893 - accuracy: 0.7944\n",
      "35/35 [==============================] - 0s 2ms/step\n"
     ]
    },
    {
     "name": "stderr",
     "output_type": "stream",
     "text": [
      "/usr/local/lib/python3.10/dist-packages/keras/src/engine/training.py:3079: UserWarning: You are saving your model as an HDF5 file via `model.save()`. This file format is considered legacy. We recommend using instead the native Keras format, e.g. `model.save('my_model.keras')`.\n",
      "  saving_api.save_model(\n"
     ]
    },
    {
     "name": "stdout",
     "output_type": "stream",
     "text": [
      "Training LSTM for PRO3 (sliderNeutralPos)\n",
      "Epoch 1/10\n",
      "134/134 [==============================] - 8s 42ms/step - loss: 2.1175 - accuracy: 0.2157\n",
      "Epoch 2/10\n",
      "134/134 [==============================] - 5s 39ms/step - loss: 2.0504 - accuracy: 0.2085\n",
      "Epoch 3/10\n",
      "134/134 [==============================] - 5s 35ms/step - loss: 2.0415 - accuracy: 0.2110\n",
      "Epoch 4/10\n",
      "134/134 [==============================] - 5s 37ms/step - loss: 2.0404 - accuracy: 0.2122\n",
      "Epoch 5/10\n",
      "134/134 [==============================] - 5s 38ms/step - loss: 2.0355 - accuracy: 0.2129\n",
      "Epoch 6/10\n",
      "134/134 [==============================] - 5s 38ms/step - loss: 2.0289 - accuracy: 0.2232\n",
      "Epoch 7/10\n",
      "134/134 [==============================] - 5s 39ms/step - loss: 2.0230 - accuracy: 0.2153\n",
      "Epoch 8/10\n",
      "134/134 [==============================] - 5s 38ms/step - loss: 2.0154 - accuracy: 0.2249\n",
      "Epoch 9/10\n",
      "134/134 [==============================] - 5s 35ms/step - loss: 2.0143 - accuracy: 0.2134\n",
      "Epoch 10/10\n",
      "134/134 [==============================] - 5s 36ms/step - loss: 2.0029 - accuracy: 0.2209\n"
     ]
    },
    {
     "name": "stderr",
     "output_type": "stream",
     "text": [
      "/usr/local/lib/python3.10/dist-packages/keras/src/engine/training.py:3079: UserWarning: You are saving your model as an HDF5 file via `model.save()`. This file format is considered legacy. We recommend using instead the native Keras format, e.g. `model.save('my_model.keras')`.\n",
      "  saving_api.save_model(\n"
     ]
    },
    {
     "name": "stdout",
     "output_type": "stream",
     "text": [
      "35/35 [==============================] - 1s 12ms/step\n",
      "Loading data from: folds_transformed/fold_4_train_scaled.csv\n",
      "Loading data from: folds_transformed/fold_4_test_scaled.csv\n",
      "Training RF for P1 (sliderNeutralPos)\n",
      "Training CNN for P1 (sliderNeutralPos)\n",
      "Epoch 1/10\n",
      "134/134 [==============================] - 1s 6ms/step - loss: 1.9240 - accuracy: 0.2904\n",
      "Epoch 2/10\n",
      "134/134 [==============================] - 1s 6ms/step - loss: 1.6729 - accuracy: 0.3791\n",
      "Epoch 3/10\n",
      "134/134 [==============================] - 1s 6ms/step - loss: 1.4890 - accuracy: 0.4484\n",
      "Epoch 4/10\n",
      "134/134 [==============================] - 1s 6ms/step - loss: 1.3089 - accuracy: 0.5146\n",
      "Epoch 5/10\n",
      "134/134 [==============================] - 1s 6ms/step - loss: 1.1548 - accuracy: 0.5737\n",
      "Epoch 6/10\n",
      "134/134 [==============================] - 1s 6ms/step - loss: 1.0087 - accuracy: 0.6338\n",
      "Epoch 7/10\n",
      "134/134 [==============================] - 1s 6ms/step - loss: 0.8950 - accuracy: 0.6803\n",
      "Epoch 8/10\n",
      "134/134 [==============================] - 1s 6ms/step - loss: 0.7827 - accuracy: 0.7155\n",
      "Epoch 9/10\n",
      "134/134 [==============================] - 1s 6ms/step - loss: 0.6798 - accuracy: 0.7481\n",
      "Epoch 10/10\n",
      "134/134 [==============================] - 1s 6ms/step - loss: 0.6077 - accuracy: 0.7810\n",
      "23/35 [==================>...........] - ETA: 0s"
     ]
    },
    {
     "name": "stderr",
     "output_type": "stream",
     "text": [
      "/usr/local/lib/python3.10/dist-packages/keras/src/engine/training.py:3079: UserWarning: You are saving your model as an HDF5 file via `model.save()`. This file format is considered legacy. We recommend using instead the native Keras format, e.g. `model.save('my_model.keras')`.\n",
      "  saving_api.save_model(\n"
     ]
    },
    {
     "name": "stdout",
     "output_type": "stream",
     "text": [
      "35/35 [==============================] - 0s 2ms/step\n",
      "Training LSTM for P1 (sliderNeutralPos)\n",
      "Epoch 1/10\n",
      "134/134 [==============================] - 19s 127ms/step - loss: 2.0963 - accuracy: 0.2491\n",
      "Epoch 2/10\n",
      "134/134 [==============================] - 17s 123ms/step - loss: 2.0203 - accuracy: 0.2469\n",
      "Epoch 3/10\n",
      "134/134 [==============================] - 16s 120ms/step - loss: 2.0052 - accuracy: 0.2535\n",
      "Epoch 4/10\n",
      "134/134 [==============================] - 17s 126ms/step - loss: 2.0033 - accuracy: 0.2549\n",
      "Epoch 5/10\n",
      "134/134 [==============================] - 17s 123ms/step - loss: 2.0014 - accuracy: 0.2580\n",
      "Epoch 6/10\n",
      "134/134 [==============================] - 15s 113ms/step - loss: 1.9989 - accuracy: 0.2599\n",
      "Epoch 7/10\n",
      "134/134 [==============================] - 17s 125ms/step - loss: 1.9981 - accuracy: 0.2545\n",
      "Epoch 8/10\n",
      "134/134 [==============================] - 15s 110ms/step - loss: 1.9957 - accuracy: 0.2624\n",
      "Epoch 9/10\n",
      "134/134 [==============================] - 14s 106ms/step - loss: 1.9813 - accuracy: 0.2585\n",
      "Epoch 10/10\n",
      "134/134 [==============================] - 16s 120ms/step - loss: 1.9719 - accuracy: 0.2631\n"
     ]
    },
    {
     "name": "stderr",
     "output_type": "stream",
     "text": [
      "/usr/local/lib/python3.10/dist-packages/keras/src/engine/training.py:3079: UserWarning: You are saving your model as an HDF5 file via `model.save()`. This file format is considered legacy. We recommend using instead the native Keras format, e.g. `model.save('my_model.keras')`.\n",
      "  saving_api.save_model(\n"
     ]
    },
    {
     "name": "stdout",
     "output_type": "stream",
     "text": [
      "35/35 [==============================] - 2s 36ms/step\n",
      "Training RF for N1 (sliderNeutralPos)\n",
      "Training CNN for N1 (sliderNeutralPos)\n",
      "Epoch 1/10\n",
      "134/134 [==============================] - 1s 6ms/step - loss: 2.0361 - accuracy: 0.2925\n",
      "Epoch 2/10\n",
      "134/134 [==============================] - 1s 6ms/step - loss: 1.7320 - accuracy: 0.3988\n",
      "Epoch 3/10\n",
      "134/134 [==============================] - 1s 6ms/step - loss: 1.4934 - accuracy: 0.4789\n",
      "Epoch 4/10\n",
      "134/134 [==============================] - 1s 6ms/step - loss: 1.2832 - accuracy: 0.5477\n",
      "Epoch 5/10\n",
      "134/134 [==============================] - 1s 6ms/step - loss: 1.1122 - accuracy: 0.6092\n",
      "Epoch 6/10\n",
      "134/134 [==============================] - 1s 6ms/step - loss: 0.9808 - accuracy: 0.6603\n",
      "Epoch 7/10\n",
      "134/134 [==============================] - 1s 6ms/step - loss: 0.8596 - accuracy: 0.6880\n",
      "Epoch 8/10\n",
      "134/134 [==============================] - 1s 6ms/step - loss: 0.7258 - accuracy: 0.7481\n",
      "Epoch 9/10\n",
      "134/134 [==============================] - 1s 6ms/step - loss: 0.6391 - accuracy: 0.7833\n",
      "Epoch 10/10\n",
      "134/134 [==============================] - 1s 6ms/step - loss: 0.5867 - accuracy: 0.7984\n",
      "35/35 [==============================] - 0s 2ms/step\n"
     ]
    },
    {
     "name": "stderr",
     "output_type": "stream",
     "text": [
      "/usr/local/lib/python3.10/dist-packages/keras/src/engine/training.py:3079: UserWarning: You are saving your model as an HDF5 file via `model.save()`. This file format is considered legacy. We recommend using instead the native Keras format, e.g. `model.save('my_model.keras')`.\n",
      "  saving_api.save_model(\n"
     ]
    },
    {
     "name": "stdout",
     "output_type": "stream",
     "text": [
      "Training LSTM for N1 (sliderNeutralPos)\n",
      "Epoch 1/10\n",
      "134/134 [==============================] - 19s 126ms/step - loss: 2.2183 - accuracy: 0.2153\n",
      "Epoch 2/10\n",
      "134/134 [==============================] - 17s 127ms/step - loss: 2.1721 - accuracy: 0.2223\n",
      "Epoch 3/10\n",
      "134/134 [==============================] - 17s 125ms/step - loss: 2.1627 - accuracy: 0.2223\n",
      "Epoch 4/10\n",
      "134/134 [==============================] - 16s 122ms/step - loss: 2.1637 - accuracy: 0.2249\n",
      "Epoch 5/10\n",
      "134/134 [==============================] - 14s 108ms/step - loss: 2.1473 - accuracy: 0.2286\n",
      "Epoch 6/10\n",
      "134/134 [==============================] - 16s 120ms/step - loss: 2.1375 - accuracy: 0.2352\n",
      "Epoch 7/10\n",
      "134/134 [==============================] - 16s 120ms/step - loss: 2.1400 - accuracy: 0.2289\n",
      "Epoch 8/10\n",
      "134/134 [==============================] - 15s 110ms/step - loss: 2.1123 - accuracy: 0.2347\n",
      "Epoch 9/10\n",
      "134/134 [==============================] - 15s 115ms/step - loss: 2.1126 - accuracy: 0.2423\n",
      "Epoch 10/10\n",
      "134/134 [==============================] - 15s 113ms/step - loss: 2.0919 - accuracy: 0.2427\n"
     ]
    },
    {
     "name": "stderr",
     "output_type": "stream",
     "text": [
      "/usr/local/lib/python3.10/dist-packages/keras/src/engine/training.py:3079: UserWarning: You are saving your model as an HDF5 file via `model.save()`. This file format is considered legacy. We recommend using instead the native Keras format, e.g. `model.save('my_model.keras')`.\n",
      "  saving_api.save_model(\n"
     ]
    },
    {
     "name": "stdout",
     "output_type": "stream",
     "text": [
      "35/35 [==============================] - 2s 33ms/step\n",
      "Training RF for P2 (sliderNeutralPos)\n",
      "Training CNN for P2 (sliderNeutralPos)\n",
      "Epoch 1/10\n",
      "134/134 [==============================] - 1s 6ms/step - loss: 1.9769 - accuracy: 0.2627\n",
      "Epoch 2/10\n",
      "134/134 [==============================] - 1s 6ms/step - loss: 1.7326 - accuracy: 0.3596\n",
      "Epoch 3/10\n",
      "134/134 [==============================] - 1s 6ms/step - loss: 1.5506 - accuracy: 0.4308\n",
      "Epoch 4/10\n",
      "134/134 [==============================] - 1s 6ms/step - loss: 1.3634 - accuracy: 0.4984\n",
      "Epoch 5/10\n",
      "134/134 [==============================] - 1s 6ms/step - loss: 1.1892 - accuracy: 0.5737\n",
      "Epoch 6/10\n",
      "134/134 [==============================] - 1s 6ms/step - loss: 1.0527 - accuracy: 0.6308\n",
      "Epoch 7/10\n",
      "134/134 [==============================] - 1s 6ms/step - loss: 0.9187 - accuracy: 0.6709\n",
      "Epoch 8/10\n",
      "134/134 [==============================] - 1s 6ms/step - loss: 0.8436 - accuracy: 0.6958\n",
      "Epoch 9/10\n",
      "134/134 [==============================] - 1s 6ms/step - loss: 0.7391 - accuracy: 0.7371\n",
      "Epoch 10/10\n",
      "134/134 [==============================] - 1s 6ms/step - loss: 0.6610 - accuracy: 0.7653\n",
      "35/35 [==============================] - 0s 2ms/step\n"
     ]
    },
    {
     "name": "stderr",
     "output_type": "stream",
     "text": [
      "/usr/local/lib/python3.10/dist-packages/keras/src/engine/training.py:3079: UserWarning: You are saving your model as an HDF5 file via `model.save()`. This file format is considered legacy. We recommend using instead the native Keras format, e.g. `model.save('my_model.keras')`.\n",
      "  saving_api.save_model(\n"
     ]
    },
    {
     "name": "stdout",
     "output_type": "stream",
     "text": [
      "Training LSTM for P2 (sliderNeutralPos)\n",
      "Epoch 1/10\n",
      "134/134 [==============================] - 19s 129ms/step - loss: 2.1081 - accuracy: 0.2047\n",
      "Epoch 2/10\n",
      "134/134 [==============================] - 17s 127ms/step - loss: 2.0351 - accuracy: 0.2099\n",
      "Epoch 3/10\n",
      "134/134 [==============================] - 17s 126ms/step - loss: 2.0266 - accuracy: 0.2101\n",
      "Epoch 4/10\n",
      "134/134 [==============================] - 17s 126ms/step - loss: 2.0175 - accuracy: 0.2143\n",
      "Epoch 5/10\n",
      "134/134 [==============================] - 17s 125ms/step - loss: 2.0225 - accuracy: 0.2120\n",
      "Epoch 6/10\n",
      "134/134 [==============================] - 16s 119ms/step - loss: 2.0167 - accuracy: 0.2131\n",
      "Epoch 7/10\n",
      "134/134 [==============================] - 16s 117ms/step - loss: 2.0121 - accuracy: 0.2157\n",
      "Epoch 8/10\n",
      "134/134 [==============================] - 17s 125ms/step - loss: 2.0089 - accuracy: 0.2319\n",
      "Epoch 9/10\n",
      "134/134 [==============================] - 17s 126ms/step - loss: 2.0017 - accuracy: 0.2192\n",
      "Epoch 10/10\n",
      "134/134 [==============================] - 17s 128ms/step - loss: 1.9932 - accuracy: 0.2244\n"
     ]
    },
    {
     "name": "stderr",
     "output_type": "stream",
     "text": [
      "/usr/local/lib/python3.10/dist-packages/keras/src/engine/training.py:3079: UserWarning: You are saving your model as an HDF5 file via `model.save()`. This file format is considered legacy. We recommend using instead the native Keras format, e.g. `model.save('my_model.keras')`.\n",
      "  saving_api.save_model(\n"
     ]
    },
    {
     "name": "stdout",
     "output_type": "stream",
     "text": [
      "35/35 [==============================] - 2s 36ms/step\n",
      "Training RF for N2 (sliderNeutralPos)\n",
      "Training CNN for N2 (sliderNeutralPos)\n",
      "Epoch 1/10\n",
      "134/134 [==============================] - 1s 6ms/step - loss: 1.8177 - accuracy: 0.3498\n",
      "Epoch 2/10\n",
      "134/134 [==============================] - 1s 6ms/step - loss: 1.5481 - accuracy: 0.4469\n",
      "Epoch 3/10\n",
      "134/134 [==============================] - 1s 6ms/step - loss: 1.3426 - accuracy: 0.5127\n",
      "Epoch 4/10\n",
      "134/134 [==============================] - 1s 6ms/step - loss: 1.1857 - accuracy: 0.5772\n",
      "Epoch 5/10\n",
      "134/134 [==============================] - 1s 6ms/step - loss: 1.0374 - accuracy: 0.6275\n",
      "Epoch 6/10\n",
      "134/134 [==============================] - 1s 6ms/step - loss: 0.9107 - accuracy: 0.6800\n",
      "Epoch 7/10\n",
      "134/134 [==============================] - 1s 6ms/step - loss: 0.8103 - accuracy: 0.7167\n",
      "Epoch 8/10\n",
      "134/134 [==============================] - 1s 6ms/step - loss: 0.7200 - accuracy: 0.7474\n",
      "Epoch 9/10\n",
      "134/134 [==============================] - 1s 6ms/step - loss: 0.6183 - accuracy: 0.7840\n",
      "Epoch 10/10\n",
      "134/134 [==============================] - 1s 6ms/step - loss: 0.5462 - accuracy: 0.8059\n",
      "35/35 [==============================] - 0s 2ms/step\n"
     ]
    },
    {
     "name": "stderr",
     "output_type": "stream",
     "text": [
      "/usr/local/lib/python3.10/dist-packages/keras/src/engine/training.py:3079: UserWarning: You are saving your model as an HDF5 file via `model.save()`. This file format is considered legacy. We recommend using instead the native Keras format, e.g. `model.save('my_model.keras')`.\n",
      "  saving_api.save_model(\n"
     ]
    },
    {
     "name": "stdout",
     "output_type": "stream",
     "text": [
      "Training LSTM for N2 (sliderNeutralPos)\n",
      "Epoch 1/10\n",
      "134/134 [==============================] - 19s 127ms/step - loss: 2.0520 - accuracy: 0.2491\n",
      "Epoch 2/10\n",
      "134/134 [==============================] - 16s 120ms/step - loss: 1.9598 - accuracy: 0.2521\n",
      "Epoch 3/10\n",
      "134/134 [==============================] - 16s 118ms/step - loss: 1.9428 - accuracy: 0.2495\n",
      "Epoch 4/10\n",
      "134/134 [==============================] - 16s 120ms/step - loss: 1.9233 - accuracy: 0.2718\n",
      "Epoch 5/10\n",
      "134/134 [==============================] - 16s 120ms/step - loss: 1.9148 - accuracy: 0.2638\n",
      "Epoch 6/10\n",
      "134/134 [==============================] - 17s 124ms/step - loss: 1.9116 - accuracy: 0.2800\n",
      "Epoch 7/10\n",
      "134/134 [==============================] - 17s 126ms/step - loss: 1.8977 - accuracy: 0.2697\n",
      "Epoch 8/10\n",
      "134/134 [==============================] - 15s 110ms/step - loss: 1.8940 - accuracy: 0.2709\n",
      "Epoch 9/10\n",
      "134/134 [==============================] - 16s 120ms/step - loss: 1.8876 - accuracy: 0.2826\n",
      "Epoch 10/10\n",
      "134/134 [==============================] - 16s 121ms/step - loss: 1.8789 - accuracy: 0.2847\n"
     ]
    },
    {
     "name": "stderr",
     "output_type": "stream",
     "text": [
      "/usr/local/lib/python3.10/dist-packages/keras/src/engine/training.py:3079: UserWarning: You are saving your model as an HDF5 file via `model.save()`. This file format is considered legacy. We recommend using instead the native Keras format, e.g. `model.save('my_model.keras')`.\n",
      "  saving_api.save_model(\n"
     ]
    },
    {
     "name": "stdout",
     "output_type": "stream",
     "text": [
      "35/35 [==============================] - 2s 35ms/step\n",
      "Training RF for N3 (sliderNeutralPos)\n",
      "Training CNN for N3 (sliderNeutralPos)\n",
      "Epoch 1/10\n",
      "134/134 [==============================] - 1s 6ms/step - loss: 1.9660 - accuracy: 0.2998\n",
      "Epoch 2/10\n",
      "134/134 [==============================] - 1s 6ms/step - loss: 1.6596 - accuracy: 0.4214\n",
      "Epoch 3/10\n",
      "134/134 [==============================] - 1s 6ms/step - loss: 1.4394 - accuracy: 0.4979\n",
      "Epoch 4/10\n",
      "134/134 [==============================] - 1s 6ms/step - loss: 1.2559 - accuracy: 0.5577\n",
      "Epoch 5/10\n",
      "134/134 [==============================] - 1s 6ms/step - loss: 1.1065 - accuracy: 0.6200\n",
      "Epoch 6/10\n",
      "134/134 [==============================] - 1s 6ms/step - loss: 0.9776 - accuracy: 0.6589\n",
      "Epoch 7/10\n",
      "134/134 [==============================] - 1s 6ms/step - loss: 0.8425 - accuracy: 0.7106\n",
      "Epoch 8/10\n",
      "134/134 [==============================] - 1s 6ms/step - loss: 0.7325 - accuracy: 0.7380\n",
      "Epoch 9/10\n",
      "134/134 [==============================] - 1s 6ms/step - loss: 0.6473 - accuracy: 0.7714\n",
      "Epoch 10/10\n",
      "134/134 [==============================] - 1s 6ms/step - loss: 0.5756 - accuracy: 0.7925\n",
      "35/35 [==============================] - 0s 2ms/step\n"
     ]
    },
    {
     "name": "stderr",
     "output_type": "stream",
     "text": [
      "/usr/local/lib/python3.10/dist-packages/keras/src/engine/training.py:3079: UserWarning: You are saving your model as an HDF5 file via `model.save()`. This file format is considered legacy. We recommend using instead the native Keras format, e.g. `model.save('my_model.keras')`.\n",
      "  saving_api.save_model(\n"
     ]
    },
    {
     "name": "stdout",
     "output_type": "stream",
     "text": [
      "Training LSTM for N3 (sliderNeutralPos)\n",
      "Epoch 1/10\n",
      "134/134 [==============================] - 19s 128ms/step - loss: 2.1499 - accuracy: 0.2411\n",
      "Epoch 2/10\n",
      "134/134 [==============================] - 17s 125ms/step - loss: 2.0805 - accuracy: 0.2505\n",
      "Epoch 3/10\n",
      "134/134 [==============================] - 17s 124ms/step - loss: 2.0677 - accuracy: 0.2540\n",
      "Epoch 4/10\n",
      "134/134 [==============================] - 17s 127ms/step - loss: 2.0536 - accuracy: 0.2563\n",
      "Epoch 5/10\n",
      "134/134 [==============================] - 17s 127ms/step - loss: 2.0367 - accuracy: 0.2664\n",
      "Epoch 6/10\n",
      "134/134 [==============================] - 17s 127ms/step - loss: 2.0314 - accuracy: 0.2711\n",
      "Epoch 7/10\n",
      "134/134 [==============================] - 17s 125ms/step - loss: 2.0257 - accuracy: 0.2631\n",
      "Epoch 8/10\n",
      "134/134 [==============================] - 17s 125ms/step - loss: 2.0120 - accuracy: 0.2737\n",
      "Epoch 9/10\n",
      "134/134 [==============================] - 17s 125ms/step - loss: 2.0039 - accuracy: 0.2728\n",
      "Epoch 10/10\n",
      "134/134 [==============================] - 17s 124ms/step - loss: 1.9858 - accuracy: 0.2772\n"
     ]
    },
    {
     "name": "stderr",
     "output_type": "stream",
     "text": [
      "/usr/local/lib/python3.10/dist-packages/keras/src/engine/training.py:3079: UserWarning: You are saving your model as an HDF5 file via `model.save()`. This file format is considered legacy. We recommend using instead the native Keras format, e.g. `model.save('my_model.keras')`.\n",
      "  saving_api.save_model(\n"
     ]
    },
    {
     "name": "stdout",
     "output_type": "stream",
     "text": [
      "35/35 [==============================] - 2s 34ms/step\n",
      "Training RF for P3 (sliderNeutralPos)\n",
      "Training CNN for P3 (sliderNeutralPos)\n",
      "Epoch 1/10\n",
      "134/134 [==============================] - 1s 6ms/step - loss: 2.0182 - accuracy: 0.2646\n",
      "Epoch 2/10\n",
      "134/134 [==============================] - 1s 6ms/step - loss: 1.7450 - accuracy: 0.3575\n",
      "Epoch 3/10\n",
      "134/134 [==============================] - 1s 6ms/step - loss: 1.5441 - accuracy: 0.4340\n",
      "Epoch 4/10\n",
      "134/134 [==============================] - 1s 6ms/step - loss: 1.3507 - accuracy: 0.5007\n",
      "Epoch 5/10\n",
      "134/134 [==============================] - 1s 6ms/step - loss: 1.1960 - accuracy: 0.5678\n",
      "Epoch 6/10\n",
      "134/134 [==============================] - 1s 6ms/step - loss: 1.0468 - accuracy: 0.6300\n",
      "Epoch 7/10\n",
      "134/134 [==============================] - 1s 6ms/step - loss: 0.9054 - accuracy: 0.6777\n",
      "Epoch 8/10\n",
      "134/134 [==============================] - 1s 6ms/step - loss: 0.7976 - accuracy: 0.7096\n",
      "Epoch 9/10\n",
      "134/134 [==============================] - 1s 6ms/step - loss: 0.7049 - accuracy: 0.7507\n",
      "Epoch 10/10\n",
      "134/134 [==============================] - 1s 6ms/step - loss: 0.6008 - accuracy: 0.7852\n",
      "35/35 [==============================] - 0s 2ms/step\n"
     ]
    },
    {
     "name": "stderr",
     "output_type": "stream",
     "text": [
      "/usr/local/lib/python3.10/dist-packages/keras/src/engine/training.py:3079: UserWarning: You are saving your model as an HDF5 file via `model.save()`. This file format is considered legacy. We recommend using instead the native Keras format, e.g. `model.save('my_model.keras')`.\n",
      "  saving_api.save_model(\n"
     ]
    },
    {
     "name": "stdout",
     "output_type": "stream",
     "text": [
      "Training LSTM for P3 (sliderNeutralPos)\n",
      "Epoch 1/10\n",
      "134/134 [==============================] - 19s 128ms/step - loss: 2.1775 - accuracy: 0.1918\n",
      "Epoch 2/10\n",
      "134/134 [==============================] - 17s 125ms/step - loss: 2.1129 - accuracy: 0.1979\n",
      "Epoch 3/10\n",
      "134/134 [==============================] - 17s 126ms/step - loss: 2.1026 - accuracy: 0.1967\n",
      "Epoch 4/10\n",
      "134/134 [==============================] - 17s 128ms/step - loss: 2.0886 - accuracy: 0.2185\n",
      "Epoch 5/10\n",
      "134/134 [==============================] - 17s 126ms/step - loss: 2.0815 - accuracy: 0.2200\n",
      "Epoch 6/10\n",
      "134/134 [==============================] - 17s 126ms/step - loss: 2.0704 - accuracy: 0.2138\n",
      "Epoch 7/10\n",
      "134/134 [==============================] - 17s 123ms/step - loss: 2.0623 - accuracy: 0.2310\n",
      "Epoch 8/10\n",
      "134/134 [==============================] - 17s 126ms/step - loss: 2.0506 - accuracy: 0.2369\n",
      "Epoch 9/10\n",
      "134/134 [==============================] - 17s 125ms/step - loss: 2.0389 - accuracy: 0.2439\n",
      "Epoch 10/10\n",
      "134/134 [==============================] - 17s 129ms/step - loss: 2.0259 - accuracy: 0.2404\n"
     ]
    },
    {
     "name": "stderr",
     "output_type": "stream",
     "text": [
      "/usr/local/lib/python3.10/dist-packages/keras/src/engine/training.py:3079: UserWarning: You are saving your model as an HDF5 file via `model.save()`. This file format is considered legacy. We recommend using instead the native Keras format, e.g. `model.save('my_model.keras')`.\n",
      "  saving_api.save_model(\n"
     ]
    },
    {
     "name": "stdout",
     "output_type": "stream",
     "text": [
      "35/35 [==============================] - 2s 36ms/step\n",
      "Training RF for SE1 (sliderNegPos)\n",
      "Training CNN for SE1 (sliderNegPos)\n",
      "Epoch 1/10\n",
      "134/134 [==============================] - 1s 6ms/step - loss: 1.1446 - accuracy: 0.5134\n",
      "Epoch 2/10\n",
      "134/134 [==============================] - 1s 6ms/step - loss: 0.9929 - accuracy: 0.5505\n",
      "Epoch 3/10\n",
      "134/134 [==============================] - 1s 6ms/step - loss: 0.9233 - accuracy: 0.5913\n",
      "Epoch 4/10\n",
      "134/134 [==============================] - 1s 6ms/step - loss: 0.8527 - accuracy: 0.6207\n",
      "Epoch 5/10\n",
      "134/134 [==============================] - 1s 6ms/step - loss: 0.7803 - accuracy: 0.6552\n",
      "Epoch 6/10\n",
      "134/134 [==============================] - 1s 6ms/step - loss: 0.7098 - accuracy: 0.7026\n",
      "Epoch 7/10\n",
      "134/134 [==============================] - 1s 6ms/step - loss: 0.6464 - accuracy: 0.7284\n",
      "Epoch 8/10\n",
      "134/134 [==============================] - 1s 6ms/step - loss: 0.5782 - accuracy: 0.7556\n",
      "Epoch 9/10\n",
      "134/134 [==============================] - 1s 6ms/step - loss: 0.5208 - accuracy: 0.7864\n",
      "Epoch 10/10\n",
      "134/134 [==============================] - 1s 6ms/step - loss: 0.4604 - accuracy: 0.8169\n",
      "24/35 [===================>..........] - ETA: 0s"
     ]
    },
    {
     "name": "stderr",
     "output_type": "stream",
     "text": [
      "/usr/local/lib/python3.10/dist-packages/keras/src/engine/training.py:3079: UserWarning: You are saving your model as an HDF5 file via `model.save()`. This file format is considered legacy. We recommend using instead the native Keras format, e.g. `model.save('my_model.keras')`.\n",
      "  saving_api.save_model(\n"
     ]
    },
    {
     "name": "stdout",
     "output_type": "stream",
     "text": [
      "35/35 [==============================] - 0s 2ms/step\n",
      "Training LSTM for SE1 (sliderNegPos)\n",
      "Epoch 1/10\n",
      "134/134 [==============================] - 19s 127ms/step - loss: 1.3576 - accuracy: 0.4805\n",
      "Epoch 2/10\n",
      "134/134 [==============================] - 17s 128ms/step - loss: 1.1342 - accuracy: 0.5134\n",
      "Epoch 3/10\n",
      "134/134 [==============================] - 17s 128ms/step - loss: 1.1199 - accuracy: 0.5207\n",
      "Epoch 4/10\n",
      "134/134 [==============================] - 17s 125ms/step - loss: 1.1167 - accuracy: 0.5204\n",
      "Epoch 5/10\n",
      "134/134 [==============================] - 17s 124ms/step - loss: 1.1148 - accuracy: 0.5221\n",
      "Epoch 6/10\n",
      "134/134 [==============================] - 17s 125ms/step - loss: 1.1113 - accuracy: 0.5218\n",
      "Epoch 7/10\n",
      "134/134 [==============================] - 17s 128ms/step - loss: 1.1080 - accuracy: 0.5218\n",
      "Epoch 8/10\n",
      "134/134 [==============================] - 17s 126ms/step - loss: 1.1100 - accuracy: 0.5218\n",
      "Epoch 9/10\n",
      "134/134 [==============================] - 17s 128ms/step - loss: 1.1104 - accuracy: 0.5218\n",
      "Epoch 10/10\n",
      "134/134 [==============================] - 17s 125ms/step - loss: 1.1048 - accuracy: 0.5218\n"
     ]
    },
    {
     "name": "stderr",
     "output_type": "stream",
     "text": [
      "/usr/local/lib/python3.10/dist-packages/keras/src/engine/training.py:3079: UserWarning: You are saving your model as an HDF5 file via `model.save()`. This file format is considered legacy. We recommend using instead the native Keras format, e.g. `model.save('my_model.keras')`.\n",
      "  saving_api.save_model(\n"
     ]
    },
    {
     "name": "stdout",
     "output_type": "stream",
     "text": [
      "35/35 [==============================] - 2s 36ms/step\n",
      "Training RF for SE2 (sliderNeutralPos)\n",
      "Training CNN for SE2 (sliderNeutralPos)\n",
      "Epoch 1/10\n",
      "134/134 [==============================] - 1s 6ms/step - loss: 1.1383 - accuracy: 0.4803\n",
      "Epoch 2/10\n",
      "134/134 [==============================] - 1s 6ms/step - loss: 0.9727 - accuracy: 0.5568\n",
      "Epoch 3/10\n",
      "134/134 [==============================] - 1s 6ms/step - loss: 0.8620 - accuracy: 0.6110\n",
      "Epoch 4/10\n",
      "134/134 [==============================] - 1s 6ms/step - loss: 0.7677 - accuracy: 0.6573\n",
      "Epoch 5/10\n",
      "134/134 [==============================] - 1s 6ms/step - loss: 0.6859 - accuracy: 0.7094\n",
      "Epoch 6/10\n",
      "134/134 [==============================] - 1s 6ms/step - loss: 0.6005 - accuracy: 0.7404\n",
      "Epoch 7/10\n",
      "134/134 [==============================] - 1s 6ms/step - loss: 0.5288 - accuracy: 0.7873\n",
      "Epoch 8/10\n",
      "134/134 [==============================] - 1s 6ms/step - loss: 0.4613 - accuracy: 0.8171\n",
      "Epoch 9/10\n",
      "134/134 [==============================] - 1s 6ms/step - loss: 0.3970 - accuracy: 0.8495\n",
      "Epoch 10/10\n",
      "134/134 [==============================] - 1s 6ms/step - loss: 0.3320 - accuracy: 0.8744\n",
      "23/35 [==================>...........] - ETA: 0s"
     ]
    },
    {
     "name": "stderr",
     "output_type": "stream",
     "text": [
      "/usr/local/lib/python3.10/dist-packages/keras/src/engine/training.py:3079: UserWarning: You are saving your model as an HDF5 file via `model.save()`. This file format is considered legacy. We recommend using instead the native Keras format, e.g. `model.save('my_model.keras')`.\n",
      "  saving_api.save_model(\n"
     ]
    },
    {
     "name": "stdout",
     "output_type": "stream",
     "text": [
      "35/35 [==============================] - 0s 2ms/step\n",
      "Training LSTM for SE2 (sliderNeutralPos)\n",
      "Epoch 1/10\n",
      "134/134 [==============================] - 19s 127ms/step - loss: 1.3189 - accuracy: 0.4080\n",
      "Epoch 2/10\n",
      "134/134 [==============================] - 17s 124ms/step - loss: 1.1382 - accuracy: 0.4099\n",
      "Epoch 3/10\n",
      "134/134 [==============================] - 16s 123ms/step - loss: 1.1340 - accuracy: 0.4068\n",
      "Epoch 4/10\n",
      "134/134 [==============================] - 17s 128ms/step - loss: 1.1326 - accuracy: 0.4061\n",
      "Epoch 5/10\n",
      "134/134 [==============================] - 17s 125ms/step - loss: 1.1254 - accuracy: 0.4169\n",
      "Epoch 6/10\n",
      "134/134 [==============================] - 17s 126ms/step - loss: 1.1232 - accuracy: 0.4094\n",
      "Epoch 7/10\n",
      "134/134 [==============================] - 17s 125ms/step - loss: 1.1256 - accuracy: 0.4190\n",
      "Epoch 8/10\n",
      "134/134 [==============================] - 16s 122ms/step - loss: 1.1293 - accuracy: 0.4021\n",
      "Epoch 9/10\n",
      "134/134 [==============================] - 17s 125ms/step - loss: 1.1252 - accuracy: 0.4136\n",
      "Epoch 10/10\n",
      "134/134 [==============================] - 17s 126ms/step - loss: 1.1238 - accuracy: 0.4197\n"
     ]
    },
    {
     "name": "stderr",
     "output_type": "stream",
     "text": [
      "/usr/local/lib/python3.10/dist-packages/keras/src/engine/training.py:3079: UserWarning: You are saving your model as an HDF5 file via `model.save()`. This file format is considered legacy. We recommend using instead the native Keras format, e.g. `model.save('my_model.keras')`.\n",
      "  saving_api.save_model(\n"
     ]
    },
    {
     "name": "stdout",
     "output_type": "stream",
     "text": [
      "35/35 [==============================] - 2s 34ms/step\n",
      "Training RF for SE3 (sliderNeutralPos)\n",
      "Training CNN for SE3 (sliderNeutralPos)\n",
      "Epoch 1/10\n",
      "134/134 [==============================] - 1s 6ms/step - loss: 1.1653 - accuracy: 0.4472\n",
      "Epoch 2/10\n",
      "134/134 [==============================] - 1s 6ms/step - loss: 0.9964 - accuracy: 0.5176\n",
      "Epoch 3/10\n",
      "134/134 [==============================] - 1s 6ms/step - loss: 0.9086 - accuracy: 0.5784\n",
      "Epoch 4/10\n",
      "134/134 [==============================] - 1s 6ms/step - loss: 0.8225 - accuracy: 0.6202\n",
      "Epoch 5/10\n",
      "134/134 [==============================] - 1s 6ms/step - loss: 0.7412 - accuracy: 0.6707\n",
      "Epoch 6/10\n",
      "134/134 [==============================] - 1s 6ms/step - loss: 0.6710 - accuracy: 0.7141\n",
      "Epoch 7/10\n",
      "134/134 [==============================] - 1s 6ms/step - loss: 0.6017 - accuracy: 0.7432\n",
      "Epoch 8/10\n",
      "134/134 [==============================] - 1s 6ms/step - loss: 0.5382 - accuracy: 0.7688\n",
      "Epoch 9/10\n",
      "134/134 [==============================] - 1s 6ms/step - loss: 0.4732 - accuracy: 0.8089\n",
      "Epoch 10/10\n",
      "134/134 [==============================] - 1s 6ms/step - loss: 0.4226 - accuracy: 0.8284\n",
      "35/35 [==============================] - 0s 2ms/step\n"
     ]
    },
    {
     "name": "stderr",
     "output_type": "stream",
     "text": [
      "/usr/local/lib/python3.10/dist-packages/keras/src/engine/training.py:3079: UserWarning: You are saving your model as an HDF5 file via `model.save()`. This file format is considered legacy. We recommend using instead the native Keras format, e.g. `model.save('my_model.keras')`.\n",
      "  saving_api.save_model(\n"
     ]
    },
    {
     "name": "stdout",
     "output_type": "stream",
     "text": [
      "Training LSTM for SE3 (sliderNeutralPos)\n",
      "Epoch 1/10\n",
      "134/134 [==============================] - 20s 131ms/step - loss: 1.3384 - accuracy: 0.3812\n",
      "Epoch 2/10\n",
      "134/134 [==============================] - 16s 117ms/step - loss: 1.1467 - accuracy: 0.3826\n",
      "Epoch 3/10\n",
      "134/134 [==============================] - 15s 109ms/step - loss: 1.1333 - accuracy: 0.4005\n",
      "Epoch 4/10\n",
      "134/134 [==============================] - 15s 113ms/step - loss: 1.1209 - accuracy: 0.3977\n",
      "Epoch 5/10\n",
      "134/134 [==============================] - 15s 115ms/step - loss: 1.1197 - accuracy: 0.3923\n",
      "Epoch 6/10\n",
      "134/134 [==============================] - 16s 120ms/step - loss: 1.1160 - accuracy: 0.3920\n",
      "Epoch 7/10\n",
      "134/134 [==============================] - 17s 126ms/step - loss: 1.1145 - accuracy: 0.4035\n",
      "Epoch 8/10\n",
      "134/134 [==============================] - 16s 122ms/step - loss: 1.1139 - accuracy: 0.3977\n",
      "Epoch 9/10\n",
      "134/134 [==============================] - 16s 116ms/step - loss: 1.1124 - accuracy: 0.3951\n",
      "Epoch 10/10\n",
      "134/134 [==============================] - 16s 123ms/step - loss: 1.1114 - accuracy: 0.3988\n"
     ]
    },
    {
     "name": "stderr",
     "output_type": "stream",
     "text": [
      "/usr/local/lib/python3.10/dist-packages/keras/src/engine/training.py:3079: UserWarning: You are saving your model as an HDF5 file via `model.save()`. This file format is considered legacy. We recommend using instead the native Keras format, e.g. `model.save('my_model.keras')`.\n",
      "  saving_api.save_model(\n"
     ]
    },
    {
     "name": "stdout",
     "output_type": "stream",
     "text": [
      "35/35 [==============================] - 2s 33ms/step\n",
      "Training RF for SE4 (sliderNeutralPos)\n",
      "Training CNN for SE4 (sliderNeutralPos)\n",
      "Epoch 1/10\n",
      "134/134 [==============================] - 1s 6ms/step - loss: 1.0605 - accuracy: 0.5641\n",
      "Epoch 2/10\n",
      "134/134 [==============================] - 1s 6ms/step - loss: 0.8991 - accuracy: 0.6009\n",
      "Epoch 3/10\n",
      "134/134 [==============================] - 1s 6ms/step - loss: 0.8147 - accuracy: 0.6451\n",
      "Epoch 4/10\n",
      "134/134 [==============================] - 1s 6ms/step - loss: 0.7324 - accuracy: 0.6829\n",
      "Epoch 5/10\n",
      "134/134 [==============================] - 1s 6ms/step - loss: 0.6572 - accuracy: 0.7200\n",
      "Epoch 6/10\n",
      "134/134 [==============================] - 1s 6ms/step - loss: 0.5942 - accuracy: 0.7542\n",
      "Epoch 7/10\n",
      "134/134 [==============================] - 1s 6ms/step - loss: 0.5309 - accuracy: 0.7805\n",
      "Epoch 8/10\n",
      "134/134 [==============================] - 1s 6ms/step - loss: 0.4794 - accuracy: 0.8052\n",
      "Epoch 9/10\n",
      "134/134 [==============================] - 1s 6ms/step - loss: 0.4228 - accuracy: 0.8289\n",
      "Epoch 10/10\n",
      "134/134 [==============================] - 1s 6ms/step - loss: 0.3742 - accuracy: 0.8512\n",
      "35/35 [==============================] - 0s 2ms/step\n"
     ]
    },
    {
     "name": "stderr",
     "output_type": "stream",
     "text": [
      "/usr/local/lib/python3.10/dist-packages/keras/src/engine/training.py:3079: UserWarning: You are saving your model as an HDF5 file via `model.save()`. This file format is considered legacy. We recommend using instead the native Keras format, e.g. `model.save('my_model.keras')`.\n",
      "  saving_api.save_model(\n"
     ]
    },
    {
     "name": "stdout",
     "output_type": "stream",
     "text": [
      "Training LSTM for SE4 (sliderNeutralPos)\n",
      "Epoch 1/10\n",
      "134/134 [==============================] - 19s 127ms/step - loss: 1.2714 - accuracy: 0.5472\n",
      "Epoch 2/10\n",
      "134/134 [==============================] - 17s 128ms/step - loss: 1.0607 - accuracy: 0.5716\n",
      "Epoch 3/10\n",
      "134/134 [==============================] - 17s 128ms/step - loss: 1.0523 - accuracy: 0.5735\n",
      "Epoch 4/10\n",
      "134/134 [==============================] - 17s 128ms/step - loss: 1.0475 - accuracy: 0.5746\n",
      "Epoch 5/10\n",
      "134/134 [==============================] - 15s 114ms/step - loss: 1.0420 - accuracy: 0.5761\n",
      "Epoch 6/10\n",
      "134/134 [==============================] - 15s 109ms/step - loss: 1.0361 - accuracy: 0.5777\n",
      "Epoch 7/10\n",
      "134/134 [==============================] - 16s 122ms/step - loss: 1.0414 - accuracy: 0.5770\n",
      "Epoch 8/10\n",
      "134/134 [==============================] - 17s 126ms/step - loss: 1.0393 - accuracy: 0.5772\n",
      "Epoch 9/10\n",
      "134/134 [==============================] - 17s 124ms/step - loss: 1.0392 - accuracy: 0.5772\n",
      "Epoch 10/10\n",
      "134/134 [==============================] - 16s 123ms/step - loss: 1.0339 - accuracy: 0.5772\n"
     ]
    },
    {
     "name": "stderr",
     "output_type": "stream",
     "text": [
      "/usr/local/lib/python3.10/dist-packages/keras/src/engine/training.py:3079: UserWarning: You are saving your model as an HDF5 file via `model.save()`. This file format is considered legacy. We recommend using instead the native Keras format, e.g. `model.save('my_model.keras')`.\n",
      "  saving_api.save_model(\n"
     ]
    },
    {
     "name": "stdout",
     "output_type": "stream",
     "text": [
      "35/35 [==============================] - 2s 35ms/step\n",
      "Training RF for MIL1 (sliderNegPos)\n",
      "Training CNN for MIL1 (sliderNegPos)\n",
      "Epoch 1/10\n",
      "134/134 [==============================] - 1s 6ms/step - loss: 1.7761 - accuracy: 0.3101\n",
      "Epoch 2/10\n",
      "134/134 [==============================] - 1s 6ms/step - loss: 1.4690 - accuracy: 0.4392\n",
      "Epoch 3/10\n",
      "134/134 [==============================] - 1s 6ms/step - loss: 1.2841 - accuracy: 0.5124\n",
      "Epoch 4/10\n",
      "134/134 [==============================] - 1s 6ms/step - loss: 1.1445 - accuracy: 0.5739\n",
      "Epoch 5/10\n",
      "134/134 [==============================] - 1s 6ms/step - loss: 1.0107 - accuracy: 0.6272\n",
      "Epoch 6/10\n",
      "134/134 [==============================] - 1s 6ms/step - loss: 0.8883 - accuracy: 0.6728\n",
      "Epoch 7/10\n",
      "134/134 [==============================] - 1s 6ms/step - loss: 0.7693 - accuracy: 0.7167\n",
      "Epoch 8/10\n",
      "134/134 [==============================] - 1s 6ms/step - loss: 0.6590 - accuracy: 0.7552\n",
      "Epoch 9/10\n",
      "134/134 [==============================] - 1s 6ms/step - loss: 0.6069 - accuracy: 0.7718\n",
      "Epoch 10/10\n",
      "134/134 [==============================] - 1s 6ms/step - loss: 0.5263 - accuracy: 0.8066\n",
      "35/35 [==============================] - 0s 2ms/step\n"
     ]
    },
    {
     "name": "stderr",
     "output_type": "stream",
     "text": [
      "/usr/local/lib/python3.10/dist-packages/keras/src/engine/training.py:3079: UserWarning: You are saving your model as an HDF5 file via `model.save()`. This file format is considered legacy. We recommend using instead the native Keras format, e.g. `model.save('my_model.keras')`.\n",
      "  saving_api.save_model(\n"
     ]
    },
    {
     "name": "stdout",
     "output_type": "stream",
     "text": [
      "Training LSTM for MIL1 (sliderNegPos)\n",
      "Epoch 1/10\n",
      "134/134 [==============================] - 19s 129ms/step - loss: 2.0305 - accuracy: 0.1709\n",
      "Epoch 2/10\n",
      "134/134 [==============================] - 17s 130ms/step - loss: 1.9199 - accuracy: 0.1890\n",
      "Epoch 3/10\n",
      "134/134 [==============================] - 17s 127ms/step - loss: 1.9133 - accuracy: 0.1824\n",
      "Epoch 4/10\n",
      "134/134 [==============================] - 17s 125ms/step - loss: 1.9011 - accuracy: 0.1939\n",
      "Epoch 5/10\n",
      "134/134 [==============================] - 17s 125ms/step - loss: 1.9002 - accuracy: 0.1930\n",
      "Epoch 6/10\n",
      "134/134 [==============================] - 17s 128ms/step - loss: 1.9027 - accuracy: 0.1817\n",
      "Epoch 7/10\n",
      "134/134 [==============================] - 17s 127ms/step - loss: 1.8943 - accuracy: 0.1967\n",
      "Epoch 8/10\n",
      "134/134 [==============================] - 17s 127ms/step - loss: 1.8920 - accuracy: 0.1995\n",
      "Epoch 9/10\n",
      "134/134 [==============================] - 17s 127ms/step - loss: 1.8883 - accuracy: 0.1972\n",
      "Epoch 10/10\n",
      "134/134 [==============================] - 17s 126ms/step - loss: 1.8851 - accuracy: 0.2089\n"
     ]
    },
    {
     "name": "stderr",
     "output_type": "stream",
     "text": [
      "/usr/local/lib/python3.10/dist-packages/keras/src/engine/training.py:3079: UserWarning: You are saving your model as an HDF5 file via `model.save()`. This file format is considered legacy. We recommend using instead the native Keras format, e.g. `model.save('my_model.keras')`.\n",
      "  saving_api.save_model(\n"
     ]
    },
    {
     "name": "stdout",
     "output_type": "stream",
     "text": [
      "35/35 [==============================] - 2s 36ms/step\n",
      "Training RF for MIL2 (sliderNeutralPos)\n",
      "Training CNN for MIL2 (sliderNeutralPos)\n",
      "Epoch 1/10\n",
      "134/134 [==============================] - 1s 6ms/step - loss: 1.5849 - accuracy: 0.3653\n",
      "Epoch 2/10\n",
      "134/134 [==============================] - 1s 6ms/step - loss: 1.3442 - accuracy: 0.4594\n",
      "Epoch 3/10\n",
      "134/134 [==============================] - 1s 6ms/step - loss: 1.1942 - accuracy: 0.5282\n",
      "Epoch 4/10\n",
      "134/134 [==============================] - 1s 6ms/step - loss: 1.0615 - accuracy: 0.5866\n",
      "Epoch 5/10\n",
      "134/134 [==============================] - 1s 6ms/step - loss: 0.9380 - accuracy: 0.6411\n",
      "Epoch 6/10\n",
      "134/134 [==============================] - 1s 6ms/step - loss: 0.8204 - accuracy: 0.6869\n",
      "Epoch 7/10\n",
      "134/134 [==============================] - 1s 6ms/step - loss: 0.7407 - accuracy: 0.7129\n",
      "Epoch 8/10\n",
      "134/134 [==============================] - 1s 6ms/step - loss: 0.6603 - accuracy: 0.7477\n",
      "Epoch 9/10\n",
      "134/134 [==============================] - 1s 7ms/step - loss: 0.5709 - accuracy: 0.7974\n",
      "Epoch 10/10\n",
      "134/134 [==============================] - 1s 6ms/step - loss: 0.5038 - accuracy: 0.8101\n",
      "35/35 [==============================] - 0s 2ms/step\n"
     ]
    },
    {
     "name": "stderr",
     "output_type": "stream",
     "text": [
      "/usr/local/lib/python3.10/dist-packages/keras/src/engine/training.py:3079: UserWarning: You are saving your model as an HDF5 file via `model.save()`. This file format is considered legacy. We recommend using instead the native Keras format, e.g. `model.save('my_model.keras')`.\n",
      "  saving_api.save_model(\n"
     ]
    },
    {
     "name": "stdout",
     "output_type": "stream",
     "text": [
      "Training LSTM for MIL2 (sliderNeutralPos)\n",
      "Epoch 1/10\n",
      "134/134 [==============================] - 19s 128ms/step - loss: 1.8126 - accuracy: 0.2507\n",
      "Epoch 2/10\n",
      "134/134 [==============================] - 16s 123ms/step - loss: 1.6741 - accuracy: 0.2735\n",
      "Epoch 3/10\n",
      "134/134 [==============================] - 17s 125ms/step - loss: 1.6630 - accuracy: 0.2798\n",
      "Epoch 4/10\n",
      "134/134 [==============================] - 17s 126ms/step - loss: 1.6637 - accuracy: 0.2890\n",
      "Epoch 5/10\n",
      "134/134 [==============================] - 17s 128ms/step - loss: 1.6565 - accuracy: 0.2885\n",
      "Epoch 6/10\n",
      "134/134 [==============================] - 17s 123ms/step - loss: 1.6543 - accuracy: 0.2862\n",
      "Epoch 7/10\n",
      "134/134 [==============================] - 17s 126ms/step - loss: 1.6518 - accuracy: 0.2857\n",
      "Epoch 8/10\n",
      "134/134 [==============================] - 17s 127ms/step - loss: 1.6487 - accuracy: 0.2948\n",
      "Epoch 9/10\n",
      "134/134 [==============================] - 17s 125ms/step - loss: 1.6467 - accuracy: 0.2977\n",
      "Epoch 10/10\n",
      "134/134 [==============================] - 16s 122ms/step - loss: 1.6397 - accuracy: 0.2953\n"
     ]
    },
    {
     "name": "stderr",
     "output_type": "stream",
     "text": [
      "/usr/local/lib/python3.10/dist-packages/keras/src/engine/training.py:3079: UserWarning: You are saving your model as an HDF5 file via `model.save()`. This file format is considered legacy. We recommend using instead the native Keras format, e.g. `model.save('my_model.keras')`.\n",
      "  saving_api.save_model(\n"
     ]
    },
    {
     "name": "stdout",
     "output_type": "stream",
     "text": [
      "35/35 [==============================] - 2s 30ms/step\n",
      "Training RF for MIL3 (sliderNeutralPos)\n",
      "Training CNN for MIL3 (sliderNeutralPos)\n",
      "Epoch 1/10\n",
      "134/134 [==============================] - 1s 6ms/step - loss: 1.6811 - accuracy: 0.3340\n",
      "Epoch 2/10\n",
      "134/134 [==============================] - 1s 6ms/step - loss: 1.4657 - accuracy: 0.4136\n",
      "Epoch 3/10\n",
      "134/134 [==============================] - 1s 6ms/step - loss: 1.3175 - accuracy: 0.4894\n",
      "Epoch 4/10\n",
      "134/134 [==============================] - 1s 6ms/step - loss: 1.1859 - accuracy: 0.5378\n",
      "Epoch 5/10\n",
      "134/134 [==============================] - 1s 6ms/step - loss: 1.0568 - accuracy: 0.5930\n",
      "Epoch 6/10\n",
      "134/134 [==============================] - 1s 6ms/step - loss: 0.9465 - accuracy: 0.6472\n",
      "Epoch 7/10\n",
      "134/134 [==============================] - 1s 6ms/step - loss: 0.8194 - accuracy: 0.6923\n",
      "Epoch 8/10\n",
      "134/134 [==============================] - 1s 6ms/step - loss: 0.7397 - accuracy: 0.7265\n",
      "Epoch 9/10\n",
      "134/134 [==============================] - 1s 6ms/step - loss: 0.6703 - accuracy: 0.7512\n",
      "Epoch 10/10\n",
      "134/134 [==============================] - 1s 6ms/step - loss: 0.5818 - accuracy: 0.7817\n",
      "35/35 [==============================] - 0s 2ms/step\n"
     ]
    },
    {
     "name": "stderr",
     "output_type": "stream",
     "text": [
      "/usr/local/lib/python3.10/dist-packages/keras/src/engine/training.py:3079: UserWarning: You are saving your model as an HDF5 file via `model.save()`. This file format is considered legacy. We recommend using instead the native Keras format, e.g. `model.save('my_model.keras')`.\n",
      "  saving_api.save_model(\n"
     ]
    },
    {
     "name": "stdout",
     "output_type": "stream",
     "text": [
      "Training LSTM for MIL3 (sliderNeutralPos)\n",
      "Epoch 1/10\n",
      "134/134 [==============================] - 19s 128ms/step - loss: 1.8429 - accuracy: 0.2995\n",
      "Epoch 2/10\n",
      "134/134 [==============================] - 17s 125ms/step - loss: 1.7212 - accuracy: 0.3092\n",
      "Epoch 3/10\n",
      "134/134 [==============================] - 16s 123ms/step - loss: 1.7109 - accuracy: 0.3164\n",
      "Epoch 4/10\n",
      "134/134 [==============================] - 17s 124ms/step - loss: 1.7009 - accuracy: 0.3223\n",
      "Epoch 5/10\n",
      "134/134 [==============================] - 17s 124ms/step - loss: 1.7012 - accuracy: 0.3279\n",
      "Epoch 6/10\n",
      "134/134 [==============================] - 16s 119ms/step - loss: 1.6961 - accuracy: 0.3258\n",
      "Epoch 7/10\n",
      "134/134 [==============================] - 17s 125ms/step - loss: 1.6910 - accuracy: 0.3244\n",
      "Epoch 8/10\n",
      "134/134 [==============================] - 17s 128ms/step - loss: 1.6870 - accuracy: 0.3232\n",
      "Epoch 9/10\n",
      "134/134 [==============================] - 17s 125ms/step - loss: 1.6801 - accuracy: 0.3216\n",
      "Epoch 10/10\n",
      "134/134 [==============================] - 16s 123ms/step - loss: 1.6794 - accuracy: 0.3221\n"
     ]
    },
    {
     "name": "stderr",
     "output_type": "stream",
     "text": [
      "/usr/local/lib/python3.10/dist-packages/keras/src/engine/training.py:3079: UserWarning: You are saving your model as an HDF5 file via `model.save()`. This file format is considered legacy. We recommend using instead the native Keras format, e.g. `model.save('my_model.keras')`.\n",
      "  saving_api.save_model(\n"
     ]
    },
    {
     "name": "stdout",
     "output_type": "stream",
     "text": [
      "35/35 [==============================] - 2s 36ms/step\n",
      "Training RF for MIL4 (sliderNeutralPos)\n",
      "Training CNN for MIL4 (sliderNeutralPos)\n",
      "Epoch 1/10\n",
      "134/134 [==============================] - 1s 6ms/step - loss: 1.7647 - accuracy: 0.3197\n",
      "Epoch 2/10\n",
      "134/134 [==============================] - 1s 6ms/step - loss: 1.5166 - accuracy: 0.4129\n",
      "Epoch 3/10\n",
      "134/134 [==============================] - 1s 6ms/step - loss: 1.3567 - accuracy: 0.4777\n",
      "Epoch 4/10\n",
      "134/134 [==============================] - 1s 6ms/step - loss: 1.1819 - accuracy: 0.5561\n",
      "Epoch 5/10\n",
      "134/134 [==============================] - 1s 6ms/step - loss: 1.0464 - accuracy: 0.6085\n",
      "Epoch 6/10\n",
      "134/134 [==============================] - 1s 6ms/step - loss: 0.9377 - accuracy: 0.6575\n",
      "Epoch 7/10\n",
      "134/134 [==============================] - 1s 6ms/step - loss: 0.8206 - accuracy: 0.6977\n",
      "Epoch 8/10\n",
      "134/134 [==============================] - 1s 6ms/step - loss: 0.7450 - accuracy: 0.7300\n",
      "Epoch 9/10\n",
      "134/134 [==============================] - 1s 6ms/step - loss: 0.6277 - accuracy: 0.7678\n",
      "Epoch 10/10\n",
      "134/134 [==============================] - 1s 6ms/step - loss: 0.5551 - accuracy: 0.7988\n",
      "23/35 [==================>...........] - ETA: 0s"
     ]
    },
    {
     "name": "stderr",
     "output_type": "stream",
     "text": [
      "/usr/local/lib/python3.10/dist-packages/keras/src/engine/training.py:3079: UserWarning: You are saving your model as an HDF5 file via `model.save()`. This file format is considered legacy. We recommend using instead the native Keras format, e.g. `model.save('my_model.keras')`.\n",
      "  saving_api.save_model(\n"
     ]
    },
    {
     "name": "stdout",
     "output_type": "stream",
     "text": [
      "35/35 [==============================] - 0s 2ms/step\n",
      "Training LSTM for MIL4 (sliderNeutralPos)\n",
      "Epoch 1/10\n",
      "134/134 [==============================] - 19s 128ms/step - loss: 1.9419 - accuracy: 0.2516\n",
      "Epoch 2/10\n",
      "134/134 [==============================] - 17s 124ms/step - loss: 1.8425 - accuracy: 0.2714\n",
      "Epoch 3/10\n",
      "134/134 [==============================] - 16s 122ms/step - loss: 1.8350 - accuracy: 0.2744\n",
      "Epoch 4/10\n",
      "134/134 [==============================] - 17s 127ms/step - loss: 1.8242 - accuracy: 0.2822\n",
      "Epoch 5/10\n",
      "134/134 [==============================] - 17s 129ms/step - loss: 1.8216 - accuracy: 0.2857\n",
      "Epoch 6/10\n",
      "134/134 [==============================] - 17s 128ms/step - loss: 1.8131 - accuracy: 0.2871\n",
      "Epoch 7/10\n",
      "134/134 [==============================] - 17s 130ms/step - loss: 1.8064 - accuracy: 0.2836\n",
      "Epoch 8/10\n",
      "134/134 [==============================] - 17s 126ms/step - loss: 1.7966 - accuracy: 0.2833\n",
      "Epoch 9/10\n",
      "134/134 [==============================] - 17s 126ms/step - loss: 1.7913 - accuracy: 0.2885\n",
      "Epoch 10/10\n",
      "134/134 [==============================] - 17s 126ms/step - loss: 1.7800 - accuracy: 0.2930\n"
     ]
    },
    {
     "name": "stderr",
     "output_type": "stream",
     "text": [
      "/usr/local/lib/python3.10/dist-packages/keras/src/engine/training.py:3079: UserWarning: You are saving your model as an HDF5 file via `model.save()`. This file format is considered legacy. We recommend using instead the native Keras format, e.g. `model.save('my_model.keras')`.\n",
      "  saving_api.save_model(\n"
     ]
    },
    {
     "name": "stdout",
     "output_type": "stream",
     "text": [
      "35/35 [==============================] - 2s 32ms/step\n",
      "Training RF for MIL5 (sliderNeutralPos)\n",
      "Training CNN for MIL5 (sliderNeutralPos)\n",
      "Epoch 1/10\n",
      "134/134 [==============================] - 1s 6ms/step - loss: 1.7125 - accuracy: 0.3183\n",
      "Epoch 2/10\n",
      "134/134 [==============================] - 1s 6ms/step - loss: 1.4436 - accuracy: 0.4423\n",
      "Epoch 3/10\n",
      "134/134 [==============================] - 1s 7ms/step - loss: 1.2785 - accuracy: 0.5066\n",
      "Epoch 4/10\n",
      "134/134 [==============================] - 1s 6ms/step - loss: 1.1196 - accuracy: 0.5622\n",
      "Epoch 5/10\n",
      "134/134 [==============================] - 1s 6ms/step - loss: 0.9593 - accuracy: 0.6404\n",
      "Epoch 6/10\n",
      "134/134 [==============================] - 1s 6ms/step - loss: 0.8516 - accuracy: 0.6796\n",
      "Epoch 7/10\n",
      "134/134 [==============================] - 1s 6ms/step - loss: 0.7348 - accuracy: 0.7258\n",
      "Epoch 8/10\n",
      "134/134 [==============================] - 1s 6ms/step - loss: 0.6453 - accuracy: 0.7620\n",
      "Epoch 9/10\n",
      "134/134 [==============================] - 1s 6ms/step - loss: 0.5808 - accuracy: 0.7948\n",
      "Epoch 10/10\n",
      "134/134 [==============================] - 1s 6ms/step - loss: 0.5122 - accuracy: 0.8157\n",
      "35/35 [==============================] - 0s 2ms/step\n"
     ]
    },
    {
     "name": "stderr",
     "output_type": "stream",
     "text": [
      "/usr/local/lib/python3.10/dist-packages/keras/src/engine/training.py:3079: UserWarning: You are saving your model as an HDF5 file via `model.save()`. This file format is considered legacy. We recommend using instead the native Keras format, e.g. `model.save('my_model.keras')`.\n",
      "  saving_api.save_model(\n"
     ]
    },
    {
     "name": "stdout",
     "output_type": "stream",
     "text": [
      "Training LSTM for MIL5 (sliderNeutralPos)\n",
      "Epoch 1/10\n",
      "134/134 [==============================] - 25s 128ms/step - loss: 1.9152 - accuracy: 0.2171\n",
      "Epoch 2/10\n",
      "134/134 [==============================] - 17s 127ms/step - loss: 1.8082 - accuracy: 0.2347\n",
      "Epoch 3/10\n",
      "134/134 [==============================] - 17s 125ms/step - loss: 1.7932 - accuracy: 0.2354\n",
      "Epoch 4/10\n",
      "134/134 [==============================] - 17s 125ms/step - loss: 1.7866 - accuracy: 0.2423\n",
      "Epoch 5/10\n",
      "134/134 [==============================] - 16s 119ms/step - loss: 1.7803 - accuracy: 0.2441\n",
      "Epoch 6/10\n",
      "134/134 [==============================] - 16s 122ms/step - loss: 1.7734 - accuracy: 0.2434\n",
      "Epoch 7/10\n",
      "134/134 [==============================] - 17s 126ms/step - loss: 1.7594 - accuracy: 0.2763\n",
      "Epoch 8/10\n",
      "134/134 [==============================] - 17s 126ms/step - loss: 1.7524 - accuracy: 0.2779\n",
      "Epoch 9/10\n",
      "134/134 [==============================] - 17s 124ms/step - loss: 1.7466 - accuracy: 0.2772\n",
      "Epoch 10/10\n",
      "134/134 [==============================] - 17s 126ms/step - loss: 1.7307 - accuracy: 0.2951\n"
     ]
    },
    {
     "name": "stderr",
     "output_type": "stream",
     "text": [
      "/usr/local/lib/python3.10/dist-packages/keras/src/engine/training.py:3079: UserWarning: You are saving your model as an HDF5 file via `model.save()`. This file format is considered legacy. We recommend using instead the native Keras format, e.g. `model.save('my_model.keras')`.\n",
      "  saving_api.save_model(\n"
     ]
    },
    {
     "name": "stdout",
     "output_type": "stream",
     "text": [
      "35/35 [==============================] - 2s 35ms/step\n",
      "Training RF for PRO1 (sliderNeutralPos)\n",
      "Training CNN for PRO1 (sliderNeutralPos)\n",
      "Epoch 1/10\n",
      "134/134 [==============================] - 1s 6ms/step - loss: 2.0546 - accuracy: 0.2667\n",
      "Epoch 2/10\n",
      "134/134 [==============================] - 1s 6ms/step - loss: 1.7832 - accuracy: 0.3582\n",
      "Epoch 3/10\n",
      "134/134 [==============================] - 1s 6ms/step - loss: 1.5640 - accuracy: 0.4460\n",
      "Epoch 4/10\n",
      "134/134 [==============================] - 1s 6ms/step - loss: 1.3636 - accuracy: 0.5136\n",
      "Epoch 5/10\n",
      "134/134 [==============================] - 1s 6ms/step - loss: 1.1655 - accuracy: 0.5948\n",
      "Epoch 6/10\n",
      "134/134 [==============================] - 1s 6ms/step - loss: 0.9998 - accuracy: 0.6453\n",
      "Epoch 7/10\n",
      "134/134 [==============================] - 1s 6ms/step - loss: 0.8780 - accuracy: 0.6871\n",
      "Epoch 8/10\n",
      "134/134 [==============================] - 1s 6ms/step - loss: 0.7701 - accuracy: 0.7230\n",
      "Epoch 9/10\n",
      "134/134 [==============================] - 1s 6ms/step - loss: 0.6447 - accuracy: 0.7721\n",
      "Epoch 10/10\n",
      "134/134 [==============================] - 1s 6ms/step - loss: 0.5659 - accuracy: 0.7988\n",
      "24/35 [===================>..........] - ETA: 0s"
     ]
    },
    {
     "name": "stderr",
     "output_type": "stream",
     "text": [
      "/usr/local/lib/python3.10/dist-packages/keras/src/engine/training.py:3079: UserWarning: You are saving your model as an HDF5 file via `model.save()`. This file format is considered legacy. We recommend using instead the native Keras format, e.g. `model.save('my_model.keras')`.\n",
      "  saving_api.save_model(\n"
     ]
    },
    {
     "name": "stdout",
     "output_type": "stream",
     "text": [
      "35/35 [==============================] - 0s 2ms/step\n",
      "Training LSTM for PRO1 (sliderNeutralPos)\n",
      "Epoch 1/10\n",
      "134/134 [==============================] - 19s 126ms/step - loss: 2.2127 - accuracy: 0.1986\n",
      "Epoch 2/10\n",
      "134/134 [==============================] - 16s 122ms/step - loss: 2.1689 - accuracy: 0.2049\n",
      "Epoch 3/10\n",
      "134/134 [==============================] - 17s 126ms/step - loss: 2.1640 - accuracy: 0.2035\n",
      "Epoch 4/10\n",
      "134/134 [==============================] - 17s 125ms/step - loss: 2.1609 - accuracy: 0.2070\n",
      "Epoch 5/10\n",
      "134/134 [==============================] - 17s 126ms/step - loss: 2.1584 - accuracy: 0.2131\n",
      "Epoch 6/10\n",
      "134/134 [==============================] - 17s 126ms/step - loss: 2.1520 - accuracy: 0.2019\n",
      "Epoch 7/10\n",
      "134/134 [==============================] - 17s 127ms/step - loss: 2.1447 - accuracy: 0.2106\n",
      "Epoch 8/10\n",
      "134/134 [==============================] - 17s 126ms/step - loss: 2.1355 - accuracy: 0.2148\n",
      "Epoch 9/10\n",
      "134/134 [==============================] - 17s 126ms/step - loss: 2.1276 - accuracy: 0.2209\n",
      "Epoch 10/10\n",
      "134/134 [==============================] - 17s 124ms/step - loss: 2.1280 - accuracy: 0.2174\n"
     ]
    },
    {
     "name": "stderr",
     "output_type": "stream",
     "text": [
      "/usr/local/lib/python3.10/dist-packages/keras/src/engine/training.py:3079: UserWarning: You are saving your model as an HDF5 file via `model.save()`. This file format is considered legacy. We recommend using instead the native Keras format, e.g. `model.save('my_model.keras')`.\n",
      "  saving_api.save_model(\n"
     ]
    },
    {
     "name": "stdout",
     "output_type": "stream",
     "text": [
      "35/35 [==============================] - 2s 35ms/step\n",
      "Training RF for PRO2 (sliderNeutralPos)\n",
      "Training CNN for PRO2 (sliderNeutralPos)\n",
      "Epoch 1/10\n",
      "134/134 [==============================] - 1s 6ms/step - loss: 1.9677 - accuracy: 0.2465\n",
      "Epoch 2/10\n",
      "134/134 [==============================] - 1s 6ms/step - loss: 1.6939 - accuracy: 0.3754\n",
      "Epoch 3/10\n",
      "134/134 [==============================] - 1s 6ms/step - loss: 1.4810 - accuracy: 0.4535\n",
      "Epoch 4/10\n",
      "134/134 [==============================] - 1s 6ms/step - loss: 1.2969 - accuracy: 0.5230\n",
      "Epoch 5/10\n",
      "134/134 [==============================] - 1s 6ms/step - loss: 1.1160 - accuracy: 0.5932\n",
      "Epoch 6/10\n",
      "134/134 [==============================] - 1s 6ms/step - loss: 0.9681 - accuracy: 0.6528\n",
      "Epoch 7/10\n",
      "134/134 [==============================] - 1s 6ms/step - loss: 0.8228 - accuracy: 0.6986\n",
      "Epoch 8/10\n",
      "134/134 [==============================] - 1s 6ms/step - loss: 0.7514 - accuracy: 0.7308\n",
      "Epoch 9/10\n",
      "134/134 [==============================] - 1s 6ms/step - loss: 0.6481 - accuracy: 0.7678\n",
      "Epoch 10/10\n",
      "134/134 [==============================] - 1s 6ms/step - loss: 0.5428 - accuracy: 0.8085\n",
      "23/35 [==================>...........] - ETA: 0s"
     ]
    },
    {
     "name": "stderr",
     "output_type": "stream",
     "text": [
      "/usr/local/lib/python3.10/dist-packages/keras/src/engine/training.py:3079: UserWarning: You are saving your model as an HDF5 file via `model.save()`. This file format is considered legacy. We recommend using instead the native Keras format, e.g. `model.save('my_model.keras')`.\n",
      "  saving_api.save_model(\n"
     ]
    },
    {
     "name": "stdout",
     "output_type": "stream",
     "text": [
      "35/35 [==============================] - 0s 2ms/step\n",
      "Training LSTM for PRO2 (sliderNeutralPos)\n",
      "Epoch 1/10\n",
      "134/134 [==============================] - 19s 127ms/step - loss: 2.1450 - accuracy: 0.1746\n",
      "Epoch 2/10\n",
      "134/134 [==============================] - 17s 126ms/step - loss: 2.0838 - accuracy: 0.1779\n",
      "Epoch 3/10\n",
      "134/134 [==============================] - 17s 126ms/step - loss: 2.0749 - accuracy: 0.1944\n",
      "Epoch 4/10\n",
      "134/134 [==============================] - 17s 124ms/step - loss: 2.0642 - accuracy: 0.2021\n",
      "Epoch 5/10\n",
      "134/134 [==============================] - 17s 123ms/step - loss: 2.0636 - accuracy: 0.2070\n",
      "Epoch 6/10\n",
      "134/134 [==============================] - 16s 120ms/step - loss: 2.0450 - accuracy: 0.2038\n",
      "Epoch 7/10\n",
      "134/134 [==============================] - 16s 118ms/step - loss: 2.0337 - accuracy: 0.2141\n",
      "Epoch 8/10\n",
      "134/134 [==============================] - 16s 118ms/step - loss: 2.0318 - accuracy: 0.2174\n",
      "Epoch 9/10\n",
      "134/134 [==============================] - 17s 124ms/step - loss: 2.0176 - accuracy: 0.2270\n",
      "Epoch 10/10\n",
      "134/134 [==============================] - 17s 126ms/step - loss: 2.0163 - accuracy: 0.2263\n"
     ]
    },
    {
     "name": "stderr",
     "output_type": "stream",
     "text": [
      "/usr/local/lib/python3.10/dist-packages/keras/src/engine/training.py:3079: UserWarning: You are saving your model as an HDF5 file via `model.save()`. This file format is considered legacy. We recommend using instead the native Keras format, e.g. `model.save('my_model.keras')`.\n",
      "  saving_api.save_model(\n"
     ]
    },
    {
     "name": "stdout",
     "output_type": "stream",
     "text": [
      "35/35 [==============================] - 2s 36ms/step\n",
      "Training RF for PRO3 (sliderNeutralPos)\n",
      "Training CNN for PRO3 (sliderNeutralPos)\n",
      "Epoch 1/10\n",
      "134/134 [==============================] - 1s 6ms/step - loss: 1.9567 - accuracy: 0.2822\n",
      "Epoch 2/10\n",
      "134/134 [==============================] - 1s 6ms/step - loss: 1.6877 - accuracy: 0.3829\n",
      "Epoch 3/10\n",
      "134/134 [==============================] - 1s 6ms/step - loss: 1.5089 - accuracy: 0.4484\n",
      "Epoch 4/10\n",
      "134/134 [==============================] - 1s 6ms/step - loss: 1.3210 - accuracy: 0.5059\n",
      "Epoch 5/10\n",
      "134/134 [==============================] - 1s 6ms/step - loss: 1.1571 - accuracy: 0.5826\n",
      "Epoch 6/10\n",
      "134/134 [==============================] - 1s 6ms/step - loss: 1.0146 - accuracy: 0.6415\n",
      "Epoch 7/10\n",
      "134/134 [==============================] - 1s 6ms/step - loss: 0.8921 - accuracy: 0.6854\n",
      "Epoch 8/10\n",
      "134/134 [==============================] - 1s 6ms/step - loss: 0.7836 - accuracy: 0.7239\n",
      "Epoch 9/10\n",
      "134/134 [==============================] - 1s 6ms/step - loss: 0.6551 - accuracy: 0.7669\n",
      "Epoch 10/10\n",
      "134/134 [==============================] - 1s 6ms/step - loss: 0.5993 - accuracy: 0.7913\n",
      "23/35 [==================>...........] - ETA: 0s"
     ]
    },
    {
     "name": "stderr",
     "output_type": "stream",
     "text": [
      "/usr/local/lib/python3.10/dist-packages/keras/src/engine/training.py:3079: UserWarning: You are saving your model as an HDF5 file via `model.save()`. This file format is considered legacy. We recommend using instead the native Keras format, e.g. `model.save('my_model.keras')`.\n",
      "  saving_api.save_model(\n"
     ]
    },
    {
     "name": "stdout",
     "output_type": "stream",
     "text": [
      "35/35 [==============================] - 0s 2ms/step\n",
      "Training LSTM for PRO3 (sliderNeutralPos)\n",
      "Epoch 1/10\n",
      "134/134 [==============================] - 19s 127ms/step - loss: 2.1151 - accuracy: 0.2000\n",
      "Epoch 2/10\n",
      "134/134 [==============================] - 17s 127ms/step - loss: 2.0497 - accuracy: 0.2188\n",
      "Epoch 3/10\n",
      "134/134 [==============================] - 17s 127ms/step - loss: 2.0384 - accuracy: 0.2216\n",
      "Epoch 4/10\n",
      "134/134 [==============================] - 17s 126ms/step - loss: 2.0327 - accuracy: 0.2291\n",
      "Epoch 5/10\n",
      "134/134 [==============================] - 17s 124ms/step - loss: 2.0268 - accuracy: 0.2310\n",
      "Epoch 6/10\n",
      "134/134 [==============================] - 17s 126ms/step - loss: 2.0233 - accuracy: 0.2270\n",
      "Epoch 7/10\n",
      "134/134 [==============================] - 17s 128ms/step - loss: 2.0214 - accuracy: 0.2338\n",
      "Epoch 8/10\n",
      "134/134 [==============================] - 17s 127ms/step - loss: 2.0208 - accuracy: 0.2324\n",
      "Epoch 9/10\n",
      "134/134 [==============================] - 17s 127ms/step - loss: 2.0154 - accuracy: 0.2347\n",
      "Epoch 10/10\n",
      "134/134 [==============================] - 17s 127ms/step - loss: 2.0046 - accuracy: 0.2411\n"
     ]
    },
    {
     "name": "stderr",
     "output_type": "stream",
     "text": [
      "/usr/local/lib/python3.10/dist-packages/keras/src/engine/training.py:3079: UserWarning: You are saving your model as an HDF5 file via `model.save()`. This file format is considered legacy. We recommend using instead the native Keras format, e.g. `model.save('my_model.keras')`.\n",
      "  saving_api.save_model(\n"
     ]
    },
    {
     "name": "stdout",
     "output_type": "stream",
     "text": [
      "35/35 [==============================] - 2s 36ms/step\n"
     ]
    },
    {
     "name": "stderr",
     "output_type": "stream",
     "text": [
      "Processing Folds:  80%|████████  | 4/5 [4:50:52<1:12:56, 4376.10s/it]"
     ]
    },
    {
     "name": "stdout",
     "output_type": "stream",
     "text": [
      "Loading data from: folds_transformed/fold_5_train_pca.csv\n",
      "Loading data from: folds_transformed/fold_5_test_pca.csv\n",
      "Training RF for P1 (sliderNeutralPos)\n",
      "Training CNN for P1 (sliderNeutralPos)\n",
      "Epoch 1/10\n",
      "134/134 [==============================] - 1s 6ms/step - loss: 2.0458 - accuracy: 0.2569\n",
      "Epoch 2/10\n",
      "134/134 [==============================] - 1s 6ms/step - loss: 1.7799 - accuracy: 0.3551\n",
      "Epoch 3/10\n",
      "134/134 [==============================] - 1s 6ms/step - loss: 1.5653 - accuracy: 0.4299\n",
      "Epoch 4/10\n",
      "134/134 [==============================] - 1s 6ms/step - loss: 1.4016 - accuracy: 0.5009\n",
      "Epoch 5/10\n",
      "134/134 [==============================] - 1s 6ms/step - loss: 1.2172 - accuracy: 0.5757\n",
      "Epoch 6/10\n",
      "134/134 [==============================] - 1s 6ms/step - loss: 1.0556 - accuracy: 0.6165\n",
      "Epoch 7/10\n",
      "134/134 [==============================] - 1s 6ms/step - loss: 0.8970 - accuracy: 0.6864\n",
      "Epoch 8/10\n",
      "134/134 [==============================] - 1s 6ms/step - loss: 0.7909 - accuracy: 0.7302\n",
      "Epoch 9/10\n",
      "134/134 [==============================] - 1s 6ms/step - loss: 0.6786 - accuracy: 0.7654\n",
      "Epoch 10/10\n",
      "134/134 [==============================] - 1s 6ms/step - loss: 0.5989 - accuracy: 0.7893\n",
      "34/34 [==============================] - 0s 2ms/step\n"
     ]
    },
    {
     "name": "stderr",
     "output_type": "stream",
     "text": [
      "/usr/local/lib/python3.10/dist-packages/keras/src/engine/training.py:3079: UserWarning: You are saving your model as an HDF5 file via `model.save()`. This file format is considered legacy. We recommend using instead the native Keras format, e.g. `model.save('my_model.keras')`.\n",
      "  saving_api.save_model(\n"
     ]
    },
    {
     "name": "stdout",
     "output_type": "stream",
     "text": [
      "Training LSTM for P1 (sliderNeutralPos)\n",
      "Epoch 1/10\n",
      "134/134 [==============================] - 8s 43ms/step - loss: 2.1437 - accuracy: 0.2314\n",
      "Epoch 2/10\n",
      "134/134 [==============================] - 5s 40ms/step - loss: 2.1059 - accuracy: 0.2365\n",
      "Epoch 3/10\n",
      "134/134 [==============================] - 5s 34ms/step - loss: 2.0989 - accuracy: 0.2274\n",
      "Epoch 4/10\n",
      "134/134 [==============================] - 5s 35ms/step - loss: 2.0971 - accuracy: 0.2419\n",
      "Epoch 5/10\n",
      "134/134 [==============================] - 5s 38ms/step - loss: 2.0864 - accuracy: 0.2396\n",
      "Epoch 6/10\n",
      "134/134 [==============================] - 5s 38ms/step - loss: 2.0853 - accuracy: 0.2417\n",
      "Epoch 7/10\n",
      "134/134 [==============================] - 5s 40ms/step - loss: 2.0828 - accuracy: 0.2403\n",
      "Epoch 8/10\n",
      "134/134 [==============================] - 5s 40ms/step - loss: 2.0791 - accuracy: 0.2391\n",
      "Epoch 9/10\n",
      "134/134 [==============================] - 5s 38ms/step - loss: 2.0775 - accuracy: 0.2414\n",
      "Epoch 10/10\n",
      "134/134 [==============================] - 5s 34ms/step - loss: 2.0728 - accuracy: 0.2424\n"
     ]
    },
    {
     "name": "stderr",
     "output_type": "stream",
     "text": [
      "/usr/local/lib/python3.10/dist-packages/keras/src/engine/training.py:3079: UserWarning: You are saving your model as an HDF5 file via `model.save()`. This file format is considered legacy. We recommend using instead the native Keras format, e.g. `model.save('my_model.keras')`.\n",
      "  saving_api.save_model(\n"
     ]
    },
    {
     "name": "stdout",
     "output_type": "stream",
     "text": [
      "34/34 [==============================] - 1s 13ms/step\n",
      "Training RF for N1 (sliderNeutralPos)\n",
      "Training CNN for N1 (sliderNeutralPos)\n",
      "Epoch 1/10\n",
      "134/134 [==============================] - 1s 6ms/step - loss: 2.1027 - accuracy: 0.2773\n",
      "Epoch 2/10\n",
      "134/134 [==============================] - 1s 6ms/step - loss: 1.7912 - accuracy: 0.3748\n",
      "Epoch 3/10\n",
      "134/134 [==============================] - 1s 6ms/step - loss: 1.5412 - accuracy: 0.4639\n",
      "Epoch 4/10\n",
      "134/134 [==============================] - 1s 6ms/step - loss: 1.3300 - accuracy: 0.5417\n",
      "Epoch 5/10\n",
      "134/134 [==============================] - 1s 6ms/step - loss: 1.1329 - accuracy: 0.6240\n",
      "Epoch 6/10\n",
      "134/134 [==============================] - 1s 6ms/step - loss: 0.9826 - accuracy: 0.6730\n",
      "Epoch 7/10\n",
      "134/134 [==============================] - 1s 6ms/step - loss: 0.8286 - accuracy: 0.7180\n",
      "Epoch 8/10\n",
      "134/134 [==============================] - 1s 6ms/step - loss: 0.7160 - accuracy: 0.7609\n",
      "Epoch 9/10\n",
      "134/134 [==============================] - 1s 6ms/step - loss: 0.6117 - accuracy: 0.7961\n",
      "Epoch 10/10\n",
      "134/134 [==============================] - 1s 6ms/step - loss: 0.5367 - accuracy: 0.8162\n",
      "34/34 [==============================] - 0s 2ms/step\n"
     ]
    },
    {
     "name": "stderr",
     "output_type": "stream",
     "text": [
      "/usr/local/lib/python3.10/dist-packages/keras/src/engine/training.py:3079: UserWarning: You are saving your model as an HDF5 file via `model.save()`. This file format is considered legacy. We recommend using instead the native Keras format, e.g. `model.save('my_model.keras')`.\n",
      "  saving_api.save_model(\n"
     ]
    },
    {
     "name": "stdout",
     "output_type": "stream",
     "text": [
      "Training LSTM for N1 (sliderNeutralPos)\n",
      "Epoch 1/10\n",
      "134/134 [==============================] - 8s 43ms/step - loss: 2.2676 - accuracy: 0.1969\n",
      "Epoch 2/10\n",
      "134/134 [==============================] - 6s 41ms/step - loss: 2.2378 - accuracy: 0.1964\n",
      "Epoch 3/10\n",
      "134/134 [==============================] - 5s 40ms/step - loss: 2.2380 - accuracy: 0.1922\n",
      "Epoch 4/10\n",
      "134/134 [==============================] - 5s 40ms/step - loss: 2.2338 - accuracy: 0.1920\n",
      "Epoch 5/10\n",
      "134/134 [==============================] - 5s 40ms/step - loss: 2.2331 - accuracy: 0.2025\n",
      "Epoch 6/10\n",
      "134/134 [==============================] - 5s 38ms/step - loss: 2.2256 - accuracy: 0.2018\n",
      "Epoch 7/10\n",
      "134/134 [==============================] - 5s 39ms/step - loss: 2.2226 - accuracy: 0.2105\n",
      "Epoch 8/10\n",
      "134/134 [==============================] - 5s 39ms/step - loss: 2.2229 - accuracy: 0.2126\n",
      "Epoch 9/10\n",
      "134/134 [==============================] - 6s 41ms/step - loss: 2.2200 - accuracy: 0.2096\n",
      "Epoch 10/10\n",
      "134/134 [==============================] - 5s 41ms/step - loss: 2.2142 - accuracy: 0.2075\n"
     ]
    },
    {
     "name": "stderr",
     "output_type": "stream",
     "text": [
      "/usr/local/lib/python3.10/dist-packages/keras/src/engine/training.py:3079: UserWarning: You are saving your model as an HDF5 file via `model.save()`. This file format is considered legacy. We recommend using instead the native Keras format, e.g. `model.save('my_model.keras')`.\n",
      "  saving_api.save_model(\n"
     ]
    },
    {
     "name": "stdout",
     "output_type": "stream",
     "text": [
      "34/34 [==============================] - 1s 14ms/step\n",
      "Training RF for P2 (sliderNeutralPos)\n",
      "Training CNN for P2 (sliderNeutralPos)\n",
      "Epoch 1/10\n",
      "134/134 [==============================] - 1s 6ms/step - loss: 2.0266 - accuracy: 0.2618\n",
      "Epoch 2/10\n",
      "134/134 [==============================] - 1s 6ms/step - loss: 1.7479 - accuracy: 0.3619\n",
      "Epoch 3/10\n",
      "134/134 [==============================] - 1s 6ms/step - loss: 1.5609 - accuracy: 0.4442\n",
      "Epoch 4/10\n",
      "134/134 [==============================] - 1s 6ms/step - loss: 1.3887 - accuracy: 0.5047\n",
      "Epoch 5/10\n",
      "134/134 [==============================] - 1s 6ms/step - loss: 1.2290 - accuracy: 0.5586\n",
      "Epoch 6/10\n",
      "134/134 [==============================] - 1s 6ms/step - loss: 1.0472 - accuracy: 0.6371\n",
      "Epoch 7/10\n",
      "134/134 [==============================] - 1s 6ms/step - loss: 0.9300 - accuracy: 0.6735\n",
      "Epoch 8/10\n",
      "134/134 [==============================] - 1s 6ms/step - loss: 0.8029 - accuracy: 0.7232\n",
      "Epoch 9/10\n",
      "134/134 [==============================] - 1s 6ms/step - loss: 0.6854 - accuracy: 0.7590\n",
      "Epoch 10/10\n",
      "134/134 [==============================] - 1s 6ms/step - loss: 0.6025 - accuracy: 0.7911\n",
      "34/34 [==============================] - 0s 2ms/step\n"
     ]
    },
    {
     "name": "stderr",
     "output_type": "stream",
     "text": [
      "/usr/local/lib/python3.10/dist-packages/keras/src/engine/training.py:3079: UserWarning: You are saving your model as an HDF5 file via `model.save()`. This file format is considered legacy. We recommend using instead the native Keras format, e.g. `model.save('my_model.keras')`.\n",
      "  saving_api.save_model(\n"
     ]
    },
    {
     "name": "stdout",
     "output_type": "stream",
     "text": [
      "Training LSTM for P2 (sliderNeutralPos)\n",
      "Epoch 1/10\n",
      "134/134 [==============================] - 8s 42ms/step - loss: 2.1400 - accuracy: 0.1929\n",
      "Epoch 2/10\n",
      "134/134 [==============================] - 6s 42ms/step - loss: 2.0727 - accuracy: 0.2089\n",
      "Epoch 3/10\n",
      "134/134 [==============================] - 5s 39ms/step - loss: 2.0676 - accuracy: 0.2039\n",
      "Epoch 4/10\n",
      "134/134 [==============================] - 5s 37ms/step - loss: 2.0613 - accuracy: 0.2154\n",
      "Epoch 5/10\n",
      "134/134 [==============================] - 5s 34ms/step - loss: 2.0580 - accuracy: 0.2110\n",
      "Epoch 6/10\n",
      "134/134 [==============================] - 5s 34ms/step - loss: 2.0513 - accuracy: 0.2100\n",
      "Epoch 7/10\n",
      "134/134 [==============================] - 5s 35ms/step - loss: 2.0448 - accuracy: 0.2124\n",
      "Epoch 8/10\n",
      "134/134 [==============================] - 5s 35ms/step - loss: 2.0413 - accuracy: 0.2150\n",
      "Epoch 9/10\n",
      "134/134 [==============================] - 5s 38ms/step - loss: 2.0374 - accuracy: 0.2269\n",
      "Epoch 10/10\n",
      "134/134 [==============================] - 5s 39ms/step - loss: 2.0323 - accuracy: 0.2098\n"
     ]
    },
    {
     "name": "stderr",
     "output_type": "stream",
     "text": [
      "/usr/local/lib/python3.10/dist-packages/keras/src/engine/training.py:3079: UserWarning: You are saving your model as an HDF5 file via `model.save()`. This file format is considered legacy. We recommend using instead the native Keras format, e.g. `model.save('my_model.keras')`.\n",
      "  saving_api.save_model(\n"
     ]
    },
    {
     "name": "stdout",
     "output_type": "stream",
     "text": [
      "34/34 [==============================] - 1s 13ms/step\n",
      "Training RF for N2 (sliderNeutralPos)\n",
      "Training CNN for N2 (sliderNeutralPos)\n",
      "Epoch 1/10\n",
      "134/134 [==============================] - 1s 6ms/step - loss: 1.9009 - accuracy: 0.3270\n",
      "Epoch 2/10\n",
      "134/134 [==============================] - 1s 6ms/step - loss: 1.6531 - accuracy: 0.4072\n",
      "Epoch 3/10\n",
      "134/134 [==============================] - 1s 6ms/step - loss: 1.4660 - accuracy: 0.4721\n",
      "Epoch 4/10\n",
      "134/134 [==============================] - 1s 6ms/step - loss: 1.2867 - accuracy: 0.5391\n",
      "Epoch 5/10\n",
      "134/134 [==============================] - 1s 6ms/step - loss: 1.1254 - accuracy: 0.6034\n",
      "Epoch 6/10\n",
      "134/134 [==============================] - 1s 6ms/step - loss: 0.9812 - accuracy: 0.6435\n",
      "Epoch 7/10\n",
      "134/134 [==============================] - 1s 6ms/step - loss: 0.8591 - accuracy: 0.7025\n",
      "Epoch 8/10\n",
      "134/134 [==============================] - 1s 6ms/step - loss: 0.7251 - accuracy: 0.7489\n",
      "Epoch 9/10\n",
      "134/134 [==============================] - 1s 6ms/step - loss: 0.6503 - accuracy: 0.7722\n",
      "Epoch 10/10\n",
      "134/134 [==============================] - 1s 6ms/step - loss: 0.5684 - accuracy: 0.8085\n",
      " 1/34 [..............................] - ETA: 3s"
     ]
    },
    {
     "name": "stderr",
     "output_type": "stream",
     "text": [
      "/usr/local/lib/python3.10/dist-packages/keras/src/engine/training.py:3079: UserWarning: You are saving your model as an HDF5 file via `model.save()`. This file format is considered legacy. We recommend using instead the native Keras format, e.g. `model.save('my_model.keras')`.\n",
      "  saving_api.save_model(\n"
     ]
    },
    {
     "name": "stdout",
     "output_type": "stream",
     "text": [
      "34/34 [==============================] - 0s 2ms/step\n",
      "Training LSTM for N2 (sliderNeutralPos)\n",
      "Epoch 1/10\n",
      "134/134 [==============================] - 8s 42ms/step - loss: 2.0394 - accuracy: 0.2679\n",
      "Epoch 2/10\n",
      "134/134 [==============================] - 5s 40ms/step - loss: 1.9663 - accuracy: 0.2782\n",
      "Epoch 3/10\n",
      "134/134 [==============================] - 5s 35ms/step - loss: 1.9678 - accuracy: 0.2738\n",
      "Epoch 4/10\n",
      "134/134 [==============================] - 5s 36ms/step - loss: 1.9624 - accuracy: 0.2804\n",
      "Epoch 5/10\n",
      "134/134 [==============================] - 4s 34ms/step - loss: 1.9564 - accuracy: 0.2804\n",
      "Epoch 6/10\n",
      "134/134 [==============================] - 5s 35ms/step - loss: 1.9574 - accuracy: 0.2869\n",
      "Epoch 7/10\n",
      "134/134 [==============================] - 4s 33ms/step - loss: 1.9580 - accuracy: 0.2876\n",
      "Epoch 8/10\n",
      "134/134 [==============================] - 5s 34ms/step - loss: 1.9542 - accuracy: 0.2857\n",
      "Epoch 9/10\n",
      "134/134 [==============================] - 5s 34ms/step - loss: 1.9550 - accuracy: 0.2865\n",
      "Epoch 10/10\n",
      "134/134 [==============================] - 5s 35ms/step - loss: 1.9502 - accuracy: 0.2879\n"
     ]
    },
    {
     "name": "stderr",
     "output_type": "stream",
     "text": [
      "/usr/local/lib/python3.10/dist-packages/keras/src/engine/training.py:3079: UserWarning: You are saving your model as an HDF5 file via `model.save()`. This file format is considered legacy. We recommend using instead the native Keras format, e.g. `model.save('my_model.keras')`.\n",
      "  saving_api.save_model(\n"
     ]
    },
    {
     "name": "stdout",
     "output_type": "stream",
     "text": [
      "34/34 [==============================] - 1s 13ms/step\n",
      "Training RF for N3 (sliderNeutralPos)\n",
      "Training CNN for N3 (sliderNeutralPos)\n",
      "Epoch 1/10\n",
      "134/134 [==============================] - 1s 6ms/step - loss: 2.0670 - accuracy: 0.2586\n",
      "Epoch 2/10\n",
      "134/134 [==============================] - 1s 6ms/step - loss: 1.8116 - accuracy: 0.3666\n",
      "Epoch 3/10\n",
      "134/134 [==============================] - 1s 6ms/step - loss: 1.6010 - accuracy: 0.4475\n",
      "Epoch 4/10\n",
      "134/134 [==============================] - 1s 6ms/step - loss: 1.3988 - accuracy: 0.5122\n",
      "Epoch 5/10\n",
      "134/134 [==============================] - 1s 6ms/step - loss: 1.2046 - accuracy: 0.5851\n",
      "Epoch 6/10\n",
      "134/134 [==============================] - 1s 6ms/step - loss: 1.0612 - accuracy: 0.6231\n",
      "Epoch 7/10\n",
      "134/134 [==============================] - 1s 6ms/step - loss: 0.8969 - accuracy: 0.6974\n",
      "Epoch 8/10\n",
      "134/134 [==============================] - 1s 6ms/step - loss: 0.7991 - accuracy: 0.7307\n",
      "Epoch 9/10\n",
      "134/134 [==============================] - 1s 6ms/step - loss: 0.6971 - accuracy: 0.7609\n",
      "Epoch 10/10\n",
      "134/134 [==============================] - 1s 6ms/step - loss: 0.6042 - accuracy: 0.7947\n",
      "34/34 [==============================] - 0s 2ms/step\n"
     ]
    },
    {
     "name": "stderr",
     "output_type": "stream",
     "text": [
      "/usr/local/lib/python3.10/dist-packages/keras/src/engine/training.py:3079: UserWarning: You are saving your model as an HDF5 file via `model.save()`. This file format is considered legacy. We recommend using instead the native Keras format, e.g. `model.save('my_model.keras')`.\n",
      "  saving_api.save_model(\n"
     ]
    },
    {
     "name": "stdout",
     "output_type": "stream",
     "text": [
      "Training LSTM for N3 (sliderNeutralPos)\n",
      "Epoch 1/10\n",
      "134/134 [==============================] - 8s 43ms/step - loss: 2.1991 - accuracy: 0.1896\n",
      "Epoch 2/10\n",
      "134/134 [==============================] - 6s 42ms/step - loss: 2.1498 - accuracy: 0.2011\n",
      "Epoch 3/10\n",
      "134/134 [==============================] - 5s 41ms/step - loss: 2.1422 - accuracy: 0.2126\n",
      "Epoch 4/10\n",
      "134/134 [==============================] - 5s 40ms/step - loss: 2.1500 - accuracy: 0.2121\n",
      "Epoch 5/10\n",
      "134/134 [==============================] - 5s 40ms/step - loss: 2.1459 - accuracy: 0.2112\n",
      "Epoch 6/10\n",
      "134/134 [==============================] - 5s 39ms/step - loss: 2.1425 - accuracy: 0.2135\n",
      "Epoch 7/10\n",
      "134/134 [==============================] - 5s 37ms/step - loss: 2.1409 - accuracy: 0.2154\n",
      "Epoch 8/10\n",
      "134/134 [==============================] - 5s 40ms/step - loss: 2.1383 - accuracy: 0.2159\n",
      "Epoch 9/10\n",
      "134/134 [==============================] - 5s 39ms/step - loss: 2.1411 - accuracy: 0.2138\n",
      "Epoch 10/10\n",
      "134/134 [==============================] - 5s 35ms/step - loss: 2.1391 - accuracy: 0.2079\n"
     ]
    },
    {
     "name": "stderr",
     "output_type": "stream",
     "text": [
      "/usr/local/lib/python3.10/dist-packages/keras/src/engine/training.py:3079: UserWarning: You are saving your model as an HDF5 file via `model.save()`. This file format is considered legacy. We recommend using instead the native Keras format, e.g. `model.save('my_model.keras')`.\n",
      "  saving_api.save_model(\n"
     ]
    },
    {
     "name": "stdout",
     "output_type": "stream",
     "text": [
      "34/34 [==============================] - 1s 13ms/step\n",
      "Training RF for P3 (sliderNeutralPos)\n",
      "Training CNN for P3 (sliderNeutralPos)\n",
      "Epoch 1/10\n",
      "134/134 [==============================] - 1s 6ms/step - loss: 2.0532 - accuracy: 0.2443\n",
      "Epoch 2/10\n",
      "134/134 [==============================] - 1s 6ms/step - loss: 1.7454 - accuracy: 0.3636\n",
      "Epoch 3/10\n",
      "134/134 [==============================] - 1s 6ms/step - loss: 1.5244 - accuracy: 0.4587\n",
      "Epoch 4/10\n",
      "134/134 [==============================] - 1s 6ms/step - loss: 1.3205 - accuracy: 0.5284\n",
      "Epoch 5/10\n",
      "134/134 [==============================] - 1s 6ms/step - loss: 1.1441 - accuracy: 0.5959\n",
      "Epoch 6/10\n",
      "134/134 [==============================] - 1s 6ms/step - loss: 1.0210 - accuracy: 0.6395\n",
      "Epoch 7/10\n",
      "134/134 [==============================] - 1s 6ms/step - loss: 0.8770 - accuracy: 0.7004\n",
      "Epoch 8/10\n",
      "134/134 [==============================] - 1s 5ms/step - loss: 0.7605 - accuracy: 0.7386\n",
      "Epoch 9/10\n",
      "134/134 [==============================] - 1s 5ms/step - loss: 0.6699 - accuracy: 0.7686\n",
      "Epoch 10/10\n",
      "134/134 [==============================] - 1s 6ms/step - loss: 0.5929 - accuracy: 0.7972\n",
      "34/34 [==============================] - 0s 2ms/step\n"
     ]
    },
    {
     "name": "stderr",
     "output_type": "stream",
     "text": [
      "/usr/local/lib/python3.10/dist-packages/keras/src/engine/training.py:3079: UserWarning: You are saving your model as an HDF5 file via `model.save()`. This file format is considered legacy. We recommend using instead the native Keras format, e.g. `model.save('my_model.keras')`.\n",
      "  saving_api.save_model(\n"
     ]
    },
    {
     "name": "stdout",
     "output_type": "stream",
     "text": [
      "Training LSTM for P3 (sliderNeutralPos)\n",
      "Epoch 1/10\n",
      "134/134 [==============================] - 8s 42ms/step - loss: 2.1945 - accuracy: 0.1922\n",
      "Epoch 2/10\n",
      "134/134 [==============================] - 6s 41ms/step - loss: 2.1355 - accuracy: 0.1925\n",
      "Epoch 3/10\n",
      "134/134 [==============================] - 6s 41ms/step - loss: 2.1322 - accuracy: 0.1969\n",
      "Epoch 4/10\n",
      "134/134 [==============================] - 5s 38ms/step - loss: 2.1235 - accuracy: 0.2114\n",
      "Epoch 5/10\n",
      "134/134 [==============================] - 5s 34ms/step - loss: 2.1255 - accuracy: 0.2049\n",
      "Epoch 6/10\n",
      "134/134 [==============================] - 5s 34ms/step - loss: 2.1201 - accuracy: 0.2072\n",
      "Epoch 7/10\n",
      "134/134 [==============================] - 5s 34ms/step - loss: 2.1229 - accuracy: 0.2091\n",
      "Epoch 8/10\n",
      "134/134 [==============================] - 5s 35ms/step - loss: 2.1236 - accuracy: 0.2046\n",
      "Epoch 9/10\n",
      "134/134 [==============================] - 5s 34ms/step - loss: 2.1179 - accuracy: 0.2051\n",
      "Epoch 10/10\n",
      "134/134 [==============================] - 5s 34ms/step - loss: 2.1207 - accuracy: 0.2075\n"
     ]
    },
    {
     "name": "stderr",
     "output_type": "stream",
     "text": [
      "/usr/local/lib/python3.10/dist-packages/keras/src/engine/training.py:3079: UserWarning: You are saving your model as an HDF5 file via `model.save()`. This file format is considered legacy. We recommend using instead the native Keras format, e.g. `model.save('my_model.keras')`.\n",
      "  saving_api.save_model(\n"
     ]
    },
    {
     "name": "stdout",
     "output_type": "stream",
     "text": [
      "34/34 [==============================] - 1s 13ms/step\n",
      "Training RF for SE1 (sliderNegPos)\n",
      "Training CNN for SE1 (sliderNegPos)\n",
      "Epoch 1/10\n",
      "134/134 [==============================] - 1s 6ms/step - loss: 1.2142 - accuracy: 0.4742\n",
      "Epoch 2/10\n",
      "134/134 [==============================] - 1s 6ms/step - loss: 1.0207 - accuracy: 0.5415\n",
      "Epoch 3/10\n",
      "134/134 [==============================] - 1s 6ms/step - loss: 0.9421 - accuracy: 0.5900\n",
      "Epoch 4/10\n",
      "134/134 [==============================] - 1s 6ms/step - loss: 0.8497 - accuracy: 0.6310\n",
      "Epoch 5/10\n",
      "134/134 [==============================] - 1s 6ms/step - loss: 0.7742 - accuracy: 0.6763\n",
      "Epoch 6/10\n",
      "134/134 [==============================] - 1s 6ms/step - loss: 0.6909 - accuracy: 0.7213\n",
      "Epoch 7/10\n",
      "134/134 [==============================] - 1s 6ms/step - loss: 0.6226 - accuracy: 0.7429\n",
      "Epoch 8/10\n",
      "134/134 [==============================] - 1s 6ms/step - loss: 0.5365 - accuracy: 0.7850\n",
      "Epoch 9/10\n",
      "134/134 [==============================] - 1s 6ms/step - loss: 0.4740 - accuracy: 0.8214\n",
      "Epoch 10/10\n",
      "134/134 [==============================] - 1s 6ms/step - loss: 0.4262 - accuracy: 0.8458\n",
      "34/34 [==============================] - 0s 2ms/step\n"
     ]
    },
    {
     "name": "stderr",
     "output_type": "stream",
     "text": [
      "/usr/local/lib/python3.10/dist-packages/keras/src/engine/training.py:3079: UserWarning: You are saving your model as an HDF5 file via `model.save()`. This file format is considered legacy. We recommend using instead the native Keras format, e.g. `model.save('my_model.keras')`.\n",
      "  saving_api.save_model(\n"
     ]
    },
    {
     "name": "stdout",
     "output_type": "stream",
     "text": [
      "Training LSTM for SE1 (sliderNegPos)\n",
      "Epoch 1/10\n",
      "134/134 [==============================] - 8s 42ms/step - loss: 1.3570 - accuracy: 0.4508\n",
      "Epoch 2/10\n",
      "134/134 [==============================] - 5s 36ms/step - loss: 1.1673 - accuracy: 0.4883\n",
      "Epoch 3/10\n",
      "134/134 [==============================] - 5s 34ms/step - loss: 1.1632 - accuracy: 0.4925\n",
      "Epoch 4/10\n",
      "134/134 [==============================] - 5s 35ms/step - loss: 1.1591 - accuracy: 0.4941\n",
      "Epoch 5/10\n",
      "134/134 [==============================] - 5s 35ms/step - loss: 1.1506 - accuracy: 0.4953\n",
      "Epoch 6/10\n",
      "134/134 [==============================] - 5s 35ms/step - loss: 1.1525 - accuracy: 0.4962\n",
      "Epoch 7/10\n",
      "134/134 [==============================] - 5s 38ms/step - loss: 1.1451 - accuracy: 0.4974\n",
      "Epoch 8/10\n",
      "134/134 [==============================] - 5s 36ms/step - loss: 1.1485 - accuracy: 0.4965\n",
      "Epoch 9/10\n",
      "134/134 [==============================] - 5s 37ms/step - loss: 1.1473 - accuracy: 0.4960\n",
      "Epoch 10/10\n",
      "134/134 [==============================] - 5s 40ms/step - loss: 1.1464 - accuracy: 0.4965\n"
     ]
    },
    {
     "name": "stderr",
     "output_type": "stream",
     "text": [
      "/usr/local/lib/python3.10/dist-packages/keras/src/engine/training.py:3079: UserWarning: You are saving your model as an HDF5 file via `model.save()`. This file format is considered legacy. We recommend using instead the native Keras format, e.g. `model.save('my_model.keras')`.\n",
      "  saving_api.save_model(\n"
     ]
    },
    {
     "name": "stdout",
     "output_type": "stream",
     "text": [
      "34/34 [==============================] - 1s 13ms/step\n",
      "Training RF for SE2 (sliderNeutralPos)\n",
      "Training CNN for SE2 (sliderNeutralPos)\n",
      "Epoch 1/10\n",
      "134/134 [==============================] - 1s 6ms/step - loss: 1.2282 - accuracy: 0.4388\n",
      "Epoch 2/10\n",
      "134/134 [==============================] - 1s 6ms/step - loss: 1.0560 - accuracy: 0.5129\n",
      "Epoch 3/10\n",
      "134/134 [==============================] - 1s 6ms/step - loss: 0.9708 - accuracy: 0.5717\n",
      "Epoch 4/10\n",
      "134/134 [==============================] - 1s 6ms/step - loss: 0.8829 - accuracy: 0.6205\n",
      "Epoch 5/10\n",
      "134/134 [==============================] - 1s 6ms/step - loss: 0.7903 - accuracy: 0.6620\n",
      "Epoch 6/10\n",
      "134/134 [==============================] - 1s 6ms/step - loss: 0.7067 - accuracy: 0.7077\n",
      "Epoch 7/10\n",
      "134/134 [==============================] - 1s 6ms/step - loss: 0.6390 - accuracy: 0.7480\n",
      "Epoch 8/10\n",
      "134/134 [==============================] - 1s 6ms/step - loss: 0.5645 - accuracy: 0.7750\n",
      "Epoch 9/10\n",
      "134/134 [==============================] - 1s 6ms/step - loss: 0.4869 - accuracy: 0.8050\n",
      "Epoch 10/10\n",
      "134/134 [==============================] - 1s 6ms/step - loss: 0.4358 - accuracy: 0.8319\n",
      "34/34 [==============================] - 0s 2ms/step\n"
     ]
    },
    {
     "name": "stderr",
     "output_type": "stream",
     "text": [
      "/usr/local/lib/python3.10/dist-packages/keras/src/engine/training.py:3079: UserWarning: You are saving your model as an HDF5 file via `model.save()`. This file format is considered legacy. We recommend using instead the native Keras format, e.g. `model.save('my_model.keras')`.\n",
      "  saving_api.save_model(\n"
     ]
    },
    {
     "name": "stdout",
     "output_type": "stream",
     "text": [
      "Training LSTM for SE2 (sliderNeutralPos)\n",
      "Epoch 1/10\n",
      "134/134 [==============================] - 8s 42ms/step - loss: 1.3733 - accuracy: 0.3884\n",
      "Epoch 2/10\n",
      "134/134 [==============================] - 6s 41ms/step - loss: 1.1972 - accuracy: 0.3966\n",
      "Epoch 3/10\n",
      "134/134 [==============================] - 6s 42ms/step - loss: 1.1878 - accuracy: 0.4086\n",
      "Epoch 4/10\n",
      "134/134 [==============================] - 5s 39ms/step - loss: 1.1833 - accuracy: 0.4069\n",
      "Epoch 5/10\n",
      "134/134 [==============================] - 5s 39ms/step - loss: 1.1787 - accuracy: 0.4069\n",
      "Epoch 6/10\n",
      "134/134 [==============================] - 5s 36ms/step - loss: 1.1764 - accuracy: 0.4116\n",
      "Epoch 7/10\n",
      "134/134 [==============================] - 5s 34ms/step - loss: 1.1780 - accuracy: 0.4100\n",
      "Epoch 8/10\n",
      "134/134 [==============================] - 5s 34ms/step - loss: 1.1753 - accuracy: 0.4151\n",
      "Epoch 9/10\n",
      "134/134 [==============================] - 5s 37ms/step - loss: 1.1767 - accuracy: 0.4119\n",
      "Epoch 10/10\n",
      "134/134 [==============================] - 5s 38ms/step - loss: 1.1731 - accuracy: 0.4184\n"
     ]
    },
    {
     "name": "stderr",
     "output_type": "stream",
     "text": [
      "/usr/local/lib/python3.10/dist-packages/keras/src/engine/training.py:3079: UserWarning: You are saving your model as an HDF5 file via `model.save()`. This file format is considered legacy. We recommend using instead the native Keras format, e.g. `model.save('my_model.keras')`.\n",
      "  saving_api.save_model(\n"
     ]
    },
    {
     "name": "stdout",
     "output_type": "stream",
     "text": [
      "34/34 [==============================] - 1s 13ms/step\n",
      "Training RF for SE3 (sliderNeutralPos)\n",
      "Training CNN for SE3 (sliderNeutralPos)\n",
      "Epoch 1/10\n",
      "134/134 [==============================] - 1s 6ms/step - loss: 1.1831 - accuracy: 0.4768\n",
      "Epoch 2/10\n",
      "134/134 [==============================] - 1s 6ms/step - loss: 1.0360 - accuracy: 0.5394\n",
      "Epoch 3/10\n",
      "134/134 [==============================] - 1s 6ms/step - loss: 0.9294 - accuracy: 0.5895\n",
      "Epoch 4/10\n",
      "134/134 [==============================] - 1s 6ms/step - loss: 0.8412 - accuracy: 0.6418\n",
      "Epoch 5/10\n",
      "134/134 [==============================] - 1s 6ms/step - loss: 0.7309 - accuracy: 0.6894\n",
      "Epoch 6/10\n",
      "134/134 [==============================] - 1s 6ms/step - loss: 0.6465 - accuracy: 0.7311\n",
      "Epoch 7/10\n",
      "134/134 [==============================] - 1s 6ms/step - loss: 0.5425 - accuracy: 0.7815\n",
      "Epoch 8/10\n",
      "134/134 [==============================] - 1s 6ms/step - loss: 0.4741 - accuracy: 0.8207\n",
      "Epoch 9/10\n",
      "134/134 [==============================] - 1s 6ms/step - loss: 0.4084 - accuracy: 0.8366\n",
      "Epoch 10/10\n",
      "134/134 [==============================] - 1s 6ms/step - loss: 0.3434 - accuracy: 0.8718\n",
      "34/34 [==============================] - 0s 2ms/step\n"
     ]
    },
    {
     "name": "stderr",
     "output_type": "stream",
     "text": [
      "/usr/local/lib/python3.10/dist-packages/keras/src/engine/training.py:3079: UserWarning: You are saving your model as an HDF5 file via `model.save()`. This file format is considered legacy. We recommend using instead the native Keras format, e.g. `model.save('my_model.keras')`.\n",
      "  saving_api.save_model(\n"
     ]
    },
    {
     "name": "stdout",
     "output_type": "stream",
     "text": [
      "Training LSTM for SE3 (sliderNeutralPos)\n",
      "Epoch 1/10\n",
      "134/134 [==============================] - 8s 43ms/step - loss: 1.3552 - accuracy: 0.4051\n",
      "Epoch 2/10\n",
      "134/134 [==============================] - 6s 42ms/step - loss: 1.1872 - accuracy: 0.4095\n",
      "Epoch 3/10\n",
      "134/134 [==============================] - 6s 42ms/step - loss: 1.1751 - accuracy: 0.4259\n",
      "Epoch 4/10\n",
      "134/134 [==============================] - 6s 42ms/step - loss: 1.1698 - accuracy: 0.4217\n",
      "Epoch 5/10\n",
      "134/134 [==============================] - 5s 41ms/step - loss: 1.1684 - accuracy: 0.4262\n",
      "Epoch 6/10\n",
      "134/134 [==============================] - 5s 40ms/step - loss: 1.1697 - accuracy: 0.4194\n",
      "Epoch 7/10\n",
      "134/134 [==============================] - 5s 35ms/step - loss: 1.1659 - accuracy: 0.4376\n",
      "Epoch 8/10\n",
      "134/134 [==============================] - 5s 36ms/step - loss: 1.1612 - accuracy: 0.4341\n",
      "Epoch 9/10\n",
      "134/134 [==============================] - 5s 37ms/step - loss: 1.1637 - accuracy: 0.4318\n",
      "Epoch 10/10\n",
      "134/134 [==============================] - 5s 37ms/step - loss: 1.1650 - accuracy: 0.4374\n"
     ]
    },
    {
     "name": "stderr",
     "output_type": "stream",
     "text": [
      "/usr/local/lib/python3.10/dist-packages/keras/src/engine/training.py:3079: UserWarning: You are saving your model as an HDF5 file via `model.save()`. This file format is considered legacy. We recommend using instead the native Keras format, e.g. `model.save('my_model.keras')`.\n",
      "  saving_api.save_model(\n"
     ]
    },
    {
     "name": "stdout",
     "output_type": "stream",
     "text": [
      "34/34 [==============================] - 1s 14ms/step\n",
      "Training RF for SE4 (sliderNeutralPos)\n",
      "Training CNN for SE4 (sliderNeutralPos)\n",
      "Epoch 1/10\n",
      "134/134 [==============================] - 1s 6ms/step - loss: 1.1315 - accuracy: 0.5511\n",
      "Epoch 2/10\n",
      "134/134 [==============================] - 1s 6ms/step - loss: 0.9321 - accuracy: 0.5947\n",
      "Epoch 3/10\n",
      "134/134 [==============================] - 1s 6ms/step - loss: 0.8497 - accuracy: 0.6367\n",
      "Epoch 4/10\n",
      "134/134 [==============================] - 1s 6ms/step - loss: 0.7905 - accuracy: 0.6615\n",
      "Epoch 5/10\n",
      "134/134 [==============================] - 1s 6ms/step - loss: 0.7165 - accuracy: 0.7058\n",
      "Epoch 6/10\n",
      "134/134 [==============================] - 1s 6ms/step - loss: 0.6436 - accuracy: 0.7271\n",
      "Epoch 7/10\n",
      "134/134 [==============================] - 1s 6ms/step - loss: 0.5731 - accuracy: 0.7689\n",
      "Epoch 8/10\n",
      "134/134 [==============================] - 1s 6ms/step - loss: 0.5276 - accuracy: 0.7902\n",
      "Epoch 9/10\n",
      "134/134 [==============================] - 1s 6ms/step - loss: 0.4508 - accuracy: 0.8298\n",
      "Epoch 10/10\n",
      "134/134 [==============================] - 1s 6ms/step - loss: 0.3928 - accuracy: 0.8502\n",
      "34/34 [==============================] - 0s 2ms/step\n"
     ]
    },
    {
     "name": "stderr",
     "output_type": "stream",
     "text": [
      "/usr/local/lib/python3.10/dist-packages/keras/src/engine/training.py:3079: UserWarning: You are saving your model as an HDF5 file via `model.save()`. This file format is considered legacy. We recommend using instead the native Keras format, e.g. `model.save('my_model.keras')`.\n",
      "  saving_api.save_model(\n"
     ]
    },
    {
     "name": "stdout",
     "output_type": "stream",
     "text": [
      "Training LSTM for SE4 (sliderNeutralPos)\n",
      "Epoch 1/10\n",
      "134/134 [==============================] - 8s 42ms/step - loss: 1.2568 - accuracy: 0.5445\n",
      "Epoch 2/10\n",
      "134/134 [==============================] - 5s 39ms/step - loss: 1.0600 - accuracy: 0.5680\n",
      "Epoch 3/10\n",
      "134/134 [==============================] - 5s 34ms/step - loss: 1.0462 - accuracy: 0.5755\n",
      "Epoch 4/10\n",
      "134/134 [==============================] - 5s 35ms/step - loss: 1.0420 - accuracy: 0.5752\n",
      "Epoch 5/10\n",
      "134/134 [==============================] - 5s 35ms/step - loss: 1.0420 - accuracy: 0.5759\n",
      "Epoch 6/10\n",
      "134/134 [==============================] - 5s 35ms/step - loss: 1.0359 - accuracy: 0.5759\n",
      "Epoch 7/10\n",
      "134/134 [==============================] - 5s 38ms/step - loss: 1.0360 - accuracy: 0.5759\n",
      "Epoch 8/10\n",
      "134/134 [==============================] - 6s 42ms/step - loss: 1.0351 - accuracy: 0.5759\n",
      "Epoch 9/10\n",
      "134/134 [==============================] - 5s 39ms/step - loss: 1.0339 - accuracy: 0.5759\n",
      "Epoch 10/10\n",
      "134/134 [==============================] - 5s 39ms/step - loss: 1.0326 - accuracy: 0.5759\n"
     ]
    },
    {
     "name": "stderr",
     "output_type": "stream",
     "text": [
      "/usr/local/lib/python3.10/dist-packages/keras/src/engine/training.py:3079: UserWarning: You are saving your model as an HDF5 file via `model.save()`. This file format is considered legacy. We recommend using instead the native Keras format, e.g. `model.save('my_model.keras')`.\n",
      "  saving_api.save_model(\n"
     ]
    },
    {
     "name": "stdout",
     "output_type": "stream",
     "text": [
      "34/34 [==============================] - 1s 13ms/step\n",
      "Training RF for MIL1 (sliderNegPos)\n",
      "Training CNN for MIL1 (sliderNegPos)\n",
      "Epoch 1/10\n",
      "134/134 [==============================] - 1s 6ms/step - loss: 1.8027 - accuracy: 0.2928\n",
      "Epoch 2/10\n",
      "134/134 [==============================] - 1s 6ms/step - loss: 1.5323 - accuracy: 0.4133\n",
      "Epoch 3/10\n",
      "134/134 [==============================] - 1s 6ms/step - loss: 1.3580 - accuracy: 0.4841\n",
      "Epoch 4/10\n",
      "134/134 [==============================] - 1s 6ms/step - loss: 1.1821 - accuracy: 0.5708\n",
      "Epoch 5/10\n",
      "134/134 [==============================] - 1s 6ms/step - loss: 1.0212 - accuracy: 0.6402\n",
      "Epoch 6/10\n",
      "134/134 [==============================] - 1s 6ms/step - loss: 0.8899 - accuracy: 0.6819\n",
      "Epoch 7/10\n",
      "134/134 [==============================] - 1s 6ms/step - loss: 0.7610 - accuracy: 0.7253\n",
      "Epoch 8/10\n",
      "134/134 [==============================] - 1s 6ms/step - loss: 0.6542 - accuracy: 0.7675\n",
      "Epoch 9/10\n",
      "134/134 [==============================] - 1s 6ms/step - loss: 0.5607 - accuracy: 0.8022\n",
      "Epoch 10/10\n",
      "134/134 [==============================] - 1s 6ms/step - loss: 0.4921 - accuracy: 0.8308\n",
      "34/34 [==============================] - 0s 2ms/step\n"
     ]
    },
    {
     "name": "stderr",
     "output_type": "stream",
     "text": [
      "/usr/local/lib/python3.10/dist-packages/keras/src/engine/training.py:3079: UserWarning: You are saving your model as an HDF5 file via `model.save()`. This file format is considered legacy. We recommend using instead the native Keras format, e.g. `model.save('my_model.keras')`.\n",
      "  saving_api.save_model(\n"
     ]
    },
    {
     "name": "stdout",
     "output_type": "stream",
     "text": [
      "Training LSTM for MIL1 (sliderNegPos)\n",
      "Epoch 1/10\n",
      "134/134 [==============================] - 8s 43ms/step - loss: 1.9879 - accuracy: 0.1772\n",
      "Epoch 2/10\n",
      "134/134 [==============================] - 6s 42ms/step - loss: 1.8909 - accuracy: 0.1880\n",
      "Epoch 3/10\n",
      "134/134 [==============================] - 5s 41ms/step - loss: 1.8830 - accuracy: 0.1932\n",
      "Epoch 4/10\n",
      "134/134 [==============================] - 5s 41ms/step - loss: 1.8787 - accuracy: 0.1875\n",
      "Epoch 5/10\n",
      "134/134 [==============================] - 5s 40ms/step - loss: 1.8756 - accuracy: 0.1967\n",
      "Epoch 6/10\n",
      "134/134 [==============================] - 5s 41ms/step - loss: 1.8718 - accuracy: 0.1913\n",
      "Epoch 7/10\n",
      "134/134 [==============================] - 5s 38ms/step - loss: 1.8660 - accuracy: 0.2053\n",
      "Epoch 8/10\n",
      "134/134 [==============================] - 5s 40ms/step - loss: 1.8602 - accuracy: 0.2128\n",
      "Epoch 9/10\n",
      "134/134 [==============================] - 5s 37ms/step - loss: 1.8596 - accuracy: 0.2044\n",
      "Epoch 10/10\n",
      "134/134 [==============================] - 5s 38ms/step - loss: 1.8526 - accuracy: 0.2072\n"
     ]
    },
    {
     "name": "stderr",
     "output_type": "stream",
     "text": [
      "/usr/local/lib/python3.10/dist-packages/keras/src/engine/training.py:3079: UserWarning: You are saving your model as an HDF5 file via `model.save()`. This file format is considered legacy. We recommend using instead the native Keras format, e.g. `model.save('my_model.keras')`.\n",
      "  saving_api.save_model(\n"
     ]
    },
    {
     "name": "stdout",
     "output_type": "stream",
     "text": [
      "34/34 [==============================] - 1s 14ms/step\n",
      "Training RF for MIL2 (sliderNeutralPos)\n",
      "Training CNN for MIL2 (sliderNeutralPos)\n",
      "Epoch 1/10\n",
      "134/134 [==============================] - 1s 6ms/step - loss: 1.6494 - accuracy: 0.3326\n",
      "Epoch 2/10\n",
      "134/134 [==============================] - 1s 6ms/step - loss: 1.4246 - accuracy: 0.4320\n",
      "Epoch 3/10\n",
      "134/134 [==============================] - 1s 6ms/step - loss: 1.3005 - accuracy: 0.4962\n",
      "Epoch 4/10\n",
      "134/134 [==============================] - 1s 6ms/step - loss: 1.1521 - accuracy: 0.5511\n",
      "Epoch 5/10\n",
      "134/134 [==============================] - 1s 6ms/step - loss: 1.0253 - accuracy: 0.6071\n",
      "Epoch 6/10\n",
      "134/134 [==============================] - 1s 6ms/step - loss: 0.8991 - accuracy: 0.6669\n",
      "Epoch 7/10\n",
      "134/134 [==============================] - 1s 6ms/step - loss: 0.7695 - accuracy: 0.7218\n",
      "Epoch 8/10\n",
      "134/134 [==============================] - 1s 6ms/step - loss: 0.6941 - accuracy: 0.7450\n",
      "Epoch 9/10\n",
      "134/134 [==============================] - 1s 6ms/step - loss: 0.5972 - accuracy: 0.7834\n",
      "Epoch 10/10\n",
      "134/134 [==============================] - 1s 6ms/step - loss: 0.5130 - accuracy: 0.8211\n",
      "34/34 [==============================] - 0s 2ms/step\n"
     ]
    },
    {
     "name": "stderr",
     "output_type": "stream",
     "text": [
      "/usr/local/lib/python3.10/dist-packages/keras/src/engine/training.py:3079: UserWarning: You are saving your model as an HDF5 file via `model.save()`. This file format is considered legacy. We recommend using instead the native Keras format, e.g. `model.save('my_model.keras')`.\n",
      "  saving_api.save_model(\n"
     ]
    },
    {
     "name": "stdout",
     "output_type": "stream",
     "text": [
      "Training LSTM for MIL2 (sliderNeutralPos)\n",
      "Epoch 1/10\n",
      "134/134 [==============================] - 8s 43ms/step - loss: 1.8292 - accuracy: 0.2339\n",
      "Epoch 2/10\n",
      "134/134 [==============================] - 5s 41ms/step - loss: 1.7121 - accuracy: 0.2475\n",
      "Epoch 3/10\n",
      "134/134 [==============================] - 5s 40ms/step - loss: 1.6983 - accuracy: 0.2436\n",
      "Epoch 4/10\n",
      "134/134 [==============================] - 5s 40ms/step - loss: 1.6929 - accuracy: 0.2443\n",
      "Epoch 5/10\n",
      "134/134 [==============================] - 5s 38ms/step - loss: 1.6930 - accuracy: 0.2597\n",
      "Epoch 6/10\n",
      "134/134 [==============================] - 5s 35ms/step - loss: 1.6884 - accuracy: 0.2471\n",
      "Epoch 7/10\n",
      "134/134 [==============================] - 5s 36ms/step - loss: 1.6842 - accuracy: 0.2501\n",
      "Epoch 8/10\n",
      "134/134 [==============================] - 5s 38ms/step - loss: 1.6852 - accuracy: 0.2564\n",
      "Epoch 9/10\n",
      "134/134 [==============================] - 5s 38ms/step - loss: 1.6826 - accuracy: 0.2560\n",
      "Epoch 10/10\n",
      "134/134 [==============================] - 5s 35ms/step - loss: 1.6838 - accuracy: 0.2522\n"
     ]
    },
    {
     "name": "stderr",
     "output_type": "stream",
     "text": [
      "/usr/local/lib/python3.10/dist-packages/keras/src/engine/training.py:3079: UserWarning: You are saving your model as an HDF5 file via `model.save()`. This file format is considered legacy. We recommend using instead the native Keras format, e.g. `model.save('my_model.keras')`.\n",
      "  saving_api.save_model(\n"
     ]
    },
    {
     "name": "stdout",
     "output_type": "stream",
     "text": [
      "34/34 [==============================] - 1s 13ms/step\n",
      "Training RF for MIL3 (sliderNeutralPos)\n",
      "Training CNN for MIL3 (sliderNeutralPos)\n",
      "Epoch 1/10\n",
      "134/134 [==============================] - 1s 6ms/step - loss: 1.7355 - accuracy: 0.3141\n",
      "Epoch 2/10\n",
      "134/134 [==============================] - 1s 6ms/step - loss: 1.5174 - accuracy: 0.4093\n",
      "Epoch 3/10\n",
      "134/134 [==============================] - 1s 6ms/step - loss: 1.3798 - accuracy: 0.4634\n",
      "Epoch 4/10\n",
      "134/134 [==============================] - 1s 6ms/step - loss: 1.2433 - accuracy: 0.5265\n",
      "Epoch 5/10\n",
      "134/134 [==============================] - 1s 6ms/step - loss: 1.1014 - accuracy: 0.5959\n",
      "Epoch 6/10\n",
      "134/134 [==============================] - 1s 6ms/step - loss: 0.9875 - accuracy: 0.6338\n",
      "Epoch 7/10\n",
      "134/134 [==============================] - 1s 6ms/step - loss: 0.8715 - accuracy: 0.6774\n",
      "Epoch 8/10\n",
      "134/134 [==============================] - 1s 6ms/step - loss: 0.7838 - accuracy: 0.7107\n",
      "Epoch 9/10\n",
      "134/134 [==============================] - 1s 6ms/step - loss: 0.6722 - accuracy: 0.7553\n",
      "Epoch 10/10\n",
      "134/134 [==============================] - 1s 6ms/step - loss: 0.6169 - accuracy: 0.7724\n",
      "34/34 [==============================] - 0s 2ms/step\n"
     ]
    },
    {
     "name": "stderr",
     "output_type": "stream",
     "text": [
      "/usr/local/lib/python3.10/dist-packages/keras/src/engine/training.py:3079: UserWarning: You are saving your model as an HDF5 file via `model.save()`. This file format is considered legacy. We recommend using instead the native Keras format, e.g. `model.save('my_model.keras')`.\n",
      "  saving_api.save_model(\n"
     ]
    },
    {
     "name": "stdout",
     "output_type": "stream",
     "text": [
      "Training LSTM for MIL3 (sliderNeutralPos)\n",
      "Epoch 1/10\n",
      "134/134 [==============================] - 8s 41ms/step - loss: 1.8807 - accuracy: 0.2429\n",
      "Epoch 2/10\n",
      "134/134 [==============================] - 6s 42ms/step - loss: 1.7913 - accuracy: 0.2471\n",
      "Epoch 3/10\n",
      "134/134 [==============================] - 5s 37ms/step - loss: 1.7859 - accuracy: 0.2487\n",
      "Epoch 4/10\n",
      "134/134 [==============================] - 5s 35ms/step - loss: 1.7800 - accuracy: 0.2450\n",
      "Epoch 5/10\n",
      "134/134 [==============================] - 5s 35ms/step - loss: 1.7729 - accuracy: 0.2543\n",
      "Epoch 6/10\n",
      "134/134 [==============================] - 5s 40ms/step - loss: 1.7724 - accuracy: 0.2473\n",
      "Epoch 7/10\n",
      "134/134 [==============================] - 5s 38ms/step - loss: 1.7724 - accuracy: 0.2475\n",
      "Epoch 8/10\n",
      "134/134 [==============================] - 5s 36ms/step - loss: 1.7699 - accuracy: 0.2468\n",
      "Epoch 9/10\n",
      "134/134 [==============================] - 5s 34ms/step - loss: 1.7719 - accuracy: 0.2499\n",
      "Epoch 10/10\n",
      "134/134 [==============================] - 5s 34ms/step - loss: 1.7668 - accuracy: 0.2607\n"
     ]
    },
    {
     "name": "stderr",
     "output_type": "stream",
     "text": [
      "/usr/local/lib/python3.10/dist-packages/keras/src/engine/training.py:3079: UserWarning: You are saving your model as an HDF5 file via `model.save()`. This file format is considered legacy. We recommend using instead the native Keras format, e.g. `model.save('my_model.keras')`.\n",
      "  saving_api.save_model(\n"
     ]
    },
    {
     "name": "stdout",
     "output_type": "stream",
     "text": [
      "34/34 [==============================] - 1s 13ms/step\n",
      "Training RF for MIL4 (sliderNeutralPos)\n",
      "Training CNN for MIL4 (sliderNeutralPos)\n",
      "Epoch 1/10\n",
      "134/134 [==============================] - 1s 6ms/step - loss: 1.8138 - accuracy: 0.2979\n",
      "Epoch 2/10\n",
      "134/134 [==============================] - 1s 6ms/step - loss: 1.5487 - accuracy: 0.3940\n",
      "Epoch 3/10\n",
      "134/134 [==============================] - 1s 6ms/step - loss: 1.3719 - accuracy: 0.4798\n",
      "Epoch 4/10\n",
      "134/134 [==============================] - 1s 6ms/step - loss: 1.2191 - accuracy: 0.5384\n",
      "Epoch 5/10\n",
      "134/134 [==============================] - 1s 6ms/step - loss: 1.0761 - accuracy: 0.6050\n",
      "Epoch 6/10\n",
      "134/134 [==============================] - 1s 6ms/step - loss: 0.9328 - accuracy: 0.6622\n",
      "Epoch 7/10\n",
      "134/134 [==============================] - 1s 6ms/step - loss: 0.8403 - accuracy: 0.6988\n",
      "Epoch 8/10\n",
      "134/134 [==============================] - 1s 6ms/step - loss: 0.7507 - accuracy: 0.7309\n",
      "Epoch 9/10\n",
      "134/134 [==============================] - 1s 6ms/step - loss: 0.6318 - accuracy: 0.7736\n",
      "Epoch 10/10\n",
      "134/134 [==============================] - 1s 6ms/step - loss: 0.5582 - accuracy: 0.7979\n",
      "34/34 [==============================] - 0s 2ms/step\n"
     ]
    },
    {
     "name": "stderr",
     "output_type": "stream",
     "text": [
      "/usr/local/lib/python3.10/dist-packages/keras/src/engine/training.py:3079: UserWarning: You are saving your model as an HDF5 file via `model.save()`. This file format is considered legacy. We recommend using instead the native Keras format, e.g. `model.save('my_model.keras')`.\n",
      "  saving_api.save_model(\n"
     ]
    },
    {
     "name": "stdout",
     "output_type": "stream",
     "text": [
      "Training LSTM for MIL4 (sliderNeutralPos)\n",
      "Epoch 1/10\n",
      "134/134 [==============================] - 8s 43ms/step - loss: 1.9609 - accuracy: 0.2011\n",
      "Epoch 2/10\n",
      "134/134 [==============================] - 6s 42ms/step - loss: 1.8664 - accuracy: 0.2208\n",
      "Epoch 3/10\n",
      "134/134 [==============================] - 5s 40ms/step - loss: 1.8576 - accuracy: 0.2206\n",
      "Epoch 4/10\n",
      "134/134 [==============================] - 6s 42ms/step - loss: 1.8538 - accuracy: 0.2164\n",
      "Epoch 5/10\n",
      "134/134 [==============================] - 6s 42ms/step - loss: 1.8503 - accuracy: 0.2187\n",
      "Epoch 6/10\n",
      "134/134 [==============================] - 5s 41ms/step - loss: 1.8472 - accuracy: 0.2203\n",
      "Epoch 7/10\n",
      "134/134 [==============================] - 5s 39ms/step - loss: 1.8434 - accuracy: 0.2349\n",
      "Epoch 8/10\n",
      "134/134 [==============================] - 5s 39ms/step - loss: 1.8429 - accuracy: 0.2339\n",
      "Epoch 9/10\n",
      "134/134 [==============================] - 5s 38ms/step - loss: 1.8424 - accuracy: 0.2267\n",
      "Epoch 10/10\n",
      "134/134 [==============================] - 5s 35ms/step - loss: 1.8415 - accuracy: 0.2330\n"
     ]
    },
    {
     "name": "stderr",
     "output_type": "stream",
     "text": [
      "/usr/local/lib/python3.10/dist-packages/keras/src/engine/training.py:3079: UserWarning: You are saving your model as an HDF5 file via `model.save()`. This file format is considered legacy. We recommend using instead the native Keras format, e.g. `model.save('my_model.keras')`.\n",
      "  saving_api.save_model(\n"
     ]
    },
    {
     "name": "stdout",
     "output_type": "stream",
     "text": [
      "34/34 [==============================] - 1s 13ms/step\n",
      "Training RF for MIL5 (sliderNeutralPos)\n",
      "Training CNN for MIL5 (sliderNeutralPos)\n",
      "Epoch 1/10\n",
      "134/134 [==============================] - 1s 6ms/step - loss: 1.7171 - accuracy: 0.3465\n",
      "Epoch 2/10\n",
      "134/134 [==============================] - 1s 6ms/step - loss: 1.4497 - accuracy: 0.4496\n",
      "Epoch 3/10\n",
      "134/134 [==============================] - 1s 6ms/step - loss: 1.2832 - accuracy: 0.5230\n",
      "Epoch 4/10\n",
      "134/134 [==============================] - 1s 6ms/step - loss: 1.1337 - accuracy: 0.5844\n",
      "Epoch 5/10\n",
      "134/134 [==============================] - 1s 6ms/step - loss: 0.9982 - accuracy: 0.6334\n",
      "Epoch 6/10\n",
      "134/134 [==============================] - 1s 6ms/step - loss: 0.8529 - accuracy: 0.6997\n",
      "Epoch 7/10\n",
      "134/134 [==============================] - 1s 6ms/step - loss: 0.7616 - accuracy: 0.7234\n",
      "Epoch 8/10\n",
      "134/134 [==============================] - 1s 6ms/step - loss: 0.6507 - accuracy: 0.7618\n",
      "Epoch 9/10\n",
      "134/134 [==============================] - 1s 6ms/step - loss: 0.5557 - accuracy: 0.7975\n",
      "Epoch 10/10\n",
      "134/134 [==============================] - 1s 6ms/step - loss: 0.4899 - accuracy: 0.8291\n",
      "34/34 [==============================] - 0s 2ms/step\n"
     ]
    },
    {
     "name": "stderr",
     "output_type": "stream",
     "text": [
      "/usr/local/lib/python3.10/dist-packages/keras/src/engine/training.py:3079: UserWarning: You are saving your model as an HDF5 file via `model.save()`. This file format is considered legacy. We recommend using instead the native Keras format, e.g. `model.save('my_model.keras')`.\n",
      "  saving_api.save_model(\n"
     ]
    },
    {
     "name": "stdout",
     "output_type": "stream",
     "text": [
      "Training LSTM for MIL5 (sliderNeutralPos)\n",
      "Epoch 1/10\n",
      "134/134 [==============================] - 8s 43ms/step - loss: 1.9244 - accuracy: 0.2358\n",
      "Epoch 2/10\n",
      "134/134 [==============================] - 5s 39ms/step - loss: 1.8183 - accuracy: 0.2445\n",
      "Epoch 3/10\n",
      "134/134 [==============================] - 5s 36ms/step - loss: 1.8159 - accuracy: 0.2466\n",
      "Epoch 4/10\n",
      "134/134 [==============================] - 5s 38ms/step - loss: 1.8096 - accuracy: 0.2541\n",
      "Epoch 5/10\n",
      "134/134 [==============================] - 5s 36ms/step - loss: 1.8029 - accuracy: 0.2588\n",
      "Epoch 6/10\n",
      "134/134 [==============================] - 5s 40ms/step - loss: 1.7985 - accuracy: 0.2630\n",
      "Epoch 7/10\n",
      "134/134 [==============================] - 5s 40ms/step - loss: 1.7962 - accuracy: 0.2604\n",
      "Epoch 8/10\n",
      "134/134 [==============================] - 5s 39ms/step - loss: 1.7900 - accuracy: 0.2651\n",
      "Epoch 9/10\n",
      "134/134 [==============================] - 5s 39ms/step - loss: 1.7876 - accuracy: 0.2729\n",
      "Epoch 10/10\n",
      "134/134 [==============================] - 5s 39ms/step - loss: 1.7868 - accuracy: 0.2794\n"
     ]
    },
    {
     "name": "stderr",
     "output_type": "stream",
     "text": [
      "/usr/local/lib/python3.10/dist-packages/keras/src/engine/training.py:3079: UserWarning: You are saving your model as an HDF5 file via `model.save()`. This file format is considered legacy. We recommend using instead the native Keras format, e.g. `model.save('my_model.keras')`.\n",
      "  saving_api.save_model(\n"
     ]
    },
    {
     "name": "stdout",
     "output_type": "stream",
     "text": [
      "34/34 [==============================] - 1s 13ms/step\n",
      "Training RF for PRO1 (sliderNeutralPos)\n",
      "Training CNN for PRO1 (sliderNeutralPos)\n",
      "Epoch 1/10\n",
      "134/134 [==============================] - 1s 6ms/step - loss: 2.0936 - accuracy: 0.2595\n",
      "Epoch 2/10\n",
      "134/134 [==============================] - 1s 6ms/step - loss: 1.8540 - accuracy: 0.3479\n",
      "Epoch 3/10\n",
      "134/134 [==============================] - 1s 6ms/step - loss: 1.6521 - accuracy: 0.4175\n",
      "Epoch 4/10\n",
      "134/134 [==============================] - 1s 6ms/step - loss: 1.4387 - accuracy: 0.4962\n",
      "Epoch 5/10\n",
      "134/134 [==============================] - 1s 6ms/step - loss: 1.2598 - accuracy: 0.5612\n",
      "Epoch 6/10\n",
      "134/134 [==============================] - 1s 6ms/step - loss: 1.0666 - accuracy: 0.6320\n",
      "Epoch 7/10\n",
      "134/134 [==============================] - 1s 6ms/step - loss: 0.9246 - accuracy: 0.6824\n",
      "Epoch 8/10\n",
      "134/134 [==============================] - 1s 6ms/step - loss: 0.8170 - accuracy: 0.7194\n",
      "Epoch 9/10\n",
      "134/134 [==============================] - 1s 6ms/step - loss: 0.7036 - accuracy: 0.7623\n",
      "Epoch 10/10\n",
      "134/134 [==============================] - 1s 6ms/step - loss: 0.6058 - accuracy: 0.7937\n",
      "34/34 [==============================] - 0s 2ms/step\n"
     ]
    },
    {
     "name": "stderr",
     "output_type": "stream",
     "text": [
      "/usr/local/lib/python3.10/dist-packages/keras/src/engine/training.py:3079: UserWarning: You are saving your model as an HDF5 file via `model.save()`. This file format is considered legacy. We recommend using instead the native Keras format, e.g. `model.save('my_model.keras')`.\n",
      "  saving_api.save_model(\n"
     ]
    },
    {
     "name": "stdout",
     "output_type": "stream",
     "text": [
      "Training LSTM for PRO1 (sliderNeutralPos)\n",
      "Epoch 1/10\n",
      "134/134 [==============================] - 8s 42ms/step - loss: 2.2168 - accuracy: 0.1988\n",
      "Epoch 2/10\n",
      "134/134 [==============================] - 5s 40ms/step - loss: 2.1895 - accuracy: 0.2037\n",
      "Epoch 3/10\n",
      "134/134 [==============================] - 5s 40ms/step - loss: 2.1821 - accuracy: 0.2098\n",
      "Epoch 4/10\n",
      "134/134 [==============================] - 5s 36ms/step - loss: 2.1847 - accuracy: 0.2056\n",
      "Epoch 5/10\n",
      "134/134 [==============================] - 5s 37ms/step - loss: 2.1775 - accuracy: 0.2117\n",
      "Epoch 6/10\n",
      "134/134 [==============================] - 5s 37ms/step - loss: 2.1706 - accuracy: 0.2154\n",
      "Epoch 7/10\n",
      "134/134 [==============================] - 5s 38ms/step - loss: 2.1721 - accuracy: 0.2093\n",
      "Epoch 8/10\n",
      "134/134 [==============================] - 5s 35ms/step - loss: 2.1645 - accuracy: 0.2166\n",
      "Epoch 9/10\n",
      "134/134 [==============================] - 4s 33ms/step - loss: 2.1654 - accuracy: 0.2180\n",
      "Epoch 10/10\n",
      "134/134 [==============================] - 5s 35ms/step - loss: 2.1613 - accuracy: 0.2182\n"
     ]
    },
    {
     "name": "stderr",
     "output_type": "stream",
     "text": [
      "/usr/local/lib/python3.10/dist-packages/keras/src/engine/training.py:3079: UserWarning: You are saving your model as an HDF5 file via `model.save()`. This file format is considered legacy. We recommend using instead the native Keras format, e.g. `model.save('my_model.keras')`.\n",
      "  saving_api.save_model(\n"
     ]
    },
    {
     "name": "stdout",
     "output_type": "stream",
     "text": [
      "34/34 [==============================] - 1s 13ms/step\n",
      "Training RF for PRO2 (sliderNeutralPos)\n",
      "Training CNN for PRO2 (sliderNeutralPos)\n",
      "Epoch 1/10\n",
      "134/134 [==============================] - 1s 6ms/step - loss: 2.0533 - accuracy: 0.2576\n",
      "Epoch 2/10\n",
      "134/134 [==============================] - 1s 6ms/step - loss: 1.7536 - accuracy: 0.3633\n",
      "Epoch 3/10\n",
      "134/134 [==============================] - 1s 6ms/step - loss: 1.5466 - accuracy: 0.4412\n",
      "Epoch 4/10\n",
      "134/134 [==============================] - 1s 6ms/step - loss: 1.3247 - accuracy: 0.5338\n",
      "Epoch 5/10\n",
      "134/134 [==============================] - 1s 6ms/step - loss: 1.1635 - accuracy: 0.5963\n",
      "Epoch 6/10\n",
      "134/134 [==============================] - 1s 6ms/step - loss: 0.9796 - accuracy: 0.6477\n",
      "Epoch 7/10\n",
      "134/134 [==============================] - 1s 6ms/step - loss: 0.8470 - accuracy: 0.7037\n",
      "Epoch 8/10\n",
      "134/134 [==============================] - 1s 6ms/step - loss: 0.7405 - accuracy: 0.7436\n",
      "Epoch 9/10\n",
      "134/134 [==============================] - 1s 6ms/step - loss: 0.6307 - accuracy: 0.7799\n",
      "Epoch 10/10\n",
      "134/134 [==============================] - 1s 6ms/step - loss: 0.5311 - accuracy: 0.8167\n",
      "26/34 [=====================>........] - ETA: 0s"
     ]
    },
    {
     "name": "stderr",
     "output_type": "stream",
     "text": [
      "/usr/local/lib/python3.10/dist-packages/keras/src/engine/training.py:3079: UserWarning: You are saving your model as an HDF5 file via `model.save()`. This file format is considered legacy. We recommend using instead the native Keras format, e.g. `model.save('my_model.keras')`.\n",
      "  saving_api.save_model(\n"
     ]
    },
    {
     "name": "stdout",
     "output_type": "stream",
     "text": [
      "34/34 [==============================] - 0s 2ms/step\n",
      "Training LSTM for PRO2 (sliderNeutralPos)\n",
      "Epoch 1/10\n",
      "134/134 [==============================] - 8s 42ms/step - loss: 2.1948 - accuracy: 0.1650\n",
      "Epoch 2/10\n",
      "134/134 [==============================] - 5s 41ms/step - loss: 2.1526 - accuracy: 0.1723\n",
      "Epoch 3/10\n",
      "134/134 [==============================] - 5s 40ms/step - loss: 2.1480 - accuracy: 0.1662\n",
      "Epoch 4/10\n",
      "134/134 [==============================] - 5s 39ms/step - loss: 2.1386 - accuracy: 0.1758\n",
      "Epoch 5/10\n",
      "134/134 [==============================] - 5s 39ms/step - loss: 2.1377 - accuracy: 0.1767\n",
      "Epoch 6/10\n",
      "134/134 [==============================] - 5s 40ms/step - loss: 2.1297 - accuracy: 0.1845\n",
      "Epoch 7/10\n",
      "134/134 [==============================] - 5s 39ms/step - loss: 2.1273 - accuracy: 0.1936\n",
      "Epoch 8/10\n",
      "134/134 [==============================] - 5s 34ms/step - loss: 2.1192 - accuracy: 0.1936\n",
      "Epoch 9/10\n",
      "134/134 [==============================] - 5s 35ms/step - loss: 2.1189 - accuracy: 0.1915\n",
      "Epoch 10/10\n",
      "134/134 [==============================] - 5s 36ms/step - loss: 2.1078 - accuracy: 0.1960\n"
     ]
    },
    {
     "name": "stderr",
     "output_type": "stream",
     "text": [
      "/usr/local/lib/python3.10/dist-packages/keras/src/engine/training.py:3079: UserWarning: You are saving your model as an HDF5 file via `model.save()`. This file format is considered legacy. We recommend using instead the native Keras format, e.g. `model.save('my_model.keras')`.\n",
      "  saving_api.save_model(\n"
     ]
    },
    {
     "name": "stdout",
     "output_type": "stream",
     "text": [
      "34/34 [==============================] - 1s 13ms/step\n",
      "Training RF for PRO3 (sliderNeutralPos)\n",
      "Training CNN for PRO3 (sliderNeutralPos)\n",
      "Epoch 1/10\n",
      "134/134 [==============================] - 1s 6ms/step - loss: 2.0085 - accuracy: 0.2485\n",
      "Epoch 2/10\n",
      "134/134 [==============================] - 1s 6ms/step - loss: 1.7451 - accuracy: 0.3610\n",
      "Epoch 3/10\n",
      "134/134 [==============================] - 1s 6ms/step - loss: 1.5520 - accuracy: 0.4304\n",
      "Epoch 4/10\n",
      "134/134 [==============================] - 1s 6ms/step - loss: 1.3455 - accuracy: 0.5134\n",
      "Epoch 5/10\n",
      "134/134 [==============================] - 1s 6ms/step - loss: 1.1636 - accuracy: 0.5795\n",
      "Epoch 6/10\n",
      "134/134 [==============================] - 1s 6ms/step - loss: 1.0077 - accuracy: 0.6404\n",
      "Epoch 7/10\n",
      "134/134 [==============================] - 1s 6ms/step - loss: 0.8626 - accuracy: 0.6969\n",
      "Epoch 8/10\n",
      "134/134 [==============================] - 1s 6ms/step - loss: 0.7507 - accuracy: 0.7398\n",
      "Epoch 9/10\n",
      "134/134 [==============================] - 1s 6ms/step - loss: 0.6401 - accuracy: 0.7712\n",
      "Epoch 10/10\n",
      "134/134 [==============================] - 1s 6ms/step - loss: 0.5552 - accuracy: 0.8031\n",
      "34/34 [==============================] - 0s 2ms/step\n"
     ]
    },
    {
     "name": "stderr",
     "output_type": "stream",
     "text": [
      "/usr/local/lib/python3.10/dist-packages/keras/src/engine/training.py:3079: UserWarning: You are saving your model as an HDF5 file via `model.save()`. This file format is considered legacy. We recommend using instead the native Keras format, e.g. `model.save('my_model.keras')`.\n",
      "  saving_api.save_model(\n"
     ]
    },
    {
     "name": "stdout",
     "output_type": "stream",
     "text": [
      "Training LSTM for PRO3 (sliderNeutralPos)\n",
      "Epoch 1/10\n",
      "134/134 [==============================] - 8s 42ms/step - loss: 2.1676 - accuracy: 0.1929\n",
      "Epoch 2/10\n",
      "134/134 [==============================] - 5s 40ms/step - loss: 2.1048 - accuracy: 0.2025\n",
      "Epoch 3/10\n",
      "134/134 [==============================] - 5s 39ms/step - loss: 2.1010 - accuracy: 0.2068\n",
      "Epoch 4/10\n",
      "134/134 [==============================] - 5s 38ms/step - loss: 2.0971 - accuracy: 0.1962\n",
      "Epoch 5/10\n",
      "134/134 [==============================] - 5s 37ms/step - loss: 2.0975 - accuracy: 0.2053\n",
      "Epoch 6/10\n",
      "134/134 [==============================] - 5s 38ms/step - loss: 2.0929 - accuracy: 0.2035\n",
      "Epoch 7/10\n",
      "134/134 [==============================] - 5s 37ms/step - loss: 2.0882 - accuracy: 0.2126\n",
      "Epoch 8/10\n",
      "134/134 [==============================] - 5s 35ms/step - loss: 2.0857 - accuracy: 0.2058\n",
      "Epoch 9/10\n",
      "134/134 [==============================] - 5s 34ms/step - loss: 2.0828 - accuracy: 0.2086\n",
      "Epoch 10/10\n",
      "134/134 [==============================] - 5s 34ms/step - loss: 2.0770 - accuracy: 0.2175\n"
     ]
    },
    {
     "name": "stderr",
     "output_type": "stream",
     "text": [
      "/usr/local/lib/python3.10/dist-packages/keras/src/engine/training.py:3079: UserWarning: You are saving your model as an HDF5 file via `model.save()`. This file format is considered legacy. We recommend using instead the native Keras format, e.g. `model.save('my_model.keras')`.\n",
      "  saving_api.save_model(\n"
     ]
    },
    {
     "name": "stdout",
     "output_type": "stream",
     "text": [
      "34/34 [==============================] - 1s 13ms/step\n",
      "Loading data from: folds_transformed/fold_5_train_scaled.csv\n",
      "Loading data from: folds_transformed/fold_5_test_scaled.csv\n",
      "Training RF for P1 (sliderNeutralPos)\n",
      "Training CNN for P1 (sliderNeutralPos)\n",
      "Epoch 1/10\n",
      "134/134 [==============================] - 1s 6ms/step - loss: 2.0073 - accuracy: 0.2775\n",
      "Epoch 2/10\n",
      "134/134 [==============================] - 1s 6ms/step - loss: 1.7283 - accuracy: 0.3678\n",
      "Epoch 3/10\n",
      "134/134 [==============================] - 1s 6ms/step - loss: 1.5192 - accuracy: 0.4587\n",
      "Epoch 4/10\n",
      "134/134 [==============================] - 1s 6ms/step - loss: 1.2912 - accuracy: 0.5314\n",
      "Epoch 5/10\n",
      "134/134 [==============================] - 1s 6ms/step - loss: 1.1286 - accuracy: 0.5952\n",
      "Epoch 6/10\n",
      "134/134 [==============================] - 1s 6ms/step - loss: 0.9741 - accuracy: 0.6599\n",
      "Epoch 7/10\n",
      "134/134 [==============================] - 1s 6ms/step - loss: 0.8374 - accuracy: 0.7077\n",
      "Epoch 8/10\n",
      "134/134 [==============================] - 1s 6ms/step - loss: 0.7125 - accuracy: 0.7557\n",
      "Epoch 9/10\n",
      "134/134 [==============================] - 1s 6ms/step - loss: 0.6480 - accuracy: 0.7771\n",
      "Epoch 10/10\n",
      "134/134 [==============================] - 1s 6ms/step - loss: 0.5379 - accuracy: 0.8141\n",
      "34/34 [==============================] - 0s 2ms/step\n"
     ]
    },
    {
     "name": "stderr",
     "output_type": "stream",
     "text": [
      "/usr/local/lib/python3.10/dist-packages/keras/src/engine/training.py:3079: UserWarning: You are saving your model as an HDF5 file via `model.save()`. This file format is considered legacy. We recommend using instead the native Keras format, e.g. `model.save('my_model.keras')`.\n",
      "  saving_api.save_model(\n"
     ]
    },
    {
     "name": "stdout",
     "output_type": "stream",
     "text": [
      "Training LSTM for P1 (sliderNeutralPos)\n",
      "Epoch 1/10\n",
      "134/134 [==============================] - 19s 129ms/step - loss: 2.1521 - accuracy: 0.2220\n",
      "Epoch 2/10\n",
      "134/134 [==============================] - 16s 122ms/step - loss: 2.0905 - accuracy: 0.2278\n",
      "Epoch 3/10\n",
      "134/134 [==============================] - 17s 128ms/step - loss: 2.0751 - accuracy: 0.2269\n",
      "Epoch 4/10\n",
      "134/134 [==============================] - 23s 174ms/step - loss: 2.0671 - accuracy: 0.2335\n",
      "Epoch 5/10\n",
      "134/134 [==============================] - 17s 128ms/step - loss: 2.0487 - accuracy: 0.2445\n",
      "Epoch 6/10\n",
      "134/134 [==============================] - 17s 129ms/step - loss: 2.0367 - accuracy: 0.2414\n",
      "Epoch 7/10\n",
      "134/134 [==============================] - 17s 126ms/step - loss: 2.0248 - accuracy: 0.2468\n",
      "Epoch 8/10\n",
      "134/134 [==============================] - 16s 122ms/step - loss: 2.0071 - accuracy: 0.2499\n",
      "Epoch 9/10\n",
      "134/134 [==============================] - 16s 121ms/step - loss: 1.9930 - accuracy: 0.2588\n",
      "Epoch 10/10\n",
      "134/134 [==============================] - 16s 121ms/step - loss: 1.9791 - accuracy: 0.2628\n"
     ]
    },
    {
     "name": "stderr",
     "output_type": "stream",
     "text": [
      "/usr/local/lib/python3.10/dist-packages/keras/src/engine/training.py:3079: UserWarning: You are saving your model as an HDF5 file via `model.save()`. This file format is considered legacy. We recommend using instead the native Keras format, e.g. `model.save('my_model.keras')`.\n",
      "  saving_api.save_model(\n"
     ]
    },
    {
     "name": "stdout",
     "output_type": "stream",
     "text": [
      "34/34 [==============================] - 2s 37ms/step\n",
      "Training RF for N1 (sliderNeutralPos)\n",
      "Training CNN for N1 (sliderNeutralPos)\n",
      "Epoch 1/10\n",
      "134/134 [==============================] - 1s 7ms/step - loss: 2.0818 - accuracy: 0.2881\n",
      "Epoch 2/10\n",
      "134/134 [==============================] - 1s 6ms/step - loss: 1.7680 - accuracy: 0.3917\n",
      "Epoch 3/10\n",
      "134/134 [==============================] - 1s 6ms/step - loss: 1.5201 - accuracy: 0.4782\n",
      "Epoch 4/10\n",
      "134/134 [==============================] - 1s 6ms/step - loss: 1.3223 - accuracy: 0.5431\n",
      "Epoch 5/10\n",
      "134/134 [==============================] - 1s 6ms/step - loss: 1.1491 - accuracy: 0.6062\n",
      "Epoch 6/10\n",
      "134/134 [==============================] - 1s 6ms/step - loss: 0.9807 - accuracy: 0.6620\n",
      "Epoch 7/10\n",
      "134/134 [==============================] - 1s 6ms/step - loss: 0.8583 - accuracy: 0.7025\n",
      "Epoch 8/10\n",
      "134/134 [==============================] - 1s 6ms/step - loss: 0.7501 - accuracy: 0.7361\n",
      "Epoch 9/10\n",
      "134/134 [==============================] - 1s 6ms/step - loss: 0.6489 - accuracy: 0.7785\n",
      "Epoch 10/10\n",
      "134/134 [==============================] - 1s 6ms/step - loss: 0.5523 - accuracy: 0.8078\n",
      "34/34 [==============================] - 0s 2ms/step\n"
     ]
    },
    {
     "name": "stderr",
     "output_type": "stream",
     "text": [
      "/usr/local/lib/python3.10/dist-packages/keras/src/engine/training.py:3079: UserWarning: You are saving your model as an HDF5 file via `model.save()`. This file format is considered legacy. We recommend using instead the native Keras format, e.g. `model.save('my_model.keras')`.\n",
      "  saving_api.save_model(\n"
     ]
    },
    {
     "name": "stdout",
     "output_type": "stream",
     "text": [
      "Training LSTM for N1 (sliderNeutralPos)\n",
      "Epoch 1/10\n",
      "134/134 [==============================] - 19s 126ms/step - loss: 2.2657 - accuracy: 0.1864\n",
      "Epoch 2/10\n",
      "134/134 [==============================] - 16s 123ms/step - loss: 2.2265 - accuracy: 0.2004\n",
      "Epoch 3/10\n",
      "134/134 [==============================] - 17s 123ms/step - loss: 2.2159 - accuracy: 0.2114\n",
      "Epoch 4/10\n",
      "134/134 [==============================] - 17s 126ms/step - loss: 2.2071 - accuracy: 0.2225\n",
      "Epoch 5/10\n",
      "134/134 [==============================] - 17s 124ms/step - loss: 2.1921 - accuracy: 0.2206\n",
      "Epoch 6/10\n",
      "134/134 [==============================] - 17s 123ms/step - loss: 2.1825 - accuracy: 0.2243\n",
      "Epoch 7/10\n",
      "134/134 [==============================] - 17s 127ms/step - loss: 2.1729 - accuracy: 0.2286\n",
      "Epoch 8/10\n",
      "134/134 [==============================] - 17s 127ms/step - loss: 2.1594 - accuracy: 0.2321\n",
      "Epoch 9/10\n",
      "134/134 [==============================] - 16s 117ms/step - loss: 2.1285 - accuracy: 0.2468\n",
      "Epoch 10/10\n",
      "134/134 [==============================] - 16s 121ms/step - loss: 2.1104 - accuracy: 0.2576\n"
     ]
    },
    {
     "name": "stderr",
     "output_type": "stream",
     "text": [
      "/usr/local/lib/python3.10/dist-packages/keras/src/engine/training.py:3079: UserWarning: You are saving your model as an HDF5 file via `model.save()`. This file format is considered legacy. We recommend using instead the native Keras format, e.g. `model.save('my_model.keras')`.\n",
      "  saving_api.save_model(\n"
     ]
    },
    {
     "name": "stdout",
     "output_type": "stream",
     "text": [
      "34/34 [==============================] - 2s 35ms/step\n",
      "Training RF for P2 (sliderNeutralPos)\n",
      "Training CNN for P2 (sliderNeutralPos)\n",
      "Epoch 1/10\n",
      "134/134 [==============================] - 1s 6ms/step - loss: 2.0152 - accuracy: 0.2525\n",
      "Epoch 2/10\n",
      "134/134 [==============================] - 1s 6ms/step - loss: 1.7696 - accuracy: 0.3528\n",
      "Epoch 3/10\n",
      "134/134 [==============================] - 1s 6ms/step - loss: 1.5659 - accuracy: 0.4294\n",
      "Epoch 4/10\n",
      "134/134 [==============================] - 1s 6ms/step - loss: 1.3565 - accuracy: 0.5197\n",
      "Epoch 5/10\n",
      "134/134 [==============================] - 1s 6ms/step - loss: 1.1627 - accuracy: 0.5856\n",
      "Epoch 6/10\n",
      "134/134 [==============================] - 1s 6ms/step - loss: 0.9882 - accuracy: 0.6458\n",
      "Epoch 7/10\n",
      "134/134 [==============================] - 1s 6ms/step - loss: 0.8589 - accuracy: 0.6920\n",
      "Epoch 8/10\n",
      "134/134 [==============================] - 1s 6ms/step - loss: 0.7631 - accuracy: 0.7356\n",
      "Epoch 9/10\n",
      "134/134 [==============================] - 1s 6ms/step - loss: 0.6500 - accuracy: 0.7705\n",
      "Epoch 10/10\n",
      "134/134 [==============================] - 1s 6ms/step - loss: 0.5703 - accuracy: 0.7968\n",
      "24/34 [====================>.........] - ETA: 0s"
     ]
    },
    {
     "name": "stderr",
     "output_type": "stream",
     "text": [
      "/usr/local/lib/python3.10/dist-packages/keras/src/engine/training.py:3079: UserWarning: You are saving your model as an HDF5 file via `model.save()`. This file format is considered legacy. We recommend using instead the native Keras format, e.g. `model.save('my_model.keras')`.\n",
      "  saving_api.save_model(\n"
     ]
    },
    {
     "name": "stdout",
     "output_type": "stream",
     "text": [
      "34/34 [==============================] - 0s 2ms/step\n",
      "Training LSTM for P2 (sliderNeutralPos)\n",
      "Epoch 1/10\n",
      "134/134 [==============================] - 19s 127ms/step - loss: 2.1313 - accuracy: 0.2157\n",
      "Epoch 2/10\n",
      "134/134 [==============================] - 17s 127ms/step - loss: 2.0634 - accuracy: 0.2145\n",
      "Epoch 3/10\n",
      "134/134 [==============================] - 17s 125ms/step - loss: 2.0610 - accuracy: 0.1925\n",
      "Epoch 4/10\n",
      "134/134 [==============================] - 16s 123ms/step - loss: 2.0624 - accuracy: 0.2121\n",
      "Epoch 5/10\n",
      "134/134 [==============================] - 16s 121ms/step - loss: 2.0588 - accuracy: 0.2175\n",
      "Epoch 6/10\n",
      "134/134 [==============================] - 17s 125ms/step - loss: 2.0600 - accuracy: 0.2124\n",
      "Epoch 7/10\n",
      "134/134 [==============================] - 16s 123ms/step - loss: 2.0603 - accuracy: 0.2110\n",
      "Epoch 8/10\n",
      "134/134 [==============================] - 16s 119ms/step - loss: 2.0574 - accuracy: 0.2068\n",
      "Epoch 9/10\n",
      "134/134 [==============================] - 17s 126ms/step - loss: 2.0502 - accuracy: 0.2222\n",
      "Epoch 10/10\n",
      "134/134 [==============================] - 17s 126ms/step - loss: 2.0431 - accuracy: 0.2114\n"
     ]
    },
    {
     "name": "stderr",
     "output_type": "stream",
     "text": [
      "/usr/local/lib/python3.10/dist-packages/keras/src/engine/training.py:3079: UserWarning: You are saving your model as an HDF5 file via `model.save()`. This file format is considered legacy. We recommend using instead the native Keras format, e.g. `model.save('my_model.keras')`.\n",
      "  saving_api.save_model(\n"
     ]
    },
    {
     "name": "stdout",
     "output_type": "stream",
     "text": [
      "34/34 [==============================] - 2s 34ms/step\n",
      "Training RF for N2 (sliderNeutralPos)\n",
      "Training CNN for N2 (sliderNeutralPos)\n",
      "Epoch 1/10\n",
      "134/134 [==============================] - 1s 6ms/step - loss: 1.8458 - accuracy: 0.3483\n",
      "Epoch 2/10\n",
      "134/134 [==============================] - 1s 6ms/step - loss: 1.5820 - accuracy: 0.4320\n",
      "Epoch 3/10\n",
      "134/134 [==============================] - 1s 6ms/step - loss: 1.3930 - accuracy: 0.4977\n",
      "Epoch 4/10\n",
      "134/134 [==============================] - 1s 6ms/step - loss: 1.1985 - accuracy: 0.5792\n",
      "Epoch 5/10\n",
      "134/134 [==============================] - 1s 6ms/step - loss: 1.0447 - accuracy: 0.6336\n",
      "Epoch 6/10\n",
      "134/134 [==============================] - 1s 6ms/step - loss: 0.9012 - accuracy: 0.6791\n",
      "Epoch 7/10\n",
      "134/134 [==============================] - 1s 6ms/step - loss: 0.8036 - accuracy: 0.7213\n",
      "Epoch 8/10\n",
      "134/134 [==============================] - 1s 6ms/step - loss: 0.6923 - accuracy: 0.7579\n",
      "Epoch 9/10\n",
      "134/134 [==============================] - 1s 6ms/step - loss: 0.6105 - accuracy: 0.7818\n",
      "Epoch 10/10\n",
      "134/134 [==============================] - 1s 6ms/step - loss: 0.5081 - accuracy: 0.8193\n",
      "34/34 [==============================] - 0s 2ms/step\n"
     ]
    },
    {
     "name": "stderr",
     "output_type": "stream",
     "text": [
      "/usr/local/lib/python3.10/dist-packages/keras/src/engine/training.py:3079: UserWarning: You are saving your model as an HDF5 file via `model.save()`. This file format is considered legacy. We recommend using instead the native Keras format, e.g. `model.save('my_model.keras')`.\n",
      "  saving_api.save_model(\n"
     ]
    },
    {
     "name": "stdout",
     "output_type": "stream",
     "text": [
      "Training LSTM for N2 (sliderNeutralPos)\n",
      "Epoch 1/10\n",
      "134/134 [==============================] - 19s 127ms/step - loss: 2.0247 - accuracy: 0.2717\n",
      "Epoch 2/10\n",
      "134/134 [==============================] - 16s 121ms/step - loss: 1.9655 - accuracy: 0.2848\n",
      "Epoch 3/10\n",
      "134/134 [==============================] - 16s 123ms/step - loss: 1.9472 - accuracy: 0.2846\n",
      "Epoch 4/10\n",
      "134/134 [==============================] - 17s 127ms/step - loss: 1.9369 - accuracy: 0.2855\n",
      "Epoch 5/10\n",
      "134/134 [==============================] - 17s 124ms/step - loss: 1.9308 - accuracy: 0.2944\n",
      "Epoch 6/10\n",
      "134/134 [==============================] - 15s 115ms/step - loss: 1.9276 - accuracy: 0.2932\n",
      "Epoch 7/10\n",
      "134/134 [==============================] - 15s 112ms/step - loss: 1.9180 - accuracy: 0.3003\n",
      "Epoch 8/10\n",
      "134/134 [==============================] - 15s 109ms/step - loss: 1.9093 - accuracy: 0.2965\n",
      "Epoch 9/10\n",
      "134/134 [==============================] - 16s 121ms/step - loss: 1.9057 - accuracy: 0.3043\n",
      "Epoch 10/10\n",
      "134/134 [==============================] - 16s 119ms/step - loss: 1.8899 - accuracy: 0.3005\n"
     ]
    },
    {
     "name": "stderr",
     "output_type": "stream",
     "text": [
      "/usr/local/lib/python3.10/dist-packages/keras/src/engine/training.py:3079: UserWarning: You are saving your model as an HDF5 file via `model.save()`. This file format is considered legacy. We recommend using instead the native Keras format, e.g. `model.save('my_model.keras')`.\n",
      "  saving_api.save_model(\n"
     ]
    },
    {
     "name": "stdout",
     "output_type": "stream",
     "text": [
      "34/34 [==============================] - 2s 33ms/step\n",
      "Training RF for N3 (sliderNeutralPos)\n",
      "Training CNN for N3 (sliderNeutralPos)\n",
      "Epoch 1/10\n",
      "134/134 [==============================] - 1s 6ms/step - loss: 2.0553 - accuracy: 0.2632\n",
      "Epoch 2/10\n",
      "134/134 [==============================] - 1s 6ms/step - loss: 1.7639 - accuracy: 0.3769\n",
      "Epoch 3/10\n",
      "134/134 [==============================] - 1s 6ms/step - loss: 1.4957 - accuracy: 0.4766\n",
      "Epoch 4/10\n",
      "134/134 [==============================] - 1s 6ms/step - loss: 1.2708 - accuracy: 0.5581\n",
      "Epoch 5/10\n",
      "134/134 [==============================] - 1s 6ms/step - loss: 1.0733 - accuracy: 0.6271\n",
      "Epoch 6/10\n",
      "134/134 [==============================] - 1s 6ms/step - loss: 0.8946 - accuracy: 0.6976\n",
      "Epoch 7/10\n",
      "134/134 [==============================] - 1s 6ms/step - loss: 0.7816 - accuracy: 0.7328\n",
      "Epoch 8/10\n",
      "134/134 [==============================] - 1s 6ms/step - loss: 0.6546 - accuracy: 0.7797\n",
      "Epoch 9/10\n",
      "134/134 [==============================] - 1s 6ms/step - loss: 0.5550 - accuracy: 0.8108\n",
      "Epoch 10/10\n",
      "134/134 [==============================] - 1s 6ms/step - loss: 0.4867 - accuracy: 0.8392\n",
      "23/34 [===================>..........] - ETA: 0s"
     ]
    },
    {
     "name": "stderr",
     "output_type": "stream",
     "text": [
      "/usr/local/lib/python3.10/dist-packages/keras/src/engine/training.py:3079: UserWarning: You are saving your model as an HDF5 file via `model.save()`. This file format is considered legacy. We recommend using instead the native Keras format, e.g. `model.save('my_model.keras')`.\n",
      "  saving_api.save_model(\n"
     ]
    },
    {
     "name": "stdout",
     "output_type": "stream",
     "text": [
      "34/34 [==============================] - 0s 2ms/step\n",
      "Training LSTM for N3 (sliderNeutralPos)\n",
      "Epoch 1/10\n",
      "134/134 [==============================] - 19s 128ms/step - loss: 2.2021 - accuracy: 0.2004\n",
      "Epoch 2/10\n",
      "134/134 [==============================] - 17s 128ms/step - loss: 2.1499 - accuracy: 0.2011\n",
      "Epoch 3/10\n",
      "134/134 [==============================] - 17s 130ms/step - loss: 2.1428 - accuracy: 0.2091\n",
      "Epoch 4/10\n",
      "134/134 [==============================] - 17s 129ms/step - loss: 2.1454 - accuracy: 0.2060\n",
      "Epoch 5/10\n",
      "134/134 [==============================] - 17s 128ms/step - loss: 2.1426 - accuracy: 0.2138\n",
      "Epoch 6/10\n",
      "134/134 [==============================] - 17s 127ms/step - loss: 2.1417 - accuracy: 0.2135\n",
      "Epoch 7/10\n",
      "134/134 [==============================] - 17s 128ms/step - loss: 2.1374 - accuracy: 0.2147\n",
      "Epoch 8/10\n",
      "134/134 [==============================] - 17s 128ms/step - loss: 2.1225 - accuracy: 0.2173\n",
      "Epoch 9/10\n",
      "134/134 [==============================] - 17s 128ms/step - loss: 2.1148 - accuracy: 0.2208\n",
      "Epoch 10/10\n",
      "134/134 [==============================] - 17s 127ms/step - loss: 2.1087 - accuracy: 0.2250\n"
     ]
    },
    {
     "name": "stderr",
     "output_type": "stream",
     "text": [
      "/usr/local/lib/python3.10/dist-packages/keras/src/engine/training.py:3079: UserWarning: You are saving your model as an HDF5 file via `model.save()`. This file format is considered legacy. We recommend using instead the native Keras format, e.g. `model.save('my_model.keras')`.\n",
      "  saving_api.save_model(\n"
     ]
    },
    {
     "name": "stdout",
     "output_type": "stream",
     "text": [
      "34/34 [==============================] - 2s 37ms/step\n",
      "Training RF for P3 (sliderNeutralPos)\n",
      "Training CNN for P3 (sliderNeutralPos)\n",
      "Epoch 1/10\n",
      "134/134 [==============================] - 1s 6ms/step - loss: 2.0180 - accuracy: 0.2569\n",
      "Epoch 2/10\n",
      "134/134 [==============================] - 1s 6ms/step - loss: 1.7245 - accuracy: 0.3624\n",
      "Epoch 3/10\n",
      "134/134 [==============================] - 1s 6ms/step - loss: 1.5021 - accuracy: 0.4517\n",
      "Epoch 4/10\n",
      "134/134 [==============================] - 1s 6ms/step - loss: 1.2728 - accuracy: 0.5513\n",
      "Epoch 5/10\n",
      "134/134 [==============================] - 1s 6ms/step - loss: 1.0910 - accuracy: 0.6151\n",
      "Epoch 6/10\n",
      "134/134 [==============================] - 1s 6ms/step - loss: 0.9495 - accuracy: 0.6697\n",
      "Epoch 7/10\n",
      "134/134 [==============================] - 1s 6ms/step - loss: 0.7826 - accuracy: 0.7290\n",
      "Epoch 8/10\n",
      "134/134 [==============================] - 1s 6ms/step - loss: 0.6421 - accuracy: 0.7773\n",
      "Epoch 9/10\n",
      "134/134 [==============================] - 1s 6ms/step - loss: 0.5800 - accuracy: 0.7970\n",
      "Epoch 10/10\n",
      "134/134 [==============================] - 1s 6ms/step - loss: 0.5015 - accuracy: 0.8237\n",
      "23/34 [===================>..........] - ETA: 0s"
     ]
    },
    {
     "name": "stderr",
     "output_type": "stream",
     "text": [
      "/usr/local/lib/python3.10/dist-packages/keras/src/engine/training.py:3079: UserWarning: You are saving your model as an HDF5 file via `model.save()`. This file format is considered legacy. We recommend using instead the native Keras format, e.g. `model.save('my_model.keras')`.\n",
      "  saving_api.save_model(\n"
     ]
    },
    {
     "name": "stdout",
     "output_type": "stream",
     "text": [
      "34/34 [==============================] - 0s 2ms/step\n",
      "Training LSTM for P3 (sliderNeutralPos)\n",
      "Epoch 1/10\n",
      "134/134 [==============================] - 19s 128ms/step - loss: 2.1771 - accuracy: 0.1901\n",
      "Epoch 2/10\n",
      "134/134 [==============================] - 17s 126ms/step - loss: 2.1097 - accuracy: 0.1985\n",
      "Epoch 3/10\n",
      "134/134 [==============================] - 17s 126ms/step - loss: 2.1027 - accuracy: 0.1962\n",
      "Epoch 4/10\n",
      "134/134 [==============================] - 17s 126ms/step - loss: 2.0892 - accuracy: 0.1988\n",
      "Epoch 5/10\n",
      "134/134 [==============================] - 17s 124ms/step - loss: 2.0806 - accuracy: 0.2124\n",
      "Epoch 6/10\n",
      "134/134 [==============================] - 17s 124ms/step - loss: 2.0652 - accuracy: 0.2138\n",
      "Epoch 7/10\n",
      "134/134 [==============================] - 17s 128ms/step - loss: 2.0561 - accuracy: 0.2194\n",
      "Epoch 8/10\n",
      "134/134 [==============================] - 17s 125ms/step - loss: 2.0407 - accuracy: 0.2295\n",
      "Epoch 9/10\n",
      "134/134 [==============================] - 17s 128ms/step - loss: 2.0245 - accuracy: 0.2337\n",
      "Epoch 10/10\n",
      "134/134 [==============================] - 17s 125ms/step - loss: 2.0043 - accuracy: 0.2468\n"
     ]
    },
    {
     "name": "stderr",
     "output_type": "stream",
     "text": [
      "/usr/local/lib/python3.10/dist-packages/keras/src/engine/training.py:3079: UserWarning: You are saving your model as an HDF5 file via `model.save()`. This file format is considered legacy. We recommend using instead the native Keras format, e.g. `model.save('my_model.keras')`.\n",
      "  saving_api.save_model(\n"
     ]
    },
    {
     "name": "stdout",
     "output_type": "stream",
     "text": [
      "34/34 [==============================] - 2s 37ms/step\n",
      "Training RF for SE1 (sliderNegPos)\n",
      "Training CNN for SE1 (sliderNegPos)\n",
      "Epoch 1/10\n",
      "134/134 [==============================] - 1s 6ms/step - loss: 1.1678 - accuracy: 0.4805\n",
      "Epoch 2/10\n",
      "134/134 [==============================] - 1s 6ms/step - loss: 1.0053 - accuracy: 0.5490\n",
      "Epoch 3/10\n",
      "134/134 [==============================] - 1s 6ms/step - loss: 0.9188 - accuracy: 0.5982\n",
      "Epoch 4/10\n",
      "134/134 [==============================] - 1s 6ms/step - loss: 0.8271 - accuracy: 0.6444\n",
      "Epoch 5/10\n",
      "134/134 [==============================] - 1s 6ms/step - loss: 0.7473 - accuracy: 0.6796\n",
      "Epoch 6/10\n",
      "134/134 [==============================] - 1s 6ms/step - loss: 0.6638 - accuracy: 0.7203\n",
      "Epoch 7/10\n",
      "134/134 [==============================] - 1s 6ms/step - loss: 0.5909 - accuracy: 0.7504\n",
      "Epoch 8/10\n",
      "134/134 [==============================] - 1s 6ms/step - loss: 0.5242 - accuracy: 0.7879\n",
      "Epoch 9/10\n",
      "134/134 [==============================] - 1s 6ms/step - loss: 0.4571 - accuracy: 0.8237\n",
      "Epoch 10/10\n",
      "134/134 [==============================] - 1s 6ms/step - loss: 0.3939 - accuracy: 0.8390\n",
      "34/34 [==============================] - 0s 2ms/step\n"
     ]
    },
    {
     "name": "stderr",
     "output_type": "stream",
     "text": [
      "/usr/local/lib/python3.10/dist-packages/keras/src/engine/training.py:3079: UserWarning: You are saving your model as an HDF5 file via `model.save()`. This file format is considered legacy. We recommend using instead the native Keras format, e.g. `model.save('my_model.keras')`.\n",
      "  saving_api.save_model(\n"
     ]
    },
    {
     "name": "stdout",
     "output_type": "stream",
     "text": [
      "Training LSTM for SE1 (sliderNegPos)\n",
      "Epoch 1/10\n",
      "134/134 [==============================] - 19s 128ms/step - loss: 1.3636 - accuracy: 0.4634\n",
      "Epoch 2/10\n",
      "134/134 [==============================] - 17s 126ms/step - loss: 1.1713 - accuracy: 0.4822\n",
      "Epoch 3/10\n",
      "134/134 [==============================] - 16s 117ms/step - loss: 1.1603 - accuracy: 0.4899\n",
      "Epoch 4/10\n",
      "134/134 [==============================] - 15s 108ms/step - loss: 1.1571 - accuracy: 0.4951\n",
      "Epoch 5/10\n",
      "134/134 [==============================] - 15s 115ms/step - loss: 1.1507 - accuracy: 0.4955\n",
      "Epoch 6/10\n",
      "134/134 [==============================] - 15s 111ms/step - loss: 1.1499 - accuracy: 0.4960\n",
      "Epoch 7/10\n",
      "134/134 [==============================] - 15s 110ms/step - loss: 1.1489 - accuracy: 0.4965\n",
      "Epoch 8/10\n",
      "134/134 [==============================] - 16s 118ms/step - loss: 1.1470 - accuracy: 0.4965\n",
      "Epoch 9/10\n",
      "134/134 [==============================] - 15s 113ms/step - loss: 1.1465 - accuracy: 0.4965\n",
      "Epoch 10/10\n",
      "134/134 [==============================] - 16s 119ms/step - loss: 1.1452 - accuracy: 0.4965\n"
     ]
    },
    {
     "name": "stderr",
     "output_type": "stream",
     "text": [
      "/usr/local/lib/python3.10/dist-packages/keras/src/engine/training.py:3079: UserWarning: You are saving your model as an HDF5 file via `model.save()`. This file format is considered legacy. We recommend using instead the native Keras format, e.g. `model.save('my_model.keras')`.\n",
      "  saving_api.save_model(\n"
     ]
    },
    {
     "name": "stdout",
     "output_type": "stream",
     "text": [
      "34/34 [==============================] - 2s 37ms/step\n",
      "Training RF for SE2 (sliderNeutralPos)\n",
      "Training CNN for SE2 (sliderNeutralPos)\n",
      "Epoch 1/10\n",
      "134/134 [==============================] - 1s 6ms/step - loss: 1.1998 - accuracy: 0.4419\n",
      "Epoch 2/10\n",
      "134/134 [==============================] - 1s 6ms/step - loss: 1.0410 - accuracy: 0.5284\n",
      "Epoch 3/10\n",
      "134/134 [==============================] - 1s 6ms/step - loss: 0.9484 - accuracy: 0.5865\n",
      "Epoch 4/10\n",
      "134/134 [==============================] - 1s 6ms/step - loss: 0.8645 - accuracy: 0.6362\n",
      "Epoch 5/10\n",
      "134/134 [==============================] - 1s 6ms/step - loss: 0.7771 - accuracy: 0.6709\n",
      "Epoch 6/10\n",
      "134/134 [==============================] - 1s 6ms/step - loss: 0.6748 - accuracy: 0.7178\n",
      "Epoch 7/10\n",
      "134/134 [==============================] - 1s 6ms/step - loss: 0.6106 - accuracy: 0.7579\n",
      "Epoch 8/10\n",
      "134/134 [==============================] - 1s 6ms/step - loss: 0.5275 - accuracy: 0.7900\n",
      "Epoch 9/10\n",
      "134/134 [==============================] - 1s 6ms/step - loss: 0.4632 - accuracy: 0.8265\n",
      "Epoch 10/10\n",
      "134/134 [==============================] - 1s 6ms/step - loss: 0.3894 - accuracy: 0.8467\n",
      "23/34 [===================>..........] - ETA: 0s"
     ]
    },
    {
     "name": "stderr",
     "output_type": "stream",
     "text": [
      "/usr/local/lib/python3.10/dist-packages/keras/src/engine/training.py:3079: UserWarning: You are saving your model as an HDF5 file via `model.save()`. This file format is considered legacy. We recommend using instead the native Keras format, e.g. `model.save('my_model.keras')`.\n",
      "  saving_api.save_model(\n"
     ]
    },
    {
     "name": "stdout",
     "output_type": "stream",
     "text": [
      "34/34 [==============================] - 0s 2ms/step\n",
      "Training LSTM for SE2 (sliderNeutralPos)\n",
      "Epoch 1/10\n",
      "134/134 [==============================] - 19s 126ms/step - loss: 1.4134 - accuracy: 0.3851\n",
      "Epoch 2/10\n",
      "134/134 [==============================] - 17s 127ms/step - loss: 1.2070 - accuracy: 0.3924\n",
      "Epoch 3/10\n",
      "134/134 [==============================] - 17s 129ms/step - loss: 1.1926 - accuracy: 0.3964\n",
      "Epoch 4/10\n",
      "134/134 [==============================] - 17s 127ms/step - loss: 1.1795 - accuracy: 0.4222\n",
      "Epoch 5/10\n",
      "134/134 [==============================] - 17s 125ms/step - loss: 1.1736 - accuracy: 0.4177\n",
      "Epoch 6/10\n",
      "134/134 [==============================] - 17s 126ms/step - loss: 1.1705 - accuracy: 0.4276\n",
      "Epoch 7/10\n",
      "134/134 [==============================] - 17s 127ms/step - loss: 1.1695 - accuracy: 0.4351\n",
      "Epoch 8/10\n",
      "134/134 [==============================] - 16s 122ms/step - loss: 1.1733 - accuracy: 0.4112\n",
      "Epoch 9/10\n",
      "134/134 [==============================] - 17s 124ms/step - loss: 1.1724 - accuracy: 0.4241\n",
      "Epoch 10/10\n",
      "134/134 [==============================] - 17s 125ms/step - loss: 1.1675 - accuracy: 0.4290\n"
     ]
    },
    {
     "name": "stderr",
     "output_type": "stream",
     "text": [
      "/usr/local/lib/python3.10/dist-packages/keras/src/engine/training.py:3079: UserWarning: You are saving your model as an HDF5 file via `model.save()`. This file format is considered legacy. We recommend using instead the native Keras format, e.g. `model.save('my_model.keras')`.\n",
      "  saving_api.save_model(\n"
     ]
    },
    {
     "name": "stdout",
     "output_type": "stream",
     "text": [
      "34/34 [==============================] - 2s 35ms/step\n",
      "Training RF for SE3 (sliderNeutralPos)\n",
      "Training CNN for SE3 (sliderNeutralPos)\n",
      "Epoch 1/10\n",
      "134/134 [==============================] - 1s 6ms/step - loss: 1.1855 - accuracy: 0.4580\n",
      "Epoch 2/10\n",
      "134/134 [==============================] - 1s 6ms/step - loss: 1.0231 - accuracy: 0.5415\n",
      "Epoch 3/10\n",
      "134/134 [==============================] - 1s 6ms/step - loss: 0.9315 - accuracy: 0.5865\n",
      "Epoch 4/10\n",
      "134/134 [==============================] - 1s 6ms/step - loss: 0.8407 - accuracy: 0.6336\n",
      "Epoch 5/10\n",
      "134/134 [==============================] - 1s 6ms/step - loss: 0.7411 - accuracy: 0.6845\n",
      "Epoch 6/10\n",
      "134/134 [==============================] - 1s 6ms/step - loss: 0.6717 - accuracy: 0.7173\n",
      "Epoch 7/10\n",
      "134/134 [==============================] - 1s 6ms/step - loss: 0.5915 - accuracy: 0.7588\n",
      "Epoch 8/10\n",
      "134/134 [==============================] - 1s 6ms/step - loss: 0.5124 - accuracy: 0.7947\n",
      "Epoch 9/10\n",
      "134/134 [==============================] - 1s 6ms/step - loss: 0.4645 - accuracy: 0.8139\n",
      "Epoch 10/10\n",
      "134/134 [==============================] - 1s 6ms/step - loss: 0.3931 - accuracy: 0.8427\n",
      " 1/34 [..............................] - ETA: 1s"
     ]
    },
    {
     "name": "stderr",
     "output_type": "stream",
     "text": [
      "/usr/local/lib/python3.10/dist-packages/keras/src/engine/training.py:3079: UserWarning: You are saving your model as an HDF5 file via `model.save()`. This file format is considered legacy. We recommend using instead the native Keras format, e.g. `model.save('my_model.keras')`.\n",
      "  saving_api.save_model(\n"
     ]
    },
    {
     "name": "stdout",
     "output_type": "stream",
     "text": [
      "34/34 [==============================] - 0s 2ms/step\n",
      "Training LSTM for SE3 (sliderNeutralPos)\n",
      "Epoch 1/10\n",
      "134/134 [==============================] - 19s 127ms/step - loss: 1.3875 - accuracy: 0.4102\n",
      "Epoch 2/10\n",
      "134/134 [==============================] - 16s 121ms/step - loss: 1.1862 - accuracy: 0.4098\n",
      "Epoch 3/10\n",
      "134/134 [==============================] - 16s 117ms/step - loss: 1.1763 - accuracy: 0.4243\n",
      "Epoch 4/10\n",
      "134/134 [==============================] - 16s 118ms/step - loss: 1.1729 - accuracy: 0.4236\n",
      "Epoch 5/10\n",
      "134/134 [==============================] - 17s 125ms/step - loss: 1.1651 - accuracy: 0.4271\n",
      "Epoch 6/10\n",
      "134/134 [==============================] - 15s 114ms/step - loss: 1.1665 - accuracy: 0.4306\n",
      "Epoch 7/10\n",
      "134/134 [==============================] - 16s 120ms/step - loss: 1.1591 - accuracy: 0.4325\n",
      "Epoch 8/10\n",
      "134/134 [==============================] - 17s 124ms/step - loss: 1.1494 - accuracy: 0.4369\n",
      "Epoch 9/10\n",
      "134/134 [==============================] - 17s 126ms/step - loss: 1.1507 - accuracy: 0.4470\n",
      "Epoch 10/10\n",
      "134/134 [==============================] - 17s 126ms/step - loss: 1.1414 - accuracy: 0.4587\n"
     ]
    },
    {
     "name": "stderr",
     "output_type": "stream",
     "text": [
      "/usr/local/lib/python3.10/dist-packages/keras/src/engine/training.py:3079: UserWarning: You are saving your model as an HDF5 file via `model.save()`. This file format is considered legacy. We recommend using instead the native Keras format, e.g. `model.save('my_model.keras')`.\n",
      "  saving_api.save_model(\n"
     ]
    },
    {
     "name": "stdout",
     "output_type": "stream",
     "text": [
      "34/34 [==============================] - 2s 36ms/step\n",
      "Training RF for SE4 (sliderNeutralPos)\n",
      "Training CNN for SE4 (sliderNeutralPos)\n",
      "Epoch 1/10\n",
      "134/134 [==============================] - 1s 6ms/step - loss: 1.0612 - accuracy: 0.5551\n",
      "Epoch 2/10\n",
      "134/134 [==============================] - 1s 6ms/step - loss: 0.8978 - accuracy: 0.6031\n",
      "Epoch 3/10\n",
      "134/134 [==============================] - 1s 6ms/step - loss: 0.8099 - accuracy: 0.6573\n",
      "Epoch 4/10\n",
      "134/134 [==============================] - 1s 6ms/step - loss: 0.7268 - accuracy: 0.6976\n",
      "Epoch 5/10\n",
      "134/134 [==============================] - 1s 6ms/step - loss: 0.6510 - accuracy: 0.7335\n",
      "Epoch 6/10\n",
      "134/134 [==============================] - 1s 6ms/step - loss: 0.5882 - accuracy: 0.7609\n",
      "Epoch 7/10\n",
      "134/134 [==============================] - 1s 6ms/step - loss: 0.5232 - accuracy: 0.7902\n",
      "Epoch 8/10\n",
      "134/134 [==============================] - 1s 6ms/step - loss: 0.4596 - accuracy: 0.8240\n",
      "Epoch 9/10\n",
      "134/134 [==============================] - 1s 6ms/step - loss: 0.4014 - accuracy: 0.8406\n",
      "Epoch 10/10\n",
      "134/134 [==============================] - 1s 6ms/step - loss: 0.3431 - accuracy: 0.8657\n",
      "34/34 [==============================] - 0s 2ms/step\n"
     ]
    },
    {
     "name": "stderr",
     "output_type": "stream",
     "text": [
      "/usr/local/lib/python3.10/dist-packages/keras/src/engine/training.py:3079: UserWarning: You are saving your model as an HDF5 file via `model.save()`. This file format is considered legacy. We recommend using instead the native Keras format, e.g. `model.save('my_model.keras')`.\n",
      "  saving_api.save_model(\n"
     ]
    },
    {
     "name": "stdout",
     "output_type": "stream",
     "text": [
      "Training LSTM for SE4 (sliderNeutralPos)\n",
      "Epoch 1/10\n",
      "134/134 [==============================] - 19s 127ms/step - loss: 1.2710 - accuracy: 0.5525\n",
      "Epoch 2/10\n",
      "134/134 [==============================] - 17s 129ms/step - loss: 1.0553 - accuracy: 0.5675\n",
      "Epoch 3/10\n",
      "134/134 [==============================] - 17s 124ms/step - loss: 1.0450 - accuracy: 0.5759\n",
      "Epoch 4/10\n",
      "134/134 [==============================] - 17s 129ms/step - loss: 1.0393 - accuracy: 0.5757\n",
      "Epoch 5/10\n",
      "134/134 [==============================] - 17s 128ms/step - loss: 1.0356 - accuracy: 0.5752\n",
      "Epoch 6/10\n",
      "134/134 [==============================] - 16s 121ms/step - loss: 1.0337 - accuracy: 0.5759\n",
      "Epoch 7/10\n",
      "134/134 [==============================] - 16s 123ms/step - loss: 1.0236 - accuracy: 0.5762\n",
      "Epoch 8/10\n",
      "134/134 [==============================] - 17s 123ms/step - loss: 1.0229 - accuracy: 0.5759\n",
      "Epoch 9/10\n",
      "134/134 [==============================] - 17s 127ms/step - loss: 1.0120 - accuracy: 0.5743\n",
      "Epoch 10/10\n",
      "134/134 [==============================] - 17s 127ms/step - loss: 1.0085 - accuracy: 0.5767\n"
     ]
    },
    {
     "name": "stderr",
     "output_type": "stream",
     "text": [
      "/usr/local/lib/python3.10/dist-packages/keras/src/engine/training.py:3079: UserWarning: You are saving your model as an HDF5 file via `model.save()`. This file format is considered legacy. We recommend using instead the native Keras format, e.g. `model.save('my_model.keras')`.\n",
      "  saving_api.save_model(\n"
     ]
    },
    {
     "name": "stdout",
     "output_type": "stream",
     "text": [
      "34/34 [==============================] - 2s 37ms/step\n",
      "Training RF for MIL1 (sliderNegPos)\n",
      "Training CNN for MIL1 (sliderNegPos)\n",
      "Epoch 1/10\n",
      "134/134 [==============================] - 1s 6ms/step - loss: 1.8208 - accuracy: 0.2935\n",
      "Epoch 2/10\n",
      "134/134 [==============================] - 1s 6ms/step - loss: 1.5468 - accuracy: 0.4081\n",
      "Epoch 3/10\n",
      "134/134 [==============================] - 1s 6ms/step - loss: 1.3565 - accuracy: 0.4859\n",
      "Epoch 4/10\n",
      "134/134 [==============================] - 1s 6ms/step - loss: 1.2112 - accuracy: 0.5438\n",
      "Epoch 5/10\n",
      "134/134 [==============================] - 1s 6ms/step - loss: 1.0839 - accuracy: 0.6067\n",
      "Epoch 6/10\n",
      "134/134 [==============================] - 1s 6ms/step - loss: 0.9515 - accuracy: 0.6531\n",
      "Epoch 7/10\n",
      "134/134 [==============================] - 1s 6ms/step - loss: 0.8416 - accuracy: 0.6934\n",
      "Epoch 8/10\n",
      "134/134 [==============================] - 1s 6ms/step - loss: 0.7519 - accuracy: 0.7302\n",
      "Epoch 9/10\n",
      "134/134 [==============================] - 1s 6ms/step - loss: 0.6493 - accuracy: 0.7714\n",
      "Epoch 10/10\n",
      "134/134 [==============================] - 1s 6ms/step - loss: 0.5729 - accuracy: 0.7909\n",
      "34/34 [==============================] - 0s 2ms/step\n"
     ]
    },
    {
     "name": "stderr",
     "output_type": "stream",
     "text": [
      "/usr/local/lib/python3.10/dist-packages/keras/src/engine/training.py:3079: UserWarning: You are saving your model as an HDF5 file via `model.save()`. This file format is considered legacy. We recommend using instead the native Keras format, e.g. `model.save('my_model.keras')`.\n",
      "  saving_api.save_model(\n"
     ]
    },
    {
     "name": "stdout",
     "output_type": "stream",
     "text": [
      "Training LSTM for MIL1 (sliderNegPos)\n",
      "Epoch 1/10\n",
      "134/134 [==============================] - 19s 127ms/step - loss: 1.9973 - accuracy: 0.1763\n",
      "Epoch 2/10\n",
      "134/134 [==============================] - 17s 128ms/step - loss: 1.8946 - accuracy: 0.1861\n",
      "Epoch 3/10\n",
      "134/134 [==============================] - 16s 119ms/step - loss: 1.8857 - accuracy: 0.1908\n",
      "Epoch 4/10\n",
      "134/134 [==============================] - 15s 111ms/step - loss: 1.8784 - accuracy: 0.1850\n",
      "Epoch 5/10\n",
      "134/134 [==============================] - 15s 113ms/step - loss: 1.8729 - accuracy: 0.1842\n",
      "Epoch 6/10\n",
      "134/134 [==============================] - 14s 105ms/step - loss: 1.8733 - accuracy: 0.1934\n",
      "Epoch 7/10\n",
      "134/134 [==============================] - 15s 112ms/step - loss: 1.8725 - accuracy: 0.1866\n",
      "Epoch 8/10\n",
      "134/134 [==============================] - 17s 124ms/step - loss: 1.8707 - accuracy: 0.1908\n",
      "Epoch 9/10\n",
      "134/134 [==============================] - 17s 127ms/step - loss: 1.8708 - accuracy: 0.1917\n",
      "Epoch 10/10\n",
      "134/134 [==============================] - 17s 125ms/step - loss: 1.8662 - accuracy: 0.1962\n"
     ]
    },
    {
     "name": "stderr",
     "output_type": "stream",
     "text": [
      "/usr/local/lib/python3.10/dist-packages/keras/src/engine/training.py:3079: UserWarning: You are saving your model as an HDF5 file via `model.save()`. This file format is considered legacy. We recommend using instead the native Keras format, e.g. `model.save('my_model.keras')`.\n",
      "  saving_api.save_model(\n"
     ]
    },
    {
     "name": "stdout",
     "output_type": "stream",
     "text": [
      "34/34 [==============================] - 2s 36ms/step\n",
      "Training RF for MIL2 (sliderNeutralPos)\n",
      "Training CNN for MIL2 (sliderNeutralPos)\n",
      "Epoch 1/10\n",
      "134/134 [==============================] - 1s 6ms/step - loss: 1.6462 - accuracy: 0.3247\n",
      "Epoch 2/10\n",
      "134/134 [==============================] - 1s 6ms/step - loss: 1.4124 - accuracy: 0.4456\n",
      "Epoch 3/10\n",
      "134/134 [==============================] - 1s 6ms/step - loss: 1.2510 - accuracy: 0.5105\n",
      "Epoch 4/10\n",
      "134/134 [==============================] - 1s 6ms/step - loss: 1.1048 - accuracy: 0.5713\n",
      "Epoch 5/10\n",
      "134/134 [==============================] - 1s 7ms/step - loss: 0.9698 - accuracy: 0.6296\n",
      "Epoch 6/10\n",
      "134/134 [==============================] - 1s 6ms/step - loss: 0.8411 - accuracy: 0.6763\n",
      "Epoch 7/10\n",
      "134/134 [==============================] - 1s 6ms/step - loss: 0.7383 - accuracy: 0.7220\n",
      "Epoch 8/10\n",
      "134/134 [==============================] - 1s 6ms/step - loss: 0.6346 - accuracy: 0.7635\n",
      "Epoch 9/10\n",
      "134/134 [==============================] - 1s 6ms/step - loss: 0.5460 - accuracy: 0.8022\n",
      "Epoch 10/10\n",
      "134/134 [==============================] - 1s 6ms/step - loss: 0.4865 - accuracy: 0.8237\n",
      "34/34 [==============================] - 0s 2ms/step\n"
     ]
    },
    {
     "name": "stderr",
     "output_type": "stream",
     "text": [
      "/usr/local/lib/python3.10/dist-packages/keras/src/engine/training.py:3079: UserWarning: You are saving your model as an HDF5 file via `model.save()`. This file format is considered legacy. We recommend using instead the native Keras format, e.g. `model.save('my_model.keras')`.\n",
      "  saving_api.save_model(\n"
     ]
    },
    {
     "name": "stdout",
     "output_type": "stream",
     "text": [
      "Training LSTM for MIL2 (sliderNeutralPos)\n",
      "Epoch 1/10\n",
      "134/134 [==============================] - 19s 128ms/step - loss: 1.8374 - accuracy: 0.2508\n",
      "Epoch 2/10\n",
      "134/134 [==============================] - 17s 126ms/step - loss: 1.7060 - accuracy: 0.2496\n",
      "Epoch 3/10\n",
      "134/134 [==============================] - 17s 127ms/step - loss: 1.6995 - accuracy: 0.2424\n",
      "Epoch 4/10\n",
      "134/134 [==============================] - 17s 124ms/step - loss: 1.6884 - accuracy: 0.2543\n",
      "Epoch 5/10\n",
      "134/134 [==============================] - 17s 125ms/step - loss: 1.6880 - accuracy: 0.2543\n",
      "Epoch 6/10\n",
      "134/134 [==============================] - 17s 129ms/step - loss: 1.6859 - accuracy: 0.2321\n",
      "Epoch 7/10\n",
      "134/134 [==============================] - 17s 127ms/step - loss: 1.6818 - accuracy: 0.2562\n",
      "Epoch 8/10\n",
      "134/134 [==============================] - 17s 124ms/step - loss: 1.6790 - accuracy: 0.2588\n",
      "Epoch 9/10\n",
      "134/134 [==============================] - 17s 127ms/step - loss: 1.6728 - accuracy: 0.2712\n",
      "Epoch 10/10\n",
      "134/134 [==============================] - 16s 120ms/step - loss: 1.6774 - accuracy: 0.2504\n"
     ]
    },
    {
     "name": "stderr",
     "output_type": "stream",
     "text": [
      "/usr/local/lib/python3.10/dist-packages/keras/src/engine/training.py:3079: UserWarning: You are saving your model as an HDF5 file via `model.save()`. This file format is considered legacy. We recommend using instead the native Keras format, e.g. `model.save('my_model.keras')`.\n",
      "  saving_api.save_model(\n"
     ]
    },
    {
     "name": "stdout",
     "output_type": "stream",
     "text": [
      "34/34 [==============================] - 2s 32ms/step\n",
      "Training RF for MIL3 (sliderNeutralPos)\n",
      "Training CNN for MIL3 (sliderNeutralPos)\n",
      "Epoch 1/10\n",
      "134/134 [==============================] - 1s 6ms/step - loss: 1.7318 - accuracy: 0.3132\n",
      "Epoch 2/10\n",
      "134/134 [==============================] - 1s 6ms/step - loss: 1.4955 - accuracy: 0.4123\n",
      "Epoch 3/10\n",
      "134/134 [==============================] - 1s 6ms/step - loss: 1.3231 - accuracy: 0.4890\n",
      "Epoch 4/10\n",
      "134/134 [==============================] - 1s 6ms/step - loss: 1.1652 - accuracy: 0.5551\n",
      "Epoch 5/10\n",
      "134/134 [==============================] - 1s 6ms/step - loss: 1.0070 - accuracy: 0.6252\n",
      "Epoch 6/10\n",
      "134/134 [==============================] - 1s 6ms/step - loss: 0.8792 - accuracy: 0.6730\n",
      "Epoch 7/10\n",
      "134/134 [==============================] - 1s 6ms/step - loss: 0.7692 - accuracy: 0.7227\n",
      "Epoch 8/10\n",
      "134/134 [==============================] - 1s 6ms/step - loss: 0.6645 - accuracy: 0.7607\n",
      "Epoch 9/10\n",
      "134/134 [==============================] - 1s 6ms/step - loss: 0.5614 - accuracy: 0.7975\n",
      "Epoch 10/10\n",
      "134/134 [==============================] - 1s 6ms/step - loss: 0.4855 - accuracy: 0.8247\n",
      "34/34 [==============================] - 0s 2ms/step\n"
     ]
    },
    {
     "name": "stderr",
     "output_type": "stream",
     "text": [
      "/usr/local/lib/python3.10/dist-packages/keras/src/engine/training.py:3079: UserWarning: You are saving your model as an HDF5 file via `model.save()`. This file format is considered legacy. We recommend using instead the native Keras format, e.g. `model.save('my_model.keras')`.\n",
      "  saving_api.save_model(\n"
     ]
    },
    {
     "name": "stdout",
     "output_type": "stream",
     "text": [
      "Training LSTM for MIL3 (sliderNeutralPos)\n",
      "Epoch 1/10\n",
      "134/134 [==============================] - 19s 126ms/step - loss: 1.8980 - accuracy: 0.2375\n",
      "Epoch 2/10\n",
      "134/134 [==============================] - 15s 114ms/step - loss: 1.7767 - accuracy: 0.2504\n",
      "Epoch 3/10\n",
      "134/134 [==============================] - 15s 111ms/step - loss: 1.7676 - accuracy: 0.2492\n",
      "Epoch 4/10\n",
      "134/134 [==============================] - 15s 109ms/step - loss: 1.7506 - accuracy: 0.2579\n",
      "Epoch 5/10\n",
      "134/134 [==============================] - 16s 117ms/step - loss: 1.7470 - accuracy: 0.2579\n",
      "Epoch 6/10\n",
      "134/134 [==============================] - 16s 122ms/step - loss: 1.7350 - accuracy: 0.2679\n",
      "Epoch 7/10\n",
      "134/134 [==============================] - 16s 122ms/step - loss: 1.7308 - accuracy: 0.2621\n",
      "Epoch 8/10\n",
      "134/134 [==============================] - 17s 124ms/step - loss: 1.7247 - accuracy: 0.2703\n",
      "Epoch 9/10\n",
      "134/134 [==============================] - 15s 113ms/step - loss: 1.7178 - accuracy: 0.2698\n",
      "Epoch 10/10\n",
      "134/134 [==============================] - 15s 112ms/step - loss: 1.7142 - accuracy: 0.2846\n"
     ]
    },
    {
     "name": "stderr",
     "output_type": "stream",
     "text": [
      "/usr/local/lib/python3.10/dist-packages/keras/src/engine/training.py:3079: UserWarning: You are saving your model as an HDF5 file via `model.save()`. This file format is considered legacy. We recommend using instead the native Keras format, e.g. `model.save('my_model.keras')`.\n",
      "  saving_api.save_model(\n"
     ]
    },
    {
     "name": "stdout",
     "output_type": "stream",
     "text": [
      "34/34 [==============================] - 2s 35ms/step\n",
      "Training RF for MIL4 (sliderNeutralPos)\n",
      "Training CNN for MIL4 (sliderNeutralPos)\n",
      "Epoch 1/10\n",
      "134/134 [==============================] - 1s 6ms/step - loss: 1.7689 - accuracy: 0.3099\n",
      "Epoch 2/10\n",
      "134/134 [==============================] - 1s 6ms/step - loss: 1.4869 - accuracy: 0.4264\n",
      "Epoch 3/10\n",
      "134/134 [==============================] - 1s 6ms/step - loss: 1.3080 - accuracy: 0.4920\n",
      "Epoch 4/10\n",
      "134/134 [==============================] - 1s 6ms/step - loss: 1.1313 - accuracy: 0.5781\n",
      "Epoch 5/10\n",
      "134/134 [==============================] - 1s 6ms/step - loss: 0.9797 - accuracy: 0.6423\n",
      "Epoch 6/10\n",
      "134/134 [==============================] - 1s 6ms/step - loss: 0.8438 - accuracy: 0.6864\n",
      "Epoch 7/10\n",
      "134/134 [==============================] - 1s 6ms/step - loss: 0.7210 - accuracy: 0.7379\n",
      "Epoch 8/10\n",
      "134/134 [==============================] - 1s 6ms/step - loss: 0.6320 - accuracy: 0.7719\n",
      "Epoch 9/10\n",
      "134/134 [==============================] - 1s 6ms/step - loss: 0.5306 - accuracy: 0.8167\n",
      "Epoch 10/10\n",
      "134/134 [==============================] - 1s 6ms/step - loss: 0.4458 - accuracy: 0.8422\n",
      "34/34 [==============================] - 0s 2ms/step\n"
     ]
    },
    {
     "name": "stderr",
     "output_type": "stream",
     "text": [
      "/usr/local/lib/python3.10/dist-packages/keras/src/engine/training.py:3079: UserWarning: You are saving your model as an HDF5 file via `model.save()`. This file format is considered legacy. We recommend using instead the native Keras format, e.g. `model.save('my_model.keras')`.\n",
      "  saving_api.save_model(\n"
     ]
    },
    {
     "name": "stdout",
     "output_type": "stream",
     "text": [
      "Training LSTM for MIL4 (sliderNeutralPos)\n",
      "Epoch 1/10\n",
      "134/134 [==============================] - 19s 126ms/step - loss: 1.9847 - accuracy: 0.2105\n",
      "Epoch 2/10\n",
      "134/134 [==============================] - 16s 122ms/step - loss: 1.8718 - accuracy: 0.2126\n",
      "Epoch 3/10\n",
      "134/134 [==============================] - 16s 117ms/step - loss: 1.8545 - accuracy: 0.2372\n",
      "Epoch 4/10\n",
      "134/134 [==============================] - 16s 120ms/step - loss: 1.8394 - accuracy: 0.2506\n",
      "Epoch 5/10\n",
      "134/134 [==============================] - 17s 125ms/step - loss: 1.8337 - accuracy: 0.2602\n",
      "Epoch 6/10\n",
      "134/134 [==============================] - 17s 126ms/step - loss: 1.8277 - accuracy: 0.2520\n",
      "Epoch 7/10\n",
      "134/134 [==============================] - 17s 123ms/step - loss: 1.8175 - accuracy: 0.2604\n",
      "Epoch 8/10\n",
      "134/134 [==============================] - 16s 120ms/step - loss: 1.8094 - accuracy: 0.2647\n",
      "Epoch 9/10\n",
      "134/134 [==============================] - 15s 112ms/step - loss: 1.8032 - accuracy: 0.2574\n",
      "Epoch 10/10\n",
      "134/134 [==============================] - 16s 116ms/step - loss: 1.8038 - accuracy: 0.2717\n"
     ]
    },
    {
     "name": "stderr",
     "output_type": "stream",
     "text": [
      "/usr/local/lib/python3.10/dist-packages/keras/src/engine/training.py:3079: UserWarning: You are saving your model as an HDF5 file via `model.save()`. This file format is considered legacy. We recommend using instead the native Keras format, e.g. `model.save('my_model.keras')`.\n",
      "  saving_api.save_model(\n"
     ]
    },
    {
     "name": "stdout",
     "output_type": "stream",
     "text": [
      "34/34 [==============================] - 2s 35ms/step\n",
      "Training RF for MIL5 (sliderNeutralPos)\n",
      "Training CNN for MIL5 (sliderNeutralPos)\n",
      "Epoch 1/10\n",
      "134/134 [==============================] - 1s 6ms/step - loss: 1.7166 - accuracy: 0.3439\n",
      "Epoch 2/10\n",
      "134/134 [==============================] - 1s 6ms/step - loss: 1.4599 - accuracy: 0.4355\n",
      "Epoch 3/10\n",
      "134/134 [==============================] - 1s 6ms/step - loss: 1.2915 - accuracy: 0.5061\n",
      "Epoch 4/10\n",
      "134/134 [==============================] - 1s 6ms/step - loss: 1.1268 - accuracy: 0.5752\n",
      "Epoch 5/10\n",
      "134/134 [==============================] - 1s 6ms/step - loss: 0.9993 - accuracy: 0.6310\n",
      "Epoch 6/10\n",
      "134/134 [==============================] - 1s 6ms/step - loss: 0.8841 - accuracy: 0.6751\n",
      "Epoch 7/10\n",
      "134/134 [==============================] - 1s 6ms/step - loss: 0.7540 - accuracy: 0.7239\n",
      "Epoch 8/10\n",
      "134/134 [==============================] - 1s 6ms/step - loss: 0.6566 - accuracy: 0.7597\n",
      "Epoch 9/10\n",
      "134/134 [==============================] - 1s 6ms/step - loss: 0.5725 - accuracy: 0.7968\n",
      "Epoch 10/10\n",
      "134/134 [==============================] - 1s 6ms/step - loss: 0.5088 - accuracy: 0.8211\n",
      "34/34 [==============================] - 0s 2ms/step\n"
     ]
    },
    {
     "name": "stderr",
     "output_type": "stream",
     "text": [
      "/usr/local/lib/python3.10/dist-packages/keras/src/engine/training.py:3079: UserWarning: You are saving your model as an HDF5 file via `model.save()`. This file format is considered legacy. We recommend using instead the native Keras format, e.g. `model.save('my_model.keras')`.\n",
      "  saving_api.save_model(\n"
     ]
    },
    {
     "name": "stdout",
     "output_type": "stream",
     "text": [
      "Training LSTM for MIL5 (sliderNeutralPos)\n",
      "Epoch 1/10\n",
      "134/134 [==============================] - 19s 125ms/step - loss: 1.9352 - accuracy: 0.2391\n",
      "Epoch 2/10\n",
      "134/134 [==============================] - 17s 124ms/step - loss: 1.8168 - accuracy: 0.2637\n",
      "Epoch 3/10\n",
      "134/134 [==============================] - 17s 128ms/step - loss: 1.8050 - accuracy: 0.2635\n",
      "Epoch 4/10\n",
      "134/134 [==============================] - 17s 127ms/step - loss: 1.7925 - accuracy: 0.2787\n",
      "Epoch 5/10\n",
      "134/134 [==============================] - 17s 125ms/step - loss: 1.7811 - accuracy: 0.2860\n",
      "Epoch 6/10\n",
      "134/134 [==============================] - 17s 126ms/step - loss: 1.7690 - accuracy: 0.2897\n",
      "Epoch 7/10\n",
      "134/134 [==============================] - 17s 126ms/step - loss: 1.7616 - accuracy: 0.2916\n",
      "Epoch 8/10\n",
      "134/134 [==============================] - 17s 128ms/step - loss: 1.7508 - accuracy: 0.3050\n",
      "Epoch 9/10\n",
      "134/134 [==============================] - 17s 127ms/step - loss: 1.7443 - accuracy: 0.3059\n",
      "Epoch 10/10\n",
      "134/134 [==============================] - 17s 127ms/step - loss: 1.7250 - accuracy: 0.3190\n"
     ]
    },
    {
     "name": "stderr",
     "output_type": "stream",
     "text": [
      "/usr/local/lib/python3.10/dist-packages/keras/src/engine/training.py:3079: UserWarning: You are saving your model as an HDF5 file via `model.save()`. This file format is considered legacy. We recommend using instead the native Keras format, e.g. `model.save('my_model.keras')`.\n",
      "  saving_api.save_model(\n"
     ]
    },
    {
     "name": "stdout",
     "output_type": "stream",
     "text": [
      "34/34 [==============================] - 2s 35ms/step\n",
      "Training RF for PRO1 (sliderNeutralPos)\n",
      "Training CNN for PRO1 (sliderNeutralPos)\n",
      "Epoch 1/10\n",
      "134/134 [==============================] - 1s 6ms/step - loss: 2.0875 - accuracy: 0.2647\n",
      "Epoch 2/10\n",
      "134/134 [==============================] - 1s 6ms/step - loss: 1.8132 - accuracy: 0.3589\n",
      "Epoch 3/10\n",
      "134/134 [==============================] - 1s 6ms/step - loss: 1.5907 - accuracy: 0.4503\n",
      "Epoch 4/10\n",
      "134/134 [==============================] - 1s 6ms/step - loss: 1.3932 - accuracy: 0.5134\n",
      "Epoch 5/10\n",
      "134/134 [==============================] - 1s 6ms/step - loss: 1.1844 - accuracy: 0.5811\n",
      "Epoch 6/10\n",
      "134/134 [==============================] - 1s 6ms/step - loss: 1.0354 - accuracy: 0.6402\n",
      "Epoch 7/10\n",
      "134/134 [==============================] - 1s 6ms/step - loss: 0.8925 - accuracy: 0.7007\n",
      "Epoch 8/10\n",
      "134/134 [==============================] - 1s 6ms/step - loss: 0.7766 - accuracy: 0.7328\n",
      "Epoch 9/10\n",
      "134/134 [==============================] - 1s 6ms/step - loss: 0.6807 - accuracy: 0.7600\n",
      "Epoch 10/10\n",
      "134/134 [==============================] - 1s 6ms/step - loss: 0.5830 - accuracy: 0.8000\n",
      "23/34 [===================>..........] - ETA: 0s"
     ]
    },
    {
     "name": "stderr",
     "output_type": "stream",
     "text": [
      "/usr/local/lib/python3.10/dist-packages/keras/src/engine/training.py:3079: UserWarning: You are saving your model as an HDF5 file via `model.save()`. This file format is considered legacy. We recommend using instead the native Keras format, e.g. `model.save('my_model.keras')`.\n",
      "  saving_api.save_model(\n"
     ]
    },
    {
     "name": "stdout",
     "output_type": "stream",
     "text": [
      "34/34 [==============================] - 0s 2ms/step\n",
      "Training LSTM for PRO1 (sliderNeutralPos)\n",
      "Epoch 1/10\n",
      "134/134 [==============================] - 19s 127ms/step - loss: 2.2190 - accuracy: 0.1929\n",
      "Epoch 2/10\n",
      "134/134 [==============================] - 17s 127ms/step - loss: 2.1810 - accuracy: 0.2058\n",
      "Epoch 3/10\n",
      "134/134 [==============================] - 17s 127ms/step - loss: 2.1667 - accuracy: 0.2173\n",
      "Epoch 4/10\n",
      "134/134 [==============================] - 17s 126ms/step - loss: 2.1619 - accuracy: 0.2138\n",
      "Epoch 5/10\n",
      "134/134 [==============================] - 16s 122ms/step - loss: 2.1541 - accuracy: 0.2264\n",
      "Epoch 6/10\n",
      "134/134 [==============================] - 17s 125ms/step - loss: 2.1338 - accuracy: 0.2288\n",
      "Epoch 7/10\n",
      "134/134 [==============================] - 17s 125ms/step - loss: 2.1259 - accuracy: 0.2379\n",
      "Epoch 8/10\n",
      "134/134 [==============================] - 17s 124ms/step - loss: 2.1123 - accuracy: 0.2346\n",
      "Epoch 9/10\n",
      "134/134 [==============================] - 16s 122ms/step - loss: 2.0997 - accuracy: 0.2393\n",
      "Epoch 10/10\n",
      "134/134 [==============================] - 17s 126ms/step - loss: 2.0825 - accuracy: 0.2480\n"
     ]
    },
    {
     "name": "stderr",
     "output_type": "stream",
     "text": [
      "/usr/local/lib/python3.10/dist-packages/keras/src/engine/training.py:3079: UserWarning: You are saving your model as an HDF5 file via `model.save()`. This file format is considered legacy. We recommend using instead the native Keras format, e.g. `model.save('my_model.keras')`.\n",
      "  saving_api.save_model(\n"
     ]
    },
    {
     "name": "stdout",
     "output_type": "stream",
     "text": [
      "34/34 [==============================] - 2s 36ms/step\n",
      "Training RF for PRO2 (sliderNeutralPos)\n",
      "Training CNN for PRO2 (sliderNeutralPos)\n",
      "Epoch 1/10\n",
      "134/134 [==============================] - 1s 6ms/step - loss: 2.0159 - accuracy: 0.2600\n",
      "Epoch 2/10\n",
      "134/134 [==============================] - 1s 6ms/step - loss: 1.7094 - accuracy: 0.3823\n",
      "Epoch 3/10\n",
      "134/134 [==============================] - 1s 6ms/step - loss: 1.4749 - accuracy: 0.4761\n",
      "Epoch 4/10\n",
      "134/134 [==============================] - 1s 6ms/step - loss: 1.2517 - accuracy: 0.5537\n",
      "Epoch 5/10\n",
      "134/134 [==============================] - 1s 6ms/step - loss: 1.0502 - accuracy: 0.6289\n",
      "Epoch 6/10\n",
      "134/134 [==============================] - 1s 6ms/step - loss: 0.8981 - accuracy: 0.6847\n",
      "Epoch 7/10\n",
      "134/134 [==============================] - 1s 6ms/step - loss: 0.7476 - accuracy: 0.7346\n",
      "Epoch 8/10\n",
      "134/134 [==============================] - 1s 6ms/step - loss: 0.6422 - accuracy: 0.7722\n",
      "Epoch 9/10\n",
      "134/134 [==============================] - 1s 6ms/step - loss: 0.5359 - accuracy: 0.8129\n",
      "Epoch 10/10\n",
      "134/134 [==============================] - 1s 6ms/step - loss: 0.4649 - accuracy: 0.8364\n",
      "34/34 [==============================] - 0s 2ms/step\n"
     ]
    },
    {
     "name": "stderr",
     "output_type": "stream",
     "text": [
      "/usr/local/lib/python3.10/dist-packages/keras/src/engine/training.py:3079: UserWarning: You are saving your model as an HDF5 file via `model.save()`. This file format is considered legacy. We recommend using instead the native Keras format, e.g. `model.save('my_model.keras')`.\n",
      "  saving_api.save_model(\n"
     ]
    },
    {
     "name": "stdout",
     "output_type": "stream",
     "text": [
      "Training LSTM for PRO2 (sliderNeutralPos)\n",
      "Epoch 1/10\n",
      "134/134 [==============================] - 19s 127ms/step - loss: 2.2163 - accuracy: 0.1746\n",
      "Epoch 2/10\n",
      "134/134 [==============================] - 17s 129ms/step - loss: 2.1517 - accuracy: 0.1828\n",
      "Epoch 3/10\n",
      "134/134 [==============================] - 17s 126ms/step - loss: 2.1386 - accuracy: 0.1866\n",
      "Epoch 4/10\n",
      "134/134 [==============================] - 16s 121ms/step - loss: 2.1358 - accuracy: 0.1943\n",
      "Epoch 5/10\n",
      "134/134 [==============================] - 16s 121ms/step - loss: 2.1261 - accuracy: 0.1948\n",
      "Epoch 6/10\n",
      "134/134 [==============================] - 16s 121ms/step - loss: 2.1160 - accuracy: 0.2086\n",
      "Epoch 7/10\n",
      "134/134 [==============================] - 17s 124ms/step - loss: 2.1134 - accuracy: 0.2152\n",
      "Epoch 8/10\n",
      "134/134 [==============================] - 16s 123ms/step - loss: 2.1447 - accuracy: 0.1875\n",
      "Epoch 9/10\n",
      "134/134 [==============================] - 17s 127ms/step - loss: 2.1273 - accuracy: 0.1899\n",
      "Epoch 10/10\n",
      "134/134 [==============================] - 17s 127ms/step - loss: 2.1168 - accuracy: 0.2089\n"
     ]
    },
    {
     "name": "stderr",
     "output_type": "stream",
     "text": [
      "/usr/local/lib/python3.10/dist-packages/keras/src/engine/training.py:3079: UserWarning: You are saving your model as an HDF5 file via `model.save()`. This file format is considered legacy. We recommend using instead the native Keras format, e.g. `model.save('my_model.keras')`.\n",
      "  saving_api.save_model(\n"
     ]
    },
    {
     "name": "stdout",
     "output_type": "stream",
     "text": [
      "34/34 [==============================] - 2s 36ms/step\n",
      "Training RF for PRO3 (sliderNeutralPos)\n",
      "Training CNN for PRO3 (sliderNeutralPos)\n",
      "Epoch 1/10\n",
      "134/134 [==============================] - 1s 6ms/step - loss: 2.0018 - accuracy: 0.2614\n",
      "Epoch 2/10\n",
      "134/134 [==============================] - 1s 6ms/step - loss: 1.7065 - accuracy: 0.3737\n",
      "Epoch 3/10\n",
      "134/134 [==============================] - 1s 6ms/step - loss: 1.4858 - accuracy: 0.4566\n",
      "Epoch 4/10\n",
      "134/134 [==============================] - 1s 6ms/step - loss: 1.2806 - accuracy: 0.5370\n",
      "Epoch 5/10\n",
      "134/134 [==============================] - 1s 6ms/step - loss: 1.0791 - accuracy: 0.6151\n",
      "Epoch 6/10\n",
      "134/134 [==============================] - 1s 6ms/step - loss: 0.9334 - accuracy: 0.6669\n",
      "Epoch 7/10\n",
      "134/134 [==============================] - 1s 6ms/step - loss: 0.7929 - accuracy: 0.7154\n",
      "Epoch 8/10\n",
      "134/134 [==============================] - 1s 6ms/step - loss: 0.6854 - accuracy: 0.7536\n",
      "Epoch 9/10\n",
      "134/134 [==============================] - 1s 6ms/step - loss: 0.5773 - accuracy: 0.7925\n",
      "Epoch 10/10\n",
      "134/134 [==============================] - 1s 6ms/step - loss: 0.5185 - accuracy: 0.8230\n",
      "34/34 [==============================] - 0s 2ms/step\n"
     ]
    },
    {
     "name": "stderr",
     "output_type": "stream",
     "text": [
      "/usr/local/lib/python3.10/dist-packages/keras/src/engine/training.py:3079: UserWarning: You are saving your model as an HDF5 file via `model.save()`. This file format is considered legacy. We recommend using instead the native Keras format, e.g. `model.save('my_model.keras')`.\n",
      "  saving_api.save_model(\n"
     ]
    },
    {
     "name": "stdout",
     "output_type": "stream",
     "text": [
      "Training LSTM for PRO3 (sliderNeutralPos)\n",
      "Epoch 1/10\n",
      "134/134 [==============================] - 19s 126ms/step - loss: 2.1611 - accuracy: 0.1932\n",
      "Epoch 2/10\n",
      "134/134 [==============================] - 15s 114ms/step - loss: 2.0865 - accuracy: 0.2011\n",
      "Epoch 3/10\n",
      "134/134 [==============================] - 16s 117ms/step - loss: 2.0820 - accuracy: 0.1988\n",
      "Epoch 4/10\n",
      "134/134 [==============================] - 16s 122ms/step - loss: 2.0654 - accuracy: 0.2039\n",
      "Epoch 5/10\n",
      "134/134 [==============================] - 17s 125ms/step - loss: 2.0575 - accuracy: 0.2110\n",
      "Epoch 6/10\n",
      "134/134 [==============================] - 17s 127ms/step - loss: 2.0464 - accuracy: 0.2150\n",
      "Epoch 7/10\n",
      "134/134 [==============================] - 17s 124ms/step - loss: 2.0439 - accuracy: 0.2236\n",
      "Epoch 8/10\n",
      "134/134 [==============================] - 17s 124ms/step - loss: 2.0305 - accuracy: 0.2253\n",
      "Epoch 9/10\n",
      "134/134 [==============================] - 17s 125ms/step - loss: 2.0219 - accuracy: 0.2255\n",
      "Epoch 10/10\n",
      "134/134 [==============================] - 17s 125ms/step - loss: 2.0235 - accuracy: 0.2274\n"
     ]
    },
    {
     "name": "stderr",
     "output_type": "stream",
     "text": [
      "/usr/local/lib/python3.10/dist-packages/keras/src/engine/training.py:3079: UserWarning: You are saving your model as an HDF5 file via `model.save()`. This file format is considered legacy. We recommend using instead the native Keras format, e.g. `model.save('my_model.keras')`.\n",
      "  saving_api.save_model(\n"
     ]
    },
    {
     "name": "stdout",
     "output_type": "stream",
     "text": [
      "34/34 [==============================] - 2s 37ms/step\n"
     ]
    },
    {
     "name": "stderr",
     "output_type": "stream",
     "text": [
      "Processing Folds: 100%|██████████| 5/5 [6:03:59<00:00, 4367.83s/it]  "
     ]
    },
    {
     "name": "stdout",
     "output_type": "stream",
     "text": [
      "Model training results saved to folds_transformed_models/fold_model_transformed_performance_results.csv\n"
     ]
    },
    {
     "name": "stderr",
     "output_type": "stream",
     "text": [
      "\n"
     ]
    }
   ],
   "source": [
    "import os\n",
    "import pickle\n",
    "import pandas as pd\n",
    "import numpy as np\n",
    "from sklearn.ensemble import RandomForestClassifier\n",
    "from sklearn.metrics import accuracy_score, classification_report, f1_score, precision_score, recall_score\n",
    "from tensorflow.keras.models import Sequential, load_model\n",
    "from tensorflow.keras.layers import Dense, Conv1D, Flatten, LSTM, Dropout\n",
    "from tensorflow.keras.optimizers import Adam\n",
    "from tqdm import tqdm\n",
    "\n",
    "data_dir = \"folds_transformed\"\n",
    "root_dir = \"folds_transformed_models\"\n",
    "\n",
    "# Helper function to calculate top-3 accuracy\n",
    "def calculate_top3_accuracy(y_true, y_probs):\n",
    "    top_3_preds = np.argsort(y_probs, axis=1)[:, -3:]\n",
    "    matches = [y_true[i] in top_3_preds[i] for i in range(len(y_true))]\n",
    "    return np.mean(matches)\n",
    "\n",
    "def calculate_threshold_accuracy(y_true, y_pred):\n",
    "    return np.mean(np.abs(y_true - y_pred) <= 1)\n",
    "\n",
    "def evaluate_metrics(y_true, y_pred, y_probs=None):\n",
    "    metrics = {\n",
    "        'accuracy': accuracy_score(y_true, y_pred),\n",
    "        'precision': precision_score(y_true, y_pred, average='weighted', zero_division=0),\n",
    "        'recall': recall_score(y_true, y_pred, average='weighted', zero_division=0),\n",
    "        'f1_score': f1_score(y_true, y_pred, average='weighted'),\n",
    "        'classification_report': classification_report(y_true, y_pred, zero_division=0),\n",
    "        'threshold_accuracy': calculate_threshold_accuracy(y_true, y_pred)\n",
    "    }\n",
    "    if y_probs is not None:\n",
    "        metrics['top_3_accuracy'] = calculate_top3_accuracy(y_true, y_probs)\n",
    "    return metrics\n",
    "\n",
    "def load_data(file_path):\n",
    "    print(f\"Loading data from: {file_path}\")\n",
    "    data = pd.read_csv(file_path)\n",
    "    label_columns = [col for col in data.columns if \"slider\" in col]\n",
    "    feature_columns = [col for col in data.columns if col not in label_columns + [\"Timestamp\", \"participant_id\"]]\n",
    "    X = data[feature_columns]\n",
    "    return X, label_columns, data\n",
    "\n",
    "def train_model_per_label(X_train, y_train, X_test, y_test, model_save_path, label_name, model_type):\n",
    "    os.makedirs(model_save_path, exist_ok=True)\n",
    "    \n",
    "    model_file = os.path.join(model_save_path, f\"{model_type}_{label_name}.{'pkl' if model_type == 'rf' else 'h5'}\")\n",
    "    \n",
    "    if os.path.exists(model_file):\n",
    "        print(f\"Skipping {model_type.upper()} for {label_name}, already trained.\")\n",
    "        return None\n",
    "    \n",
    "    print(f\"Training {model_type.upper()} for {label_name}\")\n",
    "    \n",
    "    if model_type == \"rf\":\n",
    "        model = RandomForestClassifier(random_state=42, n_jobs=-1)\n",
    "        model.fit(X_train, y_train)\n",
    "        y_pred = model.predict(X_test)\n",
    "        y_probs = model.predict_proba(X_test) if hasattr(model, 'predict_proba') else None\n",
    "        with open(model_file, \"wb\") as f:\n",
    "            pickle.dump(model, f)\n",
    "    else:\n",
    "        input_shape = (X_train.shape[1], 1)\n",
    "        X_train, X_test = np.expand_dims(X_train, axis=2), np.expand_dims(X_test, axis=2)\n",
    "        \n",
    "        model = Sequential()\n",
    "        if model_type == \"cnn\":\n",
    "            model.add(Conv1D(64, kernel_size=3, activation=\"relu\", input_shape=input_shape))\n",
    "            model.add(Conv1D(32, kernel_size=3, activation=\"relu\"))\n",
    "            model.add(Flatten())\n",
    "        else:  # LSTM\n",
    "            model.add(LSTM(64, return_sequences=True, input_shape=input_shape))\n",
    "            model.add(LSTM(32))\n",
    "        \n",
    "        model.add(Dense(128, activation=\"relu\"))\n",
    "        model.add(Dropout(0.3))\n",
    "        model.add(Dense(11, activation=\"softmax\"))\n",
    "        \n",
    "        model.compile(optimizer=Adam(0.001), loss=\"sparse_categorical_crossentropy\", metrics=[\"accuracy\"])\n",
    "        model.fit(X_train, y_train, epochs=10, batch_size=32, verbose=1)\n",
    "        model.save(model_file)\n",
    "        y_probs = model.predict(X_test)\n",
    "        y_pred = y_probs.argmax(axis=1)\n",
    "    \n",
    "    return evaluate_metrics(y_test, y_pred, y_probs)\n",
    "\n",
    "def train_all_models():\n",
    "    results = []\n",
    "    folds = sorted(set(f.split(\"_\")[1] for f in os.listdir(data_dir) if f.endswith(\".csv\")))\n",
    "\n",
    "    for fold in tqdm(folds, desc=\"Processing Folds\"):\n",
    "        for data_type in [\"pca\", \"scaled\"]:\n",
    "            train_file = os.path.join(data_dir, f\"fold_{fold}_train_{data_type}.csv\")\n",
    "            test_file = os.path.join(data_dir, f\"fold_{fold}_test_{data_type}.csv\")\n",
    "            \n",
    "            if not os.path.exists(train_file) or not os.path.exists(test_file):\n",
    "                print(f\"Skipping fold {fold} ({data_type}): Missing train or test data\")\n",
    "                continue\n",
    "            \n",
    "            X_train, label_columns, train_data = load_data(train_file)\n",
    "            X_test, _, test_data = load_data(test_file)\n",
    "            \n",
    "            for label_column in label_columns:\n",
    "                fold_save_dir = os.path.join(root_dir, f\"fold_{fold}\", data_type, label_column)\n",
    "                \n",
    "                for model_type in [\"rf\", \"cnn\", \"lstm\"]:\n",
    "                    results_dir = os.path.join(fold_save_dir, model_type)\n",
    "                    model_results = train_model_per_label(X_train, train_data[label_column], X_test, test_data[label_column], results_dir, label_column, model_type)\n",
    "                    \n",
    "                    if model_results:\n",
    "                        results.append({\"Fold\": fold, \"DataType\": data_type, \"Label\": label_column, \"Model\": model_type.upper(), **model_results})\n",
    "    \n",
    "    results_df = pd.DataFrame(results)\n",
    "    results_csv_path = os.path.join(root_dir, \"fold_model_transformed_performance_results.csv\")\n",
    "    results_df.to_csv(results_csv_path, index=False)\n",
    "    print(f\"Model training results saved to {results_csv_path}\")\n",
    "\n",
    "if __name__ == \"__main__\":\n",
    "    train_all_models()\n"
   ]
  },
  {
   "cell_type": "code",
   "execution_count": null,
   "id": "7e5853ae-9bc1-476e-ab32-1ed1f7d9f7e1",
   "metadata": {},
   "outputs": [],
   "source": []
  }
 ],
 "metadata": {
  "kernelspec": {
   "display_name": "Python",
   "language": "python",
   "name": "python3"
  },
  "language_info": {
   "codemirror_mode": {
    "name": "ipython",
    "version": 3
   },
   "file_extension": ".py",
   "mimetype": "text/x-python",
   "name": "python",
   "nbconvert_exporter": "python",
   "pygments_lexer": "ipython3",
   "version": "3.10.12"
  }
 },
 "nbformat": 4,
 "nbformat_minor": 5
}
