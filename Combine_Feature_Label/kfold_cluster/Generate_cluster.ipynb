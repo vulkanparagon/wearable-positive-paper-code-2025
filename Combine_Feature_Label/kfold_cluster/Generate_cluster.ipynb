{
 "cells": [
  {
   "cell_type": "code",
   "execution_count": 3,
   "id": "76182caa-7642-4a61-b4f5-43d8b0a9cd79",
   "metadata": {
    "tags": []
   },
   "outputs": [
    {
     "name": "stdout",
     "output_type": "stream",
     "text": [
      "Processed dataset saved at: processed_dataset_with_clusters.csv\n"
     ]
    }
   ],
   "source": [
    "import pandas as pd\n",
    "\n",
    "# Load the dataset\n",
    "file_path = \"cleaned_dataset.csv\"\n",
    "df = pd.read_csv(file_path)\n",
    "\n",
    "# Identify survey response columns\n",
    "cluster_mapping = {\n",
    "    \"Positive_Emotions\": [\"P1 (sliderNeutralPos)\", \"P2 (sliderNeutralPos)\", \"P3 (sliderNeutralPos)\"],\n",
    "    \"Negative_Emotions\": [\"N1 (sliderNeutralPos)\", \"N2 (sliderNeutralPos)\", \"N3 (sliderNeutralPos)\"],\n",
    "    \"Self_Esteem\": [\"SE1 (sliderNegPos)\", \"SE2 (sliderNeutralPos)\", \"SE3 (sliderNeutralPos)\", \"SE4 (sliderNeutralPos)\"],\n",
    "    \"Meaning_in_Life\": [\"MIL1 (sliderNegPos)\", \"MIL2 (sliderNeutralPos)\", \"MIL3 (sliderNeutralPos)\", \"MIL4 (sliderNeutralPos)\", \"MIL5 (sliderNeutralPos)\"],\n",
    "    \"Social_Support\": [\"PRO1 (sliderNeutralPos)\", \"PRO2 (sliderNeutralPos)\", \"PRO3 (sliderNeutralPos)\"]\n",
    "}\n",
    "\n",
    "# Compute cluster-based labels by averaging relevant columns\n",
    "df_clustered = df.copy()\n",
    "for cluster, cols in cluster_mapping.items():\n",
    "    df_clustered[cluster] = df[cols].mean(axis=1)\n",
    "\n",
    "# Drop original survey response columns\n",
    "df_clustered.drop(columns=[col for cols in cluster_mapping.values() for col in cols], inplace=True)\n",
    "\n",
    "# Save the processed dataset with new clustered labels\n",
    "processed_file_path = \"processed_dataset_with_clusters.csv\"\n",
    "df_clustered.to_csv(processed_file_path, index=False)\n",
    "\n",
    "print(f\"Processed dataset saved at: {processed_file_path}\")\n"
   ]
  },
  {
   "cell_type": "code",
   "execution_count": null,
   "id": "d682e8a0-56fb-433e-ba7c-38f79b626b75",
   "metadata": {},
   "outputs": [],
   "source": []
  }
 ],
 "metadata": {
  "kernelspec": {
   "display_name": "Python",
   "language": "python",
   "name": "python3"
  },
  "language_info": {
   "codemirror_mode": {
    "name": "ipython",
    "version": 3
   },
   "file_extension": ".py",
   "mimetype": "text/x-python",
   "name": "python",
   "nbconvert_exporter": "python",
   "pygments_lexer": "ipython3",
   "version": "3.10.12"
  }
 },
 "nbformat": 4,
 "nbformat_minor": 5
}
