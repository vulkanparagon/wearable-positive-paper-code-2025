{
 "cells": [
  {
   "cell_type": "code",
   "execution_count": 4,
   "id": "4a200bcf-894b-4d01-b37f-a1aa28f7e353",
   "metadata": {
    "tags": []
   },
   "outputs": [
    {
     "name": "stdout",
     "output_type": "stream",
     "text": [
      "Saved PCA and Scaler models.\n",
      "Saved PCA processed files: 5fold_splits_pca/train_fold_0_pca.csv and 5fold_splits_pca/test_fold_0_pca.csv\n",
      "Saved PCA processed files: 5fold_splits_pca/train_fold_1_pca.csv and 5fold_splits_pca/test_fold_1_pca.csv\n",
      "Saved PCA processed files: 5fold_splits_pca/train_fold_2_pca.csv and 5fold_splits_pca/test_fold_2_pca.csv\n",
      "Saved PCA processed files: 5fold_splits_pca/train_fold_3_pca.csv and 5fold_splits_pca/test_fold_3_pca.csv\n",
      "Saved PCA processed files: 5fold_splits_pca/train_fold_4_pca.csv and 5fold_splits_pca/test_fold_4_pca.csv\n"
     ]
    }
   ],
   "source": [
    "from sklearn.decomposition import PCA\n",
    "from sklearn.preprocessing import StandardScaler\n",
    "import joblib\n",
    "import os\n",
    "import pandas as pd\n",
    "import numpy as np\n",
    "\n",
    "# Directory paths\n",
    "data_dir = \"5fold_splits\"\n",
    "processed_data_dir = \"5fold_splits_pca\"\n",
    "os.makedirs(processed_data_dir, exist_ok=True)\n",
    "\n",
    "# Define target aspects\n",
    "target_aspects = [\"Positive_Emotions\", \"Negative_Emotions\", \"Self_Esteem\", \"Meaning_in_Life\", \"Social_Support\"]\n",
    "\n",
    "# Fit PCA on the first training fold and save the model\n",
    "first_train_file = os.path.join(data_dir, \"train_fold_0.csv\")\n",
    "first_train_df = pd.read_csv(first_train_file)\n",
    "feature_cols = [col for col in first_train_df.columns if col not in [\"participant_id\"] + target_aspects]\n",
    "\n",
    "# Standardize features\n",
    "scaler = StandardScaler()\n",
    "train_scaled = scaler.fit_transform(first_train_df[feature_cols])\n",
    "\n",
    "# Fit PCA\n",
    "pca = PCA(n_components=0.95)  # Keep 95% variance\n",
    "train_pca = pca.fit_transform(train_scaled)\n",
    "\n",
    "# Save PCA and scaler models\n",
    "joblib.dump(pca, os.path.join(processed_data_dir, \"pca_model.pkl\"))\n",
    "joblib.dump(scaler, os.path.join(processed_data_dir, \"scaler.pkl\"))\n",
    "print(\"Saved PCA and Scaler models.\")\n",
    "\n",
    "# Apply the same PCA to all folds\n",
    "for fold in range(5):\n",
    "    train_file = os.path.join(data_dir, f\"train_fold_{fold}.csv\")\n",
    "    test_file = os.path.join(data_dir, f\"test_fold_{fold}.csv\")\n",
    "\n",
    "    train_df = pd.read_csv(train_file)\n",
    "    test_df = pd.read_csv(test_file)\n",
    "\n",
    "    # Standardize using the same scaler\n",
    "    train_scaled = scaler.transform(train_df[feature_cols])\n",
    "    test_scaled = scaler.transform(test_df[feature_cols])\n",
    "\n",
    "    # Apply PCA using the same model\n",
    "    train_pca = pca.transform(train_scaled)\n",
    "    test_pca = pca.transform(test_scaled)\n",
    "\n",
    "    # Convert back to DataFrame\n",
    "    pca_feature_names = [f\"PC{i+1}\" for i in range(train_pca.shape[1])]\n",
    "    train_pca_df = pd.DataFrame(train_pca, columns=pca_feature_names)\n",
    "    test_pca_df = pd.DataFrame(test_pca, columns=pca_feature_names)\n",
    "\n",
    "    # Add target variables and participant IDs back\n",
    "    train_pca_df[target_aspects] = train_df[target_aspects].reset_index(drop=True)\n",
    "    train_pca_df[\"participant_id\"] = train_df[\"participant_id\"].reset_index(drop=True)\n",
    "\n",
    "    test_pca_df[target_aspects] = test_df[target_aspects].reset_index(drop=True)\n",
    "    test_pca_df[\"participant_id\"] = test_df[\"participant_id\"].reset_index(drop=True)\n",
    "\n",
    "    # Save processed files\n",
    "    train_pca_file = os.path.join(processed_data_dir, f\"train_fold_{fold}_pca.csv\")\n",
    "    test_pca_file = os.path.join(processed_data_dir, f\"test_fold_{fold}_pca.csv\")\n",
    "\n",
    "    train_pca_df.to_csv(train_pca_file, index=False)\n",
    "    test_pca_df.to_csv(test_pca_file, index=False)\n",
    "\n",
    "    print(f\"Saved PCA processed files: {train_pca_file} and {test_pca_file}\")\n"
   ]
  },
  {
   "cell_type": "code",
   "execution_count": null,
   "id": "b3ed0d1e-6b0a-45ad-a041-c2ed4c90c0b0",
   "metadata": {},
   "outputs": [],
   "source": []
  }
 ],
 "metadata": {
  "kernelspec": {
   "display_name": "Python",
   "language": "python",
   "name": "python3"
  },
  "language_info": {
   "codemirror_mode": {
    "name": "ipython",
    "version": 3
   },
   "file_extension": ".py",
   "mimetype": "text/x-python",
   "name": "python",
   "nbconvert_exporter": "python",
   "pygments_lexer": "ipython3",
   "version": "3.10.12"
  }
 },
 "nbformat": 4,
 "nbformat_minor": 5
}
