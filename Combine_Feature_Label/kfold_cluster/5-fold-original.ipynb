{
 "cells": [
  {
   "cell_type": "code",
   "execution_count": 3,
   "id": "085a884f-6767-4951-b954-9287c1b0397e",
   "metadata": {
    "tags": []
   },
   "outputs": [
    {
     "name": "stdout",
     "output_type": "stream",
     "text": [
      "Saved fold 0: train (4163) and test (1188)\n",
      "Saved fold 1: train (4316) and test (1035)\n",
      "Saved fold 2: train (4249) and test (1102)\n",
      "Saved fold 3: train (4320) and test (1031)\n",
      "Saved fold 4: train (4356) and test (995)\n"
     ]
    }
   ],
   "source": [
    "import os\n",
    "import pandas as pd\n",
    "from sklearn.model_selection import KFold\n",
    "\n",
    "# Load the clustered dataset and participant ID dataset\n",
    "clustered_file_path = \"processed_dataset_with_clusters.csv\"\n",
    "participant_file_path = \"combined_data_imputed.csv\"\n",
    "\n",
    "df_clustered = pd.read_csv(clustered_file_path)\n",
    "df_participants = pd.read_csv(participant_file_path)\n",
    "\n",
    "# Ensure both datasets have the same number of rows\n",
    "assert len(df_clustered) == len(df_participants), \"Mismatch in row numbers between datasets\"\n",
    "\n",
    "# Add participant IDs to the clustered dataset\n",
    "df_clustered[\"participant_id\"] = df_participants[\"participant_id\"]\n",
    "\n",
    "# Create output directory if it doesn't exist\n",
    "output_dir = \"5fold_splits\"\n",
    "os.makedirs(output_dir, exist_ok=True)\n",
    "\n",
    "# Perform 5-fold split ensuring no data leakage within participants\n",
    "kf = KFold(n_splits=5, shuffle=True, random_state=42)\n",
    "\n",
    "for fold, (train_idx, test_idx) in enumerate(kf.split(df_participants[\"participant_id\"].unique())):\n",
    "    train_participants = df_participants[\"participant_id\"].unique()[train_idx]\n",
    "    test_participants = df_participants[\"participant_id\"].unique()[test_idx]\n",
    "    \n",
    "    train_data = df_clustered[df_clustered[\"participant_id\"].isin(train_participants)]\n",
    "    test_data = df_clustered[df_clustered[\"participant_id\"].isin(test_participants)]\n",
    "    \n",
    "    train_file = os.path.join(output_dir, f\"train_fold_{fold}.csv\")\n",
    "    test_file = os.path.join(output_dir, f\"test_fold_{fold}.csv\")\n",
    "    \n",
    "    train_data.to_csv(train_file, index=False)\n",
    "    test_data.to_csv(test_file, index=False)\n",
    "    \n",
    "    print(f\"Saved fold {fold}: train ({len(train_data)}) and test ({len(test_data)})\")\n"
   ]
  },
  {
   "cell_type": "code",
   "execution_count": null,
   "id": "abf7589f-752c-4b00-b75e-bb03682c0d9f",
   "metadata": {},
   "outputs": [],
   "source": []
  }
 ],
 "metadata": {
  "kernelspec": {
   "display_name": "Python",
   "language": "python",
   "name": "python3"
  },
  "language_info": {
   "codemirror_mode": {
    "name": "ipython",
    "version": 3
   },
   "file_extension": ".py",
   "mimetype": "text/x-python",
   "name": "python",
   "nbconvert_exporter": "python",
   "pygments_lexer": "ipython3",
   "version": "3.10.12"
  }
 },
 "nbformat": 4,
 "nbformat_minor": 5
}
